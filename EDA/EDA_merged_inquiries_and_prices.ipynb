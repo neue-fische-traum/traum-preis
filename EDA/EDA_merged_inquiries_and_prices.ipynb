{
 "cells": [
  {
   "cell_type": "markdown",
   "source": [
    "# Merge for InquiryandPrices Dataset\n",
    "\n",
    "Initial look at data and data cleaning"
   ],
   "metadata": {}
  },
  {
   "cell_type": "markdown",
   "source": [
    "## Import necassary libraries"
   ],
   "metadata": {}
  },
  {
   "cell_type": "code",
   "execution_count": null,
   "source": [
    "# Import necassary libraries\n",
    "import pandas as pd\n",
    "import numpy as np\n",
    "import matplotlib.pyplot as plt\n",
    "import seaborn as sns\n",
    "import statsmodels.formula.api as smf\n",
    "from scipy import stats"
   ],
   "outputs": [],
   "metadata": {}
  },
  {
   "cell_type": "code",
   "execution_count": null,
   "source": [
    "#Load datasets\n",
    "df_prices = pd.read_csv('../data/prices_dataset.csv')\n",
    "\n",
    "df_inquiries = pd.read_csv('../data/master_inquiries_20210715.csv')"
   ],
   "outputs": [],
   "metadata": {}
  },
  {
   "cell_type": "markdown",
   "source": [
    "## Correcting date and time formatting."
   ],
   "metadata": {}
  },
  {
   "cell_type": "code",
   "execution_count": null,
   "source": [
    "df_prices['date_from'] = pd.to_datetime(df_prices['date_from'], errors = 'coerce')\n",
    "df_prices['date_to'] = pd.to_datetime(df_prices['date_to'], errors = 'coerce')\n",
    "df_inquiries['date'] = pd.to_datetime(df_inquiries['time'], errors = 'coerce')\n",
    "df_inquiries['time'] = pd.to_datetime(df_inquiries['date'], errors = 'coerce')\n",
    "df_inquiries['arrival_date'] = pd.to_datetime(df_inquiries['arrival_date'], errors = 'coerce')\n",
    "df_inquiries['departure_date'] = pd.to_datetime(df_inquiries['departure_date'], errors = 'coerce')"
   ],
   "outputs": [],
   "metadata": {}
  },
  {
   "cell_type": "markdown",
   "source": [
    "## Initial look at datasets\n"
   ],
   "metadata": {}
  },
  {
   "cell_type": "code",
   "execution_count": null,
   "source": [
    "df_inquiries.head()"
   ],
   "outputs": [],
   "metadata": {}
  },
  {
   "cell_type": "code",
   "execution_count": null,
   "source": [
    "df_prices.head() "
   ],
   "outputs": [],
   "metadata": {}
  },
  {
   "cell_type": "markdown",
   "source": [
    "## Deleting empty columns"
   ],
   "metadata": {}
  },
  {
   "cell_type": "code",
   "execution_count": null,
   "source": [
    "del df_inquiries['Unnamed: 0']\n",
    "del df_prices['Unnamed: 0']"
   ],
   "outputs": [],
   "metadata": {}
  },
  {
   "cell_type": "markdown",
   "source": [
    "## Merging datasets"
   ],
   "metadata": {}
  },
  {
   "cell_type": "code",
   "execution_count": null,
   "source": [
    "df_master = pd.merge(df_inquiries, df_prices, on='listing_id', how='outer', suffixes=('','_key'))\n",
    "df_master = df_master[(df_master.arrival_date >= df_master.date_from) & (df_master.arrival_date <= df_master.date_to)]\n",
    "df_master = pd.merge(df_inquiries, df_master, on=[\n",
    "    'listing_id', 'date'], how='left')\n",
    "df_master"
   ],
   "outputs": [],
   "metadata": {}
  },
  {
   "cell_type": "code",
   "execution_count": null,
   "source": [
    "df_inquiries.columns"
   ],
   "outputs": [],
   "metadata": {}
  },
  {
   "cell_type": "code",
   "execution_count": null,
   "source": [
    "df_master = df_master.drop(['title_y', 'time_y', 'adult_count_y', 'children_count_y',\n",
    "       'pets_count_y', 'arrival_date_y', 'departure_date_y', 'inquiry_price_y',\n",
    "       'length_stay_y'], axis=1)"
   ],
   "outputs": [],
   "metadata": {}
  },
  {
   "cell_type": "code",
   "execution_count": null,
   "source": [
    "df_master.head()"
   ],
   "outputs": [],
   "metadata": {}
  },
  {
   "cell_type": "code",
   "execution_count": null,
   "source": [
    "df_master = df_master.dropna()"
   ],
   "outputs": [],
   "metadata": {}
  },
  {
   "cell_type": "code",
   "execution_count": null,
   "source": [
    "df_master.head()"
   ],
   "outputs": [],
   "metadata": {}
  },
  {
   "cell_type": "code",
   "execution_count": null,
   "source": [
    "df_master.isna().sum()"
   ],
   "outputs": [],
   "metadata": {}
  },
  {
   "cell_type": "markdown",
   "source": [
    "## Save dataset as CSV\n"
   ],
   "metadata": {}
  },
  {
   "cell_type": "code",
   "execution_count": null,
   "source": [
    "df_master.to_csv('../data/merged_inquiries_and_prices.csv')"
   ],
   "outputs": [],
   "metadata": {}
  }
 ],
 "metadata": {
  "orig_nbformat": 4,
  "language_info": {
   "name": "python"
  }
 },
 "nbformat": 4,
 "nbformat_minor": 2
}