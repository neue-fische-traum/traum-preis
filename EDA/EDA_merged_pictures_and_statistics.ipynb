{
 "metadata": {
  "language_info": {
   "codemirror_mode": {
    "name": "ipython",
    "version": 3
   },
   "file_extension": ".py",
   "mimetype": "text/x-python",
   "name": "python",
   "nbconvert_exporter": "python",
   "pygments_lexer": "ipython3",
   "version": "3.8.5"
  },
  "orig_nbformat": 4,
  "kernelspec": {
   "name": "python3",
   "display_name": "Python 3.8.5 64-bit ('3.8.5')"
  },
  "interpreter": {
   "hash": "d837fe7f89ea0bfb31f7e35050aa5bb243afc9e818f612445420203286c5c6ce"
  }
 },
 "nbformat": 4,
 "nbformat_minor": 2,
 "cells": [
  {
   "source": [
    "# This notebook will serve for the analysis of the Pictures and Statistics for the TFW project"
   ],
   "cell_type": "markdown",
   "metadata": {}
  },
  {
   "cell_type": "code",
   "execution_count": 1,
   "metadata": {},
   "outputs": [],
   "source": [
    "# Import necassary libraries\n",
    "import numpy as np\n",
    "import pandas as pd\n",
    "import matplotlib.pyplot as plt\n",
    "import seaborn as sns"
   ]
  },
  {
   "cell_type": "code",
   "execution_count": 3,
   "metadata": {},
   "outputs": [],
   "source": [
    "# Load the datasets\n",
    "df_statistics = pd.read_csv('../data/statistics_20210707.csv')\n",
    "df_pictures = pd.read_csv('../data/pictures_dataset.csv')"
   ]
  },
  {
   "cell_type": "code",
   "execution_count": 5,
   "metadata": {},
   "outputs": [
    {
     "output_type": "execute_result",
     "data": {
      "text/plain": [
       "  yearmonth                            listing_id  inquiry_count  \\\n",
       "0   2019/07  f1133916-825e-5e2a-93be-eaba28a966e8              2   \n",
       "1   2019/07  836959d3-611c-5edb-887c-273aba5bd102              0   \n",
       "\n",
       "   inquiry_volume  binding_inquiry_count  binding_inquiry_volume  \\\n",
       "0            1352                      0                       0   \n",
       "1               0                      0                       0   \n",
       "\n",
       "   direct_booking_count  direct_booking_volume  result_views  expose_views  \\\n",
       "0                     0                      0          1109            85   \n",
       "1                     0                      0           871            23   \n",
       "\n",
       "   phone_clicks  \n",
       "0             1  \n",
       "1             2  "
      ],
      "text/html": "<div>\n<style scoped>\n    .dataframe tbody tr th:only-of-type {\n        vertical-align: middle;\n    }\n\n    .dataframe tbody tr th {\n        vertical-align: top;\n    }\n\n    .dataframe thead th {\n        text-align: right;\n    }\n</style>\n<table border=\"1\" class=\"dataframe\">\n  <thead>\n    <tr style=\"text-align: right;\">\n      <th></th>\n      <th>yearmonth</th>\n      <th>listing_id</th>\n      <th>inquiry_count</th>\n      <th>inquiry_volume</th>\n      <th>binding_inquiry_count</th>\n      <th>binding_inquiry_volume</th>\n      <th>direct_booking_count</th>\n      <th>direct_booking_volume</th>\n      <th>result_views</th>\n      <th>expose_views</th>\n      <th>phone_clicks</th>\n    </tr>\n  </thead>\n  <tbody>\n    <tr>\n      <th>0</th>\n      <td>2019/07</td>\n      <td>f1133916-825e-5e2a-93be-eaba28a966e8</td>\n      <td>2</td>\n      <td>1352</td>\n      <td>0</td>\n      <td>0</td>\n      <td>0</td>\n      <td>0</td>\n      <td>1109</td>\n      <td>85</td>\n      <td>1</td>\n    </tr>\n    <tr>\n      <th>1</th>\n      <td>2019/07</td>\n      <td>836959d3-611c-5edb-887c-273aba5bd102</td>\n      <td>0</td>\n      <td>0</td>\n      <td>0</td>\n      <td>0</td>\n      <td>0</td>\n      <td>0</td>\n      <td>871</td>\n      <td>23</td>\n      <td>2</td>\n    </tr>\n  </tbody>\n</table>\n</div>"
     },
     "metadata": {},
     "execution_count": 5
    }
   ],
   "source": [
    "df_statistics.head(2)"
   ]
  },
  {
   "cell_type": "code",
   "execution_count": 6,
   "metadata": {},
   "outputs": [
    {
     "output_type": "execute_result",
     "data": {
      "text/plain": [
       "   Unnamed: 0                            listing_id                added  \\\n",
       "0           0  fbd74bce-23dd-53e7-b988-8beb85160d6f  2009-12-03 00:00:00   \n",
       "1           1  4e012316-0f53-5fc6-a17f-580ff832554e  2010-01-05 00:00:00   \n",
       "\n",
       "             activated description  start_pic_summer  start_pic_winter  \\\n",
       "0  2010-12-16 00:00:00  Furnishing                 0                 0   \n",
       "1  2010-12-16 00:00:00  Floor plan                 0                 0   \n",
       "\n",
       "  picture_resolution  \n",
       "0    High-definition  \n",
       "1    Poor Resolution  "
      ],
      "text/html": "<div>\n<style scoped>\n    .dataframe tbody tr th:only-of-type {\n        vertical-align: middle;\n    }\n\n    .dataframe tbody tr th {\n        vertical-align: top;\n    }\n\n    .dataframe thead th {\n        text-align: right;\n    }\n</style>\n<table border=\"1\" class=\"dataframe\">\n  <thead>\n    <tr style=\"text-align: right;\">\n      <th></th>\n      <th>Unnamed: 0</th>\n      <th>listing_id</th>\n      <th>added</th>\n      <th>activated</th>\n      <th>description</th>\n      <th>start_pic_summer</th>\n      <th>start_pic_winter</th>\n      <th>picture_resolution</th>\n    </tr>\n  </thead>\n  <tbody>\n    <tr>\n      <th>0</th>\n      <td>0</td>\n      <td>fbd74bce-23dd-53e7-b988-8beb85160d6f</td>\n      <td>2009-12-03 00:00:00</td>\n      <td>2010-12-16 00:00:00</td>\n      <td>Furnishing</td>\n      <td>0</td>\n      <td>0</td>\n      <td>High-definition</td>\n    </tr>\n    <tr>\n      <th>1</th>\n      <td>1</td>\n      <td>4e012316-0f53-5fc6-a17f-580ff832554e</td>\n      <td>2010-01-05 00:00:00</td>\n      <td>2010-12-16 00:00:00</td>\n      <td>Floor plan</td>\n      <td>0</td>\n      <td>0</td>\n      <td>Poor Resolution</td>\n    </tr>\n  </tbody>\n</table>\n</div>"
     },
     "metadata": {},
     "execution_count": 6
    }
   ],
   "source": [
    "df_pictures.head(2)"
   ]
  },
  {
   "cell_type": "code",
   "execution_count": null,
   "metadata": {},
   "outputs": [],
   "source": []
  }
 ]
}