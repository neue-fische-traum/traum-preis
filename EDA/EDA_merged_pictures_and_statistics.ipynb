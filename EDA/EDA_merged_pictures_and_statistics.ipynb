{
 "metadata": {
  "language_info": {
   "codemirror_mode": {
    "name": "ipython",
    "version": 3
   },
   "file_extension": ".py",
   "mimetype": "text/x-python",
   "name": "python",
   "nbconvert_exporter": "python",
   "pygments_lexer": "ipython3",
   "version": "3.8.5"
  },
  "orig_nbformat": 4,
  "kernelspec": {
   "name": "python3",
   "display_name": "Python 3.8.5 64-bit ('3.8.5': pyenv)"
  },
  "interpreter": {
   "hash": "d837fe7f89ea0bfb31f7e35050aa5bb243afc9e818f612445420203286c5c6ce"
  }
 },
 "nbformat": 4,
 "nbformat_minor": 2,
 "cells": [
  {
   "source": [
    "# This notebook will serve for the analysis of the Pictures and Statistics for the TFW project"
   ],
   "cell_type": "markdown",
   "metadata": {}
  },
  {
   "cell_type": "code",
   "execution_count": null,
   "metadata": {},
   "outputs": [],
   "source": [
    "# Import necassary libraries\n",
    "import numpy as np\n",
    "import pandas as pd\n",
    "import matplotlib.pyplot as plt\n",
    "import seaborn as sns"
   ]
  },
  {
   "cell_type": "code",
   "execution_count": null,
   "metadata": {},
   "outputs": [],
   "source": [
    "# Load the datasets\n",
    "df_statistics = pd.read_csv('../data/statistics_20210707.csv')\n",
    "df_pictures = pd.read_csv('../data/pictures_dataset.csv')"
   ]
  },
  {
   "cell_type": "code",
   "execution_count": null,
   "metadata": {},
   "outputs": [],
   "source": [
    "# First look datset statistics\n",
    "df_statistics.head(2)"
   ]
  },
  {
   "cell_type": "code",
   "execution_count": null,
   "metadata": {},
   "outputs": [],
   "source": [
    "# First look datset pictures\n",
    "df_pictures.head(2)"
   ]
  },
  {
   "cell_type": "code",
   "execution_count": null,
   "metadata": {},
   "outputs": [],
   "source": [
    "# Shape of both datasets\n",
    "print(df_pictures.shape)\n",
    "print(df_statistics.shape)"
   ]
  },
  {
   "cell_type": "code",
   "execution_count": null,
   "metadata": {},
   "outputs": [],
   "source": [
    "# Info dataset statistics\n",
    "df_statistics.info()"
   ]
  },
  {
   "cell_type": "code",
   "execution_count": null,
   "metadata": {},
   "outputs": [],
   "source": [
    "# Info dataset pictures\n",
    "df_pictures.info()"
   ]
  },
  {
   "source": [
    "## Remove unnamed column in df pictures"
   ],
   "cell_type": "markdown",
   "metadata": {}
  },
  {
   "cell_type": "code",
   "execution_count": null,
   "metadata": {},
   "outputs": [],
   "source": [
    "# Drop unnamed column\n",
    "df_pictures = df_pictures.drop('Unnamed: 0', axis=1)"
   ]
  },
  {
   "source": [
    "## Covert date features into datetime"
   ],
   "cell_type": "markdown",
   "metadata": {}
  },
  {
   "cell_type": "code",
   "execution_count": null,
   "metadata": {},
   "outputs": [],
   "source": [
    "# Convert to datetime\n",
    "df_statistics['yearmonth'] = pd.to_datetime(df_statistics['yearmonth']).dt.strftime('%Y-%m')\n",
    "df_pictures['added'] = pd.to_datetime(df_pictures['added']).dt.date\n",
    "df_pictures['activated'] = pd.to_datetime(df_pictures['activated']).dt.date\n",
    "df_pictures['yearmonth'] = pd.to_datetime(df_pictures['activated']).dt.strftime('%Y-%m')"
   ]
  },
  {
   "source": [
    "Compare the listing ID to see if all properties are included or how much are missing."
   ],
   "cell_type": "markdown",
   "metadata": {}
  },
  {
   "cell_type": "code",
   "execution_count": null,
   "metadata": {},
   "outputs": [],
   "source": [
    "# Number of unique listings ID\n",
    "print(df_statistics.listing_id.nunique())\n",
    "print(df_pictures.listing_id.nunique())\n",
    "\n",
    "# Houses without pictures\n",
    "print(df_statistics.listing_id.nunique() - df_pictures.listing_id.nunique(), 'properties have no pictures.')\n",
    "\n"
   ]
  },
  {
   "source": [
    "47 properties have no pictures."
   ],
   "cell_type": "markdown",
   "metadata": {}
  },
  {
   "source": [
    "### Create dataframe for listing ID with missing pictures"
   ],
   "cell_type": "markdown",
   "metadata": {}
  },
  {
   "cell_type": "code",
   "execution_count": null,
   "metadata": {},
   "outputs": [],
   "source": [
    "# New columns with missing listing ID in the dataset pictures\n",
    "df_statistics['in_df_picture'] = df_statistics['listing_id'].isin(df_pictures['listing_id'])"
   ]
  },
  {
   "cell_type": "code",
   "execution_count": null,
   "metadata": {},
   "outputs": [],
   "source": [
    "# Groupby the new column by value False and listing ID\n",
    "missing_pictures = df_statistics.query('in_df_picture == False').groupby('listing_id').count().reset_index()"
   ]
  },
  {
   "source": [
    "### Look if the listing ID with missing pictures are online or offline. For this we import the dataset listings."
   ],
   "cell_type": "markdown",
   "metadata": {}
  },
  {
   "cell_type": "code",
   "execution_count": null,
   "metadata": {},
   "outputs": [],
   "source": [
    "# Load dataset listings\n",
    "df_listings = pd.read_csv('../data/master_listings_20210715.csv')"
   ]
  },
  {
   "cell_type": "code",
   "execution_count": null,
   "metadata": {},
   "outputs": [],
   "source": [
    "# Merging datasets\n",
    "df_compare = pd.merge(missing_pictures, df_listings, on='listing_id', how='left')"
   ]
  },
  {
   "cell_type": "code",
   "execution_count": null,
   "metadata": {},
   "outputs": [],
   "source": [
    "# Looking for the state of the listing ID with missing pictures\n",
    "print(df_compare.state.unique())\n",
    "print(df_compare.state.value_counts())"
   ]
  },
  {
   "source": [
    "Expect of one listing ID all properties with missing pictures are offline, Deactivated or not known in the listings."
   ],
   "cell_type": "markdown",
   "metadata": {}
  },
  {
   "cell_type": "code",
   "execution_count": null,
   "metadata": {},
   "outputs": [],
   "source": [
    "# Looking for the one ID with state 'Online'\n",
    "df_compare[df_compare['state'] == 'Online']"
   ]
  },
  {
   "cell_type": "code",
   "execution_count": null,
   "metadata": {},
   "outputs": [],
   "source": [
    "# Looking if the one ID have inquries\n",
    "df_statistics[df_statistics['listing_id']== 'b25773bf-192e-5058-a6fc-91844396e7e1'].inquiry_count.sum()"
   ]
  },
  {
   "source": [
    "The one property with state 'Online' and no pictures have no inquiries too. The other 46 properties with missing pictures are not 'online'."
   ],
   "cell_type": "markdown",
   "metadata": {}
  },
  {
   "source": [
    "### Groupby the dataset statistics per month."
   ],
   "cell_type": "markdown",
   "metadata": {}
  },
  {
   "cell_type": "code",
   "execution_count": null,
   "metadata": {},
   "outputs": [],
   "source": [
    "# Using groupby to summarize the statistics per yearmonth\n",
    "statistic_per_month = df_statistics.groupby('yearmonth').sum().reset_index()"
   ]
  },
  {
   "source": [
    "## Distributions of the features in Pictures"
   ],
   "cell_type": "markdown",
   "metadata": {}
  },
  {
   "source": [
    "First, lets have a look on the picture resolution."
   ],
   "cell_type": "markdown",
   "metadata": {}
  },
  {
   "cell_type": "code",
   "execution_count": null,
   "metadata": {},
   "outputs": [],
   "source": [
    "df_pictures.picture_resolution.hist()"
   ]
  },
  {
   "source": [
    "Most of the pictures have a ultra-high-definition."
   ],
   "cell_type": "markdown",
   "metadata": {}
  },
  {
   "cell_type": "code",
   "execution_count": null,
   "metadata": {},
   "outputs": [],
   "source": [
    "# Calculate amount of picture resolution values\n",
    "print('Percent of picture resolution values')\n",
    "print('Poor resolution:', round(df_pictures[df_pictures['picture_resolution'] == 'Poor Resolution'].count()[0]/df_pictures.shape[0]*100, 1))\n",
    "print('High definition:', round(df_pictures[df_pictures['picture_resolution'] == 'High-definition'].count()[0]/df_pictures.shape[0]*100, 1))\n",
    "print('Ultra high definition:', round(df_pictures[df_pictures['picture_resolution'] == 'Ultra-high-definition'].count()[0]/df_pictures.shape[0]*100, 1))"
   ]
  },
  {
   "source": [
    "85.7 % of the pictures have the resolution 'ultra high definition', 13.0 % 'high definition', and only 1.3 % 'poor resolution'. So nearly 98% have a resolution 'high definition or better'."
   ],
   "cell_type": "markdown",
   "metadata": {}
  },
  {
   "source": [
    "### Lets have a look at the motives and motives by resolution."
   ],
   "cell_type": "markdown",
   "metadata": {}
  },
  {
   "cell_type": "code",
   "execution_count": null,
   "metadata": {},
   "outputs": [],
   "source": [
    "# Histogram description\n",
    "fig, ax = plt.subplots(figsize=(15,5))\n",
    "sns.histplot(data=df_pictures, x=\"description\");\n"
   ]
  },
  {
   "cell_type": "code",
   "execution_count": null,
   "metadata": {},
   "outputs": [],
   "source": [
    "# Histogram description by picture resolution\n",
    "fig, ax = plt.subplots(figsize=(15,5))\n",
    "sns.histplot(data=df_pictures, x=\"description\", hue='picture_resolution', multiple=\"dodge\", shrink=.8);"
   ]
  },
  {
   "source": [
    "Create a new column with the difference between the added and activated date for the picture to plot this."
   ],
   "cell_type": "markdown",
   "metadata": {}
  },
  {
   "cell_type": "code",
   "execution_count": null,
   "metadata": {},
   "outputs": [],
   "source": [
    "# Create new column\n",
    "df_pictures['diff_add_activate'] = df_pictures.activated - df_pictures.added"
   ]
  },
  {
   "cell_type": "code",
   "execution_count": null,
   "metadata": {},
   "outputs": [],
   "source": [
    "# Description of new column diff_add_activate\n",
    "df_pictures.diff_add_activate.describe()"
   ]
  },
  {
   "source": [
    "The range of the new column diff_add_activate is wide. The minimum is a negative value. "
   ],
   "cell_type": "markdown",
   "metadata": {}
  },
  {
   "cell_type": "code",
   "execution_count": null,
   "metadata": {},
   "outputs": [],
   "source": [
    "# Plotting the distribution after converting new column from timedelta to days\n",
    "df_pictures['diff_add_activate'] = df_pictures['diff_add_activate'].dt.days\n",
    "df_pictures.boxplot(column=['diff_add_activate']);"
   ]
  },
  {
   "source": [
    "Most of the pictures have no difference between the dates added and activated."
   ],
   "cell_type": "markdown",
   "metadata": {}
  },
  {
   "source": [
    "Which motives have the high difference between added and activated date?"
   ],
   "cell_type": "markdown",
   "metadata": {}
  },
  {
   "cell_type": "code",
   "execution_count": null,
   "metadata": {},
   "outputs": [],
   "source": [
    "# 95 % percentile as threshold\n",
    "df_pictures.diff_add_activate.quantile(0.95)"
   ]
  },
  {
   "cell_type": "code",
   "execution_count": null,
   "metadata": {},
   "outputs": [],
   "source": [
    "# Filter and groupby with 95 % percentile\n",
    "df_pictures.query('diff_add_activate > 3').groupby('description')['diff_add_activate'].count()"
   ]
  },
  {
   "source": [
    "How many pictures have each unique property?"
   ],
   "cell_type": "markdown",
   "metadata": {}
  },
  {
   "cell_type": "code",
   "execution_count": null,
   "metadata": {},
   "outputs": [],
   "source": [
    "# Using groupby to summarize the statistics per yearmonth\n",
    "picture_per_id = df_pictures.groupby('listing_id')['description'].count().reset_index()"
   ]
  },
  {
   "cell_type": "code",
   "execution_count": null,
   "metadata": {},
   "outputs": [],
   "source": [
    "# Description\n",
    "picture_per_id.describe()"
   ]
  },
  {
   "cell_type": "code",
   "execution_count": null,
   "metadata": {},
   "outputs": [],
   "source": [
    "# Histogram of distribution\n",
    "picture_per_id.hist(bins=80)"
   ]
  },
  {
   "cell_type": "code",
   "execution_count": null,
   "metadata": {},
   "outputs": [],
   "source": [
    "# Boxplot of distribution\n",
    "picture_per_id.boxplot(column=['description'])"
   ]
  },
  {
   "cell_type": "code",
   "execution_count": null,
   "metadata": {},
   "outputs": [],
   "source": [
    "picture_per_id.columns"
   ]
  },
  {
   "cell_type": "code",
   "execution_count": null,
   "metadata": {},
   "outputs": [],
   "source": [
    "# Histogram description\n",
    "fig, ax = plt.subplots(figsize=(15,5))\n",
    "sns.histplot(data=df_pictures, x=\"activated\");"
   ]
  },
  {
   "source": [
    "## Merging both datasets"
   ],
   "cell_type": "markdown",
   "metadata": {}
  },
  {
   "source": [
    "First, we encoding the feature picture resolution."
   ],
   "cell_type": "markdown",
   "metadata": {}
  },
  {
   "cell_type": "code",
   "execution_count": null,
   "metadata": {},
   "outputs": [],
   "source": [
    "# Get one hot encoding of columns 'picture_resolution'\n",
    "one_hot = pd.get_dummies(df_pictures['picture_resolution'])\n",
    "# Drop column as it is now encoded\n",
    "df_pictures = df_pictures.drop('picture_resolution',axis = 1)\n",
    "# Join the encoded df\n",
    "df_pictures = df_pictures.join(one_hot)"
   ]
  },
  {
   "source": [
    "Second, we encoding the feature description."
   ],
   "cell_type": "markdown",
   "metadata": {}
  },
  {
   "cell_type": "code",
   "execution_count": null,
   "metadata": {},
   "outputs": [],
   "source": [
    "# Get one hot encoding of columns 'description'\n",
    "one_hot_2 = pd.get_dummies(df_pictures['description'])\n",
    "# Drop column as it is now encoded\n",
    "df_pictures = df_pictures.drop('description',axis = 1)\n",
    "# Join the encoded df\n",
    "df_pictures = df_pictures.join(one_hot_2)"
   ]
  },
  {
   "cell_type": "code",
   "execution_count": null,
   "metadata": {},
   "outputs": [],
   "source": [
    "# New shape of the dataset pictures\n",
    "df_pictures.shape"
   ]
  },
  {
   "source": [
    "Third, we group both datasets bei listing ID and yearmonth for the merging"
   ],
   "cell_type": "markdown",
   "metadata": {}
  },
  {
   "cell_type": "code",
   "execution_count": null,
   "metadata": {},
   "outputs": [],
   "source": [
    "# Groupby df_statistics and df_pictures\n",
    "stats = df_statistics.groupby(['listing_id', 'yearmonth']).sum().reset_index()\n",
    "pics = df_pictures.groupby(['listing_id', 'yearmonth']).sum().reset_index()"
   ]
  },
  {
   "cell_type": "code",
   "execution_count": null,
   "metadata": {},
   "outputs": [],
   "source": [
    "# Merging both new grouped datesets\n",
    "pic_stat = pd.merge(stats, pics, on=['listing_id', 'yearmonth'], how='outer')"
   ]
  },
  {
   "cell_type": "code",
   "execution_count": null,
   "metadata": {},
   "outputs": [],
   "source": [
    "pic_stat.shape"
   ]
  },
  {
   "source": [
    "### Calculate inquiry count, result views, ewpose views and phone clicks before and after activate pictures"
   ],
   "cell_type": "markdown",
   "metadata": {}
  },
  {
   "source": [
    "First create a new column if a picture was activated or not"
   ],
   "cell_type": "markdown",
   "metadata": {}
  },
  {
   "cell_type": "code",
   "execution_count": null,
   "metadata": {},
   "outputs": [],
   "source": [
    "# Function to build categories\n",
    "def categorizer(a, b, c):\n",
    "    if np.isnan(a):\n",
    "        if np.isnan(b):\n",
    "            if np.isnan(c):\n",
    "                return 0\n",
    "    else:\n",
    "        return 1"
   ]
  },
  {
   "cell_type": "code",
   "execution_count": null,
   "metadata": {},
   "outputs": [],
   "source": [
    "# Create new column\n",
    "pic_stat['picture']= pic_stat.apply(lambda x: categorizer(\n",
    "    x['High-definition'], x['Poor Resolution'], x['Ultra-high-definition']), axis=1)"
   ]
  },
  {
   "cell_type": "code",
   "execution_count": null,
   "metadata": {},
   "outputs": [],
   "source": [
    "pic_stat.shape"
   ]
  },
  {
   "cell_type": "code",
   "execution_count": null,
   "metadata": {},
   "outputs": [],
   "source": [
    "# Only years 2019 and 2020\n",
    "start_date = \"2019-01\"\n",
    "end_date = \"2020-12\"\n",
    "\n",
    "after_start_date = pic_stat[\"yearmonth\"] >= start_date\n",
    "before_end_date = pic_stat[\"yearmonth\"] <= end_date\n",
    "between_two_dates = after_start_date & before_end_date\n",
    "pic_stat_2019_2020 = pic_stat.loc[between_two_dates]"
   ]
  },
  {
   "cell_type": "code",
   "execution_count": null,
   "metadata": {},
   "outputs": [],
   "source": [
    "pic_stat_2019_2020.shape"
   ]
  },
  {
   "cell_type": "code",
   "execution_count": null,
   "metadata": {},
   "outputs": [],
   "source": [
    "test = pic_stat_2019_2020[pic_stat_2019_2020['listing_id'] == '0003f153-450a-5837-8a46-bd5db5b536b1']"
   ]
  },
  {
   "cell_type": "code",
   "execution_count": null,
   "metadata": {},
   "outputs": [],
   "source": [
    "test"
   ]
  },
  {
   "cell_type": "code",
   "execution_count": null,
   "metadata": {},
   "outputs": [],
   "source": [
    "idx = np.where(test[\"picture\"] == 1)"
   ]
  },
  {
   "cell_type": "code",
   "execution_count": null,
   "metadata": {
    "tags": []
   },
   "outputs": [],
   "source": [
    "for indices in idx:\n",
    "    before = []\n",
    "    after = []\n",
    "    dates = test.iloc[indices]\n",
    "    print(dates['yearmonth'])\n",
    "    for date in dates['yearmonth']:\n",
    "        before.append(test[test['yearmonth'] <= date]['result_views'].sum())\n",
    "        after.append(test[test['yearmonth'] > date]['result_views'].sum())\n",
    "print(before, after)"
   ]
  }
 ]
}