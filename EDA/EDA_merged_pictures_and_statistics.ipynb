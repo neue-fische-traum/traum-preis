{
 "metadata": {
  "language_info": {
   "codemirror_mode": {
    "name": "ipython",
    "version": 3
   },
   "file_extension": ".py",
   "mimetype": "text/x-python",
   "name": "python",
   "nbconvert_exporter": "python",
   "pygments_lexer": "ipython3",
   "version": "3.8.5"
  },
  "orig_nbformat": 4,
  "kernelspec": {
   "name": "python3",
   "display_name": "Python 3.8.5 64-bit ('3.8.5': pyenv)"
  },
  "interpreter": {
   "hash": "d837fe7f89ea0bfb31f7e35050aa5bb243afc9e818f612445420203286c5c6ce"
  }
 },
 "nbformat": 4,
 "nbformat_minor": 2,
 "cells": [
  {
   "cell_type": "markdown",
   "source": [
    "# This notebook will serve for the analysis of the Pictures and Statistics for the TFW project"
   ],
   "metadata": {}
  },
  {
   "cell_type": "markdown",
   "source": [
    "## Loading datasets and first editings"
   ],
   "metadata": {}
  },
  {
   "cell_type": "code",
   "execution_count": null,
   "source": [
    "# Import necassary libraries\n",
    "import numpy as np\n",
    "import pandas as pd\n",
    "import matplotlib.pyplot as plt\n",
    "import seaborn as sns"
   ],
   "outputs": [],
   "metadata": {}
  },
  {
   "cell_type": "code",
   "execution_count": null,
   "source": [
    "# Load the datasets\n",
    "df_statistics = pd.read_csv('../data/statistics_20210707.csv')\n",
    "df_pictures = pd.read_csv('../data/pictures_dataset.csv')"
   ],
   "outputs": [],
   "metadata": {}
  },
  {
   "cell_type": "code",
   "execution_count": null,
   "source": [
    "# First look datset statistics\n",
    "df_statistics.head(2)"
   ],
   "outputs": [],
   "metadata": {}
  },
  {
   "cell_type": "code",
   "execution_count": null,
   "source": [
    "# First look datset pictures\n",
    "df_pictures.head(2)"
   ],
   "outputs": [],
   "metadata": {}
  },
  {
   "cell_type": "code",
   "execution_count": null,
   "source": [
    "# Shape of both datasets\n",
    "print(df_pictures.shape)\n",
    "print(df_statistics.shape)"
   ],
   "outputs": [],
   "metadata": {}
  },
  {
   "cell_type": "code",
   "execution_count": null,
   "source": [
    "# Info dataset statistics\n",
    "df_statistics.info()"
   ],
   "outputs": [],
   "metadata": {}
  },
  {
   "cell_type": "code",
   "execution_count": null,
   "source": [
    "# Info dataset pictures\n",
    "df_pictures.info()"
   ],
   "outputs": [],
   "metadata": {}
  },
  {
   "cell_type": "code",
   "execution_count": null,
   "source": [
    "# Drop unnamed column\n",
    "df_pictures = df_pictures.drop('Unnamed: 0', axis=1)"
   ],
   "outputs": [],
   "metadata": {}
  },
  {
   "cell_type": "code",
   "execution_count": null,
   "source": [
    "# Convert to datetime\n",
    "df_statistics['yearmonth'] = pd.to_datetime(df_statistics['yearmonth']).dt.strftime('%Y-%m')\n",
    "df_pictures['added'] = pd.to_datetime(df_pictures['added']).dt.date\n",
    "df_pictures['activated'] = pd.to_datetime(df_pictures['activated']).dt.date\n",
    "df_pictures['yearmonth'] = pd.to_datetime(df_pictures['activated']).dt.strftime('%Y-%m')"
   ],
   "outputs": [],
   "metadata": {}
  },
  {
   "cell_type": "markdown",
   "source": [
    "## Do we have properties without pictures?"
   ],
   "metadata": {}
  },
  {
   "cell_type": "code",
   "execution_count": null,
   "source": [
    "# Number of unique listings ID\n",
    "print(df_statistics.listing_id.nunique())\n",
    "print(df_pictures.listing_id.nunique())\n",
    "\n",
    "# Houses without pictures\n",
    "print(df_statistics.listing_id.nunique() - df_pictures.listing_id.nunique(), 'properties have no pictures.')"
   ],
   "outputs": [],
   "metadata": {}
  },
  {
   "cell_type": "markdown",
   "source": [
    "47 properties have no pictures."
   ],
   "metadata": {}
  },
  {
   "cell_type": "markdown",
   "source": [
    "### Create dataframe for listing ID with missing pictures"
   ],
   "metadata": {}
  },
  {
   "cell_type": "code",
   "execution_count": null,
   "source": [
    "# New columns with missing listing ID in the dataset pictures\n",
    "df_statistics['in_df_picture'] = df_statistics['listing_id'].isin(df_pictures['listing_id'])"
   ],
   "outputs": [],
   "metadata": {}
  },
  {
   "cell_type": "code",
   "execution_count": null,
   "source": [
    "# Group new column by value False and listing ID\n",
    "missing_pictures = df_statistics.query('in_df_picture == False').groupby('listing_id').count().reset_index()"
   ],
   "outputs": [],
   "metadata": {}
  },
  {
   "cell_type": "markdown",
   "source": [
    "### Look if the listing ID with missing pictures are online or offline. For this we import the dataset listings."
   ],
   "metadata": {}
  },
  {
   "cell_type": "code",
   "execution_count": null,
   "source": [
    "# Load dataset listings\n",
    "df_listings = pd.read_csv('../data/master_listings_20210715.csv')"
   ],
   "outputs": [],
   "metadata": {}
  },
  {
   "cell_type": "code",
   "execution_count": null,
   "source": [
    "# Merging datasets\n",
    "df_compare = pd.merge(missing_pictures, df_listings, on='listing_id', how='left')"
   ],
   "outputs": [],
   "metadata": {}
  },
  {
   "cell_type": "code",
   "execution_count": null,
   "source": [
    "# Looking for the state of the listing ID with missing pictures\n",
    "print(df_compare.state.unique())\n",
    "print(df_compare.state.value_counts())"
   ],
   "outputs": [],
   "metadata": {}
  },
  {
   "cell_type": "markdown",
   "source": [
    "Except for one listing ID all properties with missing pictures are offline, deactivated or not known in the listings."
   ],
   "metadata": {}
  },
  {
   "cell_type": "code",
   "execution_count": null,
   "source": [
    "# Looking for the one ID with state 'Online'\n",
    "df_compare[df_compare['state'] == 'Online']"
   ],
   "outputs": [],
   "metadata": {}
  },
  {
   "cell_type": "code",
   "execution_count": null,
   "source": [
    "# Looking if the one ID have inquries\n",
    "df_statistics[df_statistics['listing_id']== 'b25773bf-192e-5058-a6fc-91844396e7e1'].inquiry_count.sum()"
   ],
   "outputs": [],
   "metadata": {}
  },
  {
   "cell_type": "markdown",
   "source": [
    "The one property with state 'Online' and no pictures have no inquiries too. The other 46 properties with missing pictures are not 'online'."
   ],
   "metadata": {}
  },
  {
   "cell_type": "markdown",
   "source": [
    "## Lets have a look at the picture resolution"
   ],
   "metadata": {}
  },
  {
   "cell_type": "markdown",
   "source": [
    "First, lets have a look on the picture resolution."
   ],
   "metadata": {}
  },
  {
   "cell_type": "code",
   "execution_count": null,
   "source": [
    "df_pictures.picture_resolution.hist()"
   ],
   "outputs": [],
   "metadata": {}
  },
  {
   "cell_type": "markdown",
   "source": [
    "Most of the pictures have a ultra-high-definition."
   ],
   "metadata": {}
  },
  {
   "cell_type": "code",
   "execution_count": null,
   "source": [
    "# Calculate amount of picture resolution values\n",
    "print('Percent of picture resolution values')\n",
    "print('Poor resolution:', round(df_pictures[df_pictures['picture_resolution'] == 'Poor Resolution'].count()[0]/df_pictures.shape[0]*100, 1))\n",
    "print('High definition:', round(df_pictures[df_pictures['picture_resolution'] == 'High-definition'].count()[0]/df_pictures.shape[0]*100, 1))\n",
    "print('Ultra high definition:', round(df_pictures[df_pictures['picture_resolution'] == 'Ultra-high-definition'].count()[0]/df_pictures.shape[0]*100, 1))"
   ],
   "outputs": [],
   "metadata": {}
  },
  {
   "cell_type": "markdown",
   "source": [
    "85.7 % of the pictures have the resolution 'ultra high definition', 13.0 % 'high definition', and only 1.3 % 'poor resolution'. So nearly 98% have a resolution 'high definition or better'."
   ],
   "metadata": {}
  },
  {
   "cell_type": "markdown",
   "source": [
    "## Lets have a look at the motives and motives by resolution."
   ],
   "metadata": {}
  },
  {
   "cell_type": "code",
   "execution_count": null,
   "source": [
    "# Histogram description\n",
    "fig, ax = plt.subplots(figsize=(15,5))\n",
    "sns.histplot(data=df_pictures, x=\"description\");\n"
   ],
   "outputs": [],
   "metadata": {}
  },
  {
   "cell_type": "code",
   "execution_count": null,
   "source": [
    "# Histogram description by picture resolution\n",
    "fig, ax = plt.subplots(figsize=(15,5))\n",
    "sns.histplot(data=df_pictures, x=\"description\", hue='picture_resolution', multiple=\"dodge\", shrink=.8);"
   ],
   "outputs": [],
   "metadata": {}
  },
  {
   "cell_type": "markdown",
   "source": [
    "## Difference between added and activated date "
   ],
   "metadata": {}
  },
  {
   "cell_type": "code",
   "execution_count": null,
   "source": [
    "# Create new column\n",
    "df_pictures['diff_add_activate'] = df_pictures.activated - df_pictures.added"
   ],
   "outputs": [],
   "metadata": {}
  },
  {
   "cell_type": "code",
   "execution_count": null,
   "source": [
    "# Description of new column diff_add_activate\n",
    "df_pictures.diff_add_activate.describe()"
   ],
   "outputs": [],
   "metadata": {}
  },
  {
   "cell_type": "markdown",
   "source": [
    "The range of the new column diff_add_activate is wide. The minimum is a negative value. "
   ],
   "metadata": {}
  },
  {
   "cell_type": "code",
   "execution_count": null,
   "source": [
    "# Plotting the distribution after converting new column from timedelta to days\n",
    "df_pictures['diff_add_activate'] = df_pictures['diff_add_activate'].dt.days\n",
    "df_pictures.boxplot(column=['diff_add_activate']);"
   ],
   "outputs": [],
   "metadata": {}
  },
  {
   "cell_type": "markdown",
   "source": [
    "Most of the pictures have no difference between the dates added and activated."
   ],
   "metadata": {}
  },
  {
   "cell_type": "markdown",
   "source": [
    "Which motives have the high difference between added and activated date?"
   ],
   "metadata": {}
  },
  {
   "cell_type": "code",
   "execution_count": null,
   "source": [
    "# 95 % percentile as threshold\n",
    "df_pictures.diff_add_activate.quantile(0.95)"
   ],
   "outputs": [],
   "metadata": {}
  },
  {
   "cell_type": "code",
   "execution_count": null,
   "source": [
    "# Filter and groupby with 95 % percentile\n",
    "df_pictures.query('diff_add_activate > 3').groupby('description')['diff_add_activate'].count()"
   ],
   "outputs": [],
   "metadata": {}
  },
  {
   "cell_type": "markdown",
   "source": [
    "## How many pictures have each unique property?"
   ],
   "metadata": {}
  },
  {
   "cell_type": "code",
   "execution_count": null,
   "source": [
    "# Using groupby to summarize the statistics per yearmonth\n",
    "picture_per_id = df_pictures.groupby('listing_id')['description'].count().reset_index()"
   ],
   "outputs": [],
   "metadata": {}
  },
  {
   "cell_type": "code",
   "execution_count": null,
   "source": [
    "# Description\n",
    "picture_per_id.describe()"
   ],
   "outputs": [],
   "metadata": {}
  },
  {
   "cell_type": "code",
   "execution_count": null,
   "source": [
    "# Histogram of distribution\n",
    "picture_per_id.hist(bins=80)"
   ],
   "outputs": [],
   "metadata": {}
  },
  {
   "cell_type": "code",
   "execution_count": null,
   "source": [
    "# Boxplot of distribution\n",
    "picture_per_id.boxplot(column=['description'])"
   ],
   "outputs": [],
   "metadata": {}
  },
  {
   "cell_type": "code",
   "execution_count": null,
   "source": [
    "# Histogram description\n",
    "fig, ax = plt.subplots(figsize=(15,5))\n",
    "sns.histplot(data=df_pictures, x=\"activated\");"
   ],
   "outputs": [],
   "metadata": {}
  },
  {
   "cell_type": "markdown",
   "source": [
    "## Merging both datasets"
   ],
   "metadata": {}
  },
  {
   "cell_type": "markdown",
   "source": [
    "First, we encoding the feature picture resolution."
   ],
   "metadata": {}
  },
  {
   "cell_type": "code",
   "execution_count": null,
   "source": [
    "# Get one hot encoding of columns 'picture_resolution'\n",
    "one_hot = pd.get_dummies(df_pictures['picture_resolution'])\n",
    "# Drop column as it is now encoded\n",
    "df_pictures = df_pictures.drop('picture_resolution',axis = 1)\n",
    "# Join the encoded df\n",
    "df_pictures = df_pictures.join(one_hot)"
   ],
   "outputs": [],
   "metadata": {}
  },
  {
   "cell_type": "markdown",
   "source": [
    "Second, we encoding the feature description."
   ],
   "metadata": {}
  },
  {
   "cell_type": "code",
   "execution_count": null,
   "source": [
    "# Get one hot encoding of columns 'description'\n",
    "one_hot_2 = pd.get_dummies(df_pictures['description'])\n",
    "# Drop column as it is now encoded\n",
    "df_pictures = df_pictures.drop('description',axis = 1)\n",
    "# Join the encoded df\n",
    "df_pictures = df_pictures.join(one_hot_2)"
   ],
   "outputs": [],
   "metadata": {}
  },
  {
   "cell_type": "code",
   "execution_count": null,
   "source": [
    "# New shape of the dataset pictures\n",
    "df_pictures.shape"
   ],
   "outputs": [],
   "metadata": {}
  },
  {
   "cell_type": "markdown",
   "source": [
    "Third, we group both datasets bei listing ID and yearmonth for the merging"
   ],
   "metadata": {}
  },
  {
   "cell_type": "code",
   "execution_count": null,
   "source": [
    "# Groupby df_statistics and df_pictures\n",
    "stats = df_statistics.groupby(['listing_id', 'yearmonth']).sum().reset_index()\n",
    "pics = df_pictures.groupby(['listing_id', 'yearmonth']).sum().reset_index()"
   ],
   "outputs": [],
   "metadata": {}
  },
  {
   "cell_type": "code",
   "execution_count": null,
   "source": [
    "# Merging both new grouped datesets\n",
    "pic_stat = pd.merge(stats, pics, on=['listing_id', 'yearmonth'], how='outer')"
   ],
   "outputs": [],
   "metadata": {}
  },
  {
   "cell_type": "markdown",
   "source": [
    "## Compare number of views before and after adding pictures"
   ],
   "metadata": {}
  },
  {
   "cell_type": "markdown",
   "source": [
    "First create a new column if a picture was activated or not"
   ],
   "metadata": {}
  },
  {
   "cell_type": "code",
   "execution_count": null,
   "source": [
    "# Function to build categories\n",
    "def categorizer(a, b, c):\n",
    "    if np.isnan(a):\n",
    "        if np.isnan(b):\n",
    "            if np.isnan(c):\n",
    "                return 0\n",
    "    else:\n",
    "        return 1"
   ],
   "outputs": [],
   "metadata": {}
  },
  {
   "cell_type": "code",
   "execution_count": null,
   "source": [
    "# Create new column\n",
    "pic_stat['picture']= pic_stat.apply(lambda x: categorizer(\n",
    "    x['High-definition'], x['Poor Resolution'], x['Ultra-high-definition']), axis=1)"
   ],
   "outputs": [],
   "metadata": {}
  },
  {
   "cell_type": "code",
   "execution_count": null,
   "source": [
    "# Only years 2019 and 2020\n",
    "start_date = \"2019-01\"\n",
    "end_date = \"2020-12\"\n",
    "\n",
    "after_start_date = pic_stat[\"yearmonth\"] >= start_date\n",
    "before_end_date = pic_stat[\"yearmonth\"] <= end_date\n",
    "between_two_dates = after_start_date & before_end_date\n",
    "pic_stat_2019_2020 = pic_stat.loc[between_two_dates]"
   ],
   "outputs": [],
   "metadata": {}
  },
  {
   "cell_type": "code",
   "execution_count": null,
   "source": [
    "# Test with one property to see if the code works and if it is useful\n",
    "test = pic_stat_2019_2020[pic_stat_2019_2020['listing_id'] == '0003f153-450a-5837-8a46-bd5db5b536b1']"
   ],
   "outputs": [],
   "metadata": {}
  },
  {
   "cell_type": "code",
   "execution_count": null,
   "source": [
    "# Compare number of views before and after adding pictures\n",
    "for indices in idx:\n",
    "    before = []\n",
    "    after = []\n",
    "    dates = test.iloc[indices]\n",
    "    print(dates['yearmonth'])\n",
    "    for date in dates['yearmonth']:\n",
    "        before.append(test[test['yearmonth'] <= date]['result_views'].sum())\n",
    "        after.append(test[test['yearmonth'] > date]['result_views'].sum())\n",
    "print(before, after)"
   ],
   "outputs": [],
   "metadata": {
    "tags": []
   }
  },
  {
   "cell_type": "markdown",
   "source": [
    "We have no information when a property is the first time online, which motives are online or added or if pictures were deleted. We have only a extract of the years 2019 and 2020. With this information it's not realizable to compare the effect of the pictures of the views before and after adding photos."
   ],
   "metadata": {}
  }
 ]
}