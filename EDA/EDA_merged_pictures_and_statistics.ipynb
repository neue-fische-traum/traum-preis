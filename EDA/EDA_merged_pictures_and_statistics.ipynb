{
 "metadata": {
  "language_info": {
   "codemirror_mode": {
    "name": "ipython",
    "version": 3
   },
   "file_extension": ".py",
   "mimetype": "text/x-python",
   "name": "python",
   "nbconvert_exporter": "python",
   "pygments_lexer": "ipython3",
   "version": "3.8.5"
  },
  "orig_nbformat": 4,
  "kernelspec": {
   "name": "python3",
   "display_name": "Python 3.8.5 64-bit ('3.8.5')"
  },
  "interpreter": {
   "hash": "d837fe7f89ea0bfb31f7e35050aa5bb243afc9e818f612445420203286c5c6ce"
  }
 },
 "nbformat": 4,
 "nbformat_minor": 2,
 "cells": [
  {
   "source": [
    "# This notebook will serve for the analysis of the Pictures and Statistics for the TFW project"
   ],
   "cell_type": "markdown",
   "metadata": {}
  },
  {
   "cell_type": "code",
   "execution_count": 2,
   "metadata": {},
   "outputs": [],
   "source": [
    "# Import necassary libraries\n",
    "import numpy as np\n",
    "import pandas as pd\n",
    "import matplotlib.pyplot as plt\n",
    "import seaborn as sns"
   ]
  },
  {
   "cell_type": "code",
   "execution_count": 3,
   "metadata": {},
   "outputs": [],
   "source": [
    "# Load the datasets\n",
    "df_statistics = pd.read_csv('../data/statistics_20210707.csv')\n",
    "df_pictures = pd.read_csv('../data/pictures_dataset.csv')"
   ]
  },
  {
   "cell_type": "code",
   "execution_count": 4,
   "metadata": {},
   "outputs": [
    {
     "output_type": "execute_result",
     "data": {
      "text/plain": [
       "  yearmonth                            listing_id  inquiry_count  \\\n",
       "0   2019/07  f1133916-825e-5e2a-93be-eaba28a966e8              2   \n",
       "1   2019/07  836959d3-611c-5edb-887c-273aba5bd102              0   \n",
       "\n",
       "   inquiry_volume  binding_inquiry_count  binding_inquiry_volume  \\\n",
       "0            1352                      0                       0   \n",
       "1               0                      0                       0   \n",
       "\n",
       "   direct_booking_count  direct_booking_volume  result_views  expose_views  \\\n",
       "0                     0                      0          1109            85   \n",
       "1                     0                      0           871            23   \n",
       "\n",
       "   phone_clicks  \n",
       "0             1  \n",
       "1             2  "
      ],
      "text/html": "<div>\n<style scoped>\n    .dataframe tbody tr th:only-of-type {\n        vertical-align: middle;\n    }\n\n    .dataframe tbody tr th {\n        vertical-align: top;\n    }\n\n    .dataframe thead th {\n        text-align: right;\n    }\n</style>\n<table border=\"1\" class=\"dataframe\">\n  <thead>\n    <tr style=\"text-align: right;\">\n      <th></th>\n      <th>yearmonth</th>\n      <th>listing_id</th>\n      <th>inquiry_count</th>\n      <th>inquiry_volume</th>\n      <th>binding_inquiry_count</th>\n      <th>binding_inquiry_volume</th>\n      <th>direct_booking_count</th>\n      <th>direct_booking_volume</th>\n      <th>result_views</th>\n      <th>expose_views</th>\n      <th>phone_clicks</th>\n    </tr>\n  </thead>\n  <tbody>\n    <tr>\n      <th>0</th>\n      <td>2019/07</td>\n      <td>f1133916-825e-5e2a-93be-eaba28a966e8</td>\n      <td>2</td>\n      <td>1352</td>\n      <td>0</td>\n      <td>0</td>\n      <td>0</td>\n      <td>0</td>\n      <td>1109</td>\n      <td>85</td>\n      <td>1</td>\n    </tr>\n    <tr>\n      <th>1</th>\n      <td>2019/07</td>\n      <td>836959d3-611c-5edb-887c-273aba5bd102</td>\n      <td>0</td>\n      <td>0</td>\n      <td>0</td>\n      <td>0</td>\n      <td>0</td>\n      <td>0</td>\n      <td>871</td>\n      <td>23</td>\n      <td>2</td>\n    </tr>\n  </tbody>\n</table>\n</div>"
     },
     "metadata": {},
     "execution_count": 4
    }
   ],
   "source": [
    "df_statistics.head(2)"
   ]
  },
  {
   "cell_type": "code",
   "execution_count": 5,
   "metadata": {},
   "outputs": [
    {
     "output_type": "execute_result",
     "data": {
      "text/plain": [
       "   Unnamed: 0                            listing_id                added  \\\n",
       "0           0  fbd74bce-23dd-53e7-b988-8beb85160d6f  2009-12-03 00:00:00   \n",
       "1           1  4e012316-0f53-5fc6-a17f-580ff832554e  2010-01-05 00:00:00   \n",
       "\n",
       "             activated description  start_pic_summer  start_pic_winter  \\\n",
       "0  2010-12-16 00:00:00  Furnishing                 0                 0   \n",
       "1  2010-12-16 00:00:00  Floor plan                 0                 0   \n",
       "\n",
       "  picture_resolution  \n",
       "0    High-definition  \n",
       "1    Poor Resolution  "
      ],
      "text/html": "<div>\n<style scoped>\n    .dataframe tbody tr th:only-of-type {\n        vertical-align: middle;\n    }\n\n    .dataframe tbody tr th {\n        vertical-align: top;\n    }\n\n    .dataframe thead th {\n        text-align: right;\n    }\n</style>\n<table border=\"1\" class=\"dataframe\">\n  <thead>\n    <tr style=\"text-align: right;\">\n      <th></th>\n      <th>Unnamed: 0</th>\n      <th>listing_id</th>\n      <th>added</th>\n      <th>activated</th>\n      <th>description</th>\n      <th>start_pic_summer</th>\n      <th>start_pic_winter</th>\n      <th>picture_resolution</th>\n    </tr>\n  </thead>\n  <tbody>\n    <tr>\n      <th>0</th>\n      <td>0</td>\n      <td>fbd74bce-23dd-53e7-b988-8beb85160d6f</td>\n      <td>2009-12-03 00:00:00</td>\n      <td>2010-12-16 00:00:00</td>\n      <td>Furnishing</td>\n      <td>0</td>\n      <td>0</td>\n      <td>High-definition</td>\n    </tr>\n    <tr>\n      <th>1</th>\n      <td>1</td>\n      <td>4e012316-0f53-5fc6-a17f-580ff832554e</td>\n      <td>2010-01-05 00:00:00</td>\n      <td>2010-12-16 00:00:00</td>\n      <td>Floor plan</td>\n      <td>0</td>\n      <td>0</td>\n      <td>Poor Resolution</td>\n    </tr>\n  </tbody>\n</table>\n</div>"
     },
     "metadata": {},
     "execution_count": 5
    }
   ],
   "source": [
    "df_pictures.head(2)"
   ]
  },
  {
   "cell_type": "code",
   "execution_count": 6,
   "metadata": {},
   "outputs": [
    {
     "output_type": "stream",
     "name": "stdout",
     "text": [
      "(644821, 8)\n(674604, 11)\n"
     ]
    }
   ],
   "source": [
    "print(df_pictures.shape)\n",
    "print(df_statistics.shape)"
   ]
  },
  {
   "cell_type": "code",
   "execution_count": 7,
   "metadata": {},
   "outputs": [
    {
     "output_type": "stream",
     "name": "stdout",
     "text": [
      "<class 'pandas.core.frame.DataFrame'>\nRangeIndex: 644821 entries, 0 to 644820\nData columns (total 8 columns):\n #   Column              Non-Null Count   Dtype \n---  ------              --------------   ----- \n 0   Unnamed: 0          644821 non-null  int64 \n 1   listing_id          644821 non-null  object\n 2   added               644821 non-null  object\n 3   activated           644821 non-null  object\n 4   description         644821 non-null  object\n 5   start_pic_summer    644821 non-null  int64 \n 6   start_pic_winter    644821 non-null  int64 \n 7   picture_resolution  644821 non-null  object\ndtypes: int64(3), object(5)\nmemory usage: 39.4+ MB\n"
     ]
    }
   ],
   "source": [
    "df_pictures.info()"
   ]
  },
  {
   "cell_type": "code",
   "execution_count": 8,
   "metadata": {},
   "outputs": [
    {
     "output_type": "stream",
     "name": "stdout",
     "text": [
      "<class 'pandas.core.frame.DataFrame'>\nRangeIndex: 674604 entries, 0 to 674603\nData columns (total 11 columns):\n #   Column                  Non-Null Count   Dtype \n---  ------                  --------------   ----- \n 0   yearmonth               674604 non-null  object\n 1   listing_id              674604 non-null  object\n 2   inquiry_count           674604 non-null  int64 \n 3   inquiry_volume          674604 non-null  int64 \n 4   binding_inquiry_count   674604 non-null  int64 \n 5   binding_inquiry_volume  674604 non-null  int64 \n 6   direct_booking_count    674604 non-null  int64 \n 7   direct_booking_volume   674604 non-null  int64 \n 8   result_views            674604 non-null  int64 \n 9   expose_views            674604 non-null  int64 \n 10  phone_clicks            674604 non-null  int64 \ndtypes: int64(9), object(2)\nmemory usage: 56.6+ MB\n"
     ]
    }
   ],
   "source": [
    "df_statistics.info()"
   ]
  },
  {
   "source": [
    "## Remove unnamed column in df pictures"
   ],
   "cell_type": "markdown",
   "metadata": {}
  },
  {
   "cell_type": "code",
   "execution_count": 10,
   "metadata": {},
   "outputs": [],
   "source": [
    "# Drop unnamed column\n",
    "df_pictures = df_pictures.drop('Unnamed: 0', axis=1)"
   ]
  },
  {
   "source": [
    "## Covert date features into datetime"
   ],
   "cell_type": "markdown",
   "metadata": {}
  },
  {
   "cell_type": "code",
   "execution_count": 9,
   "metadata": {},
   "outputs": [],
   "source": [
    "# Convert to datetime\n",
    "df_statistics['yearmonth'] = pd.to_datetime(df_statistics['yearmonth'])\n",
    "df_pictures['added'] = pd.to_datetime(df_pictures['added'])\n",
    "df_pictures['activated'] = pd.to_datetime(df_pictures['activated'])"
   ]
  },
  {
   "cell_type": "code",
   "execution_count": 11,
   "metadata": {},
   "outputs": [
    {
     "output_type": "execute_result",
     "data": {
      "text/plain": [
       "30222"
      ]
     },
     "metadata": {},
     "execution_count": 11
    }
   ],
   "source": [
    "df_pictures.listing_id.nunique()"
   ]
  },
  {
   "cell_type": "code",
   "execution_count": 14,
   "metadata": {},
   "outputs": [
    {
     "output_type": "execute_result",
     "data": {
      "text/plain": [
       "560004"
      ]
     },
     "metadata": {},
     "execution_count": 14
    }
   ],
   "source": [
    "df_pictures.activated.nunique()"
   ]
  },
  {
   "cell_type": "code",
   "execution_count": 13,
   "metadata": {},
   "outputs": [
    {
     "output_type": "execute_result",
     "data": {
      "text/plain": [
       "30269"
      ]
     },
     "metadata": {},
     "execution_count": 13
    }
   ],
   "source": [
    "df_statistics.listing_id.nunique()"
   ]
  },
  {
   "cell_type": "code",
   "execution_count": null,
   "metadata": {},
   "outputs": [],
   "source": [
    "df_statistics."
   ]
  }
 ]
}