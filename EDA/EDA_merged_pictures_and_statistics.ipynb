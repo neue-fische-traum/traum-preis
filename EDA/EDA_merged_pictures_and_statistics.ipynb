{
 "metadata": {
  "language_info": {
   "codemirror_mode": {
    "name": "ipython",
    "version": 3
   },
   "file_extension": ".py",
   "mimetype": "text/x-python",
   "name": "python",
   "nbconvert_exporter": "python",
   "pygments_lexer": "ipython3",
   "version": "3.8.5"
  },
  "orig_nbformat": 4,
  "kernelspec": {
   "name": "python3",
   "display_name": "Python 3.8.5 64-bit ('3.8.5')"
  },
  "interpreter": {
   "hash": "d837fe7f89ea0bfb31f7e35050aa5bb243afc9e818f612445420203286c5c6ce"
  }
 },
 "nbformat": 4,
 "nbformat_minor": 2,
 "cells": [
  {
   "source": [
    "# This notebook will serve for the analysis of the Pictures and Statistics for the TFW project"
   ],
   "cell_type": "markdown",
   "metadata": {}
  },
  {
   "cell_type": "code",
   "execution_count": null,
   "metadata": {},
   "outputs": [],
   "source": [
    "# Import necassary libraries\n",
    "import numpy as np\n",
    "import pandas as pd\n",
    "import matplotlib.pyplot as plt\n",
    "import seaborn as sns"
   ]
  },
  {
   "cell_type": "code",
   "execution_count": null,
   "metadata": {},
   "outputs": [],
   "source": [
    "# Load the datasets\n",
    "df_statistics = pd.read_csv('../data/statistics_20210707.csv')\n",
    "df_pictures = pd.read_csv('../data/pictures_dataset.csv')"
   ]
  },
  {
   "cell_type": "code",
   "execution_count": null,
   "metadata": {},
   "outputs": [],
   "source": [
    "df_statistics.head(2)"
   ]
  },
  {
   "cell_type": "code",
   "execution_count": null,
   "metadata": {},
   "outputs": [],
   "source": [
    "df_pictures.head(2)"
   ]
  },
  {
   "cell_type": "code",
   "execution_count": null,
   "metadata": {},
   "outputs": [],
   "source": [
    "print(df_pictures.shape)\n",
    "print(df_statistics.shape)"
   ]
  },
  {
   "cell_type": "code",
   "execution_count": null,
   "metadata": {},
   "outputs": [],
   "source": [
    "df_pictures.info()"
   ]
  },
  {
   "cell_type": "code",
   "execution_count": null,
   "metadata": {},
   "outputs": [],
   "source": [
    "df_statistics.info()"
   ]
  },
  {
   "source": [
    "## Remove unnamed column in df pictures"
   ],
   "cell_type": "markdown",
   "metadata": {}
  },
  {
   "cell_type": "code",
   "execution_count": null,
   "metadata": {},
   "outputs": [],
   "source": [
    "# Drop unnamed column\n",
    "df_pictures = df_pictures.drop('Unnamed: 0', axis=1)"
   ]
  },
  {
   "source": [
    "## Covert date features into datetime"
   ],
   "cell_type": "markdown",
   "metadata": {}
  },
  {
   "cell_type": "code",
   "execution_count": null,
   "metadata": {},
   "outputs": [],
   "source": [
    "# Convert to datetime\n",
    "df_statistics['yearmonth'] = pd.to_datetime(df_statistics['yearmonth'])\n",
    "df_pictures['added'] = pd.to_datetime(df_pictures['added']).dt.date\n",
    "df_pictures['activated'] = pd.to_datetime(df_pictures['activated']).dt.date"
   ]
  },
  {
   "cell_type": "code",
   "execution_count": null,
   "metadata": {},
   "outputs": [],
   "source": [
    "# Number of unique listings ID\n",
    "print(df_statistics.listing_id.nunique())\n",
    "print(df_pictures.listing_id.nunique())"
   ]
  },
  {
   "source": [
    "## Distributions of the features in Statistics"
   ],
   "cell_type": "markdown",
   "metadata": {}
  },
  {
   "source": [
    "First, we group and sum the dataframe by yearmonth to get the complete result per month for all properties."
   ],
   "cell_type": "markdown",
   "metadata": {}
  },
  {
   "cell_type": "code",
   "execution_count": null,
   "metadata": {},
   "outputs": [],
   "source": [
    "# Using groupby to summarize the statistics per yearmonth\n",
    "statistic_per_month = df_statistics.groupby('yearmonth').sum().reset_index()"
   ]
  },
  {
   "source": [
    "Now, we plot line plots for the views of the properties and the clicks on the telephone number."
   ],
   "cell_type": "markdown",
   "metadata": {}
  },
  {
   "cell_type": "code",
   "execution_count": null,
   "metadata": {},
   "outputs": [],
   "source": [
    "# Line plot result views\n",
    "fig, ax = plt.subplots(figsize=(15,5))\n",
    "sns.lineplot(data=statistic_per_month, x=\"yearmonth\", y=\"result_views\")\n",
    "sns.lineplot(data=statistic_per_month, x=\"yearmonth\", y=\"expose_views\")\n",
    "sns.lineplot(data=statistic_per_month, x=\"yearmonth\", y=\"phone_clicks\")\n",
    "ax.set(xlabel='Year - Month', ylabel='Views count')\n",
    "plt.ticklabel_format(style='plain', axis='y')\n",
    "plt.legend(labels=[\"Result views\",\"Expose views\", \"Phone clicks\"])\n",
    "plt.title('Count of result views, expose views and phone clicks per month for all properties', fontsize=14);"
   ]
  },
  {
   "source": [
    "Second, we group and sum the dataframe by listing ID to get the complete result per property for all month."
   ],
   "cell_type": "markdown",
   "metadata": {}
  },
  {
   "cell_type": "code",
   "execution_count": null,
   "metadata": {},
   "outputs": [],
   "source": [
    "# Using groupby to summarize the statistics per property\n",
    "statistic_per_id = df_statistics.groupby('listing_id').sum().reset_index()"
   ]
  },
  {
   "source": [
    "Now, we plot boxplots to get an overview about the distribution of inquiry count, the views of the properties and the clicks on the telephone number."
   ],
   "cell_type": "markdown",
   "metadata": {}
  },
  {
   "cell_type": "code",
   "execution_count": null,
   "metadata": {},
   "outputs": [],
   "source": [
    "# Boxplot inquiry count\n",
    "statistic_per_id.boxplot(column=['inquiry_count'])"
   ]
  },
  {
   "cell_type": "code",
   "execution_count": null,
   "metadata": {},
   "outputs": [],
   "source": [
    "# Boxplot views and phone clicks\n",
    "statistic_per_id.boxplot(column=['result_views', 'expose_views', 'phone_clicks'])"
   ]
  },
  {
   "source": [
    "## Distributions of the features in Pictures"
   ],
   "cell_type": "markdown",
   "metadata": {}
  },
  {
   "source": [
    "First, lets have a look on the picture resolution."
   ],
   "cell_type": "markdown",
   "metadata": {}
  },
  {
   "cell_type": "code",
   "execution_count": null,
   "metadata": {},
   "outputs": [],
   "source": [
    "df_pictures.picture_resolution.hist()"
   ]
  },
  {
   "source": [
    "Most of the pictures have a ultra-high-definition."
   ],
   "cell_type": "markdown",
   "metadata": {}
  },
  {
   "source": [
    "Lets have a look a the motives and motives by resolution."
   ],
   "cell_type": "markdown",
   "metadata": {}
  },
  {
   "cell_type": "code",
   "execution_count": null,
   "metadata": {},
   "outputs": [],
   "source": [
    "# Histogram description\n",
    "fig, ax = plt.subplots(figsize=(15,5))\n",
    "sns.histplot(data=df_pictures, x=\"description\");\n"
   ]
  },
  {
   "cell_type": "code",
   "execution_count": null,
   "metadata": {},
   "outputs": [],
   "source": [
    "# Histogram description by picture resolution\n",
    "fig, ax = plt.subplots(figsize=(15,5))\n",
    "sns.histplot(data=df_pictures, x=\"description\", hue='picture_resolution', multiple=\"dodge\", shrink=.8);"
   ]
  },
  {
   "source": [
    "Create a new column with the difference between the added and activated date for the picture to plot this."
   ],
   "cell_type": "markdown",
   "metadata": {}
  },
  {
   "cell_type": "code",
   "execution_count": null,
   "metadata": {},
   "outputs": [],
   "source": [
    "# Create new column\n",
    "df_pictures['diff_add_activate'] = df_pictures.activated - df_pictures.added"
   ]
  },
  {
   "cell_type": "code",
   "execution_count": null,
   "metadata": {},
   "outputs": [],
   "source": [
    "# Description of new column diff_add_activate\n",
    "df_pictures.diff_add_activate.describe()"
   ]
  },
  {
   "source": [
    "The range of the new column diff_add_activate is wide. The minimum is a negative value. "
   ],
   "cell_type": "markdown",
   "metadata": {}
  },
  {
   "cell_type": "code",
   "execution_count": null,
   "metadata": {},
   "outputs": [],
   "source": [
    "# Plotting the distribution after converting new column from timedelta to days\n",
    "df_pictures['diff_add_activate'] = df_pictures['diff_add_activate'].dt.days\n",
    "df_pictures.boxplot(column=['diff_add_activate']);"
   ]
  },
  {
   "source": [
    "Which motives have the high difference between added and activated date?"
   ],
   "cell_type": "markdown",
   "metadata": {}
  },
  {
   "cell_type": "code",
   "execution_count": null,
   "metadata": {},
   "outputs": [],
   "source": [
    "# 95 % percentile as threshold\n",
    "df_pictures.diff_add_activate.quantile(0.95)"
   ]
  },
  {
   "cell_type": "code",
   "execution_count": null,
   "metadata": {},
   "outputs": [],
   "source": [
    "# Filter and groupby with 95 % percentile\n",
    "df_pictures.query('diff_add_activate > 3').groupby('description')['diff_add_activate'].count()"
   ]
  },
  {
   "source": [
    "How many pictures have each unique property?"
   ],
   "cell_type": "markdown",
   "metadata": {}
  },
  {
   "cell_type": "code",
   "execution_count": null,
   "metadata": {},
   "outputs": [],
   "source": [
    "# Using groupby to summarize the statistics per yearmonth\n",
    "picture_per_id = df_pictures.groupby('listing_id')['description'].count().reset_index()"
   ]
  },
  {
   "cell_type": "code",
   "execution_count": null,
   "metadata": {},
   "outputs": [],
   "source": [
    "# Description\n",
    "picture_per_id.describe()"
   ]
  },
  {
   "cell_type": "code",
   "execution_count": null,
   "metadata": {},
   "outputs": [],
   "source": [
    "# Boxplot of distribution\n",
    "picture_per_id.boxplot(column=['description'])"
   ]
  },
  {
   "source": [
    "## First try of merging"
   ],
   "cell_type": "markdown",
   "metadata": {}
  },
  {
   "source": [
    "First, we encoding the column picture resolution."
   ],
   "cell_type": "markdown",
   "metadata": {}
  },
  {
   "cell_type": "code",
   "execution_count": null,
   "metadata": {},
   "outputs": [],
   "source": [
    "# Get one hot encoding of columns 'picture_resolution'\n",
    "one_hot = pd.get_dummies(df_pictures['picture_resolution'])\n",
    "# Drop column as it is now encoded\n",
    "df_pictures = df_pictures.drop('picture_resolution',axis = 1)\n",
    "# Join the encoded df\n",
    "df_pictures = df_pictures.join(one_hot)"
   ]
  },
  {
   "cell_type": "code",
   "execution_count": null,
   "metadata": {},
   "outputs": [],
   "source": [
    "# Get one hot encoding of columns 'description'\n",
    "one_hot_2 = pd.get_dummies(df_pictures['description'])\n",
    "# Drop column as it is now encoded\n",
    "df_pictures = df_pictures.drop('description',axis = 1)\n",
    "# Join the encoded df\n",
    "df_pictures = df_pictures.join(one_hot_2)"
   ]
  },
  {
   "cell_type": "code",
   "execution_count": null,
   "metadata": {},
   "outputs": [],
   "source": [
    "df_statistics.head(2)"
   ]
  },
  {
   "cell_type": "code",
   "execution_count": null,
   "metadata": {},
   "outputs": [],
   "source": [
    "df_pictures.head(2)"
   ]
  },
  {
   "cell_type": "code",
   "execution_count": null,
   "metadata": {},
   "outputs": [],
   "source": [
    "df_pictures.shape"
   ]
  },
  {
   "cell_type": "code",
   "execution_count": null,
   "metadata": {},
   "outputs": [],
   "source": [
    "test = df_pictures.groupby(['listing_id', 'activated']).sum().reset_index()"
   ]
  },
  {
   "cell_type": "code",
   "execution_count": null,
   "metadata": {},
   "outputs": [],
   "source": [
    "test"
   ]
  },
  {
   "cell_type": "code",
   "execution_count": null,
   "metadata": {},
   "outputs": [],
   "source": [
    "df_statistics"
   ]
  },
  {
   "cell_type": "code",
   "execution_count": null,
   "metadata": {},
   "outputs": [],
   "source": []
  }
 ]
}