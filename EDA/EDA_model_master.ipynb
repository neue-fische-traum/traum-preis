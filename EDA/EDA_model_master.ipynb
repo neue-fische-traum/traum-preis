{
 "cells": [
  {
   "cell_type": "markdown",
   "source": [
    "# This notebook will serve the EDA for the cleaned dataset that we used for modeling"
   ],
   "metadata": {}
  },
  {
   "cell_type": "markdown",
   "source": [
    "## 1. Libraries and loading CSV"
   ],
   "metadata": {}
  },
  {
   "cell_type": "code",
   "execution_count": null,
   "source": [
    "# Import necassary libraries\n",
    "import pandas as pd\n",
    "import numpy as np\n",
    "import seaborn as sns\n",
    "import matplotlib.pyplot as plt\n",
    "\n",
    "# Setup axis for plots\n",
    "sns.set_context(\"talk\", font_scale=1.5)"
   ],
   "outputs": [],
   "metadata": {}
  },
  {
   "cell_type": "code",
   "execution_count": null,
   "source": [
    "# load dataset\n",
    "df_master = pd.read_csv('../data/excellent_master.csv')"
   ],
   "outputs": [],
   "metadata": {}
  },
  {
   "cell_type": "code",
   "execution_count": null,
   "source": [
    "# First look at the dataset\n",
    "df_master.head()"
   ],
   "outputs": [],
   "metadata": {}
  },
  {
   "cell_type": "markdown",
   "source": [
    "## 2. Remove unnecassary columns and show shape of dataframe"
   ],
   "metadata": {}
  },
  {
   "cell_type": "code",
   "execution_count": null,
   "source": [
    "# Remove unnecassary unnamed columns\n",
    "df_master.drop(['Unnamed: 0', 'Unnamed: 0.1', 'Unnamed: 0_x', 'Unnamed: 0_y'], axis=1, inplace=True)"
   ],
   "outputs": [],
   "metadata": {}
  },
  {
   "cell_type": "code",
   "execution_count": null,
   "source": [
    "# Shape of the dataset\n",
    "print('The dataset contains %s oberservations and %s features' %(df_master.shape[0], df_master.shape[1]))"
   ],
   "outputs": [],
   "metadata": {}
  },
  {
   "cell_type": "markdown",
   "source": [
    "## 3. Convert date features in the right data type and show first description"
   ],
   "metadata": {}
  },
  {
   "cell_type": "code",
   "execution_count": null,
   "source": [
    "# Convert column arrival_date to datetime\n",
    "df_master['arrival_date'] = pd.to_datetime(df_master['arrival_date'])"
   ],
   "outputs": [],
   "metadata": {}
  },
  {
   "cell_type": "code",
   "execution_count": null,
   "source": [
    "# First description of the numerical features\n",
    "round(df_master.describe(),3)"
   ],
   "outputs": [],
   "metadata": {}
  },
  {
   "cell_type": "markdown",
   "source": [
    "## 4. Number of properties and filtering for year 2019"
   ],
   "metadata": {}
  },
  {
   "cell_type": "code",
   "execution_count": null,
   "source": [
    "# Number of unique properties, the included years and months\n",
    "print('Number of unique properties:', df_master.listing_id.nunique())\n",
    "print('The included years are', df_master.year.unique())"
   ],
   "outputs": [],
   "metadata": {}
  },
  {
   "cell_type": "code",
   "execution_count": null,
   "source": [
    "# Number of oberservations per year\n",
    "print(df_master.query('year == 2019').shape[0])\n",
    "print(df_master.query('year == 2019').shape[0] / df_master.shape[0] * 100)\n",
    "print(df_master.query('year == 2020').shape[0])\n",
    "print(df_master.query('year == 2020').shape[0] / df_master.shape[0] * 100)"
   ],
   "outputs": [],
   "metadata": {}
  },
  {
   "cell_type": "markdown",
   "source": [
    "The dataset included inquiries from the years 2019 and 2020. We have data from 13,761 different properties and a total of 1,521,132 observations, 476,790 observations are from 2019 (31.3%) and 1,044,342 observations are from 2020 (68.7%).\n",
    "\n",
    "Due to the influence of the corona pandemic on the inquiries 2020 (as we colud see in the EDA inquiries), we are focussing on the year 2019. "
   ],
   "metadata": {}
  },
  {
   "cell_type": "code",
   "execution_count": null,
   "source": [
    "# Filter dataset for year 2019\n",
    "df_master_2019 = df_master.query('year == 2019')"
   ],
   "outputs": [],
   "metadata": {}
  },
  {
   "cell_type": "code",
   "execution_count": null,
   "source": [
    "# Number of unique properties in year 2019\n",
    "print('Number of unique properties in year 2019:', df_master_2019.listing_id.nunique())"
   ],
   "outputs": [],
   "metadata": {}
  },
  {
   "cell_type": "markdown",
   "source": [
    "The dataset includes 476,790 inquiries for 8,388 different properties in the year 2019."
   ],
   "metadata": {}
  },
  {
   "cell_type": "markdown",
   "source": [
    "## 5. Grouping / Clustering features by inquiry rate "
   ],
   "metadata": {}
  },
  {
   "cell_type": "markdown",
   "source": [
    "### 1. We will define three categories of inquiry rate: low, middle, high. Inquiry rate was calculated by expose views and inquiry count. Let's see the distribution of inquiry rate."
   ],
   "metadata": {}
  },
  {
   "cell_type": "code",
   "execution_count": null,
   "source": [
    "# Boxplot inquiry rate\n",
    "ax = sns.boxplot(x=df_master_2019[\"inquiry_rate\"])"
   ],
   "outputs": [],
   "metadata": {}
  },
  {
   "cell_type": "code",
   "execution_count": null,
   "source": [
    "# Inquiry rate per month\n",
    "ax = sns.boxplot(x=\"month\", y=\"inquiry_rate\", data=df_master_2019)"
   ],
   "outputs": [],
   "metadata": {}
  },
  {
   "cell_type": "markdown",
   "source": [
    "We define the category \"low\" as the lowest 25% inquiry rates, the category \"high\" as the highest 25% inquiry rates and the category \"middle\" as the inquiry rates between the lowest and highest group."
   ],
   "metadata": {}
  },
  {
   "cell_type": "code",
   "execution_count": null,
   "source": [
    "# Calculate inquiry_rate for quartiles to define categorical groups\n",
    "print(round(df_master_2019.inquiry_rate.describe(), 2))\n",
    "print(df_master_2019.inquiry_rate.quantile(.25))\n",
    "print(df_master_2019.inquiry_rate.quantile(.75))"
   ],
   "outputs": [],
   "metadata": {}
  },
  {
   "cell_type": "code",
   "execution_count": null,
   "source": [
    "# Create new column with the categories for inquiry rate\n",
    "\n",
    "# Create a list of our conditions\n",
    "conditions = [\n",
    "    (df_master_2019['inquiry_rate'] <= df_master_2019.inquiry_rate.quantile(.25)),\n",
    "    (df_master_2019['inquiry_rate'] > df_master_2019.inquiry_rate.quantile(.25)) & (df_master_2019['inquiry_rate'] < df_master_2019.inquiry_rate.quantile(.75)),\n",
    "    (df_master_2019['inquiry_rate'] >= df_master_2019.inquiry_rate.quantile(.75))\n",
    "]\n",
    "\n",
    "# create a list of the values we want to assign for each condition\n",
    "values = ['low', 'middle', 'high']\n",
    "\n",
    "# create a new column and use np.select to assign values to it using our lists as arguments\n",
    "df_master_2019['cat_inquiry_rate'] = np.select(conditions, values)"
   ],
   "outputs": [],
   "metadata": {}
  },
  {
   "cell_type": "code",
   "execution_count": null,
   "source": [
    "df_master_2019.head(2)"
   ],
   "outputs": [],
   "metadata": {}
  },
  {
   "cell_type": "markdown",
   "source": [
    "### 2. Group features by category inquiry rate"
   ],
   "metadata": {}
  },
  {
   "cell_type": "markdown",
   "source": [
    "We only keep the plots, where we can see a positive difference."
   ],
   "metadata": {}
  },
  {
   "cell_type": "code",
   "execution_count": null,
   "source": [
    "list(df_master_2019.columns)"
   ],
   "outputs": [],
   "metadata": {}
  },
  {
   "cell_type": "markdown",
   "source": [
    "#### Inquiry rate\n",
    "\n",
    "Of course, we can see a difference in inquiry rate by the categorical inquiry rate because we calculated the categories by this feature."
   ],
   "metadata": {}
  },
  {
   "cell_type": "code",
   "execution_count": null,
   "source": [
    "ax = sns.lineplot(x=\"cat_inquiry_rate\", y=\"inquiry_rate\", data=df_master_2019, order=['low', 'middle', 'high'])"
   ],
   "outputs": [],
   "metadata": {}
  },
  {
   "cell_type": "markdown",
   "source": [
    "#### Price per day\n",
    "\n",
    "The price per day tends to be higher with a high inquiry rate than with lower rates."
   ],
   "metadata": {}
  },
  {
   "cell_type": "code",
   "execution_count": null,
   "source": [
    "ax = sns.boxplot(x=\"cat_inquiry_rate\", y=\"filled_in_price_per_day\", data=df_master_2019, order=['low', 'middle', 'high'])"
   ],
   "outputs": [],
   "metadata": {}
  },
  {
   "cell_type": "markdown",
   "source": [
    "#### Coordinates\n",
    "\n",
    "Properties with a higher inquiry rate tends to be more in the east and north. This coincides with the highest request value for the Baltic Sea."
   ],
   "metadata": {}
  },
  {
   "cell_type": "code",
   "execution_count": null,
   "source": [
    "ax = sns.boxplot(x=\"cat_inquiry_rate\", y=\"lng\", data=df_master_2019, order=['low', 'middle', 'high'])"
   ],
   "outputs": [],
   "metadata": {}
  },
  {
   "cell_type": "code",
   "execution_count": null,
   "source": [
    "ax = sns.boxplot(x=\"cat_inquiry_rate\", y=\"lat\", data=df_master_2019, order=['low', 'middle', 'high'])"
   ],
   "outputs": [],
   "metadata": {}
  },
  {
   "cell_type": "markdown",
   "source": [
    "#### Living area\n",
    "\n"
   ],
   "metadata": {}
  },
  {
   "cell_type": "code",
   "execution_count": null,
   "source": [
    "ax = sns.boxplot(x=\"cat_inquiry_rate\", y=\"living_area\", data=df_master_2019, order=['low', 'middle', 'high'])"
   ],
   "outputs": [],
   "metadata": {}
  },
  {
   "cell_type": "markdown",
   "source": [
    "#### Maximum number of guests"
   ],
   "metadata": {}
  },
  {
   "cell_type": "code",
   "execution_count": null,
   "source": [
    "ax = sns.boxplot(x=\"cat_inquiry_rate\", y=\"max_guests\", data=df_master_2019, order=['low', 'middle', 'high'])"
   ],
   "outputs": [],
   "metadata": {}
  },
  {
   "cell_type": "markdown",
   "source": [
    "#### Top listing"
   ],
   "metadata": {}
  },
  {
   "cell_type": "code",
   "execution_count": null,
   "source": [
    "ax = sns.boxplot(x=\"cat_inquiry_rate\", y=\"top\", data=df_master_2019, order=['low', 'middle', 'high'])"
   ],
   "outputs": [],
   "metadata": {}
  },
  {
   "cell_type": "markdown",
   "source": [
    "#### Dishwasher"
   ],
   "metadata": {}
  },
  {
   "cell_type": "code",
   "execution_count": null,
   "source": [
    "ax = sns.boxplot(x=\"cat_inquiry_rate\", y=\"dishwasher\", data=df_master_2019, order=['low', 'middle', 'high'])"
   ],
   "outputs": [],
   "metadata": {}
  },
  {
   "cell_type": "markdown",
   "source": [
    "#### Vacuum cleaner"
   ],
   "metadata": {}
  },
  {
   "cell_type": "code",
   "execution_count": null,
   "source": [
    "ax = sns.boxplot(x=\"cat_inquiry_rate\", y=\"vacuum_cleaner\", data=df_master_2019, order=['low', 'middle', 'high'])"
   ],
   "outputs": [],
   "metadata": {}
  },
  {
   "cell_type": "markdown",
   "source": [
    "#### babybed and high chair"
   ],
   "metadata": {}
  },
  {
   "cell_type": "code",
   "execution_count": null,
   "source": [
    "ax = sns.boxplot(x=\"cat_inquiry_rate\", y=\"babybed\", data=df_master_2019, order=['low', 'middle', 'high'])"
   ],
   "outputs": [],
   "metadata": {}
  },
  {
   "cell_type": "code",
   "execution_count": null,
   "source": [
    "ax = sns.boxplot(x=\"cat_inquiry_rate\", y=\"high_chair\", data=df_master_2019, order=['low', 'middle', 'high'])"
   ],
   "outputs": [],
   "metadata": {}
  },
  {
   "cell_type": "markdown",
   "source": [
    "#### DVD player"
   ],
   "metadata": {}
  },
  {
   "cell_type": "code",
   "execution_count": null,
   "source": [
    "ax = sns.boxplot(x=\"cat_inquiry_rate\", y=\"DVD-player\", data=df_master_2019, order=['low', 'middle', 'high'])"
   ],
   "outputs": [],
   "metadata": {}
  },
  {
   "cell_type": "markdown",
   "source": [
    "#### Make-up mirror"
   ],
   "metadata": {}
  },
  {
   "cell_type": "code",
   "execution_count": null,
   "source": [
    "ax = sns.boxplot(x=\"cat_inquiry_rate\", y=\"make-up_mirror\", data=df_master_2019, order=['low', 'middle', 'high'])"
   ],
   "outputs": [],
   "metadata": {}
  },
  {
   "cell_type": "markdown",
   "source": [
    "#### Toaster"
   ],
   "metadata": {}
  },
  {
   "cell_type": "code",
   "execution_count": null,
   "source": [
    "ax = sns.boxplot(x=\"cat_inquiry_rate\", y=\"toaster\", data=df_master_2019, order=['low', 'middle', 'high'])"
   ],
   "outputs": [],
   "metadata": {}
  },
  {
   "cell_type": "markdown",
   "source": [
    "#### Freezer"
   ],
   "metadata": {}
  },
  {
   "cell_type": "code",
   "execution_count": null,
   "source": [
    "ax = sns.boxplot(x=\"cat_inquiry_rate\", y=\"freezer\", data=df_master_2019, order=['low', 'middle', 'high'])"
   ],
   "outputs": [],
   "metadata": {}
  },
  {
   "cell_type": "markdown",
   "source": [
    "#### Fly-screen"
   ],
   "metadata": {}
  },
  {
   "cell_type": "code",
   "execution_count": null,
   "source": [
    "ax = sns.boxplot(x=\"cat_inquiry_rate\", y=\"fly_screen\", data=df_master_2019, order=['low', 'middle', 'high'])\n"
   ],
   "outputs": [],
   "metadata": {}
  },
  {
   "cell_type": "markdown",
   "source": [
    "#### Crockery"
   ],
   "metadata": {}
  },
  {
   "cell_type": "code",
   "execution_count": null,
   "source": [
    "ax = sns.boxplot(x=\"cat_inquiry_rate\", y=\"crockery\", data=df_master_2019, order=['low', 'middle', 'high'])"
   ],
   "outputs": [],
   "metadata": {}
  },
  {
   "cell_type": "markdown",
   "source": [
    "#### Spices"
   ],
   "metadata": {}
  },
  {
   "cell_type": "code",
   "execution_count": null,
   "source": [
    "ax = sns.boxplot(x=\"cat_inquiry_rate\", y=\"spices\", data=df_master_2019, order=['low', 'middle', 'high'])"
   ],
   "outputs": [],
   "metadata": {}
  },
  {
   "cell_type": "markdown",
   "source": [
    "#### First aid kit"
   ],
   "metadata": {}
  },
  {
   "cell_type": "code",
   "execution_count": null,
   "source": [
    "ax = sns.boxplot(x=\"cat_inquiry_rate\", y=\"first-aid_kit\", data=df_master_2019, order=['low', 'middle', 'high'])"
   ],
   "outputs": [],
   "metadata": {}
  },
  {
   "cell_type": "code",
   "execution_count": null,
   "source": [],
   "outputs": [],
   "metadata": {}
  }
 ],
 "metadata": {
  "orig_nbformat": 4,
  "language_info": {
   "name": "python",
   "version": "3.8.5",
   "mimetype": "text/x-python",
   "codemirror_mode": {
    "name": "ipython",
    "version": 3
   },
   "pygments_lexer": "ipython3",
   "nbconvert_exporter": "python",
   "file_extension": ".py"
  },
  "kernelspec": {
   "name": "python3",
   "display_name": "Python 3.8.5 64-bit ('.venv')"
  },
  "interpreter": {
   "hash": "7033859b39016b1cbb0cfa821a6f288e7fd907fe4b33f32f92dbeb273ada45c0"
  }
 },
 "nbformat": 4,
 "nbformat_minor": 2
}