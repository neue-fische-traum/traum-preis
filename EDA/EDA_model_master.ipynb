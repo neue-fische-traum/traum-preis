{
 "cells": [
  {
   "cell_type": "markdown",
   "source": [
    "# This notebook will serve the EDA for the cleaned dataset that we used for modeling"
   ],
   "metadata": {}
  },
  {
   "cell_type": "markdown",
   "source": [
    "## 1. Libraries and loading CSV"
   ],
   "metadata": {}
  },
  {
   "cell_type": "code",
   "execution_count": null,
   "source": [
    "# Import necassary libraries\n",
    "import pandas as pd\n",
    "import numpy as np\n",
    "import seaborn as sns\n",
    "import matplotlib.pyplot as plt\n",
    "\n",
    "# Setup axis for plots\n",
    "sns.set_context(\"talk\", font_scale=1.5)"
   ],
   "outputs": [],
   "metadata": {}
  },
  {
   "cell_type": "code",
   "execution_count": null,
   "source": [
    "# load dataset\n",
    "df_master = pd.read_csv('../data/super_master.csv')"
   ],
   "outputs": [],
   "metadata": {}
  },
  {
   "cell_type": "code",
   "execution_count": null,
   "source": [
    "# First look at the dataset\n",
    "df_master.head()"
   ],
   "outputs": [],
   "metadata": {}
  },
  {
   "cell_type": "markdown",
   "source": [
    "## 2. Remove unnecassary columns and show shape of dataframe"
   ],
   "metadata": {}
  },
  {
   "cell_type": "code",
   "execution_count": null,
   "source": [
    "# Remove unnecassary unnamed columns\n",
    "df_master.drop(['Unnamed: 0', 'Unnamed: 0.1', 'Unnamed: 0_x', 'Unnamed: 0_y'], axis=1, inplace=True)"
   ],
   "outputs": [],
   "metadata": {}
  },
  {
   "cell_type": "code",
   "execution_count": null,
   "source": [
    "# Shape of the dataset\n",
    "print('The dataset contains %s oberservations and %s features' %(df_master.shape[0], df_master.shape[1]))"
   ],
   "outputs": [],
   "metadata": {}
  },
  {
   "cell_type": "markdown",
   "source": [
    "## 3. Convert date features in the right data type and show first description"
   ],
   "metadata": {}
  },
  {
   "cell_type": "code",
   "execution_count": null,
   "source": [
    "# Convert column arrival_date to datetime\n",
    "df_master['arrival_date'] = pd.to_datetime(df_master['arrival_date'])"
   ],
   "outputs": [],
   "metadata": {}
  },
  {
   "cell_type": "code",
   "execution_count": null,
   "source": [
    "# First description of the numerical features\n",
    "round(df_master.describe(),3)"
   ],
   "outputs": [],
   "metadata": {}
  },
  {
   "cell_type": "markdown",
   "source": [
    "## 4. Number of properties and filtering for year 2019"
   ],
   "metadata": {}
  },
  {
   "cell_type": "code",
   "execution_count": null,
   "source": [
    "# Number of unique properties, the included years and months\n",
    "print('Number of unique properties:', df_master.listing_id.nunique())\n",
    "print('The included years are', df_master.year.unique())"
   ],
   "outputs": [],
   "metadata": {}
  },
  {
   "cell_type": "code",
   "execution_count": null,
   "source": [
    "# Number of oberservations per year\n",
    "print(df_master.query('year == 2019').shape[0])\n",
    "print(df_master.query('year == 2019').shape[0] / df_master.shape[0] * 100)\n",
    "print(df_master.query('year == 2020').shape[0])\n",
    "print(df_master.query('year == 2020').shape[0] / df_master.shape[0] * 100)"
   ],
   "outputs": [],
   "metadata": {}
  },
  {
   "cell_type": "markdown",
   "source": [
    "The dataset included inquiries from the years 2019 and 2020. We have the data from 17,185 different properties. Of a total of 6,081,983 observations, 1,881,180 observations are from 2019 (30.9%) and 4,200,803 observations are from 2020 (69.1%).\n",
    "\n",
    "Due to the influence of the corona pandemic on the inquiries 2020 (as we colud see in the EDA inquiries), we are focussing on the year 2019. "
   ],
   "metadata": {}
  },
  {
   "cell_type": "code",
   "execution_count": null,
   "source": [
    "# Filter dataset for year 2019\n",
    "df_master_2019 = df_master.query('year == 2019')"
   ],
   "outputs": [],
   "metadata": {}
  },
  {
   "cell_type": "code",
   "execution_count": null,
   "source": [
    "# Save Master 2019 as csv\n",
    "#df_master_2019.to_csv('../data/super_master_2019.csv')\n",
    "\n",
    "# Import Master 2019\n",
    "#df_master_2019 = pd.read_csv('../data/super_master_2019.csv')"
   ],
   "outputs": [],
   "metadata": {}
  },
  {
   "cell_type": "code",
   "execution_count": null,
   "source": [
    "# Number of unique properties in year 2019\n",
    "print('Number of unique properties in year 2019:', df_master_2019.listing_id.nunique())"
   ],
   "outputs": [],
   "metadata": {}
  },
  {
   "cell_type": "markdown",
   "source": [
    "The dataset includes 1,881,180 inquiries for 10,270 different properties in the year 2019."
   ],
   "metadata": {}
  },
  {
   "cell_type": "markdown",
   "source": [
    "## 5. Grouping / Clustering features by inquiry rate "
   ],
   "metadata": {}
  },
  {
   "cell_type": "markdown",
   "source": [
    "### 1. We will define three categories of inquiry rate: low, middle, high. Inquiry rate was calculated by expose views and inquiry count. Let's see the distribution of inquiry rate."
   ],
   "metadata": {}
  },
  {
   "cell_type": "code",
   "execution_count": null,
   "source": [
    "# Boxplot inquiry rate\n",
    "ax = sns.boxplot(x=df_master_2019[\"inquiry_rate\"])"
   ],
   "outputs": [],
   "metadata": {}
  },
  {
   "cell_type": "code",
   "execution_count": null,
   "source": [
    "# Inquiry rate per month\n",
    "ax = sns.boxplot(x=\"month\", y=\"inquiry_rate\", data=df_master_2019)"
   ],
   "outputs": [],
   "metadata": {}
  },
  {
   "cell_type": "markdown",
   "source": [
    "We define the category \"low\" as the lowest 25% inquiry rates, the category \"high\" as the highest 25% inquiry rates and the category \"middle\" as the inquiry rates between the lowest and highest group."
   ],
   "metadata": {}
  },
  {
   "cell_type": "code",
   "execution_count": null,
   "source": [
    "# Calculate inquiry_rate for quartiles to define categorical groups\n",
    "print(round(df_master_2019.inquiry_rate.describe(), 2))\n",
    "print(df_master_2019.inquiry_rate.quantile(.25))\n",
    "print(df_master_2019.inquiry_rate.quantile(.75))"
   ],
   "outputs": [],
   "metadata": {}
  },
  {
   "cell_type": "code",
   "execution_count": null,
   "source": [
    "# Create new column with the categories for inquiry rate\n",
    "\n",
    "# Create a list of our conditions\n",
    "conditions = [\n",
    "    (df_master_2019['inquiry_rate'] <= df_master_2019.inquiry_rate.quantile(.25)),\n",
    "    (df_master_2019['inquiry_rate'] > df_master_2019.inquiry_rate.quantile(.25)) & (df_master_2019['inquiry_rate'] < df_master_2019.inquiry_rate.quantile(.75)),\n",
    "    (df_master_2019['inquiry_rate'] >= df_master_2019.inquiry_rate.quantile(.75))\n",
    "]\n",
    "\n",
    "# create a list of the values we want to assign for each condition\n",
    "values = ['low', 'middle', 'high']\n",
    "\n",
    "# create a new column and use np.select to assign values to it using our lists as arguments\n",
    "df_master_2019['cat_inquiry_rate'] = np.select(conditions, values)"
   ],
   "outputs": [],
   "metadata": {}
  },
  {
   "cell_type": "code",
   "execution_count": null,
   "source": [
    "df_master_2019.head(2)"
   ],
   "outputs": [],
   "metadata": {}
  },
  {
   "cell_type": "markdown",
   "source": [
    "### 2. Group features by category inquiry rate"
   ],
   "metadata": {}
  },
  {
   "cell_type": "markdown",
   "source": [
    "We only keep the plots, where we can see a difference."
   ],
   "metadata": {}
  },
  {
   "cell_type": "markdown",
   "source": [
    "No difference in: top, children`s_room, corridor, dining_room, living_bedroom, separate_WC, washroom, wellness, Blu-ray_player, CDs_DVDs, additional_bed, awning_, beach_chair, bicycles, bread_service, bunk_bed, carport, chest_of_drawers, child's_bed, children_toilet_seat, coffee_machine, colouring_book_pencils, desk, double_bed, double_wash_basin, fireplace, first-aid_kit, food_processor, garage, garden_furniture, garden_shed, make-up_mirror, mirror, phone, playground, pond, private_parking, refrigerator, safe, sandpit, sandwich_toaster, shower, slide, socket_covers, spices, stair_gate, sunshade, swing, table_tennis, toilet, toys, trampoline, walk-in_shower, wardrobe, wash_basin, windbreak, cooking, pets_count, option_non_smoking_only, option_holiday_with_your_horse, option_close_to_the_beach, option_family_travel, option_holiday_with_your_baby, babybed, tv, pool, sauna, garden, bathrooms, bedrooms, DVD-player, living_room, bed_linen, cleaning_supplies, dining_table, drying_rack, hair_dryer, high_chair, hot_water, sofa_bed, single_bed, sun_umbrella_, tea_towels, towels, option_holiday_with_your_pet,"
   ],
   "metadata": {}
  },
  {
   "cell_type": "markdown",
   "source": [
    "Positive Difference: inquiry_count, kitchen_living, armchair, bath_towels, bathtub, central_heating, crockery,laundry_service, lawn, mixer, radio, stereo_system, sun_loungers, option_allergic, option_holiday_with_your_dog, option_wheelchair_accessible, option_close_to_the_water, option_long_term_holiday, option_technicians, washingmachine, dryer, grill, max_guests, living_area, lat, lng, filled_in_price_per_day, inquiry_rate"
   ],
   "metadata": {}
  },
  {
   "cell_type": "code",
   "execution_count": null,
   "source": [
    "Negative Difference: kitchen, living_/_dining_room, storage_room, books, egg_cooker, fire_alarm, flat_iron,\n",
    "fly_screen, freezer, games, microwave, sofa, underfloor_heating, vacuum_cleaner,\n",
    "option_fully_accessible, internet, balcony, "
   ],
   "outputs": [],
   "metadata": {}
  },
  {
   "cell_type": "code",
   "execution_count": null,
   "source": [
    "toaster, adult_count, length_stay, option_close_to_the_ski_lift, dishwasher, "
   ],
   "outputs": [],
   "metadata": {}
  },
  {
   "cell_type": "code",
   "execution_count": null,
   "source": [
    "Not numeric: title, month, holiday_region"
   ],
   "outputs": [],
   "metadata": {}
  },
  {
   "cell_type": "code",
   "execution_count": null,
   "source": [
    "list(df_master_2019.columns)"
   ],
   "outputs": [],
   "metadata": {}
  },
  {
   "cell_type": "code",
   "execution_count": null,
   "source": [
    "df_master_2019.holiday_region.value_counts()[:5]"
   ],
   "outputs": [],
   "metadata": {}
  },
  {
   "cell_type": "code",
   "execution_count": null,
   "source": [
    "region_list = ['Ostsee', 'Nordsee', 'Oberbayern', 'Oberallgäu', 'Bodensee']\n",
    "\n",
    "region = df_master_2019[df_master_2019['holiday_region'].isin(region_list)]"
   ],
   "outputs": [],
   "metadata": {}
  },
  {
   "cell_type": "code",
   "execution_count": null,
   "source": [
    "ax = sns.boxplot(x=\"holiday_region\", y=\"inquiry_rate\", data=region)\n",
    "ax.set_xticklabels(ax.get_xticklabels(),rotation = 90);"
   ],
   "outputs": [],
   "metadata": {}
  },
  {
   "cell_type": "code",
   "execution_count": null,
   "source": [],
   "outputs": [],
   "metadata": {}
  },
  {
   "cell_type": "markdown",
   "source": [
    "#### Inquiry rate\n",
    "\n",
    "Of course, we can see a difference in inquiry rate by the categorical inquiry rate because we calculated the categories by this feature."
   ],
   "metadata": {}
  },
  {
   "cell_type": "code",
   "execution_count": null,
   "source": [
    "ax = sns.boxplot(x=\"cat_inquiry_rate\", y=\"inquiry_rate\", data=df_master_2019, order=['low', 'middle', 'high'])"
   ],
   "outputs": [],
   "metadata": {}
  },
  {
   "cell_type": "markdown",
   "source": [
    "#### Price per day\n",
    "\n",
    "The price per day tends to be higher with a high inquiry rate than with lower rates."
   ],
   "metadata": {}
  },
  {
   "cell_type": "code",
   "execution_count": null,
   "source": [
    "ax = sns.boxplot(x=\"cat_inquiry_rate\", y=\"filled_in_price_per_day\", data=df_master_2019, order=['low', 'middle', 'high'])"
   ],
   "outputs": [],
   "metadata": {}
  },
  {
   "cell_type": "markdown",
   "source": [
    "#### Coordinates\n",
    "\n",
    "Properties with a higher inquiry rate tends to be more in the east and north. This coincides with the highest request value for the Baltic Sea."
   ],
   "metadata": {}
  },
  {
   "cell_type": "code",
   "execution_count": null,
   "source": [
    "ax = sns.boxplot(x=\"cat_inquiry_rate\", y=\"lng\", data=df_master_2019, order=['low', 'middle', 'high'])"
   ],
   "outputs": [],
   "metadata": {}
  },
  {
   "cell_type": "code",
   "execution_count": null,
   "source": [
    "ax = sns.boxplot(x=\"cat_inquiry_rate\", y=\"lat\", data=df_master_2019, order=['low', 'middle', 'high'])"
   ],
   "outputs": [],
   "metadata": {}
  },
  {
   "cell_type": "markdown",
   "source": [
    "#### Living area\n",
    "\n"
   ],
   "metadata": {}
  },
  {
   "cell_type": "code",
   "execution_count": null,
   "source": [
    "ax = sns.boxplot(x=\"cat_inquiry_rate\", y=\"living_area\", data=df_master_2019, order=['low', 'middle', 'high'])"
   ],
   "outputs": [],
   "metadata": {}
  },
  {
   "cell_type": "markdown",
   "source": [
    "#### Maximum number of guests"
   ],
   "metadata": {}
  },
  {
   "cell_type": "code",
   "execution_count": null,
   "source": [
    "ax = sns.boxplot(x=\"cat_inquiry_rate\", y=\"max_guests\", data=df_master_2019, order=['low', 'middle', 'high'])"
   ],
   "outputs": [],
   "metadata": {}
  },
  {
   "cell_type": "markdown",
   "source": [
    "#### Balcony"
   ],
   "metadata": {}
  },
  {
   "cell_type": "code",
   "execution_count": null,
   "source": [
    "ax = sns.boxplot(x=\"cat_inquiry_rate\", y=\"balcony\", data=df_master_2019, order=['low', 'middle', 'high'])"
   ],
   "outputs": [],
   "metadata": {}
  },
  {
   "cell_type": "markdown",
   "source": [
    "#### Grill"
   ],
   "metadata": {}
  },
  {
   "cell_type": "code",
   "execution_count": null,
   "source": [
    "ax = sns.boxplot(x=\"cat_inquiry_rate\", y=\"grill\", data=df_master_2019, order=['low', 'middle', 'high'])"
   ],
   "outputs": [],
   "metadata": {}
  },
  {
   "cell_type": "markdown",
   "source": [
    "#### Washingmaschine and Dryer"
   ],
   "metadata": {}
  },
  {
   "cell_type": "code",
   "execution_count": null,
   "source": [
    "ax = sns.boxplot(x=\"cat_inquiry_rate\", y=\"dryer\", data=df_master_2019, order=['low', 'middle', 'high'])\n"
   ],
   "outputs": [],
   "metadata": {}
  },
  {
   "cell_type": "code",
   "execution_count": null,
   "source": [
    "ax = sns.boxplot(x=\"cat_inquiry_rate\", y=\"washingmachine\", data=df_master_2019, order=['low', 'middle', 'high'])"
   ],
   "outputs": [],
   "metadata": {}
  },
  {
   "cell_type": "markdown",
   "source": [
    "#### Dishwasher"
   ],
   "metadata": {}
  },
  {
   "cell_type": "code",
   "execution_count": null,
   "source": [
    "ax = sns.boxplot(x=\"cat_inquiry_rate\", y=\"dishwasher\", data=df_master_2019, order=['low', 'middle', 'high'])"
   ],
   "outputs": [],
   "metadata": {}
  },
  {
   "cell_type": "markdown",
   "source": [
    "#### Internet"
   ],
   "metadata": {}
  },
  {
   "cell_type": "code",
   "execution_count": null,
   "source": [
    "ax = sns.boxplot(x=\"cat_inquiry_rate\", y=\"internet\", data=df_master_2019, order=['low', 'middle', 'high'])"
   ],
   "outputs": [],
   "metadata": {}
  },
  {
   "cell_type": "markdown",
   "source": [
    "#### Wheelchariaccess"
   ],
   "metadata": {}
  },
  {
   "cell_type": "code",
   "execution_count": null,
   "source": [
    "ax = sns.boxplot(x=\"cat_inquiry_rate\", y=\"wheelchairaccess\", data=df_master_2019, order=['low', 'middle', 'high'])"
   ],
   "outputs": [],
   "metadata": {}
  },
  {
   "cell_type": "markdown",
   "source": [
    "#### Property close to the ski lift"
   ],
   "metadata": {}
  },
  {
   "cell_type": "code",
   "execution_count": null,
   "source": [
    "ax = sns.boxplot(x=\"cat_inquiry_rate\", y=\"option_close_to_the_ski_lift\", data=df_master_2019, order=['low', 'middle', 'high'])"
   ],
   "outputs": [],
   "metadata": {}
  },
  {
   "cell_type": "markdown",
   "source": [
    "#### Option technician"
   ],
   "metadata": {}
  },
  {
   "cell_type": "code",
   "execution_count": null,
   "source": [
    "ax = sns.boxplot(x=\"cat_inquiry_rate\", y=\"option_technicians\", data=df_master_2019, order=['low', 'middle', 'high'])"
   ],
   "outputs": [],
   "metadata": {}
  },
  {
   "cell_type": "markdown",
   "source": [
    "#### Option fully accessible"
   ],
   "metadata": {}
  },
  {
   "cell_type": "code",
   "execution_count": null,
   "source": [
    "ax = sns.boxplot(x=\"cat_inquiry_rate\", y=\"option_fully_accessible\", data=df_master_2019, order=['low', 'middle', 'high'])"
   ],
   "outputs": [],
   "metadata": {}
  },
  {
   "cell_type": "markdown",
   "source": [
    "#### Option long term holiday"
   ],
   "metadata": {}
  },
  {
   "cell_type": "code",
   "execution_count": null,
   "source": [
    "ax = sns.boxplot(x=\"cat_inquiry_rate\", y=\"option_long_term_holiday\", data=df_master_2019, order=['low', 'middle', 'high'])"
   ],
   "outputs": [],
   "metadata": {}
  },
  {
   "cell_type": "markdown",
   "source": [
    "#### Option close to the water"
   ],
   "metadata": {}
  },
  {
   "cell_type": "code",
   "execution_count": null,
   "source": [
    "ax = sns.boxplot(x=\"cat_inquiry_rate\", y=\"option_close_to_the_water\", data=df_master_2019, order=['low', 'middle', 'high'])"
   ],
   "outputs": [],
   "metadata": {}
  },
  {
   "cell_type": "markdown",
   "source": [
    "#### Holiday with your dog"
   ],
   "metadata": {}
  },
  {
   "cell_type": "code",
   "execution_count": null,
   "source": [
    "ax = sns.boxplot(x=\"cat_inquiry_rate\", y=\"option_holiday_with_your_dog\", data=df_master_2019, order=['low', 'middle', 'high'])"
   ],
   "outputs": [],
   "metadata": {}
  },
  {
   "cell_type": "markdown",
   "source": [
    "#### Option allergic"
   ],
   "metadata": {}
  },
  {
   "cell_type": "code",
   "execution_count": null,
   "source": [
    "ax = sns.boxplot(x=\"cat_inquiry_rate\", y=\"option_allergic\", data=df_master_2019, order=['low', 'middle', 'high'])"
   ],
   "outputs": [],
   "metadata": {}
  },
  {
   "cell_type": "markdown",
   "source": [
    "#### Length of stay"
   ],
   "metadata": {}
  },
  {
   "cell_type": "code",
   "execution_count": null,
   "source": [
    "ax = sns.boxplot(x=\"cat_inquiry_rate\", y=\"length_stay\", data=df_master_2019, order=['low', 'middle', 'high'])"
   ],
   "outputs": [],
   "metadata": {}
  },
  {
   "cell_type": "markdown",
   "source": [
    "#### Children Count"
   ],
   "metadata": {}
  },
  {
   "cell_type": "code",
   "execution_count": null,
   "source": [
    "ax = sns.boxplot(x=\"cat_inquiry_rate\", y=\"children_count\", data=df_master_2019, order=['low', 'middle', 'high'])"
   ],
   "outputs": [],
   "metadata": {}
  },
  {
   "cell_type": "markdown",
   "source": [
    "#### Adult count"
   ],
   "metadata": {}
  },
  {
   "cell_type": "code",
   "execution_count": null,
   "source": [
    "ax = sns.boxplot(x=\"cat_inquiry_rate\", y=\"adult_count\", data=df_master_2019, order=['low', 'middle', 'high'])"
   ],
   "outputs": [],
   "metadata": {}
  },
  {
   "cell_type": "markdown",
   "source": [
    "#### Vacuum cleaner"
   ],
   "metadata": {}
  },
  {
   "cell_type": "code",
   "execution_count": null,
   "source": [
    "ax = sns.boxplot(x=\"cat_inquiry_rate\", y=\"vacuum_cleaner\", data=df_master_2019, order=['low', 'middle', 'high'])"
   ],
   "outputs": [],
   "metadata": {}
  },
  {
   "cell_type": "markdown",
   "source": [
    "#### Underfloor heating"
   ],
   "metadata": {}
  },
  {
   "cell_type": "code",
   "execution_count": null,
   "source": [
    "ax = sns.boxplot(x=\"cat_inquiry_rate\", y=\"underfloor_heating\", data=df_master_2019, order=['low', 'middle', 'high'])"
   ],
   "outputs": [],
   "metadata": {}
  },
  {
   "cell_type": "markdown",
   "source": [
    "#### Toaster"
   ],
   "metadata": {}
  },
  {
   "cell_type": "code",
   "execution_count": null,
   "source": [
    "ax = sns.boxplot(x=\"cat_inquiry_rate\", y=\"toaster\", data=df_master_2019, order=['low', 'middle', 'high'])"
   ],
   "outputs": [],
   "metadata": {}
  },
  {
   "cell_type": "markdown",
   "source": [
    "#### sun loungers"
   ],
   "metadata": {}
  },
  {
   "cell_type": "code",
   "execution_count": null,
   "source": [
    "ax = sns.boxplot(x=\"cat_inquiry_rate\", y=\"sun_loungers\", data=df_master_2019, order=['low', 'middle', 'high'])"
   ],
   "outputs": [],
   "metadata": {}
  },
  {
   "cell_type": "markdown",
   "source": [
    "#### stereo system"
   ],
   "metadata": {}
  },
  {
   "cell_type": "code",
   "execution_count": null,
   "source": [
    "ax = sns.boxplot(x=\"cat_inquiry_rate\", y=\"stereo_system\", data=df_master_2019, order=['low', 'middle', 'high'])"
   ],
   "outputs": [],
   "metadata": {}
  },
  {
   "cell_type": "markdown",
   "source": [
    "#### Sofa"
   ],
   "metadata": {}
  },
  {
   "cell_type": "code",
   "execution_count": null,
   "source": [
    "ax = sns.boxplot(x=\"cat_inquiry_rate\", y=\"sofa\", data=df_master_2019, order=['low', 'middle', 'high'])"
   ],
   "outputs": [],
   "metadata": {}
  },
  {
   "cell_type": "markdown",
   "source": [
    "#### Radio"
   ],
   "metadata": {}
  },
  {
   "cell_type": "code",
   "execution_count": null,
   "source": [
    "ax = sns.boxplot(x=\"cat_inquiry_rate\", y=\"radio\", data=df_master_2019, order=['low', 'middle', 'high'])"
   ],
   "outputs": [],
   "metadata": {}
  },
  {
   "cell_type": "markdown",
   "source": [
    "#### Mixer"
   ],
   "metadata": {}
  },
  {
   "cell_type": "code",
   "execution_count": null,
   "source": [
    "ax = sns.boxplot(x=\"cat_inquiry_rate\", y=\"mixer\", data=df_master_2019, order=['low', 'middle', 'high'])"
   ],
   "outputs": [],
   "metadata": {}
  },
  {
   "cell_type": "markdown",
   "source": [
    "#### Microwave"
   ],
   "metadata": {}
  },
  {
   "cell_type": "code",
   "execution_count": null,
   "source": [
    "ax = sns.boxplot(x=\"cat_inquiry_rate\", y=\"microwave\", data=df_master_2019, order=['low', 'middle', 'high'])"
   ],
   "outputs": [],
   "metadata": {}
  },
  {
   "cell_type": "markdown",
   "source": [
    "#### lawn"
   ],
   "metadata": {}
  },
  {
   "cell_type": "code",
   "execution_count": null,
   "source": [
    "ax = sns.boxplot(x=\"cat_inquiry_rate\", y=\"lawn\", data=df_master_2019, order=['low', 'middle', 'high'])"
   ],
   "outputs": [],
   "metadata": {}
  },
  {
   "cell_type": "markdown",
   "source": [
    "#### Laundry-service"
   ],
   "metadata": {}
  },
  {
   "cell_type": "code",
   "execution_count": null,
   "source": [
    "ax = sns.boxplot(x=\"cat_inquiry_rate\", y=\"laundry_service\", data=df_master_2019, order=['low', 'middle', 'high'])"
   ],
   "outputs": [],
   "metadata": {}
  },
  {
   "cell_type": "markdown",
   "source": [
    "#### Games"
   ],
   "metadata": {}
  },
  {
   "cell_type": "code",
   "execution_count": null,
   "source": [
    "ax = sns.boxplot(x=\"cat_inquiry_rate\", y=\"games\", data=df_master_2019, order=['low', 'middle', 'high'])"
   ],
   "outputs": [],
   "metadata": {}
  },
  {
   "cell_type": "markdown",
   "source": [
    "#### Freezer"
   ],
   "metadata": {}
  },
  {
   "cell_type": "code",
   "execution_count": null,
   "source": [
    "ax = sns.boxplot(x=\"cat_inquiry_rate\", y=\"freezer\", data=df_master_2019, order=['low', 'middle', 'high'])"
   ],
   "outputs": [],
   "metadata": {}
  },
  {
   "cell_type": "markdown",
   "source": [
    "#### Fly-screen"
   ],
   "metadata": {}
  },
  {
   "cell_type": "code",
   "execution_count": null,
   "source": [
    "ax = sns.boxplot(x=\"cat_inquiry_rate\", y=\"fly_screen\", data=df_master_2019, order=['low', 'middle', 'high'])\n"
   ],
   "outputs": [],
   "metadata": {}
  },
  {
   "cell_type": "markdown",
   "source": [
    "#### Flat-iron"
   ],
   "metadata": {}
  },
  {
   "cell_type": "code",
   "execution_count": null,
   "source": [
    "ax = sns.boxplot(x=\"cat_inquiry_rate\", y=\"flat_iron\", data=df_master_2019, order=['low', 'middle', 'high'])\n"
   ],
   "outputs": [],
   "metadata": {}
  },
  {
   "cell_type": "markdown",
   "source": [
    "#### Fire alarm"
   ],
   "metadata": {}
  },
  {
   "cell_type": "code",
   "execution_count": null,
   "source": [
    "ax = sns.boxplot(x=\"cat_inquiry_rate\", y=\"fire_alarm\", data=df_master_2019, order=['low', 'middle', 'high'])"
   ],
   "outputs": [],
   "metadata": {}
  },
  {
   "cell_type": "markdown",
   "source": [
    "#### Egg cooker"
   ],
   "metadata": {}
  },
  {
   "cell_type": "code",
   "execution_count": null,
   "source": [
    "ax = sns.boxplot(x=\"cat_inquiry_rate\", y=\"egg_cooker\", data=df_master_2019, order=['low', 'middle', 'high'])"
   ],
   "outputs": [],
   "metadata": {}
  },
  {
   "cell_type": "markdown",
   "source": [
    "#### Crockery"
   ],
   "metadata": {}
  },
  {
   "cell_type": "code",
   "execution_count": null,
   "source": [
    "ax = sns.boxplot(x=\"cat_inquiry_rate\", y=\"crockery\", data=df_master_2019, order=['low', 'middle', 'high'])"
   ],
   "outputs": [],
   "metadata": {}
  },
  {
   "cell_type": "markdown",
   "source": [
    "#### Central heating"
   ],
   "metadata": {}
  },
  {
   "cell_type": "code",
   "execution_count": null,
   "source": [
    "ax = sns.boxplot(x=\"cat_inquiry_rate\", y=\"central_heating\", data=df_master_2019, order=['low', 'middle', 'high'])"
   ],
   "outputs": [],
   "metadata": {}
  },
  {
   "cell_type": "markdown",
   "source": [
    "#### Books"
   ],
   "metadata": {}
  },
  {
   "cell_type": "code",
   "execution_count": null,
   "source": [
    "ax = sns.boxplot(x=\"cat_inquiry_rate\", y=\"books\", data=df_master_2019, order=['low', 'middle', 'high'])"
   ],
   "outputs": [],
   "metadata": {}
  },
  {
   "cell_type": "markdown",
   "source": [
    "#### Bathtub"
   ],
   "metadata": {}
  },
  {
   "cell_type": "code",
   "execution_count": null,
   "source": [
    "ax = sns.boxplot(x=\"cat_inquiry_rate\", y=\"bathtub\", data=df_master_2019, order=['low', 'middle', 'high'])"
   ],
   "outputs": [],
   "metadata": {}
  },
  {
   "cell_type": "markdown",
   "source": [
    "#### Bath towels"
   ],
   "metadata": {}
  },
  {
   "cell_type": "code",
   "execution_count": null,
   "source": [
    "ax = sns.boxplot(x=\"cat_inquiry_rate\", y=\"bath_towels\", data=df_master_2019, order=['low', 'middle', 'high'])"
   ],
   "outputs": [],
   "metadata": {}
  },
  {
   "cell_type": "markdown",
   "source": [
    "#### Armchair"
   ],
   "metadata": {}
  },
  {
   "cell_type": "code",
   "execution_count": null,
   "source": [
    "ax = sns.boxplot(x=\"cat_inquiry_rate\", y=\"armchair\", data=df_master_2019, order=['low', 'middle', 'high'])"
   ],
   "outputs": [],
   "metadata": {}
  },
  {
   "cell_type": "markdown",
   "source": [
    "#### Storage room"
   ],
   "metadata": {}
  },
  {
   "cell_type": "code",
   "execution_count": null,
   "source": [
    "ax = sns.boxplot(x=\"cat_inquiry_rate\", y=\"storage_room\", data=df_master_2019, order=['low', 'middle', 'high'])"
   ],
   "outputs": [],
   "metadata": {}
  },
  {
   "cell_type": "markdown",
   "source": [
    "#### Living / Dining room and kitchen / living"
   ],
   "metadata": {}
  },
  {
   "cell_type": "code",
   "execution_count": null,
   "source": [
    "ax = sns.boxplot(x=\"cat_inquiry_rate\", y=\"living_/_dining_room\", data=df_master_2019, order=['low', 'middle', 'high'])"
   ],
   "outputs": [],
   "metadata": {}
  },
  {
   "cell_type": "code",
   "execution_count": null,
   "source": [
    "ax = sns.boxplot(x=\"cat_inquiry_rate\", y=\"kitchen_living\", data=df_master_2019, order=['low', 'middle', 'high'])"
   ],
   "outputs": [],
   "metadata": {}
  },
  {
   "cell_type": "markdown",
   "source": [
    "#### Kitchen"
   ],
   "metadata": {}
  },
  {
   "cell_type": "code",
   "execution_count": null,
   "source": [
    "ax = sns.boxplot(x=\"cat_inquiry_rate\", y=\"kitchen\", data=df_master_2019, order=['low', 'middle', 'high'])"
   ],
   "outputs": [],
   "metadata": {}
  },
  {
   "cell_type": "markdown",
   "source": [
    "#### Inquiry count"
   ],
   "metadata": {}
  },
  {
   "cell_type": "code",
   "execution_count": null,
   "source": [
    "ax = sns.boxplot(x=\"cat_inquiry_rate\", y=\"inquiry_count\", data=df_master_2019, order=['low', 'middle', 'high'])"
   ],
   "outputs": [],
   "metadata": {}
  },
  {
   "cell_type": "code",
   "execution_count": null,
   "source": [],
   "outputs": [],
   "metadata": {}
  },
  {
   "cell_type": "code",
   "execution_count": null,
   "source": [],
   "outputs": [],
   "metadata": {}
  },
  {
   "cell_type": "markdown",
   "source": [
    "## 4. Correlations between some features"
   ],
   "metadata": {}
  },
  {
   "cell_type": "code",
   "execution_count": null,
   "source": [
    "# generate the heatmap\n",
    "corr = df_master.corr()\n",
    "fig, ax = plt.subplots(figsize=(20, 20))\n",
    "sns.heatmap(\n",
    "    corr,\n",
    "    vmin=-1, vmax=1, center=0,\n",
    "    cmap=sns.diverging_palette(20, 220, n=200),\n",
    "    square=True\n",
    ")\n",
    "ax.set_xticklabels(\n",
    "    ax.get_xticklabels(),\n",
    "    rotation=45,\n",
    "    horizontalalignment='right'\n",
    ");"
   ],
   "outputs": [],
   "metadata": {}
  },
  {
   "cell_type": "code",
   "execution_count": null,
   "source": [
    "# Generate table with correlations \n",
    "df_master.corr().style.background_gradient(cmap='coolwarm')"
   ],
   "outputs": [],
   "metadata": {}
  },
  {
   "cell_type": "code",
   "execution_count": null,
   "source": [],
   "outputs": [],
   "metadata": {}
  }
 ],
 "metadata": {
  "orig_nbformat": 4,
  "language_info": {
   "name": "python",
   "version": "3.8.5",
   "mimetype": "text/x-python",
   "codemirror_mode": {
    "name": "ipython",
    "version": 3
   },
   "pygments_lexer": "ipython3",
   "nbconvert_exporter": "python",
   "file_extension": ".py"
  },
  "kernelspec": {
   "name": "python3",
   "display_name": "Python 3.8.5 64-bit ('.venv': venv)"
  },
  "interpreter": {
   "hash": "7033859b39016b1cbb0cfa821a6f288e7fd907fe4b33f32f92dbeb273ada45c0"
  }
 },
 "nbformat": 4,
 "nbformat_minor": 2
}