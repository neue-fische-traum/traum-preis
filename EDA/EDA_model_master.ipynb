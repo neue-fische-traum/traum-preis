{
 "cells": [
  {
   "cell_type": "markdown",
   "source": [
    "# This notebook will serve the EDA for the cleaned dataset that we used for modeling"
   ],
   "metadata": {}
  },
  {
   "cell_type": "markdown",
   "source": [
    "## 1. Libraries and loading CSV"
   ],
   "metadata": {}
  },
  {
   "cell_type": "code",
   "execution_count": null,
   "source": [
    "# Import necassary libraries\n",
    "import pandas as pd\n",
    "import numpy as np\n",
    "import seaborn as sns\n",
    "import matplotlib.pyplot as plt"
   ],
   "outputs": [],
   "metadata": {}
  },
  {
   "cell_type": "code",
   "execution_count": null,
   "source": [
    "# Setup axis for plots\n",
    "sns.set_context(\"talk\", font_scale=1.5)"
   ],
   "outputs": [],
   "metadata": {}
  },
  {
   "cell_type": "code",
   "execution_count": null,
   "source": [
    "# load dataset\n",
    "df_master = pd.read_csv('../data/tiny_master.csv')"
   ],
   "outputs": [],
   "metadata": {}
  },
  {
   "cell_type": "code",
   "execution_count": null,
   "source": [
    "# First look at the dataset\n",
    "df_master.head()"
   ],
   "outputs": [],
   "metadata": {}
  },
  {
   "cell_type": "code",
   "execution_count": null,
   "source": [
    "del df_master['Unnamed: 0']"
   ],
   "outputs": [],
   "metadata": {}
  },
  {
   "cell_type": "code",
   "execution_count": null,
   "source": [
    "# First description of the numerical features\n",
    "round(df_master.describe(),3)"
   ],
   "outputs": [],
   "metadata": {}
  },
  {
   "cell_type": "code",
   "execution_count": null,
   "source": [
    "# First look at the info\n",
    "df_master.info()"
   ],
   "outputs": [],
   "metadata": {}
  },
  {
   "cell_type": "code",
   "execution_count": null,
   "source": [
    "# Looking for missing values\n",
    "df_master.isna().sum()"
   ],
   "outputs": [],
   "metadata": {}
  },
  {
   "cell_type": "markdown",
   "source": [
    "## 2. Convert features in right data type"
   ],
   "metadata": {}
  },
  {
   "cell_type": "code",
   "execution_count": null,
   "source": [
    "# First delete not redundant date features\n",
    "df_master = df_master.drop(['yearmonth', 'year', 'month', 'date'],axis=1)"
   ],
   "outputs": [],
   "metadata": {}
  },
  {
   "cell_type": "code",
   "execution_count": null,
   "source": [
    "# Convert column contract_end to datetime\n",
    "df_master['arrival_date'] = pd.to_datetime(df_master['arrival_date'])\n",
    "df_master['departure_date'] = pd.to_datetime(df_master['departure_date'])\n",
    "df_master['year_arrival'] = pd.DatetimeIndex(df_master['arrival_date']).year\n",
    "df_master['month_arrival'] = pd.DatetimeIndex(df_master['arrival_date']).month"
   ],
   "outputs": [],
   "metadata": {}
  },
  {
   "cell_type": "markdown",
   "source": [
    "## 3. Add new feature `inquiry_count` - the target "
   ],
   "metadata": {}
  },
  {
   "cell_type": "code",
   "execution_count": null,
   "source": [
    "# Calculate the new feature\n",
    "inquiry_count = df_master.groupby(['listing_id','month_arrival']).agg(['count'])['expose_views'].reset_index()\n",
    "\n",
    "# Merge new column to dataframe\n",
    "df_master = pd.merge(inquiry_count, df_master, left_on=['listing_id','month_arrival'], right_on=['listing_id','month_arrival'], how='right')\n",
    "\n",
    "# Rename new column\n",
    "df_master.rename(columns={'count': 'inquiry_count'}, inplace=True)"
   ],
   "outputs": [],
   "metadata": {}
  },
  {
   "cell_type": "markdown",
   "source": [
    "## 4. Add new feature `price_per_day`, `mean_price_per_day`, `min_price_per_day`, and `max_price_per_day`\n"
   ],
   "metadata": {}
  },
  {
   "cell_type": "code",
   "execution_count": null,
   "source": [
    "# Calculate the new feature `price_per_day`\n",
    "df_master['price_per_day'] = df_master['inquiry_price']/df_master['length_stay']\n",
    "\n",
    "# Generate the feautres `mean_price_per_day`, `min_price_per_day`, and `max_price_per_day`\n",
    "price_agg = df_master.groupby(['listing_id','month_arrival']).agg(['mean','max','min'])['price_per_day'].reset_index()\n",
    "\n",
    "# Merge the new columns to the dataframe\n",
    "df_master = pd.merge(price_agg, df_master, left_on=['listing_id','month_arrival'], right_on=['listing_id','month_arrival'], how='right')\n",
    "\n",
    "# Rename the new columns\n",
    "df_master.rename(columns={'mean': 'mean_price_per_day', 'min': 'min_price_per_day', 'max':'max_price_per_day'}, inplace=True)"
   ],
   "outputs": [],
   "metadata": {}
  },
  {
   "cell_type": "code",
   "execution_count": null,
   "source": [
    "# Shape of the dataset\n",
    "print('The dataset contains %s inquiries and %s features' %(df_master.shape[0], df_master.shape[1]))"
   ],
   "outputs": [],
   "metadata": {}
  },
  {
   "cell_type": "markdown",
   "source": [
    "## 5. Correlations"
   ],
   "metadata": {}
  },
  {
   "cell_type": "code",
   "execution_count": null,
   "source": [
    "# generate the heatmap\n",
    "corr = df_master.corr()\n",
    "fig, ax = plt.subplots(figsize=(20, 20))\n",
    "sns.heatmap(\n",
    "    corr,\n",
    "    vmin=-1, vmax=1, center=0,\n",
    "    cmap=sns.diverging_palette(20, 220, n=200),\n",
    "    square=True\n",
    ")\n",
    "ax.set_xticklabels(\n",
    "    ax.get_xticklabels(),\n",
    "    rotation=45,\n",
    "    horizontalalignment='right'\n",
    ");"
   ],
   "outputs": [],
   "metadata": {}
  },
  {
   "cell_type": "code",
   "execution_count": null,
   "source": [
    "# Generate table with correlations \n",
    "corr.style.background_gradient(cmap='coolwarm')"
   ],
   "outputs": [],
   "metadata": {}
  },
  {
   "cell_type": "markdown",
   "source": [
    "## 6. Closer Look: Features `inquiry_count` and `price_per_day`"
   ],
   "metadata": {}
  },
  {
   "cell_type": "markdown",
   "source": [
    "### Inquiry count"
   ],
   "metadata": {}
  },
  {
   "cell_type": "code",
   "execution_count": null,
   "source": [
    "## 4. Mean values for the different years\n",
    "print('Mean inquiry count for the years 2019 and 2020:', round(df_master.inquiry_count.mean(), 3))\n",
    "print('Mean inquiry count for the year 2019:', round(df_master.query('year_arrival == 2019').inquiry_count.mean(), 3))\n",
    "print('Mean inquiry count for the year 2020:', round(df_master.query('year_arrival == 2020').inquiry_count.mean(), 3))\n"
   ],
   "outputs": [],
   "metadata": {}
  },
  {
   "cell_type": "code",
   "execution_count": null,
   "source": [
    "# Looking for the distribution of inquiry count\n",
    "df_master.inquiry_count.hist(bins=100)\n",
    "plt.title('Distribution inquiry count');"
   ],
   "outputs": [],
   "metadata": {}
  },
  {
   "cell_type": "markdown",
   "source": [
    "### Price per day"
   ],
   "metadata": {}
  },
  {
   "cell_type": "code",
   "execution_count": null,
   "source": [
    "# Description price per day\n",
    "round(df_master.price_per_day.describe(), 3)"
   ],
   "outputs": [],
   "metadata": {}
  },
  {
   "cell_type": "code",
   "execution_count": null,
   "source": [
    "# Zero values in inquiry_price\n",
    "print('Number of zero values in price per day:', df_master.query('price_per_day == 0').inquiry_price.count())\n",
    "\n",
    "# Percentage of zero values\n",
    "print(round(df_master.query('price_per_day == 0').inquiry_price.count() / df_master.shape[0] * 100, 1), '% of the prices per day are zero.')"
   ],
   "outputs": [],
   "metadata": {}
  },
  {
   "cell_type": "code",
   "execution_count": null,
   "source": [
    "# Values less than 10 € in inquiry_price\n",
    "print('Number of values less than 10 € in price per day:', df_master.query('price_per_day < 10').inquiry_price.count())\n",
    "\n",
    "# Percentage of values less than 10 €\n",
    "print(round(df_master.query('price_per_day < 10').inquiry_price.count() / df_master.shape[0] * 100, 1), '% of the prices per day are less than 10 €.')"
   ],
   "outputs": [],
   "metadata": {}
  },
  {
   "cell_type": "code",
   "execution_count": null,
   "source": [
    "# Looking for the distribution of price per day\n",
    "df_master.price_per_day.hist(bins=100)\n",
    "plt.title('Distribution price per day');"
   ],
   "outputs": [],
   "metadata": {}
  },
  {
   "cell_type": "markdown",
   "source": [
    "## 7. Scatterplots with target inquiry count"
   ],
   "metadata": {}
  },
  {
   "cell_type": "code",
   "execution_count": null,
   "source": [
    "\n",
    "sns.scatterplot(data=df_master, x=\"inquiry_count\", y=\"result_views\");"
   ],
   "outputs": [],
   "metadata": {}
  },
  {
   "cell_type": "code",
   "execution_count": null,
   "source": [
    "#deeper look at the features\n",
    "#average inquiry count for test dataset"
   ],
   "outputs": [],
   "metadata": {}
  },
  {
   "cell_type": "code",
   "execution_count": null,
   "source": [],
   "outputs": [],
   "metadata": {}
  },
  {
   "cell_type": "code",
   "execution_count": null,
   "source": [],
   "outputs": [],
   "metadata": {}
  },
  {
   "cell_type": "code",
   "execution_count": null,
   "source": [
    "test = df_master[['listing_id','yearmonth','result_views', 'expose_views', 'inquiry_count']]\n",
    "test"
   ],
   "outputs": [],
   "metadata": {}
  },
  {
   "cell_type": "code",
   "execution_count": null,
   "source": [
    "test['inquiry_rate'] = round(test.inquiry_count / test.expose_views, 2)\n",
    "#test = test.query('inquiry_rate <= 1.00 and inquiry_rate != inf')"
   ],
   "outputs": [],
   "metadata": {}
  },
  {
   "cell_type": "code",
   "execution_count": null,
   "source": [
    "test.query('inquiry_rate > 1.00 and inquiry_rate != inf')"
   ],
   "outputs": [],
   "metadata": {}
  },
  {
   "cell_type": "code",
   "execution_count": null,
   "source": [],
   "outputs": [],
   "metadata": {}
  }
 ],
 "metadata": {
  "orig_nbformat": 4,
  "language_info": {
   "name": "python",
   "version": "3.8.5",
   "mimetype": "text/x-python",
   "codemirror_mode": {
    "name": "ipython",
    "version": 3
   },
   "pygments_lexer": "ipython3",
   "nbconvert_exporter": "python",
   "file_extension": ".py"
  },
  "kernelspec": {
   "name": "python3",
   "display_name": "Python 3.8.5 64-bit ('3.8.5')"
  },
  "interpreter": {
   "hash": "d837fe7f89ea0bfb31f7e35050aa5bb243afc9e818f612445420203286c5c6ce"
  }
 },
 "nbformat": 4,
 "nbformat_minor": 2
}