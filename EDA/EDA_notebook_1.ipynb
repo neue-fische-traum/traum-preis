{
 "cells": [
  {
   "cell_type": "code",
   "execution_count": 2,
   "metadata": {},
   "outputs": [],
   "source": [
    "# Import necassary libraries\n",
    "import pandas as pd\n",
    "import numpy as np\n",
    "import matplotlib.pyplot as plt\n",
    "import seaborn as sns"
   ]
  },
  {
   "cell_type": "code",
   "execution_count": 8,
   "metadata": {},
   "outputs": [],
   "source": [
    "#Load dataset\n",
    "inqueries = pd.read_csv('/Users/lukeblecha/neuefische-traum/datasets/inquiries_20210707.csv')"
   ]
  },
  {
   "cell_type": "markdown",
   "metadata": {},
   "source": [
    "# Set time and date"
   ]
  },
  {
   "cell_type": "code",
   "execution_count": 11,
   "metadata": {},
   "outputs": [],
   "source": [
    "inqueries['date'] = pd.to_datetime(inqueries['date'])\n",
    "inqueries['time'] = pd.to_datetime(inqueries['time'])\n",
    "inqueries['arrival_date'] = pd.to_datetime(inqueries['arrival_date'])\n",
    "inqueries['departure_date'] = pd.to_datetime(inqueries['departure_date'])"
   ]
  },
  {
   "cell_type": "markdown",
   "metadata": {},
   "source": [
    "## Look into data"
   ]
  },
  {
   "cell_type": "code",
   "execution_count": 12,
   "metadata": {},
   "outputs": [
    {
     "data": {
      "text/html": [
       "<div>\n",
       "<style scoped>\n",
       "    .dataframe tbody tr th:only-of-type {\n",
       "        vertical-align: middle;\n",
       "    }\n",
       "\n",
       "    .dataframe tbody tr th {\n",
       "        vertical-align: top;\n",
       "    }\n",
       "\n",
       "    .dataframe thead th {\n",
       "        text-align: right;\n",
       "    }\n",
       "</style>\n",
       "<table border=\"1\" class=\"dataframe\">\n",
       "  <thead>\n",
       "    <tr style=\"text-align: right;\">\n",
       "      <th></th>\n",
       "      <th>listing_id</th>\n",
       "      <th>title</th>\n",
       "      <th>date</th>\n",
       "      <th>time</th>\n",
       "      <th>adult_count</th>\n",
       "      <th>children_count</th>\n",
       "      <th>pets_count</th>\n",
       "      <th>arrival_date</th>\n",
       "      <th>departure_date</th>\n",
       "      <th>inquiry_price</th>\n",
       "    </tr>\n",
       "  </thead>\n",
       "  <tbody>\n",
       "    <tr>\n",
       "      <th>0</th>\n",
       "      <td>c47741c3-2327-596e-89bc-5fcec81c9ee7</td>\n",
       "      <td>Anfrage</td>\n",
       "      <td>2019-01-01</td>\n",
       "      <td>2021-07-08 00:04:56</td>\n",
       "      <td>2.0</td>\n",
       "      <td>0.0</td>\n",
       "      <td>0.0</td>\n",
       "      <td>2019-06-30</td>\n",
       "      <td>2019-07-13</td>\n",
       "      <td>0.0</td>\n",
       "    </tr>\n",
       "    <tr>\n",
       "      <th>1</th>\n",
       "      <td>07ab2635-ca78-516a-bbfb-5d1dbf8b9a5a</td>\n",
       "      <td>Anfrage</td>\n",
       "      <td>2019-01-01</td>\n",
       "      <td>2021-07-08 00:05:36</td>\n",
       "      <td>6.0</td>\n",
       "      <td>2.0</td>\n",
       "      <td>0.0</td>\n",
       "      <td>2019-07-24</td>\n",
       "      <td>2019-07-31</td>\n",
       "      <td>1840.0</td>\n",
       "    </tr>\n",
       "  </tbody>\n",
       "</table>\n",
       "</div>"
      ],
      "text/plain": [
       "                             listing_id    title       date  \\\n",
       "0  c47741c3-2327-596e-89bc-5fcec81c9ee7  Anfrage 2019-01-01   \n",
       "1  07ab2635-ca78-516a-bbfb-5d1dbf8b9a5a  Anfrage 2019-01-01   \n",
       "\n",
       "                 time  adult_count  children_count  pets_count arrival_date  \\\n",
       "0 2021-07-08 00:04:56          2.0             0.0         0.0   2019-06-30   \n",
       "1 2021-07-08 00:05:36          6.0             2.0         0.0   2019-07-24   \n",
       "\n",
       "  departure_date  inquiry_price  \n",
       "0     2019-07-13            0.0  \n",
       "1     2019-07-31         1840.0  "
      ]
     },
     "execution_count": 12,
     "metadata": {},
     "output_type": "execute_result"
    }
   ],
   "source": [
    "inqueries.head(2)\n"
   ]
  },
  {
   "cell_type": "code",
   "execution_count": 13,
   "metadata": {},
   "outputs": [
    {
     "name": "stdout",
     "output_type": "stream",
     "text": [
      "<class 'pandas.core.frame.DataFrame'>\n",
      "RangeIndex: 4018005 entries, 0 to 4018004\n",
      "Data columns (total 10 columns):\n",
      " #   Column          Dtype         \n",
      "---  ------          -----         \n",
      " 0   listing_id      object        \n",
      " 1   title           object        \n",
      " 2   date            datetime64[ns]\n",
      " 3   time            datetime64[ns]\n",
      " 4   adult_count     float64       \n",
      " 5   children_count  float64       \n",
      " 6   pets_count      float64       \n",
      " 7   arrival_date    datetime64[ns]\n",
      " 8   departure_date  datetime64[ns]\n",
      " 9   inquiry_price   float64       \n",
      "dtypes: datetime64[ns](4), float64(4), object(2)\n",
      "memory usage: 306.5+ MB\n"
     ]
    }
   ],
   "source": [
    "inqueries.info()"
   ]
  },
  {
   "cell_type": "code",
   "execution_count": 16,
   "metadata": {},
   "outputs": [
    {
     "data": {
      "text/html": [
       "<div>\n",
       "<style scoped>\n",
       "    .dataframe tbody tr th:only-of-type {\n",
       "        vertical-align: middle;\n",
       "    }\n",
       "\n",
       "    .dataframe tbody tr th {\n",
       "        vertical-align: top;\n",
       "    }\n",
       "\n",
       "    .dataframe thead th {\n",
       "        text-align: right;\n",
       "    }\n",
       "</style>\n",
       "<table border=\"1\" class=\"dataframe\">\n",
       "  <thead>\n",
       "    <tr style=\"text-align: right;\">\n",
       "      <th></th>\n",
       "      <th>adult_count</th>\n",
       "      <th>children_count</th>\n",
       "      <th>pets_count</th>\n",
       "      <th>inquiry_price</th>\n",
       "    </tr>\n",
       "  </thead>\n",
       "  <tbody>\n",
       "    <tr>\n",
       "      <th>count</th>\n",
       "      <td>4012271.000</td>\n",
       "      <td>4012271.000</td>\n",
       "      <td>4012271.000</td>\n",
       "      <td>3424008.000</td>\n",
       "    </tr>\n",
       "    <tr>\n",
       "      <th>mean</th>\n",
       "      <td>3.137</td>\n",
       "      <td>0.548</td>\n",
       "      <td>0.208</td>\n",
       "      <td>887.142</td>\n",
       "    </tr>\n",
       "    <tr>\n",
       "      <th>std</th>\n",
       "      <td>1.987</td>\n",
       "      <td>1.068</td>\n",
       "      <td>0.586</td>\n",
       "      <td>2301.717</td>\n",
       "    </tr>\n",
       "    <tr>\n",
       "      <th>min</th>\n",
       "      <td>0.000</td>\n",
       "      <td>0.000</td>\n",
       "      <td>0.000</td>\n",
       "      <td>-3.380</td>\n",
       "    </tr>\n",
       "    <tr>\n",
       "      <th>25%</th>\n",
       "      <td>2.000</td>\n",
       "      <td>0.000</td>\n",
       "      <td>0.000</td>\n",
       "      <td>382.000</td>\n",
       "    </tr>\n",
       "    <tr>\n",
       "      <th>50%</th>\n",
       "      <td>2.000</td>\n",
       "      <td>0.000</td>\n",
       "      <td>0.000</td>\n",
       "      <td>646.000</td>\n",
       "    </tr>\n",
       "    <tr>\n",
       "      <th>75%</th>\n",
       "      <td>4.000</td>\n",
       "      <td>1.000</td>\n",
       "      <td>0.000</td>\n",
       "      <td>1090.000</td>\n",
       "    </tr>\n",
       "    <tr>\n",
       "      <th>max</th>\n",
       "      <td>82.000</td>\n",
       "      <td>80.000</td>\n",
       "      <td>500.000</td>\n",
       "      <td>1792331.430</td>\n",
       "    </tr>\n",
       "  </tbody>\n",
       "</table>\n",
       "</div>"
      ],
      "text/plain": [
       "       adult_count  children_count   pets_count  inquiry_price\n",
       "count  4012271.000     4012271.000  4012271.000    3424008.000\n",
       "mean         3.137           0.548        0.208        887.142\n",
       "std          1.987           1.068        0.586       2301.717\n",
       "min          0.000           0.000        0.000         -3.380\n",
       "25%          2.000           0.000        0.000        382.000\n",
       "50%          2.000           0.000        0.000        646.000\n",
       "75%          4.000           1.000        0.000       1090.000\n",
       "max         82.000          80.000      500.000    1792331.430"
      ]
     },
     "execution_count": 16,
     "metadata": {},
     "output_type": "execute_result"
    }
   ],
   "source": [
    "inqueries.describe().round(3)"
   ]
  },
  {
   "cell_type": "code",
   "execution_count": null,
   "metadata": {},
   "outputs": [],
   "source": []
  },
  {
   "cell_type": "code",
   "execution_count": 15,
   "metadata": {},
   "outputs": [
    {
     "data": {
      "text/plain": [
       "listing_id             0\n",
       "title                  0\n",
       "date                   0\n",
       "time                   0\n",
       "adult_count         5734\n",
       "children_count      5734\n",
       "pets_count          5734\n",
       "arrival_date           0\n",
       "departure_date         0\n",
       "inquiry_price     593997\n",
       "dtype: int64"
      ]
     },
     "execution_count": 15,
     "metadata": {},
     "output_type": "execute_result"
    }
   ],
   "source": [
    "inqueries.isna().sum()"
   ]
  },
  {
   "cell_type": "code",
   "execution_count": 17,
   "metadata": {},
   "outputs": [
    {
     "data": {
      "text/plain": [
       "listing_id        110746\n",
       "title                  4\n",
       "date                 731\n",
       "time               82630\n",
       "adult_count           52\n",
       "children_count        33\n",
       "pets_count            14\n",
       "arrival_date        1344\n",
       "departure_date      1352\n",
       "inquiry_price      89049\n",
       "dtype: int64"
      ]
     },
     "execution_count": 17,
     "metadata": {},
     "output_type": "execute_result"
    }
   ],
   "source": [
    "inqueries.nunique()"
   ]
  },
  {
   "cell_type": "code",
   "execution_count": 21,
   "metadata": {},
   "outputs": [
    {
     "data": {
      "text/plain": [
       "array(['Anfrage', 'Direktbuchen', 'Externe Buchung',\n",
       "       'Verbindliche Anfrage'], dtype=object)"
      ]
     },
     "execution_count": 21,
     "metadata": {},
     "output_type": "execute_result"
    }
   ],
   "source": [
    "inqueries.title.unique()"
   ]
  },
  {
   "cell_type": "code",
   "execution_count": 26,
   "metadata": {},
   "outputs": [
    {
     "data": {
      "text/plain": [
       "82.0"
      ]
     },
     "execution_count": 26,
     "metadata": {},
     "output_type": "execute_result"
    }
   ],
   "source": [
    "inqueries['adult_count'].sort_values().max()"
   ]
  },
  {
   "cell_type": "code",
   "execution_count": null,
   "metadata": {},
   "outputs": [],
   "source": []
  }
 ],
 "metadata": {
  "language_info": {
   "name": "python",
   "nbconvert_exporter": "python"
  },
  "orig_nbformat": 4
 },
 "nbformat": 4,
 "nbformat_minor": 2
}