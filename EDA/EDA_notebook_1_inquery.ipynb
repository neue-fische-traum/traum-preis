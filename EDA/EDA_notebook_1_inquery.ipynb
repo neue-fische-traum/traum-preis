{
 "cells": [
  {
   "cell_type": "code",
   "execution_count": 27,
   "metadata": {},
   "outputs": [],
   "source": [
    "# Import necassary libraries\n",
    "import pandas as pd\n",
    "import numpy as np\n",
    "import matplotlib.pyplot as plt\n",
    "import seaborn as sns"
   ]
  },
  {
   "cell_type": "code",
   "execution_count": 8,
   "metadata": {},
   "outputs": [],
   "source": [
    "#Load dataset\n",
    "df_inquiries = pd.read_csv('/Users/petermcisaac/neue-fische-traum/traum-preis/datasets/inquiries_20210707.csv')"
   ]
  },
  {
   "cell_type": "markdown",
   "metadata": {},
   "source": [
    "# Set time and date"
   ]
  },
  {
   "cell_type": "code",
   "execution_count": 9,
   "metadata": {},
   "outputs": [],
   "source": [
    "df_inquiries['date'] = pd.to_datetime(df_inquiries['date'])\n",
    "df_inquiries['time'] = pd.to_datetime(df_inquiries['time'])\n",
    "df_inquiries['arrival_date'] = pd.to_datetime(df_inquiries['arrival_date'])\n",
    "df_inquiries['departure_date'] = pd.to_datetime(df_inquiries['departure_date'])"
   ]
  },
  {
   "cell_type": "markdown",
   "metadata": {},
   "source": [
    "## Look into data"
   ]
  },
  {
   "cell_type": "code",
   "execution_count": 11,
   "metadata": {},
   "outputs": [
    {
     "data": {
      "text/html": [
       "<div>\n",
       "<style scoped>\n",
       "    .dataframe tbody tr th:only-of-type {\n",
       "        vertical-align: middle;\n",
       "    }\n",
       "\n",
       "    .dataframe tbody tr th {\n",
       "        vertical-align: top;\n",
       "    }\n",
       "\n",
       "    .dataframe thead th {\n",
       "        text-align: right;\n",
       "    }\n",
       "</style>\n",
       "<table border=\"1\" class=\"dataframe\">\n",
       "  <thead>\n",
       "    <tr style=\"text-align: right;\">\n",
       "      <th></th>\n",
       "      <th>listing_id</th>\n",
       "      <th>title</th>\n",
       "      <th>date</th>\n",
       "      <th>time</th>\n",
       "      <th>adult_count</th>\n",
       "      <th>children_count</th>\n",
       "      <th>pets_count</th>\n",
       "      <th>arrival_date</th>\n",
       "      <th>departure_date</th>\n",
       "      <th>inquiry_price</th>\n",
       "    </tr>\n",
       "  </thead>\n",
       "  <tbody>\n",
       "    <tr>\n",
       "      <th>0</th>\n",
       "      <td>c47741c3-2327-596e-89bc-5fcec81c9ee7</td>\n",
       "      <td>Anfrage</td>\n",
       "      <td>2019-01-01</td>\n",
       "      <td>2021-07-09 00:04:56</td>\n",
       "      <td>2.0</td>\n",
       "      <td>0.0</td>\n",
       "      <td>0.0</td>\n",
       "      <td>2019-06-30</td>\n",
       "      <td>2019-07-13</td>\n",
       "      <td>0.0</td>\n",
       "    </tr>\n",
       "    <tr>\n",
       "      <th>1</th>\n",
       "      <td>07ab2635-ca78-516a-bbfb-5d1dbf8b9a5a</td>\n",
       "      <td>Anfrage</td>\n",
       "      <td>2019-01-01</td>\n",
       "      <td>2021-07-09 00:05:36</td>\n",
       "      <td>6.0</td>\n",
       "      <td>2.0</td>\n",
       "      <td>0.0</td>\n",
       "      <td>2019-07-24</td>\n",
       "      <td>2019-07-31</td>\n",
       "      <td>1840.0</td>\n",
       "    </tr>\n",
       "  </tbody>\n",
       "</table>\n",
       "</div>"
      ],
      "text/plain": [
       "                             listing_id    title       date  \\\n",
       "0  c47741c3-2327-596e-89bc-5fcec81c9ee7  Anfrage 2019-01-01   \n",
       "1  07ab2635-ca78-516a-bbfb-5d1dbf8b9a5a  Anfrage 2019-01-01   \n",
       "\n",
       "                 time  adult_count  children_count  pets_count arrival_date  \\\n",
       "0 2021-07-09 00:04:56          2.0             0.0         0.0   2019-06-30   \n",
       "1 2021-07-09 00:05:36          6.0             2.0         0.0   2019-07-24   \n",
       "\n",
       "  departure_date  inquiry_price  \n",
       "0     2019-07-13            0.0  \n",
       "1     2019-07-31         1840.0  "
      ]
     },
     "execution_count": 11,
     "metadata": {},
     "output_type": "execute_result"
    }
   ],
   "source": [
    "df_inquiries.head(2)\n"
   ]
  },
  {
   "cell_type": "code",
   "execution_count": 13,
   "metadata": {},
   "outputs": [
    {
     "name": "stdout",
     "output_type": "stream",
     "text": [
      "<class 'pandas.core.frame.DataFrame'>\n",
      "RangeIndex: 4018005 entries, 0 to 4018004\n",
      "Data columns (total 10 columns):\n",
      " #   Column          Dtype         \n",
      "---  ------          -----         \n",
      " 0   listing_id      object        \n",
      " 1   title           object        \n",
      " 2   date            datetime64[ns]\n",
      " 3   time            datetime64[ns]\n",
      " 4   adult_count     float64       \n",
      " 5   children_count  float64       \n",
      " 6   pets_count      float64       \n",
      " 7   arrival_date    datetime64[ns]\n",
      " 8   departure_date  datetime64[ns]\n",
      " 9   inquiry_price   float64       \n",
      "dtypes: datetime64[ns](4), float64(4), object(2)\n",
      "memory usage: 306.5+ MB\n"
     ]
    }
   ],
   "source": [
    "df_inquiries.info()"
   ]
  },
  {
   "cell_type": "code",
   "execution_count": 14,
   "metadata": {},
   "outputs": [
    {
     "data": {
      "text/html": [
       "<div>\n",
       "<style scoped>\n",
       "    .dataframe tbody tr th:only-of-type {\n",
       "        vertical-align: middle;\n",
       "    }\n",
       "\n",
       "    .dataframe tbody tr th {\n",
       "        vertical-align: top;\n",
       "    }\n",
       "\n",
       "    .dataframe thead th {\n",
       "        text-align: right;\n",
       "    }\n",
       "</style>\n",
       "<table border=\"1\" class=\"dataframe\">\n",
       "  <thead>\n",
       "    <tr style=\"text-align: right;\">\n",
       "      <th></th>\n",
       "      <th>adult_count</th>\n",
       "      <th>children_count</th>\n",
       "      <th>pets_count</th>\n",
       "      <th>inquiry_price</th>\n",
       "    </tr>\n",
       "  </thead>\n",
       "  <tbody>\n",
       "    <tr>\n",
       "      <th>count</th>\n",
       "      <td>4012271.000</td>\n",
       "      <td>4012271.000</td>\n",
       "      <td>4012271.000</td>\n",
       "      <td>3424008.000</td>\n",
       "    </tr>\n",
       "    <tr>\n",
       "      <th>mean</th>\n",
       "      <td>3.137</td>\n",
       "      <td>0.548</td>\n",
       "      <td>0.208</td>\n",
       "      <td>887.142</td>\n",
       "    </tr>\n",
       "    <tr>\n",
       "      <th>std</th>\n",
       "      <td>1.987</td>\n",
       "      <td>1.068</td>\n",
       "      <td>0.586</td>\n",
       "      <td>2301.717</td>\n",
       "    </tr>\n",
       "    <tr>\n",
       "      <th>min</th>\n",
       "      <td>0.000</td>\n",
       "      <td>0.000</td>\n",
       "      <td>0.000</td>\n",
       "      <td>-3.380</td>\n",
       "    </tr>\n",
       "    <tr>\n",
       "      <th>25%</th>\n",
       "      <td>2.000</td>\n",
       "      <td>0.000</td>\n",
       "      <td>0.000</td>\n",
       "      <td>382.000</td>\n",
       "    </tr>\n",
       "    <tr>\n",
       "      <th>50%</th>\n",
       "      <td>2.000</td>\n",
       "      <td>0.000</td>\n",
       "      <td>0.000</td>\n",
       "      <td>646.000</td>\n",
       "    </tr>\n",
       "    <tr>\n",
       "      <th>75%</th>\n",
       "      <td>4.000</td>\n",
       "      <td>1.000</td>\n",
       "      <td>0.000</td>\n",
       "      <td>1090.000</td>\n",
       "    </tr>\n",
       "    <tr>\n",
       "      <th>max</th>\n",
       "      <td>82.000</td>\n",
       "      <td>80.000</td>\n",
       "      <td>500.000</td>\n",
       "      <td>1792331.430</td>\n",
       "    </tr>\n",
       "  </tbody>\n",
       "</table>\n",
       "</div>"
      ],
      "text/plain": [
       "       adult_count  children_count   pets_count  inquiry_price\n",
       "count  4012271.000     4012271.000  4012271.000    3424008.000\n",
       "mean         3.137           0.548        0.208        887.142\n",
       "std          1.987           1.068        0.586       2301.717\n",
       "min          0.000           0.000        0.000         -3.380\n",
       "25%          2.000           0.000        0.000        382.000\n",
       "50%          2.000           0.000        0.000        646.000\n",
       "75%          4.000           1.000        0.000       1090.000\n",
       "max         82.000          80.000      500.000    1792331.430"
      ]
     },
     "execution_count": 14,
     "metadata": {},
     "output_type": "execute_result"
    }
   ],
   "source": [
    "df_inquiries.describe().round(3)"
   ]
  },
  {
   "cell_type": "code",
   "execution_count": null,
   "metadata": {},
   "outputs": [],
   "source": []
  },
  {
   "cell_type": "code",
   "execution_count": 15,
   "metadata": {},
   "outputs": [
    {
     "data": {
      "text/plain": [
       "listing_id             0\n",
       "title                  0\n",
       "date                   0\n",
       "time                   0\n",
       "adult_count         5734\n",
       "children_count      5734\n",
       "pets_count          5734\n",
       "arrival_date           0\n",
       "departure_date         0\n",
       "inquiry_price     593997\n",
       "dtype: int64"
      ]
     },
     "execution_count": 15,
     "metadata": {},
     "output_type": "execute_result"
    }
   ],
   "source": [
    "df_inquiries.isna().sum()"
   ]
  },
  {
   "cell_type": "code",
   "execution_count": 16,
   "metadata": {},
   "outputs": [
    {
     "data": {
      "text/plain": [
       "listing_id        110746\n",
       "title                  4\n",
       "date                 731\n",
       "time               82630\n",
       "adult_count           52\n",
       "children_count        33\n",
       "pets_count            14\n",
       "arrival_date        1344\n",
       "departure_date      1352\n",
       "inquiry_price      89049\n",
       "dtype: int64"
      ]
     },
     "execution_count": 16,
     "metadata": {},
     "output_type": "execute_result"
    }
   ],
   "source": [
    "df_inquiries.nunique()"
   ]
  },
  {
   "cell_type": "markdown",
   "metadata": {},
   "source": [
    "Dataset Inquiries: check to see what these values look like\n",
    "- adult_count max\n",
    "- children_count max\n",
    "- pets_count max\n",
    "- inquiries_prices --> everything (NA, Zeros, min, max)\n",
    "- convert some columns to date time\n",
    "- duplicate rows"
   ]
  },
  {
   "cell_type": "code",
   "execution_count": 18,
   "metadata": {},
   "outputs": [
    {
     "data": {
      "text/plain": [
       "array(['Anfrage', 'Direktbuchen', 'Externe Buchung',\n",
       "       'Verbindliche Anfrage'], dtype=object)"
      ]
     },
     "execution_count": 18,
     "metadata": {},
     "output_type": "execute_result"
    }
   ],
   "source": [
    "df_inquiries.title.unique()"
   ]
  },
  {
   "cell_type": "code",
   "execution_count": 19,
   "metadata": {},
   "outputs": [
    {
     "data": {
      "text/plain": [
       "82.0"
      ]
     },
     "execution_count": 19,
     "metadata": {},
     "output_type": "execute_result"
    }
   ],
   "source": [
    "df_inquiries['adult_count'].sort_values().max()"
   ]
  },
  {
   "cell_type": "code",
   "execution_count": 36,
   "metadata": {},
   "outputs": [
    {
     "data": {
      "image/png": "[encoded data removed]",
      "text/plain": [
       "<Figure size 432x288 with 1 Axes>"
      ]
     },
     "metadata": {
      "needs_background": "light"
     },
     "output_type": "display_data"
    }
   ],
   "source": [
    "ax = sns.boxplot(data=df_inquiries['adult_count'], orient=\"h\", palette=\"Set2\")"
   ]
  },
  {
   "cell_type": "code",
   "execution_count": 20,
   "metadata": {},
   "outputs": [
    {
     "data": {
      "text/plain": [
       "80.0"
      ]
     },
     "execution_count": 20,
     "metadata": {},
     "output_type": "execute_result"
    }
   ],
   "source": [
    "df_inquiries['children_count'].sort_values().max()"
   ]
  },
  {
   "cell_type": "code",
   "execution_count": 37,
   "metadata": {},
   "outputs": [
    {
     "data": {
      "image/png": "[encoded data removed]",
      "text/plain": [
       "<Figure size 432x288 with 1 Axes>"
      ]
     },
     "metadata": {
      "needs_background": "light"
     },
     "output_type": "display_data"
    }
   ],
   "source": [
    "ax = sns.boxplot(data=df_inquiries['children_count'], orient=\"h\", palette=\"Set2\")"
   ]
  },
  {
   "cell_type": "code",
   "execution_count": 21,
   "metadata": {},
   "outputs": [
    {
     "data": {
      "text/plain": [
       "500.0"
      ]
     },
     "execution_count": 21,
     "metadata": {},
     "output_type": "execute_result"
    }
   ],
   "source": [
    "df_inquiries['pets_count'].sort_values().max()"
   ]
  },
  {
   "cell_type": "code",
   "execution_count": 39,
   "metadata": {},
   "outputs": [
    {
     "data": {
      "image/png": "[encoded data removed]",
      "text/plain": [
       "<Figure size 432x288 with 1 Axes>"
      ]
     },
     "metadata": {
      "needs_background": "light"
     },
     "output_type": "display_data"
    }
   ],
   "source": [
    "ax = sns.boxplot(data=df_inquiries['pets_count'], orient=\"h\", palette=\"Set2\")"
   ]
  },
  {
   "cell_type": "markdown",
   "metadata": {},
   "source": [
    "# all these values indicate outliers, even if they are accurate"
   ]
  },
  {
   "cell_type": "code",
   "execution_count": 30,
   "metadata": {},
   "outputs": [
    {
     "data": {
      "text/plain": [
       "0          False\n",
       "1          False\n",
       "2          False\n",
       "3          False\n",
       "4          False\n",
       "           ...  \n",
       "4018000    False\n",
       "4018001    False\n",
       "4018002    False\n",
       "4018003    False\n",
       "4018004    False\n",
       "Name: inquiry_price, Length: 4018005, dtype: bool"
      ]
     },
     "execution_count": 30,
     "metadata": {},
     "output_type": "execute_result"
    }
   ],
   "source": [
    "# number of missing for inquiries_price is high\n",
    "\n",
    "\n",
    "df_inquiries['inquiry_price'].isna()"
   ]
  },
  {
   "cell_type": "code",
   "execution_count": 31,
   "metadata": {},
   "outputs": [
    {
     "data": {
      "text/plain": [
       "0.000000       120344\n",
       "420.000000      21403\n",
       "560.000000      19841\n",
       "350.000000      19451\n",
       "490.000000      19222\n",
       "                ...  \n",
       "464.571430          1\n",
       "1070.968928         1\n",
       "885.860000          1\n",
       "1094.614997         1\n",
       "3325.780000         1\n",
       "Name: inquiry_price, Length: 89049, dtype: int64"
      ]
     },
     "execution_count": 31,
     "metadata": {},
     "output_type": "execute_result"
    }
   ],
   "source": [
    "# the values in inquiry_price\n",
    "\n",
    "df_inquiries['inquiry_price'].value_counts()"
   ]
  },
  {
   "cell_type": "code",
   "execution_count": 32,
   "metadata": {},
   "outputs": [
    {
     "data": {
      "text/plain": [
       "1792331.43"
      ]
     },
     "execution_count": 32,
     "metadata": {},
     "output_type": "execute_result"
    }
   ],
   "source": [
    "df_inquiries['inquiry_price'].sort_values().max()"
   ]
  },
  {
   "cell_type": "code",
   "execution_count": null,
   "metadata": {},
   "outputs": [],
   "source": []
  },
  {
   "cell_type": "code",
   "execution_count": 34,
   "metadata": {},
   "outputs": [
    {
     "data": {
      "image/png": "[encoded data removed]",
      "text/plain": [
       "<Figure size 432x288 with 1 Axes>"
      ]
     },
     "metadata": {
      "needs_background": "light"
     },
     "output_type": "display_data"
    }
   ],
   "source": [
    "ax = sns.boxplot(data=df_inquiries['inquiry_price'], orient=\"h\", palette=\"Set2\")"
   ]
  },
  {
   "cell_type": "code",
   "execution_count": 35,
   "metadata": {},
   "outputs": [
    {
     "data": {
      "image/png": "[encoded data removed]",
      "text/plain": [
       "<Figure size 432x288 with 1 Axes>"
      ]
     },
     "metadata": {
      "needs_background": "light"
     },
     "output_type": "display_data"
    }
   ],
   "source": [
    "ax = sns.boxenplot(data=df_inquiries['inquiry_price'], orient=\"h\", palette=\"Set2\")"
   ]
  },
  {
   "cell_type": "markdown",
   "metadata": {},
   "source": [
    "# we see ranges with outliers, these should be removed for all these variables"
   ]
  },
  {
   "cell_type": "code",
   "execution_count": null,
   "metadata": {},
   "outputs": [],
   "source": []
  }
 ],
 "metadata": {
  "language_info": {
   "name": "python",
   "nbconvert_exporter": "python"
  },
  "orig_nbformat": 4
 },
 "nbformat": 4,
 "nbformat_minor": 2
}