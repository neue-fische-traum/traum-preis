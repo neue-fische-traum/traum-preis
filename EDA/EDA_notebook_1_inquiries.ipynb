{
 "metadata": {
  "language_info": {
   "codemirror_mode": {
    "name": "ipython",
    "version": 3
   },
   "file_extension": ".py",
   "mimetype": "text/x-python",
   "name": "python",
   "nbconvert_exporter": "python",
   "pygments_lexer": "ipython3",
   "version": "3.8.5"
  },
  "orig_nbformat": 4,
  "kernelspec": {
   "name": "python3",
   "display_name": "Python 3.8.5 64-bit ('3.8.5')"
  },
  "interpreter": {
   "hash": "d837fe7f89ea0bfb31f7e35050aa5bb243afc9e818f612445420203286c5c6ce"
  }
 },
 "nbformat": 4,
 "nbformat_minor": 2,
 "cells": [
  {
   "cell_type": "markdown",
   "source": [
    "# This notebook will serve for the initial EDA for the inquiries data for the TFW project"
   ],
   "metadata": {}
  },
  {
   "cell_type": "code",
   "execution_count": 45,
   "source": [
    "# Import necassary libraries\n",
    "import pandas as pd\n",
    "import numpy as np\n",
    "import seaborn as sns\n",
    "import matplotlib.pyplot as plt"
   ],
   "outputs": [],
   "metadata": {}
  },
  {
   "cell_type": "code",
   "execution_count": 46,
   "source": [
    "# load dataset\n",
    "df_inquiries = pd.read_csv('../data/inquiries_20210713.csv')"
   ],
   "outputs": [],
   "metadata": {}
  },
  {
   "cell_type": "code",
   "execution_count": 47,
   "source": [
    "# Shape of the dataset\n",
    "print('The dataset contains %s inquiries and %s features' %(df_inquiries.shape[0], df_inquiries.shape[1]))"
   ],
   "outputs": [
    {
     "output_type": "stream",
     "name": "stdout",
     "text": [
      "The dataset contains 1554218 inquiries and 10 features\n"
     ]
    }
   ],
   "metadata": {}
  },
  {
   "cell_type": "code",
   "execution_count": 48,
   "source": [
    "# Have a first look at the dataset\n",
    "df_inquiries.head(2)"
   ],
   "outputs": [
    {
     "output_type": "execute_result",
     "data": {
      "text/plain": [
       "                             listing_id    title        date      time  \\\n",
       "0  07ab2635-ca78-516a-bbfb-5d1dbf8b9a5a  Anfrage  2019-01-01  00:05:36   \n",
       "1  b334776d-0cf1-51f1-8cdc-37535b280f3d  Anfrage  2019-01-01  00:07:31   \n",
       "\n",
       "   adult_count  children_count  pets_count arrival_date departure_date  \\\n",
       "0          6.0             2.0         0.0   2019-07-24     2019-07-31   \n",
       "1          6.0             2.0         0.0   2019-07-24     2019-07-31   \n",
       "\n",
       "   inquiry_price  \n",
       "0         1840.0  \n",
       "1         1601.0  "
      ],
      "text/html": [
       "<div>\n",
       "<style scoped>\n",
       "    .dataframe tbody tr th:only-of-type {\n",
       "        vertical-align: middle;\n",
       "    }\n",
       "\n",
       "    .dataframe tbody tr th {\n",
       "        vertical-align: top;\n",
       "    }\n",
       "\n",
       "    .dataframe thead th {\n",
       "        text-align: right;\n",
       "    }\n",
       "</style>\n",
       "<table border=\"1\" class=\"dataframe\">\n",
       "  <thead>\n",
       "    <tr style=\"text-align: right;\">\n",
       "      <th></th>\n",
       "      <th>listing_id</th>\n",
       "      <th>title</th>\n",
       "      <th>date</th>\n",
       "      <th>time</th>\n",
       "      <th>adult_count</th>\n",
       "      <th>children_count</th>\n",
       "      <th>pets_count</th>\n",
       "      <th>arrival_date</th>\n",
       "      <th>departure_date</th>\n",
       "      <th>inquiry_price</th>\n",
       "    </tr>\n",
       "  </thead>\n",
       "  <tbody>\n",
       "    <tr>\n",
       "      <th>0</th>\n",
       "      <td>07ab2635-ca78-516a-bbfb-5d1dbf8b9a5a</td>\n",
       "      <td>Anfrage</td>\n",
       "      <td>2019-01-01</td>\n",
       "      <td>00:05:36</td>\n",
       "      <td>6.0</td>\n",
       "      <td>2.0</td>\n",
       "      <td>0.0</td>\n",
       "      <td>2019-07-24</td>\n",
       "      <td>2019-07-31</td>\n",
       "      <td>1840.0</td>\n",
       "    </tr>\n",
       "    <tr>\n",
       "      <th>1</th>\n",
       "      <td>b334776d-0cf1-51f1-8cdc-37535b280f3d</td>\n",
       "      <td>Anfrage</td>\n",
       "      <td>2019-01-01</td>\n",
       "      <td>00:07:31</td>\n",
       "      <td>6.0</td>\n",
       "      <td>2.0</td>\n",
       "      <td>0.0</td>\n",
       "      <td>2019-07-24</td>\n",
       "      <td>2019-07-31</td>\n",
       "      <td>1601.0</td>\n",
       "    </tr>\n",
       "  </tbody>\n",
       "</table>\n",
       "</div>"
      ]
     },
     "metadata": {},
     "execution_count": 48
    }
   ],
   "metadata": {}
  },
  {
   "cell_type": "code",
   "execution_count": 49,
   "source": [
    "# First look at the info\n",
    "df_inquiries.info()"
   ],
   "outputs": [
    {
     "output_type": "stream",
     "name": "stdout",
     "text": [
      "<class 'pandas.core.frame.DataFrame'>\n",
      "RangeIndex: 1554218 entries, 0 to 1554217\n",
      "Data columns (total 10 columns):\n",
      " #   Column          Non-Null Count    Dtype  \n",
      "---  ------          --------------    -----  \n",
      " 0   listing_id      1554218 non-null  object \n",
      " 1   title           1554218 non-null  object \n",
      " 2   date            1554218 non-null  object \n",
      " 3   time            1554218 non-null  object \n",
      " 4   adult_count     1551754 non-null  float64\n",
      " 5   children_count  1551754 non-null  float64\n",
      " 6   pets_count      1551754 non-null  float64\n",
      " 7   arrival_date    1554218 non-null  object \n",
      " 8   departure_date  1554218 non-null  object \n",
      " 9   inquiry_price   1312198 non-null  float64\n",
      "dtypes: float64(4), object(6)\n",
      "memory usage: 118.6+ MB\n"
     ]
    }
   ],
   "metadata": {}
  },
  {
   "cell_type": "code",
   "execution_count": 50,
   "source": [
    "# First description of the numerical features\n",
    "round(df_inquiries.describe(),3)"
   ],
   "outputs": [
    {
     "output_type": "execute_result",
     "data": {
      "text/plain": [
       "       adult_count  children_count   pets_count  inquiry_price\n",
       "count  1551754.000     1551754.000  1551754.000    1312198.000\n",
       "mean         3.018           0.506        0.195        712.314\n",
       "std          1.880           1.014        0.647       1241.178\n",
       "min          0.000           0.000        0.000          0.000\n",
       "25%          2.000           0.000        0.000        325.000\n",
       "50%          2.000           0.000        0.000        543.000\n",
       "75%          4.000           1.000        0.000        885.000\n",
       "max         55.000          40.000      500.000     750000.000"
      ],
      "text/html": [
       "<div>\n",
       "<style scoped>\n",
       "    .dataframe tbody tr th:only-of-type {\n",
       "        vertical-align: middle;\n",
       "    }\n",
       "\n",
       "    .dataframe tbody tr th {\n",
       "        vertical-align: top;\n",
       "    }\n",
       "\n",
       "    .dataframe thead th {\n",
       "        text-align: right;\n",
       "    }\n",
       "</style>\n",
       "<table border=\"1\" class=\"dataframe\">\n",
       "  <thead>\n",
       "    <tr style=\"text-align: right;\">\n",
       "      <th></th>\n",
       "      <th>adult_count</th>\n",
       "      <th>children_count</th>\n",
       "      <th>pets_count</th>\n",
       "      <th>inquiry_price</th>\n",
       "    </tr>\n",
       "  </thead>\n",
       "  <tbody>\n",
       "    <tr>\n",
       "      <th>count</th>\n",
       "      <td>1551754.000</td>\n",
       "      <td>1551754.000</td>\n",
       "      <td>1551754.000</td>\n",
       "      <td>1312198.000</td>\n",
       "    </tr>\n",
       "    <tr>\n",
       "      <th>mean</th>\n",
       "      <td>3.018</td>\n",
       "      <td>0.506</td>\n",
       "      <td>0.195</td>\n",
       "      <td>712.314</td>\n",
       "    </tr>\n",
       "    <tr>\n",
       "      <th>std</th>\n",
       "      <td>1.880</td>\n",
       "      <td>1.014</td>\n",
       "      <td>0.647</td>\n",
       "      <td>1241.178</td>\n",
       "    </tr>\n",
       "    <tr>\n",
       "      <th>min</th>\n",
       "      <td>0.000</td>\n",
       "      <td>0.000</td>\n",
       "      <td>0.000</td>\n",
       "      <td>0.000</td>\n",
       "    </tr>\n",
       "    <tr>\n",
       "      <th>25%</th>\n",
       "      <td>2.000</td>\n",
       "      <td>0.000</td>\n",
       "      <td>0.000</td>\n",
       "      <td>325.000</td>\n",
       "    </tr>\n",
       "    <tr>\n",
       "      <th>50%</th>\n",
       "      <td>2.000</td>\n",
       "      <td>0.000</td>\n",
       "      <td>0.000</td>\n",
       "      <td>543.000</td>\n",
       "    </tr>\n",
       "    <tr>\n",
       "      <th>75%</th>\n",
       "      <td>4.000</td>\n",
       "      <td>1.000</td>\n",
       "      <td>0.000</td>\n",
       "      <td>885.000</td>\n",
       "    </tr>\n",
       "    <tr>\n",
       "      <th>max</th>\n",
       "      <td>55.000</td>\n",
       "      <td>40.000</td>\n",
       "      <td>500.000</td>\n",
       "      <td>750000.000</td>\n",
       "    </tr>\n",
       "  </tbody>\n",
       "</table>\n",
       "</div>"
      ]
     },
     "metadata": {},
     "execution_count": 50
    }
   ],
   "metadata": {}
  },
  {
   "cell_type": "code",
   "execution_count": 51,
   "source": [
    "# Looking for categorical features\n",
    "df_inquiries.nunique()"
   ],
   "outputs": [
    {
     "output_type": "execute_result",
     "data": {
      "text/plain": [
       "listing_id        29655\n",
       "title                 4\n",
       "date                731\n",
       "time              76731\n",
       "adult_count          42\n",
       "children_count       26\n",
       "pets_count           14\n",
       "arrival_date       1285\n",
       "departure_date     1289\n",
       "inquiry_price     16543\n",
       "dtype: int64"
      ]
     },
     "metadata": {},
     "execution_count": 51
    }
   ],
   "metadata": {}
  },
  {
   "cell_type": "code",
   "execution_count": 52,
   "source": [
    "df_inquiries.isna().sum()"
   ],
   "outputs": [
    {
     "output_type": "execute_result",
     "data": {
      "text/plain": [
       "listing_id             0\n",
       "title                  0\n",
       "date                   0\n",
       "time                   0\n",
       "adult_count         2464\n",
       "children_count      2464\n",
       "pets_count          2464\n",
       "arrival_date           0\n",
       "departure_date         0\n",
       "inquiry_price     242020\n",
       "dtype: int64"
      ]
     },
     "metadata": {},
     "execution_count": 52
    }
   ],
   "metadata": {}
  },
  {
   "cell_type": "code",
   "execution_count": 53,
   "source": [
    "# Duplicate rows\n",
    "# Select duplicate rows except first occurrence based on all columns\n",
    "duplicateRowsDF = df_inquiries[df_inquiries.duplicated()]\n",
    "print(\"Duplicate Rows except first occurrence based on all columns are :\")\n",
    "print(duplicateRowsDF)"
   ],
   "outputs": [
    {
     "output_type": "stream",
     "name": "stdout",
     "text": [
      "Duplicate Rows except first occurrence based on all columns are :\n",
      "                                   listing_id         title        date  \\\n",
      "18       9b764e35-72c7-50ca-a5b6-b6c58161eed7       Anfrage  2019-01-01   \n",
      "1271     c2248782-5ad4-5e35-b175-d74a0eef369a       Anfrage  2019-01-01   \n",
      "2144     6dfa40ef-aa48-54b2-9018-2de3af649845       Anfrage  2019-01-01   \n",
      "5617     3b21eb42-3c5a-53cc-8464-0b610db60492       Anfrage  2019-01-02   \n",
      "14335    ea3133ad-da8d-5c1f-a923-8b2a6fb97de8       Anfrage  2019-01-05   \n",
      "...                                       ...           ...         ...   \n",
      "1266434  97cd54c3-baf4-54fd-8305-3286256f835a       Anfrage  2020-08-12   \n",
      "1293167  b439c7ba-4079-58fc-9894-2b5e1f9b70bd       Anfrage  2020-08-21   \n",
      "1322721  06010cca-7970-5d4b-bea7-cd71eeaf1593       Anfrage  2020-08-30   \n",
      "1440587  52a4eaa5-902f-5080-8ec5-b528b88604f3       Anfrage  2020-10-03   \n",
      "1525635  e7851af0-352a-5e96-b55b-2f809180de85  Direktbuchen  2020-07-18   \n",
      "\n",
      "             time  adult_count  children_count  pets_count arrival_date  \\\n",
      "18       01:37:06          8.0             0.0         0.0   2019-12-28   \n",
      "1271     17:03:22          2.0             3.0         0.0   2019-08-05   \n",
      "2144     20:42:50          2.0             1.0         0.0   2019-07-09   \n",
      "5617     22:23:25         10.0             0.0         0.0   2019-06-14   \n",
      "14335    20:39:32          2.0             2.0         0.0   2019-08-03   \n",
      "...           ...          ...             ...         ...          ...   \n",
      "1266434  12:51:07          2.0             0.0         0.0   2020-10-11   \n",
      "1293167  19:04:08          2.0             2.0         0.0   2020-10-10   \n",
      "1322721  20:53:18          2.0             0.0         0.0   2021-07-31   \n",
      "1440587  12:42:38          5.0             0.0         2.0   2021-08-07   \n",
      "1525635  19:00:34          2.0             0.0         0.0   2020-07-28   \n",
      "\n",
      "        departure_date  inquiry_price  \n",
      "18          2020-01-04         980.00  \n",
      "1271        2019-08-12        1435.00  \n",
      "2144        2019-07-13         330.00  \n",
      "5617        2019-06-16         342.00  \n",
      "14335       2019-08-17        1292.00  \n",
      "...                ...            ...  \n",
      "1266434     2020-10-17         371.00  \n",
      "1293167     2020-10-17         945.00  \n",
      "1322721     2021-08-14        1210.00  \n",
      "1440587     2021-08-21        2170.00  \n",
      "1525635     2020-07-31         284.26  \n",
      "\n",
      "[83 rows x 10 columns]\n"
     ]
    }
   ],
   "metadata": {}
  },
  {
   "cell_type": "markdown",
   "source": [
    "We have 83 duplicated rows. We will remove them in the cleaning (see beolw).Exception"
   ],
   "metadata": {}
  },
  {
   "cell_type": "markdown",
   "source": [
    "## Convert date and time features to the right data type"
   ],
   "metadata": {}
  },
  {
   "cell_type": "code",
   "execution_count": 54,
   "source": [
    "# Convert column contract_end to datetime\n",
    "df_inquiries['date'] = pd.to_datetime(df_inquiries['date'])\n",
    "df_inquiries['time'] = pd.to_datetime(df_inquiries['time'],format= '%H:%M:%S' ).dt.time\n",
    "df_inquiries['arrival_date'] = pd.to_datetime(df_inquiries['arrival_date'])\n",
    "df_inquiries['departure_date'] = pd.to_datetime(df_inquiries['departure_date'])"
   ],
   "outputs": [],
   "metadata": {}
  },
  {
   "cell_type": "markdown",
   "source": [
    "## Looking for correlations"
   ],
   "metadata": {}
  },
  {
   "cell_type": "code",
   "execution_count": 55,
   "source": [
    "# generate the heatmap\n",
    "corr = df_inquiries.corr()\n",
    "fig, ax = plt.subplots(figsize=(20, 20))\n",
    "sns.heatmap(\n",
    "    corr,\n",
    "    vmin=-1, vmax=1, center=0,\n",
    "    cmap=sns.diverging_palette(20, 220, n=200),\n",
    "    square=True\n",
    ")\n",
    "ax.set_xticklabels(\n",
    "    ax.get_xticklabels(),\n",
    "    rotation=45,\n",
    "    horizontalalignment='right'\n",
    ");"
   ],
   "outputs": [
    {
     "output_type": "display_data",
     "data": {
      "text/plain": [
       "<Figure size 1440x1440 with 2 Axes>"
      ],
      "image/png": "[encoded data removed]"
     },
     "metadata": {
      "needs_background": "light"
     }
    }
   ],
   "metadata": {}
  },
  {
   "cell_type": "code",
   "execution_count": 56,
   "source": [
    "# Generate table with correlations \n",
    "corr.style.background_gradient(cmap='coolwarm')"
   ],
   "outputs": [
    {
     "output_type": "execute_result",
     "data": {
      "text/plain": [
       "<pandas.io.formats.style.Styler at 0x1377843a0>"
      ],
      "text/html": [
       "<style  type=\"text/css\" >\n",
       "#T_238be_row0_col0,#T_238be_row1_col1,#T_238be_row2_col2,#T_238be_row3_col3{\n",
       "            background-color:  #b40426;\n",
       "            color:  #f1f1f1;\n",
       "        }#T_238be_row0_col1{\n",
       "            background-color:  #445acc;\n",
       "            color:  #f1f1f1;\n",
       "        }#T_238be_row0_col2,#T_238be_row2_col0,#T_238be_row2_col1,#T_238be_row2_col3{\n",
       "            background-color:  #3b4cc0;\n",
       "            color:  #f1f1f1;\n",
       "        }#T_238be_row0_col3{\n",
       "            background-color:  #5b7ae5;\n",
       "            color:  #000000;\n",
       "        }#T_238be_row1_col0{\n",
       "            background-color:  #455cce;\n",
       "            color:  #f1f1f1;\n",
       "        }#T_238be_row1_col2{\n",
       "            background-color:  #3c4ec2;\n",
       "            color:  #f1f1f1;\n",
       "        }#T_238be_row1_col3{\n",
       "            background-color:  #4f69d9;\n",
       "            color:  #000000;\n",
       "        }#T_238be_row3_col0{\n",
       "            background-color:  #5f7fe8;\n",
       "            color:  #000000;\n",
       "        }#T_238be_row3_col1{\n",
       "            background-color:  #516ddb;\n",
       "            color:  #000000;\n",
       "        }#T_238be_row3_col2{\n",
       "            background-color:  #3e51c5;\n",
       "            color:  #f1f1f1;\n",
       "        }</style><table id=\"T_238be_\" ><thead>    <tr>        <th class=\"blank level0\" ></th>        <th class=\"col_heading level0 col0\" >adult_count</th>        <th class=\"col_heading level0 col1\" >children_count</th>        <th class=\"col_heading level0 col2\" >pets_count</th>        <th class=\"col_heading level0 col3\" >inquiry_price</th>    </tr></thead><tbody>\n",
       "                <tr>\n",
       "                        <th id=\"T_238be_level0_row0\" class=\"row_heading level0 row0\" >adult_count</th>\n",
       "                        <td id=\"T_238be_row0_col0\" class=\"data row0 col0\" >1.000000</td>\n",
       "                        <td id=\"T_238be_row0_col1\" class=\"data row0 col1\" >0.017973</td>\n",
       "                        <td id=\"T_238be_row0_col2\" class=\"data row0 col2\" >-0.021063</td>\n",
       "                        <td id=\"T_238be_row0_col3\" class=\"data row0 col3\" >0.100232</td>\n",
       "            </tr>\n",
       "            <tr>\n",
       "                        <th id=\"T_238be_level0_row1\" class=\"row_heading level0 row1\" >children_count</th>\n",
       "                        <td id=\"T_238be_row1_col0\" class=\"data row1 col0\" >0.017973</td>\n",
       "                        <td id=\"T_238be_row1_col1\" class=\"data row1 col1\" >1.000000</td>\n",
       "                        <td id=\"T_238be_row1_col2\" class=\"data row1 col2\" >-0.015350</td>\n",
       "                        <td id=\"T_238be_row1_col3\" class=\"data row1 col3\" >0.061804</td>\n",
       "            </tr>\n",
       "            <tr>\n",
       "                        <th id=\"T_238be_level0_row2\" class=\"row_heading level0 row2\" >pets_count</th>\n",
       "                        <td id=\"T_238be_row2_col0\" class=\"data row2 col0\" >-0.021063</td>\n",
       "                        <td id=\"T_238be_row2_col1\" class=\"data row2 col1\" >-0.015350</td>\n",
       "                        <td id=\"T_238be_row2_col2\" class=\"data row2 col2\" >1.000000</td>\n",
       "                        <td id=\"T_238be_row2_col3\" class=\"data row2 col3\" >-0.007923</td>\n",
       "            </tr>\n",
       "            <tr>\n",
       "                        <th id=\"T_238be_level0_row3\" class=\"row_heading level0 row3\" >inquiry_price</th>\n",
       "                        <td id=\"T_238be_row3_col0\" class=\"data row3 col0\" >0.100232</td>\n",
       "                        <td id=\"T_238be_row3_col1\" class=\"data row3 col1\" >0.061804</td>\n",
       "                        <td id=\"T_238be_row3_col2\" class=\"data row3 col2\" >-0.007923</td>\n",
       "                        <td id=\"T_238be_row3_col3\" class=\"data row3 col3\" >1.000000</td>\n",
       "            </tr>\n",
       "    </tbody></table>"
      ]
     },
     "metadata": {},
     "execution_count": 56
    }
   ],
   "metadata": {}
  },
  {
   "cell_type": "markdown",
   "source": [
    "## Plotting distribution of the features"
   ],
   "metadata": {}
  },
  {
   "cell_type": "code",
   "execution_count": 57,
   "source": [
    "# Plotting the feature title\n",
    "df_inquiries.title.hist()"
   ],
   "outputs": [
    {
     "output_type": "execute_result",
     "data": {
      "text/plain": [
       "<AxesSubplot:>"
      ]
     },
     "metadata": {},
     "execution_count": 57
    },
    {
     "output_type": "display_data",
     "data": {
      "text/plain": [
       "<Figure size 432x288 with 1 Axes>"
      ],
      "image/png": "[encoded data removed]"
     },
     "metadata": {
      "needs_background": "light"
     }
    }
   ],
   "metadata": {}
  },
  {
   "cell_type": "code",
   "execution_count": 58,
   "source": [
    "# Plotting histograms of numerical features \n",
    "df_inquiries.hist(figsize = (20,15))\n",
    "plt.show()"
   ],
   "outputs": [
    {
     "output_type": "display_data",
     "data": {
      "text/plain": [
       "<Figure size 1440x1080 with 9 Axes>"
      ],
      "image/png": "[encoded data removed]"
     },
     "metadata": {
      "needs_background": "light"
     }
    }
   ],
   "metadata": {}
  },
  {
   "cell_type": "markdown",
   "source": [
    "## Closer look to all features\n",
    "\n",
    "### 1. title"
   ],
   "metadata": {}
  },
  {
   "cell_type": "code",
   "execution_count": 59,
   "source": [
    "# Number of unique values in feature title\n",
    "print('Number of different title:', df_inquiries.title.nunique())\n",
    "print('Unique values:', df_inquiries.title.unique())\n",
    "print('Count of unique values:\\n', df_inquiries.title.value_counts())"
   ],
   "outputs": [
    {
     "output_type": "stream",
     "name": "stdout",
     "text": [
      "Number of different title: 4\n",
      "Unique values: ['Anfrage' 'Direktbuchen' 'Externe Buchung' 'Verbindliche Anfrage']\n",
      "Count of unique values:\n",
      " Anfrage                 1525537\n",
      "Verbindliche Anfrage      26788\n",
      "Externe Buchung            1771\n",
      "Direktbuchen                122\n",
      "Name: title, dtype: int64\n"
     ]
    }
   ],
   "metadata": {}
  },
  {
   "cell_type": "markdown",
   "source": [
    "### 2. Counts Adults, Children and Pets\n",
    "\n",
    "Looking for outliers"
   ],
   "metadata": {}
  },
  {
   "cell_type": "code",
   "execution_count": 60,
   "source": [
    "# boxplots\n",
    "df_inquiries.boxplot(column=['adult_count', 'children_count', 'pets_count'])"
   ],
   "outputs": [
    {
     "output_type": "execute_result",
     "data": {
      "text/plain": [
       "<AxesSubplot:>"
      ]
     },
     "metadata": {},
     "execution_count": 60
    },
    {
     "output_type": "display_data",
     "data": {
      "text/plain": [
       "<Figure size 432x288 with 1 Axes>"
      ],
      "image/png": "[encoded data removed]"
     },
     "metadata": {
      "needs_background": "light"
     }
    }
   ],
   "metadata": {}
  },
  {
   "cell_type": "markdown",
   "source": [
    "In these features are outliers that we have to handle. We decided to go with the statistical procedure and cut off with quantile 0.95 like in all notebooks. This step we will do in the cleaning (see below).\n",
    "\n",
    "Looking for zero values."
   ],
   "metadata": {}
  },
  {
   "cell_type": "code",
   "execution_count": 61,
   "source": [
    "# Looking for zero values\n",
    "print('Number of zero values in adult count:', df_inquiries.adult_count.isin([0]).sum())\n",
    "print('Number of zero values in children count:', df_inquiries.children_count.isin([0]).sum())\n",
    "print('Number of zero values in pets count:', df_inquiries.pets_count.isin([0]).sum())"
   ],
   "outputs": [
    {
     "output_type": "stream",
     "name": "stdout",
     "text": [
      "Number of zero values in adult count: 104\n",
      "Number of zero values in children count: 1140512\n",
      "Number of zero values in pets count: 1313352\n"
     ]
    }
   ],
   "metadata": {}
  },
  {
   "cell_type": "markdown",
   "source": [
    "### 3. Dates: date, time, arrival date, and departure date"
   ],
   "metadata": {}
  },
  {
   "cell_type": "code",
   "execution_count": 62,
   "source": [
    "# Looking for the range in the features date\n",
    "print('Min date:', df_inquiries.date.min())\n",
    "print('Max date:', df_inquiries.date.max())\n",
    "print('---------------------------')\n",
    "print('Min time:', df_inquiries.time.min())\n",
    "print('Max time:', df_inquiries.time.max())\n",
    "print('---------------------------')\n",
    "print('Min arrival date:', df_inquiries.arrival_date.min())\n",
    "print('Max arrival date:', df_inquiries.arrival_date.max())\n",
    "print('---------------------------')\n",
    "print('Min departure date:', df_inquiries.departure_date.min())\n",
    "print('Max departure date:', df_inquiries.departure_date.max())\n",
    "print('---------------------------')"
   ],
   "outputs": [
    {
     "output_type": "stream",
     "name": "stdout",
     "text": [
      "Min date: 2019-01-01 00:00:00\n",
      "Max date: 2020-12-31 00:00:00\n",
      "---------------------------\n",
      "Min time: 00:00:00\n",
      "Max time: 23:59:59\n",
      "---------------------------\n",
      "Min arrival date: 2019-01-02 00:00:00\n",
      "Max arrival date: 2023-01-28 00:00:00\n",
      "---------------------------\n",
      "Min departure date: 2019-01-04 00:00:00\n",
      "Max departure date: 2023-02-04 00:00:00\n",
      "---------------------------\n"
     ]
    }
   ],
   "metadata": {}
  },
  {
   "cell_type": "markdown",
   "source": [
    "The arrival and departure date are far in the future. We decide to keep the arrival date (so we don't interrupt the length of stay) until 31.12.2021. The last date for inquiries is 31.12.2020, but since inquiries are made for the future, often well in advance, we decided for one year, as it seems most realistic that a booking will also be made from this. This step we will do in the cleaning (see below)."
   ],
   "metadata": {}
  },
  {
   "cell_type": "markdown",
   "source": [
    "#### Closer view to arrival date"
   ],
   "metadata": {}
  },
  {
   "cell_type": "code",
   "execution_count": 68,
   "source": [
    "\n",
    "df_inquiries['arrival_date_yearmonth'] = pd.to_datetime(df_inquiries['arrival_date'],format='%Y-%m', errors='coerce').dt.to_period('m')"
   ],
   "outputs": [],
   "metadata": {}
  },
  {
   "cell_type": "code",
   "execution_count": 100,
   "source": [
    "plot_arrival_date = df_inquiries.groupby('arrival_date_yearmonth').count().reset_index()[['arrival_date_yearmonth', 'listing_id']]"
   ],
   "outputs": [],
   "metadata": {}
  },
  {
   "cell_type": "code",
   "execution_count": 101,
   "source": [
    "plot_arrival_date['arrival_date_yearmonth'] = plot_arrival_date.arrival_date_yearmonth.astype(str)"
   ],
   "outputs": [],
   "metadata": {}
  },
  {
   "cell_type": "code",
   "execution_count": 102,
   "source": [
    "plot_arrival_date['arrival_date_yearmonth'] = pd.to_datetime(plot_arrival_date['arrival_date_yearmonth'])"
   ],
   "outputs": [],
   "metadata": {}
  },
  {
   "cell_type": "code",
   "execution_count": 106,
   "source": [
    "# Split dataset: 2019 and 2020\n",
    "start_date = \"2019-01\"\n",
    "end_date = \"2020-12\"\n",
    "\n",
    "after_start_date = plot_arrival_date[\"arrival_date_yearmonth\"] >= start_date\n",
    "before_end_date = plot_arrival_date[\"arrival_date_yearmonth\"] <= end_date\n",
    "between_two_dates = after_start_date & before_end_date\n",
    "filtered_dates = plot_arrival_date.loc[between_two_dates]"
   ],
   "outputs": [],
   "metadata": {}
  },
  {
   "cell_type": "code",
   "execution_count": 108,
   "source": [
    "# Plotting a lineplot\n",
    "fig, ax = plt.subplots(figsize=(15,5))\n",
    "sns.lineplot(data=filtered_dates, x=\"arrival_date_yearmonth\", y=\"listing_id\")\n",
    "ax.set(xlabel='Year - Month', ylabel='Inquiry count')\n",
    "plt.title('Overall Inquiries per Month (2019 - 2020)')"
   ],
   "outputs": [
    {
     "output_type": "execute_result",
     "data": {
      "text/plain": [
       "Text(0.5, 1.0, 'Overall Inquiries per Month (2019 - 2020)')"
      ]
     },
     "metadata": {},
     "execution_count": 108
    },
    {
     "output_type": "display_data",
     "data": {
      "text/plain": [
       "<Figure size 1080x360 with 1 Axes>"
      ],
      "image/png": "[encoded data removed]"
     },
     "metadata": {
      "needs_background": "light"
     }
    }
   ],
   "metadata": {}
  },
  {
   "cell_type": "markdown",
   "source": [
    "### 3. Inquiries prices\n",
    "\n",
    "Looking for outliers"
   ],
   "metadata": {}
  },
  {
   "cell_type": "code",
   "execution_count": 19,
   "source": [
    "# boxplots\n",
    "df_inquiries.boxplot(column=['inquiry_price'])"
   ],
   "outputs": [
    {
     "output_type": "execute_result",
     "data": {
      "text/plain": [
       "<AxesSubplot:>"
      ]
     },
     "metadata": {},
     "execution_count": 19
    },
    {
     "output_type": "display_data",
     "data": {
      "text/plain": [
       "<Figure size 432x288 with 1 Axes>"
      ],
      "image/png": "[encoded data removed]"
     },
     "metadata": {
      "needs_background": "light"
     }
    }
   ],
   "metadata": {}
  },
  {
   "cell_type": "markdown",
   "source": [
    "Because of the high values, we also will go with the cut off with percentile 0.95. This step we will do in the cleaning (see below).\n",
    "\n",
    "Looking for zero values."
   ],
   "metadata": {}
  },
  {
   "cell_type": "code",
   "execution_count": 20,
   "source": [
    "# Zero values\n",
    "print('Number of zero values in inquiry price:', df_inquiries.inquiry_price.isin([0]).sum())"
   ],
   "outputs": [
    {
     "output_type": "stream",
     "name": "stdout",
     "text": [
      "Number of zero values in inquiry price: 41769\n"
     ]
    }
   ],
   "metadata": {}
  },
  {
   "cell_type": "markdown",
   "source": [
    "## Feature engineering\n",
    "\n",
    "With the features arrival date and departure date we calculate a new feature length stay. The length of a stay influcences the price."
   ],
   "metadata": {}
  },
  {
   "cell_type": "code",
   "execution_count": 21,
   "source": [
    "# Create new feature length of stay\n",
    "df_inquiries['length_stay'] = df_inquiries.departure_date - df_inquiries.arrival_date"
   ],
   "outputs": [],
   "metadata": {}
  },
  {
   "cell_type": "code",
   "execution_count": 22,
   "source": [
    "# Looking for the range in the features length stay\n",
    "print('Min length stay:', df_inquiries.length_stay.min())\n",
    "print('Max length stay:', df_inquiries.length_stay.max())"
   ],
   "outputs": [
    {
     "output_type": "stream",
     "name": "stdout",
     "text": [
      "Min length stay: 1 days 00:00:00\n",
      "Max length stay: 676 days 00:00:00\n"
     ]
    }
   ],
   "metadata": {}
  },
  {
   "cell_type": "code",
   "execution_count": 23,
   "source": [
    "# Plotting the distribution\n",
    "df_inquiries['length_stay'].dt.days.hist(bins=1000)"
   ],
   "outputs": [
    {
     "output_type": "execute_result",
     "data": {
      "text/plain": [
       "<AxesSubplot:>"
      ]
     },
     "metadata": {},
     "execution_count": 23
    },
    {
     "output_type": "display_data",
     "data": {
      "text/plain": [
       "<Figure size 432x288 with 1 Axes>"
      ],
      "image/png": "[encoded data removed]"
     },
     "metadata": {
      "needs_background": "light"
     }
    }
   ],
   "metadata": {}
  },
  {
   "cell_type": "markdown",
   "source": [
    "We have a wide distribution of the inquire length of stay. We will first going throw the other cleaning steps and following have a second look on this distribution again."
   ],
   "metadata": {}
  },
  {
   "cell_type": "markdown",
   "source": [
    "## Clean the dataset\n",
    "\n",
    "### 1. Duplicated rows"
   ],
   "metadata": {}
  },
  {
   "cell_type": "code",
   "execution_count": 24,
   "source": [
    "# Remove duplicated rows\n",
    "df_inquiries.drop_duplicates(keep='first', inplace=True)"
   ],
   "outputs": [],
   "metadata": {}
  },
  {
   "cell_type": "markdown",
   "source": [
    "### 2. Count adults, children, pets and inquiry price"
   ],
   "metadata": {}
  },
  {
   "cell_type": "code",
   "execution_count": 25,
   "source": [
    "# Calculate .95 quantile for the features\n",
    "print('Quantiles 0.95 for:')\n",
    "print('Adults:', df_inquiries.adult_count.quantile([.95]))\n",
    "print('Children:', df_inquiries.children_count.quantile([.95]))\n",
    "print('Pets:', df_inquiries.pets_count.quantile([.95]))\n",
    "print('inquiry_price:', df_inquiries.inquiry_price.quantile([.95]))"
   ],
   "outputs": [
    {
     "output_type": "stream",
     "name": "stdout",
     "text": [
      "Quantiles 0.95 for:\n",
      "Adults: 0.95    6.0\n",
      "Name: adult_count, dtype: float64\n",
      "Children: 0.95    2.0\n",
      "Name: children_count, dtype: float64\n",
      "Pets: 0.95    1.0\n",
      "Name: pets_count, dtype: float64\n",
      "inquiry_price: 0.95    1820.0\n",
      "Name: inquiry_price, dtype: float64\n"
     ]
    }
   ],
   "metadata": {}
  },
  {
   "cell_type": "markdown",
   "source": [
    "Drop all rows with a number of adults greater than 6."
   ],
   "metadata": {}
  },
  {
   "cell_type": "code",
   "execution_count": 26,
   "source": [
    "# How many rows do we drop?\n",
    "print('Number of dropping rows:', df_inquiries.query('adult_count > 6').shape[0])"
   ],
   "outputs": [
    {
     "output_type": "stream",
     "name": "stdout",
     "text": [
      "Number of dropping rows: 76709\n"
     ]
    }
   ],
   "metadata": {}
  },
  {
   "cell_type": "code",
   "execution_count": 27,
   "source": [
    "# Get names of indexes for which column adult_count has value greater than 6\n",
    "indexNames_adult_count = df_inquiries[df_inquiries['adult_count'] > 6].index\n",
    "# Delete these row indexes from dataset\n",
    "df_inquiries.drop(indexNames_adult_count , inplace=True)"
   ],
   "outputs": [],
   "metadata": {}
  },
  {
   "cell_type": "markdown",
   "source": [
    "Drop all rows with a number of children greater than 2."
   ],
   "metadata": {}
  },
  {
   "cell_type": "code",
   "execution_count": 28,
   "source": [
    "# How many rows do we drop?\n",
    "print('Number of dropping rows:', df_inquiries.query('children_count > 2').shape[0])"
   ],
   "outputs": [
    {
     "output_type": "stream",
     "name": "stdout",
     "text": [
      "Number of dropping rows: 63034\n"
     ]
    }
   ],
   "metadata": {}
  },
  {
   "cell_type": "code",
   "execution_count": 29,
   "source": [
    "# Get names of indexes for which column children_count has value greater than 2\n",
    "indexNames_children_count = df_inquiries[df_inquiries['children_count'] > 2].index\n",
    "# Delete these row indexes from dataset\n",
    "df_inquiries.drop(indexNames_children_count , inplace=True)"
   ],
   "outputs": [],
   "metadata": {}
  },
  {
   "cell_type": "markdown",
   "source": [
    "Drop all rows with a number of pets greater than 1."
   ],
   "metadata": {}
  },
  {
   "cell_type": "code",
   "execution_count": 30,
   "source": [
    "# How many rows do we drop?\n",
    "print('Number of dropping rows:', df_inquiries.query('pets_count > 1').shape[0])"
   ],
   "outputs": [
    {
     "output_type": "stream",
     "name": "stdout",
     "text": [
      "Number of dropping rows: 47287\n"
     ]
    }
   ],
   "metadata": {}
  },
  {
   "cell_type": "code",
   "execution_count": 31,
   "source": [
    "# Get names of indexes for which column pets_count has value greater than 1\n",
    "indexNames_pets_count = df_inquiries[df_inquiries['pets_count'] > 1].index\n",
    "# Delete these row indexes from dataset\n",
    "df_inquiries.drop(indexNames_pets_count , inplace=True)"
   ],
   "outputs": [],
   "metadata": {}
  },
  {
   "cell_type": "markdown",
   "source": [
    "Drop all rows with a number of inquiry price greater than 1820.0."
   ],
   "metadata": {}
  },
  {
   "cell_type": "code",
   "execution_count": 32,
   "source": [
    "# How many rows do we drop?\n",
    "print('Number of dropping rows:', df_inquiries.query('inquiry_price > 1820.0').shape[0])"
   ],
   "outputs": [
    {
     "output_type": "stream",
     "name": "stdout",
     "text": [
      "Number of dropping rows: 49695\n"
     ]
    }
   ],
   "metadata": {}
  },
  {
   "cell_type": "code",
   "execution_count": 33,
   "source": [
    "# Get names of indexes for which column inquiry_price has value greater than 1820.0\n",
    "indexNames_inquiry_price = df_inquiries[df_inquiries['inquiry_price'] > 1820.0].index\n",
    "# Delete these row indexes from dataset\n",
    "df_inquiries.drop(indexNames_inquiry_price , inplace=True)"
   ],
   "outputs": [],
   "metadata": {}
  },
  {
   "cell_type": "markdown",
   "source": [
    "### 3. Arrival\n",
    "\n",
    "Remove dates that are greater than 31.12.2021."
   ],
   "metadata": {}
  },
  {
   "cell_type": "code",
   "execution_count": 34,
   "source": [
    "# Remove dates greater than 31.12.2021 \n",
    "df_inquiries = df_inquiries[pd.to_datetime(df_inquiries.arrival_date) <= pd.to_datetime('2021-12-31')]"
   ],
   "outputs": [],
   "metadata": {}
  },
  {
   "cell_type": "markdown",
   "source": [
    "### 4. Length of stay"
   ],
   "metadata": {}
  },
  {
   "cell_type": "code",
   "execution_count": 35,
   "source": [
    "# Looking for the range in the features length stay\n",
    "print('Min length stay:', df_inquiries.length_stay.min())\n",
    "print('Max length stay:', df_inquiries.length_stay.max())"
   ],
   "outputs": [
    {
     "output_type": "stream",
     "name": "stdout",
     "text": [
      "Min length stay: 1 days 00:00:00\n",
      "Max length stay: 674 days 00:00:00\n"
     ]
    }
   ],
   "metadata": {}
  },
  {
   "cell_type": "code",
   "execution_count": 36,
   "source": [
    "# Plotting the distribution\n",
    "df_inquiries['length_stay'].dt.days.hist(bins=1000)"
   ],
   "outputs": [
    {
     "output_type": "execute_result",
     "data": {
      "text/plain": [
       "<AxesSubplot:>"
      ]
     },
     "metadata": {},
     "execution_count": 36
    },
    {
     "output_type": "display_data",
     "data": {
      "text/plain": [
       "<Figure size 432x288 with 1 Axes>"
      ],
      "image/png": "[encoded data removed]"
     },
     "metadata": {
      "needs_background": "light"
     }
    }
   ],
   "metadata": {}
  },
  {
   "cell_type": "markdown",
   "source": [
    "Because the distribution doen't change, we decide to clean for this column too."
   ],
   "metadata": {}
  },
  {
   "cell_type": "code",
   "execution_count": 37,
   "source": [
    "# Calculate .95 quantile for feature\n",
    "print('Length stay:', df_inquiries.length_stay.quantile([.95]))"
   ],
   "outputs": [
    {
     "output_type": "stream",
     "name": "stdout",
     "text": [
      "Length stay: 0.95   14 days\n",
      "Name: length_stay, dtype: timedelta64[ns]\n"
     ]
    }
   ],
   "metadata": {}
  },
  {
   "cell_type": "code",
   "execution_count": 38,
   "source": [
    "# Convert timedelta to integer\n",
    "df_inquiries['length_stay'] = df_inquiries.length_stay.dt.days"
   ],
   "outputs": [],
   "metadata": {}
  },
  {
   "cell_type": "code",
   "execution_count": 39,
   "source": [
    "# How many rows do we drop?\n",
    "print('Number of dropping rows:', df_inquiries.query('length_stay > 14').shape[0])"
   ],
   "outputs": [
    {
     "output_type": "stream",
     "name": "stdout",
     "text": [
      "Number of dropping rows: 16810\n"
     ]
    }
   ],
   "metadata": {}
  },
  {
   "cell_type": "code",
   "execution_count": 40,
   "source": [
    "# Get names of indexes for which column length_stay has value greater than 14\n",
    "indexNames_length_stay = df_inquiries[df_inquiries['length_stay'] > 14].index\n",
    "# Delete these row indexes from dataset\n",
    "df_inquiries.drop(indexNames_length_stay , inplace=True)"
   ],
   "outputs": [],
   "metadata": {}
  },
  {
   "cell_type": "markdown",
   "source": [
    "Shape of the cleaned dataset."
   ],
   "metadata": {}
  },
  {
   "cell_type": "code",
   "execution_count": 41,
   "source": [
    "# Shape of the dataset\n",
    "print('The dataset contains %s inquries and %s features' %(df_inquiries.shape[0], df_inquiries.shape[1]))"
   ],
   "outputs": [
    {
     "output_type": "stream",
     "name": "stdout",
     "text": [
      "The dataset contains 1299788 inquries and 11 features\n"
     ]
    }
   ],
   "metadata": {}
  },
  {
   "cell_type": "markdown",
   "source": [
    "## Save clean dataset as new CSV"
   ],
   "metadata": {}
  },
  {
   "cell_type": "code",
   "execution_count": 42,
   "source": [
    "# Export csv\n",
    "#df_inquiries.to_csv('../data/master_inquiries_20210715.csv')"
   ],
   "outputs": [],
   "metadata": {}
  }
 ]
}