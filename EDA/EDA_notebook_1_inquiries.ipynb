{
 "metadata": {
  "language_info": {
   "codemirror_mode": {
    "name": "ipython",
    "version": 3
   },
   "file_extension": ".py",
   "mimetype": "text/x-python",
   "name": "python",
   "nbconvert_exporter": "python",
   "pygments_lexer": "ipython3",
   "version": "3.8.5"
  },
  "orig_nbformat": 4,
  "kernelspec": {
   "name": "python3",
   "display_name": "Python 3.8.5 64-bit ('3.8.5')"
  },
  "interpreter": {
   "hash": "d837fe7f89ea0bfb31f7e35050aa5bb243afc9e818f612445420203286c5c6ce"
  }
 },
 "nbformat": 4,
 "nbformat_minor": 2,
 "cells": [
  {
   "source": [
    "# This notebook will serve for the initial EDA for the inquiries data for the TFW project"
   ],
   "cell_type": "markdown",
   "metadata": {}
  },
  {
   "cell_type": "code",
   "execution_count": null,
   "metadata": {},
   "outputs": [],
   "source": [
    "# Import necassary libraries\n",
    "import pandas as pd\n",
    "import numpy as np\n",
    "import seaborn as sns\n",
    "import matplotlib.pyplot as plt"
   ]
  },
  {
   "cell_type": "code",
   "execution_count": null,
   "metadata": {},
   "outputs": [],
   "source": [
    "# load dataset\n",
    "df_inquiries = pd.read_csv('../data/inquiries_20210713.csv')"
   ]
  },
  {
   "cell_type": "code",
   "execution_count": null,
   "metadata": {},
   "outputs": [],
   "source": [
    "# Shape of the dataset\n",
    "print('The dataset contains %s inquiries and %s features' %(df_inquiries.shape[0], df_inquiries.shape[1]))"
   ]
  },
  {
   "cell_type": "code",
   "execution_count": null,
   "metadata": {},
   "outputs": [],
   "source": [
    "# Have a first look at the dataset\n",
    "df_inquiries.head(2)"
   ]
  },
  {
   "cell_type": "code",
   "execution_count": null,
   "metadata": {},
   "outputs": [],
   "source": [
    "# First look at the info\n",
    "df_inquiries.info()"
   ]
  },
  {
   "cell_type": "code",
   "execution_count": null,
   "metadata": {},
   "outputs": [],
   "source": [
    "# First description of the numerical features\n",
    "round(df_inquiries.describe(),3)"
   ]
  },
  {
   "cell_type": "code",
   "execution_count": null,
   "metadata": {},
   "outputs": [],
   "source": [
    "# Looking for categorical features\n",
    "df_inquiries.nunique()"
   ]
  },
  {
   "cell_type": "code",
   "execution_count": null,
   "metadata": {},
   "outputs": [],
   "source": [
    "df_inquiries.isna().sum()"
   ]
  },
  {
   "cell_type": "code",
   "execution_count": null,
   "metadata": {},
   "outputs": [],
   "source": [
    "# Duplicate rows\n",
    "# Select duplicate rows except first occurrence based on all columns\n",
    "duplicateRowsDF = df_inquiries[df_inquiries.duplicated()]\n",
    "print(\"Duplicate Rows except first occurrence based on all columns are :\")\n",
    "print(duplicateRowsDF)"
   ]
  },
  {
   "source": [
    "We have 83 duplicated rows. We will remove them in the cleaning (see beolw).Exception"
   ],
   "cell_type": "markdown",
   "metadata": {}
  },
  {
   "source": [
    "## Convert date and time features to the right data type"
   ],
   "cell_type": "markdown",
   "metadata": {}
  },
  {
   "cell_type": "code",
   "execution_count": null,
   "metadata": {},
   "outputs": [],
   "source": [
    "# Convert column contract_end to datetime\n",
    "df_inquiries['date'] = pd.to_datetime(df_inquiries['date'])\n",
    "df_inquiries['time'] = pd.to_datetime(df_inquiries['time'],format= '%H:%M:%S' ).dt.time\n",
    "df_inquiries['arrival_date'] = pd.to_datetime(df_inquiries['arrival_date'])\n",
    "df_inquiries['departure_date'] = pd.to_datetime(df_inquiries['departure_date'])"
   ]
  },
  {
   "source": [
    "## Looking for correlations"
   ],
   "cell_type": "markdown",
   "metadata": {}
  },
  {
   "cell_type": "code",
   "execution_count": null,
   "metadata": {},
   "outputs": [],
   "source": [
    "# generate the heatmap\n",
    "corr = df_inquiries.corr()\n",
    "fig, ax = plt.subplots(figsize=(20, 20))\n",
    "sns.heatmap(\n",
    "    corr,\n",
    "    vmin=-1, vmax=1, center=0,\n",
    "    cmap=sns.diverging_palette(20, 220, n=200),\n",
    "    square=True\n",
    ")\n",
    "ax.set_xticklabels(\n",
    "    ax.get_xticklabels(),\n",
    "    rotation=45,\n",
    "    horizontalalignment='right'\n",
    ");"
   ]
  },
  {
   "cell_type": "code",
   "execution_count": null,
   "metadata": {},
   "outputs": [],
   "source": [
    "# Generate table with correlations \n",
    "corr.style.background_gradient(cmap='coolwarm')"
   ]
  },
  {
   "source": [
    "## Plotting distribution of the features"
   ],
   "cell_type": "markdown",
   "metadata": {}
  },
  {
   "cell_type": "code",
   "execution_count": null,
   "metadata": {},
   "outputs": [],
   "source": [
    "# Plotting the feature title\n",
    "df_inquiries.title.hist()"
   ]
  },
  {
   "cell_type": "code",
   "execution_count": null,
   "metadata": {},
   "outputs": [],
   "source": [
    "# Plotting histograms of numerical features \n",
    "df_inquiries.hist(figsize = (20,15))\n",
    "plt.show()"
   ]
  },
  {
   "source": [
    "## Closer look to all features\n",
    "\n",
    "### 1. title"
   ],
   "cell_type": "markdown",
   "metadata": {}
  },
  {
   "cell_type": "code",
   "execution_count": null,
   "metadata": {},
   "outputs": [],
   "source": [
    "# Number of unique values in feature title\n",
    "print('Number of different title:', df_inquiries.title.nunique())\n",
    "print('Unique values:', df_inquiries.title.unique())\n",
    "print('Count of unique values:\\n', df_inquiries.title.value_counts())"
   ]
  },
  {
   "source": [
    "### 2. Counts Adults, Children and Pets\n",
    "\n",
    "Looking for outliers"
   ],
   "cell_type": "markdown",
   "metadata": {}
  },
  {
   "cell_type": "code",
   "execution_count": null,
   "metadata": {},
   "outputs": [],
   "source": [
    "# boxplots\n",
    "df_inquiries.boxplot(column=['adult_count', 'children_count', 'pets_count'])"
   ]
  },
  {
   "source": [
    "In these features are outliers that we have to handle. We decided to go with the statistical procedure and cut off with quantile 0.95 like in all notebooks. This step we will do in the cleaning (see below).\n",
    "\n",
    "Looking for zero values."
   ],
   "cell_type": "markdown",
   "metadata": {}
  },
  {
   "cell_type": "code",
   "execution_count": null,
   "metadata": {},
   "outputs": [],
   "source": [
    "# Looking for zero values\n",
    "print('Number of zero values in adult count:', df_inquiries.adult_count.isin([0]).sum())\n",
    "print('Number of zero values in children count:', df_inquiries.children_count.isin([0]).sum())\n",
    "print('Number of zero values in pets count:', df_inquiries.pets_count.isin([0]).sum())"
   ]
  },
  {
   "source": [
    "### 3. Dates: date, time, arrival date, and departure date"
   ],
   "cell_type": "markdown",
   "metadata": {}
  },
  {
   "cell_type": "code",
   "execution_count": null,
   "metadata": {},
   "outputs": [],
   "source": [
    "# Looking for the range in the features date\n",
    "print('Min date:', df_inquiries.date.min())\n",
    "print('Max date:', df_inquiries.date.max())\n",
    "print('---------------------------')\n",
    "print('Min time:', df_inquiries.time.min())\n",
    "print('Max time:', df_inquiries.time.max())\n",
    "print('---------------------------')\n",
    "print('Min arrival date:', df_inquiries.arrival_date.min())\n",
    "print('Max arrival date:', df_inquiries.arrival_date.max())\n",
    "print('---------------------------')\n",
    "print('Min departure date:', df_inquiries.departure_date.min())\n",
    "print('Max departure date:', df_inquiries.departure_date.max())\n",
    "print('---------------------------')"
   ]
  },
  {
   "source": [
    "The arrival and departure date are far in the future. We decide to keep the arrival date (so we don't interrupt the length of stay) until 31.12.2021. The last date for inquiries is 31.12.2020, but since inquiries are made for the future, often well in advance, we decided for one year, as it seems most realistic that a booking will also be made from this. This step we will do in the cleaning (see below)."
   ],
   "cell_type": "markdown",
   "metadata": {}
  },
  {
   "source": [
    "### 3. Inquiries prices\n",
    "\n",
    "Looking for outliers"
   ],
   "cell_type": "markdown",
   "metadata": {}
  },
  {
   "cell_type": "code",
   "execution_count": null,
   "metadata": {},
   "outputs": [],
   "source": [
    "# boxplots\n",
    "df_inquiries.boxplot(column=['inquiry_price'])"
   ]
  },
  {
   "source": [
    "Because of the high values, we also will go with the cut off with percentile 0.95. This step we will do in the cleaning (see below).\n",
    "\n",
    "Looking for zero values."
   ],
   "cell_type": "markdown",
   "metadata": {}
  },
  {
   "cell_type": "code",
   "execution_count": null,
   "metadata": {},
   "outputs": [],
   "source": [
    "# Zero values\n",
    "print('Number of zero values in inquiry price:', df_inquiries.inquiry_price.isin([0]).sum())"
   ]
  },
  {
   "source": [
    "## Feature engineering\n",
    "\n",
    "With the features arrival date and departure date we calculate a new feature length stay. The length of a stay influcences the price."
   ],
   "cell_type": "markdown",
   "metadata": {}
  },
  {
   "cell_type": "code",
   "execution_count": null,
   "metadata": {},
   "outputs": [],
   "source": [
    "# Create new feature length of stay\n",
    "df_inquiries['length_stay'] = df_inquiries.departure_date - df_inquiries.arrival_date"
   ]
  },
  {
   "cell_type": "code",
   "execution_count": null,
   "metadata": {},
   "outputs": [],
   "source": [
    "# Looking for the range in the features length stay\n",
    "print('Min length stay:', df_inquiries.length_stay.min())\n",
    "print('Max length stay:', df_inquiries.length_stay.max())"
   ]
  },
  {
   "cell_type": "code",
   "execution_count": null,
   "metadata": {},
   "outputs": [],
   "source": [
    "# Plotting the distribution\n",
    "df_inquiries['length_stay'].dt.days.hist(bins=1000)"
   ]
  },
  {
   "source": [
    "We have a wide distribution of the inquire length of stay. We will first going throw the other cleaning steps and following have a second look on this distribution again."
   ],
   "cell_type": "markdown",
   "metadata": {}
  },
  {
   "source": [
    "## Clean the dataset\n",
    "\n",
    "### 1. Duplicated rows"
   ],
   "cell_type": "markdown",
   "metadata": {}
  },
  {
   "cell_type": "code",
   "execution_count": null,
   "metadata": {},
   "outputs": [],
   "source": [
    "# Remove duplicated rows\n",
    "df_inquiries.drop_duplicates(keep='first', inplace=True)"
   ]
  },
  {
   "source": [
    "### 2. Count adults, children, pets and inquiry price"
   ],
   "cell_type": "markdown",
   "metadata": {}
  },
  {
   "cell_type": "code",
   "execution_count": null,
   "metadata": {},
   "outputs": [],
   "source": [
    "# Calculate .95 quantile for the features\n",
    "print('Quantiles 0.95 for:')\n",
    "print('Adults:', df_inquiries.adult_count.quantile([.95]))\n",
    "print('Children:', df_inquiries.children_count.quantile([.95]))\n",
    "print('Pets:', df_inquiries.pets_count.quantile([.95]))\n",
    "print('inquiry_price:', df_inquiries.inquiry_price.quantile([.95]))"
   ]
  },
  {
   "source": [
    "Drop all rows with a number of adults greater than 6."
   ],
   "cell_type": "markdown",
   "metadata": {}
  },
  {
   "cell_type": "code",
   "execution_count": null,
   "metadata": {},
   "outputs": [],
   "source": [
    "# How many rows do we drop?\n",
    "print('Number of dropping rows:', df_inquiries.query('adult_count > 6').shape[0])"
   ]
  },
  {
   "cell_type": "code",
   "execution_count": null,
   "metadata": {},
   "outputs": [],
   "source": [
    "# Get names of indexes for which column adult_count has value greater than 6\n",
    "indexNames_adult_count = df_inquiries[df_inquiries['adult_count'] > 6].index\n",
    "# Delete these row indexes from dataset\n",
    "df_inquiries.drop(indexNames_adult_count , inplace=True)"
   ]
  },
  {
   "source": [
    "Drop all rows with a number of children greater than 2."
   ],
   "cell_type": "markdown",
   "metadata": {}
  },
  {
   "cell_type": "code",
   "execution_count": null,
   "metadata": {},
   "outputs": [],
   "source": [
    "# How many rows do we drop?\n",
    "print('Number of dropping rows:', df_inquiries.query('children_count > 2').shape[0])"
   ]
  },
  {
   "cell_type": "code",
   "execution_count": null,
   "metadata": {},
   "outputs": [],
   "source": [
    "# Get names of indexes for which column children_count has value greater than 2\n",
    "indexNames_children_count = df_inquiries[df_inquiries['children_count'] > 2].index\n",
    "# Delete these row indexes from dataset\n",
    "df_inquiries.drop(indexNames_children_count , inplace=True)"
   ]
  },
  {
   "source": [
    "Drop all rows with a number of pets greater than 1."
   ],
   "cell_type": "markdown",
   "metadata": {}
  },
  {
   "cell_type": "code",
   "execution_count": null,
   "metadata": {},
   "outputs": [],
   "source": [
    "# How many rows do we drop?\n",
    "print('Number of dropping rows:', df_inquiries.query('pets_count > 1').shape[0])"
   ]
  },
  {
   "cell_type": "code",
   "execution_count": null,
   "metadata": {},
   "outputs": [],
   "source": [
    "# Get names of indexes for which column pets_count has value greater than 1\n",
    "indexNames_pets_count = df_inquiries[df_inquiries['pets_count'] > 1].index\n",
    "# Delete these row indexes from dataset\n",
    "df_inquiries.drop(indexNames_pets_count , inplace=True)"
   ]
  },
  {
   "source": [
    "Drop all rows with a number of inquiry price greater than 1820.0."
   ],
   "cell_type": "markdown",
   "metadata": {}
  },
  {
   "cell_type": "code",
   "execution_count": null,
   "metadata": {},
   "outputs": [],
   "source": [
    "# How many rows do we drop?\n",
    "print('Number of dropping rows:', df_inquiries.query('inquiry_price > 1820.0').shape[0])"
   ]
  },
  {
   "cell_type": "code",
   "execution_count": null,
   "metadata": {},
   "outputs": [],
   "source": [
    "# Get names of indexes for which column inquiry_price has value greater than 1820.0\n",
    "indexNames_inquiry_price = df_inquiries[df_inquiries['inquiry_price'] > 1820.0].index\n",
    "# Delete these row indexes from dataset\n",
    "df_inquiries.drop(indexNames_inquiry_price , inplace=True)"
   ]
  },
  {
   "source": [
    "### 3. Arrival\n",
    "\n",
    "Remove dates that are greater than 31.12.2021."
   ],
   "cell_type": "markdown",
   "metadata": {}
  },
  {
   "cell_type": "code",
   "execution_count": null,
   "metadata": {},
   "outputs": [],
   "source": [
    "# Remove dates greater than 31.12.2021 \n",
    "df_inquiries = df_inquiries[pd.to_datetime(df_inquiries.arrival_date) <= pd.to_datetime('2021-12-31')]"
   ]
  },
  {
   "source": [
    "### 4. Length of stay"
   ],
   "cell_type": "markdown",
   "metadata": {}
  },
  {
   "cell_type": "code",
   "execution_count": null,
   "metadata": {},
   "outputs": [],
   "source": [
    "# Looking for the range in the features length stay\n",
    "print('Min length stay:', df_inquiries.length_stay.min())\n",
    "print('Max length stay:', df_inquiries.length_stay.max())"
   ]
  },
  {
   "cell_type": "code",
   "execution_count": null,
   "metadata": {},
   "outputs": [],
   "source": [
    "# Plotting the distribution\n",
    "df_inquiries['length_stay'].dt.days.hist(bins=1000)"
   ]
  },
  {
   "source": [
    "Because the distribution doen't change, we decide to clean for this column too."
   ],
   "cell_type": "markdown",
   "metadata": {}
  },
  {
   "cell_type": "code",
   "execution_count": null,
   "metadata": {},
   "outputs": [],
   "source": [
    "# Calculate .95 quantile for feature\n",
    "print('Length stay:', df_inquiries.length_stay.quantile([.95]))"
   ]
  },
  {
   "cell_type": "code",
   "execution_count": null,
   "metadata": {},
   "outputs": [],
   "source": [
    "# Convert timedelta to integer\n",
    "df_inquiries['length_stay'] = df_inquiries.length_stay.dt.days"
   ]
  },
  {
   "cell_type": "code",
   "execution_count": null,
   "metadata": {},
   "outputs": [],
   "source": [
    "# How many rows do we drop?\n",
    "print('Number of dropping rows:', df_inquiries.query('length_stay > 14').shape[0])"
   ]
  },
  {
   "cell_type": "code",
   "execution_count": null,
   "metadata": {},
   "outputs": [],
   "source": [
    "# Get names of indexes for which column length_stay has value greater than 14\n",
    "indexNames_length_stay = df_inquiries[df_inquiries['length_stay'] > 14].index\n",
    "# Delete these row indexes from dataset\n",
    "df_inquiries.drop(indexNames_length_stay , inplace=True)"
   ]
  },
  {
   "source": [
    "Shape of the cleaned dataset."
   ],
   "cell_type": "markdown",
   "metadata": {}
  },
  {
   "cell_type": "code",
   "execution_count": null,
   "metadata": {},
   "outputs": [],
   "source": [
    "# Shape of the dataset\n",
    "print('The dataset contains %s inquries and %s features' %(df_inquiries.shape[0], df_inquiries.shape[1]))"
   ]
  },
  {
   "source": [
    "## Save clean dataset as new CSV"
   ],
   "cell_type": "markdown",
   "metadata": {}
  },
  {
   "cell_type": "code",
   "execution_count": null,
   "metadata": {},
   "outputs": [],
   "source": [
    "# Export csv\n",
    "#df_inquiries.to_csv('../data/master_inquiries_20210715.csv')"
   ]
  },
  {
   "cell_type": "code",
   "execution_count": null,
   "metadata": {},
   "outputs": [],
   "source": []
  }
 ]
}