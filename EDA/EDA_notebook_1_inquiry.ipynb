{
 "cells": [
  {
   "cell_type": "code",
   "execution_count": 1,
   "source": [
    "# Import necassary libraries\n",
    "import pandas as pd\n",
    "import numpy as np\n",
    "import os\n",
    "import seaborn as sns\n",
    "import matplotlib.pyplot as plt\n",
    "\n",
    "ROOT = os.environ.get('PWD')"
   ],
   "outputs": [],
   "metadata": {}
  },
  {
   "cell_type": "code",
   "execution_count": 2,
   "source": [
    "#Load dataset\n",
    "df_inquiries = pd.read_csv('../data/inquiries_20210713.csv')"
   ],
   "outputs": [],
   "metadata": {}
  },
  {
   "cell_type": "markdown",
   "source": [
    "# Set time and date"
   ],
   "metadata": {}
  },
  {
   "cell_type": "code",
   "execution_count": 3,
   "source": [
    "df_inquiries['date'] = pd.to_datetime(df_inquiries['date'])\n",
    "df_inquiries['time'] = pd.to_datetime(df_inquiries['time'])\n",
    "df_inquiries['arrival_date'] = pd.to_datetime(df_inquiries['arrival_date'])\n",
    "df_inquiries['departure_date'] = pd.to_datetime(df_inquiries['departure_date'])"
   ],
   "outputs": [],
   "metadata": {}
  },
  {
   "cell_type": "markdown",
   "source": [
    "## Look into data"
   ],
   "metadata": {}
  },
  {
   "cell_type": "code",
   "execution_count": 4,
   "source": [
    "df_inquiries.head(10)\n"
   ],
   "outputs": [
    {
     "output_type": "execute_result",
     "data": {
      "text/plain": [
       "                             listing_id    title       date  \\\n",
       "0  07ab2635-ca78-516a-bbfb-5d1dbf8b9a5a  Anfrage 2019-01-01   \n",
       "1  b334776d-0cf1-51f1-8cdc-37535b280f3d  Anfrage 2019-01-01   \n",
       "2  4abe3247-a01b-5554-bfd2-bc27fa523093  Anfrage 2019-01-01   \n",
       "3  2d71d636-34d3-567a-b21a-244adf0505c0  Anfrage 2019-01-01   \n",
       "4  a049f091-cee2-5be3-bf06-b3947ba45507  Anfrage 2019-01-01   \n",
       "5  80f54c2a-c1f9-5744-a2c8-b8764c0bde87  Anfrage 2019-01-01   \n",
       "6  6a263b0f-cfd6-53fd-aa76-eae6662a4aa2  Anfrage 2019-01-01   \n",
       "7  e2ddffcd-a3bb-519b-8a2a-d1af265abcd8  Anfrage 2019-01-01   \n",
       "8  32128a15-9310-502d-bde2-4f3c8ebd7b65  Anfrage 2019-01-01   \n",
       "9  93a97dea-2b53-542d-8473-40a3b1035cdb  Anfrage 2019-01-01   \n",
       "\n",
       "                 time  adult_count  children_count  pets_count arrival_date  \\\n",
       "0 2021-07-13 00:05:36          6.0             2.0         0.0   2019-07-24   \n",
       "1 2021-07-13 00:07:31          6.0             2.0         0.0   2019-07-24   \n",
       "2 2021-07-13 00:09:12          6.0             2.0         0.0   2019-07-24   \n",
       "3 2021-07-13 00:11:58          3.0             0.0         0.0   2019-06-20   \n",
       "4 2021-07-13 00:17:16          2.0             2.0         0.0   2019-07-27   \n",
       "5 2021-07-13 00:24:34          2.0             1.0         0.0   2019-10-13   \n",
       "6 2021-07-13 00:28:19          2.0             0.0         0.0   2019-06-29   \n",
       "7 2021-07-13 00:53:58          4.0             4.0         0.0   2019-06-21   \n",
       "8 2021-07-13 00:54:33          3.0             3.0         0.0   2019-07-27   \n",
       "9 2021-07-13 00:55:06         14.0             0.0         1.0   2019-04-26   \n",
       "\n",
       "  departure_date  inquiry_price  \n",
       "0     2019-07-31         1840.0  \n",
       "1     2019-07-31         1601.0  \n",
       "2     2019-07-31         2008.0  \n",
       "3     2019-07-04            0.0  \n",
       "4     2019-08-10         2695.0  \n",
       "5     2019-10-20            0.0  \n",
       "6     2019-07-13         1380.0  \n",
       "7     2019-07-01         1537.0  \n",
       "8     2019-08-03            0.0  \n",
       "9     2019-04-28            0.0  "
      ],
      "text/html": [
       "<div>\n",
       "<style scoped>\n",
       "    .dataframe tbody tr th:only-of-type {\n",
       "        vertical-align: middle;\n",
       "    }\n",
       "\n",
       "    .dataframe tbody tr th {\n",
       "        vertical-align: top;\n",
       "    }\n",
       "\n",
       "    .dataframe thead th {\n",
       "        text-align: right;\n",
       "    }\n",
       "</style>\n",
       "<table border=\"1\" class=\"dataframe\">\n",
       "  <thead>\n",
       "    <tr style=\"text-align: right;\">\n",
       "      <th></th>\n",
       "      <th>listing_id</th>\n",
       "      <th>title</th>\n",
       "      <th>date</th>\n",
       "      <th>time</th>\n",
       "      <th>adult_count</th>\n",
       "      <th>children_count</th>\n",
       "      <th>pets_count</th>\n",
       "      <th>arrival_date</th>\n",
       "      <th>departure_date</th>\n",
       "      <th>inquiry_price</th>\n",
       "    </tr>\n",
       "  </thead>\n",
       "  <tbody>\n",
       "    <tr>\n",
       "      <th>0</th>\n",
       "      <td>07ab2635-ca78-516a-bbfb-5d1dbf8b9a5a</td>\n",
       "      <td>Anfrage</td>\n",
       "      <td>2019-01-01</td>\n",
       "      <td>2021-07-13 00:05:36</td>\n",
       "      <td>6.0</td>\n",
       "      <td>2.0</td>\n",
       "      <td>0.0</td>\n",
       "      <td>2019-07-24</td>\n",
       "      <td>2019-07-31</td>\n",
       "      <td>1840.0</td>\n",
       "    </tr>\n",
       "    <tr>\n",
       "      <th>1</th>\n",
       "      <td>b334776d-0cf1-51f1-8cdc-37535b280f3d</td>\n",
       "      <td>Anfrage</td>\n",
       "      <td>2019-01-01</td>\n",
       "      <td>2021-07-13 00:07:31</td>\n",
       "      <td>6.0</td>\n",
       "      <td>2.0</td>\n",
       "      <td>0.0</td>\n",
       "      <td>2019-07-24</td>\n",
       "      <td>2019-07-31</td>\n",
       "      <td>1601.0</td>\n",
       "    </tr>\n",
       "    <tr>\n",
       "      <th>2</th>\n",
       "      <td>4abe3247-a01b-5554-bfd2-bc27fa523093</td>\n",
       "      <td>Anfrage</td>\n",
       "      <td>2019-01-01</td>\n",
       "      <td>2021-07-13 00:09:12</td>\n",
       "      <td>6.0</td>\n",
       "      <td>2.0</td>\n",
       "      <td>0.0</td>\n",
       "      <td>2019-07-24</td>\n",
       "      <td>2019-07-31</td>\n",
       "      <td>2008.0</td>\n",
       "    </tr>\n",
       "    <tr>\n",
       "      <th>3</th>\n",
       "      <td>2d71d636-34d3-567a-b21a-244adf0505c0</td>\n",
       "      <td>Anfrage</td>\n",
       "      <td>2019-01-01</td>\n",
       "      <td>2021-07-13 00:11:58</td>\n",
       "      <td>3.0</td>\n",
       "      <td>0.0</td>\n",
       "      <td>0.0</td>\n",
       "      <td>2019-06-20</td>\n",
       "      <td>2019-07-04</td>\n",
       "      <td>0.0</td>\n",
       "    </tr>\n",
       "    <tr>\n",
       "      <th>4</th>\n",
       "      <td>a049f091-cee2-5be3-bf06-b3947ba45507</td>\n",
       "      <td>Anfrage</td>\n",
       "      <td>2019-01-01</td>\n",
       "      <td>2021-07-13 00:17:16</td>\n",
       "      <td>2.0</td>\n",
       "      <td>2.0</td>\n",
       "      <td>0.0</td>\n",
       "      <td>2019-07-27</td>\n",
       "      <td>2019-08-10</td>\n",
       "      <td>2695.0</td>\n",
       "    </tr>\n",
       "    <tr>\n",
       "      <th>5</th>\n",
       "      <td>80f54c2a-c1f9-5744-a2c8-b8764c0bde87</td>\n",
       "      <td>Anfrage</td>\n",
       "      <td>2019-01-01</td>\n",
       "      <td>2021-07-13 00:24:34</td>\n",
       "      <td>2.0</td>\n",
       "      <td>1.0</td>\n",
       "      <td>0.0</td>\n",
       "      <td>2019-10-13</td>\n",
       "      <td>2019-10-20</td>\n",
       "      <td>0.0</td>\n",
       "    </tr>\n",
       "    <tr>\n",
       "      <th>6</th>\n",
       "      <td>6a263b0f-cfd6-53fd-aa76-eae6662a4aa2</td>\n",
       "      <td>Anfrage</td>\n",
       "      <td>2019-01-01</td>\n",
       "      <td>2021-07-13 00:28:19</td>\n",
       "      <td>2.0</td>\n",
       "      <td>0.0</td>\n",
       "      <td>0.0</td>\n",
       "      <td>2019-06-29</td>\n",
       "      <td>2019-07-13</td>\n",
       "      <td>1380.0</td>\n",
       "    </tr>\n",
       "    <tr>\n",
       "      <th>7</th>\n",
       "      <td>e2ddffcd-a3bb-519b-8a2a-d1af265abcd8</td>\n",
       "      <td>Anfrage</td>\n",
       "      <td>2019-01-01</td>\n",
       "      <td>2021-07-13 00:53:58</td>\n",
       "      <td>4.0</td>\n",
       "      <td>4.0</td>\n",
       "      <td>0.0</td>\n",
       "      <td>2019-06-21</td>\n",
       "      <td>2019-07-01</td>\n",
       "      <td>1537.0</td>\n",
       "    </tr>\n",
       "    <tr>\n",
       "      <th>8</th>\n",
       "      <td>32128a15-9310-502d-bde2-4f3c8ebd7b65</td>\n",
       "      <td>Anfrage</td>\n",
       "      <td>2019-01-01</td>\n",
       "      <td>2021-07-13 00:54:33</td>\n",
       "      <td>3.0</td>\n",
       "      <td>3.0</td>\n",
       "      <td>0.0</td>\n",
       "      <td>2019-07-27</td>\n",
       "      <td>2019-08-03</td>\n",
       "      <td>0.0</td>\n",
       "    </tr>\n",
       "    <tr>\n",
       "      <th>9</th>\n",
       "      <td>93a97dea-2b53-542d-8473-40a3b1035cdb</td>\n",
       "      <td>Anfrage</td>\n",
       "      <td>2019-01-01</td>\n",
       "      <td>2021-07-13 00:55:06</td>\n",
       "      <td>14.0</td>\n",
       "      <td>0.0</td>\n",
       "      <td>1.0</td>\n",
       "      <td>2019-04-26</td>\n",
       "      <td>2019-04-28</td>\n",
       "      <td>0.0</td>\n",
       "    </tr>\n",
       "  </tbody>\n",
       "</table>\n",
       "</div>"
      ]
     },
     "metadata": {},
     "execution_count": 4
    }
   ],
   "metadata": {}
  },
  {
   "cell_type": "code",
   "execution_count": 15,
   "source": [
    "df_inquiries.info()"
   ],
   "outputs": [
    {
     "output_type": "stream",
     "name": "stdout",
     "text": [
      "<class 'pandas.core.frame.DataFrame'>\n",
      "RangeIndex: 4018005 entries, 0 to 4018004\n",
      "Data columns (total 10 columns):\n",
      " #   Column          Dtype         \n",
      "---  ------          -----         \n",
      " 0   listing_id      object        \n",
      " 1   title           object        \n",
      " 2   date            datetime64[ns]\n",
      " 3   time            datetime64[ns]\n",
      " 4   adult_count     float64       \n",
      " 5   children_count  float64       \n",
      " 6   pets_count      float64       \n",
      " 7   arrival_date    datetime64[ns]\n",
      " 8   departure_date  datetime64[ns]\n",
      " 9   inquiry_price   float64       \n",
      "dtypes: datetime64[ns](4), float64(4), object(2)\n",
      "memory usage: 306.5+ MB\n"
     ]
    }
   ],
   "metadata": {}
  },
  {
   "cell_type": "code",
   "execution_count": 16,
   "source": [
    "df_inquiries.describe().round(3)"
   ],
   "outputs": [
    {
     "output_type": "execute_result",
     "data": {
      "text/plain": [
       "       adult_count  children_count   pets_count  inquiry_price\n",
       "count  4012271.000     4012271.000  4012271.000    3424008.000\n",
       "mean         3.137           0.548        0.208        887.142\n",
       "std          1.987           1.068        0.586       2301.717\n",
       "min          0.000           0.000        0.000         -3.380\n",
       "25%          2.000           0.000        0.000        382.000\n",
       "50%          2.000           0.000        0.000        646.000\n",
       "75%          4.000           1.000        0.000       1090.000\n",
       "max         82.000          80.000      500.000    1792331.430"
      ],
      "text/html": [
       "<div>\n",
       "<style scoped>\n",
       "    .dataframe tbody tr th:only-of-type {\n",
       "        vertical-align: middle;\n",
       "    }\n",
       "\n",
       "    .dataframe tbody tr th {\n",
       "        vertical-align: top;\n",
       "    }\n",
       "\n",
       "    .dataframe thead th {\n",
       "        text-align: right;\n",
       "    }\n",
       "</style>\n",
       "<table border=\"1\" class=\"dataframe\">\n",
       "  <thead>\n",
       "    <tr style=\"text-align: right;\">\n",
       "      <th></th>\n",
       "      <th>adult_count</th>\n",
       "      <th>children_count</th>\n",
       "      <th>pets_count</th>\n",
       "      <th>inquiry_price</th>\n",
       "    </tr>\n",
       "  </thead>\n",
       "  <tbody>\n",
       "    <tr>\n",
       "      <th>count</th>\n",
       "      <td>4012271.000</td>\n",
       "      <td>4012271.000</td>\n",
       "      <td>4012271.000</td>\n",
       "      <td>3424008.000</td>\n",
       "    </tr>\n",
       "    <tr>\n",
       "      <th>mean</th>\n",
       "      <td>3.137</td>\n",
       "      <td>0.548</td>\n",
       "      <td>0.208</td>\n",
       "      <td>887.142</td>\n",
       "    </tr>\n",
       "    <tr>\n",
       "      <th>std</th>\n",
       "      <td>1.987</td>\n",
       "      <td>1.068</td>\n",
       "      <td>0.586</td>\n",
       "      <td>2301.717</td>\n",
       "    </tr>\n",
       "    <tr>\n",
       "      <th>min</th>\n",
       "      <td>0.000</td>\n",
       "      <td>0.000</td>\n",
       "      <td>0.000</td>\n",
       "      <td>-3.380</td>\n",
       "    </tr>\n",
       "    <tr>\n",
       "      <th>25%</th>\n",
       "      <td>2.000</td>\n",
       "      <td>0.000</td>\n",
       "      <td>0.000</td>\n",
       "      <td>382.000</td>\n",
       "    </tr>\n",
       "    <tr>\n",
       "      <th>50%</th>\n",
       "      <td>2.000</td>\n",
       "      <td>0.000</td>\n",
       "      <td>0.000</td>\n",
       "      <td>646.000</td>\n",
       "    </tr>\n",
       "    <tr>\n",
       "      <th>75%</th>\n",
       "      <td>4.000</td>\n",
       "      <td>1.000</td>\n",
       "      <td>0.000</td>\n",
       "      <td>1090.000</td>\n",
       "    </tr>\n",
       "    <tr>\n",
       "      <th>max</th>\n",
       "      <td>82.000</td>\n",
       "      <td>80.000</td>\n",
       "      <td>500.000</td>\n",
       "      <td>1792331.430</td>\n",
       "    </tr>\n",
       "  </tbody>\n",
       "</table>\n",
       "</div>"
      ]
     },
     "metadata": {},
     "execution_count": 16
    }
   ],
   "metadata": {}
  },
  {
   "cell_type": "code",
   "execution_count": null,
   "source": [],
   "outputs": [],
   "metadata": {}
  },
  {
   "cell_type": "code",
   "execution_count": 17,
   "source": [
    "df_inquiries.isna().sum()"
   ],
   "outputs": [
    {
     "output_type": "execute_result",
     "data": {
      "text/plain": [
       "listing_id             0\n",
       "title                  0\n",
       "date                   0\n",
       "time                   0\n",
       "adult_count         5734\n",
       "children_count      5734\n",
       "pets_count          5734\n",
       "arrival_date           0\n",
       "departure_date         0\n",
       "inquiry_price     593997\n",
       "dtype: int64"
      ]
     },
     "metadata": {},
     "execution_count": 17
    }
   ],
   "metadata": {}
  },
  {
   "cell_type": "code",
   "execution_count": 18,
   "source": [
    "df_inquiries.nunique()"
   ],
   "outputs": [
    {
     "output_type": "execute_result",
     "data": {
      "text/plain": [
       "listing_id        110746\n",
       "title                  4\n",
       "date                 731\n",
       "time               82630\n",
       "adult_count           52\n",
       "children_count        33\n",
       "pets_count            14\n",
       "arrival_date        1344\n",
       "departure_date      1352\n",
       "inquiry_price      89049\n",
       "dtype: int64"
      ]
     },
     "metadata": {},
     "execution_count": 18
    }
   ],
   "metadata": {}
  },
  {
   "cell_type": "markdown",
   "source": [
    "# we want to remove duplicates, which were shown in the profile"
   ],
   "metadata": {}
  },
  {
   "cell_type": "code",
   "execution_count": 5,
   "source": [
    "# Select duplicate rows except first occurrence based on all columns\n",
    "duplicateRowsDF = df_inquiries[df_inquiries.duplicated()]\n",
    "print(\"Duplicate Rows except first occurrence based on all columns are :\")\n",
    "print(duplicateRowsDF)"
   ],
   "outputs": [
    {
     "output_type": "stream",
     "name": "stdout",
     "text": [
      "Duplicate Rows except first occurrence based on all columns are :\n",
      "                                   listing_id         title       date  \\\n",
      "18       9b764e35-72c7-50ca-a5b6-b6c58161eed7       Anfrage 2019-01-01   \n",
      "1271     c2248782-5ad4-5e35-b175-d74a0eef369a       Anfrage 2019-01-01   \n",
      "2144     6dfa40ef-aa48-54b2-9018-2de3af649845       Anfrage 2019-01-01   \n",
      "5617     3b21eb42-3c5a-53cc-8464-0b610db60492       Anfrage 2019-01-02   \n",
      "14335    ea3133ad-da8d-5c1f-a923-8b2a6fb97de8       Anfrage 2019-01-05   \n",
      "...                                       ...           ...        ...   \n",
      "1266434  97cd54c3-baf4-54fd-8305-3286256f835a       Anfrage 2020-08-12   \n",
      "1293167  b439c7ba-4079-58fc-9894-2b5e1f9b70bd       Anfrage 2020-08-21   \n",
      "1322721  06010cca-7970-5d4b-bea7-cd71eeaf1593       Anfrage 2020-08-30   \n",
      "1440587  52a4eaa5-902f-5080-8ec5-b528b88604f3       Anfrage 2020-10-03   \n",
      "1525635  e7851af0-352a-5e96-b55b-2f809180de85  Direktbuchen 2020-07-18   \n",
      "\n",
      "                       time  adult_count  children_count  pets_count  \\\n",
      "18      2021-07-13 01:37:06          8.0             0.0         0.0   \n",
      "1271    2021-07-13 17:03:22          2.0             3.0         0.0   \n",
      "2144    2021-07-13 20:42:50          2.0             1.0         0.0   \n",
      "5617    2021-07-13 22:23:25         10.0             0.0         0.0   \n",
      "14335   2021-07-13 20:39:32          2.0             2.0         0.0   \n",
      "...                     ...          ...             ...         ...   \n",
      "1266434 2021-07-13 12:51:07          2.0             0.0         0.0   \n",
      "1293167 2021-07-13 19:04:08          2.0             2.0         0.0   \n",
      "1322721 2021-07-13 20:53:18          2.0             0.0         0.0   \n",
      "1440587 2021-07-13 12:42:38          5.0             0.0         2.0   \n",
      "1525635 2021-07-13 19:00:34          2.0             0.0         0.0   \n",
      "\n",
      "        arrival_date departure_date  inquiry_price  \n",
      "18        2019-12-28     2020-01-04         980.00  \n",
      "1271      2019-08-05     2019-08-12        1435.00  \n",
      "2144      2019-07-09     2019-07-13         330.00  \n",
      "5617      2019-06-14     2019-06-16         342.00  \n",
      "14335     2019-08-03     2019-08-17        1292.00  \n",
      "...              ...            ...            ...  \n",
      "1266434   2020-10-11     2020-10-17         371.00  \n",
      "1293167   2020-10-10     2020-10-17         945.00  \n",
      "1322721   2021-07-31     2021-08-14        1210.00  \n",
      "1440587   2021-08-07     2021-08-21        2170.00  \n",
      "1525635   2020-07-28     2020-07-31         284.26  \n",
      "\n",
      "[83 rows x 10 columns]\n"
     ]
    }
   ],
   "metadata": {}
  },
  {
   "cell_type": "code",
   "execution_count": 23,
   "source": [
    "df_inquiries.drop_duplicates(keep=False)"
   ],
   "outputs": [
    {
     "output_type": "execute_result",
     "data": {
      "text/plain": [
       "                                   listing_id                 title  \\\n",
       "0        c47741c3-2327-596e-89bc-5fcec81c9ee7               Anfrage   \n",
       "1        07ab2635-ca78-516a-bbfb-5d1dbf8b9a5a               Anfrage   \n",
       "2        b334776d-0cf1-51f1-8cdc-37535b280f3d               Anfrage   \n",
       "3        4abe3247-a01b-5554-bfd2-bc27fa523093               Anfrage   \n",
       "4        2d71d636-34d3-567a-b21a-244adf0505c0               Anfrage   \n",
       "...                                       ...                   ...   \n",
       "4018000  242a498a-e77a-56e1-85a3-8170fee3384f  Verbindliche Anfrage   \n",
       "4018001  fc43e8cc-62eb-50ca-a423-e50b9fa91c9c  Verbindliche Anfrage   \n",
       "4018002  638ab1f2-a60c-5b34-8c89-2c66de69c111  Verbindliche Anfrage   \n",
       "4018003  8e8344f9-2c96-50e4-bb6f-700d1b82a6b7  Verbindliche Anfrage   \n",
       "4018004  bc28d04b-57ab-59a6-a79a-30d605914a2f  Verbindliche Anfrage   \n",
       "\n",
       "              date                time  adult_count  children_count  \\\n",
       "0       2019-01-01 2021-07-12 00:04:56          2.0             0.0   \n",
       "1       2019-01-01 2021-07-12 00:05:36          6.0             2.0   \n",
       "2       2019-01-01 2021-07-12 00:07:31          6.0             2.0   \n",
       "3       2019-01-01 2021-07-12 00:09:12          6.0             2.0   \n",
       "4       2019-01-01 2021-07-12 00:11:58          3.0             0.0   \n",
       "...            ...                 ...          ...             ...   \n",
       "4018000 2020-12-31 2021-07-12 18:22:31          2.0             1.0   \n",
       "4018001 2020-12-31 2021-07-12 20:01:11          3.0             0.0   \n",
       "4018002 2020-12-31 2021-07-12 21:26:52          2.0             1.0   \n",
       "4018003 2020-12-31 2021-07-12 23:38:06          2.0             0.0   \n",
       "4018004 2020-12-31 2021-07-12 23:39:41          2.0             0.0   \n",
       "\n",
       "         pets_count arrival_date departure_date  inquiry_price  \n",
       "0               0.0   2019-06-30     2019-07-13            0.0  \n",
       "1               0.0   2019-07-24     2019-07-31         1840.0  \n",
       "2               0.0   2019-07-24     2019-07-31         1601.0  \n",
       "3               0.0   2019-07-24     2019-07-31         2008.0  \n",
       "4               0.0   2019-06-20     2019-07-04            0.0  \n",
       "...             ...          ...            ...            ...  \n",
       "4018000         0.0   2021-08-02     2021-08-07          550.0  \n",
       "4018001         1.0   2021-08-21     2021-09-04         2408.0  \n",
       "4018002         0.0   2021-08-01     2021-08-08         1267.0  \n",
       "4018003         0.0   2021-07-25     2021-08-06         1787.0  \n",
       "4018004         0.0   2021-05-14     2021-05-21          973.0  \n",
       "\n",
       "[4017403 rows x 10 columns]"
      ],
      "text/html": [
       "<div>\n",
       "<style scoped>\n",
       "    .dataframe tbody tr th:only-of-type {\n",
       "        vertical-align: middle;\n",
       "    }\n",
       "\n",
       "    .dataframe tbody tr th {\n",
       "        vertical-align: top;\n",
       "    }\n",
       "\n",
       "    .dataframe thead th {\n",
       "        text-align: right;\n",
       "    }\n",
       "</style>\n",
       "<table border=\"1\" class=\"dataframe\">\n",
       "  <thead>\n",
       "    <tr style=\"text-align: right;\">\n",
       "      <th></th>\n",
       "      <th>listing_id</th>\n",
       "      <th>title</th>\n",
       "      <th>date</th>\n",
       "      <th>time</th>\n",
       "      <th>adult_count</th>\n",
       "      <th>children_count</th>\n",
       "      <th>pets_count</th>\n",
       "      <th>arrival_date</th>\n",
       "      <th>departure_date</th>\n",
       "      <th>inquiry_price</th>\n",
       "    </tr>\n",
       "  </thead>\n",
       "  <tbody>\n",
       "    <tr>\n",
       "      <th>0</th>\n",
       "      <td>c47741c3-2327-596e-89bc-5fcec81c9ee7</td>\n",
       "      <td>Anfrage</td>\n",
       "      <td>2019-01-01</td>\n",
       "      <td>2021-07-12 00:04:56</td>\n",
       "      <td>2.0</td>\n",
       "      <td>0.0</td>\n",
       "      <td>0.0</td>\n",
       "      <td>2019-06-30</td>\n",
       "      <td>2019-07-13</td>\n",
       "      <td>0.0</td>\n",
       "    </tr>\n",
       "    <tr>\n",
       "      <th>1</th>\n",
       "      <td>07ab2635-ca78-516a-bbfb-5d1dbf8b9a5a</td>\n",
       "      <td>Anfrage</td>\n",
       "      <td>2019-01-01</td>\n",
       "      <td>2021-07-12 00:05:36</td>\n",
       "      <td>6.0</td>\n",
       "      <td>2.0</td>\n",
       "      <td>0.0</td>\n",
       "      <td>2019-07-24</td>\n",
       "      <td>2019-07-31</td>\n",
       "      <td>1840.0</td>\n",
       "    </tr>\n",
       "    <tr>\n",
       "      <th>2</th>\n",
       "      <td>b334776d-0cf1-51f1-8cdc-37535b280f3d</td>\n",
       "      <td>Anfrage</td>\n",
       "      <td>2019-01-01</td>\n",
       "      <td>2021-07-12 00:07:31</td>\n",
       "      <td>6.0</td>\n",
       "      <td>2.0</td>\n",
       "      <td>0.0</td>\n",
       "      <td>2019-07-24</td>\n",
       "      <td>2019-07-31</td>\n",
       "      <td>1601.0</td>\n",
       "    </tr>\n",
       "    <tr>\n",
       "      <th>3</th>\n",
       "      <td>4abe3247-a01b-5554-bfd2-bc27fa523093</td>\n",
       "      <td>Anfrage</td>\n",
       "      <td>2019-01-01</td>\n",
       "      <td>2021-07-12 00:09:12</td>\n",
       "      <td>6.0</td>\n",
       "      <td>2.0</td>\n",
       "      <td>0.0</td>\n",
       "      <td>2019-07-24</td>\n",
       "      <td>2019-07-31</td>\n",
       "      <td>2008.0</td>\n",
       "    </tr>\n",
       "    <tr>\n",
       "      <th>4</th>\n",
       "      <td>2d71d636-34d3-567a-b21a-244adf0505c0</td>\n",
       "      <td>Anfrage</td>\n",
       "      <td>2019-01-01</td>\n",
       "      <td>2021-07-12 00:11:58</td>\n",
       "      <td>3.0</td>\n",
       "      <td>0.0</td>\n",
       "      <td>0.0</td>\n",
       "      <td>2019-06-20</td>\n",
       "      <td>2019-07-04</td>\n",
       "      <td>0.0</td>\n",
       "    </tr>\n",
       "    <tr>\n",
       "      <th>...</th>\n",
       "      <td>...</td>\n",
       "      <td>...</td>\n",
       "      <td>...</td>\n",
       "      <td>...</td>\n",
       "      <td>...</td>\n",
       "      <td>...</td>\n",
       "      <td>...</td>\n",
       "      <td>...</td>\n",
       "      <td>...</td>\n",
       "      <td>...</td>\n",
       "    </tr>\n",
       "    <tr>\n",
       "      <th>4018000</th>\n",
       "      <td>242a498a-e77a-56e1-85a3-8170fee3384f</td>\n",
       "      <td>Verbindliche Anfrage</td>\n",
       "      <td>2020-12-31</td>\n",
       "      <td>2021-07-12 18:22:31</td>\n",
       "      <td>2.0</td>\n",
       "      <td>1.0</td>\n",
       "      <td>0.0</td>\n",
       "      <td>2021-08-02</td>\n",
       "      <td>2021-08-07</td>\n",
       "      <td>550.0</td>\n",
       "    </tr>\n",
       "    <tr>\n",
       "      <th>4018001</th>\n",
       "      <td>fc43e8cc-62eb-50ca-a423-e50b9fa91c9c</td>\n",
       "      <td>Verbindliche Anfrage</td>\n",
       "      <td>2020-12-31</td>\n",
       "      <td>2021-07-12 20:01:11</td>\n",
       "      <td>3.0</td>\n",
       "      <td>0.0</td>\n",
       "      <td>1.0</td>\n",
       "      <td>2021-08-21</td>\n",
       "      <td>2021-09-04</td>\n",
       "      <td>2408.0</td>\n",
       "    </tr>\n",
       "    <tr>\n",
       "      <th>4018002</th>\n",
       "      <td>638ab1f2-a60c-5b34-8c89-2c66de69c111</td>\n",
       "      <td>Verbindliche Anfrage</td>\n",
       "      <td>2020-12-31</td>\n",
       "      <td>2021-07-12 21:26:52</td>\n",
       "      <td>2.0</td>\n",
       "      <td>1.0</td>\n",
       "      <td>0.0</td>\n",
       "      <td>2021-08-01</td>\n",
       "      <td>2021-08-08</td>\n",
       "      <td>1267.0</td>\n",
       "    </tr>\n",
       "    <tr>\n",
       "      <th>4018003</th>\n",
       "      <td>8e8344f9-2c96-50e4-bb6f-700d1b82a6b7</td>\n",
       "      <td>Verbindliche Anfrage</td>\n",
       "      <td>2020-12-31</td>\n",
       "      <td>2021-07-12 23:38:06</td>\n",
       "      <td>2.0</td>\n",
       "      <td>0.0</td>\n",
       "      <td>0.0</td>\n",
       "      <td>2021-07-25</td>\n",
       "      <td>2021-08-06</td>\n",
       "      <td>1787.0</td>\n",
       "    </tr>\n",
       "    <tr>\n",
       "      <th>4018004</th>\n",
       "      <td>bc28d04b-57ab-59a6-a79a-30d605914a2f</td>\n",
       "      <td>Verbindliche Anfrage</td>\n",
       "      <td>2020-12-31</td>\n",
       "      <td>2021-07-12 23:39:41</td>\n",
       "      <td>2.0</td>\n",
       "      <td>0.0</td>\n",
       "      <td>0.0</td>\n",
       "      <td>2021-05-14</td>\n",
       "      <td>2021-05-21</td>\n",
       "      <td>973.0</td>\n",
       "    </tr>\n",
       "  </tbody>\n",
       "</table>\n",
       "<p>4017403 rows × 10 columns</p>\n",
       "</div>"
      ]
     },
     "metadata": {},
     "execution_count": 23
    }
   ],
   "metadata": {}
  },
  {
   "cell_type": "code",
   "execution_count": 5,
   "source": [
    "df_inquiries.nunique()"
   ],
   "outputs": [
    {
     "output_type": "execute_result",
     "data": {
      "text/plain": [
       "listing_id        29655\n",
       "title                 4\n",
       "date                731\n",
       "time              76731\n",
       "adult_count          42\n",
       "children_count       26\n",
       "pets_count           14\n",
       "arrival_date       1285\n",
       "departure_date     1289\n",
       "inquiry_price     16543\n",
       "dtype: int64"
      ]
     },
     "metadata": {},
     "execution_count": 5
    }
   ],
   "metadata": {}
  },
  {
   "cell_type": "markdown",
   "source": [
    "Dataset Inquiries: check to see what these values look like\n",
    "- adult_count max\n",
    "- children_count max\n",
    "- pets_count max\n",
    "- inquiries_prices --> everything (NA, Zeros, min, max)\n",
    "- convert some columns to date time\n",
    "- duplicate rows"
   ],
   "metadata": {}
  },
  {
   "cell_type": "code",
   "execution_count": 6,
   "source": [
    "df_inquiries.title.unique()"
   ],
   "outputs": [
    {
     "output_type": "execute_result",
     "data": {
      "text/plain": [
       "array(['Anfrage', 'Direktbuchen', 'Externe Buchung',\n",
       "       'Verbindliche Anfrage'], dtype=object)"
      ]
     },
     "metadata": {},
     "execution_count": 6
    }
   ],
   "metadata": {}
  },
  {
   "cell_type": "code",
   "execution_count": 7,
   "source": [
    "df_inquiries['adult_count'].sort_values().max()"
   ],
   "outputs": [
    {
     "output_type": "execute_result",
     "data": {
      "text/plain": [
       "55.0"
      ]
     },
     "metadata": {},
     "execution_count": 7
    }
   ],
   "metadata": {}
  },
  {
   "cell_type": "code",
   "execution_count": 8,
   "source": [
    "ax = sns.boxplot(data=df_inquiries['adult_count'], orient=\"h\", palette=\"Set2\")"
   ],
   "outputs": [
    {
     "output_type": "display_data",
     "data": {
      "text/plain": [
       "<Figure size 432x288 with 1 Axes>"
      ],
      "image/png": "[encoded data removed]"
     },
     "metadata": {
      "needs_background": "light"
     }
    }
   ],
   "metadata": {}
  },
  {
   "cell_type": "code",
   "execution_count": 9,
   "source": [
    "df_inquiries['children_count'].sort_values().max()"
   ],
   "outputs": [
    {
     "output_type": "execute_result",
     "data": {
      "text/plain": [
       "40.0"
      ]
     },
     "metadata": {},
     "execution_count": 9
    }
   ],
   "metadata": {}
  },
  {
   "cell_type": "code",
   "execution_count": 10,
   "source": [
    "ax = sns.boxplot(data=df_inquiries['children_count'], orient=\"h\", palette=\"Set2\")"
   ],
   "outputs": [
    {
     "output_type": "display_data",
     "data": {
      "text/plain": [
       "<Figure size 432x288 with 1 Axes>"
      ],
      "image/png": "[encoded data removed]"
     },
     "metadata": {
      "needs_background": "light"
     }
    }
   ],
   "metadata": {}
  },
  {
   "cell_type": "code",
   "execution_count": 11,
   "source": [
    "df_inquiries['pets_count'].sort_values().max()"
   ],
   "outputs": [
    {
     "output_type": "execute_result",
     "data": {
      "text/plain": [
       "500.0"
      ]
     },
     "metadata": {},
     "execution_count": 11
    }
   ],
   "metadata": {}
  },
  {
   "cell_type": "code",
   "execution_count": 16,
   "source": [
    "ax = sns.boxplot(data=df_inquiries['pets_count'], orient=\"h\", palette=\"Set2\")"
   ],
   "outputs": [
    {
     "output_type": "display_data",
     "data": {
      "text/plain": [
       "<Figure size 432x288 with 1 Axes>"
      ],
      "image/png": "[encoded data removed]"
     },
     "metadata": {
      "needs_background": "light"
     }
    }
   ],
   "metadata": {}
  },
  {
   "cell_type": "markdown",
   "source": [
    "# all these values indicate outliers, even if they are accurate"
   ],
   "metadata": {}
  },
  {
   "cell_type": "code",
   "execution_count": 12,
   "source": [
    "# number of missing for inquiries_price is high\n",
    "\n",
    "\n",
    "df_inquiries['inquiry_price'].isna().sum()"
   ],
   "outputs": [
    {
     "output_type": "execute_result",
     "data": {
      "text/plain": [
       "242020"
      ]
     },
     "metadata": {},
     "execution_count": 12
    }
   ],
   "metadata": {}
  },
  {
   "cell_type": "code",
   "execution_count": 13,
   "source": [
    "# the values in inquiry_price\n",
    "\n",
    "df_inquiries['inquiry_price'].value_counts()"
   ],
   "outputs": [
    {
     "output_type": "execute_result",
     "data": {
      "text/plain": [
       "0.00       41769\n",
       "420.00     12171\n",
       "350.00     11347\n",
       "560.00     10725\n",
       "300.00     10646\n",
       "           ...  \n",
       "768.90         1\n",
       "716.29         1\n",
       "840.43         1\n",
       "557.80         1\n",
       "1430.57        1\n",
       "Name: inquiry_price, Length: 16543, dtype: int64"
      ]
     },
     "metadata": {},
     "execution_count": 13
    }
   ],
   "metadata": {}
  },
  {
   "cell_type": "code",
   "execution_count": 14,
   "source": [
    "df_inquiries['inquiry_price'].sort_values().max()"
   ],
   "outputs": [
    {
     "output_type": "execute_result",
     "data": {
      "text/plain": [
       "750000.0"
      ]
     },
     "metadata": {},
     "execution_count": 14
    }
   ],
   "metadata": {}
  },
  {
   "cell_type": "markdown",
   "source": [
    "# we see ranges with outliers, these should be removed for all these variables"
   ],
   "metadata": {}
  },
  {
   "cell_type": "markdown",
   "source": [
    "# before we do this, we want to see what the base prices for the outlier properties look like "
   ],
   "metadata": {}
  },
  {
   "cell_type": "code",
   "execution_count": 40,
   "source": [
    "pricy_inquiries = df_inquiries[df_inquiries.inquiry_price > df_inquiries.inquiry_price.quantile(.95)]\n",
    "\n"
   ],
   "outputs": [],
   "metadata": {}
  },
  {
   "cell_type": "code",
   "execution_count": 37,
   "source": [
    "top_inquiries.head()"
   ],
   "outputs": [
    {
     "output_type": "execute_result",
     "data": {
      "text/plain": [
       "                               listing_id    title       date  \\\n",
       "5    a049f091-cee2-5be3-bf06-b3947ba45507  Anfrage 2019-01-01   \n",
       "6    14c7adbe-f6be-58d8-a925-7d4f891f1a94  Anfrage 2019-01-01   \n",
       "9    b9a03002-7cb0-5ede-993e-06b7da138951  Anfrage 2019-01-01   \n",
       "222  b0be0ec1-0fb7-5206-b645-c87a8efaf536  Anfrage 2019-01-01   \n",
       "254  89767a88-2713-54bf-a3d3-d73bac93d6ea  Anfrage 2019-01-01   \n",
       "\n",
       "                   time  adult_count  children_count  pets_count arrival_date  \\\n",
       "5   2021-07-12 00:17:16          2.0             2.0         0.0   2019-07-27   \n",
       "6   2021-07-12 00:19:09          9.0             0.0         0.0   2019-06-29   \n",
       "9   2021-07-12 00:37:24          2.0             0.0         0.0   2019-06-22   \n",
       "222 2021-07-12 10:15:01          4.0             0.0         3.0   2019-08-10   \n",
       "254 2021-07-12 10:29:34          7.0             0.0         0.0   2019-08-08   \n",
       "\n",
       "    departure_date  inquiry_price  \n",
       "5       2019-08-10         2695.0  \n",
       "6       2019-07-06         2700.0  \n",
       "9       2019-07-06         4340.0  \n",
       "222     2019-08-17         2800.0  \n",
       "254     2019-08-15         4200.0  "
      ],
      "text/html": [
       "<div>\n",
       "<style scoped>\n",
       "    .dataframe tbody tr th:only-of-type {\n",
       "        vertical-align: middle;\n",
       "    }\n",
       "\n",
       "    .dataframe tbody tr th {\n",
       "        vertical-align: top;\n",
       "    }\n",
       "\n",
       "    .dataframe thead th {\n",
       "        text-align: right;\n",
       "    }\n",
       "</style>\n",
       "<table border=\"1\" class=\"dataframe\">\n",
       "  <thead>\n",
       "    <tr style=\"text-align: right;\">\n",
       "      <th></th>\n",
       "      <th>listing_id</th>\n",
       "      <th>title</th>\n",
       "      <th>date</th>\n",
       "      <th>time</th>\n",
       "      <th>adult_count</th>\n",
       "      <th>children_count</th>\n",
       "      <th>pets_count</th>\n",
       "      <th>arrival_date</th>\n",
       "      <th>departure_date</th>\n",
       "      <th>inquiry_price</th>\n",
       "    </tr>\n",
       "  </thead>\n",
       "  <tbody>\n",
       "    <tr>\n",
       "      <th>5</th>\n",
       "      <td>a049f091-cee2-5be3-bf06-b3947ba45507</td>\n",
       "      <td>Anfrage</td>\n",
       "      <td>2019-01-01</td>\n",
       "      <td>2021-07-12 00:17:16</td>\n",
       "      <td>2.0</td>\n",
       "      <td>2.0</td>\n",
       "      <td>0.0</td>\n",
       "      <td>2019-07-27</td>\n",
       "      <td>2019-08-10</td>\n",
       "      <td>2695.0</td>\n",
       "    </tr>\n",
       "    <tr>\n",
       "      <th>6</th>\n",
       "      <td>14c7adbe-f6be-58d8-a925-7d4f891f1a94</td>\n",
       "      <td>Anfrage</td>\n",
       "      <td>2019-01-01</td>\n",
       "      <td>2021-07-12 00:19:09</td>\n",
       "      <td>9.0</td>\n",
       "      <td>0.0</td>\n",
       "      <td>0.0</td>\n",
       "      <td>2019-06-29</td>\n",
       "      <td>2019-07-06</td>\n",
       "      <td>2700.0</td>\n",
       "    </tr>\n",
       "    <tr>\n",
       "      <th>9</th>\n",
       "      <td>b9a03002-7cb0-5ede-993e-06b7da138951</td>\n",
       "      <td>Anfrage</td>\n",
       "      <td>2019-01-01</td>\n",
       "      <td>2021-07-12 00:37:24</td>\n",
       "      <td>2.0</td>\n",
       "      <td>0.0</td>\n",
       "      <td>0.0</td>\n",
       "      <td>2019-06-22</td>\n",
       "      <td>2019-07-06</td>\n",
       "      <td>4340.0</td>\n",
       "    </tr>\n",
       "    <tr>\n",
       "      <th>222</th>\n",
       "      <td>b0be0ec1-0fb7-5206-b645-c87a8efaf536</td>\n",
       "      <td>Anfrage</td>\n",
       "      <td>2019-01-01</td>\n",
       "      <td>2021-07-12 10:15:01</td>\n",
       "      <td>4.0</td>\n",
       "      <td>0.0</td>\n",
       "      <td>3.0</td>\n",
       "      <td>2019-08-10</td>\n",
       "      <td>2019-08-17</td>\n",
       "      <td>2800.0</td>\n",
       "    </tr>\n",
       "    <tr>\n",
       "      <th>254</th>\n",
       "      <td>89767a88-2713-54bf-a3d3-d73bac93d6ea</td>\n",
       "      <td>Anfrage</td>\n",
       "      <td>2019-01-01</td>\n",
       "      <td>2021-07-12 10:29:34</td>\n",
       "      <td>7.0</td>\n",
       "      <td>0.0</td>\n",
       "      <td>0.0</td>\n",
       "      <td>2019-08-08</td>\n",
       "      <td>2019-08-15</td>\n",
       "      <td>4200.0</td>\n",
       "    </tr>\n",
       "  </tbody>\n",
       "</table>\n",
       "</div>"
      ]
     },
     "metadata": {},
     "execution_count": 37
    }
   ],
   "metadata": {}
  },
  {
   "cell_type": "code",
   "execution_count": 39,
   "source": [
    "# load the price dataset\n",
    "\n",
    "df_prices = pd.read_csv('../data/prices_20210707.csv')"
   ],
   "outputs": [],
   "metadata": {}
  },
  {
   "cell_type": "code",
   "execution_count": 43,
   "source": [
    "df_pricy_properties = pd.merge(pricy_inquiries, df_prices, left_on='listing_id', right_on='listing_id', how='left')"
   ],
   "outputs": [],
   "metadata": {}
  },
  {
   "cell_type": "code",
   "execution_count": 44,
   "source": [
    "df_pricy_properties.nunique()"
   ],
   "outputs": [
    {
     "output_type": "execute_result",
     "data": {
      "text/plain": [
       "listing_id             32835\n",
       "title                      4\n",
       "date                     731\n",
       "time                   59071\n",
       "adult_count               42\n",
       "children_count            28\n",
       "pets_count                11\n",
       "arrival_date            1070\n",
       "departure_date          1076\n",
       "inquiry_price          20533\n",
       "min_days                  17\n",
       "date_from               4143\n",
       "date_to                 4072\n",
       "price_per_day_from      6637\n",
       "price_per_week_from     6195\n",
       "dtype: int64"
      ]
     },
     "metadata": {},
     "execution_count": 44
    }
   ],
   "metadata": {}
  },
  {
   "cell_type": "code",
   "execution_count": 42,
   "source": [
    "df_pricy_properties.head()"
   ],
   "outputs": [
    {
     "output_type": "execute_result",
     "data": {
      "text/plain": [
       "                             listing_id  min_days   date_from     date_to  \\\n",
       "0  fbd74bce-23dd-53e7-b988-8beb85160d6f       5.0  2020-04-01  2020-06-15   \n",
       "1  fbd74bce-23dd-53e7-b988-8beb85160d6f       5.0  2020-06-15  2020-07-05   \n",
       "2  fbd74bce-23dd-53e7-b988-8beb85160d6f       4.0  2020-09-13  2020-11-01   \n",
       "3  fbd74bce-23dd-53e7-b988-8beb85160d6f       2.0  2020-11-01  2020-12-24   \n",
       "4  fbd74bce-23dd-53e7-b988-8beb85160d6f       5.0  2020-12-24  2021-01-07   \n",
       "\n",
       "   price_per_day_from  price_per_week_from title date time  adult_count  \\\n",
       "0                70.0                  NaN   NaN  NaT  NaT          NaN   \n",
       "1                78.0                  NaN   NaN  NaT  NaT          NaN   \n",
       "2                70.0                  NaN   NaN  NaT  NaT          NaN   \n",
       "3                58.0                  NaN   NaN  NaT  NaT          NaN   \n",
       "4                80.0                  NaN   NaN  NaT  NaT          NaN   \n",
       "\n",
       "   children_count  pets_count arrival_date departure_date  inquiry_price  \n",
       "0             NaN         NaN          NaT            NaT            NaN  \n",
       "1             NaN         NaN          NaT            NaT            NaN  \n",
       "2             NaN         NaN          NaT            NaT            NaN  \n",
       "3             NaN         NaN          NaT            NaT            NaN  \n",
       "4             NaN         NaN          NaT            NaT            NaN  "
      ],
      "text/html": [
       "<div>\n",
       "<style scoped>\n",
       "    .dataframe tbody tr th:only-of-type {\n",
       "        vertical-align: middle;\n",
       "    }\n",
       "\n",
       "    .dataframe tbody tr th {\n",
       "        vertical-align: top;\n",
       "    }\n",
       "\n",
       "    .dataframe thead th {\n",
       "        text-align: right;\n",
       "    }\n",
       "</style>\n",
       "<table border=\"1\" class=\"dataframe\">\n",
       "  <thead>\n",
       "    <tr style=\"text-align: right;\">\n",
       "      <th></th>\n",
       "      <th>listing_id</th>\n",
       "      <th>min_days</th>\n",
       "      <th>date_from</th>\n",
       "      <th>date_to</th>\n",
       "      <th>price_per_day_from</th>\n",
       "      <th>price_per_week_from</th>\n",
       "      <th>title</th>\n",
       "      <th>date</th>\n",
       "      <th>time</th>\n",
       "      <th>adult_count</th>\n",
       "      <th>children_count</th>\n",
       "      <th>pets_count</th>\n",
       "      <th>arrival_date</th>\n",
       "      <th>departure_date</th>\n",
       "      <th>inquiry_price</th>\n",
       "    </tr>\n",
       "  </thead>\n",
       "  <tbody>\n",
       "    <tr>\n",
       "      <th>0</th>\n",
       "      <td>fbd74bce-23dd-53e7-b988-8beb85160d6f</td>\n",
       "      <td>5.0</td>\n",
       "      <td>2020-04-01</td>\n",
       "      <td>2020-06-15</td>\n",
       "      <td>70.0</td>\n",
       "      <td>NaN</td>\n",
       "      <td>NaN</td>\n",
       "      <td>NaT</td>\n",
       "      <td>NaT</td>\n",
       "      <td>NaN</td>\n",
       "      <td>NaN</td>\n",
       "      <td>NaN</td>\n",
       "      <td>NaT</td>\n",
       "      <td>NaT</td>\n",
       "      <td>NaN</td>\n",
       "    </tr>\n",
       "    <tr>\n",
       "      <th>1</th>\n",
       "      <td>fbd74bce-23dd-53e7-b988-8beb85160d6f</td>\n",
       "      <td>5.0</td>\n",
       "      <td>2020-06-15</td>\n",
       "      <td>2020-07-05</td>\n",
       "      <td>78.0</td>\n",
       "      <td>NaN</td>\n",
       "      <td>NaN</td>\n",
       "      <td>NaT</td>\n",
       "      <td>NaT</td>\n",
       "      <td>NaN</td>\n",
       "      <td>NaN</td>\n",
       "      <td>NaN</td>\n",
       "      <td>NaT</td>\n",
       "      <td>NaT</td>\n",
       "      <td>NaN</td>\n",
       "    </tr>\n",
       "    <tr>\n",
       "      <th>2</th>\n",
       "      <td>fbd74bce-23dd-53e7-b988-8beb85160d6f</td>\n",
       "      <td>4.0</td>\n",
       "      <td>2020-09-13</td>\n",
       "      <td>2020-11-01</td>\n",
       "      <td>70.0</td>\n",
       "      <td>NaN</td>\n",
       "      <td>NaN</td>\n",
       "      <td>NaT</td>\n",
       "      <td>NaT</td>\n",
       "      <td>NaN</td>\n",
       "      <td>NaN</td>\n",
       "      <td>NaN</td>\n",
       "      <td>NaT</td>\n",
       "      <td>NaT</td>\n",
       "      <td>NaN</td>\n",
       "    </tr>\n",
       "    <tr>\n",
       "      <th>3</th>\n",
       "      <td>fbd74bce-23dd-53e7-b988-8beb85160d6f</td>\n",
       "      <td>2.0</td>\n",
       "      <td>2020-11-01</td>\n",
       "      <td>2020-12-24</td>\n",
       "      <td>58.0</td>\n",
       "      <td>NaN</td>\n",
       "      <td>NaN</td>\n",
       "      <td>NaT</td>\n",
       "      <td>NaT</td>\n",
       "      <td>NaN</td>\n",
       "      <td>NaN</td>\n",
       "      <td>NaN</td>\n",
       "      <td>NaT</td>\n",
       "      <td>NaT</td>\n",
       "      <td>NaN</td>\n",
       "    </tr>\n",
       "    <tr>\n",
       "      <th>4</th>\n",
       "      <td>fbd74bce-23dd-53e7-b988-8beb85160d6f</td>\n",
       "      <td>5.0</td>\n",
       "      <td>2020-12-24</td>\n",
       "      <td>2021-01-07</td>\n",
       "      <td>80.0</td>\n",
       "      <td>NaN</td>\n",
       "      <td>NaN</td>\n",
       "      <td>NaT</td>\n",
       "      <td>NaT</td>\n",
       "      <td>NaN</td>\n",
       "      <td>NaN</td>\n",
       "      <td>NaN</td>\n",
       "      <td>NaT</td>\n",
       "      <td>NaT</td>\n",
       "      <td>NaN</td>\n",
       "    </tr>\n",
       "  </tbody>\n",
       "</table>\n",
       "</div>"
      ]
     },
     "metadata": {},
     "execution_count": 42
    }
   ],
   "metadata": {}
  },
  {
   "cell_type": "markdown",
   "source": [],
   "metadata": {}
  },
  {
   "cell_type": "code",
   "execution_count": 9,
   "source": [
    "sns.displot(data=df_inquiries, x=inquiry)"
   ],
   "outputs": [
    {
     "output_type": "error",
     "ename": "NameError",
     "evalue": "name 'inquiry_price' is not defined",
     "traceback": [
      "\u001b[0;31m---------------------------------------------------------------------------\u001b[0m",
      "\u001b[0;31mNameError\u001b[0m                                 Traceback (most recent call last)",
      "\u001b[0;32m/var/folders/3p/pj5rwtf930q9x4z3nxgxbmgr0000gn/T/ipykernel_55682/2786170792.py\u001b[0m in \u001b[0;36m<module>\u001b[0;34m\u001b[0m\n\u001b[0;32m----> 1\u001b[0;31m \u001b[0msns\u001b[0m\u001b[0;34m.\u001b[0m\u001b[0mdisplot\u001b[0m\u001b[0;34m(\u001b[0m\u001b[0mdata\u001b[0m\u001b[0;34m=\u001b[0m\u001b[0mdf_inquiries\u001b[0m\u001b[0;34m,\u001b[0m \u001b[0mx\u001b[0m\u001b[0;34m=\u001b[0m\u001b[0minquiry_price\u001b[0m\u001b[0;34m)\u001b[0m\u001b[0;34m\u001b[0m\u001b[0;34m\u001b[0m\u001b[0m\n\u001b[0m",
      "\u001b[0;31mNameError\u001b[0m: name 'inquiry_price' is not defined"
     ]
    }
   ],
   "metadata": {}
  },
  {
   "cell_type": "code",
   "execution_count": null,
   "source": [],
   "outputs": [],
   "metadata": {}
  }
 ],
 "metadata": {
  "interpreter": {
   "hash": "50124f71d8f3ce399cc8f90e232172b7703f7c279ffa8eaec14b162019ba404a"
  },
  "kernelspec": {
   "display_name": "Python 3.8.5 64-bit ('.venv')",
   "name": "python3"
  },
  "language_info": {
   "codemirror_mode": {
    "name": "ipython",
    "version": 3
   },
   "file_extension": ".py",
   "mimetype": "text/x-python",
   "name": "python",
   "nbconvert_exporter": "python",
   "pygments_lexer": "ipython3",
   "version": "3.8.5"
  },
  "orig_nbformat": 4
 },
 "nbformat": 4,
 "nbformat_minor": 2
}