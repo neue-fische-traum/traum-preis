{
 "cells": [
  {
   "cell_type": "code",
   "execution_count": 4,
   "metadata": {},
   "outputs": [],
   "source": [
    "# Import necassary libraries\n",
    "import pandas as pd\n",
    "import numpy as np\n",
    "import matplotlib.pyplot as plt\n",
    "import seaborn as sns"
   ]
  },
  {
   "cell_type": "markdown",
   "metadata": {},
   "source": [
    "Loading Pictures CSV file"
   ]
  },
  {
   "cell_type": "code",
   "execution_count": 30,
   "metadata": {},
   "outputs": [],
   "source": [
    "#Load dataset\n",
    "df_pictures = pd.read_csv('/Users/lukeblecha/neuefische-traum/datasets/listing_pictures_0210707.csv')\n"
   ]
  },
  {
   "cell_type": "code",
   "execution_count": null,
   "metadata": {},
   "outputs": [],
   "source": []
  },
  {
   "cell_type": "markdown",
   "metadata": {},
   "source": [
    "# EDA for Picture Dataset\n",
    "\n",
    "Initial look at data and data cleaning\n"
   ]
  },
  {
   "cell_type": "code",
   "execution_count": 31,
   "metadata": {},
   "outputs": [
    {
     "data": {
      "text/html": [
       "<div>\n",
       "<style scoped>\n",
       "    .dataframe tbody tr th:only-of-type {\n",
       "        vertical-align: middle;\n",
       "    }\n",
       "\n",
       "    .dataframe tbody tr th {\n",
       "        vertical-align: top;\n",
       "    }\n",
       "\n",
       "    .dataframe thead th {\n",
       "        text-align: right;\n",
       "    }\n",
       "</style>\n",
       "<table border=\"1\" class=\"dataframe\">\n",
       "  <thead>\n",
       "    <tr style=\"text-align: right;\">\n",
       "      <th></th>\n",
       "      <th>listing_id</th>\n",
       "      <th>added</th>\n",
       "      <th>activated</th>\n",
       "      <th>height</th>\n",
       "      <th>width</th>\n",
       "      <th>format</th>\n",
       "      <th>description</th>\n",
       "      <th>start_pic_summer</th>\n",
       "      <th>start_pic_winter</th>\n",
       "    </tr>\n",
       "  </thead>\n",
       "  <tbody>\n",
       "    <tr>\n",
       "      <th>0</th>\n",
       "      <td>fbd74bce-23dd-53e7-b988-8beb85160d6f</td>\n",
       "      <td>2009-12-03</td>\n",
       "      <td>2010-12-16</td>\n",
       "      <td>757</td>\n",
       "      <td>1000</td>\n",
       "      <td>PNG</td>\n",
       "      <td>Furnishing</td>\n",
       "      <td>0</td>\n",
       "      <td>0</td>\n",
       "    </tr>\n",
       "    <tr>\n",
       "      <th>1</th>\n",
       "      <td>4e012316-0f53-5fc6-a17f-580ff832554e</td>\n",
       "      <td>2010-01-05</td>\n",
       "      <td>2010-12-16</td>\n",
       "      <td>248</td>\n",
       "      <td>300</td>\n",
       "      <td>PNG</td>\n",
       "      <td>Floor plan</td>\n",
       "      <td>0</td>\n",
       "      <td>0</td>\n",
       "    </tr>\n",
       "    <tr>\n",
       "      <th>2</th>\n",
       "      <td>9e49f41a-05ca-53ff-ac92-f625f8a0f05b</td>\n",
       "      <td>2009-10-28</td>\n",
       "      <td>2010-12-16</td>\n",
       "      <td>830</td>\n",
       "      <td>1000</td>\n",
       "      <td>PNG</td>\n",
       "      <td>Outdoor shots</td>\n",
       "      <td>0</td>\n",
       "      <td>0</td>\n",
       "    </tr>\n",
       "    <tr>\n",
       "      <th>3</th>\n",
       "      <td>60b8dc3e-5745-5ff5-b99a-eb460f7c14f1</td>\n",
       "      <td>2009-12-03</td>\n",
       "      <td>2010-12-16</td>\n",
       "      <td>797</td>\n",
       "      <td>1000</td>\n",
       "      <td>PNG</td>\n",
       "      <td>Outdoor shots</td>\n",
       "      <td>1</td>\n",
       "      <td>1</td>\n",
       "    </tr>\n",
       "    <tr>\n",
       "      <th>4</th>\n",
       "      <td>754aeffd-789d-5135-9491-032e28b72f23</td>\n",
       "      <td>2009-07-17</td>\n",
       "      <td>2010-12-16</td>\n",
       "      <td>1000</td>\n",
       "      <td>832</td>\n",
       "      <td>PNG</td>\n",
       "      <td>Floor plan</td>\n",
       "      <td>0</td>\n",
       "      <td>0</td>\n",
       "    </tr>\n",
       "  </tbody>\n",
       "</table>\n",
       "</div>"
      ],
      "text/plain": [
       "                             listing_id      added  activated  height  width  \\\n",
       "0  fbd74bce-23dd-53e7-b988-8beb85160d6f 2009-12-03 2010-12-16     757   1000   \n",
       "1  4e012316-0f53-5fc6-a17f-580ff832554e 2010-01-05 2010-12-16     248    300   \n",
       "2  9e49f41a-05ca-53ff-ac92-f625f8a0f05b 2009-10-28 2010-12-16     830   1000   \n",
       "3  60b8dc3e-5745-5ff5-b99a-eb460f7c14f1 2009-12-03 2010-12-16     797   1000   \n",
       "4  754aeffd-789d-5135-9491-032e28b72f23 2009-07-17 2010-12-16    1000    832   \n",
       "\n",
       "  format    description  start_pic_summer  start_pic_winter  \n",
       "0    PNG     Furnishing                 0                 0  \n",
       "1    PNG     Floor plan                 0                 0  \n",
       "2    PNG  Outdoor shots                 0                 0  \n",
       "3    PNG  Outdoor shots                 1                 1  \n",
       "4    PNG     Floor plan                 0                 0  "
      ]
     },
     "execution_count": 31,
     "metadata": {},
     "output_type": "execute_result"
    }
   ],
   "source": [
    "df_pictures.head()"
   ]
  },
  {
   "cell_type": "code",
   "execution_count": null,
   "metadata": {},
   "outputs": [],
   "source": [
    "#set date/time\n",
    "df_pictures['added'] = pd.to_datetime(df_pictures['added'])\n",
    "df_pictures['activated'] = pd.to_datetime(df_pictures['activated'])"
   ]
  },
  {
   "cell_type": "code",
   "execution_count": 32,
   "metadata": {},
   "outputs": [
    {
     "name": "stdout",
     "output_type": "stream",
     "text": [
      "<class 'pandas.core.frame.DataFrame'>\n",
      "RangeIndex: 644821 entries, 0 to 644820\n",
      "Data columns (total 9 columns):\n",
      " #   Column            Non-Null Count   Dtype         \n",
      "---  ------            --------------   -----         \n",
      " 0   listing_id        644821 non-null  object        \n",
      " 1   added             644821 non-null  datetime64[ns]\n",
      " 2   activated         644821 non-null  datetime64[ns]\n",
      " 3   height            644821 non-null  int64         \n",
      " 4   width             644821 non-null  int64         \n",
      " 5   format            644821 non-null  object        \n",
      " 6   description       644821 non-null  object        \n",
      " 7   start_pic_summer  644821 non-null  int64         \n",
      " 8   start_pic_winter  644821 non-null  int64         \n",
      "dtypes: datetime64[ns](2), int64(4), object(3)\n",
      "memory usage: 44.3+ MB\n"
     ]
    }
   ],
   "source": [
    "df_pictures.info()"
   ]
  },
  {
   "cell_type": "code",
   "execution_count": 23,
   "metadata": {},
   "outputs": [
    {
     "data": {
      "text/html": [
       "<div>\n",
       "<style scoped>\n",
       "    .dataframe tbody tr th:only-of-type {\n",
       "        vertical-align: middle;\n",
       "    }\n",
       "\n",
       "    .dataframe tbody tr th {\n",
       "        vertical-align: top;\n",
       "    }\n",
       "\n",
       "    .dataframe thead th {\n",
       "        text-align: right;\n",
       "    }\n",
       "</style>\n",
       "<table border=\"1\" class=\"dataframe\">\n",
       "  <thead>\n",
       "    <tr style=\"text-align: right;\">\n",
       "      <th></th>\n",
       "      <th>height</th>\n",
       "      <th>width</th>\n",
       "      <th>start_pic_summer</th>\n",
       "      <th>start_pic_winter</th>\n",
       "    </tr>\n",
       "  </thead>\n",
       "  <tbody>\n",
       "    <tr>\n",
       "      <th>count</th>\n",
       "      <td>644821.0</td>\n",
       "      <td>644821.0</td>\n",
       "      <td>644821.0</td>\n",
       "      <td>644821.0</td>\n",
       "    </tr>\n",
       "    <tr>\n",
       "      <th>mean</th>\n",
       "      <td>2248.0</td>\n",
       "      <td>2976.0</td>\n",
       "      <td>0.0</td>\n",
       "      <td>0.0</td>\n",
       "    </tr>\n",
       "    <tr>\n",
       "      <th>std</th>\n",
       "      <td>1114.0</td>\n",
       "      <td>1504.0</td>\n",
       "      <td>0.0</td>\n",
       "      <td>0.0</td>\n",
       "    </tr>\n",
       "    <tr>\n",
       "      <th>min</th>\n",
       "      <td>1.0</td>\n",
       "      <td>1.0</td>\n",
       "      <td>0.0</td>\n",
       "      <td>0.0</td>\n",
       "    </tr>\n",
       "    <tr>\n",
       "      <th>25%</th>\n",
       "      <td>1228.0</td>\n",
       "      <td>1600.0</td>\n",
       "      <td>0.0</td>\n",
       "      <td>0.0</td>\n",
       "    </tr>\n",
       "    <tr>\n",
       "      <th>50%</th>\n",
       "      <td>2304.0</td>\n",
       "      <td>3024.0</td>\n",
       "      <td>0.0</td>\n",
       "      <td>0.0</td>\n",
       "    </tr>\n",
       "    <tr>\n",
       "      <th>75%</th>\n",
       "      <td>3024.0</td>\n",
       "      <td>4032.0</td>\n",
       "      <td>0.0</td>\n",
       "      <td>0.0</td>\n",
       "    </tr>\n",
       "    <tr>\n",
       "      <th>max</th>\n",
       "      <td>19005.0</td>\n",
       "      <td>25340.0</td>\n",
       "      <td>1.0</td>\n",
       "      <td>1.0</td>\n",
       "    </tr>\n",
       "  </tbody>\n",
       "</table>\n",
       "</div>"
      ],
      "text/plain": [
       "         height     width  start_pic_summer  start_pic_winter\n",
       "count  644821.0  644821.0          644821.0          644821.0\n",
       "mean     2248.0    2976.0               0.0               0.0\n",
       "std      1114.0    1504.0               0.0               0.0\n",
       "min         1.0       1.0               0.0               0.0\n",
       "25%      1228.0    1600.0               0.0               0.0\n",
       "50%      2304.0    3024.0               0.0               0.0\n",
       "75%      3024.0    4032.0               0.0               0.0\n",
       "max     19005.0   25340.0               1.0               1.0"
      ]
     },
     "execution_count": 23,
     "metadata": {},
     "output_type": "execute_result"
    }
   ],
   "source": [
    "df_pictures.describe().round()"
   ]
  },
  {
   "cell_type": "code",
   "execution_count": 34,
   "metadata": {},
   "outputs": [
    {
     "data": {
      "text/plain": [
       "listing_id          0\n",
       "added               0\n",
       "activated           0\n",
       "height              0\n",
       "width               0\n",
       "format              0\n",
       "description         0\n",
       "start_pic_summer    0\n",
       "start_pic_winter    0\n",
       "dtype: int64"
      ]
     },
     "execution_count": 34,
     "metadata": {},
     "output_type": "execute_result"
    }
   ],
   "source": [
    "df_pictures.isna().sum()"
   ]
  },
  {
   "cell_type": "code",
   "execution_count": 35,
   "metadata": {},
   "outputs": [
    {
     "data": {
      "text/plain": [
       "listing_id           30222\n",
       "added               566475\n",
       "activated           560004\n",
       "height                5813\n",
       "width                 7405\n",
       "format                   7\n",
       "description              7\n",
       "start_pic_summer         2\n",
       "start_pic_winter         2\n",
       "dtype: int64"
      ]
     },
     "execution_count": 35,
     "metadata": {},
     "output_type": "execute_result"
    }
   ],
   "source": [
    "df_pictures.nunique()"
   ]
  },
  {
   "cell_type": "code",
   "execution_count": 37,
   "metadata": {},
   "outputs": [
    {
     "data": {
      "text/plain": [
       "array(['PNG', 'JPEG', 'BMP', 'GIF', 'TIFF', 'BMP3', 'PBM'], dtype=object)"
      ]
     },
     "execution_count": 37,
     "metadata": {},
     "output_type": "execute_result"
    }
   ],
   "source": [
    "df_pictures.format.unique()"
   ]
  },
  {
   "cell_type": "markdown",
   "metadata": {},
   "source": [
    "Format of picture is unlikely to be a predictor of people chosing to rent.\n",
    "\n",
    "Removed format column because it is not functional for this EDA"
   ]
  },
  {
   "cell_type": "code",
   "execution_count": 39,
   "metadata": {},
   "outputs": [],
   "source": [
    "del df_pictures['format']"
   ]
  },
  {
   "cell_type": "code",
   "execution_count": 40,
   "metadata": {},
   "outputs": [
    {
     "data": {
      "text/html": [
       "<div>\n",
       "<style scoped>\n",
       "    .dataframe tbody tr th:only-of-type {\n",
       "        vertical-align: middle;\n",
       "    }\n",
       "\n",
       "    .dataframe tbody tr th {\n",
       "        vertical-align: top;\n",
       "    }\n",
       "\n",
       "    .dataframe thead th {\n",
       "        text-align: right;\n",
       "    }\n",
       "</style>\n",
       "<table border=\"1\" class=\"dataframe\">\n",
       "  <thead>\n",
       "    <tr style=\"text-align: right;\">\n",
       "      <th></th>\n",
       "      <th>listing_id</th>\n",
       "      <th>added</th>\n",
       "      <th>activated</th>\n",
       "      <th>height</th>\n",
       "      <th>width</th>\n",
       "      <th>description</th>\n",
       "      <th>start_pic_summer</th>\n",
       "      <th>start_pic_winter</th>\n",
       "    </tr>\n",
       "  </thead>\n",
       "  <tbody>\n",
       "    <tr>\n",
       "      <th>0</th>\n",
       "      <td>fbd74bce-23dd-53e7-b988-8beb85160d6f</td>\n",
       "      <td>2009-12-03</td>\n",
       "      <td>2010-12-16</td>\n",
       "      <td>757</td>\n",
       "      <td>1000</td>\n",
       "      <td>Furnishing</td>\n",
       "      <td>0</td>\n",
       "      <td>0</td>\n",
       "    </tr>\n",
       "    <tr>\n",
       "      <th>1</th>\n",
       "      <td>4e012316-0f53-5fc6-a17f-580ff832554e</td>\n",
       "      <td>2010-01-05</td>\n",
       "      <td>2010-12-16</td>\n",
       "      <td>248</td>\n",
       "      <td>300</td>\n",
       "      <td>Floor plan</td>\n",
       "      <td>0</td>\n",
       "      <td>0</td>\n",
       "    </tr>\n",
       "    <tr>\n",
       "      <th>2</th>\n",
       "      <td>9e49f41a-05ca-53ff-ac92-f625f8a0f05b</td>\n",
       "      <td>2009-10-28</td>\n",
       "      <td>2010-12-16</td>\n",
       "      <td>830</td>\n",
       "      <td>1000</td>\n",
       "      <td>Outdoor shots</td>\n",
       "      <td>0</td>\n",
       "      <td>0</td>\n",
       "    </tr>\n",
       "    <tr>\n",
       "      <th>3</th>\n",
       "      <td>60b8dc3e-5745-5ff5-b99a-eb460f7c14f1</td>\n",
       "      <td>2009-12-03</td>\n",
       "      <td>2010-12-16</td>\n",
       "      <td>797</td>\n",
       "      <td>1000</td>\n",
       "      <td>Outdoor shots</td>\n",
       "      <td>1</td>\n",
       "      <td>1</td>\n",
       "    </tr>\n",
       "    <tr>\n",
       "      <th>4</th>\n",
       "      <td>754aeffd-789d-5135-9491-032e28b72f23</td>\n",
       "      <td>2009-07-17</td>\n",
       "      <td>2010-12-16</td>\n",
       "      <td>1000</td>\n",
       "      <td>832</td>\n",
       "      <td>Floor plan</td>\n",
       "      <td>0</td>\n",
       "      <td>0</td>\n",
       "    </tr>\n",
       "  </tbody>\n",
       "</table>\n",
       "</div>"
      ],
      "text/plain": [
       "                             listing_id      added  activated  height  width  \\\n",
       "0  fbd74bce-23dd-53e7-b988-8beb85160d6f 2009-12-03 2010-12-16     757   1000   \n",
       "1  4e012316-0f53-5fc6-a17f-580ff832554e 2010-01-05 2010-12-16     248    300   \n",
       "2  9e49f41a-05ca-53ff-ac92-f625f8a0f05b 2009-10-28 2010-12-16     830   1000   \n",
       "3  60b8dc3e-5745-5ff5-b99a-eb460f7c14f1 2009-12-03 2010-12-16     797   1000   \n",
       "4  754aeffd-789d-5135-9491-032e28b72f23 2009-07-17 2010-12-16    1000    832   \n",
       "\n",
       "     description  start_pic_summer  start_pic_winter  \n",
       "0     Furnishing                 0                 0  \n",
       "1     Floor plan                 0                 0  \n",
       "2  Outdoor shots                 0                 0  \n",
       "3  Outdoor shots                 1                 1  \n",
       "4     Floor plan                 0                 0  "
      ]
     },
     "execution_count": 40,
     "metadata": {},
     "output_type": "execute_result"
    }
   ],
   "source": [
    "df_pictures.head()"
   ]
  },
  {
   "cell_type": "code",
   "execution_count": 12,
   "metadata": {},
   "outputs": [
    {
     "data": {
      "image/png": "[encoded data removed]",
      "text/plain": [
       "<Figure size 432x288 with 2 Axes>"
      ]
     },
     "metadata": {
      "needs_background": "light"
     },
     "output_type": "display_data"
    }
   ],
   "source": [
    "# Step 0 - Read the dataset, calculate column correlations and make a seaborn heatmap\n",
    "corr = df_pictures.corr()\n",
    "ax = sns.heatmap(\n",
    "    corr,\n",
    "    vmin=-1, vmax=1, center=0,\n",
    "    cmap=sns.diverging_palette(20, 220, n=200),\n",
    "    square=True\n",
    ")\n",
    "ax.set_xticklabels(\n",
    "    ax.get_xticklabels(),\n",
    "    rotation=45,\n",
    "    horizontalalignment='right'\n",
    ");"
   ]
  },
  {
   "cell_type": "code",
   "execution_count": null,
   "metadata": {},
   "outputs": [],
   "source": []
  }
 ],
 "metadata": {
  "interpreter": {
   "hash": "d010501e40abb3b7db4096fc0aa4e129057eacaad7f742892b4cda0c942bb7f2"
  },
  "kernelspec": {
   "display_name": "Python 3.8.5 64-bit ('.venv': venv)",
   "name": "python3"
  },
  "language_info": {
   "codemirror_mode": {
    "name": "ipython",
    "version": 3
   },
   "file_extension": ".py",
   "mimetype": "text/x-python",
   "name": "python",
   "nbconvert_exporter": "python",
   "pygments_lexer": "ipython3",
   "version": "3.8.5"
  },
  "orig_nbformat": 4
 },
 "nbformat": 4,
 "nbformat_minor": 2
}