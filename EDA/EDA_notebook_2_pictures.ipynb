{
 "cells": [
  {
   "cell_type": "markdown",
   "source": [
    "# EDA for Picture Dataset\n",
    "\n",
    "Initial look at data and data cleaning\n"
   ],
   "metadata": {}
  },
  {
   "cell_type": "markdown",
   "source": [
    "## Import necassary libraries\n"
   ],
   "metadata": {}
  },
  {
   "cell_type": "code",
   "execution_count": null,
   "source": [
    "# Import necassary libraries\n",
    "import pandas as pd\n",
    "import numpy as np\n",
    "import matplotlib.pyplot as plt\n",
    "import seaborn as sns\n",
    "import csv\n",
    "import shutil\n",
    "from tempfile import NamedTemporaryFile"
   ],
   "outputs": [],
   "metadata": {}
  },
  {
   "cell_type": "markdown",
   "source": [
    "Loading Pictures CSV file"
   ],
   "metadata": {}
  },
  {
   "cell_type": "code",
   "execution_count": null,
   "source": [
    "import os\n",
    "ROOT = os.environ.get('PWD')"
   ],
   "outputs": [],
   "metadata": {}
  },
  {
   "cell_type": "code",
   "execution_count": null,
   "source": [
    "#Load dataset\n",
    "df_pictures = pd.read_csv('../data/listing_pictures_0210707.csv')\n"
   ],
   "outputs": [],
   "metadata": {}
  },
  {
   "cell_type": "code",
   "execution_count": null,
   "source": [
    "df_pictures.head()"
   ],
   "outputs": [],
   "metadata": {}
  },
  {
   "cell_type": "markdown",
   "source": [
    "## Correcting date and time formatting."
   ],
   "metadata": {}
  },
  {
   "cell_type": "code",
   "execution_count": null,
   "source": [
    "#set date/time\n",
    "df_pictures['added'] = pd.to_datetime(df_pictures['added'])\n",
    "df_pictures['activated'] = pd.to_datetime(df_pictures['activated'])"
   ],
   "outputs": [],
   "metadata": {}
  },
  {
   "cell_type": "code",
   "execution_count": null,
   "source": [
    "df_pictures.info()"
   ],
   "outputs": [],
   "metadata": {}
  },
  {
   "cell_type": "code",
   "execution_count": null,
   "source": [
    "df_pictures.describe().round()"
   ],
   "outputs": [],
   "metadata": {}
  },
  {
   "cell_type": "code",
   "execution_count": null,
   "source": [
    "df_pictures.isna().sum()"
   ],
   "outputs": [],
   "metadata": {}
  },
  {
   "cell_type": "code",
   "execution_count": null,
   "source": [
    "df_pictures.nunique()"
   ],
   "outputs": [],
   "metadata": {}
  },
  {
   "cell_type": "code",
   "execution_count": null,
   "source": [
    "df_pictures.format.unique()"
   ],
   "outputs": [],
   "metadata": {}
  },
  {
   "cell_type": "markdown",
   "source": [
    "## Format of picture is unlikely to be a predictor of people chosing to rent.\n",
    "\n",
    "Removed format column because it is not functional for this EDA"
   ],
   "metadata": {}
  },
  {
   "cell_type": "code",
   "execution_count": null,
   "source": [
    "del df_pictures['format']"
   ],
   "outputs": [],
   "metadata": {}
  },
  {
   "cell_type": "code",
   "execution_count": null,
   "source": [
    "df_pictures.head()"
   ],
   "outputs": [],
   "metadata": {}
  },
  {
   "cell_type": "code",
   "execution_count": null,
   "source": [
    "# Step 0 - Read the dataset, calculate column correlations and make a seaborn heatmap\n",
    "corr = df_pictures.corr()\n",
    "ax = sns.heatmap(\n",
    "    corr,\n",
    "    vmin=-1, vmax=1, center=0,\n",
    "    cmap=sns.diverging_palette(20, 220, n=200),\n",
    "    square=True\n",
    ")\n",
    "ax.set_xticklabels(\n",
    "    ax.get_xticklabels(),\n",
    "    rotation=45,\n",
    "    horizontalalignment='right'\n",
    ");"
   ],
   "outputs": [],
   "metadata": {}
  },
  {
   "cell_type": "code",
   "execution_count": null,
   "source": [
    "corr.style.background_gradient(cmap='coolwarm')"
   ],
   "outputs": [],
   "metadata": {}
  },
  {
   "cell_type": "code",
   "execution_count": null,
   "source": [
    "df_pictures.description.unique()"
   ],
   "outputs": [],
   "metadata": {}
  },
  {
   "cell_type": "code",
   "execution_count": null,
   "source": [
    "df_pictures.description.value_counts()"
   ],
   "outputs": [],
   "metadata": {}
  },
  {
   "cell_type": "markdown",
   "source": [
    "## Creating column defining picture quality\n"
   ],
   "metadata": {}
  },
  {
   "cell_type": "code",
   "execution_count": null,
   "source": [
    "sns.scatterplot(x=df_pictures.width, y=df_pictures.height)"
   ],
   "outputs": [],
   "metadata": {}
  },
  {
   "cell_type": "code",
   "execution_count": null,
   "source": [
    "df_pictures.query('width > 17_000') "
   ],
   "outputs": [],
   "metadata": {}
  },
  {
   "cell_type": "code",
   "execution_count": null,
   "source": [
    "def catagorizer(a, b):\n",
    "    if a + b < (720+480):\n",
    "        return \"Poor Resolution\"\n",
    "    elif a + b >= (720+480) and a + b <= (1280+720):\n",
    "        return \"High-definition\"\n",
    "    else:\n",
    "        return \"Ultra-high-definition\""
   ],
   "outputs": [],
   "metadata": {}
  },
  {
   "cell_type": "code",
   "execution_count": null,
   "source": [
    "df_pictures['picture_resolution']= df_pictures.apply(lambda x: catagorizer(\n",
    "    x['width'], x['height']), axis=1)"
   ],
   "outputs": [],
   "metadata": {}
  },
  {
   "cell_type": "code",
   "execution_count": null,
   "source": [
    "df_pictures.head()"
   ],
   "outputs": [],
   "metadata": {}
  },
  {
   "cell_type": "markdown",
   "source": [
    "\n",
    "## Dropping height and width"
   ],
   "metadata": {}
  },
  {
   "cell_type": "code",
   "execution_count": null,
   "source": [
    "del df_pictures['width']\n",
    "del df_pictures['height']\n",
    "df_pictures.head()"
   ],
   "outputs": [],
   "metadata": {}
  },
  {
   "cell_type": "markdown",
   "source": [
    "## Saving csv file"
   ],
   "metadata": {}
  },
  {
   "cell_type": "code",
   "execution_count": null,
   "source": [
    "filename = '../data/listing_pictures_0210707.csv'\n",
    "temp_file= NamedTemporaryFile(delete=False)\n",
    "with open(filename, \"rb\") as csvfile, temp_file:\n",
    "    reader = csv.DictReader(csvfile)\n",
    "    fieldnames = ['listing_id', 'added', 'activated', 'description', 'start_pic_summer', 'start_pic_winter', 'Picture_resolution']\n",
    "    writer = csv.DictWriter(temp_file, fieldnames=fieldnames) \n",
    "    writer.writeheader()\n",
    "    print(temp_file.name)\n",
    "    for row in reader:\n",
    "        writer.writerow({\n",
    "            \"listing_id\": row[\"listing_id\"],\n",
    "            \"added\": row[\"added\"],\n",
    "            \"activated\": row[\"activated\"],\n",
    "            \"description\": row[\"description\"],\n",
    "            \"start_pic_summer\": row[\"start_pic_summer\"],\n",
    "            \"start_pic_winter\": row[\"start_pic_winter\"],\n",
    "            \"Picture_resolution\": row[\"Picture_resolution\"],\n",
    "        })"
   ],
   "outputs": [],
   "metadata": {}
  },
  {
   "cell_type": "code",
   "execution_count": null,
   "source": [],
   "outputs": [],
   "metadata": {}
  }
 ],
 "metadata": {
  "interpreter": {
   "hash": "d010501e40abb3b7db4096fc0aa4e129057eacaad7f742892b4cda0c942bb7f2"
  },
  "kernelspec": {
   "display_name": "Python 3.8.5 64-bit ('.venv': venv)",
   "name": "python3"
  },
  "language_info": {
   "codemirror_mode": {
    "name": "ipython",
    "version": 3
   },
   "file_extension": ".py",
   "mimetype": "text/x-python",
   "name": "python",
   "nbconvert_exporter": "python",
   "pygments_lexer": "ipython3",
   "version": "3.8.5"
  },
  "orig_nbformat": 4
 },
 "nbformat": 4,
 "nbformat_minor": 2
}