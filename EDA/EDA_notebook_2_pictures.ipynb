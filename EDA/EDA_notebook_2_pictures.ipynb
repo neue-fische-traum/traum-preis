{
 "cells": [
  {
   "cell_type": "markdown",
   "source": [
    "# EDA for Picture Dataset\n",
    "\n",
    "Initial look at data and data cleaning\n"
   ],
   "metadata": {}
  },
  {
   "cell_type": "markdown",
   "source": [
    "## Import necassary libraries\n"
   ],
   "metadata": {}
  },
  {
   "cell_type": "code",
   "execution_count": 1,
   "source": [
    "# Import necassary libraries\n",
    "import pandas as pd\n",
    "import numpy as np\n",
    "import matplotlib.pyplot as plt\n",
    "import seaborn as sns\n",
    "import csv\n",
    "import shutil\n",
    "from tempfile import NamedTemporaryFile"
   ],
   "outputs": [],
   "metadata": {}
  },
  {
   "cell_type": "markdown",
   "source": [
    "Loading Pictures CSV file"
   ],
   "metadata": {}
  },
  {
   "cell_type": "code",
   "execution_count": 2,
   "source": [
    "import os\n",
    "ROOT = os.environ.get('PWD')"
   ],
   "outputs": [],
   "metadata": {}
  },
  {
   "cell_type": "code",
   "execution_count": 3,
   "source": [
    "#Load dataset\n",
    "df_pictures = pd.read_csv('../data/listing_pictures_0210707.csv')\n"
   ],
   "outputs": [],
   "metadata": {}
  },
  {
   "cell_type": "code",
   "execution_count": 4,
   "source": [
    "df_pictures.head()"
   ],
   "outputs": [
    {
     "output_type": "execute_result",
     "data": {
      "text/plain": [
       "                             listing_id                added  \\\n",
       "0  fbd74bce-23dd-53e7-b988-8beb85160d6f  2009-12-03 00:00:00   \n",
       "1  4e012316-0f53-5fc6-a17f-580ff832554e  2010-01-05 00:00:00   \n",
       "2  9e49f41a-05ca-53ff-ac92-f625f8a0f05b  2009-10-28 00:00:00   \n",
       "3  60b8dc3e-5745-5ff5-b99a-eb460f7c14f1  2009-12-03 00:00:00   \n",
       "4  754aeffd-789d-5135-9491-032e28b72f23  2009-07-17 00:00:00   \n",
       "\n",
       "             activated  height  width format    description  start_pic_summer  \\\n",
       "0  2010-12-16 00:00:00     757   1000    PNG     Furnishing                 0   \n",
       "1  2010-12-16 00:00:00     248    300    PNG     Floor plan                 0   \n",
       "2  2010-12-16 00:00:00     830   1000    PNG  Outdoor shots                 0   \n",
       "3  2010-12-16 00:00:00     797   1000    PNG  Outdoor shots                 1   \n",
       "4  2010-12-16 00:00:00    1000    832    PNG     Floor plan                 0   \n",
       "\n",
       "   start_pic_winter  \n",
       "0                 0  \n",
       "1                 0  \n",
       "2                 0  \n",
       "3                 1  \n",
       "4                 0  "
      ],
      "text/html": [
       "<div>\n",
       "<style scoped>\n",
       "    .dataframe tbody tr th:only-of-type {\n",
       "        vertical-align: middle;\n",
       "    }\n",
       "\n",
       "    .dataframe tbody tr th {\n",
       "        vertical-align: top;\n",
       "    }\n",
       "\n",
       "    .dataframe thead th {\n",
       "        text-align: right;\n",
       "    }\n",
       "</style>\n",
       "<table border=\"1\" class=\"dataframe\">\n",
       "  <thead>\n",
       "    <tr style=\"text-align: right;\">\n",
       "      <th></th>\n",
       "      <th>listing_id</th>\n",
       "      <th>added</th>\n",
       "      <th>activated</th>\n",
       "      <th>height</th>\n",
       "      <th>width</th>\n",
       "      <th>format</th>\n",
       "      <th>description</th>\n",
       "      <th>start_pic_summer</th>\n",
       "      <th>start_pic_winter</th>\n",
       "    </tr>\n",
       "  </thead>\n",
       "  <tbody>\n",
       "    <tr>\n",
       "      <th>0</th>\n",
       "      <td>fbd74bce-23dd-53e7-b988-8beb85160d6f</td>\n",
       "      <td>2009-12-03 00:00:00</td>\n",
       "      <td>2010-12-16 00:00:00</td>\n",
       "      <td>757</td>\n",
       "      <td>1000</td>\n",
       "      <td>PNG</td>\n",
       "      <td>Furnishing</td>\n",
       "      <td>0</td>\n",
       "      <td>0</td>\n",
       "    </tr>\n",
       "    <tr>\n",
       "      <th>1</th>\n",
       "      <td>4e012316-0f53-5fc6-a17f-580ff832554e</td>\n",
       "      <td>2010-01-05 00:00:00</td>\n",
       "      <td>2010-12-16 00:00:00</td>\n",
       "      <td>248</td>\n",
       "      <td>300</td>\n",
       "      <td>PNG</td>\n",
       "      <td>Floor plan</td>\n",
       "      <td>0</td>\n",
       "      <td>0</td>\n",
       "    </tr>\n",
       "    <tr>\n",
       "      <th>2</th>\n",
       "      <td>9e49f41a-05ca-53ff-ac92-f625f8a0f05b</td>\n",
       "      <td>2009-10-28 00:00:00</td>\n",
       "      <td>2010-12-16 00:00:00</td>\n",
       "      <td>830</td>\n",
       "      <td>1000</td>\n",
       "      <td>PNG</td>\n",
       "      <td>Outdoor shots</td>\n",
       "      <td>0</td>\n",
       "      <td>0</td>\n",
       "    </tr>\n",
       "    <tr>\n",
       "      <th>3</th>\n",
       "      <td>60b8dc3e-5745-5ff5-b99a-eb460f7c14f1</td>\n",
       "      <td>2009-12-03 00:00:00</td>\n",
       "      <td>2010-12-16 00:00:00</td>\n",
       "      <td>797</td>\n",
       "      <td>1000</td>\n",
       "      <td>PNG</td>\n",
       "      <td>Outdoor shots</td>\n",
       "      <td>1</td>\n",
       "      <td>1</td>\n",
       "    </tr>\n",
       "    <tr>\n",
       "      <th>4</th>\n",
       "      <td>754aeffd-789d-5135-9491-032e28b72f23</td>\n",
       "      <td>2009-07-17 00:00:00</td>\n",
       "      <td>2010-12-16 00:00:00</td>\n",
       "      <td>1000</td>\n",
       "      <td>832</td>\n",
       "      <td>PNG</td>\n",
       "      <td>Floor plan</td>\n",
       "      <td>0</td>\n",
       "      <td>0</td>\n",
       "    </tr>\n",
       "  </tbody>\n",
       "</table>\n",
       "</div>"
      ]
     },
     "metadata": {},
     "execution_count": 4
    }
   ],
   "metadata": {}
  },
  {
   "cell_type": "markdown",
   "source": [
    "## Correcting date and time formatting."
   ],
   "metadata": {}
  },
  {
   "cell_type": "code",
   "execution_count": 5,
   "source": [
    "#set date/time\n",
    "df_pictures['added'] = pd.to_datetime(df_pictures['added'])\n",
    "df_pictures['activated'] = pd.to_datetime(df_pictures['activated'])"
   ],
   "outputs": [],
   "metadata": {}
  },
  {
   "cell_type": "code",
   "execution_count": 6,
   "source": [
    "df_pictures.info()"
   ],
   "outputs": [
    {
     "output_type": "stream",
     "name": "stdout",
     "text": [
      "<class 'pandas.core.frame.DataFrame'>\n",
      "RangeIndex: 644821 entries, 0 to 644820\n",
      "Data columns (total 9 columns):\n",
      " #   Column            Non-Null Count   Dtype         \n",
      "---  ------            --------------   -----         \n",
      " 0   listing_id        644821 non-null  object        \n",
      " 1   added             644821 non-null  datetime64[ns]\n",
      " 2   activated         644821 non-null  datetime64[ns]\n",
      " 3   height            644821 non-null  int64         \n",
      " 4   width             644821 non-null  int64         \n",
      " 5   format            644821 non-null  object        \n",
      " 6   description       644821 non-null  object        \n",
      " 7   start_pic_summer  644821 non-null  int64         \n",
      " 8   start_pic_winter  644821 non-null  int64         \n",
      "dtypes: datetime64[ns](2), int64(4), object(3)\n",
      "memory usage: 44.3+ MB\n"
     ]
    }
   ],
   "metadata": {}
  },
  {
   "cell_type": "code",
   "execution_count": 7,
   "source": [
    "df_pictures.describe().round()"
   ],
   "outputs": [
    {
     "output_type": "execute_result",
     "data": {
      "text/plain": [
       "         height     width  start_pic_summer  start_pic_winter\n",
       "count  644821.0  644821.0          644821.0          644821.0\n",
       "mean     2248.0    2976.0               0.0               0.0\n",
       "std      1114.0    1504.0               0.0               0.0\n",
       "min         1.0       1.0               0.0               0.0\n",
       "25%      1228.0    1600.0               0.0               0.0\n",
       "50%      2304.0    3024.0               0.0               0.0\n",
       "75%      3024.0    4032.0               0.0               0.0\n",
       "max     19005.0   25340.0               1.0               1.0"
      ],
      "text/html": [
       "<div>\n",
       "<style scoped>\n",
       "    .dataframe tbody tr th:only-of-type {\n",
       "        vertical-align: middle;\n",
       "    }\n",
       "\n",
       "    .dataframe tbody tr th {\n",
       "        vertical-align: top;\n",
       "    }\n",
       "\n",
       "    .dataframe thead th {\n",
       "        text-align: right;\n",
       "    }\n",
       "</style>\n",
       "<table border=\"1\" class=\"dataframe\">\n",
       "  <thead>\n",
       "    <tr style=\"text-align: right;\">\n",
       "      <th></th>\n",
       "      <th>height</th>\n",
       "      <th>width</th>\n",
       "      <th>start_pic_summer</th>\n",
       "      <th>start_pic_winter</th>\n",
       "    </tr>\n",
       "  </thead>\n",
       "  <tbody>\n",
       "    <tr>\n",
       "      <th>count</th>\n",
       "      <td>644821.0</td>\n",
       "      <td>644821.0</td>\n",
       "      <td>644821.0</td>\n",
       "      <td>644821.0</td>\n",
       "    </tr>\n",
       "    <tr>\n",
       "      <th>mean</th>\n",
       "      <td>2248.0</td>\n",
       "      <td>2976.0</td>\n",
       "      <td>0.0</td>\n",
       "      <td>0.0</td>\n",
       "    </tr>\n",
       "    <tr>\n",
       "      <th>std</th>\n",
       "      <td>1114.0</td>\n",
       "      <td>1504.0</td>\n",
       "      <td>0.0</td>\n",
       "      <td>0.0</td>\n",
       "    </tr>\n",
       "    <tr>\n",
       "      <th>min</th>\n",
       "      <td>1.0</td>\n",
       "      <td>1.0</td>\n",
       "      <td>0.0</td>\n",
       "      <td>0.0</td>\n",
       "    </tr>\n",
       "    <tr>\n",
       "      <th>25%</th>\n",
       "      <td>1228.0</td>\n",
       "      <td>1600.0</td>\n",
       "      <td>0.0</td>\n",
       "      <td>0.0</td>\n",
       "    </tr>\n",
       "    <tr>\n",
       "      <th>50%</th>\n",
       "      <td>2304.0</td>\n",
       "      <td>3024.0</td>\n",
       "      <td>0.0</td>\n",
       "      <td>0.0</td>\n",
       "    </tr>\n",
       "    <tr>\n",
       "      <th>75%</th>\n",
       "      <td>3024.0</td>\n",
       "      <td>4032.0</td>\n",
       "      <td>0.0</td>\n",
       "      <td>0.0</td>\n",
       "    </tr>\n",
       "    <tr>\n",
       "      <th>max</th>\n",
       "      <td>19005.0</td>\n",
       "      <td>25340.0</td>\n",
       "      <td>1.0</td>\n",
       "      <td>1.0</td>\n",
       "    </tr>\n",
       "  </tbody>\n",
       "</table>\n",
       "</div>"
      ]
     },
     "metadata": {},
     "execution_count": 7
    }
   ],
   "metadata": {}
  },
  {
   "cell_type": "code",
   "execution_count": 8,
   "source": [
    "df_pictures.isna().sum()"
   ],
   "outputs": [
    {
     "output_type": "execute_result",
     "data": {
      "text/plain": [
       "listing_id          0\n",
       "added               0\n",
       "activated           0\n",
       "height              0\n",
       "width               0\n",
       "format              0\n",
       "description         0\n",
       "start_pic_summer    0\n",
       "start_pic_winter    0\n",
       "dtype: int64"
      ]
     },
     "metadata": {},
     "execution_count": 8
    }
   ],
   "metadata": {}
  },
  {
   "cell_type": "code",
   "execution_count": 9,
   "source": [
    "df_pictures.nunique()"
   ],
   "outputs": [
    {
     "output_type": "execute_result",
     "data": {
      "text/plain": [
       "listing_id           30222\n",
       "added               566475\n",
       "activated           560004\n",
       "height                5813\n",
       "width                 7405\n",
       "format                   7\n",
       "description              7\n",
       "start_pic_summer         2\n",
       "start_pic_winter         2\n",
       "dtype: int64"
      ]
     },
     "metadata": {},
     "execution_count": 9
    }
   ],
   "metadata": {}
  },
  {
   "cell_type": "code",
   "execution_count": 10,
   "source": [
    "df_pictures.format.unique()"
   ],
   "outputs": [
    {
     "output_type": "execute_result",
     "data": {
      "text/plain": [
       "array(['PNG', 'JPEG', 'BMP', 'GIF', 'TIFF', 'BMP3', 'PBM'], dtype=object)"
      ]
     },
     "metadata": {},
     "execution_count": 10
    }
   ],
   "metadata": {}
  },
  {
   "cell_type": "markdown",
   "source": [
    "## Format of picture is unlikely to be a predictor of people chosing to rent.\n",
    "\n",
    "Removed format column because it is not functional for this EDA"
   ],
   "metadata": {}
  },
  {
   "cell_type": "code",
   "execution_count": 11,
   "source": [
    "del df_pictures['format']"
   ],
   "outputs": [],
   "metadata": {}
  },
  {
   "cell_type": "code",
   "execution_count": 12,
   "source": [
    "df_pictures.head()"
   ],
   "outputs": [
    {
     "output_type": "execute_result",
     "data": {
      "text/plain": [
       "                             listing_id      added  activated  height  width  \\\n",
       "0  fbd74bce-23dd-53e7-b988-8beb85160d6f 2009-12-03 2010-12-16     757   1000   \n",
       "1  4e012316-0f53-5fc6-a17f-580ff832554e 2010-01-05 2010-12-16     248    300   \n",
       "2  9e49f41a-05ca-53ff-ac92-f625f8a0f05b 2009-10-28 2010-12-16     830   1000   \n",
       "3  60b8dc3e-5745-5ff5-b99a-eb460f7c14f1 2009-12-03 2010-12-16     797   1000   \n",
       "4  754aeffd-789d-5135-9491-032e28b72f23 2009-07-17 2010-12-16    1000    832   \n",
       "\n",
       "     description  start_pic_summer  start_pic_winter  \n",
       "0     Furnishing                 0                 0  \n",
       "1     Floor plan                 0                 0  \n",
       "2  Outdoor shots                 0                 0  \n",
       "3  Outdoor shots                 1                 1  \n",
       "4     Floor plan                 0                 0  "
      ],
      "text/html": [
       "<div>\n",
       "<style scoped>\n",
       "    .dataframe tbody tr th:only-of-type {\n",
       "        vertical-align: middle;\n",
       "    }\n",
       "\n",
       "    .dataframe tbody tr th {\n",
       "        vertical-align: top;\n",
       "    }\n",
       "\n",
       "    .dataframe thead th {\n",
       "        text-align: right;\n",
       "    }\n",
       "</style>\n",
       "<table border=\"1\" class=\"dataframe\">\n",
       "  <thead>\n",
       "    <tr style=\"text-align: right;\">\n",
       "      <th></th>\n",
       "      <th>listing_id</th>\n",
       "      <th>added</th>\n",
       "      <th>activated</th>\n",
       "      <th>height</th>\n",
       "      <th>width</th>\n",
       "      <th>description</th>\n",
       "      <th>start_pic_summer</th>\n",
       "      <th>start_pic_winter</th>\n",
       "    </tr>\n",
       "  </thead>\n",
       "  <tbody>\n",
       "    <tr>\n",
       "      <th>0</th>\n",
       "      <td>fbd74bce-23dd-53e7-b988-8beb85160d6f</td>\n",
       "      <td>2009-12-03</td>\n",
       "      <td>2010-12-16</td>\n",
       "      <td>757</td>\n",
       "      <td>1000</td>\n",
       "      <td>Furnishing</td>\n",
       "      <td>0</td>\n",
       "      <td>0</td>\n",
       "    </tr>\n",
       "    <tr>\n",
       "      <th>1</th>\n",
       "      <td>4e012316-0f53-5fc6-a17f-580ff832554e</td>\n",
       "      <td>2010-01-05</td>\n",
       "      <td>2010-12-16</td>\n",
       "      <td>248</td>\n",
       "      <td>300</td>\n",
       "      <td>Floor plan</td>\n",
       "      <td>0</td>\n",
       "      <td>0</td>\n",
       "    </tr>\n",
       "    <tr>\n",
       "      <th>2</th>\n",
       "      <td>9e49f41a-05ca-53ff-ac92-f625f8a0f05b</td>\n",
       "      <td>2009-10-28</td>\n",
       "      <td>2010-12-16</td>\n",
       "      <td>830</td>\n",
       "      <td>1000</td>\n",
       "      <td>Outdoor shots</td>\n",
       "      <td>0</td>\n",
       "      <td>0</td>\n",
       "    </tr>\n",
       "    <tr>\n",
       "      <th>3</th>\n",
       "      <td>60b8dc3e-5745-5ff5-b99a-eb460f7c14f1</td>\n",
       "      <td>2009-12-03</td>\n",
       "      <td>2010-12-16</td>\n",
       "      <td>797</td>\n",
       "      <td>1000</td>\n",
       "      <td>Outdoor shots</td>\n",
       "      <td>1</td>\n",
       "      <td>1</td>\n",
       "    </tr>\n",
       "    <tr>\n",
       "      <th>4</th>\n",
       "      <td>754aeffd-789d-5135-9491-032e28b72f23</td>\n",
       "      <td>2009-07-17</td>\n",
       "      <td>2010-12-16</td>\n",
       "      <td>1000</td>\n",
       "      <td>832</td>\n",
       "      <td>Floor plan</td>\n",
       "      <td>0</td>\n",
       "      <td>0</td>\n",
       "    </tr>\n",
       "  </tbody>\n",
       "</table>\n",
       "</div>"
      ]
     },
     "metadata": {},
     "execution_count": 12
    }
   ],
   "metadata": {}
  },
  {
   "cell_type": "code",
   "execution_count": 13,
   "source": [
    "# Step 0 - Read the dataset, calculate column correlations and make a seaborn heatmap\n",
    "corr = df_pictures.corr()\n",
    "ax = sns.heatmap(\n",
    "    corr,\n",
    "    vmin=-1, vmax=1, center=0,\n",
    "    cmap=sns.diverging_palette(20, 220, n=200),\n",
    "    square=True\n",
    ")\n",
    "ax.set_xticklabels(\n",
    "    ax.get_xticklabels(),\n",
    "    rotation=45,\n",
    "    horizontalalignment='right'\n",
    ");"
   ],
   "outputs": [
    {
     "output_type": "display_data",
     "data": {
      "text/plain": [
       "<Figure size 432x288 with 2 Axes>"
      ],
      "image/png": "[encoded data removed]"
     },
     "metadata": {
      "needs_background": "light"
     }
    }
   ],
   "metadata": {}
  },
  {
   "cell_type": "code",
   "execution_count": 14,
   "source": [
    "corr.style.background_gradient(cmap='coolwarm')"
   ],
   "outputs": [
    {
     "output_type": "execute_result",
     "data": {
      "text/plain": [
       "<pandas.io.formats.style.Styler at 0x13402ca90>"
      ],
      "text/html": [
       "<style  type=\"text/css\" >\n",
       "#T_5e4fb_row0_col0,#T_5e4fb_row1_col1,#T_5e4fb_row2_col2,#T_5e4fb_row2_col3,#T_5e4fb_row3_col2,#T_5e4fb_row3_col3{\n",
       "            background-color:  #b40426;\n",
       "            color:  #f1f1f1;\n",
       "        }#T_5e4fb_row0_col1{\n",
       "            background-color:  #e36c55;\n",
       "            color:  #000000;\n",
       "        }#T_5e4fb_row0_col2,#T_5e4fb_row0_col3,#T_5e4fb_row2_col0,#T_5e4fb_row2_col1,#T_5e4fb_row3_col0,#T_5e4fb_row3_col1{\n",
       "            background-color:  #3b4cc0;\n",
       "            color:  #f1f1f1;\n",
       "        }#T_5e4fb_row1_col0{\n",
       "            background-color:  #e36b54;\n",
       "            color:  #000000;\n",
       "        }#T_5e4fb_row1_col2,#T_5e4fb_row1_col3{\n",
       "            background-color:  #4257c9;\n",
       "            color:  #f1f1f1;\n",
       "        }</style><table id=\"T_5e4fb_\" ><thead>    <tr>        <th class=\"blank level0\" ></th>        <th class=\"col_heading level0 col0\" >height</th>        <th class=\"col_heading level0 col1\" >width</th>        <th class=\"col_heading level0 col2\" >start_pic_summer</th>        <th class=\"col_heading level0 col3\" >start_pic_winter</th>    </tr></thead><tbody>\n",
       "                <tr>\n",
       "                        <th id=\"T_5e4fb_level0_row0\" class=\"row_heading level0 row0\" >height</th>\n",
       "                        <td id=\"T_5e4fb_row0_col0\" class=\"data row0 col0\" >1.000000</td>\n",
       "                        <td id=\"T_5e4fb_row0_col1\" class=\"data row0 col1\" >0.850485</td>\n",
       "                        <td id=\"T_5e4fb_row0_col2\" class=\"data row0 col2\" >-0.021903</td>\n",
       "                        <td id=\"T_5e4fb_row0_col3\" class=\"data row0 col3\" >-0.021913</td>\n",
       "            </tr>\n",
       "            <tr>\n",
       "                        <th id=\"T_5e4fb_level0_row1\" class=\"row_heading level0 row1\" >width</th>\n",
       "                        <td id=\"T_5e4fb_row1_col0\" class=\"data row1 col0\" >0.850485</td>\n",
       "                        <td id=\"T_5e4fb_row1_col1\" class=\"data row1 col1\" >1.000000</td>\n",
       "                        <td id=\"T_5e4fb_row1_col2\" class=\"data row1 col2\" >0.002402</td>\n",
       "                        <td id=\"T_5e4fb_row1_col3\" class=\"data row1 col3\" >0.002390</td>\n",
       "            </tr>\n",
       "            <tr>\n",
       "                        <th id=\"T_5e4fb_level0_row2\" class=\"row_heading level0 row2\" >start_pic_summer</th>\n",
       "                        <td id=\"T_5e4fb_row2_col0\" class=\"data row2 col0\" >-0.021903</td>\n",
       "                        <td id=\"T_5e4fb_row2_col1\" class=\"data row2 col1\" >0.002402</td>\n",
       "                        <td id=\"T_5e4fb_row2_col2\" class=\"data row2 col2\" >1.000000</td>\n",
       "                        <td id=\"T_5e4fb_row2_col3\" class=\"data row2 col3\" >0.999895</td>\n",
       "            </tr>\n",
       "            <tr>\n",
       "                        <th id=\"T_5e4fb_level0_row3\" class=\"row_heading level0 row3\" >start_pic_winter</th>\n",
       "                        <td id=\"T_5e4fb_row3_col0\" class=\"data row3 col0\" >-0.021913</td>\n",
       "                        <td id=\"T_5e4fb_row3_col1\" class=\"data row3 col1\" >0.002390</td>\n",
       "                        <td id=\"T_5e4fb_row3_col2\" class=\"data row3 col2\" >0.999895</td>\n",
       "                        <td id=\"T_5e4fb_row3_col3\" class=\"data row3 col3\" >1.000000</td>\n",
       "            </tr>\n",
       "    </tbody></table>"
      ]
     },
     "metadata": {},
     "execution_count": 14
    }
   ],
   "metadata": {}
  },
  {
   "cell_type": "code",
   "execution_count": 15,
   "source": [
    "df_pictures.description.unique()"
   ],
   "outputs": [
    {
     "output_type": "execute_result",
     "data": {
      "text/plain": [
       "array(['Furnishing', 'Floor plan', 'Outdoor shots',\n",
       "       'Surroundings / Leisure', 'Owner', 'Other', 'Certificates & Logos'],\n",
       "      dtype=object)"
      ]
     },
     "metadata": {},
     "execution_count": 15
    }
   ],
   "metadata": {}
  },
  {
   "cell_type": "code",
   "execution_count": 16,
   "source": [
    "df_pictures.description.value_counts()"
   ],
   "outputs": [
    {
     "output_type": "execute_result",
     "data": {
      "text/plain": [
       "Furnishing                287994\n",
       "Outdoor shots             161504\n",
       "Surroundings / Leisure    150207\n",
       "Floor plan                 16919\n",
       "Certificates & Logos       14052\n",
       "Owner                      13309\n",
       "Other                        836\n",
       "Name: description, dtype: int64"
      ]
     },
     "metadata": {},
     "execution_count": 16
    }
   ],
   "metadata": {}
  },
  {
   "cell_type": "markdown",
   "source": [
    "## Creating column defining picture quality\n"
   ],
   "metadata": {}
  },
  {
   "cell_type": "code",
   "execution_count": 17,
   "source": [
    "sns.scatterplot(x=df_pictures.width, y=df_pictures.height)"
   ],
   "outputs": [
    {
     "output_type": "execute_result",
     "data": {
      "text/plain": [
       "<AxesSubplot:xlabel='width', ylabel='height'>"
      ]
     },
     "metadata": {},
     "execution_count": 17
    },
    {
     "output_type": "display_data",
     "data": {
      "text/plain": [
       "<Figure size 432x288 with 1 Axes>"
      ],
      "image/png": "[encoded data removed]"
     },
     "metadata": {
      "needs_background": "light"
     }
    }
   ],
   "metadata": {}
  },
  {
   "cell_type": "code",
   "execution_count": 18,
   "source": [
    "df_pictures.query('width > 17_000') "
   ],
   "outputs": [
    {
     "output_type": "execute_result",
     "data": {
      "text/plain": [
       "                                  listing_id               added  \\\n",
       "71474   f1deae81-9dc5-5f1c-97db-fd507c211720 2013-12-16 14:58:12   \n",
       "145608  cc822aee-7f34-5ae0-82b7-64f658b32050 2015-08-22 13:49:20   \n",
       "283315  ad3b892e-27ac-51bf-a7bf-52c0505fe481 2017-09-03 18:58:45   \n",
       "323949  8217b426-3eb0-5c8d-91a4-f04731b201ff 2018-02-17 20:00:30   \n",
       "642790  50638f6f-ec2c-583f-a90e-d4f4d606e1f8 2021-06-23 16:23:03   \n",
       "\n",
       "                 activated  height  width             description  \\\n",
       "71474  2013-12-17 08:08:52   12002  18032  Surroundings / Leisure   \n",
       "145608 2015-08-26 10:44:15   11339  18071    Certificates & Logos   \n",
       "283315 2017-09-03 19:00:55   16519  23377              Floor plan   \n",
       "323949 2018-02-17 20:01:03   11339  18071    Certificates & Logos   \n",
       "642790 2021-06-23 16:23:05   19005  25340           Outdoor shots   \n",
       "\n",
       "        start_pic_summer  start_pic_winter  \n",
       "71474                  0                 0  \n",
       "145608                 0                 0  \n",
       "283315                 0                 0  \n",
       "323949                 0                 0  \n",
       "642790                 0                 0  "
      ],
      "text/html": [
       "<div>\n",
       "<style scoped>\n",
       "    .dataframe tbody tr th:only-of-type {\n",
       "        vertical-align: middle;\n",
       "    }\n",
       "\n",
       "    .dataframe tbody tr th {\n",
       "        vertical-align: top;\n",
       "    }\n",
       "\n",
       "    .dataframe thead th {\n",
       "        text-align: right;\n",
       "    }\n",
       "</style>\n",
       "<table border=\"1\" class=\"dataframe\">\n",
       "  <thead>\n",
       "    <tr style=\"text-align: right;\">\n",
       "      <th></th>\n",
       "      <th>listing_id</th>\n",
       "      <th>added</th>\n",
       "      <th>activated</th>\n",
       "      <th>height</th>\n",
       "      <th>width</th>\n",
       "      <th>description</th>\n",
       "      <th>start_pic_summer</th>\n",
       "      <th>start_pic_winter</th>\n",
       "    </tr>\n",
       "  </thead>\n",
       "  <tbody>\n",
       "    <tr>\n",
       "      <th>71474</th>\n",
       "      <td>f1deae81-9dc5-5f1c-97db-fd507c211720</td>\n",
       "      <td>2013-12-16 14:58:12</td>\n",
       "      <td>2013-12-17 08:08:52</td>\n",
       "      <td>12002</td>\n",
       "      <td>18032</td>\n",
       "      <td>Surroundings / Leisure</td>\n",
       "      <td>0</td>\n",
       "      <td>0</td>\n",
       "    </tr>\n",
       "    <tr>\n",
       "      <th>145608</th>\n",
       "      <td>cc822aee-7f34-5ae0-82b7-64f658b32050</td>\n",
       "      <td>2015-08-22 13:49:20</td>\n",
       "      <td>2015-08-26 10:44:15</td>\n",
       "      <td>11339</td>\n",
       "      <td>18071</td>\n",
       "      <td>Certificates &amp; Logos</td>\n",
       "      <td>0</td>\n",
       "      <td>0</td>\n",
       "    </tr>\n",
       "    <tr>\n",
       "      <th>283315</th>\n",
       "      <td>ad3b892e-27ac-51bf-a7bf-52c0505fe481</td>\n",
       "      <td>2017-09-03 18:58:45</td>\n",
       "      <td>2017-09-03 19:00:55</td>\n",
       "      <td>16519</td>\n",
       "      <td>23377</td>\n",
       "      <td>Floor plan</td>\n",
       "      <td>0</td>\n",
       "      <td>0</td>\n",
       "    </tr>\n",
       "    <tr>\n",
       "      <th>323949</th>\n",
       "      <td>8217b426-3eb0-5c8d-91a4-f04731b201ff</td>\n",
       "      <td>2018-02-17 20:00:30</td>\n",
       "      <td>2018-02-17 20:01:03</td>\n",
       "      <td>11339</td>\n",
       "      <td>18071</td>\n",
       "      <td>Certificates &amp; Logos</td>\n",
       "      <td>0</td>\n",
       "      <td>0</td>\n",
       "    </tr>\n",
       "    <tr>\n",
       "      <th>642790</th>\n",
       "      <td>50638f6f-ec2c-583f-a90e-d4f4d606e1f8</td>\n",
       "      <td>2021-06-23 16:23:03</td>\n",
       "      <td>2021-06-23 16:23:05</td>\n",
       "      <td>19005</td>\n",
       "      <td>25340</td>\n",
       "      <td>Outdoor shots</td>\n",
       "      <td>0</td>\n",
       "      <td>0</td>\n",
       "    </tr>\n",
       "  </tbody>\n",
       "</table>\n",
       "</div>"
      ]
     },
     "metadata": {},
     "execution_count": 18
    }
   ],
   "metadata": {}
  },
  {
   "cell_type": "code",
   "execution_count": 19,
   "source": [
    "def catagorizer(a, b):\n",
    "    if a + b < (720+480):\n",
    "        return \"Poor Resolution\"\n",
    "    elif a + b >= (720+480) and a + b <= (1280+720):\n",
    "        return \"High-definition\"\n",
    "    else:\n",
    "        return \"Ultra-high-definition\""
   ],
   "outputs": [],
   "metadata": {}
  },
  {
   "cell_type": "code",
   "execution_count": 20,
   "source": [
    "df_pictures['picture_resolution']= df_pictures.apply(lambda x: catagorizer(\n",
    "    x['width'], x['height']), axis=1)"
   ],
   "outputs": [],
   "metadata": {}
  },
  {
   "cell_type": "code",
   "execution_count": 21,
   "source": [
    "df_pictures.head()"
   ],
   "outputs": [
    {
     "output_type": "execute_result",
     "data": {
      "text/plain": [
       "                             listing_id      added  activated  height  width  \\\n",
       "0  fbd74bce-23dd-53e7-b988-8beb85160d6f 2009-12-03 2010-12-16     757   1000   \n",
       "1  4e012316-0f53-5fc6-a17f-580ff832554e 2010-01-05 2010-12-16     248    300   \n",
       "2  9e49f41a-05ca-53ff-ac92-f625f8a0f05b 2009-10-28 2010-12-16     830   1000   \n",
       "3  60b8dc3e-5745-5ff5-b99a-eb460f7c14f1 2009-12-03 2010-12-16     797   1000   \n",
       "4  754aeffd-789d-5135-9491-032e28b72f23 2009-07-17 2010-12-16    1000    832   \n",
       "\n",
       "     description  start_pic_summer  start_pic_winter picture_resolution  \n",
       "0     Furnishing                 0                 0    High-definition  \n",
       "1     Floor plan                 0                 0    Poor Resolution  \n",
       "2  Outdoor shots                 0                 0    High-definition  \n",
       "3  Outdoor shots                 1                 1    High-definition  \n",
       "4     Floor plan                 0                 0    High-definition  "
      ],
      "text/html": [
       "<div>\n",
       "<style scoped>\n",
       "    .dataframe tbody tr th:only-of-type {\n",
       "        vertical-align: middle;\n",
       "    }\n",
       "\n",
       "    .dataframe tbody tr th {\n",
       "        vertical-align: top;\n",
       "    }\n",
       "\n",
       "    .dataframe thead th {\n",
       "        text-align: right;\n",
       "    }\n",
       "</style>\n",
       "<table border=\"1\" class=\"dataframe\">\n",
       "  <thead>\n",
       "    <tr style=\"text-align: right;\">\n",
       "      <th></th>\n",
       "      <th>listing_id</th>\n",
       "      <th>added</th>\n",
       "      <th>activated</th>\n",
       "      <th>height</th>\n",
       "      <th>width</th>\n",
       "      <th>description</th>\n",
       "      <th>start_pic_summer</th>\n",
       "      <th>start_pic_winter</th>\n",
       "      <th>picture_resolution</th>\n",
       "    </tr>\n",
       "  </thead>\n",
       "  <tbody>\n",
       "    <tr>\n",
       "      <th>0</th>\n",
       "      <td>fbd74bce-23dd-53e7-b988-8beb85160d6f</td>\n",
       "      <td>2009-12-03</td>\n",
       "      <td>2010-12-16</td>\n",
       "      <td>757</td>\n",
       "      <td>1000</td>\n",
       "      <td>Furnishing</td>\n",
       "      <td>0</td>\n",
       "      <td>0</td>\n",
       "      <td>High-definition</td>\n",
       "    </tr>\n",
       "    <tr>\n",
       "      <th>1</th>\n",
       "      <td>4e012316-0f53-5fc6-a17f-580ff832554e</td>\n",
       "      <td>2010-01-05</td>\n",
       "      <td>2010-12-16</td>\n",
       "      <td>248</td>\n",
       "      <td>300</td>\n",
       "      <td>Floor plan</td>\n",
       "      <td>0</td>\n",
       "      <td>0</td>\n",
       "      <td>Poor Resolution</td>\n",
       "    </tr>\n",
       "    <tr>\n",
       "      <th>2</th>\n",
       "      <td>9e49f41a-05ca-53ff-ac92-f625f8a0f05b</td>\n",
       "      <td>2009-10-28</td>\n",
       "      <td>2010-12-16</td>\n",
       "      <td>830</td>\n",
       "      <td>1000</td>\n",
       "      <td>Outdoor shots</td>\n",
       "      <td>0</td>\n",
       "      <td>0</td>\n",
       "      <td>High-definition</td>\n",
       "    </tr>\n",
       "    <tr>\n",
       "      <th>3</th>\n",
       "      <td>60b8dc3e-5745-5ff5-b99a-eb460f7c14f1</td>\n",
       "      <td>2009-12-03</td>\n",
       "      <td>2010-12-16</td>\n",
       "      <td>797</td>\n",
       "      <td>1000</td>\n",
       "      <td>Outdoor shots</td>\n",
       "      <td>1</td>\n",
       "      <td>1</td>\n",
       "      <td>High-definition</td>\n",
       "    </tr>\n",
       "    <tr>\n",
       "      <th>4</th>\n",
       "      <td>754aeffd-789d-5135-9491-032e28b72f23</td>\n",
       "      <td>2009-07-17</td>\n",
       "      <td>2010-12-16</td>\n",
       "      <td>1000</td>\n",
       "      <td>832</td>\n",
       "      <td>Floor plan</td>\n",
       "      <td>0</td>\n",
       "      <td>0</td>\n",
       "      <td>High-definition</td>\n",
       "    </tr>\n",
       "  </tbody>\n",
       "</table>\n",
       "</div>"
      ]
     },
     "metadata": {},
     "execution_count": 21
    }
   ],
   "metadata": {}
  },
  {
   "cell_type": "markdown",
   "source": [
    "\n",
    "## Dropping height and width"
   ],
   "metadata": {}
  },
  {
   "cell_type": "code",
   "execution_count": 22,
   "source": [
    "del df_pictures['width']\n",
    "del df_pictures['height']\n",
    "df_pictures.head()"
   ],
   "outputs": [
    {
     "output_type": "execute_result",
     "data": {
      "text/plain": [
       "                             listing_id      added  activated    description  \\\n",
       "0  fbd74bce-23dd-53e7-b988-8beb85160d6f 2009-12-03 2010-12-16     Furnishing   \n",
       "1  4e012316-0f53-5fc6-a17f-580ff832554e 2010-01-05 2010-12-16     Floor plan   \n",
       "2  9e49f41a-05ca-53ff-ac92-f625f8a0f05b 2009-10-28 2010-12-16  Outdoor shots   \n",
       "3  60b8dc3e-5745-5ff5-b99a-eb460f7c14f1 2009-12-03 2010-12-16  Outdoor shots   \n",
       "4  754aeffd-789d-5135-9491-032e28b72f23 2009-07-17 2010-12-16     Floor plan   \n",
       "\n",
       "   start_pic_summer  start_pic_winter picture_resolution  \n",
       "0                 0                 0    High-definition  \n",
       "1                 0                 0    Poor Resolution  \n",
       "2                 0                 0    High-definition  \n",
       "3                 1                 1    High-definition  \n",
       "4                 0                 0    High-definition  "
      ],
      "text/html": [
       "<div>\n",
       "<style scoped>\n",
       "    .dataframe tbody tr th:only-of-type {\n",
       "        vertical-align: middle;\n",
       "    }\n",
       "\n",
       "    .dataframe tbody tr th {\n",
       "        vertical-align: top;\n",
       "    }\n",
       "\n",
       "    .dataframe thead th {\n",
       "        text-align: right;\n",
       "    }\n",
       "</style>\n",
       "<table border=\"1\" class=\"dataframe\">\n",
       "  <thead>\n",
       "    <tr style=\"text-align: right;\">\n",
       "      <th></th>\n",
       "      <th>listing_id</th>\n",
       "      <th>added</th>\n",
       "      <th>activated</th>\n",
       "      <th>description</th>\n",
       "      <th>start_pic_summer</th>\n",
       "      <th>start_pic_winter</th>\n",
       "      <th>picture_resolution</th>\n",
       "    </tr>\n",
       "  </thead>\n",
       "  <tbody>\n",
       "    <tr>\n",
       "      <th>0</th>\n",
       "      <td>fbd74bce-23dd-53e7-b988-8beb85160d6f</td>\n",
       "      <td>2009-12-03</td>\n",
       "      <td>2010-12-16</td>\n",
       "      <td>Furnishing</td>\n",
       "      <td>0</td>\n",
       "      <td>0</td>\n",
       "      <td>High-definition</td>\n",
       "    </tr>\n",
       "    <tr>\n",
       "      <th>1</th>\n",
       "      <td>4e012316-0f53-5fc6-a17f-580ff832554e</td>\n",
       "      <td>2010-01-05</td>\n",
       "      <td>2010-12-16</td>\n",
       "      <td>Floor plan</td>\n",
       "      <td>0</td>\n",
       "      <td>0</td>\n",
       "      <td>Poor Resolution</td>\n",
       "    </tr>\n",
       "    <tr>\n",
       "      <th>2</th>\n",
       "      <td>9e49f41a-05ca-53ff-ac92-f625f8a0f05b</td>\n",
       "      <td>2009-10-28</td>\n",
       "      <td>2010-12-16</td>\n",
       "      <td>Outdoor shots</td>\n",
       "      <td>0</td>\n",
       "      <td>0</td>\n",
       "      <td>High-definition</td>\n",
       "    </tr>\n",
       "    <tr>\n",
       "      <th>3</th>\n",
       "      <td>60b8dc3e-5745-5ff5-b99a-eb460f7c14f1</td>\n",
       "      <td>2009-12-03</td>\n",
       "      <td>2010-12-16</td>\n",
       "      <td>Outdoor shots</td>\n",
       "      <td>1</td>\n",
       "      <td>1</td>\n",
       "      <td>High-definition</td>\n",
       "    </tr>\n",
       "    <tr>\n",
       "      <th>4</th>\n",
       "      <td>754aeffd-789d-5135-9491-032e28b72f23</td>\n",
       "      <td>2009-07-17</td>\n",
       "      <td>2010-12-16</td>\n",
       "      <td>Floor plan</td>\n",
       "      <td>0</td>\n",
       "      <td>0</td>\n",
       "      <td>High-definition</td>\n",
       "    </tr>\n",
       "  </tbody>\n",
       "</table>\n",
       "</div>"
      ]
     },
     "metadata": {},
     "execution_count": 22
    }
   ],
   "metadata": {}
  },
  {
   "cell_type": "markdown",
   "source": [
    "## Saving csv file"
   ],
   "metadata": {}
  },
  {
   "cell_type": "code",
   "execution_count": 23,
   "source": [
    "df_pictures.to_csv('../data/pictures.csv')"
   ],
   "outputs": [],
   "metadata": {}
  },
  {
   "cell_type": "code",
   "execution_count": null,
   "source": [],
   "outputs": [],
   "metadata": {}
  }
 ],
 "metadata": {
  "interpreter": {
   "hash": "d010501e40abb3b7db4096fc0aa4e129057eacaad7f742892b4cda0c942bb7f2"
  },
  "kernelspec": {
   "display_name": "Python 3.8.5 64-bit ('.venv': venv)",
   "name": "python3"
  },
  "language_info": {
   "codemirror_mode": {
    "name": "ipython",
    "version": 3
   },
   "file_extension": ".py",
   "mimetype": "text/x-python",
   "name": "python",
   "nbconvert_exporter": "python",
   "pygments_lexer": "ipython3",
   "version": "3.8.5"
  },
  "orig_nbformat": 4
 },
 "nbformat": 4,
 "nbformat_minor": 2
}