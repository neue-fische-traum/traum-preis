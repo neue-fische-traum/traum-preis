{
 "metadata": {
  "language_info": {
   "codemirror_mode": {
    "name": "ipython",
    "version": 3
   },
   "file_extension": ".py",
   "mimetype": "text/x-python",
   "name": "python",
   "nbconvert_exporter": "python",
   "pygments_lexer": "ipython3",
   "version": "3.8.5"
  },
  "orig_nbformat": 4,
  "kernelspec": {
   "name": "python3",
   "display_name": "Python 3.8.5 64-bit"
  },
  "interpreter": {
   "hash": "2cf2762940e556d956aef20b64b564883d063a27c09be2ab447a9c75f5b30a4b"
  }
 },
 "nbformat": 4,
 "nbformat_minor": 2,
 "cells": [
  {
   "source": [
    "# This notebook will serve for the initial EDA for the listings data for the TFW project"
   ],
   "cell_type": "markdown",
   "metadata": {}
  },
  {
   "cell_type": "code",
   "execution_count": null,
   "metadata": {},
   "outputs": [],
   "source": [
    "# Import necassary libraries\n",
    "import numpy as np\n",
    "import pandas as pd\n",
    "import matplotlib.pyplot as plt\n",
    "import seaborn as sns"
   ]
  },
  {
   "cell_type": "code",
   "execution_count": null,
   "metadata": {},
   "outputs": [],
   "source": [
    "# Load the dataset\n",
    "df_listings = pd.read_csv('../data/listings_20210707.csv')"
   ]
  },
  {
   "cell_type": "code",
   "execution_count": null,
   "metadata": {},
   "outputs": [],
   "source": [
    "# Shape of the dataset\n",
    "print('The dataset contains %s different accommodations and %s features' %(df_listings.shape[0], df_listings.shape[1]))"
   ]
  },
  {
   "cell_type": "code",
   "execution_count": null,
   "metadata": {},
   "outputs": [],
   "source": [
    "# Have a first look at the dataset\n",
    "df_listings.head()"
   ]
  },
  {
   "cell_type": "code",
   "execution_count": null,
   "metadata": {},
   "outputs": [],
   "source": [
    "# First look at the info\n",
    "df_listings.info()"
   ]
  },
  {
   "cell_type": "code",
   "execution_count": null,
   "metadata": {},
   "outputs": [],
   "source": [
    "# First description of the numerical features\n",
    "df_listings.describe()"
   ]
  },
  {
   "cell_type": "code",
   "execution_count": null,
   "metadata": {},
   "outputs": [],
   "source": [
    "# Looking for categorical features\n",
    "df_listings.nunique()"
   ]
  },
  {
   "source": [
    "The dataset contains many categorical features that we need to process further."
   ],
   "cell_type": "markdown",
   "metadata": {}
  },
  {
   "source": [
    "## First cleaning steps\n",
    "\n",
    "Like Traum-Ferienwohnungen told, we've got a dataset with accomodations located in Germany as we can see in the feature country_title. Because of this, we can drop this column."
   ],
   "cell_type": "markdown",
   "metadata": {}
  },
  {
   "cell_type": "code",
   "execution_count": null,
   "metadata": {},
   "outputs": [],
   "source": [
    "# Drop the column country_title\n",
    "df_listings = df_listings.drop('country_title', axis=1)"
   ]
  },
  {
   "source": [
    "The feature `pets` includes only missing values and zeros. In my opinion, this column records the number of pets that are allowed. If pets are allowed or not (or on request) are covered in following columns: `option_holiday_with_your_pet`, `option_holiday_with_your_horse`, `option_holiday_with_your_dog`. For this reason, we decided to drop this column too."
   ],
   "cell_type": "markdown",
   "metadata": {}
  },
  {
   "cell_type": "code",
   "execution_count": null,
   "metadata": {},
   "outputs": [],
   "source": [
    "# Drop the column pets\n",
    "print(df_listings.pets.unique())\n",
    "df_listings = df_listings.drop('pets', axis=1)"
   ]
  },
  {
   "source": [
    "## Feature converting\n",
    "\n",
    "First, convert the date feature `contract_end` to datetime."
   ],
   "cell_type": "markdown",
   "metadata": {}
  },
  {
   "cell_type": "code",
   "execution_count": null,
   "metadata": {},
   "outputs": [],
   "source": [
    "# Convert column contract_end to datetime\n",
    "df_listings['contract_end'] = pd.to_datetime(df_listings['contract_end'])"
   ]
  },
  {
   "source": [
    "The feature `living_area` contains values with range. Like Traum-Ferienwohnungen recommends, we take the first number as correct one and convert them to integers."
   ],
   "cell_type": "markdown",
   "metadata": {}
  },
  {
   "cell_type": "code",
   "execution_count": null,
   "metadata": {},
   "outputs": [],
   "source": [
    "# Replace range of `living_area` with the first number\n",
    "df_listings.replace(['70-280', '50-100', '50-70', '24-49', '16 - 26', '70-280', '18 - 26', '88-100', '46-73', '50-80', '52-65', '50-60'], ['70', '50', '50', '24', '16', '70', '18', '88', '46', '50', '52', '50'], inplace=True)"
   ]
  },
  {
   "cell_type": "code",
   "execution_count": null,
   "metadata": {},
   "outputs": [],
   "source": [
    "# Convert column `living_area`to integer\n",
    "df_listings['living_area'] = df_listings['living_area'].astype(float)"
   ]
  },
  {
   "source": [
    "To use the option features in the model, we convert the booleans / categories to integers as following:\n",
    "\n",
    "- False / no / Not allowed >> 0\n",
    "- True / yes / Allowed >> 1\n",
    "- On request >> 2\n",
    "- Unset >> 3"
   ],
   "cell_type": "markdown",
   "metadata": {}
  },
  {
   "cell_type": "code",
   "execution_count": null,
   "metadata": {},
   "outputs": [],
   "source": [
    "# Replacement to integers \n",
    "df_listings.replace(['False', 'no', 'not allowed', 'True', 'yes', 'allowed', 'on request', 'unset'], [0, 0, 0, 1, 1, 1, 2, 3], inplace=True)"
   ]
  },
  {
   "source": [
    "## Looking for correlations"
   ],
   "cell_type": "markdown",
   "metadata": {}
  },
  {
   "cell_type": "code",
   "execution_count": null,
   "metadata": {},
   "outputs": [],
   "source": [
    "# generate the heatmap\n",
    "corr = df_listings.corr()\n",
    "fig, ax = plt.subplots(figsize=(20, 20))\n",
    "sns.heatmap(\n",
    "    corr,\n",
    "    vmin=-1, vmax=1, center=0,\n",
    "    cmap=sns.diverging_palette(20, 220, n=200),\n",
    "    square=True\n",
    ")\n",
    "ax.set_xticklabels(\n",
    "    ax.get_xticklabels(),\n",
    "    rotation=45,\n",
    "    horizontalalignment='right'\n",
    ");"
   ]
  },
  {
   "cell_type": "code",
   "execution_count": null,
   "metadata": {},
   "outputs": [],
   "source": [
    "# Generate table with correlations \n",
    "corr.style.background_gradient(cmap='coolwarm')"
   ]
  },
  {
   "source": [
    "## Plotting distribution of the features"
   ],
   "cell_type": "markdown",
   "metadata": {}
  },
  {
   "cell_type": "code",
   "execution_count": null,
   "metadata": {},
   "outputs": [],
   "source": [
    "# Plotting histograms of numerical features \n",
    "df_listings.hist(bins=50, figsize = (30,30))\n",
    "plt.show()"
   ]
  },
  {
   "source": [
    "### Closer Look: categorical features\n",
    "\n",
    "1. The histograms of the features `option_wheelchair_accessible` and `wheelchairaccess` look very similar. A check confirmed identical columns. For this reason we drop one column."
   ],
   "cell_type": "markdown",
   "metadata": {}
  },
  {
   "cell_type": "code",
   "execution_count": null,
   "metadata": {},
   "outputs": [],
   "source": [
    "# Check for identical columns \n",
    "comparison_column = np.where(df_listings[\"option_wheelchair_accessible\"] == df_listings[\"wheelchairaccess\"], True, False)\n",
    "print(np.all(comparison_column))"
   ]
  },
  {
   "cell_type": "code",
   "execution_count": null,
   "metadata": {},
   "outputs": [],
   "source": [
    "# Drop the column wheelchairaccess\n",
    "df_listings = df_listings.drop('wheelchairaccess', axis=1)"
   ]
  },
  {
   "source": [
    "2. The histograms of features `option_non_smoking_only` and `smoking` look contrary. A check confirmed contrary True / False values. For this reason we drop one column. We decided to drop the column `smoking` because the column `option_non_smoking_only` differentiate the unset and on request values."
   ],
   "cell_type": "markdown",
   "metadata": {}
  },
  {
   "cell_type": "code",
   "execution_count": null,
   "metadata": {},
   "outputs": [],
   "source": [
    "# Count values for categories\n",
    "print('option_non_smoking_only:\\n', df_listings['option_non_smoking_only'].value_counts())\n",
    "print('smoking:\\n',df_listings['smoking'].value_counts())"
   ]
  },
  {
   "cell_type": "code",
   "execution_count": null,
   "metadata": {},
   "outputs": [],
   "source": [
    "# Create a sub dataset that contains only True / False values for the columns\n",
    "smoking = df_listings.query(\"option_non_smoking_only == [0 ,1] & smoking == [1, 0]\")"
   ]
  },
  {
   "cell_type": "code",
   "execution_count": null,
   "metadata": {},
   "outputs": [],
   "source": [
    "# Check for contrary columns \n",
    "comparison_column_smoking = np.where(smoking[\"option_non_smoking_only\"] != smoking[\"smoking\"], True, False)\n",
    "print(np.all(comparison_column_smoking))"
   ]
  },
  {
   "cell_type": "code",
   "execution_count": null,
   "metadata": {},
   "outputs": [],
   "source": [
    "# Drop the column wheelchairaccess\n",
    "df_listings = df_listings.drop('smoking', axis=1)"
   ]
  },
  {
   "source": [
    "3. The histograms of features `close_to_the_beach` and `close_to_the_water` look very similar. All accommodations close to the beach are close to the water too. But because the differences between close to the water and close to the beach, like a dike, a habour or a lake are important for guests, we stay with both features.\n",
    "\n",
    "\n",
    "4. For the features `close_to_the_beach`, `close_to_the_water`, `option_close_to_the_skilift`, `option_railway_station` and `option_airport` the amount of unset values is high: "
   ],
   "cell_type": "markdown",
   "metadata": {}
  },
  {
   "cell_type": "code",
   "execution_count": null,
   "metadata": {},
   "outputs": [],
   "source": [
    "# Calculate amount of unset values\n",
    "print('Percent of unset values in feature')\n",
    "print('Beach nearby:', round(df_listings.query('option_close_to_the_beach == 3').count()[1]/df_listings.shape[0]*100, 1))\n",
    "print('Water nearby:', round(df_listings.query('option_close_to_the_water == 3').count()[1]/df_listings.shape[0]*100, 1))\n",
    "print('Ski lift nearby:', round(df_listings.query('option_close_to_the_ski_lift == 3').count()[1]/df_listings.shape[0]*100, 1))\n",
    "print('Railway station:', round(df_listings.query('option_railway_station == 3').count()[1]/df_listings.shape[0]*100, 1))\n",
    "print('Airport:', round(df_listings.query('option_airport == 3').count()[1]/df_listings.shape[0]*100, 1))"
   ]
  },
  {
   "source": [
    "Because of high number of unset values in the features `option_railway_station` (95.2%) and `option_airport` (98.2%) we will drop these columns because it gives us no important information. At the moment we will keep the features ` option_close_to_the_beach` (67%), `option_close_to_the_water` (63.8%) and `option_close_to_the_ski_lift` (80.7%) because they could be important for the clsutering model and these features are an important information for the guest to decide for their right accommodation."
   ],
   "cell_type": "markdown",
   "metadata": {}
  },
  {
   "cell_type": "code",
   "execution_count": null,
   "metadata": {},
   "outputs": [],
   "source": [
    "# Drop the column option_railway_station and option_airport\n",
    "df_listings = df_listings.drop(['option_railway_station', 'option_airport'], axis=1)"
   ]
  },
  {
   "source": [
    "### Closer Look: numerical features"
   ],
   "cell_type": "markdown",
   "metadata": {}
  },
  {
   "source": [
    "#### Bathrooms"
   ],
   "cell_type": "markdown",
   "metadata": {}
  },
  {
   "cell_type": "code",
   "execution_count": null,
   "metadata": {},
   "outputs": [],
   "source": [
    "# Description of the feature bathrooms\n",
    "df_listings.bathrooms.describe()"
   ]
  },
  {
   "cell_type": "code",
   "execution_count": null,
   "metadata": {},
   "outputs": [],
   "source": [
    "# Number of accommodation per bathroom number\n",
    "df_listings.groupby('bathrooms')['listing_id'].count()"
   ]
  },
  {
   "source": [
    "We have a few accommodations with a high number of bathrooms and we have to decide how we want to handle this."
   ],
   "cell_type": "markdown",
   "metadata": {}
  },
  {
   "cell_type": "code",
   "execution_count": null,
   "metadata": {},
   "outputs": [],
   "source": [
    "# Because of a higher correlation between the numerical features, we're looking for the median value for all features per bathroom number to see if there is a connection \n",
    "numerical_features = df_listings[['bathrooms', 'bedrooms', 'max_guests', 'living_area']]\n",
    "numerical_features.groupby('bathrooms').median()"
   ]
  },
  {
   "source": [
    "With a higher number of bathrooms the number of bedrooms, maximum guests and living area also increase."
   ],
   "cell_type": "markdown",
   "metadata": {}
  },
  {
   "source": [
    "#### Bedrooms"
   ],
   "cell_type": "markdown",
   "metadata": {}
  },
  {
   "cell_type": "code",
   "execution_count": null,
   "metadata": {},
   "outputs": [],
   "source": [
    "# Description of the feature bedrooms\n",
    "df_listings.bedrooms.describe()"
   ]
  },
  {
   "cell_type": "code",
   "execution_count": null,
   "metadata": {},
   "outputs": [],
   "source": [
    "# Number of accommodation per bedroom number\n",
    "df_listings.groupby('bedrooms')['listing_id'].count()"
   ]
  },
  {
   "cell_type": "code",
   "execution_count": null,
   "metadata": {},
   "outputs": [],
   "source": [
    "# Because of a higher correlation between the numerical features, we're looking for the median value for all features per bedroom number to see if there is a connection \n",
    "numerical_features.groupby('bedrooms').median()"
   ]
  },
  {
   "source": [
    "With a higher number of bedrooms the number of bathrooms, maximum guests and living area also increase."
   ],
   "cell_type": "markdown",
   "metadata": {}
  },
  {
   "source": [
    "#### Maximum guests"
   ],
   "cell_type": "markdown",
   "metadata": {}
  },
  {
   "cell_type": "code",
   "execution_count": null,
   "metadata": {},
   "outputs": [],
   "source": [
    "# Description of the feature maximum guests\n",
    "df_listings.max_guests.describe()"
   ]
  },
  {
   "cell_type": "code",
   "execution_count": null,
   "metadata": {},
   "outputs": [],
   "source": [
    "# Number of accommodation per maximum guest number\n",
    "df_listings.groupby('max_guests')['listing_id'].count()"
   ]
  },
  {
   "cell_type": "code",
   "execution_count": null,
   "metadata": {},
   "outputs": [],
   "source": [
    "# Because of a higher correlation between the numerical features, we're looking for the median value for all features per maximum guests number to see if there is a connection \n",
    "numerical_features.groupby('max_guests').median()"
   ]
  },
  {
   "source": [
    "With a higher number of maximum guests the number of bathrooms, bedrooms and living area increase not constantly. There is no pattern."
   ],
   "cell_type": "markdown",
   "metadata": {}
  },
  {
   "source": [
    "#### Living area"
   ],
   "cell_type": "markdown",
   "metadata": {}
  },
  {
   "cell_type": "code",
   "execution_count": null,
   "metadata": {},
   "outputs": [],
   "source": [
    "# Description of the feature maximum guests\n",
    "df_listings.living_area.describe()"
   ]
  },
  {
   "source": [
    "## Regions"
   ],
   "cell_type": "markdown",
   "metadata": {}
  },
  {
   "cell_type": "code",
   "execution_count": null,
   "metadata": {},
   "outputs": [],
   "source": [
    "print(df_listings.region.nunique())\n",
    "print(df_listings.region.unique())"
   ]
  },
  {
   "cell_type": "code",
   "execution_count": null,
   "metadata": {},
   "outputs": [],
   "source": [
    "print(df_listings.subregion.nunique())\n",
    "print(df_listings.subregion.unique())"
   ]
  },
  {
   "cell_type": "code",
   "execution_count": null,
   "metadata": {},
   "outputs": [],
   "source": [
    "print(df_listings.holiday_region.nunique())\n",
    "print(df_listings.holiday_region.unique())"
   ]
  },
  {
   "cell_type": "code",
   "execution_count": null,
   "metadata": {},
   "outputs": [],
   "source": [
    "print(df_listings.zip.nunique())"
   ]
  },
  {
   "source": [
    "## Type accomodation"
   ],
   "cell_type": "markdown",
   "metadata": {}
  },
  {
   "cell_type": "code",
   "execution_count": null,
   "metadata": {},
   "outputs": [],
   "source": [
    "print(df_listings.property_type.nunique())\n",
    "print(df_listings.property_type.unique())"
   ]
  },
  {
   "source": [
    "## Missing values and outliers for numerical features"
   ],
   "cell_type": "markdown",
   "metadata": {}
  },
  {
   "cell_type": "code",
   "execution_count": null,
   "metadata": {},
   "outputs": [],
   "source": [
    "# Missing values\n",
    "print('Missing values')\n",
    "print('Bathrooms:', df_listings.bathrooms.isna().sum())\n",
    "print('Bedrooms:', df_listings.bedrooms.isna().sum())\n",
    "print('Maximum guests:', df_listings.max_guests.isna().sum())\n",
    "print('Living area:', df_listings.living_area.isna().sum())"
   ]
  },
  {
   "cell_type": "code",
   "execution_count": null,
   "metadata": {},
   "outputs": [],
   "source": [
    "# Zero values\n",
    "print('Zero values')\n",
    "print('Bathrooms:', df_listings.query('bathrooms == 0').shape[0])\n",
    "print('Bedrooms:', df_listings.query('bedrooms == 0').shape[0])"
   ]
  },
  {
   "source": [
    "We will compare the missing data with the dataset room feature to see if we have information about the romms there."
   ],
   "cell_type": "markdown",
   "metadata": {}
  },
  {
   "cell_type": "code",
   "execution_count": null,
   "metadata": {},
   "outputs": [],
   "source": [
    "# boxplots\n",
    "df_listings.boxplot(column=['bathrooms', 'bedrooms'])"
   ]
  },
  {
   "cell_type": "code",
   "execution_count": null,
   "metadata": {},
   "outputs": [],
   "source": [
    "df_listings.boxplot(column='max_guests')"
   ]
  },
  {
   "cell_type": "code",
   "execution_count": null,
   "metadata": {},
   "outputs": [],
   "source": [
    "df_listings.boxplot(column='living_area')"
   ]
  },
  {
   "source": [
    "In the numerical features we find outliers that we have to handle with."
   ],
   "cell_type": "markdown",
   "metadata": {}
  },
  {
   "cell_type": "code",
   "execution_count": null,
   "metadata": {},
   "outputs": [],
   "source": [
    "# Calculate diffenrent quantiles for numerical features\n",
    "print('Quantiles 0.95. 0.975 and 0.99 for:')\n",
    "print('Bathrooms:\\n', df_listings.bathrooms.quantile([.95, .975, .99, 1]))\n",
    "print('-----------------------')\n",
    "print('Bedrooms:\\n', df_listings.bedrooms.quantile([.95, .975, .99, 1]))\n",
    "print('-----------------------')\n",
    "print('Maximum guests:\\n', df_listings.max_guests.quantile([.95, .975, .99, 1]))\n",
    "print('-----------------------')\n",
    "print('Living_area:\\n', df_listings.living_area.quantile([.95, .975, .99, 1]))"
   ]
  },
  {
   "cell_type": "code",
   "execution_count": null,
   "metadata": {},
   "outputs": [],
   "source": [
    "print(df_listings.query('bedrooms > 4').shape[0])\n",
    "print(df_listings.query('bedrooms > 8').shape[0])\n",
    "print('-----')\n",
    "print(df_listings.query('bathrooms > 3').shape[0])\n",
    "print(df_listings.query('bathrooms > 4').shape[0])\n",
    "print(df_listings.query('bathrooms > 5').shape[0])\n",
    "print('-----')\n",
    "print(df_listings.query('max_guests > 13').shape[0])\n",
    "print(df_listings.query('max_guests > 20').shape[0])\n",
    "print('-----')\n",
    "print(df_listings.query('living_area > 230').shape[0])\n",
    "print(df_listings.query('living_area > 300').shape[0])\n",
    "print(df_listings.query('living_area > 500').shape[0])"
   ]
  },
  {
   "source": [
    "#### Outliers in bedrooms\n",
    "\n",
    "We decided to drop all rows with a number of bedrooms equals and greater than 9."
   ],
   "cell_type": "markdown",
   "metadata": {}
  },
  {
   "cell_type": "code",
   "execution_count": null,
   "metadata": {},
   "outputs": [],
   "source": [
    "# Get names of indexes for which column bedrooms has value greater than 9\n",
    "indexNames = df_listings[df_listings['bedrooms'] >= 9].index\n",
    "# Delete these row indexes from dataset\n",
    "df_listings.drop(indexNames , inplace=True)"
   ]
  },
  {
   "cell_type": "code",
   "execution_count": null,
   "metadata": {},
   "outputs": [],
   "source": [
    "# Looking for the description of the numerical features after dropping the outliers in bedrooms\n",
    "df_listings[numerical_features.columns].describe()"
   ]
  },
  {
   "source": [
    "With dropping the outliers in bedrooms the feature bathrooms looks pretty well, so we don't have to clean this feature for outliers."
   ],
   "cell_type": "markdown",
   "metadata": {}
  },
  {
   "source": [
    "#### Outliers in maximum guests"
   ],
   "cell_type": "markdown",
   "metadata": {}
  },
  {
   "cell_type": "code",
   "execution_count": null,
   "metadata": {},
   "outputs": [],
   "source": [
    "# To see what could be a good threshold to define outliers in maximum guests, we group the numerical features by number of bedrooms and looking for the maximum value\n",
    "df_listings[numerical_features.columns].groupby('bedrooms').max()"
   ]
  },
  {
   "source": [
    "The maximum number of guests with a bedroom number of 8 is 32 guests. Let's see how many accommodations habe a value greater than 32 for maximum guests:"
   ],
   "cell_type": "markdown",
   "metadata": {}
  },
  {
   "cell_type": "code",
   "execution_count": null,
   "metadata": {},
   "outputs": [],
   "source": [
    "print(df_listings.query('max_guests > 32').shape[0])"
   ]
  },
  {
   "source": [
    "We decide to drop the rows with a greater value than 32 of maximum guests from the dataset."
   ],
   "cell_type": "markdown",
   "metadata": {}
  },
  {
   "cell_type": "code",
   "execution_count": null,
   "metadata": {},
   "outputs": [],
   "source": [
    "# Get names of indexes for which column maximum guests has value greater than 32\n",
    "indexNames_guests = df_listings[df_listings['max_guests'] > 32].index\n",
    "# Delete these row indexes from dataset\n",
    "df_listings.drop(indexNames_guests , inplace=True)"
   ]
  },
  {
   "cell_type": "code",
   "execution_count": null,
   "metadata": {},
   "outputs": [],
   "source": [
    "df_listings[numerical_features.columns].groupby('bedrooms').max()"
   ]
  },
  {
   "cell_type": "code",
   "execution_count": null,
   "metadata": {},
   "outputs": [],
   "source": [
    "# Looking for the description of the numerical features after dropping the outliers in maximum guests\n",
    "df_listings[numerical_features.columns].describe()"
   ]
  },
  {
   "source": [
    "#### Outliers in living area"
   ],
   "cell_type": "markdown",
   "metadata": {}
  },
  {
   "cell_type": "code",
   "execution_count": null,
   "metadata": {},
   "outputs": [],
   "source": [
    "print(df_listings.query('living_area > 230').shape[0])\n",
    "print(df_listings.query('living_area > 300').shape[0])\n",
    "print(df_listings.query('living_area > 350').shape[0])\n",
    "print(df_listings.query('living_area > 400').shape[0])\n",
    "print(df_listings.query('living_area > 450').shape[0])\n",
    "print(df_listings.query('living_area > 500').shape[0])\n",
    "print(df_listings.query('living_area > 550').shape[0])"
   ]
  },
  {
   "cell_type": "code",
   "execution_count": null,
   "metadata": {},
   "outputs": [],
   "source": [
    "df_listings.query('living_area > 450')"
   ]
  },
  {
   "cell_type": "code",
   "execution_count": null,
   "metadata": {},
   "outputs": [],
   "source": [
    "# Number of accommodation per maximum guest number\n",
    "df_listings.groupby('living_area')['listing_id'].count()"
   ]
  },
  {
   "cell_type": "code",
   "execution_count": null,
   "metadata": {},
   "outputs": [],
   "source": []
  }
 ]
}