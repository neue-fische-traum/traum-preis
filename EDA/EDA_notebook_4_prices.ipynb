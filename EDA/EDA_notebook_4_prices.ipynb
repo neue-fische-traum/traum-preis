{
 "cells": [
  {
   "cell_type": "markdown",
   "source": [
    "# EDA for Prices Dataset\n",
    "\n",
    "Initial look at data and data cleaning\n"
   ],
   "metadata": {}
  },
  {
   "cell_type": "markdown",
   "source": [
    "## Import necassary libraries"
   ],
   "metadata": {}
  },
  {
   "cell_type": "code",
   "execution_count": 1,
   "source": [
    "# Import necassary libraries\n",
    "import pandas as pd\n",
    "import numpy as np\n",
    "import matplotlib.pyplot as plt\n",
    "import seaborn as sns\n",
    "import statsmodels.formula.api as smf\n",
    "from scipy import stats"
   ],
   "outputs": [],
   "metadata": {}
  },
  {
   "cell_type": "code",
   "execution_count": 2,
   "source": [
    "#Load dataset\n",
    "df_prices = pd.read_csv('../data/prices_20210713.csv')"
   ],
   "outputs": [],
   "metadata": {}
  },
  {
   "cell_type": "code",
   "execution_count": 3,
   "source": [
    "df_prices.head()"
   ],
   "outputs": [
    {
     "output_type": "execute_result",
     "data": {
      "text/plain": [
       "                             listing_id  min_days   date_from     date_to  \\\n",
       "0  fbd74bce-23dd-53e7-b988-8beb85160d6f       5.0  2020-04-01  2020-06-15   \n",
       "1  fbd74bce-23dd-53e7-b988-8beb85160d6f       5.0  2020-06-15  2020-07-05   \n",
       "2  fbd74bce-23dd-53e7-b988-8beb85160d6f       4.0  2020-09-13  2020-11-01   \n",
       "3  fbd74bce-23dd-53e7-b988-8beb85160d6f       2.0  2020-11-01  2020-12-24   \n",
       "4  fbd74bce-23dd-53e7-b988-8beb85160d6f       5.0  2020-12-24  2021-01-07   \n",
       "\n",
       "   price_per_day_from  price_per_week_from  \n",
       "0                70.0                  NaN  \n",
       "1                78.0                  NaN  \n",
       "2                70.0                  NaN  \n",
       "3                58.0                  NaN  \n",
       "4                80.0                  NaN  "
      ],
      "text/html": [
       "<div>\n",
       "<style scoped>\n",
       "    .dataframe tbody tr th:only-of-type {\n",
       "        vertical-align: middle;\n",
       "    }\n",
       "\n",
       "    .dataframe tbody tr th {\n",
       "        vertical-align: top;\n",
       "    }\n",
       "\n",
       "    .dataframe thead th {\n",
       "        text-align: right;\n",
       "    }\n",
       "</style>\n",
       "<table border=\"1\" class=\"dataframe\">\n",
       "  <thead>\n",
       "    <tr style=\"text-align: right;\">\n",
       "      <th></th>\n",
       "      <th>listing_id</th>\n",
       "      <th>min_days</th>\n",
       "      <th>date_from</th>\n",
       "      <th>date_to</th>\n",
       "      <th>price_per_day_from</th>\n",
       "      <th>price_per_week_from</th>\n",
       "    </tr>\n",
       "  </thead>\n",
       "  <tbody>\n",
       "    <tr>\n",
       "      <th>0</th>\n",
       "      <td>fbd74bce-23dd-53e7-b988-8beb85160d6f</td>\n",
       "      <td>5.0</td>\n",
       "      <td>2020-04-01</td>\n",
       "      <td>2020-06-15</td>\n",
       "      <td>70.0</td>\n",
       "      <td>NaN</td>\n",
       "    </tr>\n",
       "    <tr>\n",
       "      <th>1</th>\n",
       "      <td>fbd74bce-23dd-53e7-b988-8beb85160d6f</td>\n",
       "      <td>5.0</td>\n",
       "      <td>2020-06-15</td>\n",
       "      <td>2020-07-05</td>\n",
       "      <td>78.0</td>\n",
       "      <td>NaN</td>\n",
       "    </tr>\n",
       "    <tr>\n",
       "      <th>2</th>\n",
       "      <td>fbd74bce-23dd-53e7-b988-8beb85160d6f</td>\n",
       "      <td>4.0</td>\n",
       "      <td>2020-09-13</td>\n",
       "      <td>2020-11-01</td>\n",
       "      <td>70.0</td>\n",
       "      <td>NaN</td>\n",
       "    </tr>\n",
       "    <tr>\n",
       "      <th>3</th>\n",
       "      <td>fbd74bce-23dd-53e7-b988-8beb85160d6f</td>\n",
       "      <td>2.0</td>\n",
       "      <td>2020-11-01</td>\n",
       "      <td>2020-12-24</td>\n",
       "      <td>58.0</td>\n",
       "      <td>NaN</td>\n",
       "    </tr>\n",
       "    <tr>\n",
       "      <th>4</th>\n",
       "      <td>fbd74bce-23dd-53e7-b988-8beb85160d6f</td>\n",
       "      <td>5.0</td>\n",
       "      <td>2020-12-24</td>\n",
       "      <td>2021-01-07</td>\n",
       "      <td>80.0</td>\n",
       "      <td>NaN</td>\n",
       "    </tr>\n",
       "  </tbody>\n",
       "</table>\n",
       "</div>"
      ]
     },
     "metadata": {},
     "execution_count": 3
    }
   ],
   "metadata": {}
  },
  {
   "cell_type": "markdown",
   "source": [
    "## Correcting date and time formatting."
   ],
   "metadata": {}
  },
  {
   "cell_type": "code",
   "execution_count": 4,
   "source": [
    "df_prices['date_from'] = pd.to_datetime(df_prices['date_from'], errors = 'coerce')\n",
    "df_prices['date_to'] = pd.to_datetime(df_prices['date_to'], errors = 'coerce')\n"
   ],
   "outputs": [],
   "metadata": {}
  },
  {
   "cell_type": "code",
   "execution_count": 5,
   "source": [
    "df_prices.query('price_per_day_from <= 3') "
   ],
   "outputs": [
    {
     "output_type": "execute_result",
     "data": {
      "text/plain": [
       "                                  listing_id  min_days  date_from    date_to  \\\n",
       "22175   f3b75783-7156-5644-b032-b4cbb2cc239c       6.0 2019-09-15 2019-10-20   \n",
       "22176   f3b75783-7156-5644-b032-b4cbb2cc239c       3.0 2019-10-20 2019-12-21   \n",
       "22177   f3b75783-7156-5644-b032-b4cbb2cc239c       7.0 2019-12-21 2020-01-07   \n",
       "22178   f3b75783-7156-5644-b032-b4cbb2cc239c       3.0 2020-01-07 2020-04-30   \n",
       "22179   f3b75783-7156-5644-b032-b4cbb2cc239c       6.0 2019-05-01 2019-06-29   \n",
       "...                                      ...       ...        ...        ...   \n",
       "414132  c0794503-406d-5e62-8d8d-f8bf55feeb91       NaN 2020-12-20 2020-12-21   \n",
       "414133  c0794503-406d-5e62-8d8d-f8bf55feeb91       3.0 2020-12-24 2020-12-25   \n",
       "414134  c0794503-406d-5e62-8d8d-f8bf55feeb91       NaN 2020-12-27 2020-12-28   \n",
       "414135  c0794503-406d-5e62-8d8d-f8bf55feeb91       3.0 2020-12-31 2021-01-01   \n",
       "445881  6964d097-9ee9-529a-91c9-77bc66a50878       1.0 2019-09-01 2020-06-01   \n",
       "\n",
       "        price_per_day_from  price_per_week_from  \n",
       "22175                  1.0                  NaN  \n",
       "22176                  1.0                  NaN  \n",
       "22177                  1.0                  NaN  \n",
       "22178                  1.0                  NaN  \n",
       "22179                  1.0                  NaN  \n",
       "...                    ...                  ...  \n",
       "414132                 2.0                  NaN  \n",
       "414133                 2.0                  NaN  \n",
       "414134                 2.0                  NaN  \n",
       "414135                 2.0                  NaN  \n",
       "445881                 0.0                  0.0  \n",
       "\n",
       "[164 rows x 6 columns]"
      ],
      "text/html": [
       "<div>\n",
       "<style scoped>\n",
       "    .dataframe tbody tr th:only-of-type {\n",
       "        vertical-align: middle;\n",
       "    }\n",
       "\n",
       "    .dataframe tbody tr th {\n",
       "        vertical-align: top;\n",
       "    }\n",
       "\n",
       "    .dataframe thead th {\n",
       "        text-align: right;\n",
       "    }\n",
       "</style>\n",
       "<table border=\"1\" class=\"dataframe\">\n",
       "  <thead>\n",
       "    <tr style=\"text-align: right;\">\n",
       "      <th></th>\n",
       "      <th>listing_id</th>\n",
       "      <th>min_days</th>\n",
       "      <th>date_from</th>\n",
       "      <th>date_to</th>\n",
       "      <th>price_per_day_from</th>\n",
       "      <th>price_per_week_from</th>\n",
       "    </tr>\n",
       "  </thead>\n",
       "  <tbody>\n",
       "    <tr>\n",
       "      <th>22175</th>\n",
       "      <td>f3b75783-7156-5644-b032-b4cbb2cc239c</td>\n",
       "      <td>6.0</td>\n",
       "      <td>2019-09-15</td>\n",
       "      <td>2019-10-20</td>\n",
       "      <td>1.0</td>\n",
       "      <td>NaN</td>\n",
       "    </tr>\n",
       "    <tr>\n",
       "      <th>22176</th>\n",
       "      <td>f3b75783-7156-5644-b032-b4cbb2cc239c</td>\n",
       "      <td>3.0</td>\n",
       "      <td>2019-10-20</td>\n",
       "      <td>2019-12-21</td>\n",
       "      <td>1.0</td>\n",
       "      <td>NaN</td>\n",
       "    </tr>\n",
       "    <tr>\n",
       "      <th>22177</th>\n",
       "      <td>f3b75783-7156-5644-b032-b4cbb2cc239c</td>\n",
       "      <td>7.0</td>\n",
       "      <td>2019-12-21</td>\n",
       "      <td>2020-01-07</td>\n",
       "      <td>1.0</td>\n",
       "      <td>NaN</td>\n",
       "    </tr>\n",
       "    <tr>\n",
       "      <th>22178</th>\n",
       "      <td>f3b75783-7156-5644-b032-b4cbb2cc239c</td>\n",
       "      <td>3.0</td>\n",
       "      <td>2020-01-07</td>\n",
       "      <td>2020-04-30</td>\n",
       "      <td>1.0</td>\n",
       "      <td>NaN</td>\n",
       "    </tr>\n",
       "    <tr>\n",
       "      <th>22179</th>\n",
       "      <td>f3b75783-7156-5644-b032-b4cbb2cc239c</td>\n",
       "      <td>6.0</td>\n",
       "      <td>2019-05-01</td>\n",
       "      <td>2019-06-29</td>\n",
       "      <td>1.0</td>\n",
       "      <td>NaN</td>\n",
       "    </tr>\n",
       "    <tr>\n",
       "      <th>...</th>\n",
       "      <td>...</td>\n",
       "      <td>...</td>\n",
       "      <td>...</td>\n",
       "      <td>...</td>\n",
       "      <td>...</td>\n",
       "      <td>...</td>\n",
       "    </tr>\n",
       "    <tr>\n",
       "      <th>414132</th>\n",
       "      <td>c0794503-406d-5e62-8d8d-f8bf55feeb91</td>\n",
       "      <td>NaN</td>\n",
       "      <td>2020-12-20</td>\n",
       "      <td>2020-12-21</td>\n",
       "      <td>2.0</td>\n",
       "      <td>NaN</td>\n",
       "    </tr>\n",
       "    <tr>\n",
       "      <th>414133</th>\n",
       "      <td>c0794503-406d-5e62-8d8d-f8bf55feeb91</td>\n",
       "      <td>3.0</td>\n",
       "      <td>2020-12-24</td>\n",
       "      <td>2020-12-25</td>\n",
       "      <td>2.0</td>\n",
       "      <td>NaN</td>\n",
       "    </tr>\n",
       "    <tr>\n",
       "      <th>414134</th>\n",
       "      <td>c0794503-406d-5e62-8d8d-f8bf55feeb91</td>\n",
       "      <td>NaN</td>\n",
       "      <td>2020-12-27</td>\n",
       "      <td>2020-12-28</td>\n",
       "      <td>2.0</td>\n",
       "      <td>NaN</td>\n",
       "    </tr>\n",
       "    <tr>\n",
       "      <th>414135</th>\n",
       "      <td>c0794503-406d-5e62-8d8d-f8bf55feeb91</td>\n",
       "      <td>3.0</td>\n",
       "      <td>2020-12-31</td>\n",
       "      <td>2021-01-01</td>\n",
       "      <td>2.0</td>\n",
       "      <td>NaN</td>\n",
       "    </tr>\n",
       "    <tr>\n",
       "      <th>445881</th>\n",
       "      <td>6964d097-9ee9-529a-91c9-77bc66a50878</td>\n",
       "      <td>1.0</td>\n",
       "      <td>2019-09-01</td>\n",
       "      <td>2020-06-01</td>\n",
       "      <td>0.0</td>\n",
       "      <td>0.0</td>\n",
       "    </tr>\n",
       "  </tbody>\n",
       "</table>\n",
       "<p>164 rows × 6 columns</p>\n",
       "</div>"
      ]
     },
     "metadata": {},
     "execution_count": 5
    }
   ],
   "metadata": {}
  },
  {
   "cell_type": "code",
   "execution_count": 6,
   "source": [
    "df_prices"
   ],
   "outputs": [
    {
     "output_type": "execute_result",
     "data": {
      "text/plain": [
       "                                  listing_id  min_days  date_from    date_to  \\\n",
       "0       fbd74bce-23dd-53e7-b988-8beb85160d6f       5.0 2020-04-01 2020-06-15   \n",
       "1       fbd74bce-23dd-53e7-b988-8beb85160d6f       5.0 2020-06-15 2020-07-05   \n",
       "2       fbd74bce-23dd-53e7-b988-8beb85160d6f       4.0 2020-09-13 2020-11-01   \n",
       "3       fbd74bce-23dd-53e7-b988-8beb85160d6f       2.0 2020-11-01 2020-12-24   \n",
       "4       fbd74bce-23dd-53e7-b988-8beb85160d6f       5.0 2020-12-24 2021-01-07   \n",
       "...                                      ...       ...        ...        ...   \n",
       "496970  ab6fd3ee-a49a-5dc5-bc67-784515bccde7       4.0 2021-03-29 2021-04-12   \n",
       "496971  ab6fd3ee-a49a-5dc5-bc67-784515bccde7       4.0 2021-04-12 2021-06-28   \n",
       "496972  ab6fd3ee-a49a-5dc5-bc67-784515bccde7       4.0 2021-06-28 2021-08-30   \n",
       "496973  ab6fd3ee-a49a-5dc5-bc67-784515bccde7       4.0 2021-08-30 2021-12-20   \n",
       "496974  ab6fd3ee-a49a-5dc5-bc67-784515bccde7       4.0 2021-12-20 2022-01-02   \n",
       "\n",
       "        price_per_day_from  price_per_week_from  \n",
       "0                     70.0                  NaN  \n",
       "1                     78.0                  NaN  \n",
       "2                     70.0                  NaN  \n",
       "3                     58.0                  NaN  \n",
       "4                     80.0                  NaN  \n",
       "...                    ...                  ...  \n",
       "496970               109.0                  NaN  \n",
       "496971                99.0                  NaN  \n",
       "496972               109.0                  NaN  \n",
       "496973                79.0                  NaN  \n",
       "496974               109.0                  NaN  \n",
       "\n",
       "[496975 rows x 6 columns]"
      ],
      "text/html": [
       "<div>\n",
       "<style scoped>\n",
       "    .dataframe tbody tr th:only-of-type {\n",
       "        vertical-align: middle;\n",
       "    }\n",
       "\n",
       "    .dataframe tbody tr th {\n",
       "        vertical-align: top;\n",
       "    }\n",
       "\n",
       "    .dataframe thead th {\n",
       "        text-align: right;\n",
       "    }\n",
       "</style>\n",
       "<table border=\"1\" class=\"dataframe\">\n",
       "  <thead>\n",
       "    <tr style=\"text-align: right;\">\n",
       "      <th></th>\n",
       "      <th>listing_id</th>\n",
       "      <th>min_days</th>\n",
       "      <th>date_from</th>\n",
       "      <th>date_to</th>\n",
       "      <th>price_per_day_from</th>\n",
       "      <th>price_per_week_from</th>\n",
       "    </tr>\n",
       "  </thead>\n",
       "  <tbody>\n",
       "    <tr>\n",
       "      <th>0</th>\n",
       "      <td>fbd74bce-23dd-53e7-b988-8beb85160d6f</td>\n",
       "      <td>5.0</td>\n",
       "      <td>2020-04-01</td>\n",
       "      <td>2020-06-15</td>\n",
       "      <td>70.0</td>\n",
       "      <td>NaN</td>\n",
       "    </tr>\n",
       "    <tr>\n",
       "      <th>1</th>\n",
       "      <td>fbd74bce-23dd-53e7-b988-8beb85160d6f</td>\n",
       "      <td>5.0</td>\n",
       "      <td>2020-06-15</td>\n",
       "      <td>2020-07-05</td>\n",
       "      <td>78.0</td>\n",
       "      <td>NaN</td>\n",
       "    </tr>\n",
       "    <tr>\n",
       "      <th>2</th>\n",
       "      <td>fbd74bce-23dd-53e7-b988-8beb85160d6f</td>\n",
       "      <td>4.0</td>\n",
       "      <td>2020-09-13</td>\n",
       "      <td>2020-11-01</td>\n",
       "      <td>70.0</td>\n",
       "      <td>NaN</td>\n",
       "    </tr>\n",
       "    <tr>\n",
       "      <th>3</th>\n",
       "      <td>fbd74bce-23dd-53e7-b988-8beb85160d6f</td>\n",
       "      <td>2.0</td>\n",
       "      <td>2020-11-01</td>\n",
       "      <td>2020-12-24</td>\n",
       "      <td>58.0</td>\n",
       "      <td>NaN</td>\n",
       "    </tr>\n",
       "    <tr>\n",
       "      <th>4</th>\n",
       "      <td>fbd74bce-23dd-53e7-b988-8beb85160d6f</td>\n",
       "      <td>5.0</td>\n",
       "      <td>2020-12-24</td>\n",
       "      <td>2021-01-07</td>\n",
       "      <td>80.0</td>\n",
       "      <td>NaN</td>\n",
       "    </tr>\n",
       "    <tr>\n",
       "      <th>...</th>\n",
       "      <td>...</td>\n",
       "      <td>...</td>\n",
       "      <td>...</td>\n",
       "      <td>...</td>\n",
       "      <td>...</td>\n",
       "      <td>...</td>\n",
       "    </tr>\n",
       "    <tr>\n",
       "      <th>496970</th>\n",
       "      <td>ab6fd3ee-a49a-5dc5-bc67-784515bccde7</td>\n",
       "      <td>4.0</td>\n",
       "      <td>2021-03-29</td>\n",
       "      <td>2021-04-12</td>\n",
       "      <td>109.0</td>\n",
       "      <td>NaN</td>\n",
       "    </tr>\n",
       "    <tr>\n",
       "      <th>496971</th>\n",
       "      <td>ab6fd3ee-a49a-5dc5-bc67-784515bccde7</td>\n",
       "      <td>4.0</td>\n",
       "      <td>2021-04-12</td>\n",
       "      <td>2021-06-28</td>\n",
       "      <td>99.0</td>\n",
       "      <td>NaN</td>\n",
       "    </tr>\n",
       "    <tr>\n",
       "      <th>496972</th>\n",
       "      <td>ab6fd3ee-a49a-5dc5-bc67-784515bccde7</td>\n",
       "      <td>4.0</td>\n",
       "      <td>2021-06-28</td>\n",
       "      <td>2021-08-30</td>\n",
       "      <td>109.0</td>\n",
       "      <td>NaN</td>\n",
       "    </tr>\n",
       "    <tr>\n",
       "      <th>496973</th>\n",
       "      <td>ab6fd3ee-a49a-5dc5-bc67-784515bccde7</td>\n",
       "      <td>4.0</td>\n",
       "      <td>2021-08-30</td>\n",
       "      <td>2021-12-20</td>\n",
       "      <td>79.0</td>\n",
       "      <td>NaN</td>\n",
       "    </tr>\n",
       "    <tr>\n",
       "      <th>496974</th>\n",
       "      <td>ab6fd3ee-a49a-5dc5-bc67-784515bccde7</td>\n",
       "      <td>4.0</td>\n",
       "      <td>2021-12-20</td>\n",
       "      <td>2022-01-02</td>\n",
       "      <td>109.0</td>\n",
       "      <td>NaN</td>\n",
       "    </tr>\n",
       "  </tbody>\n",
       "</table>\n",
       "<p>496975 rows × 6 columns</p>\n",
       "</div>"
      ]
     },
     "metadata": {},
     "execution_count": 6
    }
   ],
   "metadata": {}
  },
  {
   "cell_type": "code",
   "execution_count": 7,
   "source": [
    "df_prices.head()"
   ],
   "outputs": [
    {
     "output_type": "execute_result",
     "data": {
      "text/plain": [
       "                             listing_id  min_days  date_from    date_to  \\\n",
       "0  fbd74bce-23dd-53e7-b988-8beb85160d6f       5.0 2020-04-01 2020-06-15   \n",
       "1  fbd74bce-23dd-53e7-b988-8beb85160d6f       5.0 2020-06-15 2020-07-05   \n",
       "2  fbd74bce-23dd-53e7-b988-8beb85160d6f       4.0 2020-09-13 2020-11-01   \n",
       "3  fbd74bce-23dd-53e7-b988-8beb85160d6f       2.0 2020-11-01 2020-12-24   \n",
       "4  fbd74bce-23dd-53e7-b988-8beb85160d6f       5.0 2020-12-24 2021-01-07   \n",
       "\n",
       "   price_per_day_from  price_per_week_from  \n",
       "0                70.0                  NaN  \n",
       "1                78.0                  NaN  \n",
       "2                70.0                  NaN  \n",
       "3                58.0                  NaN  \n",
       "4                80.0                  NaN  "
      ],
      "text/html": [
       "<div>\n",
       "<style scoped>\n",
       "    .dataframe tbody tr th:only-of-type {\n",
       "        vertical-align: middle;\n",
       "    }\n",
       "\n",
       "    .dataframe tbody tr th {\n",
       "        vertical-align: top;\n",
       "    }\n",
       "\n",
       "    .dataframe thead th {\n",
       "        text-align: right;\n",
       "    }\n",
       "</style>\n",
       "<table border=\"1\" class=\"dataframe\">\n",
       "  <thead>\n",
       "    <tr style=\"text-align: right;\">\n",
       "      <th></th>\n",
       "      <th>listing_id</th>\n",
       "      <th>min_days</th>\n",
       "      <th>date_from</th>\n",
       "      <th>date_to</th>\n",
       "      <th>price_per_day_from</th>\n",
       "      <th>price_per_week_from</th>\n",
       "    </tr>\n",
       "  </thead>\n",
       "  <tbody>\n",
       "    <tr>\n",
       "      <th>0</th>\n",
       "      <td>fbd74bce-23dd-53e7-b988-8beb85160d6f</td>\n",
       "      <td>5.0</td>\n",
       "      <td>2020-04-01</td>\n",
       "      <td>2020-06-15</td>\n",
       "      <td>70.0</td>\n",
       "      <td>NaN</td>\n",
       "    </tr>\n",
       "    <tr>\n",
       "      <th>1</th>\n",
       "      <td>fbd74bce-23dd-53e7-b988-8beb85160d6f</td>\n",
       "      <td>5.0</td>\n",
       "      <td>2020-06-15</td>\n",
       "      <td>2020-07-05</td>\n",
       "      <td>78.0</td>\n",
       "      <td>NaN</td>\n",
       "    </tr>\n",
       "    <tr>\n",
       "      <th>2</th>\n",
       "      <td>fbd74bce-23dd-53e7-b988-8beb85160d6f</td>\n",
       "      <td>4.0</td>\n",
       "      <td>2020-09-13</td>\n",
       "      <td>2020-11-01</td>\n",
       "      <td>70.0</td>\n",
       "      <td>NaN</td>\n",
       "    </tr>\n",
       "    <tr>\n",
       "      <th>3</th>\n",
       "      <td>fbd74bce-23dd-53e7-b988-8beb85160d6f</td>\n",
       "      <td>2.0</td>\n",
       "      <td>2020-11-01</td>\n",
       "      <td>2020-12-24</td>\n",
       "      <td>58.0</td>\n",
       "      <td>NaN</td>\n",
       "    </tr>\n",
       "    <tr>\n",
       "      <th>4</th>\n",
       "      <td>fbd74bce-23dd-53e7-b988-8beb85160d6f</td>\n",
       "      <td>5.0</td>\n",
       "      <td>2020-12-24</td>\n",
       "      <td>2021-01-07</td>\n",
       "      <td>80.0</td>\n",
       "      <td>NaN</td>\n",
       "    </tr>\n",
       "  </tbody>\n",
       "</table>\n",
       "</div>"
      ]
     },
     "metadata": {},
     "execution_count": 7
    }
   ],
   "metadata": {}
  },
  {
   "cell_type": "code",
   "execution_count": 8,
   "source": [
    "df_prices.describe().round()"
   ],
   "outputs": [
    {
     "output_type": "execute_result",
     "data": {
      "text/plain": [
       "       min_days  price_per_day_from  price_per_week_from\n",
       "count  496174.0            474779.0             237725.0\n",
       "mean        4.0               104.0                731.0\n",
       "std         2.0               267.0              32858.0\n",
       "min         1.0                 0.0                  0.0\n",
       "25%         3.0                64.0                420.0\n",
       "50%         4.0                85.0                550.0\n",
       "75%         6.0               120.0                763.0\n",
       "max        28.0            153153.0           16016033.0"
      ],
      "text/html": [
       "<div>\n",
       "<style scoped>\n",
       "    .dataframe tbody tr th:only-of-type {\n",
       "        vertical-align: middle;\n",
       "    }\n",
       "\n",
       "    .dataframe tbody tr th {\n",
       "        vertical-align: top;\n",
       "    }\n",
       "\n",
       "    .dataframe thead th {\n",
       "        text-align: right;\n",
       "    }\n",
       "</style>\n",
       "<table border=\"1\" class=\"dataframe\">\n",
       "  <thead>\n",
       "    <tr style=\"text-align: right;\">\n",
       "      <th></th>\n",
       "      <th>min_days</th>\n",
       "      <th>price_per_day_from</th>\n",
       "      <th>price_per_week_from</th>\n",
       "    </tr>\n",
       "  </thead>\n",
       "  <tbody>\n",
       "    <tr>\n",
       "      <th>count</th>\n",
       "      <td>496174.0</td>\n",
       "      <td>474779.0</td>\n",
       "      <td>237725.0</td>\n",
       "    </tr>\n",
       "    <tr>\n",
       "      <th>mean</th>\n",
       "      <td>4.0</td>\n",
       "      <td>104.0</td>\n",
       "      <td>731.0</td>\n",
       "    </tr>\n",
       "    <tr>\n",
       "      <th>std</th>\n",
       "      <td>2.0</td>\n",
       "      <td>267.0</td>\n",
       "      <td>32858.0</td>\n",
       "    </tr>\n",
       "    <tr>\n",
       "      <th>min</th>\n",
       "      <td>1.0</td>\n",
       "      <td>0.0</td>\n",
       "      <td>0.0</td>\n",
       "    </tr>\n",
       "    <tr>\n",
       "      <th>25%</th>\n",
       "      <td>3.0</td>\n",
       "      <td>64.0</td>\n",
       "      <td>420.0</td>\n",
       "    </tr>\n",
       "    <tr>\n",
       "      <th>50%</th>\n",
       "      <td>4.0</td>\n",
       "      <td>85.0</td>\n",
       "      <td>550.0</td>\n",
       "    </tr>\n",
       "    <tr>\n",
       "      <th>75%</th>\n",
       "      <td>6.0</td>\n",
       "      <td>120.0</td>\n",
       "      <td>763.0</td>\n",
       "    </tr>\n",
       "    <tr>\n",
       "      <th>max</th>\n",
       "      <td>28.0</td>\n",
       "      <td>153153.0</td>\n",
       "      <td>16016033.0</td>\n",
       "    </tr>\n",
       "  </tbody>\n",
       "</table>\n",
       "</div>"
      ]
     },
     "metadata": {},
     "execution_count": 8
    }
   ],
   "metadata": {}
  },
  {
   "cell_type": "code",
   "execution_count": 9,
   "source": [
    "# Step 0 - Read the dataset, calculate column correlations and make a seaborn heatmap\n",
    "corr = df_prices.corr()\n",
    "ax = sns.heatmap(\n",
    "    corr,\n",
    "    vmin=-1, vmax=1, center=0,\n",
    "    cmap=sns.diverging_palette(20, 220, n=200),\n",
    "    square=True\n",
    ")\n",
    "ax.set_xticklabels(\n",
    "    ax.get_xticklabels(),\n",
    "    rotation=45,\n",
    "    horizontalalignment='right');"
   ],
   "outputs": [
    {
     "output_type": "display_data",
     "data": {
      "text/plain": [
       "<Figure size 432x288 with 2 Axes>"
      ],
      "image/png": "[encoded data removed]"
     },
     "metadata": {
      "needs_background": "light"
     }
    }
   ],
   "metadata": {}
  },
  {
   "cell_type": "code",
   "execution_count": null,
   "source": [],
   "outputs": [],
   "metadata": {}
  },
  {
   "cell_type": "markdown",
   "source": [
    "## Clean 95th quantile"
   ],
   "metadata": {}
  },
  {
   "cell_type": "code",
   "execution_count": 10,
   "source": [
    "# Calculate .95 quantile for numerical features\n",
    "print('Quantiles 0.95 for:')\n",
    "print('days:', df_prices.price_per_day_from.quantile([.95]))\n",
    "print('weeks:', df_prices.price_per_week_from.quantile([.95]))"
   ],
   "outputs": [
    {
     "output_type": "stream",
     "name": "stdout",
     "text": [
      "Quantiles 0.95 for:\n",
      "days: 0.95    220.0\n",
      "Name: price_per_day_from, dtype: float64\n",
      "weeks: 0.95    1379.0\n",
      "Name: price_per_week_from, dtype: float64\n"
     ]
    }
   ],
   "metadata": {}
  },
  {
   "cell_type": "code",
   "execution_count": 11,
   "source": [
    "# Get names of indexes for which column filled_in_price_per_day has value higher than the 95 quintile.\n",
    "indexNames = df_prices[df_prices['price_per_day_from'] > 220 ].index\n",
    "# Delete these row indexes from dataFrame\n",
    "df_prices.drop(indexNames , inplace=True)\n",
    "\n",
    "# Get names of indexes for which column price_per_week_from has value higher than the 95 quintile.\n",
    "indexNames = df_prices[df_prices['price_per_week_from'] >  1379].index\n",
    "# Delete these row indexes from dataFrame\n",
    "df_prices.drop(indexNames , inplace=True)"
   ],
   "outputs": [],
   "metadata": {}
  },
  {
   "cell_type": "markdown",
   "source": [
    "## Translating \"price per day\" to \"price per week\", and visa versa."
   ],
   "metadata": {}
  },
  {
   "cell_type": "code",
   "execution_count": 12,
   "source": [
    "df_prices['filled_in_price_per_day']= df_prices.price_per_day_from.fillna(\n",
    "    (df_prices.price_per_week_from)/7) \n",
    "df_prices['filled_in_price_per_week'] = df_prices.price_per_week_from.fillna(\n",
    "    (df_prices.price_per_day_from)*7) \n",
    "df_prices.head()"
   ],
   "outputs": [
    {
     "output_type": "execute_result",
     "data": {
      "text/plain": [
       "                             listing_id  min_days  date_from    date_to  \\\n",
       "0  fbd74bce-23dd-53e7-b988-8beb85160d6f       5.0 2020-04-01 2020-06-15   \n",
       "1  fbd74bce-23dd-53e7-b988-8beb85160d6f       5.0 2020-06-15 2020-07-05   \n",
       "2  fbd74bce-23dd-53e7-b988-8beb85160d6f       4.0 2020-09-13 2020-11-01   \n",
       "3  fbd74bce-23dd-53e7-b988-8beb85160d6f       2.0 2020-11-01 2020-12-24   \n",
       "4  fbd74bce-23dd-53e7-b988-8beb85160d6f       5.0 2020-12-24 2021-01-07   \n",
       "\n",
       "   price_per_day_from  price_per_week_from  filled_in_price_per_day  \\\n",
       "0                70.0                  NaN                     70.0   \n",
       "1                78.0                  NaN                     78.0   \n",
       "2                70.0                  NaN                     70.0   \n",
       "3                58.0                  NaN                     58.0   \n",
       "4                80.0                  NaN                     80.0   \n",
       "\n",
       "   filled_in_price_per_week  \n",
       "0                     490.0  \n",
       "1                     546.0  \n",
       "2                     490.0  \n",
       "3                     406.0  \n",
       "4                     560.0  "
      ],
      "text/html": [
       "<div>\n",
       "<style scoped>\n",
       "    .dataframe tbody tr th:only-of-type {\n",
       "        vertical-align: middle;\n",
       "    }\n",
       "\n",
       "    .dataframe tbody tr th {\n",
       "        vertical-align: top;\n",
       "    }\n",
       "\n",
       "    .dataframe thead th {\n",
       "        text-align: right;\n",
       "    }\n",
       "</style>\n",
       "<table border=\"1\" class=\"dataframe\">\n",
       "  <thead>\n",
       "    <tr style=\"text-align: right;\">\n",
       "      <th></th>\n",
       "      <th>listing_id</th>\n",
       "      <th>min_days</th>\n",
       "      <th>date_from</th>\n",
       "      <th>date_to</th>\n",
       "      <th>price_per_day_from</th>\n",
       "      <th>price_per_week_from</th>\n",
       "      <th>filled_in_price_per_day</th>\n",
       "      <th>filled_in_price_per_week</th>\n",
       "    </tr>\n",
       "  </thead>\n",
       "  <tbody>\n",
       "    <tr>\n",
       "      <th>0</th>\n",
       "      <td>fbd74bce-23dd-53e7-b988-8beb85160d6f</td>\n",
       "      <td>5.0</td>\n",
       "      <td>2020-04-01</td>\n",
       "      <td>2020-06-15</td>\n",
       "      <td>70.0</td>\n",
       "      <td>NaN</td>\n",
       "      <td>70.0</td>\n",
       "      <td>490.0</td>\n",
       "    </tr>\n",
       "    <tr>\n",
       "      <th>1</th>\n",
       "      <td>fbd74bce-23dd-53e7-b988-8beb85160d6f</td>\n",
       "      <td>5.0</td>\n",
       "      <td>2020-06-15</td>\n",
       "      <td>2020-07-05</td>\n",
       "      <td>78.0</td>\n",
       "      <td>NaN</td>\n",
       "      <td>78.0</td>\n",
       "      <td>546.0</td>\n",
       "    </tr>\n",
       "    <tr>\n",
       "      <th>2</th>\n",
       "      <td>fbd74bce-23dd-53e7-b988-8beb85160d6f</td>\n",
       "      <td>4.0</td>\n",
       "      <td>2020-09-13</td>\n",
       "      <td>2020-11-01</td>\n",
       "      <td>70.0</td>\n",
       "      <td>NaN</td>\n",
       "      <td>70.0</td>\n",
       "      <td>490.0</td>\n",
       "    </tr>\n",
       "    <tr>\n",
       "      <th>3</th>\n",
       "      <td>fbd74bce-23dd-53e7-b988-8beb85160d6f</td>\n",
       "      <td>2.0</td>\n",
       "      <td>2020-11-01</td>\n",
       "      <td>2020-12-24</td>\n",
       "      <td>58.0</td>\n",
       "      <td>NaN</td>\n",
       "      <td>58.0</td>\n",
       "      <td>406.0</td>\n",
       "    </tr>\n",
       "    <tr>\n",
       "      <th>4</th>\n",
       "      <td>fbd74bce-23dd-53e7-b988-8beb85160d6f</td>\n",
       "      <td>5.0</td>\n",
       "      <td>2020-12-24</td>\n",
       "      <td>2021-01-07</td>\n",
       "      <td>80.0</td>\n",
       "      <td>NaN</td>\n",
       "      <td>80.0</td>\n",
       "      <td>560.0</td>\n",
       "    </tr>\n",
       "  </tbody>\n",
       "</table>\n",
       "</div>"
      ]
     },
     "metadata": {},
     "execution_count": 12
    }
   ],
   "metadata": {}
  },
  {
   "cell_type": "markdown",
   "source": [
    "## Checking work"
   ],
   "metadata": {}
  },
  {
   "cell_type": "code",
   "execution_count": 13,
   "source": [
    "\n",
    "df_prices['price_per_week_from'].isna().value_counts()"
   ],
   "outputs": [
    {
     "output_type": "execute_result",
     "data": {
      "text/plain": [
       "True     244742\n",
       "False    224683\n",
       "Name: price_per_week_from, dtype: int64"
      ]
     },
     "metadata": {},
     "execution_count": 13
    }
   ],
   "metadata": {}
  },
  {
   "cell_type": "code",
   "execution_count": 14,
   "source": [
    "df_prices['filled_in_price_per_week'].isna().value_counts()"
   ],
   "outputs": [
    {
     "output_type": "execute_result",
     "data": {
      "text/plain": [
       "False    466319\n",
       "True       3106\n",
       "Name: filled_in_price_per_week, dtype: int64"
      ]
     },
     "metadata": {},
     "execution_count": 14
    }
   ],
   "metadata": {}
  },
  {
   "cell_type": "markdown",
   "source": [
    "Not Nan should be reduced but still exist when there was not price set in either column."
   ],
   "metadata": {}
  },
  {
   "cell_type": "markdown",
   "source": [
    "## Validating whether 999 and 9999 are real values"
   ],
   "metadata": {}
  },
  {
   "cell_type": "code",
   "execution_count": 15,
   "source": [
    "df_prices['filled_in_price_per_day'].isna().value_counts()"
   ],
   "outputs": [
    {
     "output_type": "execute_result",
     "data": {
      "text/plain": [
       "False    466319\n",
       "True       3106\n",
       "Name: filled_in_price_per_day, dtype: int64"
      ]
     },
     "metadata": {},
     "execution_count": 15
    }
   ],
   "metadata": {}
  },
  {
   "cell_type": "code",
   "execution_count": 16,
   "source": [
    "# Step 0 - Read the dataset, calculate column correlations and make a seaborn heatmap\n",
    "corr = df_prices.corr()\n",
    "ax = sns.heatmap(\n",
    "    corr,\n",
    "    vmin=-1, vmax=1, center=0,\n",
    "    cmap=sns.diverging_palette(20, 220, n=200),\n",
    "    square=True\n",
    ")\n",
    "ax.set_xticklabels(\n",
    "    ax.get_xticklabels(),\n",
    "    rotation=45,\n",
    "    horizontalalignment='right');"
   ],
   "outputs": [
    {
     "output_type": "display_data",
     "data": {
      "text/plain": [
       "<Figure size 432x288 with 2 Axes>"
      ],
      "image/png": "[encoded data removed]"
     },
     "metadata": {
      "needs_background": "light"
     }
    }
   ],
   "metadata": {}
  },
  {
   "cell_type": "code",
   "execution_count": 17,
   "source": [
    "df_prices.query('filled_in_price_per_day == 9999 or filled_in_price_per_day == 999') "
   ],
   "outputs": [
    {
     "output_type": "execute_result",
     "data": {
      "text/plain": [
       "Empty DataFrame\n",
       "Columns: [listing_id, min_days, date_from, date_to, price_per_day_from, price_per_week_from, filled_in_price_per_day, filled_in_price_per_week]\n",
       "Index: []"
      ],
      "text/html": [
       "<div>\n",
       "<style scoped>\n",
       "    .dataframe tbody tr th:only-of-type {\n",
       "        vertical-align: middle;\n",
       "    }\n",
       "\n",
       "    .dataframe tbody tr th {\n",
       "        vertical-align: top;\n",
       "    }\n",
       "\n",
       "    .dataframe thead th {\n",
       "        text-align: right;\n",
       "    }\n",
       "</style>\n",
       "<table border=\"1\" class=\"dataframe\">\n",
       "  <thead>\n",
       "    <tr style=\"text-align: right;\">\n",
       "      <th></th>\n",
       "      <th>listing_id</th>\n",
       "      <th>min_days</th>\n",
       "      <th>date_from</th>\n",
       "      <th>date_to</th>\n",
       "      <th>price_per_day_from</th>\n",
       "      <th>price_per_week_from</th>\n",
       "      <th>filled_in_price_per_day</th>\n",
       "      <th>filled_in_price_per_week</th>\n",
       "    </tr>\n",
       "  </thead>\n",
       "  <tbody>\n",
       "  </tbody>\n",
       "</table>\n",
       "</div>"
      ]
     },
     "metadata": {},
     "execution_count": 17
    }
   ],
   "metadata": {}
  },
  {
   "cell_type": "code",
   "execution_count": 18,
   "source": [
    "df_prices.query('filled_in_price_per_day == 9999 or filled_in_price_per_day == 999').count()"
   ],
   "outputs": [
    {
     "output_type": "execute_result",
     "data": {
      "text/plain": [
       "listing_id                  0\n",
       "min_days                    0\n",
       "date_from                   0\n",
       "date_to                     0\n",
       "price_per_day_from          0\n",
       "price_per_week_from         0\n",
       "filled_in_price_per_day     0\n",
       "filled_in_price_per_week    0\n",
       "dtype: int64"
      ]
     },
     "metadata": {},
     "execution_count": 18
    }
   ],
   "metadata": {}
  },
  {
   "cell_type": "code",
   "execution_count": 19,
   "source": [
    "smf.ols(formula='price_per_week_from ~ price_per_day_from', data=df_prices).fit().summary()"
   ],
   "outputs": [
    {
     "output_type": "execute_result",
     "data": {
      "text/plain": [
       "<class 'statsmodels.iolib.summary.Summary'>\n",
       "\"\"\"\n",
       "                             OLS Regression Results                            \n",
       "===============================================================================\n",
       "Dep. Variable:     price_per_week_from   R-squared:                       0.917\n",
       "Model:                             OLS   Adj. R-squared:                  0.917\n",
       "Method:                  Least Squares   F-statistic:                 2.305e+06\n",
       "Date:                 Tue, 20 Jul 2021   Prob (F-statistic):               0.00\n",
       "Time:                         09:52:22   Log-Likelihood:            -1.1725e+06\n",
       "No. Observations:               207592   AIC:                         2.345e+06\n",
       "Df Residuals:                   207590   BIC:                         2.345e+06\n",
       "Df Model:                            1                                         \n",
       "Covariance Type:             nonrobust                                         \n",
       "======================================================================================\n",
       "                         coef    std err          t      P>|t|      [0.025      0.975]\n",
       "--------------------------------------------------------------------------------------\n",
       "Intercept             34.5122      0.389     88.790      0.000      33.750      35.274\n",
       "price_per_day_from     6.3578      0.004   1518.151      0.000       6.350       6.366\n",
       "==============================================================================\n",
       "Omnibus:                   185408.660   Durbin-Watson:                   0.542\n",
       "Prob(Omnibus):                  0.000   Jarque-Bera (JB):          9497017.181\n",
       "Skew:                          -4.163   Prob(JB):                         0.00\n",
       "Kurtosis:                      35.072   Cond. No.                         239.\n",
       "==============================================================================\n",
       "\n",
       "Notes:\n",
       "[1] Standard Errors assume that the covariance matrix of the errors is correctly specified.\n",
       "\"\"\""
      ],
      "text/html": [
       "<table class=\"simpletable\">\n",
       "<caption>OLS Regression Results</caption>\n",
       "<tr>\n",
       "  <th>Dep. Variable:</th>    <td>price_per_week_from</td> <th>  R-squared:         </th>  <td>   0.917</td>  \n",
       "</tr>\n",
       "<tr>\n",
       "  <th>Model:</th>                    <td>OLS</td>         <th>  Adj. R-squared:    </th>  <td>   0.917</td>  \n",
       "</tr>\n",
       "<tr>\n",
       "  <th>Method:</th>              <td>Least Squares</td>    <th>  F-statistic:       </th>  <td>2.305e+06</td> \n",
       "</tr>\n",
       "<tr>\n",
       "  <th>Date:</th>              <td>Tue, 20 Jul 2021</td>   <th>  Prob (F-statistic):</th>   <td>  0.00</td>   \n",
       "</tr>\n",
       "<tr>\n",
       "  <th>Time:</th>                  <td>09:52:22</td>       <th>  Log-Likelihood:    </th> <td>-1.1725e+06</td>\n",
       "</tr>\n",
       "<tr>\n",
       "  <th>No. Observations:</th>       <td>207592</td>        <th>  AIC:               </th>  <td>2.345e+06</td> \n",
       "</tr>\n",
       "<tr>\n",
       "  <th>Df Residuals:</th>           <td>207590</td>        <th>  BIC:               </th>  <td>2.345e+06</td> \n",
       "</tr>\n",
       "<tr>\n",
       "  <th>Df Model:</th>               <td>     1</td>        <th>                     </th>      <td> </td>     \n",
       "</tr>\n",
       "<tr>\n",
       "  <th>Covariance Type:</th>       <td>nonrobust</td>      <th>                     </th>      <td> </td>     \n",
       "</tr>\n",
       "</table>\n",
       "<table class=\"simpletable\">\n",
       "<tr>\n",
       "           <td></td>             <th>coef</th>     <th>std err</th>      <th>t</th>      <th>P>|t|</th>  <th>[0.025</th>    <th>0.975]</th>  \n",
       "</tr>\n",
       "<tr>\n",
       "  <th>Intercept</th>          <td>   34.5122</td> <td>    0.389</td> <td>   88.790</td> <td> 0.000</td> <td>   33.750</td> <td>   35.274</td>\n",
       "</tr>\n",
       "<tr>\n",
       "  <th>price_per_day_from</th> <td>    6.3578</td> <td>    0.004</td> <td> 1518.151</td> <td> 0.000</td> <td>    6.350</td> <td>    6.366</td>\n",
       "</tr>\n",
       "</table>\n",
       "<table class=\"simpletable\">\n",
       "<tr>\n",
       "  <th>Omnibus:</th>       <td>185408.660</td> <th>  Durbin-Watson:     </th>  <td>   0.542</td>  \n",
       "</tr>\n",
       "<tr>\n",
       "  <th>Prob(Omnibus):</th>   <td> 0.000</td>   <th>  Jarque-Bera (JB):  </th> <td>9497017.181</td>\n",
       "</tr>\n",
       "<tr>\n",
       "  <th>Skew:</th>            <td>-4.163</td>   <th>  Prob(JB):          </th>  <td>    0.00</td>  \n",
       "</tr>\n",
       "<tr>\n",
       "  <th>Kurtosis:</th>        <td>35.072</td>   <th>  Cond. No.          </th>  <td>    239.</td>  \n",
       "</tr>\n",
       "</table><br/><br/>Notes:<br/>[1] Standard Errors assume that the covariance matrix of the errors is correctly specified."
      ]
     },
     "metadata": {},
     "execution_count": 19
    }
   ],
   "metadata": {}
  },
  {
   "cell_type": "markdown",
   "source": [
    "As only 21 entries were 999 or 9999 was only in the weeks column, we have determined that 999 and 9999 are common placeholder values in this data set. "
   ],
   "metadata": {}
  },
  {
   "cell_type": "markdown",
   "source": [
    "## Checking that there are not an abundance of placeholder values (i.e. 0 or 1)."
   ],
   "metadata": {}
  },
  {
   "cell_type": "code",
   "execution_count": 20,
   "source": [
    "df_prices.query('filled_in_price_per_day == 1234').count()"
   ],
   "outputs": [
    {
     "output_type": "execute_result",
     "data": {
      "text/plain": [
       "listing_id                  0\n",
       "min_days                    0\n",
       "date_from                   0\n",
       "date_to                     0\n",
       "price_per_day_from          0\n",
       "price_per_week_from         0\n",
       "filled_in_price_per_day     0\n",
       "filled_in_price_per_week    0\n",
       "dtype: int64"
      ]
     },
     "metadata": {},
     "execution_count": 20
    }
   ],
   "metadata": {}
  },
  {
   "cell_type": "markdown",
   "source": [
    "## Replacing all values of 0, 1, 999, and 9999."
   ],
   "metadata": {}
  },
  {
   "cell_type": "code",
   "execution_count": 21,
   "source": [
    "df_prices['filled_in_price_per_day']= df_prices.filled_in_price_per_day.replace(\n",
    "    [0, 1, 999, 9999], [np.NaN, np.NaN, np.NaN, np.NaN])\n",
    "df_prices['filled_in_price_per_week']= df_prices.filled_in_price_per_week.replace(\n",
    "    [0, 1, 999, 9999], [np.NaN, np.NaN, np.NaN, np.NaN])"
   ],
   "outputs": [],
   "metadata": {}
  },
  {
   "cell_type": "markdown",
   "source": [
    "## Searching for nonsense prices"
   ],
   "metadata": {}
  },
  {
   "cell_type": "code",
   "execution_count": 22,
   "source": [
    "bad_data = df_prices.filled_in_price_per_day >= df_prices.filled_in_price_per_week\n",
    "bad_data.value_counts()"
   ],
   "outputs": [
    {
     "output_type": "execute_result",
     "data": {
      "text/plain": [
       "False    469369\n",
       "True         56\n",
       "dtype: int64"
      ]
     },
     "metadata": {},
     "execution_count": 22
    }
   ],
   "metadata": {}
  },
  {
   "cell_type": "code",
   "execution_count": 23,
   "source": [
    "df_prices.query('filled_in_price_per_day >= 5000')"
   ],
   "outputs": [
    {
     "output_type": "execute_result",
     "data": {
      "text/plain": [
       "Empty DataFrame\n",
       "Columns: [listing_id, min_days, date_from, date_to, price_per_day_from, price_per_week_from, filled_in_price_per_day, filled_in_price_per_week]\n",
       "Index: []"
      ],
      "text/html": [
       "<div>\n",
       "<style scoped>\n",
       "    .dataframe tbody tr th:only-of-type {\n",
       "        vertical-align: middle;\n",
       "    }\n",
       "\n",
       "    .dataframe tbody tr th {\n",
       "        vertical-align: top;\n",
       "    }\n",
       "\n",
       "    .dataframe thead th {\n",
       "        text-align: right;\n",
       "    }\n",
       "</style>\n",
       "<table border=\"1\" class=\"dataframe\">\n",
       "  <thead>\n",
       "    <tr style=\"text-align: right;\">\n",
       "      <th></th>\n",
       "      <th>listing_id</th>\n",
       "      <th>min_days</th>\n",
       "      <th>date_from</th>\n",
       "      <th>date_to</th>\n",
       "      <th>price_per_day_from</th>\n",
       "      <th>price_per_week_from</th>\n",
       "      <th>filled_in_price_per_day</th>\n",
       "      <th>filled_in_price_per_week</th>\n",
       "    </tr>\n",
       "  </thead>\n",
       "  <tbody>\n",
       "  </tbody>\n",
       "</table>\n",
       "</div>"
      ]
     },
     "metadata": {},
     "execution_count": 23
    }
   ],
   "metadata": {}
  },
  {
   "cell_type": "code",
   "execution_count": 24,
   "source": [
    "df_prices.head()"
   ],
   "outputs": [
    {
     "output_type": "execute_result",
     "data": {
      "text/plain": [
       "                             listing_id  min_days  date_from    date_to  \\\n",
       "0  fbd74bce-23dd-53e7-b988-8beb85160d6f       5.0 2020-04-01 2020-06-15   \n",
       "1  fbd74bce-23dd-53e7-b988-8beb85160d6f       5.0 2020-06-15 2020-07-05   \n",
       "2  fbd74bce-23dd-53e7-b988-8beb85160d6f       4.0 2020-09-13 2020-11-01   \n",
       "3  fbd74bce-23dd-53e7-b988-8beb85160d6f       2.0 2020-11-01 2020-12-24   \n",
       "4  fbd74bce-23dd-53e7-b988-8beb85160d6f       5.0 2020-12-24 2021-01-07   \n",
       "\n",
       "   price_per_day_from  price_per_week_from  filled_in_price_per_day  \\\n",
       "0                70.0                  NaN                     70.0   \n",
       "1                78.0                  NaN                     78.0   \n",
       "2                70.0                  NaN                     70.0   \n",
       "3                58.0                  NaN                     58.0   \n",
       "4                80.0                  NaN                     80.0   \n",
       "\n",
       "   filled_in_price_per_week  \n",
       "0                     490.0  \n",
       "1                     546.0  \n",
       "2                     490.0  \n",
       "3                     406.0  \n",
       "4                     560.0  "
      ],
      "text/html": [
       "<div>\n",
       "<style scoped>\n",
       "    .dataframe tbody tr th:only-of-type {\n",
       "        vertical-align: middle;\n",
       "    }\n",
       "\n",
       "    .dataframe tbody tr th {\n",
       "        vertical-align: top;\n",
       "    }\n",
       "\n",
       "    .dataframe thead th {\n",
       "        text-align: right;\n",
       "    }\n",
       "</style>\n",
       "<table border=\"1\" class=\"dataframe\">\n",
       "  <thead>\n",
       "    <tr style=\"text-align: right;\">\n",
       "      <th></th>\n",
       "      <th>listing_id</th>\n",
       "      <th>min_days</th>\n",
       "      <th>date_from</th>\n",
       "      <th>date_to</th>\n",
       "      <th>price_per_day_from</th>\n",
       "      <th>price_per_week_from</th>\n",
       "      <th>filled_in_price_per_day</th>\n",
       "      <th>filled_in_price_per_week</th>\n",
       "    </tr>\n",
       "  </thead>\n",
       "  <tbody>\n",
       "    <tr>\n",
       "      <th>0</th>\n",
       "      <td>fbd74bce-23dd-53e7-b988-8beb85160d6f</td>\n",
       "      <td>5.0</td>\n",
       "      <td>2020-04-01</td>\n",
       "      <td>2020-06-15</td>\n",
       "      <td>70.0</td>\n",
       "      <td>NaN</td>\n",
       "      <td>70.0</td>\n",
       "      <td>490.0</td>\n",
       "    </tr>\n",
       "    <tr>\n",
       "      <th>1</th>\n",
       "      <td>fbd74bce-23dd-53e7-b988-8beb85160d6f</td>\n",
       "      <td>5.0</td>\n",
       "      <td>2020-06-15</td>\n",
       "      <td>2020-07-05</td>\n",
       "      <td>78.0</td>\n",
       "      <td>NaN</td>\n",
       "      <td>78.0</td>\n",
       "      <td>546.0</td>\n",
       "    </tr>\n",
       "    <tr>\n",
       "      <th>2</th>\n",
       "      <td>fbd74bce-23dd-53e7-b988-8beb85160d6f</td>\n",
       "      <td>4.0</td>\n",
       "      <td>2020-09-13</td>\n",
       "      <td>2020-11-01</td>\n",
       "      <td>70.0</td>\n",
       "      <td>NaN</td>\n",
       "      <td>70.0</td>\n",
       "      <td>490.0</td>\n",
       "    </tr>\n",
       "    <tr>\n",
       "      <th>3</th>\n",
       "      <td>fbd74bce-23dd-53e7-b988-8beb85160d6f</td>\n",
       "      <td>2.0</td>\n",
       "      <td>2020-11-01</td>\n",
       "      <td>2020-12-24</td>\n",
       "      <td>58.0</td>\n",
       "      <td>NaN</td>\n",
       "      <td>58.0</td>\n",
       "      <td>406.0</td>\n",
       "    </tr>\n",
       "    <tr>\n",
       "      <th>4</th>\n",
       "      <td>fbd74bce-23dd-53e7-b988-8beb85160d6f</td>\n",
       "      <td>5.0</td>\n",
       "      <td>2020-12-24</td>\n",
       "      <td>2021-01-07</td>\n",
       "      <td>80.0</td>\n",
       "      <td>NaN</td>\n",
       "      <td>80.0</td>\n",
       "      <td>560.0</td>\n",
       "    </tr>\n",
       "  </tbody>\n",
       "</table>\n",
       "</div>"
      ]
     },
     "metadata": {},
     "execution_count": 24
    }
   ],
   "metadata": {}
  },
  {
   "cell_type": "markdown",
   "source": [
    "## Deleting bad data"
   ],
   "metadata": {}
  },
  {
   "cell_type": "code",
   "execution_count": 25,
   "source": [
    "# Get names of indexes for which column filled_in_price_per_day has value greater than or equal to filled_in_price_per_week\n",
    "indexNames2 = df_prices[df_prices['filled_in_price_per_day'] >= df_prices['filled_in_price_per_week']].index\n",
    "# Delete these row indexes from dataFrame\n",
    "df_prices.drop(indexNames2 , inplace=True)"
   ],
   "outputs": [],
   "metadata": {}
  },
  {
   "cell_type": "code",
   "execution_count": 26,
   "source": [
    "# Get names of indexes for which column filled_in_price_per_week over 1_000_000\n",
    "indexNames = df_prices[df_prices['filled_in_price_per_week'] >= 140_000 ].index\n",
    "# Delete these row indexes from dataFrame\n",
    "df_prices.drop(indexNames , inplace=True)"
   ],
   "outputs": [],
   "metadata": {}
  },
  {
   "cell_type": "code",
   "execution_count": 27,
   "source": [
    "df_prices.head()"
   ],
   "outputs": [
    {
     "output_type": "execute_result",
     "data": {
      "text/plain": [
       "                             listing_id  min_days  date_from    date_to  \\\n",
       "0  fbd74bce-23dd-53e7-b988-8beb85160d6f       5.0 2020-04-01 2020-06-15   \n",
       "1  fbd74bce-23dd-53e7-b988-8beb85160d6f       5.0 2020-06-15 2020-07-05   \n",
       "2  fbd74bce-23dd-53e7-b988-8beb85160d6f       4.0 2020-09-13 2020-11-01   \n",
       "3  fbd74bce-23dd-53e7-b988-8beb85160d6f       2.0 2020-11-01 2020-12-24   \n",
       "4  fbd74bce-23dd-53e7-b988-8beb85160d6f       5.0 2020-12-24 2021-01-07   \n",
       "\n",
       "   price_per_day_from  price_per_week_from  filled_in_price_per_day  \\\n",
       "0                70.0                  NaN                     70.0   \n",
       "1                78.0                  NaN                     78.0   \n",
       "2                70.0                  NaN                     70.0   \n",
       "3                58.0                  NaN                     58.0   \n",
       "4                80.0                  NaN                     80.0   \n",
       "\n",
       "   filled_in_price_per_week  \n",
       "0                     490.0  \n",
       "1                     546.0  \n",
       "2                     490.0  \n",
       "3                     406.0  \n",
       "4                     560.0  "
      ],
      "text/html": [
       "<div>\n",
       "<style scoped>\n",
       "    .dataframe tbody tr th:only-of-type {\n",
       "        vertical-align: middle;\n",
       "    }\n",
       "\n",
       "    .dataframe tbody tr th {\n",
       "        vertical-align: top;\n",
       "    }\n",
       "\n",
       "    .dataframe thead th {\n",
       "        text-align: right;\n",
       "    }\n",
       "</style>\n",
       "<table border=\"1\" class=\"dataframe\">\n",
       "  <thead>\n",
       "    <tr style=\"text-align: right;\">\n",
       "      <th></th>\n",
       "      <th>listing_id</th>\n",
       "      <th>min_days</th>\n",
       "      <th>date_from</th>\n",
       "      <th>date_to</th>\n",
       "      <th>price_per_day_from</th>\n",
       "      <th>price_per_week_from</th>\n",
       "      <th>filled_in_price_per_day</th>\n",
       "      <th>filled_in_price_per_week</th>\n",
       "    </tr>\n",
       "  </thead>\n",
       "  <tbody>\n",
       "    <tr>\n",
       "      <th>0</th>\n",
       "      <td>fbd74bce-23dd-53e7-b988-8beb85160d6f</td>\n",
       "      <td>5.0</td>\n",
       "      <td>2020-04-01</td>\n",
       "      <td>2020-06-15</td>\n",
       "      <td>70.0</td>\n",
       "      <td>NaN</td>\n",
       "      <td>70.0</td>\n",
       "      <td>490.0</td>\n",
       "    </tr>\n",
       "    <tr>\n",
       "      <th>1</th>\n",
       "      <td>fbd74bce-23dd-53e7-b988-8beb85160d6f</td>\n",
       "      <td>5.0</td>\n",
       "      <td>2020-06-15</td>\n",
       "      <td>2020-07-05</td>\n",
       "      <td>78.0</td>\n",
       "      <td>NaN</td>\n",
       "      <td>78.0</td>\n",
       "      <td>546.0</td>\n",
       "    </tr>\n",
       "    <tr>\n",
       "      <th>2</th>\n",
       "      <td>fbd74bce-23dd-53e7-b988-8beb85160d6f</td>\n",
       "      <td>4.0</td>\n",
       "      <td>2020-09-13</td>\n",
       "      <td>2020-11-01</td>\n",
       "      <td>70.0</td>\n",
       "      <td>NaN</td>\n",
       "      <td>70.0</td>\n",
       "      <td>490.0</td>\n",
       "    </tr>\n",
       "    <tr>\n",
       "      <th>3</th>\n",
       "      <td>fbd74bce-23dd-53e7-b988-8beb85160d6f</td>\n",
       "      <td>2.0</td>\n",
       "      <td>2020-11-01</td>\n",
       "      <td>2020-12-24</td>\n",
       "      <td>58.0</td>\n",
       "      <td>NaN</td>\n",
       "      <td>58.0</td>\n",
       "      <td>406.0</td>\n",
       "    </tr>\n",
       "    <tr>\n",
       "      <th>4</th>\n",
       "      <td>fbd74bce-23dd-53e7-b988-8beb85160d6f</td>\n",
       "      <td>5.0</td>\n",
       "      <td>2020-12-24</td>\n",
       "      <td>2021-01-07</td>\n",
       "      <td>80.0</td>\n",
       "      <td>NaN</td>\n",
       "      <td>80.0</td>\n",
       "      <td>560.0</td>\n",
       "    </tr>\n",
       "  </tbody>\n",
       "</table>\n",
       "</div>"
      ]
     },
     "metadata": {},
     "execution_count": 27
    }
   ],
   "metadata": {}
  },
  {
   "cell_type": "markdown",
   "source": [
    "## Checking high values"
   ],
   "metadata": {}
  },
  {
   "cell_type": "code",
   "execution_count": 28,
   "source": [
    "df_prices.query('filled_in_price_per_day >= 5000')"
   ],
   "outputs": [
    {
     "output_type": "execute_result",
     "data": {
      "text/plain": [
       "Empty DataFrame\n",
       "Columns: [listing_id, min_days, date_from, date_to, price_per_day_from, price_per_week_from, filled_in_price_per_day, filled_in_price_per_week]\n",
       "Index: []"
      ],
      "text/html": [
       "<div>\n",
       "<style scoped>\n",
       "    .dataframe tbody tr th:only-of-type {\n",
       "        vertical-align: middle;\n",
       "    }\n",
       "\n",
       "    .dataframe tbody tr th {\n",
       "        vertical-align: top;\n",
       "    }\n",
       "\n",
       "    .dataframe thead th {\n",
       "        text-align: right;\n",
       "    }\n",
       "</style>\n",
       "<table border=\"1\" class=\"dataframe\">\n",
       "  <thead>\n",
       "    <tr style=\"text-align: right;\">\n",
       "      <th></th>\n",
       "      <th>listing_id</th>\n",
       "      <th>min_days</th>\n",
       "      <th>date_from</th>\n",
       "      <th>date_to</th>\n",
       "      <th>price_per_day_from</th>\n",
       "      <th>price_per_week_from</th>\n",
       "      <th>filled_in_price_per_day</th>\n",
       "      <th>filled_in_price_per_week</th>\n",
       "    </tr>\n",
       "  </thead>\n",
       "  <tbody>\n",
       "  </tbody>\n",
       "</table>\n",
       "</div>"
      ]
     },
     "metadata": {},
     "execution_count": 28
    }
   ],
   "metadata": {}
  },
  {
   "cell_type": "markdown",
   "source": [
    "## Looking at date information"
   ],
   "metadata": {}
  },
  {
   "cell_type": "code",
   "execution_count": 29,
   "source": [
    "pd.to_datetime(df_prices.date_from)"
   ],
   "outputs": [
    {
     "output_type": "execute_result",
     "data": {
      "text/plain": [
       "0        2020-04-01\n",
       "1        2020-06-15\n",
       "2        2020-09-13\n",
       "3        2020-11-01\n",
       "4        2020-12-24\n",
       "            ...    \n",
       "496970   2021-03-29\n",
       "496971   2021-04-12\n",
       "496972   2021-06-28\n",
       "496973   2021-08-30\n",
       "496974   2021-12-20\n",
       "Name: date_from, Length: 469369, dtype: datetime64[ns]"
      ]
     },
     "metadata": {},
     "execution_count": 29
    }
   ],
   "metadata": {}
  },
  {
   "cell_type": "code",
   "execution_count": 30,
   "source": [
    "df_prices['month'] = pd.to_datetime(df_prices['date_from']).dt.to_period('M')\n",
    "fig, ax = plt.subplots(figsize=(15,5))\n",
    "sns.lineplot(data=df_prices, x=\"date_from\", y=\"filled_in_price_per_day\")"
   ],
   "outputs": [
    {
     "output_type": "execute_result",
     "data": {
      "text/plain": [
       "<AxesSubplot:xlabel='date_from', ylabel='filled_in_price_per_day'>"
      ]
     },
     "metadata": {},
     "execution_count": 30
    },
    {
     "output_type": "display_data",
     "data": {
      "text/plain": [
       "<Figure size 1080x360 with 1 Axes>"
      ],
      "image/png": "[encoded data removed]"
     },
     "metadata": {
      "needs_background": "light"
     }
    }
   ],
   "metadata": {}
  },
  {
   "cell_type": "markdown",
   "source": [
    "## Checking correlation between weeks and days"
   ],
   "metadata": {}
  },
  {
   "cell_type": "code",
   "execution_count": 31,
   "source": [
    "# Step 0 - Read the dataset, calculate column correlations and make a seaborn heatmap\n",
    "corr = df_prices.corr()\n",
    "ax = sns.heatmap(\n",
    "    corr,\n",
    "    vmin=-1, vmax=1, center=0,\n",
    "    cmap=sns.diverging_palette(20, 220, n=200),\n",
    "    square=True\n",
    ")\n",
    "ax.set_xticklabels(\n",
    "    ax.get_xticklabels(),\n",
    "    rotation=45,\n",
    "    horizontalalignment='right');"
   ],
   "outputs": [
    {
     "output_type": "display_data",
     "data": {
      "text/plain": [
       "<Figure size 432x288 with 2 Axes>"
      ],
      "image/png": "[encoded data removed]"
     },
     "metadata": {
      "needs_background": "light"
     }
    }
   ],
   "metadata": {}
  },
  {
   "cell_type": "code",
   "execution_count": 32,
   "source": [
    "corr"
   ],
   "outputs": [
    {
     "output_type": "execute_result",
     "data": {
      "text/plain": [
       "                          min_days  price_per_day_from  price_per_week_from  \\\n",
       "min_days                  1.000000            0.156166             0.233976   \n",
       "price_per_day_from        0.156166            1.000000             0.958667   \n",
       "price_per_week_from       0.233976            0.958667             1.000000   \n",
       "filled_in_price_per_day   0.155889            1.000000             0.962087   \n",
       "filled_in_price_per_week  0.170426            0.984161             1.000000   \n",
       "\n",
       "                          filled_in_price_per_day  filled_in_price_per_week  \n",
       "min_days                                 0.155889                  0.170426  \n",
       "price_per_day_from                       1.000000                  0.984161  \n",
       "price_per_week_from                      0.962087                  1.000000  \n",
       "filled_in_price_per_day                  1.000000                  0.984648  \n",
       "filled_in_price_per_week                 0.984648                  1.000000  "
      ],
      "text/html": [
       "<div>\n",
       "<style scoped>\n",
       "    .dataframe tbody tr th:only-of-type {\n",
       "        vertical-align: middle;\n",
       "    }\n",
       "\n",
       "    .dataframe tbody tr th {\n",
       "        vertical-align: top;\n",
       "    }\n",
       "\n",
       "    .dataframe thead th {\n",
       "        text-align: right;\n",
       "    }\n",
       "</style>\n",
       "<table border=\"1\" class=\"dataframe\">\n",
       "  <thead>\n",
       "    <tr style=\"text-align: right;\">\n",
       "      <th></th>\n",
       "      <th>min_days</th>\n",
       "      <th>price_per_day_from</th>\n",
       "      <th>price_per_week_from</th>\n",
       "      <th>filled_in_price_per_day</th>\n",
       "      <th>filled_in_price_per_week</th>\n",
       "    </tr>\n",
       "  </thead>\n",
       "  <tbody>\n",
       "    <tr>\n",
       "      <th>min_days</th>\n",
       "      <td>1.000000</td>\n",
       "      <td>0.156166</td>\n",
       "      <td>0.233976</td>\n",
       "      <td>0.155889</td>\n",
       "      <td>0.170426</td>\n",
       "    </tr>\n",
       "    <tr>\n",
       "      <th>price_per_day_from</th>\n",
       "      <td>0.156166</td>\n",
       "      <td>1.000000</td>\n",
       "      <td>0.958667</td>\n",
       "      <td>1.000000</td>\n",
       "      <td>0.984161</td>\n",
       "    </tr>\n",
       "    <tr>\n",
       "      <th>price_per_week_from</th>\n",
       "      <td>0.233976</td>\n",
       "      <td>0.958667</td>\n",
       "      <td>1.000000</td>\n",
       "      <td>0.962087</td>\n",
       "      <td>1.000000</td>\n",
       "    </tr>\n",
       "    <tr>\n",
       "      <th>filled_in_price_per_day</th>\n",
       "      <td>0.155889</td>\n",
       "      <td>1.000000</td>\n",
       "      <td>0.962087</td>\n",
       "      <td>1.000000</td>\n",
       "      <td>0.984648</td>\n",
       "    </tr>\n",
       "    <tr>\n",
       "      <th>filled_in_price_per_week</th>\n",
       "      <td>0.170426</td>\n",
       "      <td>0.984161</td>\n",
       "      <td>1.000000</td>\n",
       "      <td>0.984648</td>\n",
       "      <td>1.000000</td>\n",
       "    </tr>\n",
       "  </tbody>\n",
       "</table>\n",
       "</div>"
      ]
     },
     "metadata": {},
     "execution_count": 32
    }
   ],
   "metadata": {}
  },
  {
   "cell_type": "code",
   "execution_count": 33,
   "source": [
    "sns.scatterplot(x=df_prices.filled_in_price_per_week, y=df_prices.filled_in_price_per_day)"
   ],
   "outputs": [
    {
     "output_type": "execute_result",
     "data": {
      "text/plain": [
       "<AxesSubplot:xlabel='filled_in_price_per_week', ylabel='filled_in_price_per_day'>"
      ]
     },
     "metadata": {},
     "execution_count": 33
    },
    {
     "output_type": "display_data",
     "data": {
      "text/plain": [
       "<Figure size 432x288 with 1 Axes>"
      ],
      "image/png": "[encoded data removed]"
     },
     "metadata": {
      "needs_background": "light"
     }
    }
   ],
   "metadata": {}
  },
  {
   "cell_type": "code",
   "execution_count": 34,
   "source": [
    "df_prices.filled_in_price_per_week.max()"
   ],
   "outputs": [
    {
     "output_type": "execute_result",
     "data": {
      "text/plain": [
       "1540.0"
      ]
     },
     "metadata": {},
     "execution_count": 34
    }
   ],
   "metadata": {}
  },
  {
   "cell_type": "markdown",
   "source": [
    "## Creating price_catagory column"
   ],
   "metadata": {}
  },
  {
   "cell_type": "code",
   "execution_count": 35,
   "source": [
    "def catagorizer(a, b):\n",
    "    if np.isnan(a):\n",
    "        if np.isnan(b):\n",
    "            return \"No_info\"\n",
    "        else:\n",
    "            return \"Week\"\n",
    "    else:\n",
    "        if np.isnan(b):\n",
    "            return \"Day\"\n",
    "    return \"Both\"\n"
   ],
   "outputs": [],
   "metadata": {}
  },
  {
   "cell_type": "code",
   "execution_count": 36,
   "source": [
    "\n",
    "df_prices['price_catagory']= df_prices.apply(lambda x: catagorizer(\n",
    "    x['price_per_day_from'], x['price_per_week_from']), axis=1)"
   ],
   "outputs": [],
   "metadata": {}
  },
  {
   "cell_type": "code",
   "execution_count": 37,
   "source": [
    "df_prices['price_catagory'].unique()"
   ],
   "outputs": [
    {
     "output_type": "execute_result",
     "data": {
      "text/plain": [
       "array(['Day', 'Both', 'No_info', 'Week'], dtype=object)"
      ]
     },
     "metadata": {},
     "execution_count": 37
    }
   ],
   "metadata": {}
  },
  {
   "cell_type": "code",
   "execution_count": 38,
   "source": [
    "df_prices['price_catagory'].value_counts()"
   ],
   "outputs": [
    {
     "output_type": "execute_result",
     "data": {
      "text/plain": [
       "Day        241636\n",
       "Both       207536\n",
       "Week        17091\n",
       "No_info      3106\n",
       "Name: price_catagory, dtype: int64"
      ]
     },
     "metadata": {},
     "execution_count": 38
    }
   ],
   "metadata": {}
  },
  {
   "cell_type": "code",
   "execution_count": 39,
   "source": [
    "df_prices[df_prices['price_catagory'] == \"No_info\"]"
   ],
   "outputs": [
    {
     "output_type": "execute_result",
     "data": {
      "text/plain": [
       "                                  listing_id  min_days  date_from    date_to  \\\n",
       "238     0d6f6480-0191-5e9f-9f93-b73755bfd136       1.0 2019-01-01 2019-03-16   \n",
       "243     0d6f6480-0191-5e9f-9f93-b73755bfd136       1.0 2019-10-26 2019-12-31   \n",
       "411     21dfbd24-0801-529f-8661-983f8479cb0c       4.0 2018-11-16 2019-03-16   \n",
       "417     21dfbd24-0801-529f-8661-983f8479cb0c       1.0 2019-11-16 2020-03-15   \n",
       "475     f41ad7ef-189c-5bb1-8186-ed6b12bdb449       1.0 2018-11-04 2018-12-12   \n",
       "...                                      ...       ...        ...        ...   \n",
       "496828  25daa696-ac23-5278-9c8e-1f2d7173d35c       1.0 2020-12-28 2021-04-19   \n",
       "496837  25daa696-ac23-5278-9c8e-1f2d7173d35c       1.0 2021-12-26 2022-01-02   \n",
       "496840  25daa696-ac23-5278-9c8e-1f2d7173d35c       1.0 2022-01-02 2022-01-03   \n",
       "496844  25daa696-ac23-5278-9c8e-1f2d7173d35c       1.0 2022-03-31 2023-01-01   \n",
       "496862  5c1040ee-0d21-56ae-9bfa-5e741ef183db       1.0 2020-12-28 2021-03-27   \n",
       "\n",
       "        price_per_day_from  price_per_week_from  filled_in_price_per_day  \\\n",
       "238                    NaN                  NaN                      NaN   \n",
       "243                    NaN                  NaN                      NaN   \n",
       "411                    NaN                  NaN                      NaN   \n",
       "417                    NaN                  NaN                      NaN   \n",
       "475                    NaN                  NaN                      NaN   \n",
       "...                    ...                  ...                      ...   \n",
       "496828                 NaN                  NaN                      NaN   \n",
       "496837                 NaN                  NaN                      NaN   \n",
       "496840                 NaN                  NaN                      NaN   \n",
       "496844                 NaN                  NaN                      NaN   \n",
       "496862                 NaN                  NaN                      NaN   \n",
       "\n",
       "        filled_in_price_per_week    month price_catagory  \n",
       "238                          NaN  2019-01        No_info  \n",
       "243                          NaN  2019-10        No_info  \n",
       "411                          NaN  2018-11        No_info  \n",
       "417                          NaN  2019-11        No_info  \n",
       "475                          NaN  2018-11        No_info  \n",
       "...                          ...      ...            ...  \n",
       "496828                       NaN  2020-12        No_info  \n",
       "496837                       NaN  2021-12        No_info  \n",
       "496840                       NaN  2022-01        No_info  \n",
       "496844                       NaN  2022-03        No_info  \n",
       "496862                       NaN  2020-12        No_info  \n",
       "\n",
       "[3106 rows x 10 columns]"
      ],
      "text/html": [
       "<div>\n",
       "<style scoped>\n",
       "    .dataframe tbody tr th:only-of-type {\n",
       "        vertical-align: middle;\n",
       "    }\n",
       "\n",
       "    .dataframe tbody tr th {\n",
       "        vertical-align: top;\n",
       "    }\n",
       "\n",
       "    .dataframe thead th {\n",
       "        text-align: right;\n",
       "    }\n",
       "</style>\n",
       "<table border=\"1\" class=\"dataframe\">\n",
       "  <thead>\n",
       "    <tr style=\"text-align: right;\">\n",
       "      <th></th>\n",
       "      <th>listing_id</th>\n",
       "      <th>min_days</th>\n",
       "      <th>date_from</th>\n",
       "      <th>date_to</th>\n",
       "      <th>price_per_day_from</th>\n",
       "      <th>price_per_week_from</th>\n",
       "      <th>filled_in_price_per_day</th>\n",
       "      <th>filled_in_price_per_week</th>\n",
       "      <th>month</th>\n",
       "      <th>price_catagory</th>\n",
       "    </tr>\n",
       "  </thead>\n",
       "  <tbody>\n",
       "    <tr>\n",
       "      <th>238</th>\n",
       "      <td>0d6f6480-0191-5e9f-9f93-b73755bfd136</td>\n",
       "      <td>1.0</td>\n",
       "      <td>2019-01-01</td>\n",
       "      <td>2019-03-16</td>\n",
       "      <td>NaN</td>\n",
       "      <td>NaN</td>\n",
       "      <td>NaN</td>\n",
       "      <td>NaN</td>\n",
       "      <td>2019-01</td>\n",
       "      <td>No_info</td>\n",
       "    </tr>\n",
       "    <tr>\n",
       "      <th>243</th>\n",
       "      <td>0d6f6480-0191-5e9f-9f93-b73755bfd136</td>\n",
       "      <td>1.0</td>\n",
       "      <td>2019-10-26</td>\n",
       "      <td>2019-12-31</td>\n",
       "      <td>NaN</td>\n",
       "      <td>NaN</td>\n",
       "      <td>NaN</td>\n",
       "      <td>NaN</td>\n",
       "      <td>2019-10</td>\n",
       "      <td>No_info</td>\n",
       "    </tr>\n",
       "    <tr>\n",
       "      <th>411</th>\n",
       "      <td>21dfbd24-0801-529f-8661-983f8479cb0c</td>\n",
       "      <td>4.0</td>\n",
       "      <td>2018-11-16</td>\n",
       "      <td>2019-03-16</td>\n",
       "      <td>NaN</td>\n",
       "      <td>NaN</td>\n",
       "      <td>NaN</td>\n",
       "      <td>NaN</td>\n",
       "      <td>2018-11</td>\n",
       "      <td>No_info</td>\n",
       "    </tr>\n",
       "    <tr>\n",
       "      <th>417</th>\n",
       "      <td>21dfbd24-0801-529f-8661-983f8479cb0c</td>\n",
       "      <td>1.0</td>\n",
       "      <td>2019-11-16</td>\n",
       "      <td>2020-03-15</td>\n",
       "      <td>NaN</td>\n",
       "      <td>NaN</td>\n",
       "      <td>NaN</td>\n",
       "      <td>NaN</td>\n",
       "      <td>2019-11</td>\n",
       "      <td>No_info</td>\n",
       "    </tr>\n",
       "    <tr>\n",
       "      <th>475</th>\n",
       "      <td>f41ad7ef-189c-5bb1-8186-ed6b12bdb449</td>\n",
       "      <td>1.0</td>\n",
       "      <td>2018-11-04</td>\n",
       "      <td>2018-12-12</td>\n",
       "      <td>NaN</td>\n",
       "      <td>NaN</td>\n",
       "      <td>NaN</td>\n",
       "      <td>NaN</td>\n",
       "      <td>2018-11</td>\n",
       "      <td>No_info</td>\n",
       "    </tr>\n",
       "    <tr>\n",
       "      <th>...</th>\n",
       "      <td>...</td>\n",
       "      <td>...</td>\n",
       "      <td>...</td>\n",
       "      <td>...</td>\n",
       "      <td>...</td>\n",
       "      <td>...</td>\n",
       "      <td>...</td>\n",
       "      <td>...</td>\n",
       "      <td>...</td>\n",
       "      <td>...</td>\n",
       "    </tr>\n",
       "    <tr>\n",
       "      <th>496828</th>\n",
       "      <td>25daa696-ac23-5278-9c8e-1f2d7173d35c</td>\n",
       "      <td>1.0</td>\n",
       "      <td>2020-12-28</td>\n",
       "      <td>2021-04-19</td>\n",
       "      <td>NaN</td>\n",
       "      <td>NaN</td>\n",
       "      <td>NaN</td>\n",
       "      <td>NaN</td>\n",
       "      <td>2020-12</td>\n",
       "      <td>No_info</td>\n",
       "    </tr>\n",
       "    <tr>\n",
       "      <th>496837</th>\n",
       "      <td>25daa696-ac23-5278-9c8e-1f2d7173d35c</td>\n",
       "      <td>1.0</td>\n",
       "      <td>2021-12-26</td>\n",
       "      <td>2022-01-02</td>\n",
       "      <td>NaN</td>\n",
       "      <td>NaN</td>\n",
       "      <td>NaN</td>\n",
       "      <td>NaN</td>\n",
       "      <td>2021-12</td>\n",
       "      <td>No_info</td>\n",
       "    </tr>\n",
       "    <tr>\n",
       "      <th>496840</th>\n",
       "      <td>25daa696-ac23-5278-9c8e-1f2d7173d35c</td>\n",
       "      <td>1.0</td>\n",
       "      <td>2022-01-02</td>\n",
       "      <td>2022-01-03</td>\n",
       "      <td>NaN</td>\n",
       "      <td>NaN</td>\n",
       "      <td>NaN</td>\n",
       "      <td>NaN</td>\n",
       "      <td>2022-01</td>\n",
       "      <td>No_info</td>\n",
       "    </tr>\n",
       "    <tr>\n",
       "      <th>496844</th>\n",
       "      <td>25daa696-ac23-5278-9c8e-1f2d7173d35c</td>\n",
       "      <td>1.0</td>\n",
       "      <td>2022-03-31</td>\n",
       "      <td>2023-01-01</td>\n",
       "      <td>NaN</td>\n",
       "      <td>NaN</td>\n",
       "      <td>NaN</td>\n",
       "      <td>NaN</td>\n",
       "      <td>2022-03</td>\n",
       "      <td>No_info</td>\n",
       "    </tr>\n",
       "    <tr>\n",
       "      <th>496862</th>\n",
       "      <td>5c1040ee-0d21-56ae-9bfa-5e741ef183db</td>\n",
       "      <td>1.0</td>\n",
       "      <td>2020-12-28</td>\n",
       "      <td>2021-03-27</td>\n",
       "      <td>NaN</td>\n",
       "      <td>NaN</td>\n",
       "      <td>NaN</td>\n",
       "      <td>NaN</td>\n",
       "      <td>2020-12</td>\n",
       "      <td>No_info</td>\n",
       "    </tr>\n",
       "  </tbody>\n",
       "</table>\n",
       "<p>3106 rows × 10 columns</p>\n",
       "</div>"
      ]
     },
     "metadata": {},
     "execution_count": 39
    }
   ],
   "metadata": {}
  },
  {
   "cell_type": "markdown",
   "source": [
    "## Deleting price_per_day_from and price_per_week_from"
   ],
   "metadata": {}
  },
  {
   "cell_type": "code",
   "execution_count": 40,
   "source": [
    "del df_prices['price_per_day_from']"
   ],
   "outputs": [],
   "metadata": {}
  },
  {
   "cell_type": "code",
   "execution_count": 41,
   "source": [
    "del df_prices['price_per_week_from']"
   ],
   "outputs": [],
   "metadata": {}
  },
  {
   "cell_type": "code",
   "execution_count": 42,
   "source": [
    "df_prices.head()"
   ],
   "outputs": [
    {
     "output_type": "execute_result",
     "data": {
      "text/plain": [
       "                             listing_id  min_days  date_from    date_to  \\\n",
       "0  fbd74bce-23dd-53e7-b988-8beb85160d6f       5.0 2020-04-01 2020-06-15   \n",
       "1  fbd74bce-23dd-53e7-b988-8beb85160d6f       5.0 2020-06-15 2020-07-05   \n",
       "2  fbd74bce-23dd-53e7-b988-8beb85160d6f       4.0 2020-09-13 2020-11-01   \n",
       "3  fbd74bce-23dd-53e7-b988-8beb85160d6f       2.0 2020-11-01 2020-12-24   \n",
       "4  fbd74bce-23dd-53e7-b988-8beb85160d6f       5.0 2020-12-24 2021-01-07   \n",
       "\n",
       "   filled_in_price_per_day  filled_in_price_per_week    month price_catagory  \n",
       "0                     70.0                     490.0  2020-04            Day  \n",
       "1                     78.0                     546.0  2020-06            Day  \n",
       "2                     70.0                     490.0  2020-09            Day  \n",
       "3                     58.0                     406.0  2020-11            Day  \n",
       "4                     80.0                     560.0  2020-12            Day  "
      ],
      "text/html": [
       "<div>\n",
       "<style scoped>\n",
       "    .dataframe tbody tr th:only-of-type {\n",
       "        vertical-align: middle;\n",
       "    }\n",
       "\n",
       "    .dataframe tbody tr th {\n",
       "        vertical-align: top;\n",
       "    }\n",
       "\n",
       "    .dataframe thead th {\n",
       "        text-align: right;\n",
       "    }\n",
       "</style>\n",
       "<table border=\"1\" class=\"dataframe\">\n",
       "  <thead>\n",
       "    <tr style=\"text-align: right;\">\n",
       "      <th></th>\n",
       "      <th>listing_id</th>\n",
       "      <th>min_days</th>\n",
       "      <th>date_from</th>\n",
       "      <th>date_to</th>\n",
       "      <th>filled_in_price_per_day</th>\n",
       "      <th>filled_in_price_per_week</th>\n",
       "      <th>month</th>\n",
       "      <th>price_catagory</th>\n",
       "    </tr>\n",
       "  </thead>\n",
       "  <tbody>\n",
       "    <tr>\n",
       "      <th>0</th>\n",
       "      <td>fbd74bce-23dd-53e7-b988-8beb85160d6f</td>\n",
       "      <td>5.0</td>\n",
       "      <td>2020-04-01</td>\n",
       "      <td>2020-06-15</td>\n",
       "      <td>70.0</td>\n",
       "      <td>490.0</td>\n",
       "      <td>2020-04</td>\n",
       "      <td>Day</td>\n",
       "    </tr>\n",
       "    <tr>\n",
       "      <th>1</th>\n",
       "      <td>fbd74bce-23dd-53e7-b988-8beb85160d6f</td>\n",
       "      <td>5.0</td>\n",
       "      <td>2020-06-15</td>\n",
       "      <td>2020-07-05</td>\n",
       "      <td>78.0</td>\n",
       "      <td>546.0</td>\n",
       "      <td>2020-06</td>\n",
       "      <td>Day</td>\n",
       "    </tr>\n",
       "    <tr>\n",
       "      <th>2</th>\n",
       "      <td>fbd74bce-23dd-53e7-b988-8beb85160d6f</td>\n",
       "      <td>4.0</td>\n",
       "      <td>2020-09-13</td>\n",
       "      <td>2020-11-01</td>\n",
       "      <td>70.0</td>\n",
       "      <td>490.0</td>\n",
       "      <td>2020-09</td>\n",
       "      <td>Day</td>\n",
       "    </tr>\n",
       "    <tr>\n",
       "      <th>3</th>\n",
       "      <td>fbd74bce-23dd-53e7-b988-8beb85160d6f</td>\n",
       "      <td>2.0</td>\n",
       "      <td>2020-11-01</td>\n",
       "      <td>2020-12-24</td>\n",
       "      <td>58.0</td>\n",
       "      <td>406.0</td>\n",
       "      <td>2020-11</td>\n",
       "      <td>Day</td>\n",
       "    </tr>\n",
       "    <tr>\n",
       "      <th>4</th>\n",
       "      <td>fbd74bce-23dd-53e7-b988-8beb85160d6f</td>\n",
       "      <td>5.0</td>\n",
       "      <td>2020-12-24</td>\n",
       "      <td>2021-01-07</td>\n",
       "      <td>80.0</td>\n",
       "      <td>560.0</td>\n",
       "      <td>2020-12</td>\n",
       "      <td>Day</td>\n",
       "    </tr>\n",
       "  </tbody>\n",
       "</table>\n",
       "</div>"
      ]
     },
     "metadata": {},
     "execution_count": 42
    }
   ],
   "metadata": {}
  },
  {
   "cell_type": "code",
   "execution_count": null,
   "source": [],
   "outputs": [],
   "metadata": {}
  },
  {
   "cell_type": "markdown",
   "source": [
    "## Saving to CSV"
   ],
   "metadata": {}
  },
  {
   "cell_type": "code",
   "execution_count": 43,
   "source": [
    "df_prices.to_csv('../data/prices_dataset.csv')"
   ],
   "outputs": [],
   "metadata": {}
  }
 ],
 "metadata": {
  "interpreter": {
   "hash": "d010501e40abb3b7db4096fc0aa4e129057eacaad7f742892b4cda0c942bb7f2"
  },
  "kernelspec": {
   "display_name": "Python 3.8.5 64-bit ('.venv': venv)",
   "name": "python3"
  },
  "language_info": {
   "codemirror_mode": {
    "name": "ipython",
    "version": 3
   },
   "file_extension": ".py",
   "mimetype": "text/x-python",
   "name": "python",
   "nbconvert_exporter": "python",
   "pygments_lexer": "ipython3",
   "version": "3.8.5"
  },
  "orig_nbformat": 4
 },
 "nbformat": 4,
 "nbformat_minor": 2
}