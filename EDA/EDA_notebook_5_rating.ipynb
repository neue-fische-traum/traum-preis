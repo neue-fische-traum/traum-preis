{
 "cells": [
  {
   "cell_type": "code",
   "execution_count": null,
   "source": [],
   "outputs": [],
   "metadata": {}
  },
  {
   "cell_type": "markdown",
   "source": [
    "# This notebook will serve for the initial EDA for the ratings data for the TFW project"
   ],
   "metadata": {}
  },
  {
   "cell_type": "code",
   "execution_count": 45,
   "source": [
    "# Import necassary libraries\n",
    "import pandas as pd\n",
    "import numpy as np\n",
    "import os\n",
    "import seaborn as sns\n",
    "import matplotlib.pyplot as plt\n",
    "\n",
    "ROOT = os.environ.get('PWD')"
   ],
   "outputs": [],
   "metadata": {}
  },
  {
   "cell_type": "code",
   "execution_count": 52,
   "source": [
    "# read in the dataset\n",
    "\n",
    "df_rating = pd.read_csv('../data/rating_20210713.csv')"
   ],
   "outputs": [],
   "metadata": {}
  },
  {
   "cell_type": "code",
   "execution_count": null,
   "source": [
    "# convert rating_date, date_from and data_to to datetime \n",
    "\n",
    "df_rating['rating_date'] = pd.to_datetime(df_rating['rating_date'])\n",
    "df_rating['date_from'] = pd.to_datetime(df_rating['date_from'], errors = 'coerce')\n",
    "df_rating['date_to'] = pd.to_datetime(df_rating['date_to'], errors = 'coerce')"
   ],
   "outputs": [],
   "metadata": {}
  },
  {
   "cell_type": "code",
   "execution_count": 47,
   "source": [
    "# generate the heatmap\n",
    "\n",
    "corr = df_rating.corr()\n",
    "ax = sns.heatmap(\n",
    "    corr,\n",
    "    vmin=-1, vmax=1, center=0,\n",
    "    cmap=sns.diverging_palette(20, 220, n=200),\n",
    "    square=True\n",
    ")\n",
    "ax.set_xticklabels(\n",
    "    ax.get_xticklabels(),\n",
    "    rotation=45,\n",
    "    horizontalalignment='right'\n",
    ");\n"
   ],
   "outputs": [
    {
     "output_type": "display_data",
     "data": {
      "text/plain": [
       "<Figure size 432x288 with 2 Axes>"
      ],
      "image/png": "[encoded data removed]"
     },
     "metadata": {
      "needs_background": "light"
     }
    }
   ],
   "metadata": {}
  },
  {
   "cell_type": "code",
   "execution_count": 8,
   "source": [
    "corr.style.background_gradient(cmap='coolwarm')"
   ],
   "outputs": [
    {
     "output_type": "execute_result",
     "data": {
      "text/plain": [
       "<pandas.io.formats.style.Styler at 0x12d6c2580>"
      ],
      "text/html": [
       "<style  type=\"text/css\" >\n",
       "#T_bba4f_row0_col0,#T_bba4f_row1_col1,#T_bba4f_row2_col2,#T_bba4f_row3_col3{\n",
       "            background-color:  #b40426;\n",
       "            color:  #f1f1f1;\n",
       "        }#T_bba4f_row0_col1,#T_bba4f_row2_col0{\n",
       "            background-color:  #c1d4f4;\n",
       "            color:  #000000;\n",
       "        }#T_bba4f_row0_col2{\n",
       "            background-color:  #b1cbfc;\n",
       "            color:  #000000;\n",
       "        }#T_bba4f_row0_col3,#T_bba4f_row3_col0,#T_bba4f_row3_col1,#T_bba4f_row3_col2{\n",
       "            background-color:  #3b4cc0;\n",
       "            color:  #f1f1f1;\n",
       "        }#T_bba4f_row1_col0{\n",
       "            background-color:  #d1dae9;\n",
       "            color:  #000000;\n",
       "        }#T_bba4f_row1_col2{\n",
       "            background-color:  #dbdcde;\n",
       "            color:  #000000;\n",
       "        }#T_bba4f_row1_col3{\n",
       "            background-color:  #5572df;\n",
       "            color:  #000000;\n",
       "        }#T_bba4f_row2_col1{\n",
       "            background-color:  #d9dce1;\n",
       "            color:  #000000;\n",
       "        }#T_bba4f_row2_col3{\n",
       "            background-color:  #516ddb;\n",
       "            color:  #000000;\n",
       "        }</style><table id=\"T_bba4f_\" ><thead>    <tr>        <th class=\"blank level0\" ></th>        <th class=\"col_heading level0 col0\" >features</th>        <th class=\"col_heading level0 col1\" >price</th>        <th class=\"col_heading level0 col2\" >service</th>        <th class=\"col_heading level0 col3\" >ambience</th>    </tr></thead><tbody>\n",
       "                <tr>\n",
       "                        <th id=\"T_bba4f_level0_row0\" class=\"row_heading level0 row0\" >features</th>\n",
       "                        <td id=\"T_bba4f_row0_col0\" class=\"data row0 col0\" >1.000000</td>\n",
       "                        <td id=\"T_bba4f_row0_col1\" class=\"data row0 col1\" >0.618268</td>\n",
       "                        <td id=\"T_bba4f_row0_col2\" class=\"data row0 col2\" >0.581604</td>\n",
       "                        <td id=\"T_bba4f_row0_col3\" class=\"data row0 col3\" >0.298260</td>\n",
       "            </tr>\n",
       "            <tr>\n",
       "                        <th id=\"T_bba4f_level0_row1\" class=\"row_heading level0 row1\" >price</th>\n",
       "                        <td id=\"T_bba4f_row1_col0\" class=\"data row1 col0\" >0.618268</td>\n",
       "                        <td id=\"T_bba4f_row1_col1\" class=\"data row1 col1\" >1.000000</td>\n",
       "                        <td id=\"T_bba4f_row1_col2\" class=\"data row1 col2\" >0.671694</td>\n",
       "                        <td id=\"T_bba4f_row1_col3\" class=\"data row1 col3\" >0.359136</td>\n",
       "            </tr>\n",
       "            <tr>\n",
       "                        <th id=\"T_bba4f_level0_row2\" class=\"row_heading level0 row2\" >service</th>\n",
       "                        <td id=\"T_bba4f_row2_col0\" class=\"data row2 col0\" >0.581604</td>\n",
       "                        <td id=\"T_bba4f_row2_col1\" class=\"data row2 col1\" >0.671694</td>\n",
       "                        <td id=\"T_bba4f_row2_col2\" class=\"data row2 col2\" >1.000000</td>\n",
       "                        <td id=\"T_bba4f_row2_col3\" class=\"data row2 col3\" >0.351328</td>\n",
       "            </tr>\n",
       "            <tr>\n",
       "                        <th id=\"T_bba4f_level0_row3\" class=\"row_heading level0 row3\" >ambience</th>\n",
       "                        <td id=\"T_bba4f_row3_col0\" class=\"data row3 col0\" >0.298260</td>\n",
       "                        <td id=\"T_bba4f_row3_col1\" class=\"data row3 col1\" >0.359136</td>\n",
       "                        <td id=\"T_bba4f_row3_col2\" class=\"data row3 col2\" >0.351328</td>\n",
       "                        <td id=\"T_bba4f_row3_col3\" class=\"data row3 col3\" >1.000000</td>\n",
       "            </tr>\n",
       "    </tbody></table>"
      ]
     },
     "metadata": {},
     "execution_count": 8
    }
   ],
   "metadata": {}
  },
  {
   "cell_type": "markdown",
   "source": [
    "# there are high correlations for many of these variables, but in this case, this should not be surprising"
   ],
   "metadata": {}
  },
  {
   "cell_type": "code",
   "execution_count": 53,
   "source": [
    "df_rating.nunique()"
   ],
   "outputs": [
    {
     "output_type": "execute_result",
     "data": {
      "text/plain": [
       "rating_date     4810\n",
       "listing_id     21033\n",
       "features           5\n",
       "price              5\n",
       "service            5\n",
       "ambience           5\n",
       "date_from       3976\n",
       "date_to         3936\n",
       "dtype: int64"
      ]
     },
     "metadata": {},
     "execution_count": 53
    }
   ],
   "metadata": {}
  },
  {
   "cell_type": "markdown",
   "source": [],
   "metadata": {}
  },
  {
   "cell_type": "code",
   "execution_count": 9,
   "source": [
    "df_rating.head()\n"
   ],
   "outputs": [
    {
     "output_type": "execute_result",
     "data": {
      "text/plain": [
       "  rating_date                            listing_id  features  price  service  \\\n",
       "0  2012-09-16  fbd74bce-23dd-53e7-b988-8beb85160d6f         5      5        5   \n",
       "1  2012-10-20  fbd74bce-23dd-53e7-b988-8beb85160d6f         4      5        5   \n",
       "2  2014-06-17  fbd74bce-23dd-53e7-b988-8beb85160d6f         5      5        5   \n",
       "3  2014-10-15  b766fc7c-6d44-5c86-b6d1-3f699c78b3a6         4      5        5   \n",
       "4  2015-08-19  b766fc7c-6d44-5c86-b6d1-3f699c78b3a6         4      5        5   \n",
       "\n",
       "   ambience   date_from     date_to  \n",
       "0         5  2012-09-09  2012-09-15  \n",
       "1         5  2012-10-06  2012-10-13  \n",
       "2         5  2013-08-31  2013-09-07  \n",
       "3         4  2014-10-09  2014-10-12  \n",
       "4         5  2015-08-10  2015-08-17  "
      ],
      "text/html": [
       "<div>\n",
       "<style scoped>\n",
       "    .dataframe tbody tr th:only-of-type {\n",
       "        vertical-align: middle;\n",
       "    }\n",
       "\n",
       "    .dataframe tbody tr th {\n",
       "        vertical-align: top;\n",
       "    }\n",
       "\n",
       "    .dataframe thead th {\n",
       "        text-align: right;\n",
       "    }\n",
       "</style>\n",
       "<table border=\"1\" class=\"dataframe\">\n",
       "  <thead>\n",
       "    <tr style=\"text-align: right;\">\n",
       "      <th></th>\n",
       "      <th>rating_date</th>\n",
       "      <th>listing_id</th>\n",
       "      <th>features</th>\n",
       "      <th>price</th>\n",
       "      <th>service</th>\n",
       "      <th>ambience</th>\n",
       "      <th>date_from</th>\n",
       "      <th>date_to</th>\n",
       "    </tr>\n",
       "  </thead>\n",
       "  <tbody>\n",
       "    <tr>\n",
       "      <th>0</th>\n",
       "      <td>2012-09-16</td>\n",
       "      <td>fbd74bce-23dd-53e7-b988-8beb85160d6f</td>\n",
       "      <td>5</td>\n",
       "      <td>5</td>\n",
       "      <td>5</td>\n",
       "      <td>5</td>\n",
       "      <td>2012-09-09</td>\n",
       "      <td>2012-09-15</td>\n",
       "    </tr>\n",
       "    <tr>\n",
       "      <th>1</th>\n",
       "      <td>2012-10-20</td>\n",
       "      <td>fbd74bce-23dd-53e7-b988-8beb85160d6f</td>\n",
       "      <td>4</td>\n",
       "      <td>5</td>\n",
       "      <td>5</td>\n",
       "      <td>5</td>\n",
       "      <td>2012-10-06</td>\n",
       "      <td>2012-10-13</td>\n",
       "    </tr>\n",
       "    <tr>\n",
       "      <th>2</th>\n",
       "      <td>2014-06-17</td>\n",
       "      <td>fbd74bce-23dd-53e7-b988-8beb85160d6f</td>\n",
       "      <td>5</td>\n",
       "      <td>5</td>\n",
       "      <td>5</td>\n",
       "      <td>5</td>\n",
       "      <td>2013-08-31</td>\n",
       "      <td>2013-09-07</td>\n",
       "    </tr>\n",
       "    <tr>\n",
       "      <th>3</th>\n",
       "      <td>2014-10-15</td>\n",
       "      <td>b766fc7c-6d44-5c86-b6d1-3f699c78b3a6</td>\n",
       "      <td>4</td>\n",
       "      <td>5</td>\n",
       "      <td>5</td>\n",
       "      <td>4</td>\n",
       "      <td>2014-10-09</td>\n",
       "      <td>2014-10-12</td>\n",
       "    </tr>\n",
       "    <tr>\n",
       "      <th>4</th>\n",
       "      <td>2015-08-19</td>\n",
       "      <td>b766fc7c-6d44-5c86-b6d1-3f699c78b3a6</td>\n",
       "      <td>4</td>\n",
       "      <td>5</td>\n",
       "      <td>5</td>\n",
       "      <td>5</td>\n",
       "      <td>2015-08-10</td>\n",
       "      <td>2015-08-17</td>\n",
       "    </tr>\n",
       "  </tbody>\n",
       "</table>\n",
       "</div>"
      ]
     },
     "metadata": {},
     "execution_count": 9
    }
   ],
   "metadata": {}
  },
  {
   "cell_type": "code",
   "execution_count": 36,
   "source": [
    "# convert rating_date, date_from and data_to to datetime \n",
    "\n",
    "df_rating['rating_date'] = pd.to_datetime(df_rating['rating_date'])\n"
   ],
   "outputs": [],
   "metadata": {}
  },
  {
   "cell_type": "code",
   "execution_count": 12,
   "source": [
    "df_rating.head()\n"
   ],
   "outputs": [
    {
     "output_type": "execute_result",
     "data": {
      "text/plain": [
       "  rating_date                            listing_id  features  price  service  \\\n",
       "0  2012-09-16  fbd74bce-23dd-53e7-b988-8beb85160d6f         5      5        5   \n",
       "1  2012-10-20  fbd74bce-23dd-53e7-b988-8beb85160d6f         4      5        5   \n",
       "2  2014-06-17  fbd74bce-23dd-53e7-b988-8beb85160d6f         5      5        5   \n",
       "3  2014-10-15  b766fc7c-6d44-5c86-b6d1-3f699c78b3a6         4      5        5   \n",
       "4  2015-08-19  b766fc7c-6d44-5c86-b6d1-3f699c78b3a6         4      5        5   \n",
       "\n",
       "   ambience   date_from     date_to  \n",
       "0         5  2012-09-09  2012-09-15  \n",
       "1         5  2012-10-06  2012-10-13  \n",
       "2         5  2013-08-31  2013-09-07  \n",
       "3         4  2014-10-09  2014-10-12  \n",
       "4         5  2015-08-10  2015-08-17  "
      ],
      "text/html": [
       "<div>\n",
       "<style scoped>\n",
       "    .dataframe tbody tr th:only-of-type {\n",
       "        vertical-align: middle;\n",
       "    }\n",
       "\n",
       "    .dataframe tbody tr th {\n",
       "        vertical-align: top;\n",
       "    }\n",
       "\n",
       "    .dataframe thead th {\n",
       "        text-align: right;\n",
       "    }\n",
       "</style>\n",
       "<table border=\"1\" class=\"dataframe\">\n",
       "  <thead>\n",
       "    <tr style=\"text-align: right;\">\n",
       "      <th></th>\n",
       "      <th>rating_date</th>\n",
       "      <th>listing_id</th>\n",
       "      <th>features</th>\n",
       "      <th>price</th>\n",
       "      <th>service</th>\n",
       "      <th>ambience</th>\n",
       "      <th>date_from</th>\n",
       "      <th>date_to</th>\n",
       "    </tr>\n",
       "  </thead>\n",
       "  <tbody>\n",
       "    <tr>\n",
       "      <th>0</th>\n",
       "      <td>2012-09-16</td>\n",
       "      <td>fbd74bce-23dd-53e7-b988-8beb85160d6f</td>\n",
       "      <td>5</td>\n",
       "      <td>5</td>\n",
       "      <td>5</td>\n",
       "      <td>5</td>\n",
       "      <td>2012-09-09</td>\n",
       "      <td>2012-09-15</td>\n",
       "    </tr>\n",
       "    <tr>\n",
       "      <th>1</th>\n",
       "      <td>2012-10-20</td>\n",
       "      <td>fbd74bce-23dd-53e7-b988-8beb85160d6f</td>\n",
       "      <td>4</td>\n",
       "      <td>5</td>\n",
       "      <td>5</td>\n",
       "      <td>5</td>\n",
       "      <td>2012-10-06</td>\n",
       "      <td>2012-10-13</td>\n",
       "    </tr>\n",
       "    <tr>\n",
       "      <th>2</th>\n",
       "      <td>2014-06-17</td>\n",
       "      <td>fbd74bce-23dd-53e7-b988-8beb85160d6f</td>\n",
       "      <td>5</td>\n",
       "      <td>5</td>\n",
       "      <td>5</td>\n",
       "      <td>5</td>\n",
       "      <td>2013-08-31</td>\n",
       "      <td>2013-09-07</td>\n",
       "    </tr>\n",
       "    <tr>\n",
       "      <th>3</th>\n",
       "      <td>2014-10-15</td>\n",
       "      <td>b766fc7c-6d44-5c86-b6d1-3f699c78b3a6</td>\n",
       "      <td>4</td>\n",
       "      <td>5</td>\n",
       "      <td>5</td>\n",
       "      <td>4</td>\n",
       "      <td>2014-10-09</td>\n",
       "      <td>2014-10-12</td>\n",
       "    </tr>\n",
       "    <tr>\n",
       "      <th>4</th>\n",
       "      <td>2015-08-19</td>\n",
       "      <td>b766fc7c-6d44-5c86-b6d1-3f699c78b3a6</td>\n",
       "      <td>4</td>\n",
       "      <td>5</td>\n",
       "      <td>5</td>\n",
       "      <td>5</td>\n",
       "      <td>2015-08-10</td>\n",
       "      <td>2015-08-17</td>\n",
       "    </tr>\n",
       "  </tbody>\n",
       "</table>\n",
       "</div>"
      ]
     },
     "metadata": {},
     "execution_count": 12
    }
   ],
   "metadata": {}
  },
  {
   "cell_type": "code",
   "execution_count": 14,
   "source": [
    "print (df_rating.dtypes)"
   ],
   "outputs": [
    {
     "output_type": "stream",
     "name": "stdout",
     "text": [
      "rating_date    datetime64[ns]\n",
      "listing_id             object\n",
      "features                int64\n",
      "price                   int64\n",
      "service                 int64\n",
      "ambience                int64\n",
      "date_from              object\n",
      "date_to                object\n",
      "dtype: object\n"
     ]
    }
   ],
   "metadata": {}
  },
  {
   "cell_type": "code",
   "execution_count": 54,
   "source": [
    "df_rating['date_to'] = pd.to_datetime(df_rating['date_to'], errors = 'coerce')"
   ],
   "outputs": [],
   "metadata": {}
  },
  {
   "cell_type": "code",
   "execution_count": 55,
   "source": [
    "df_rating['date_from'] = pd.to_datetime(df_rating['date_from'], errors = 'coerce')"
   ],
   "outputs": [],
   "metadata": {}
  },
  {
   "cell_type": "code",
   "execution_count": 17,
   "source": [
    "print (df_rating.dtypes)"
   ],
   "outputs": [
    {
     "output_type": "stream",
     "name": "stdout",
     "text": [
      "rating_date    datetime64[ns]\n",
      "listing_id             object\n",
      "features                int64\n",
      "price                   int64\n",
      "service                 int64\n",
      "ambience                int64\n",
      "date_from      datetime64[ns]\n",
      "date_to        datetime64[ns]\n",
      "dtype: object\n"
     ]
    }
   ],
   "metadata": {}
  },
  {
   "cell_type": "markdown",
   "source": [
    "# we want to try two different ways of thinking about ratings. The first is to create a rated or not category, and see if this helps us think about whether just having a rating can make a property more attractive. The second is to follow the impulse that a postive or negative rating--defined as having an average rating above or below 2.5 for all categories--has a differential impact on attractiveness (which might be expressed in more views, more inquiries, higher price)"
   ],
   "metadata": {}
  },
  {
   "cell_type": "markdown",
   "source": [
    "# 1) introduce a variable to indicate whether a property has a rating, this will be 0 for those properties we add in later"
   ],
   "metadata": {}
  },
  {
   "cell_type": "code",
   "execution_count": 39,
   "source": [
    "df_rating = df_rating.assign(rated=1)"
   ],
   "outputs": [],
   "metadata": {}
  },
  {
   "cell_type": "code",
   "execution_count": 40,
   "source": [
    "# get the master list of all properties. read in listings dataset\n",
    "\n",
    "df_listings = pd.read_csv('../data/listings_20210707.csv')\n",
    "\n"
   ],
   "outputs": [],
   "metadata": {}
  },
  {
   "cell_type": "code",
   "execution_count": 42,
   "source": [
    "df_listings.nunique()"
   ],
   "outputs": [
    {
     "output_type": "execute_result",
     "data": {
      "text/plain": [
       "listing_id                        30269\n",
       "customer_id                       19835\n",
       "state                                 3\n",
       "contract_end                         78\n",
       "zip                                 302\n",
       "country_title                         1\n",
       "region                               29\n",
       "subregion                           196\n",
       "holiday_region                       29\n",
       "property_type                        25\n",
       "subscription                          2\n",
       "binding_inquiry                       2\n",
       "option_allergic                       4\n",
       "option_non_smoking_only               4\n",
       "option_holiday_with_your_pet          4\n",
       "option_holiday_with_your_horse        4\n",
       "option_holiday_with_your_dog          4\n",
       "option_close_to_the_beach             3\n",
       "option_railway_station                2\n",
       "option_airport                        2\n",
       "option_wheelchair_accessible          3\n",
       "option_family_travel                  4\n",
       "option_close_to_the_water             3\n",
       "option_holiday_with_your_baby         4\n",
       "option_long_term_holiday              4\n",
       "option_fully_accessible               3\n",
       "option_technicians                    4\n",
       "option_close_to_the_ski_lift          3\n",
       "smoking                               3\n",
       "wheelchairaccess                      3\n",
       "babybed                               2\n",
       "wifi                                  2\n",
       "internet                              2\n",
       "dishwasher                            2\n",
       "washingmachine                        2\n",
       "dryer                                 2\n",
       "airconditioner                        2\n",
       "tv                                    2\n",
       "pool                                  2\n",
       "sauna                                 2\n",
       "grill                                 2\n",
       "garden                                2\n",
       "terrace                               2\n",
       "balcony                               2\n",
       "bathrooms                            10\n",
       "bedrooms                             14\n",
       "max_guests                           42\n",
       "pets                                  1\n",
       "living_area                         290\n",
       "dtype: int64"
      ]
     },
     "metadata": {},
     "execution_count": 42
    }
   ],
   "metadata": {}
  },
  {
   "cell_type": "code",
   "execution_count": 21,
   "source": [
    "df_listings.info()"
   ],
   "outputs": [
    {
     "output_type": "stream",
     "name": "stdout",
     "text": [
      "<class 'pandas.core.frame.DataFrame'>\n",
      "RangeIndex: 30269 entries, 0 to 30268\n",
      "Data columns (total 49 columns):\n",
      " #   Column                          Non-Null Count  Dtype  \n",
      "---  ------                          --------------  -----  \n",
      " 0   listing_id                      30269 non-null  object \n",
      " 1   customer_id                     30269 non-null  object \n",
      " 2   state                           30269 non-null  object \n",
      " 3   contract_end                    30269 non-null  object \n",
      " 4   zip                             30269 non-null  object \n",
      " 5   country_title                   30269 non-null  object \n",
      " 6   region                          30269 non-null  object \n",
      " 7   subregion                       30268 non-null  object \n",
      " 8   holiday_region                  30269 non-null  object \n",
      " 9   property_type                   30269 non-null  object \n",
      " 10  subscription                    30269 non-null  object \n",
      " 11  binding_inquiry                 30269 non-null  object \n",
      " 12  option_allergic                 30269 non-null  object \n",
      " 13  option_non_smoking_only         30269 non-null  object \n",
      " 14  option_holiday_with_your_pet    30269 non-null  object \n",
      " 15  option_holiday_with_your_horse  30269 non-null  object \n",
      " 16  option_holiday_with_your_dog    30269 non-null  object \n",
      " 17  option_close_to_the_beach       30269 non-null  object \n",
      " 18  option_railway_station          30269 non-null  object \n",
      " 19  option_airport                  30269 non-null  object \n",
      " 20  option_wheelchair_accessible    30269 non-null  object \n",
      " 21  option_family_travel            30269 non-null  object \n",
      " 22  option_close_to_the_water       30269 non-null  object \n",
      " 23  option_holiday_with_your_baby   30269 non-null  object \n",
      " 24  option_long_term_holiday        30269 non-null  object \n",
      " 25  option_fully_accessible         30269 non-null  object \n",
      " 26  option_technicians              30269 non-null  object \n",
      " 27  option_close_to_the_ski_lift    30269 non-null  object \n",
      " 28  smoking                         30269 non-null  object \n",
      " 29  wheelchairaccess                30269 non-null  object \n",
      " 30  babybed                         30269 non-null  object \n",
      " 31  wifi                            30269 non-null  object \n",
      " 32  internet                        30269 non-null  object \n",
      " 33  dishwasher                      30269 non-null  object \n",
      " 34  washingmachine                  30269 non-null  object \n",
      " 35  dryer                           30269 non-null  object \n",
      " 36  airconditioner                  30269 non-null  object \n",
      " 37  tv                              30269 non-null  object \n",
      " 38  pool                            30269 non-null  object \n",
      " 39  sauna                           30269 non-null  object \n",
      " 40  grill                           30269 non-null  object \n",
      " 41  garden                          30269 non-null  object \n",
      " 42  terrace                         30269 non-null  object \n",
      " 43  balcony                         30269 non-null  object \n",
      " 44  bathrooms                       29839 non-null  float64\n",
      " 45  bedrooms                        29839 non-null  float64\n",
      " 46  max_guests                      29839 non-null  float64\n",
      " 47  pets                            29839 non-null  float64\n",
      " 48  living_area                     29837 non-null  object \n",
      "dtypes: float64(4), object(45)\n",
      "memory usage: 11.3+ MB\n"
     ]
    }
   ],
   "metadata": {}
  },
  {
   "cell_type": "code",
   "execution_count": 24,
   "source": [
    "df_properties = df_listings['listing_id']"
   ],
   "outputs": [],
   "metadata": {}
  },
  {
   "cell_type": "code",
   "execution_count": null,
   "source": [],
   "outputs": [],
   "metadata": {}
  },
  {
   "cell_type": "code",
   "execution_count": 25,
   "source": [
    "df_properties.tail()\n"
   ],
   "outputs": [
    {
     "output_type": "execute_result",
     "data": {
      "text/plain": [
       "30264    00779d9d-7264-5704-a71d-e6d1849cb4b7\n",
       "30265    fd0c87bc-54f5-5281-90e8-93c3e4ac40b0\n",
       "30266    9e99c378-45e5-5635-8644-e3f13cf6d101\n",
       "30267    048f8764-c789-5003-9a67-a63d3d3f5062\n",
       "30268    713131b6-8f3d-50c9-b0cb-0ba0f985e06a\n",
       "Name: listing_id, dtype: object"
      ]
     },
     "metadata": {},
     "execution_count": 25
    }
   ],
   "metadata": {}
  },
  {
   "cell_type": "code",
   "execution_count": 46,
   "source": [
    "df_rating_all_properties = pd.merge(df_properties, df_rating, left_on='listing_id', right_on='listing_id', how='left')"
   ],
   "outputs": [],
   "metadata": {}
  },
  {
   "cell_type": "code",
   "execution_count": 47,
   "source": [
    "df_rating_all_properties.nunique()"
   ],
   "outputs": [
    {
     "output_type": "execute_result",
     "data": {
      "text/plain": [
       "listing_id     30269\n",
       "rating_date     4804\n",
       "features           5\n",
       "price              5\n",
       "service            5\n",
       "ambience           5\n",
       "date_from       3963\n",
       "date_to         3927\n",
       "rated              1\n",
       "dtype: int64"
      ]
     },
     "metadata": {},
     "execution_count": 47
    }
   ],
   "metadata": {}
  },
  {
   "cell_type": "code",
   "execution_count": 48,
   "source": [
    "# set missing values to zero\n",
    "\n",
    "df_rating_all_properties['rated'] = df_rating_all_properties['rated'].fillna(0)"
   ],
   "outputs": [],
   "metadata": {}
  },
  {
   "cell_type": "code",
   "execution_count": 49,
   "source": [
    "# check to see that there are two possible values in the rated/not reated category \n",
    "\n",
    "df_rating_all_properties['rated'].unique()"
   ],
   "outputs": [
    {
     "output_type": "execute_result",
     "data": {
      "text/plain": [
       "array([1., 0.])"
      ]
     },
     "metadata": {},
     "execution_count": 49
    }
   ],
   "metadata": {}
  },
  {
   "cell_type": "markdown",
   "source": [
    "# now generate average ratings for each property. proceed by first generating averages per stay, then for all ratings for each property"
   ],
   "metadata": {}
  },
  {
   "cell_type": "code",
   "execution_count": 50,
   "source": [
    "df_rating_all_properties['average_rating'] = df_rating_all_properties[['features', 'price', 'service', 'ambience']].mean(axis=1)"
   ],
   "outputs": [],
   "metadata": {}
  },
  {
   "cell_type": "code",
   "execution_count": 51,
   "source": [
    "df_rating_all_properties.head()"
   ],
   "outputs": [
    {
     "output_type": "execute_result",
     "data": {
      "text/plain": [
       "                             listing_id rating_date  features  price  service  \\\n",
       "0  97232bc1-cee6-54cc-9965-be13177051d3  2010-05-19       5.0    5.0      5.0   \n",
       "1  97232bc1-cee6-54cc-9965-be13177051d3  2010-05-19       5.0    5.0      5.0   \n",
       "2  97232bc1-cee6-54cc-9965-be13177051d3  2010-05-19       5.0    5.0      5.0   \n",
       "3  97232bc1-cee6-54cc-9965-be13177051d3  2010-05-19       5.0    5.0      5.0   \n",
       "4  97232bc1-cee6-54cc-9965-be13177051d3  2010-05-19       5.0    5.0      5.0   \n",
       "\n",
       "   ambience date_from date_to  rated  average_rating  \n",
       "0       5.0       NaT     NaT    1.0             5.0  \n",
       "1       5.0       NaT     NaT    1.0             5.0  \n",
       "2       5.0       NaT     NaT    1.0             5.0  \n",
       "3       5.0       NaT     NaT    1.0             5.0  \n",
       "4       5.0       NaT     NaT    1.0             5.0  "
      ],
      "text/html": [
       "<div>\n",
       "<style scoped>\n",
       "    .dataframe tbody tr th:only-of-type {\n",
       "        vertical-align: middle;\n",
       "    }\n",
       "\n",
       "    .dataframe tbody tr th {\n",
       "        vertical-align: top;\n",
       "    }\n",
       "\n",
       "    .dataframe thead th {\n",
       "        text-align: right;\n",
       "    }\n",
       "</style>\n",
       "<table border=\"1\" class=\"dataframe\">\n",
       "  <thead>\n",
       "    <tr style=\"text-align: right;\">\n",
       "      <th></th>\n",
       "      <th>listing_id</th>\n",
       "      <th>rating_date</th>\n",
       "      <th>features</th>\n",
       "      <th>price</th>\n",
       "      <th>service</th>\n",
       "      <th>ambience</th>\n",
       "      <th>date_from</th>\n",
       "      <th>date_to</th>\n",
       "      <th>rated</th>\n",
       "      <th>average_rating</th>\n",
       "    </tr>\n",
       "  </thead>\n",
       "  <tbody>\n",
       "    <tr>\n",
       "      <th>0</th>\n",
       "      <td>97232bc1-cee6-54cc-9965-be13177051d3</td>\n",
       "      <td>2010-05-19</td>\n",
       "      <td>5.0</td>\n",
       "      <td>5.0</td>\n",
       "      <td>5.0</td>\n",
       "      <td>5.0</td>\n",
       "      <td>NaT</td>\n",
       "      <td>NaT</td>\n",
       "      <td>1.0</td>\n",
       "      <td>5.0</td>\n",
       "    </tr>\n",
       "    <tr>\n",
       "      <th>1</th>\n",
       "      <td>97232bc1-cee6-54cc-9965-be13177051d3</td>\n",
       "      <td>2010-05-19</td>\n",
       "      <td>5.0</td>\n",
       "      <td>5.0</td>\n",
       "      <td>5.0</td>\n",
       "      <td>5.0</td>\n",
       "      <td>NaT</td>\n",
       "      <td>NaT</td>\n",
       "      <td>1.0</td>\n",
       "      <td>5.0</td>\n",
       "    </tr>\n",
       "    <tr>\n",
       "      <th>2</th>\n",
       "      <td>97232bc1-cee6-54cc-9965-be13177051d3</td>\n",
       "      <td>2010-05-19</td>\n",
       "      <td>5.0</td>\n",
       "      <td>5.0</td>\n",
       "      <td>5.0</td>\n",
       "      <td>5.0</td>\n",
       "      <td>NaT</td>\n",
       "      <td>NaT</td>\n",
       "      <td>1.0</td>\n",
       "      <td>5.0</td>\n",
       "    </tr>\n",
       "    <tr>\n",
       "      <th>3</th>\n",
       "      <td>97232bc1-cee6-54cc-9965-be13177051d3</td>\n",
       "      <td>2010-05-19</td>\n",
       "      <td>5.0</td>\n",
       "      <td>5.0</td>\n",
       "      <td>5.0</td>\n",
       "      <td>5.0</td>\n",
       "      <td>NaT</td>\n",
       "      <td>NaT</td>\n",
       "      <td>1.0</td>\n",
       "      <td>5.0</td>\n",
       "    </tr>\n",
       "    <tr>\n",
       "      <th>4</th>\n",
       "      <td>97232bc1-cee6-54cc-9965-be13177051d3</td>\n",
       "      <td>2010-05-19</td>\n",
       "      <td>5.0</td>\n",
       "      <td>5.0</td>\n",
       "      <td>5.0</td>\n",
       "      <td>5.0</td>\n",
       "      <td>NaT</td>\n",
       "      <td>NaT</td>\n",
       "      <td>1.0</td>\n",
       "      <td>5.0</td>\n",
       "    </tr>\n",
       "  </tbody>\n",
       "</table>\n",
       "</div>"
      ]
     },
     "metadata": {},
     "execution_count": 51
    }
   ],
   "metadata": {}
  },
  {
   "cell_type": "code",
   "execution_count": 52,
   "source": [
    "# now generate average ratings by listing id\n",
    "df_rating_all_properties.groupby(\"listing_id\", as_index=True)[['average_rating']].mean()"
   ],
   "outputs": [
    {
     "output_type": "execute_result",
     "data": {
      "text/plain": [
       "                                      average_rating\n",
       "listing_id                                          \n",
       "00005de7-6ed8-541b-be83-2573a46cd307             NaN\n",
       "0002653c-7e59-59a2-89f2-f6574ba14a0a             NaN\n",
       "0003f153-450a-5837-8a46-bd5db5b536b1        4.986111\n",
       "00058d0d-579c-5b84-814b-8920fb5f1a27        5.000000\n",
       "000cd267-f826-50f4-aa55-cec9aaa079ae        5.000000\n",
       "...                                              ...\n",
       "ffedb526-cde3-54d6-9db9-f865ed0a0f13        4.875000\n",
       "fff6b775-e07f-578e-b4f6-a792426ce3aa        4.880952\n",
       "fffed690-31dd-5409-bc1e-81121ec35345             NaN\n",
       "ffffa8d1-d94a-5475-8e0d-2057495f4734             NaN\n",
       "ffffafae-e827-5f6a-9691-97b4e788d498             NaN\n",
       "\n",
       "[30269 rows x 1 columns]"
      ],
      "text/html": [
       "<div>\n",
       "<style scoped>\n",
       "    .dataframe tbody tr th:only-of-type {\n",
       "        vertical-align: middle;\n",
       "    }\n",
       "\n",
       "    .dataframe tbody tr th {\n",
       "        vertical-align: top;\n",
       "    }\n",
       "\n",
       "    .dataframe thead th {\n",
       "        text-align: right;\n",
       "    }\n",
       "</style>\n",
       "<table border=\"1\" class=\"dataframe\">\n",
       "  <thead>\n",
       "    <tr style=\"text-align: right;\">\n",
       "      <th></th>\n",
       "      <th>average_rating</th>\n",
       "    </tr>\n",
       "    <tr>\n",
       "      <th>listing_id</th>\n",
       "      <th></th>\n",
       "    </tr>\n",
       "  </thead>\n",
       "  <tbody>\n",
       "    <tr>\n",
       "      <th>00005de7-6ed8-541b-be83-2573a46cd307</th>\n",
       "      <td>NaN</td>\n",
       "    </tr>\n",
       "    <tr>\n",
       "      <th>0002653c-7e59-59a2-89f2-f6574ba14a0a</th>\n",
       "      <td>NaN</td>\n",
       "    </tr>\n",
       "    <tr>\n",
       "      <th>0003f153-450a-5837-8a46-bd5db5b536b1</th>\n",
       "      <td>4.986111</td>\n",
       "    </tr>\n",
       "    <tr>\n",
       "      <th>00058d0d-579c-5b84-814b-8920fb5f1a27</th>\n",
       "      <td>5.000000</td>\n",
       "    </tr>\n",
       "    <tr>\n",
       "      <th>000cd267-f826-50f4-aa55-cec9aaa079ae</th>\n",
       "      <td>5.000000</td>\n",
       "    </tr>\n",
       "    <tr>\n",
       "      <th>...</th>\n",
       "      <td>...</td>\n",
       "    </tr>\n",
       "    <tr>\n",
       "      <th>ffedb526-cde3-54d6-9db9-f865ed0a0f13</th>\n",
       "      <td>4.875000</td>\n",
       "    </tr>\n",
       "    <tr>\n",
       "      <th>fff6b775-e07f-578e-b4f6-a792426ce3aa</th>\n",
       "      <td>4.880952</td>\n",
       "    </tr>\n",
       "    <tr>\n",
       "      <th>fffed690-31dd-5409-bc1e-81121ec35345</th>\n",
       "      <td>NaN</td>\n",
       "    </tr>\n",
       "    <tr>\n",
       "      <th>ffffa8d1-d94a-5475-8e0d-2057495f4734</th>\n",
       "      <td>NaN</td>\n",
       "    </tr>\n",
       "    <tr>\n",
       "      <th>ffffafae-e827-5f6a-9691-97b4e788d498</th>\n",
       "      <td>NaN</td>\n",
       "    </tr>\n",
       "  </tbody>\n",
       "</table>\n",
       "<p>30269 rows × 1 columns</p>\n",
       "</div>"
      ]
     },
     "metadata": {},
     "execution_count": 52
    }
   ],
   "metadata": {}
  },
  {
   "cell_type": "code",
   "execution_count": null,
   "source": [],
   "outputs": [],
   "metadata": {}
  },
  {
   "cell_type": "code",
   "execution_count": 53,
   "source": [
    "df_rating_all_properties.nunique()"
   ],
   "outputs": [
    {
     "output_type": "execute_result",
     "data": {
      "text/plain": [
       "listing_id        30269\n",
       "rating_date        4804\n",
       "features              5\n",
       "price                 5\n",
       "service               5\n",
       "ambience              5\n",
       "date_from          3963\n",
       "date_to            3927\n",
       "rated                 2\n",
       "average_rating       17\n",
       "dtype: int64"
      ]
     },
     "metadata": {},
     "execution_count": 53
    }
   ],
   "metadata": {}
  },
  {
   "cell_type": "code",
   "execution_count": 54,
   "source": [
    "# set missing values to zero\n",
    "\n",
    "df_rating_all_properties['average_rating'] = df_rating_all_properties['average_rating'].fillna(0)"
   ],
   "outputs": [],
   "metadata": {}
  },
  {
   "cell_type": "code",
   "execution_count": 57,
   "source": [
    "df_rating_all_properties['average_rating'].unique()"
   ],
   "outputs": [
    {
     "output_type": "execute_result",
     "data": {
      "text/plain": [
       "array([5.  , 4.75, 4.  , 0.  , 4.5 , 4.25, 3.  , 3.5 , 1.5 , 2.  , 2.25,\n",
       "       3.75, 3.25, 2.75, 1.75, 2.5 , 1.  , 1.25])"
      ]
     },
     "metadata": {},
     "execution_count": 57
    }
   ],
   "metadata": {}
  },
  {
   "cell_type": "code",
   "execution_count": 60,
   "source": [
    "df_rating_all_properties['average_rating'].value_counts()"
   ],
   "outputs": [
    {
     "output_type": "execute_result",
     "data": {
      "text/plain": [
       "5.00    158985\n",
       "4.75     15131\n",
       "0.00      9261\n",
       "4.50      5179\n",
       "4.25      1579\n",
       "4.00      1167\n",
       "3.75       302\n",
       "3.50       218\n",
       "3.00       147\n",
       "3.25       124\n",
       "2.50        98\n",
       "2.00        94\n",
       "2.75        87\n",
       "2.25        77\n",
       "1.75        62\n",
       "1.50        44\n",
       "1.00        26\n",
       "1.25        15\n",
       "Name: average_rating, dtype: int64"
      ]
     },
     "metadata": {},
     "execution_count": 60
    }
   ],
   "metadata": {}
  },
  {
   "cell_type": "markdown",
   "source": [],
   "metadata": {}
  },
  {
   "cell_type": "markdown",
   "source": [
    "# test to see how long stays tend to be in our ratings data"
   ],
   "metadata": {}
  },
  {
   "cell_type": "code",
   "execution_count": 66,
   "source": [
    "df_rating['length_of_stay'] = (df_rating.date_to - df_rating.date_from).dt.days\n"
   ],
   "outputs": [],
   "metadata": {}
  },
  {
   "cell_type": "code",
   "execution_count": 67,
   "source": [
    "df_stay = df_rating['length_of_stay'].mean()\n",
    "df_stay"
   ],
   "outputs": [
    {
     "output_type": "execute_result",
     "data": {
      "text/plain": [
       "7.534252304305957"
      ]
     },
     "metadata": {},
     "execution_count": 67
    }
   ],
   "metadata": {}
  },
  {
   "cell_type": "code",
   "execution_count": 68,
   "source": [
    "df_rating['month_year'] = df_rating['rating_date'].dt.to_period('M')"
   ],
   "outputs": [
    {
     "output_type": "error",
     "ename": "NameError",
     "evalue": "name 'df' is not defined",
     "traceback": [
      "\u001b[0;31m---------------------------------------------------------------------------\u001b[0m",
      "\u001b[0;31mNameError\u001b[0m                                 Traceback (most recent call last)",
      "\u001b[0;32m/var/folders/3p/pj5rwtf930q9x4z3nxgxbmgr0000gn/T/ipykernel_53744/970977920.py\u001b[0m in \u001b[0;36m<module>\u001b[0;34m\u001b[0m\n\u001b[0;32m----> 1\u001b[0;31m \u001b[0mdf\u001b[0m\u001b[0;34m[\u001b[0m\u001b[0;34m'month_year'\u001b[0m\u001b[0;34m]\u001b[0m \u001b[0;34m=\u001b[0m \u001b[0mdf\u001b[0m\u001b[0;34m[\u001b[0m\u001b[0;34m'rating_date'\u001b[0m\u001b[0;34m]\u001b[0m\u001b[0;34m.\u001b[0m\u001b[0mdt\u001b[0m\u001b[0;34m.\u001b[0m\u001b[0mto_period\u001b[0m\u001b[0;34m(\u001b[0m\u001b[0;34m'M'\u001b[0m\u001b[0;34m)\u001b[0m\u001b[0;34m\u001b[0m\u001b[0;34m\u001b[0m\u001b[0m\n\u001b[0m",
      "\u001b[0;31mNameError\u001b[0m: name 'df' is not defined"
     ]
    }
   ],
   "metadata": {}
  },
  {
   "cell_type": "code",
   "execution_count": 65,
   "source": [
    "df_rating['rating_date'].resample('D').count()"
   ],
   "outputs": [
    {
     "output_type": "error",
     "ename": "TypeError",
     "evalue": "Only valid with DatetimeIndex, TimedeltaIndex or PeriodIndex, but got an instance of 'RangeIndex'",
     "traceback": [
      "\u001b[0;31m---------------------------------------------------------------------------\u001b[0m",
      "\u001b[0;31mTypeError\u001b[0m                                 Traceback (most recent call last)",
      "\u001b[0;32m/var/folders/3p/pj5rwtf930q9x4z3nxgxbmgr0000gn/T/ipykernel_53744/3270352465.py\u001b[0m in \u001b[0;36m<module>\u001b[0;34m\u001b[0m\n\u001b[0;32m----> 1\u001b[0;31m \u001b[0mdf_rating\u001b[0m\u001b[0;34m[\u001b[0m\u001b[0;34m'rating_date'\u001b[0m\u001b[0;34m]\u001b[0m\u001b[0;34m.\u001b[0m\u001b[0mresample\u001b[0m\u001b[0;34m(\u001b[0m\u001b[0;34m'D'\u001b[0m\u001b[0;34m)\u001b[0m\u001b[0;34m.\u001b[0m\u001b[0mcount\u001b[0m\u001b[0;34m(\u001b[0m\u001b[0;34m)\u001b[0m\u001b[0;34m\u001b[0m\u001b[0;34m\u001b[0m\u001b[0m\n\u001b[0m",
      "\u001b[0;32m~/neue-fische-traum/traum-preis/.venv/lib/python3.8/site-packages/pandas/core/generic.py\u001b[0m in \u001b[0;36mresample\u001b[0;34m(self, rule, axis, closed, label, convention, kind, loffset, base, on, level, origin, offset)\u001b[0m\n\u001b[1;32m   8362\u001b[0m \u001b[0;34m\u001b[0m\u001b[0m\n\u001b[1;32m   8363\u001b[0m         \u001b[0maxis\u001b[0m \u001b[0;34m=\u001b[0m \u001b[0mself\u001b[0m\u001b[0;34m.\u001b[0m\u001b[0m_get_axis_number\u001b[0m\u001b[0;34m(\u001b[0m\u001b[0maxis\u001b[0m\u001b[0;34m)\u001b[0m\u001b[0;34m\u001b[0m\u001b[0;34m\u001b[0m\u001b[0m\n\u001b[0;32m-> 8364\u001b[0;31m         return get_resampler(\n\u001b[0m\u001b[1;32m   8365\u001b[0m             \u001b[0mself\u001b[0m\u001b[0;34m,\u001b[0m\u001b[0;34m\u001b[0m\u001b[0;34m\u001b[0m\u001b[0m\n\u001b[1;32m   8366\u001b[0m             \u001b[0mfreq\u001b[0m\u001b[0;34m=\u001b[0m\u001b[0mrule\u001b[0m\u001b[0;34m,\u001b[0m\u001b[0;34m\u001b[0m\u001b[0;34m\u001b[0m\u001b[0m\n",
      "\u001b[0;32m~/neue-fische-traum/traum-preis/.venv/lib/python3.8/site-packages/pandas/core/resample.py\u001b[0m in \u001b[0;36mget_resampler\u001b[0;34m(obj, kind, **kwds)\u001b[0m\n\u001b[1;32m   1309\u001b[0m     \"\"\"\n\u001b[1;32m   1310\u001b[0m     \u001b[0mtg\u001b[0m \u001b[0;34m=\u001b[0m \u001b[0mTimeGrouper\u001b[0m\u001b[0;34m(\u001b[0m\u001b[0;34m**\u001b[0m\u001b[0mkwds\u001b[0m\u001b[0;34m)\u001b[0m\u001b[0;34m\u001b[0m\u001b[0;34m\u001b[0m\u001b[0m\n\u001b[0;32m-> 1311\u001b[0;31m     \u001b[0;32mreturn\u001b[0m \u001b[0mtg\u001b[0m\u001b[0;34m.\u001b[0m\u001b[0m_get_resampler\u001b[0m\u001b[0;34m(\u001b[0m\u001b[0mobj\u001b[0m\u001b[0;34m,\u001b[0m \u001b[0mkind\u001b[0m\u001b[0;34m=\u001b[0m\u001b[0mkind\u001b[0m\u001b[0;34m)\u001b[0m\u001b[0;34m\u001b[0m\u001b[0;34m\u001b[0m\u001b[0m\n\u001b[0m\u001b[1;32m   1312\u001b[0m \u001b[0;34m\u001b[0m\u001b[0m\n\u001b[1;32m   1313\u001b[0m \u001b[0;34m\u001b[0m\u001b[0m\n",
      "\u001b[0;32m~/neue-fische-traum/traum-preis/.venv/lib/python3.8/site-packages/pandas/core/resample.py\u001b[0m in \u001b[0;36m_get_resampler\u001b[0;34m(self, obj, kind)\u001b[0m\n\u001b[1;32m   1474\u001b[0m             \u001b[0;32mreturn\u001b[0m \u001b[0mTimedeltaIndexResampler\u001b[0m\u001b[0;34m(\u001b[0m\u001b[0mobj\u001b[0m\u001b[0;34m,\u001b[0m \u001b[0mgroupby\u001b[0m\u001b[0;34m=\u001b[0m\u001b[0mself\u001b[0m\u001b[0;34m,\u001b[0m \u001b[0maxis\u001b[0m\u001b[0;34m=\u001b[0m\u001b[0mself\u001b[0m\u001b[0;34m.\u001b[0m\u001b[0maxis\u001b[0m\u001b[0;34m)\u001b[0m\u001b[0;34m\u001b[0m\u001b[0;34m\u001b[0m\u001b[0m\n\u001b[1;32m   1475\u001b[0m \u001b[0;34m\u001b[0m\u001b[0m\n\u001b[0;32m-> 1476\u001b[0;31m         raise TypeError(\n\u001b[0m\u001b[1;32m   1477\u001b[0m             \u001b[0;34m\"Only valid with DatetimeIndex, \"\u001b[0m\u001b[0;34m\u001b[0m\u001b[0;34m\u001b[0m\u001b[0m\n\u001b[1;32m   1478\u001b[0m             \u001b[0;34m\"TimedeltaIndex or PeriodIndex, \"\u001b[0m\u001b[0;34m\u001b[0m\u001b[0;34m\u001b[0m\u001b[0m\n",
      "\u001b[0;31mTypeError\u001b[0m: Only valid with DatetimeIndex, TimedeltaIndex or PeriodIndex, but got an instance of 'RangeIndex'"
     ]
    }
   ],
   "metadata": {}
  },
  {
   "cell_type": "code",
   "execution_count": 30,
   "source": [
    "xxx"
   ],
   "outputs": [
    {
     "output_type": "execute_result",
     "data": {
      "text/plain": [
       "rating_date  rating_date\n",
       "2002         8                 1\n",
       "2003         8                 1\n",
       "             9                 1\n",
       "             10                1\n",
       "2005         7                 1\n",
       "                            ... \n",
       "2021         3               213\n",
       "             4               200\n",
       "             5              1141\n",
       "             6              4082\n",
       "             7               838\n",
       "Name: rating_date, Length: 196, dtype: int64"
      ]
     },
     "metadata": {},
     "execution_count": 30
    }
   ],
   "metadata": {}
  },
  {
   "cell_type": "markdown",
   "source": [],
   "metadata": {}
  },
  {
   "cell_type": "code",
   "execution_count": 58,
   "source": [
    "fig, ax = plt.subplots(figsize=(15,5))\n",
    "sns.lineplot(data=df_rating, x=df_rating['date_from'], y=df_rating['date_from'].resample('M').mean())"
   ],
   "outputs": [
    {
     "output_type": "error",
     "ename": "TypeError",
     "evalue": "Only valid with DatetimeIndex, TimedeltaIndex or PeriodIndex, but got an instance of 'RangeIndex'",
     "traceback": [
      "\u001b[0;31m---------------------------------------------------------------------------\u001b[0m",
      "\u001b[0;31mTypeError\u001b[0m                                 Traceback (most recent call last)",
      "\u001b[0;32m/var/folders/3p/pj5rwtf930q9x4z3nxgxbmgr0000gn/T/ipykernel_53744/1505101059.py\u001b[0m in \u001b[0;36m<module>\u001b[0;34m\u001b[0m\n\u001b[1;32m      1\u001b[0m \u001b[0mfig\u001b[0m\u001b[0;34m,\u001b[0m \u001b[0max\u001b[0m \u001b[0;34m=\u001b[0m \u001b[0mplt\u001b[0m\u001b[0;34m.\u001b[0m\u001b[0msubplots\u001b[0m\u001b[0;34m(\u001b[0m\u001b[0mfigsize\u001b[0m\u001b[0;34m=\u001b[0m\u001b[0;34m(\u001b[0m\u001b[0;36m15\u001b[0m\u001b[0;34m,\u001b[0m\u001b[0;36m5\u001b[0m\u001b[0;34m)\u001b[0m\u001b[0;34m)\u001b[0m\u001b[0;34m\u001b[0m\u001b[0;34m\u001b[0m\u001b[0m\n\u001b[0;32m----> 2\u001b[0;31m \u001b[0msns\u001b[0m\u001b[0;34m.\u001b[0m\u001b[0mlineplot\u001b[0m\u001b[0;34m(\u001b[0m\u001b[0mdata\u001b[0m\u001b[0;34m=\u001b[0m\u001b[0mdf_rating\u001b[0m\u001b[0;34m,\u001b[0m \u001b[0mx\u001b[0m\u001b[0;34m=\u001b[0m\u001b[0mdf_rating\u001b[0m\u001b[0;34m[\u001b[0m\u001b[0;34m'date_from'\u001b[0m\u001b[0;34m]\u001b[0m\u001b[0;34m,\u001b[0m \u001b[0my\u001b[0m\u001b[0;34m=\u001b[0m\u001b[0mdf_rating\u001b[0m\u001b[0;34m[\u001b[0m\u001b[0;34m'date_from'\u001b[0m\u001b[0;34m]\u001b[0m\u001b[0;34m.\u001b[0m\u001b[0mresample\u001b[0m\u001b[0;34m(\u001b[0m\u001b[0;34m'M'\u001b[0m\u001b[0;34m)\u001b[0m\u001b[0;34m.\u001b[0m\u001b[0mmean\u001b[0m\u001b[0;34m(\u001b[0m\u001b[0;34m)\u001b[0m\u001b[0;34m)\u001b[0m\u001b[0;34m\u001b[0m\u001b[0;34m\u001b[0m\u001b[0m\n\u001b[0m",
      "\u001b[0;32m~/neue-fische-traum/traum-preis/.venv/lib/python3.8/site-packages/pandas/core/generic.py\u001b[0m in \u001b[0;36mresample\u001b[0;34m(self, rule, axis, closed, label, convention, kind, loffset, base, on, level, origin, offset)\u001b[0m\n\u001b[1;32m   8362\u001b[0m \u001b[0;34m\u001b[0m\u001b[0m\n\u001b[1;32m   8363\u001b[0m         \u001b[0maxis\u001b[0m \u001b[0;34m=\u001b[0m \u001b[0mself\u001b[0m\u001b[0;34m.\u001b[0m\u001b[0m_get_axis_number\u001b[0m\u001b[0;34m(\u001b[0m\u001b[0maxis\u001b[0m\u001b[0;34m)\u001b[0m\u001b[0;34m\u001b[0m\u001b[0;34m\u001b[0m\u001b[0m\n\u001b[0;32m-> 8364\u001b[0;31m         return get_resampler(\n\u001b[0m\u001b[1;32m   8365\u001b[0m             \u001b[0mself\u001b[0m\u001b[0;34m,\u001b[0m\u001b[0;34m\u001b[0m\u001b[0;34m\u001b[0m\u001b[0m\n\u001b[1;32m   8366\u001b[0m             \u001b[0mfreq\u001b[0m\u001b[0;34m=\u001b[0m\u001b[0mrule\u001b[0m\u001b[0;34m,\u001b[0m\u001b[0;34m\u001b[0m\u001b[0;34m\u001b[0m\u001b[0m\n",
      "\u001b[0;32m~/neue-fische-traum/traum-preis/.venv/lib/python3.8/site-packages/pandas/core/resample.py\u001b[0m in \u001b[0;36mget_resampler\u001b[0;34m(obj, kind, **kwds)\u001b[0m\n\u001b[1;32m   1309\u001b[0m     \"\"\"\n\u001b[1;32m   1310\u001b[0m     \u001b[0mtg\u001b[0m \u001b[0;34m=\u001b[0m \u001b[0mTimeGrouper\u001b[0m\u001b[0;34m(\u001b[0m\u001b[0;34m**\u001b[0m\u001b[0mkwds\u001b[0m\u001b[0;34m)\u001b[0m\u001b[0;34m\u001b[0m\u001b[0;34m\u001b[0m\u001b[0m\n\u001b[0;32m-> 1311\u001b[0;31m     \u001b[0;32mreturn\u001b[0m \u001b[0mtg\u001b[0m\u001b[0;34m.\u001b[0m\u001b[0m_get_resampler\u001b[0m\u001b[0;34m(\u001b[0m\u001b[0mobj\u001b[0m\u001b[0;34m,\u001b[0m \u001b[0mkind\u001b[0m\u001b[0;34m=\u001b[0m\u001b[0mkind\u001b[0m\u001b[0;34m)\u001b[0m\u001b[0;34m\u001b[0m\u001b[0;34m\u001b[0m\u001b[0m\n\u001b[0m\u001b[1;32m   1312\u001b[0m \u001b[0;34m\u001b[0m\u001b[0m\n\u001b[1;32m   1313\u001b[0m \u001b[0;34m\u001b[0m\u001b[0m\n",
      "\u001b[0;32m~/neue-fische-traum/traum-preis/.venv/lib/python3.8/site-packages/pandas/core/resample.py\u001b[0m in \u001b[0;36m_get_resampler\u001b[0;34m(self, obj, kind)\u001b[0m\n\u001b[1;32m   1474\u001b[0m             \u001b[0;32mreturn\u001b[0m \u001b[0mTimedeltaIndexResampler\u001b[0m\u001b[0;34m(\u001b[0m\u001b[0mobj\u001b[0m\u001b[0;34m,\u001b[0m \u001b[0mgroupby\u001b[0m\u001b[0;34m=\u001b[0m\u001b[0mself\u001b[0m\u001b[0;34m,\u001b[0m \u001b[0maxis\u001b[0m\u001b[0;34m=\u001b[0m\u001b[0mself\u001b[0m\u001b[0;34m.\u001b[0m\u001b[0maxis\u001b[0m\u001b[0;34m)\u001b[0m\u001b[0;34m\u001b[0m\u001b[0;34m\u001b[0m\u001b[0m\n\u001b[1;32m   1475\u001b[0m \u001b[0;34m\u001b[0m\u001b[0m\n\u001b[0;32m-> 1476\u001b[0;31m         raise TypeError(\n\u001b[0m\u001b[1;32m   1477\u001b[0m             \u001b[0;34m\"Only valid with DatetimeIndex, \"\u001b[0m\u001b[0;34m\u001b[0m\u001b[0;34m\u001b[0m\u001b[0m\n\u001b[1;32m   1478\u001b[0m             \u001b[0;34m\"TimedeltaIndex or PeriodIndex, \"\u001b[0m\u001b[0;34m\u001b[0m\u001b[0;34m\u001b[0m\u001b[0m\n",
      "\u001b[0;31mTypeError\u001b[0m: Only valid with DatetimeIndex, TimedeltaIndex or PeriodIndex, but got an instance of 'RangeIndex'"
     ]
    },
    {
     "output_type": "display_data",
     "data": {
      "text/plain": [
       "<Figure size 1080x360 with 1 Axes>"
      ],
      "image/png": "[encoded data removed]"
     },
     "metadata": {
      "needs_background": "light"
     }
    }
   ],
   "metadata": {}
  },
  {
   "cell_type": "code",
   "execution_count": null,
   "source": [
    "sns.displot(df_rating['length_of_stay'])"
   ],
   "outputs": [],
   "metadata": {}
  },
  {
   "cell_type": "code",
   "execution_count": null,
   "source": [],
   "outputs": [],
   "metadata": {}
  },
  {
   "cell_type": "code",
   "execution_count": null,
   "source": [],
   "outputs": [],
   "metadata": {}
  }
 ],
 "metadata": {
  "interpreter": {
   "hash": "50124f71d8f3ce399cc8f90e232172b7703f7c279ffa8eaec14b162019ba404a"
  },
  "kernelspec": {
   "display_name": "Python 3.8.5 64-bit ('.venv': venv)",
   "name": "python3"
  },
  "language_info": {
   "codemirror_mode": {
    "name": "ipython",
    "version": 3
   },
   "file_extension": ".py",
   "mimetype": "text/x-python",
   "name": "python",
   "nbconvert_exporter": "python",
   "pygments_lexer": "ipython3",
   "version": "3.8.5"
  },
  "orig_nbformat": 4
 },
 "nbformat": 4,
 "nbformat_minor": 2
}