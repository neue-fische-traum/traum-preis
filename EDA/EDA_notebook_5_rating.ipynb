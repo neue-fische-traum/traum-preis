{
 "cells": [
  {
   "cell_type": "code",
   "execution_count": null,
   "metadata": {},
   "outputs": [],
   "source": []
  },
  {
   "cell_type": "markdown",
   "metadata": {},
   "source": [
    "# This notebook will serve for the initial EDA for the ratings data for the TFW project"
   ]
  },
  {
   "cell_type": "code",
   "execution_count": 1,
   "metadata": {},
   "outputs": [],
   "source": [
    "# Import necassary libraries\n",
    "import pandas as pd\n",
    "import numpy as np\n",
    "import os\n",
    "import seaborn as sns\n",
    "import matplotlib.pyplot as plt\n",
    "\n",
    "ROOT = os.environ.get('PWD')"
   ]
  },
  {
   "cell_type": "code",
   "execution_count": 2,
   "metadata": {},
   "outputs": [],
   "source": [
    "# read in the dataset\n",
    "\n",
    "df_rating = pd.read_csv('../data/rating_20210707.csv')"
   ]
  },
  {
   "cell_type": "code",
   "execution_count": 3,
   "metadata": {},
   "outputs": [
    {
     "data": {
      "image/png": "[encoded data removed]",
      "text/plain": [
       "<Figure size 432x288 with 2 Axes>"
      ]
     },
     "metadata": {
      "needs_background": "light"
     },
     "output_type": "display_data"
    }
   ],
   "source": [
    "# generate the heatmap\n",
    "\n",
    "corr = df_rating.corr()\n",
    "ax = sns.heatmap(\n",
    "    corr,\n",
    "    vmin=-1, vmax=1, center=0,\n",
    "    cmap=sns.diverging_palette(20, 220, n=200),\n",
    "    square=True\n",
    ")\n",
    "ax.set_xticklabels(\n",
    "    ax.get_xticklabels(),\n",
    "    rotation=45,\n",
    "    horizontalalignment='right'\n",
    ");\n"
   ]
  },
  {
   "cell_type": "code",
   "execution_count": 38,
   "metadata": {},
   "outputs": [
    {
     "data": {
      "text/html": [
       "<style  type=\"text/css\" >\n",
       "#T_2fbdf_row0_col0,#T_2fbdf_row1_col1,#T_2fbdf_row2_col2,#T_2fbdf_row3_col3{\n",
       "            background-color:  #b40426;\n",
       "            color:  #f1f1f1;\n",
       "        }#T_2fbdf_row0_col1,#T_2fbdf_row2_col0{\n",
       "            background-color:  #c1d4f4;\n",
       "            color:  #000000;\n",
       "        }#T_2fbdf_row0_col2{\n",
       "            background-color:  #b1cbfc;\n",
       "            color:  #000000;\n",
       "        }#T_2fbdf_row0_col3,#T_2fbdf_row3_col0,#T_2fbdf_row3_col1,#T_2fbdf_row3_col2{\n",
       "            background-color:  #3b4cc0;\n",
       "            color:  #f1f1f1;\n",
       "        }#T_2fbdf_row1_col0{\n",
       "            background-color:  #d1dae9;\n",
       "            color:  #000000;\n",
       "        }#T_2fbdf_row1_col2{\n",
       "            background-color:  #dbdcde;\n",
       "            color:  #000000;\n",
       "        }#T_2fbdf_row1_col3{\n",
       "            background-color:  #5572df;\n",
       "            color:  #000000;\n",
       "        }#T_2fbdf_row2_col1{\n",
       "            background-color:  #d9dce1;\n",
       "            color:  #000000;\n",
       "        }#T_2fbdf_row2_col3{\n",
       "            background-color:  #516ddb;\n",
       "            color:  #000000;\n",
       "        }</style><table id=\"T_2fbdf_\" ><thead>    <tr>        <th class=\"blank level0\" ></th>        <th class=\"col_heading level0 col0\" >features</th>        <th class=\"col_heading level0 col1\" >price</th>        <th class=\"col_heading level0 col2\" >service</th>        <th class=\"col_heading level0 col3\" >ambience</th>    </tr></thead><tbody>\n",
       "                <tr>\n",
       "                        <th id=\"T_2fbdf_level0_row0\" class=\"row_heading level0 row0\" >features</th>\n",
       "                        <td id=\"T_2fbdf_row0_col0\" class=\"data row0 col0\" >1.000000</td>\n",
       "                        <td id=\"T_2fbdf_row0_col1\" class=\"data row0 col1\" >0.618268</td>\n",
       "                        <td id=\"T_2fbdf_row0_col2\" class=\"data row0 col2\" >0.581604</td>\n",
       "                        <td id=\"T_2fbdf_row0_col3\" class=\"data row0 col3\" >0.298260</td>\n",
       "            </tr>\n",
       "            <tr>\n",
       "                        <th id=\"T_2fbdf_level0_row1\" class=\"row_heading level0 row1\" >price</th>\n",
       "                        <td id=\"T_2fbdf_row1_col0\" class=\"data row1 col0\" >0.618268</td>\n",
       "                        <td id=\"T_2fbdf_row1_col1\" class=\"data row1 col1\" >1.000000</td>\n",
       "                        <td id=\"T_2fbdf_row1_col2\" class=\"data row1 col2\" >0.671694</td>\n",
       "                        <td id=\"T_2fbdf_row1_col3\" class=\"data row1 col3\" >0.359136</td>\n",
       "            </tr>\n",
       "            <tr>\n",
       "                        <th id=\"T_2fbdf_level0_row2\" class=\"row_heading level0 row2\" >service</th>\n",
       "                        <td id=\"T_2fbdf_row2_col0\" class=\"data row2 col0\" >0.581604</td>\n",
       "                        <td id=\"T_2fbdf_row2_col1\" class=\"data row2 col1\" >0.671694</td>\n",
       "                        <td id=\"T_2fbdf_row2_col2\" class=\"data row2 col2\" >1.000000</td>\n",
       "                        <td id=\"T_2fbdf_row2_col3\" class=\"data row2 col3\" >0.351328</td>\n",
       "            </tr>\n",
       "            <tr>\n",
       "                        <th id=\"T_2fbdf_level0_row3\" class=\"row_heading level0 row3\" >ambience</th>\n",
       "                        <td id=\"T_2fbdf_row3_col0\" class=\"data row3 col0\" >0.298260</td>\n",
       "                        <td id=\"T_2fbdf_row3_col1\" class=\"data row3 col1\" >0.359136</td>\n",
       "                        <td id=\"T_2fbdf_row3_col2\" class=\"data row3 col2\" >0.351328</td>\n",
       "                        <td id=\"T_2fbdf_row3_col3\" class=\"data row3 col3\" >1.000000</td>\n",
       "            </tr>\n",
       "    </tbody></table>"
      ],
      "text/plain": [
       "<pandas.io.formats.style.Styler at 0x12a657280>"
      ]
     },
     "execution_count": 38,
     "metadata": {},
     "output_type": "execute_result"
    }
   ],
   "source": [
    "corr.style.background_gradient(cmap='coolwarm')"
   ]
  },
  {
   "cell_type": "markdown",
   "metadata": {},
   "source": [
    "# there are high correlations for many of these variables, but in this case, this should not be surprising"
   ]
  },
  {
   "cell_type": "markdown",
   "metadata": {},
   "source": []
  },
  {
   "cell_type": "code",
   "execution_count": 4,
   "metadata": {},
   "outputs": [
    {
     "data": {
      "text/html": [
       "<div>\n",
       "<style scoped>\n",
       "    .dataframe tbody tr th:only-of-type {\n",
       "        vertical-align: middle;\n",
       "    }\n",
       "\n",
       "    .dataframe tbody tr th {\n",
       "        vertical-align: top;\n",
       "    }\n",
       "\n",
       "    .dataframe thead th {\n",
       "        text-align: right;\n",
       "    }\n",
       "</style>\n",
       "<table border=\"1\" class=\"dataframe\">\n",
       "  <thead>\n",
       "    <tr style=\"text-align: right;\">\n",
       "      <th></th>\n",
       "      <th>rating_date</th>\n",
       "      <th>listing_id</th>\n",
       "      <th>features</th>\n",
       "      <th>price</th>\n",
       "      <th>service</th>\n",
       "      <th>ambience</th>\n",
       "      <th>date_from</th>\n",
       "      <th>date_to</th>\n",
       "    </tr>\n",
       "  </thead>\n",
       "  <tbody>\n",
       "    <tr>\n",
       "      <th>0</th>\n",
       "      <td>2012-09-16</td>\n",
       "      <td>fbd74bce-23dd-53e7-b988-8beb85160d6f</td>\n",
       "      <td>5</td>\n",
       "      <td>5</td>\n",
       "      <td>5</td>\n",
       "      <td>5</td>\n",
       "      <td>2012-09-09</td>\n",
       "      <td>2012-09-15</td>\n",
       "    </tr>\n",
       "    <tr>\n",
       "      <th>1</th>\n",
       "      <td>2012-10-20</td>\n",
       "      <td>fbd74bce-23dd-53e7-b988-8beb85160d6f</td>\n",
       "      <td>4</td>\n",
       "      <td>5</td>\n",
       "      <td>5</td>\n",
       "      <td>5</td>\n",
       "      <td>2012-10-06</td>\n",
       "      <td>2012-10-13</td>\n",
       "    </tr>\n",
       "    <tr>\n",
       "      <th>2</th>\n",
       "      <td>2014-06-17</td>\n",
       "      <td>fbd74bce-23dd-53e7-b988-8beb85160d6f</td>\n",
       "      <td>5</td>\n",
       "      <td>5</td>\n",
       "      <td>5</td>\n",
       "      <td>5</td>\n",
       "      <td>2013-08-31</td>\n",
       "      <td>2013-09-07</td>\n",
       "    </tr>\n",
       "    <tr>\n",
       "      <th>3</th>\n",
       "      <td>2014-10-15</td>\n",
       "      <td>b766fc7c-6d44-5c86-b6d1-3f699c78b3a6</td>\n",
       "      <td>4</td>\n",
       "      <td>5</td>\n",
       "      <td>5</td>\n",
       "      <td>4</td>\n",
       "      <td>2014-10-09</td>\n",
       "      <td>2014-10-12</td>\n",
       "    </tr>\n",
       "    <tr>\n",
       "      <th>4</th>\n",
       "      <td>2015-08-19</td>\n",
       "      <td>b766fc7c-6d44-5c86-b6d1-3f699c78b3a6</td>\n",
       "      <td>4</td>\n",
       "      <td>5</td>\n",
       "      <td>5</td>\n",
       "      <td>5</td>\n",
       "      <td>2015-08-10</td>\n",
       "      <td>2015-08-17</td>\n",
       "    </tr>\n",
       "  </tbody>\n",
       "</table>\n",
       "</div>"
      ],
      "text/plain": [
       "  rating_date                            listing_id  features  price  service  \\\n",
       "0  2012-09-16  fbd74bce-23dd-53e7-b988-8beb85160d6f         5      5        5   \n",
       "1  2012-10-20  fbd74bce-23dd-53e7-b988-8beb85160d6f         4      5        5   \n",
       "2  2014-06-17  fbd74bce-23dd-53e7-b988-8beb85160d6f         5      5        5   \n",
       "3  2014-10-15  b766fc7c-6d44-5c86-b6d1-3f699c78b3a6         4      5        5   \n",
       "4  2015-08-19  b766fc7c-6d44-5c86-b6d1-3f699c78b3a6         4      5        5   \n",
       "\n",
       "   ambience   date_from     date_to  \n",
       "0         5  2012-09-09  2012-09-15  \n",
       "1         5  2012-10-06  2012-10-13  \n",
       "2         5  2013-08-31  2013-09-07  \n",
       "3         4  2014-10-09  2014-10-12  \n",
       "4         5  2015-08-10  2015-08-17  "
      ]
     },
     "execution_count": 4,
     "metadata": {},
     "output_type": "execute_result"
    }
   ],
   "source": [
    "df_rating.head()\n"
   ]
  },
  {
   "cell_type": "code",
   "execution_count": 5,
   "metadata": {},
   "outputs": [],
   "source": [
    "# convert rating_date, date_from and data_to to datetime \n",
    "\n",
    "df_rating['rating_date'] = pd.to_datetime(df_rating['rating_date'])\n"
   ]
  },
  {
   "cell_type": "code",
   "execution_count": 7,
   "metadata": {},
   "outputs": [
    {
     "data": {
      "text/html": [
       "<div>\n",
       "<style scoped>\n",
       "    .dataframe tbody tr th:only-of-type {\n",
       "        vertical-align: middle;\n",
       "    }\n",
       "\n",
       "    .dataframe tbody tr th {\n",
       "        vertical-align: top;\n",
       "    }\n",
       "\n",
       "    .dataframe thead th {\n",
       "        text-align: right;\n",
       "    }\n",
       "</style>\n",
       "<table border=\"1\" class=\"dataframe\">\n",
       "  <thead>\n",
       "    <tr style=\"text-align: right;\">\n",
       "      <th></th>\n",
       "      <th>rating_date</th>\n",
       "      <th>listing_id</th>\n",
       "      <th>features</th>\n",
       "      <th>price</th>\n",
       "      <th>service</th>\n",
       "      <th>ambience</th>\n",
       "      <th>date_from</th>\n",
       "      <th>date_to</th>\n",
       "    </tr>\n",
       "  </thead>\n",
       "  <tbody>\n",
       "    <tr>\n",
       "      <th>0</th>\n",
       "      <td>2012-09-16</td>\n",
       "      <td>fbd74bce-23dd-53e7-b988-8beb85160d6f</td>\n",
       "      <td>5</td>\n",
       "      <td>5</td>\n",
       "      <td>5</td>\n",
       "      <td>5</td>\n",
       "      <td>2012-09-09</td>\n",
       "      <td>2012-09-15</td>\n",
       "    </tr>\n",
       "    <tr>\n",
       "      <th>1</th>\n",
       "      <td>2012-10-20</td>\n",
       "      <td>fbd74bce-23dd-53e7-b988-8beb85160d6f</td>\n",
       "      <td>4</td>\n",
       "      <td>5</td>\n",
       "      <td>5</td>\n",
       "      <td>5</td>\n",
       "      <td>2012-10-06</td>\n",
       "      <td>2012-10-13</td>\n",
       "    </tr>\n",
       "    <tr>\n",
       "      <th>2</th>\n",
       "      <td>2014-06-17</td>\n",
       "      <td>fbd74bce-23dd-53e7-b988-8beb85160d6f</td>\n",
       "      <td>5</td>\n",
       "      <td>5</td>\n",
       "      <td>5</td>\n",
       "      <td>5</td>\n",
       "      <td>2013-08-31</td>\n",
       "      <td>2013-09-07</td>\n",
       "    </tr>\n",
       "    <tr>\n",
       "      <th>3</th>\n",
       "      <td>2014-10-15</td>\n",
       "      <td>b766fc7c-6d44-5c86-b6d1-3f699c78b3a6</td>\n",
       "      <td>4</td>\n",
       "      <td>5</td>\n",
       "      <td>5</td>\n",
       "      <td>4</td>\n",
       "      <td>2014-10-09</td>\n",
       "      <td>2014-10-12</td>\n",
       "    </tr>\n",
       "    <tr>\n",
       "      <th>4</th>\n",
       "      <td>2015-08-19</td>\n",
       "      <td>b766fc7c-6d44-5c86-b6d1-3f699c78b3a6</td>\n",
       "      <td>4</td>\n",
       "      <td>5</td>\n",
       "      <td>5</td>\n",
       "      <td>5</td>\n",
       "      <td>2015-08-10</td>\n",
       "      <td>2015-08-17</td>\n",
       "    </tr>\n",
       "  </tbody>\n",
       "</table>\n",
       "</div>"
      ],
      "text/plain": [
       "  rating_date                            listing_id  features  price  service  \\\n",
       "0  2012-09-16  fbd74bce-23dd-53e7-b988-8beb85160d6f         5      5        5   \n",
       "1  2012-10-20  fbd74bce-23dd-53e7-b988-8beb85160d6f         4      5        5   \n",
       "2  2014-06-17  fbd74bce-23dd-53e7-b988-8beb85160d6f         5      5        5   \n",
       "3  2014-10-15  b766fc7c-6d44-5c86-b6d1-3f699c78b3a6         4      5        5   \n",
       "4  2015-08-19  b766fc7c-6d44-5c86-b6d1-3f699c78b3a6         4      5        5   \n",
       "\n",
       "   ambience   date_from     date_to  \n",
       "0         5  2012-09-09  2012-09-15  \n",
       "1         5  2012-10-06  2012-10-13  \n",
       "2         5  2013-08-31  2013-09-07  \n",
       "3         4  2014-10-09  2014-10-12  \n",
       "4         5  2015-08-10  2015-08-17  "
      ]
     },
     "execution_count": 7,
     "metadata": {},
     "output_type": "execute_result"
    }
   ],
   "source": [
    "df_rating.head()\n"
   ]
  },
  {
   "cell_type": "code",
   "execution_count": 6,
   "metadata": {},
   "outputs": [
    {
     "name": "stdout",
     "output_type": "stream",
     "text": [
      "rating_date    datetime64[ns]\n",
      "listing_id             object\n",
      "features                int64\n",
      "price                   int64\n",
      "service                 int64\n",
      "ambience                int64\n",
      "date_from              object\n",
      "date_to                object\n",
      "dtype: object\n"
     ]
    }
   ],
   "source": [
    "print (df_rating.dtypes)"
   ]
  },
  {
   "cell_type": "code",
   "execution_count": 7,
   "metadata": {},
   "outputs": [],
   "source": [
    "df_rating['date_to'] = pd.to_datetime(df_rating['date_to'], errors = 'coerce')"
   ]
  },
  {
   "cell_type": "code",
   "execution_count": 8,
   "metadata": {},
   "outputs": [],
   "source": [
    "df_rating['date_from'] = pd.to_datetime(df_rating['date_from'], errors = 'coerce')"
   ]
  },
  {
   "cell_type": "code",
   "execution_count": null,
   "metadata": {},
   "outputs": [],
   "source": []
  },
  {
   "cell_type": "markdown",
   "metadata": {},
   "source": [
    "# introduce a variable to indicate whether a property has a rating, this will be 0 for those properties we add in later"
   ]
  },
  {
   "cell_type": "code",
   "execution_count": 36,
   "metadata": {},
   "outputs": [],
   "source": [
    "df_rating = df_rating.assign(rated=1)"
   ]
  },
  {
   "cell_type": "code",
   "execution_count": 23,
   "metadata": {},
   "outputs": [],
   "source": [
    "# get the master list of all properties. read in listings dataset\n",
    "\n",
    "df_listings = pd.read_csv('/Users/petermcisaac/neue-fische-traum/traum-preis/datasets/listings_20210707.csv')\n",
    "\n"
   ]
  },
  {
   "cell_type": "code",
   "execution_count": null,
   "metadata": {},
   "outputs": [],
   "source": []
  },
  {
   "cell_type": "code",
   "execution_count": 30,
   "metadata": {},
   "outputs": [
    {
     "name": "stdout",
     "output_type": "stream",
     "text": [
      "<class 'pandas.core.frame.DataFrame'>\n",
      "RangeIndex: 30269 entries, 0 to 30268\n",
      "Data columns (total 49 columns):\n",
      " #   Column                          Non-Null Count  Dtype  \n",
      "---  ------                          --------------  -----  \n",
      " 0   listing_id                      30269 non-null  object \n",
      " 1   customer_id                     30269 non-null  object \n",
      " 2   state                           30269 non-null  object \n",
      " 3   contract_end                    30269 non-null  object \n",
      " 4   zip                             30269 non-null  object \n",
      " 5   country_title                   30269 non-null  object \n",
      " 6   region                          30269 non-null  object \n",
      " 7   subregion                       30268 non-null  object \n",
      " 8   holiday_region                  30269 non-null  object \n",
      " 9   property_type                   30269 non-null  object \n",
      " 10  subscription                    30269 non-null  object \n",
      " 11  binding_inquiry                 30269 non-null  object \n",
      " 12  option_allergic                 30269 non-null  object \n",
      " 13  option_non_smoking_only         30269 non-null  object \n",
      " 14  option_holiday_with_your_pet    30269 non-null  object \n",
      " 15  option_holiday_with_your_horse  30269 non-null  object \n",
      " 16  option_holiday_with_your_dog    30269 non-null  object \n",
      " 17  option_close_to_the_beach       30269 non-null  object \n",
      " 18  option_railway_station          30269 non-null  object \n",
      " 19  option_airport                  30269 non-null  object \n",
      " 20  option_wheelchair_accessible    30269 non-null  object \n",
      " 21  option_family_travel            30269 non-null  object \n",
      " 22  option_close_to_the_water       30269 non-null  object \n",
      " 23  option_holiday_with_your_baby   30269 non-null  object \n",
      " 24  option_long_term_holiday        30269 non-null  object \n",
      " 25  option_fully_accessible         30269 non-null  object \n",
      " 26  option_technicians              30269 non-null  object \n",
      " 27  option_close_to_the_ski_lift    30269 non-null  object \n",
      " 28  smoking                         30269 non-null  object \n",
      " 29  wheelchairaccess                30269 non-null  object \n",
      " 30  babybed                         30269 non-null  object \n",
      " 31  wifi                            30269 non-null  object \n",
      " 32  internet                        30269 non-null  object \n",
      " 33  dishwasher                      30269 non-null  object \n",
      " 34  washingmachine                  30269 non-null  object \n",
      " 35  dryer                           30269 non-null  object \n",
      " 36  airconditioner                  30269 non-null  object \n",
      " 37  tv                              30269 non-null  object \n",
      " 38  pool                            30269 non-null  object \n",
      " 39  sauna                           30269 non-null  object \n",
      " 40  grill                           30269 non-null  object \n",
      " 41  garden                          30269 non-null  object \n",
      " 42  terrace                         30269 non-null  object \n",
      " 43  balcony                         30269 non-null  object \n",
      " 44  bathrooms                       29839 non-null  float64\n",
      " 45  bedrooms                        29839 non-null  float64\n",
      " 46  max_guests                      29839 non-null  float64\n",
      " 47  pets                            29839 non-null  float64\n",
      " 48  living_area                     29837 non-null  object \n",
      "dtypes: float64(4), object(45)\n",
      "memory usage: 11.3+ MB\n"
     ]
    }
   ],
   "source": [
    "df_listings.info()"
   ]
  },
  {
   "cell_type": "code",
   "execution_count": 31,
   "metadata": {},
   "outputs": [],
   "source": [
    "df_properties = df_listings['listing_id']"
   ]
  },
  {
   "cell_type": "code",
   "execution_count": 33,
   "metadata": {},
   "outputs": [
    {
     "data": {
      "text/plain": [
       "30264    00779d9d-7264-5704-a71d-e6d1849cb4b7\n",
       "30265    fd0c87bc-54f5-5281-90e8-93c3e4ac40b0\n",
       "30266    9e99c378-45e5-5635-8644-e3f13cf6d101\n",
       "30267    048f8764-c789-5003-9a67-a63d3d3f5062\n",
       "30268    713131b6-8f3d-50c9-b0cb-0ba0f985e06a\n",
       "Name: listing_id, dtype: object"
      ]
     },
     "execution_count": 33,
     "metadata": {},
     "output_type": "execute_result"
    }
   ],
   "source": [
    "df_properties.tail()\n"
   ]
  },
  {
   "cell_type": "code",
   "execution_count": 37,
   "metadata": {},
   "outputs": [],
   "source": [
    "df_rating_all_properties = pd.merge(df_properties, df_rating, on=\"listing_id\", how='outer')"
   ]
  },
  {
   "cell_type": "code",
   "execution_count": 38,
   "metadata": {},
   "outputs": [
    {
     "data": {
      "text/html": [
       "<div>\n",
       "<style scoped>\n",
       "    .dataframe tbody tr th:only-of-type {\n",
       "        vertical-align: middle;\n",
       "    }\n",
       "\n",
       "    .dataframe tbody tr th {\n",
       "        vertical-align: top;\n",
       "    }\n",
       "\n",
       "    .dataframe thead th {\n",
       "        text-align: right;\n",
       "    }\n",
       "</style>\n",
       "<table border=\"1\" class=\"dataframe\">\n",
       "  <thead>\n",
       "    <tr style=\"text-align: right;\">\n",
       "      <th></th>\n",
       "      <th>listing_id</th>\n",
       "      <th>rating_date</th>\n",
       "      <th>features</th>\n",
       "      <th>price</th>\n",
       "      <th>service</th>\n",
       "      <th>ambience</th>\n",
       "      <th>date_from</th>\n",
       "      <th>date_to</th>\n",
       "      <th>rated</th>\n",
       "    </tr>\n",
       "  </thead>\n",
       "  <tbody>\n",
       "    <tr>\n",
       "      <th>362762</th>\n",
       "      <td>481370a2-67c9-556f-975b-643f4bd1ee70</td>\n",
       "      <td>2021-02-02</td>\n",
       "      <td>5.0</td>\n",
       "      <td>5.0</td>\n",
       "      <td>5.0</td>\n",
       "      <td>5.0</td>\n",
       "      <td>2020-11-14</td>\n",
       "      <td>2021-01-14</td>\n",
       "      <td>1.0</td>\n",
       "    </tr>\n",
       "    <tr>\n",
       "      <th>362763</th>\n",
       "      <td>d6f52b59-e397-5143-acfe-18f3ebb6a749</td>\n",
       "      <td>2021-04-28</td>\n",
       "      <td>5.0</td>\n",
       "      <td>5.0</td>\n",
       "      <td>5.0</td>\n",
       "      <td>5.0</td>\n",
       "      <td>2020-07-03</td>\n",
       "      <td>2020-07-05</td>\n",
       "      <td>1.0</td>\n",
       "    </tr>\n",
       "    <tr>\n",
       "      <th>362764</th>\n",
       "      <td>ddbde441-5b1e-531c-8ea4-7af12954cba9</td>\n",
       "      <td>2021-04-04</td>\n",
       "      <td>5.0</td>\n",
       "      <td>5.0</td>\n",
       "      <td>5.0</td>\n",
       "      <td>5.0</td>\n",
       "      <td>2021-03-06</td>\n",
       "      <td>2021-03-13</td>\n",
       "      <td>1.0</td>\n",
       "    </tr>\n",
       "    <tr>\n",
       "      <th>362765</th>\n",
       "      <td>ddbde441-5b1e-531c-8ea4-7af12954cba9</td>\n",
       "      <td>2021-04-05</td>\n",
       "      <td>5.0</td>\n",
       "      <td>5.0</td>\n",
       "      <td>5.0</td>\n",
       "      <td>5.0</td>\n",
       "      <td>2020-10-09</td>\n",
       "      <td>2020-10-16</td>\n",
       "      <td>1.0</td>\n",
       "    </tr>\n",
       "    <tr>\n",
       "      <th>362766</th>\n",
       "      <td>ddbde441-5b1e-531c-8ea4-7af12954cba9</td>\n",
       "      <td>2021-06-20</td>\n",
       "      <td>5.0</td>\n",
       "      <td>5.0</td>\n",
       "      <td>5.0</td>\n",
       "      <td>5.0</td>\n",
       "      <td>2021-06-05</td>\n",
       "      <td>2021-06-19</td>\n",
       "      <td>1.0</td>\n",
       "    </tr>\n",
       "  </tbody>\n",
       "</table>\n",
       "</div>"
      ],
      "text/plain": [
       "                                  listing_id rating_date  features  price  \\\n",
       "362762  481370a2-67c9-556f-975b-643f4bd1ee70  2021-02-02       5.0    5.0   \n",
       "362763  d6f52b59-e397-5143-acfe-18f3ebb6a749  2021-04-28       5.0    5.0   \n",
       "362764  ddbde441-5b1e-531c-8ea4-7af12954cba9  2021-04-04       5.0    5.0   \n",
       "362765  ddbde441-5b1e-531c-8ea4-7af12954cba9  2021-04-05       5.0    5.0   \n",
       "362766  ddbde441-5b1e-531c-8ea4-7af12954cba9  2021-06-20       5.0    5.0   \n",
       "\n",
       "        service  ambience  date_from    date_to  rated  \n",
       "362762      5.0       5.0 2020-11-14 2021-01-14    1.0  \n",
       "362763      5.0       5.0 2020-07-03 2020-07-05    1.0  \n",
       "362764      5.0       5.0 2021-03-06 2021-03-13    1.0  \n",
       "362765      5.0       5.0 2020-10-09 2020-10-16    1.0  \n",
       "362766      5.0       5.0 2021-06-05 2021-06-19    1.0  "
      ]
     },
     "execution_count": 38,
     "metadata": {},
     "output_type": "execute_result"
    }
   ],
   "source": [
    "df_rating_all_properties.tail()"
   ]
  },
  {
   "cell_type": "code",
   "execution_count": 52,
   "metadata": {},
   "outputs": [],
   "source": [
    "df_rating_all_properties['rated'] = df_rating_all_properties['rated'].fillna(0)"
   ]
  },
  {
   "cell_type": "code",
   "execution_count": 53,
   "metadata": {},
   "outputs": [
    {
     "data": {
      "text/plain": [
       "array([1., 0.])"
      ]
     },
     "execution_count": 53,
     "metadata": {},
     "output_type": "execute_result"
    }
   ],
   "source": [
    "df_rating_all_properties['rated'].unique()"
   ]
  },
  {
   "cell_type": "code",
   "execution_count": null,
   "metadata": {},
   "outputs": [],
   "source": []
  }
 ],
 "metadata": {
  "interpreter": {
   "hash": "50124f71d8f3ce399cc8f90e232172b7703f7c279ffa8eaec14b162019ba404a"
  },
  "kernelspec": {
   "display_name": "Python 3.8.5 64-bit ('.venv')",
   "name": "python3"
  },
  "language_info": {
   "codemirror_mode": {
    "name": "ipython",
    "version": 3
   },
   "file_extension": ".py",
   "mimetype": "text/x-python",
   "name": "python",
   "nbconvert_exporter": "python",
   "pygments_lexer": "ipython3",
   "version": "3.8.5"
  },
  "orig_nbformat": 4
 },
 "nbformat": 4,
 "nbformat_minor": 2
}