{
 "cells": [
  {
   "cell_type": "code",
   "execution_count": null,
   "metadata": {},
   "outputs": [],
   "source": []
  },
  {
   "cell_type": "markdown",
   "metadata": {},
   "source": [
    "# This notebook will serve for the initial EDA for the ratings data for the TFW project"
   ]
  },
  {
   "cell_type": "code",
   "execution_count": 1,
   "metadata": {},
   "outputs": [],
   "source": [
    "# Import necessary libraries\n",
    "import pandas as pd\n",
    "import numpy as np\n",
    "import seaborn as sns\n",
    "import matplotlib.pyplot as plt"
   ]
  },
  {
   "cell_type": "code",
   "execution_count": 2,
   "metadata": {},
   "outputs": [],
   "source": [
    "# read in the dataset\n",
    "\n",
    "rating = pd.read_csv('/Users/petermcisaac/neue-fische-traum/traum-preis/datasets/rating_20210707.csv')"
   ]
  },
  {
   "cell_type": "code",
   "execution_count": 3,
   "metadata": {},
   "outputs": [
    {
     "data": {
      "image/png": "[encoded data removed]",
      "text/plain": [
       "<Figure size 432x288 with 2 Axes>"
      ]
     },
     "metadata": {
      "needs_background": "light"
     },
     "output_type": "display_data"
    }
   ],
   "source": [
    "# generate the heatmap\n",
    "\n",
    "corr = rating.corr()\n",
    "ax = sns.heatmap(\n",
    "    corr,\n",
    "    vmin=-1, vmax=1, center=0,\n",
    "    cmap=sns.diverging_palette(20, 220, n=200),\n",
    "    square=True\n",
    ")\n",
    "ax.set_xticklabels(\n",
    "    ax.get_xticklabels(),\n",
    "    rotation=45,\n",
    "    horizontalalignment='right'\n",
    ");\n"
   ]
  },
  {
   "cell_type": "code",
   "execution_count": 38,
   "metadata": {},
   "outputs": [
    {
     "data": {
      "text/html": [
       "<style  type=\"text/css\" >\n",
       "#T_2fbdf_row0_col0,#T_2fbdf_row1_col1,#T_2fbdf_row2_col2,#T_2fbdf_row3_col3{\n",
       "            background-color:  #b40426;\n",
       "            color:  #f1f1f1;\n",
       "        }#T_2fbdf_row0_col1,#T_2fbdf_row2_col0{\n",
       "            background-color:  #c1d4f4;\n",
       "            color:  #000000;\n",
       "        }#T_2fbdf_row0_col2{\n",
       "            background-color:  #b1cbfc;\n",
       "            color:  #000000;\n",
       "        }#T_2fbdf_row0_col3,#T_2fbdf_row3_col0,#T_2fbdf_row3_col1,#T_2fbdf_row3_col2{\n",
       "            background-color:  #3b4cc0;\n",
       "            color:  #f1f1f1;\n",
       "        }#T_2fbdf_row1_col0{\n",
       "            background-color:  #d1dae9;\n",
       "            color:  #000000;\n",
       "        }#T_2fbdf_row1_col2{\n",
       "            background-color:  #dbdcde;\n",
       "            color:  #000000;\n",
       "        }#T_2fbdf_row1_col3{\n",
       "            background-color:  #5572df;\n",
       "            color:  #000000;\n",
       "        }#T_2fbdf_row2_col1{\n",
       "            background-color:  #d9dce1;\n",
       "            color:  #000000;\n",
       "        }#T_2fbdf_row2_col3{\n",
       "            background-color:  #516ddb;\n",
       "            color:  #000000;\n",
       "        }</style><table id=\"T_2fbdf_\" ><thead>    <tr>        <th class=\"blank level0\" ></th>        <th class=\"col_heading level0 col0\" >features</th>        <th class=\"col_heading level0 col1\" >price</th>        <th class=\"col_heading level0 col2\" >service</th>        <th class=\"col_heading level0 col3\" >ambience</th>    </tr></thead><tbody>\n",
       "                <tr>\n",
       "                        <th id=\"T_2fbdf_level0_row0\" class=\"row_heading level0 row0\" >features</th>\n",
       "                        <td id=\"T_2fbdf_row0_col0\" class=\"data row0 col0\" >1.000000</td>\n",
       "                        <td id=\"T_2fbdf_row0_col1\" class=\"data row0 col1\" >0.618268</td>\n",
       "                        <td id=\"T_2fbdf_row0_col2\" class=\"data row0 col2\" >0.581604</td>\n",
       "                        <td id=\"T_2fbdf_row0_col3\" class=\"data row0 col3\" >0.298260</td>\n",
       "            </tr>\n",
       "            <tr>\n",
       "                        <th id=\"T_2fbdf_level0_row1\" class=\"row_heading level0 row1\" >price</th>\n",
       "                        <td id=\"T_2fbdf_row1_col0\" class=\"data row1 col0\" >0.618268</td>\n",
       "                        <td id=\"T_2fbdf_row1_col1\" class=\"data row1 col1\" >1.000000</td>\n",
       "                        <td id=\"T_2fbdf_row1_col2\" class=\"data row1 col2\" >0.671694</td>\n",
       "                        <td id=\"T_2fbdf_row1_col3\" class=\"data row1 col3\" >0.359136</td>\n",
       "            </tr>\n",
       "            <tr>\n",
       "                        <th id=\"T_2fbdf_level0_row2\" class=\"row_heading level0 row2\" >service</th>\n",
       "                        <td id=\"T_2fbdf_row2_col0\" class=\"data row2 col0\" >0.581604</td>\n",
       "                        <td id=\"T_2fbdf_row2_col1\" class=\"data row2 col1\" >0.671694</td>\n",
       "                        <td id=\"T_2fbdf_row2_col2\" class=\"data row2 col2\" >1.000000</td>\n",
       "                        <td id=\"T_2fbdf_row2_col3\" class=\"data row2 col3\" >0.351328</td>\n",
       "            </tr>\n",
       "            <tr>\n",
       "                        <th id=\"T_2fbdf_level0_row3\" class=\"row_heading level0 row3\" >ambience</th>\n",
       "                        <td id=\"T_2fbdf_row3_col0\" class=\"data row3 col0\" >0.298260</td>\n",
       "                        <td id=\"T_2fbdf_row3_col1\" class=\"data row3 col1\" >0.359136</td>\n",
       "                        <td id=\"T_2fbdf_row3_col2\" class=\"data row3 col2\" >0.351328</td>\n",
       "                        <td id=\"T_2fbdf_row3_col3\" class=\"data row3 col3\" >1.000000</td>\n",
       "            </tr>\n",
       "    </tbody></table>"
      ],
      "text/plain": [
       "<pandas.io.formats.style.Styler at 0x12a657280>"
      ]
     },
     "execution_count": 38,
     "metadata": {},
     "output_type": "execute_result"
    }
   ],
   "source": [
    "corr.style.background_gradient(cmap='coolwarm')"
   ]
  },
  {
   "cell_type": "markdown",
   "metadata": {},
   "source": [
    "# there are high correlations for many of these variables, but in this case, this should not be surprising"
   ]
  },
  {
   "cell_type": "markdown",
   "metadata": {},
   "source": []
  },
  {
   "cell_type": "code",
   "execution_count": 4,
   "metadata": {},
   "outputs": [
    {
     "data": {
      "text/html": [
       "<div>\n",
       "<style scoped>\n",
       "    .dataframe tbody tr th:only-of-type {\n",
       "        vertical-align: middle;\n",
       "    }\n",
       "\n",
       "    .dataframe tbody tr th {\n",
       "        vertical-align: top;\n",
       "    }\n",
       "\n",
       "    .dataframe thead th {\n",
       "        text-align: right;\n",
       "    }\n",
       "</style>\n",
       "<table border=\"1\" class=\"dataframe\">\n",
       "  <thead>\n",
       "    <tr style=\"text-align: right;\">\n",
       "      <th></th>\n",
       "      <th>rating_date</th>\n",
       "      <th>listing_id</th>\n",
       "      <th>features</th>\n",
       "      <th>price</th>\n",
       "      <th>service</th>\n",
       "      <th>ambience</th>\n",
       "      <th>date_from</th>\n",
       "      <th>date_to</th>\n",
       "    </tr>\n",
       "  </thead>\n",
       "  <tbody>\n",
       "    <tr>\n",
       "      <th>0</th>\n",
       "      <td>2012-09-16</td>\n",
       "      <td>fbd74bce-23dd-53e7-b988-8beb85160d6f</td>\n",
       "      <td>5</td>\n",
       "      <td>5</td>\n",
       "      <td>5</td>\n",
       "      <td>5</td>\n",
       "      <td>2012-09-09</td>\n",
       "      <td>2012-09-15</td>\n",
       "    </tr>\n",
       "    <tr>\n",
       "      <th>1</th>\n",
       "      <td>2012-10-20</td>\n",
       "      <td>fbd74bce-23dd-53e7-b988-8beb85160d6f</td>\n",
       "      <td>4</td>\n",
       "      <td>5</td>\n",
       "      <td>5</td>\n",
       "      <td>5</td>\n",
       "      <td>2012-10-06</td>\n",
       "      <td>2012-10-13</td>\n",
       "    </tr>\n",
       "    <tr>\n",
       "      <th>2</th>\n",
       "      <td>2014-06-17</td>\n",
       "      <td>fbd74bce-23dd-53e7-b988-8beb85160d6f</td>\n",
       "      <td>5</td>\n",
       "      <td>5</td>\n",
       "      <td>5</td>\n",
       "      <td>5</td>\n",
       "      <td>2013-08-31</td>\n",
       "      <td>2013-09-07</td>\n",
       "    </tr>\n",
       "    <tr>\n",
       "      <th>3</th>\n",
       "      <td>2014-10-15</td>\n",
       "      <td>b766fc7c-6d44-5c86-b6d1-3f699c78b3a6</td>\n",
       "      <td>4</td>\n",
       "      <td>5</td>\n",
       "      <td>5</td>\n",
       "      <td>4</td>\n",
       "      <td>2014-10-09</td>\n",
       "      <td>2014-10-12</td>\n",
       "    </tr>\n",
       "    <tr>\n",
       "      <th>4</th>\n",
       "      <td>2015-08-19</td>\n",
       "      <td>b766fc7c-6d44-5c86-b6d1-3f699c78b3a6</td>\n",
       "      <td>4</td>\n",
       "      <td>5</td>\n",
       "      <td>5</td>\n",
       "      <td>5</td>\n",
       "      <td>2015-08-10</td>\n",
       "      <td>2015-08-17</td>\n",
       "    </tr>\n",
       "  </tbody>\n",
       "</table>\n",
       "</div>"
      ],
      "text/plain": [
       "  rating_date                            listing_id  features  price  service  \\\n",
       "0  2012-09-16  fbd74bce-23dd-53e7-b988-8beb85160d6f         5      5        5   \n",
       "1  2012-10-20  fbd74bce-23dd-53e7-b988-8beb85160d6f         4      5        5   \n",
       "2  2014-06-17  fbd74bce-23dd-53e7-b988-8beb85160d6f         5      5        5   \n",
       "3  2014-10-15  b766fc7c-6d44-5c86-b6d1-3f699c78b3a6         4      5        5   \n",
       "4  2015-08-19  b766fc7c-6d44-5c86-b6d1-3f699c78b3a6         4      5        5   \n",
       "\n",
       "   ambience   date_from     date_to  \n",
       "0         5  2012-09-09  2012-09-15  \n",
       "1         5  2012-10-06  2012-10-13  \n",
       "2         5  2013-08-31  2013-09-07  \n",
       "3         4  2014-10-09  2014-10-12  \n",
       "4         5  2015-08-10  2015-08-17  "
      ]
     },
     "execution_count": 4,
     "metadata": {},
     "output_type": "execute_result"
    }
   ],
   "source": [
    "rating.head()\n"
   ]
  },
  {
   "cell_type": "code",
   "execution_count": 6,
   "metadata": {},
   "outputs": [],
   "source": [
    "# convert rating_date, date_from and data_to to datetime \n",
    "\n",
    "rating['rating_date'] = pd.to_datetime(rating['rating_date'])\n"
   ]
  },
  {
   "cell_type": "code",
   "execution_count": 7,
   "metadata": {},
   "outputs": [
    {
     "data": {
      "text/html": [
       "<div>\n",
       "<style scoped>\n",
       "    .dataframe tbody tr th:only-of-type {\n",
       "        vertical-align: middle;\n",
       "    }\n",
       "\n",
       "    .dataframe tbody tr th {\n",
       "        vertical-align: top;\n",
       "    }\n",
       "\n",
       "    .dataframe thead th {\n",
       "        text-align: right;\n",
       "    }\n",
       "</style>\n",
       "<table border=\"1\" class=\"dataframe\">\n",
       "  <thead>\n",
       "    <tr style=\"text-align: right;\">\n",
       "      <th></th>\n",
       "      <th>rating_date</th>\n",
       "      <th>listing_id</th>\n",
       "      <th>features</th>\n",
       "      <th>price</th>\n",
       "      <th>service</th>\n",
       "      <th>ambience</th>\n",
       "      <th>date_from</th>\n",
       "      <th>date_to</th>\n",
       "    </tr>\n",
       "  </thead>\n",
       "  <tbody>\n",
       "    <tr>\n",
       "      <th>0</th>\n",
       "      <td>2012-09-16</td>\n",
       "      <td>fbd74bce-23dd-53e7-b988-8beb85160d6f</td>\n",
       "      <td>5</td>\n",
       "      <td>5</td>\n",
       "      <td>5</td>\n",
       "      <td>5</td>\n",
       "      <td>2012-09-09</td>\n",
       "      <td>2012-09-15</td>\n",
       "    </tr>\n",
       "    <tr>\n",
       "      <th>1</th>\n",
       "      <td>2012-10-20</td>\n",
       "      <td>fbd74bce-23dd-53e7-b988-8beb85160d6f</td>\n",
       "      <td>4</td>\n",
       "      <td>5</td>\n",
       "      <td>5</td>\n",
       "      <td>5</td>\n",
       "      <td>2012-10-06</td>\n",
       "      <td>2012-10-13</td>\n",
       "    </tr>\n",
       "    <tr>\n",
       "      <th>2</th>\n",
       "      <td>2014-06-17</td>\n",
       "      <td>fbd74bce-23dd-53e7-b988-8beb85160d6f</td>\n",
       "      <td>5</td>\n",
       "      <td>5</td>\n",
       "      <td>5</td>\n",
       "      <td>5</td>\n",
       "      <td>2013-08-31</td>\n",
       "      <td>2013-09-07</td>\n",
       "    </tr>\n",
       "    <tr>\n",
       "      <th>3</th>\n",
       "      <td>2014-10-15</td>\n",
       "      <td>b766fc7c-6d44-5c86-b6d1-3f699c78b3a6</td>\n",
       "      <td>4</td>\n",
       "      <td>5</td>\n",
       "      <td>5</td>\n",
       "      <td>4</td>\n",
       "      <td>2014-10-09</td>\n",
       "      <td>2014-10-12</td>\n",
       "    </tr>\n",
       "    <tr>\n",
       "      <th>4</th>\n",
       "      <td>2015-08-19</td>\n",
       "      <td>b766fc7c-6d44-5c86-b6d1-3f699c78b3a6</td>\n",
       "      <td>4</td>\n",
       "      <td>5</td>\n",
       "      <td>5</td>\n",
       "      <td>5</td>\n",
       "      <td>2015-08-10</td>\n",
       "      <td>2015-08-17</td>\n",
       "    </tr>\n",
       "  </tbody>\n",
       "</table>\n",
       "</div>"
      ],
      "text/plain": [
       "  rating_date                            listing_id  features  price  service  \\\n",
       "0  2012-09-16  fbd74bce-23dd-53e7-b988-8beb85160d6f         5      5        5   \n",
       "1  2012-10-20  fbd74bce-23dd-53e7-b988-8beb85160d6f         4      5        5   \n",
       "2  2014-06-17  fbd74bce-23dd-53e7-b988-8beb85160d6f         5      5        5   \n",
       "3  2014-10-15  b766fc7c-6d44-5c86-b6d1-3f699c78b3a6         4      5        5   \n",
       "4  2015-08-19  b766fc7c-6d44-5c86-b6d1-3f699c78b3a6         4      5        5   \n",
       "\n",
       "   ambience   date_from     date_to  \n",
       "0         5  2012-09-09  2012-09-15  \n",
       "1         5  2012-10-06  2012-10-13  \n",
       "2         5  2013-08-31  2013-09-07  \n",
       "3         4  2014-10-09  2014-10-12  \n",
       "4         5  2015-08-10  2015-08-17  "
      ]
     },
     "execution_count": 7,
     "metadata": {},
     "output_type": "execute_result"
    }
   ],
   "source": [
    "rating.head()\n"
   ]
  },
  {
   "cell_type": "code",
   "execution_count": 8,
   "metadata": {},
   "outputs": [
    {
     "name": "stdout",
     "output_type": "stream",
     "text": [
      "rating_date    datetime64[ns]\n",
      "listing_id             object\n",
      "features                int64\n",
      "price                   int64\n",
      "service                 int64\n",
      "ambience                int64\n",
      "date_from              object\n",
      "date_to                object\n",
      "dtype: object\n"
     ]
    }
   ],
   "source": [
    "print (rating.dtypes)"
   ]
  },
  {
   "cell_type": "code",
   "execution_count": 16,
   "metadata": {},
   "outputs": [],
   "source": [
    "rating['date_to'] = pd.to_datetime(rating['date_to'], errors = 'coerce')"
   ]
  },
  {
   "cell_type": "code",
   "execution_count": 17,
   "metadata": {},
   "outputs": [],
   "source": [
    "rating['date_from'] = pd.to_datetime(rating['date_from'], errors = 'coerce')"
   ]
  },
  {
   "cell_type": "code",
   "execution_count": 18,
   "metadata": {},
   "outputs": [],
   "source": [
    "# get the master list of all properties. read in listings dataset\n",
    "\n",
    "listings = pd.read_csv('/Users/petermcisaac/neue-fische-traum/traum-preis/datasets/listings_20210707.csv')\n",
    "\n"
   ]
  },
  {
   "cell_type": "code",
   "execution_count": 19,
   "metadata": {},
   "outputs": [
    {
     "data": {
      "text/html": [
       "<div>\n",
       "<style scoped>\n",
       "    .dataframe tbody tr th:only-of-type {\n",
       "        vertical-align: middle;\n",
       "    }\n",
       "\n",
       "    .dataframe tbody tr th {\n",
       "        vertical-align: top;\n",
       "    }\n",
       "\n",
       "    .dataframe thead th {\n",
       "        text-align: right;\n",
       "    }\n",
       "</style>\n",
       "<table border=\"1\" class=\"dataframe\">\n",
       "  <thead>\n",
       "    <tr style=\"text-align: right;\">\n",
       "      <th></th>\n",
       "      <th>listing_id</th>\n",
       "      <th>customer_id</th>\n",
       "      <th>state</th>\n",
       "      <th>contract_end</th>\n",
       "      <th>zip</th>\n",
       "      <th>country_title</th>\n",
       "      <th>region</th>\n",
       "      <th>subregion</th>\n",
       "      <th>holiday_region</th>\n",
       "      <th>property_type</th>\n",
       "      <th>...</th>\n",
       "      <th>sauna</th>\n",
       "      <th>grill</th>\n",
       "      <th>garden</th>\n",
       "      <th>terrace</th>\n",
       "      <th>balcony</th>\n",
       "      <th>bathrooms</th>\n",
       "      <th>bedrooms</th>\n",
       "      <th>max_guests</th>\n",
       "      <th>pets</th>\n",
       "      <th>living_area</th>\n",
       "    </tr>\n",
       "  </thead>\n",
       "  <tbody>\n",
       "    <tr>\n",
       "      <th>0</th>\n",
       "      <td>97232bc1-cee6-54cc-9965-be13177051d3</td>\n",
       "      <td>6e5e6ab0-34d3-5662-9259-7ae7eb021acb</td>\n",
       "      <td>Online</td>\n",
       "      <td>2022-05-01</td>\n",
       "      <td>182--</td>\n",
       "      <td>Deutschland</td>\n",
       "      <td>Ostsee</td>\n",
       "      <td>Mecklenburgische Ostseeküste</td>\n",
       "      <td>Ostsee</td>\n",
       "      <td>holiday_apartment</td>\n",
       "      <td>...</td>\n",
       "      <td>yes</td>\n",
       "      <td>yes</td>\n",
       "      <td>yes</td>\n",
       "      <td>no</td>\n",
       "      <td>yes</td>\n",
       "      <td>1.0</td>\n",
       "      <td>2.0</td>\n",
       "      <td>4.0</td>\n",
       "      <td>0.0</td>\n",
       "      <td>60</td>\n",
       "    </tr>\n",
       "    <tr>\n",
       "      <th>1</th>\n",
       "      <td>b2e43b01-0a74-5270-95db-e4f649982e72</td>\n",
       "      <td>6e5e6ab0-34d3-5662-9259-7ae7eb021acb</td>\n",
       "      <td>Online</td>\n",
       "      <td>2022-05-01</td>\n",
       "      <td>875--</td>\n",
       "      <td>Deutschland</td>\n",
       "      <td>Allgäu</td>\n",
       "      <td>Oberallgäu</td>\n",
       "      <td>Oberallgäu</td>\n",
       "      <td>holiday_apartment</td>\n",
       "      <td>...</td>\n",
       "      <td>yes</td>\n",
       "      <td>yes</td>\n",
       "      <td>yes</td>\n",
       "      <td>no</td>\n",
       "      <td>yes</td>\n",
       "      <td>1.0</td>\n",
       "      <td>1.0</td>\n",
       "      <td>4.0</td>\n",
       "      <td>0.0</td>\n",
       "      <td>50</td>\n",
       "    </tr>\n",
       "    <tr>\n",
       "      <th>2</th>\n",
       "      <td>892f4fda-e0e8-5a9b-bbed-29f82942ff9a</td>\n",
       "      <td>6e5e6ab0-34d3-5662-9259-7ae7eb021acb</td>\n",
       "      <td>Online</td>\n",
       "      <td>2022-05-01</td>\n",
       "      <td>237--</td>\n",
       "      <td>Deutschland</td>\n",
       "      <td>Ostsee</td>\n",
       "      <td>Lübecker Bucht</td>\n",
       "      <td>Ostsee</td>\n",
       "      <td>holiday_apartment</td>\n",
       "      <td>...</td>\n",
       "      <td>yes</td>\n",
       "      <td>yes</td>\n",
       "      <td>yes</td>\n",
       "      <td>yes</td>\n",
       "      <td>no</td>\n",
       "      <td>1.0</td>\n",
       "      <td>2.0</td>\n",
       "      <td>6.0</td>\n",
       "      <td>0.0</td>\n",
       "      <td>77</td>\n",
       "    </tr>\n",
       "    <tr>\n",
       "      <th>3</th>\n",
       "      <td>e190ea0f-c688-5aa8-ae38-d0aeebdeec65</td>\n",
       "      <td>6e5e6ab0-34d3-5662-9259-7ae7eb021acb</td>\n",
       "      <td>Online</td>\n",
       "      <td>2022-05-01</td>\n",
       "      <td>274--</td>\n",
       "      <td>Deutschland</td>\n",
       "      <td>Nordsee</td>\n",
       "      <td>Cuxhaven &amp; Umgebung</td>\n",
       "      <td>Nordsee</td>\n",
       "      <td>holiday_apartment</td>\n",
       "      <td>...</td>\n",
       "      <td>yes</td>\n",
       "      <td>yes</td>\n",
       "      <td>yes</td>\n",
       "      <td>no</td>\n",
       "      <td>yes</td>\n",
       "      <td>1.0</td>\n",
       "      <td>2.0</td>\n",
       "      <td>6.0</td>\n",
       "      <td>0.0</td>\n",
       "      <td>80</td>\n",
       "    </tr>\n",
       "    <tr>\n",
       "      <th>4</th>\n",
       "      <td>67e29a5f-1299-535c-ab06-d5c3ae750e9f</td>\n",
       "      <td>350d46c1-2a43-5053-a33c-40cd3a4c8b95</td>\n",
       "      <td>Online</td>\n",
       "      <td>2022-04-01</td>\n",
       "      <td>243--</td>\n",
       "      <td>Deutschland</td>\n",
       "      <td>Ostsee</td>\n",
       "      <td>Geltinger Bucht</td>\n",
       "      <td>Ostsee</td>\n",
       "      <td>holiday_apartment</td>\n",
       "      <td>...</td>\n",
       "      <td>yes</td>\n",
       "      <td>yes</td>\n",
       "      <td>yes</td>\n",
       "      <td>yes</td>\n",
       "      <td>no</td>\n",
       "      <td>1.0</td>\n",
       "      <td>2.0</td>\n",
       "      <td>4.0</td>\n",
       "      <td>0.0</td>\n",
       "      <td>60</td>\n",
       "    </tr>\n",
       "  </tbody>\n",
       "</table>\n",
       "<p>5 rows × 49 columns</p>\n",
       "</div>"
      ],
      "text/plain": [
       "                             listing_id                           customer_id  \\\n",
       "0  97232bc1-cee6-54cc-9965-be13177051d3  6e5e6ab0-34d3-5662-9259-7ae7eb021acb   \n",
       "1  b2e43b01-0a74-5270-95db-e4f649982e72  6e5e6ab0-34d3-5662-9259-7ae7eb021acb   \n",
       "2  892f4fda-e0e8-5a9b-bbed-29f82942ff9a  6e5e6ab0-34d3-5662-9259-7ae7eb021acb   \n",
       "3  e190ea0f-c688-5aa8-ae38-d0aeebdeec65  6e5e6ab0-34d3-5662-9259-7ae7eb021acb   \n",
       "4  67e29a5f-1299-535c-ab06-d5c3ae750e9f  350d46c1-2a43-5053-a33c-40cd3a4c8b95   \n",
       "\n",
       "    state contract_end    zip country_title   region  \\\n",
       "0  Online   2022-05-01  182--   Deutschland   Ostsee   \n",
       "1  Online   2022-05-01  875--   Deutschland   Allgäu   \n",
       "2  Online   2022-05-01  237--   Deutschland   Ostsee   \n",
       "3  Online   2022-05-01  274--   Deutschland  Nordsee   \n",
       "4  Online   2022-04-01  243--   Deutschland   Ostsee   \n",
       "\n",
       "                      subregion holiday_region      property_type  ... sauna  \\\n",
       "0  Mecklenburgische Ostseeküste         Ostsee  holiday_apartment  ...   yes   \n",
       "1                    Oberallgäu     Oberallgäu  holiday_apartment  ...   yes   \n",
       "2                Lübecker Bucht         Ostsee  holiday_apartment  ...   yes   \n",
       "3           Cuxhaven & Umgebung        Nordsee  holiday_apartment  ...   yes   \n",
       "4               Geltinger Bucht         Ostsee  holiday_apartment  ...   yes   \n",
       "\n",
       "  grill garden terrace balcony bathrooms bedrooms max_guests pets living_area  \n",
       "0   yes    yes      no     yes       1.0      2.0        4.0  0.0          60  \n",
       "1   yes    yes      no     yes       1.0      1.0        4.0  0.0          50  \n",
       "2   yes    yes     yes      no       1.0      2.0        6.0  0.0          77  \n",
       "3   yes    yes      no     yes       1.0      2.0        6.0  0.0          80  \n",
       "4   yes    yes     yes      no       1.0      2.0        4.0  0.0          60  \n",
       "\n",
       "[5 rows x 49 columns]"
      ]
     },
     "execution_count": 19,
     "metadata": {},
     "output_type": "execute_result"
    }
   ],
   "source": [
    "listings.head()"
   ]
  },
  {
   "cell_type": "code",
   "execution_count": 20,
   "metadata": {},
   "outputs": [],
   "source": [
    "properties = listings['listing_id']"
   ]
  },
  {
   "cell_type": "code",
   "execution_count": 21,
   "metadata": {},
   "outputs": [
    {
     "data": {
      "text/plain": [
       "0    97232bc1-cee6-54cc-9965-be13177051d3\n",
       "1    b2e43b01-0a74-5270-95db-e4f649982e72\n",
       "2    892f4fda-e0e8-5a9b-bbed-29f82942ff9a\n",
       "3    e190ea0f-c688-5aa8-ae38-d0aeebdeec65\n",
       "4    67e29a5f-1299-535c-ab06-d5c3ae750e9f\n",
       "Name: listing_id, dtype: object"
      ]
     },
     "execution_count": 21,
     "metadata": {},
     "output_type": "execute_result"
    }
   ],
   "source": [
    "properties.head()\n"
   ]
  },
  {
   "cell_type": "code",
   "execution_count": 34,
   "metadata": {},
   "outputs": [],
   "source": [
    "rating_all_properties = pd.merge(properties, rating, on=\"listing_id\", how='outer')"
   ]
  },
  {
   "cell_type": "code",
   "execution_count": 35,
   "metadata": {},
   "outputs": [
    {
     "name": "stdout",
     "output_type": "stream",
     "text": [
      "<class 'pandas.core.frame.DataFrame'>\n",
      "Int64Index: 362767 entries, 0 to 362766\n",
      "Data columns (total 8 columns):\n",
      " #   Column       Non-Null Count   Dtype         \n",
      "---  ------       --------------   -----         \n",
      " 0   listing_id   362767 non-null  object        \n",
      " 1   rating_date  353506 non-null  datetime64[ns]\n",
      " 2   features     353506 non-null  float64       \n",
      " 3   price        353506 non-null  float64       \n",
      " 4   service      353506 non-null  float64       \n",
      " 5   ambience     353506 non-null  float64       \n",
      " 6   date_from    348459 non-null  datetime64[ns]\n",
      " 7   date_to      348461 non-null  datetime64[ns]\n",
      "dtypes: datetime64[ns](3), float64(4), object(1)\n",
      "memory usage: 24.9+ MB\n"
     ]
    }
   ],
   "source": [
    "rating_all_properties.info()"
   ]
  },
  {
   "cell_type": "code",
   "execution_count": 36,
   "metadata": {},
   "outputs": [
    {
     "data": {
      "text/plain": [
       "listing_id         0\n",
       "rating_date     9261\n",
       "features        9261\n",
       "price           9261\n",
       "service         9261\n",
       "ambience        9261\n",
       "date_from      14308\n",
       "date_to        14306\n",
       "dtype: int64"
      ]
     },
     "execution_count": 36,
     "metadata": {},
     "output_type": "execute_result"
    }
   ],
   "source": [
    "rating_all_properties.isnull().sum()"
   ]
  },
  {
   "cell_type": "code",
   "execution_count": 37,
   "metadata": {},
   "outputs": [
    {
     "data": {
      "text/plain": [
       "rating_date       0\n",
       "listing_id        0\n",
       "features          0\n",
       "price             0\n",
       "service           0\n",
       "ambience          0\n",
       "date_from      5047\n",
       "date_to        5045\n",
       "dtype: int64"
      ]
     },
     "execution_count": 37,
     "metadata": {},
     "output_type": "execute_result"
    }
   ],
   "source": [
    "rating.isnull().sum()"
   ]
  },
  {
   "cell_type": "code",
   "execution_count": null,
   "metadata": {},
   "outputs": [],
   "source": []
  }
 ],
 "metadata": {
  "interpreter": {
   "hash": "50124f71d8f3ce399cc8f90e232172b7703f7c279ffa8eaec14b162019ba404a"
  },
  "kernelspec": {
   "display_name": "Python 3.8.5 64-bit ('.venv')",
   "name": "python3"
  },
  "language_info": {
   "codemirror_mode": {
    "name": "ipython",
    "version": 3
   },
   "file_extension": ".py",
   "mimetype": "text/x-python",
   "name": "python",
   "nbconvert_exporter": "python",
   "pygments_lexer": "ipython3",
   "version": "3.8.5"
  },
  "orig_nbformat": 4
 },
 "nbformat": 4,
 "nbformat_minor": 2
}