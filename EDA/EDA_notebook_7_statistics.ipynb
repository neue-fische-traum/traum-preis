{
 "metadata": {
  "language_info": {
   "codemirror_mode": {
    "name": "ipython",
    "version": 3
   },
   "file_extension": ".py",
   "mimetype": "text/x-python",
   "name": "python",
   "nbconvert_exporter": "python",
   "pygments_lexer": "ipython3",
   "version": "3.8.5"
  },
  "orig_nbformat": 4,
  "kernelspec": {
   "name": "python3",
   "display_name": "Python 3.8.5 64-bit"
  },
  "interpreter": {
   "hash": "2cf2762940e556d956aef20b64b564883d063a27c09be2ab447a9c75f5b30a4b"
  }
 },
 "nbformat": 4,
 "nbformat_minor": 2,
 "cells": [
  {
   "source": [
    "# This notebook will serve for the initial EDA for the statistics data for the TFW project"
   ],
   "cell_type": "markdown",
   "metadata": {}
  },
  {
   "cell_type": "code",
   "execution_count": null,
   "metadata": {},
   "outputs": [],
   "source": [
    "# import necassary libriries\n",
    "import numpy as np\n",
    "import pandas as pd\n",
    "import matplotlib.pyplot as plt\n",
    "import seaborn as sns"
   ]
  },
  {
   "cell_type": "code",
   "execution_count": null,
   "metadata": {},
   "outputs": [],
   "source": [
    "# Load the dataset\n",
    "df_statistics = pd.read_csv('../data/statistics_20210707.csv')"
   ]
  },
  {
   "cell_type": "code",
   "execution_count": null,
   "metadata": {},
   "outputs": [],
   "source": [
    "# Shape of the dataset\n",
    "print('The dataset contains %s different accommodations and %s features' %(df_statistics.shape[0], df_statistics.shape[1]))"
   ]
  },
  {
   "cell_type": "code",
   "execution_count": null,
   "metadata": {},
   "outputs": [],
   "source": [
    "# Have a first look at the dataset\n",
    "df_statistics.head()"
   ]
  },
  {
   "cell_type": "code",
   "execution_count": null,
   "metadata": {},
   "outputs": [],
   "source": [
    "# First look at the info\n",
    "df_statistics.info()"
   ]
  },
  {
   "source": [
    "In this dataset are no categorical features."
   ],
   "cell_type": "markdown",
   "metadata": {}
  },
  {
   "cell_type": "code",
   "execution_count": null,
   "metadata": {},
   "outputs": [],
   "source": [
    "# First description of the numerical features\n",
    "df_statistics.describe()"
   ]
  },
  {
   "source": [
    "## Feature converting\n",
    "\n",
    "First, convert the date feature `yearmonth` to datetime."
   ],
   "cell_type": "markdown",
   "metadata": {}
  },
  {
   "cell_type": "code",
   "execution_count": null,
   "metadata": {},
   "outputs": [],
   "source": [
    "# Convert column yearmonth to datetime\n",
    "df_statistics['yearmonth'] = pd.to_datetime(df_statistics['yearmonth'])"
   ]
  },
  {
   "source": [
    "## Looking for correlations"
   ],
   "cell_type": "markdown",
   "metadata": {}
  },
  {
   "cell_type": "code",
   "execution_count": null,
   "metadata": {},
   "outputs": [],
   "source": [
    "# Generate the heatmap\n",
    "corr = df_statistics.corr()\n",
    "ax = sns.heatmap(\n",
    "    corr,\n",
    "    vmin=-1, vmax=1, center=0,\n",
    "    cmap=sns.diverging_palette(20, 220, n=200),\n",
    "    square=True\n",
    ")\n",
    "ax.set_xticklabels(\n",
    "    ax.get_xticklabels(),\n",
    "    rotation=45,\n",
    "    horizontalalignment='right'\n",
    ");"
   ]
  },
  {
   "cell_type": "code",
   "execution_count": null,
   "metadata": {},
   "outputs": [],
   "source": [
    "corr.style.background_gradient(cmap='coolwarm')"
   ]
  },
  {
   "source": [
    "## Grouping the statistic\n",
    "\n",
    "### 1. Grouping by `yearmonth`"
   ],
   "cell_type": "markdown",
   "metadata": {}
  },
  {
   "cell_type": "code",
   "execution_count": null,
   "metadata": {},
   "outputs": [],
   "source": [
    "# Using groupby to summarize the statistics per yearmonth\n",
    "statistic_per_month = df_statistics.groupby('yearmonth').sum().reset_index()\n",
    "statistic_per_month"
   ]
  },
  {
   "source": [
    "### 2. Grouping by accommodation ID"
   ],
   "cell_type": "markdown",
   "metadata": {}
  },
  {
   "cell_type": "code",
   "execution_count": null,
   "metadata": {},
   "outputs": [],
   "source": [
    "# Using groupby to summarize the statistics per accommodation\n",
    "statistic_per_id = df_statistics.groupby('listing_id').sum().reset_index()\n",
    "statistic_per_id"
   ]
  },
  {
   "source": [
    "### 3. Grouping by property and month"
   ],
   "cell_type": "markdown",
   "metadata": {}
  },
  {
   "cell_type": "code",
   "execution_count": null,
   "metadata": {},
   "outputs": [],
   "source": [
    "# Using groupby to summarize the statistics per accommodation\n",
    "statistic_id_month = df_statistics.groupby(['listing_id', 'yearmonth']).sum().reset_index()\n",
    "statistic_id_month"
   ]
  },
  {
   "cell_type": "code",
   "execution_count": null,
   "metadata": {},
   "outputs": [],
   "source": [
    "# Create a new dataframe for merging with master dataset\n",
    "statistic_id_month = statistic_id_month.drop(['inquiry_count', 'inquiry_volume', 'binding_inquiry_count', 'binding_inquiry_volume', 'direct_booking_count', 'direct_booking_volume', 'phone_clicks'], axis=1)"
   ]
  },
  {
   "cell_type": "code",
   "execution_count": null,
   "metadata": {},
   "outputs": [],
   "source": [
    "# create two columns year and month\n",
    "statistic_id_month['year'] = pd.DatetimeIndex(statistic_id_month['yearmonth']).year\n",
    "statistic_id_month['month'] = pd.DatetimeIndex(statistic_id_month['yearmonth']).month"
   ]
  },
  {
   "cell_type": "code",
   "execution_count": null,
   "metadata": {},
   "outputs": [],
   "source": [
    "# Export csv\n",
    "statistic_id_month.to_csv('../data/statistic_id_month_20210721.csv')"
   ]
  },
  {
   "source": [
    "## Plotting distribution of the features by month"
   ],
   "cell_type": "markdown",
   "metadata": {}
  },
  {
   "source": [
    "#### First, plotting the distribution of `count_inquiries` per month."
   ],
   "cell_type": "markdown",
   "metadata": {}
  },
  {
   "cell_type": "code",
   "execution_count": null,
   "metadata": {},
   "outputs": [],
   "source": [
    "# Plotting a lineplot\n",
    "fig, ax = plt.subplots(figsize=(15,5))\n",
    "sns.lineplot(data=statistic_per_month, x=\"yearmonth\", y=\"inquiry_count\")"
   ]
  },
  {
   "cell_type": "code",
   "execution_count": null,
   "metadata": {},
   "outputs": [],
   "source": []
  },
  {
   "source": [
    "It seems to be, that the corona pandemic influenced the inquiries. In 2019 the inquiries stay nearly at the same level and vary around 60000. From January 2020 to April 2020 (Lockdown) the inquiries decrease up to around 20000 and starts with April 2020 to increase more steeply to 130000. In September 2020 and October 2020 the inquiries decrease again back to 20000. During the corona pandemic many people didn't go on a journey or if they do, tried to stay in Germany."
   ],
   "cell_type": "markdown",
   "metadata": {}
  },
  {
   "source": [
    "#### Second, plotting the distribution of `direct_booking_count` per month"
   ],
   "cell_type": "markdown",
   "metadata": {}
  },
  {
   "cell_type": "code",
   "execution_count": null,
   "metadata": {},
   "outputs": [],
   "source": [
    "# Sum of direct bookings\n",
    "print('Sum of direct bookings:', df_statistics.direct_booking_count.sum())"
   ]
  },
  {
   "cell_type": "code",
   "execution_count": null,
   "metadata": {},
   "outputs": [],
   "source": [
    "# Plotting a lineplot\n",
    "fig, ax = plt.subplots(figsize=(15,5))\n",
    "sns.lineplot(data=statistic_per_month, x=\"yearmonth\", y=\"direct_booking_count\")"
   ]
  },
  {
   "source": [
    "#### Third, plotting the distribution of `result_view`, `expose_view`, and `phone_clicks` per month"
   ],
   "cell_type": "markdown",
   "metadata": {}
  },
  {
   "cell_type": "code",
   "execution_count": null,
   "metadata": {},
   "outputs": [],
   "source": [
    "# Line plot result views\n",
    "fig, ax = plt.subplots(figsize=(15,5))\n",
    "sns.lineplot(data=statistic_per_month, x=\"yearmonth\", y=\"result_views\")\n",
    "sns.lineplot(data=statistic_per_month, x=\"yearmonth\", y=\"expose_views\")\n",
    "sns.lineplot(data=statistic_per_month, x=\"yearmonth\", y=\"phone_clicks\")\n",
    "ax.set(xlabel='Year - Month', ylabel='Views count')\n",
    "plt.ticklabel_format(style='plain', axis='y')\n",
    "plt.legend(labels=[\"Result views\",\"Expose views\", \"Phone clicks\"])\n",
    "plt.title('Count of result views, expose views and phone clicks per month for all properties', fontsize=14);"
   ]
  },
  {
   "source": [
    "## Plotting distribution of the features by listing ID"
   ],
   "cell_type": "markdown",
   "metadata": {}
  },
  {
   "source": [
    "#### First, plot the `inquiry_count` per accommodation "
   ],
   "cell_type": "markdown",
   "metadata": {}
  },
  {
   "cell_type": "code",
   "execution_count": null,
   "metadata": {},
   "outputs": [],
   "source": [
    "# Plotting a histogram\n",
    "fig, ax = plt.subplots(figsize=(15,5))\n",
    "statistic_per_id.inquiry_count.hist(bins=500)"
   ]
  },
  {
   "cell_type": "code",
   "execution_count": null,
   "metadata": {},
   "outputs": [],
   "source": [
    "# Plotting a boxplot\n",
    "statistic_per_id.boxplot(column=['inquiry_count'])"
   ]
  },
  {
   "cell_type": "code",
   "execution_count": null,
   "metadata": {},
   "outputs": [],
   "source": [
    "# Description of the feature inquiry_count\n",
    "statistic_per_id.inquiry_count.describe()"
   ]
  },
  {
   "source": [
    "### 1. Assumption: average length of stay: 7 days\n",
    "### 2. Assumption: a good occupancy rate is 50% of the year\n",
    "### 3. Assumption: each third request generate a booking\n",
    "### We need:  52 weeks per year / 50 % occupancy = 26 weeks per year --> 26 weeks per year * 3 request generate a booking = 78 inquiries are perfect!"
   ],
   "cell_type": "markdown",
   "metadata": {}
  },
  {
   "source": [
    "How many houses have between 70 and 90 inquiries?"
   ],
   "cell_type": "markdown",
   "metadata": {}
  },
  {
   "cell_type": "code",
   "execution_count": null,
   "metadata": {},
   "outputs": [],
   "source": [
    "# Create a list with houses with perfect number of inquiries and count\n",
    "property_inquiry_70_90 = statistic_per_id.query('inquiry_count >= 70 & inquiry_count <= 90')\n",
    "len(property_inquiry_70_90)"
   ]
  },
  {
   "source": [
    "2268 houses have a perfect inquiry count! That's are 7.5 %."
   ],
   "cell_type": "markdown",
   "metadata": {}
  },
  {
   "source": [
    "How many houses have less and more inquiries?"
   ],
   "cell_type": "markdown",
   "metadata": {}
  },
  {
   "cell_type": "code",
   "execution_count": null,
   "metadata": {},
   "outputs": [],
   "source": [
    "# Count inquiries\n",
    "print(statistic_per_id.query('inquiry_count >= 60 & inquiry_count <= 70')['listing_id'].count(), 'properties have between 60 and 70 inquiries.')\n",
    "print(statistic_per_id.query('inquiry_count > 60')['listing_id'].count(), 'properties have less than 60 inquiries.')\n",
    "print(statistic_per_id.query('inquiry_count >= 90 & inquiry_count <= 100')['listing_id'].count(), 'properties have between 90 and 100 inquiries.')\n",
    "print(statistic_per_id.query('inquiry_count > 100')['listing_id'].count(), 'properties have more than 100 inquiries.')\n",
    "print(statistic_per_id.query('inquiry_count >= 60 & inquiry_count <= 100')['listing_id'].count(), 'properties have between 60 and 100 inquiries.')"
   ]
  },
  {
   "source": [
    "#### Second, plot the `result_views`, `expose_views`, and `phone_clicks` per accommodation"
   ],
   "cell_type": "markdown",
   "metadata": {}
  },
  {
   "cell_type": "code",
   "execution_count": null,
   "metadata": {},
   "outputs": [],
   "source": [
    "# Boxplot views and phone clicks\n",
    "statistic_per_id.boxplot(column=['result_views', 'expose_views', 'phone_clicks']);"
   ]
  },
  {
   "source": [
    "### Split the dataset into the years 2019 and 2020"
   ],
   "cell_type": "markdown",
   "metadata": {}
  },
  {
   "cell_type": "code",
   "execution_count": null,
   "metadata": {},
   "outputs": [],
   "source": [
    "# Split dataset: 2019\n",
    "start_date = \"2019-01-01\"\n",
    "end_date = \"2019-12-1\"\n",
    "\n",
    "after_start_date = df_statistics[\"yearmonth\"] >= start_date\n",
    "before_end_date = df_statistics[\"yearmonth\"] <= end_date\n",
    "between_two_dates = after_start_date & before_end_date\n",
    "filtered_dates_2019 = df_statistics.loc[between_two_dates]"
   ]
  },
  {
   "cell_type": "code",
   "execution_count": null,
   "metadata": {},
   "outputs": [],
   "source": [
    "# Split dataset: 2020\n",
    "start_date = \"2020-01-01\"\n",
    "end_date = \"2020-12-31\"\n",
    "\n",
    "after_start_date = df_statistics[\"yearmonth\"] >= start_date\n",
    "before_end_date = df_statistics[\"yearmonth\"] <= end_date\n",
    "between_two_dates = after_start_date & before_end_date\n",
    "filtered_dates_2020 = df_statistics.loc[between_two_dates]"
   ]
  },
  {
   "cell_type": "code",
   "execution_count": null,
   "metadata": {},
   "outputs": [],
   "source": [
    "# Using groupby to summarize the statistics per year and accommodation\n",
    "statistic_per_id_2019 = filtered_dates_2019.groupby('listing_id').sum().reset_index()\n",
    "statistic_per_id_2020 = filtered_dates_2020.groupby('listing_id').sum().reset_index()"
   ]
  },
  {
   "cell_type": "code",
   "execution_count": null,
   "metadata": {},
   "outputs": [],
   "source": [
    "# Plotting a histogram\n",
    "fig, ax = plt.subplots(figsize=(15,5))\n",
    "statistic_per_id_2019.inquiry_count.hist(bins=500, alpha=0.5)\n",
    "statistic_per_id_2020.inquiry_count.hist(bins=500, alpha=0.5)\n",
    "ax.legend(['2019', '2020'])"
   ]
  },
  {
   "cell_type": "code",
   "execution_count": null,
   "metadata": {},
   "outputs": [],
   "source": [
    "print(statistic_per_id_2019.inquiry_count.describe())\n",
    "print('--------------------------------------------')\n",
    "print(statistic_per_id_2020.inquiry_count.describe())"
   ]
  },
  {
   "cell_type": "code",
   "execution_count": null,
   "metadata": {},
   "outputs": [],
   "source": []
  }
 ]
}