{
 "metadata": {
  "language_info": {
   "codemirror_mode": {
    "name": "ipython",
    "version": 3
   },
   "file_extension": ".py",
   "mimetype": "text/x-python",
   "name": "python",
   "nbconvert_exporter": "python",
   "pygments_lexer": "ipython3",
   "version": "3.8.5"
  },
  "orig_nbformat": 4,
  "kernelspec": {
   "name": "python3",
   "display_name": "Python 3.8.5 64-bit ('.venv')"
  },
  "interpreter": {
   "hash": "7033859b39016b1cbb0cfa821a6f288e7fd907fe4b33f32f92dbeb273ada45c0"
  }
 },
 "nbformat": 4,
 "nbformat_minor": 2,
 "cells": [
  {
   "cell_type": "markdown",
   "source": [
    "# This notebook will serve for the initial EDA for the statistics data for the TFW project"
   ],
   "metadata": {}
  },
  {
   "cell_type": "markdown",
   "source": [
    "## 1. Start with loading dataset and first editings"
   ],
   "metadata": {}
  },
  {
   "cell_type": "code",
   "execution_count": null,
   "source": [
    "# import necassary libriries\n",
    "import numpy as np\n",
    "import pandas as pd\n",
    "import matplotlib.pyplot as plt\n",
    "import seaborn as sns"
   ],
   "outputs": [],
   "metadata": {}
  },
  {
   "cell_type": "code",
   "execution_count": null,
   "source": [
    "# Load the dataset\n",
    "df_statistics = pd.read_csv('../data/statistics_20210707.csv')"
   ],
   "outputs": [],
   "metadata": {}
  },
  {
   "cell_type": "code",
   "execution_count": null,
   "source": [
    "# Shape of the dataset\n",
    "print('The dataset contains %s different accommodations and %s features' %(df_statistics.shape[0], df_statistics.shape[1]))"
   ],
   "outputs": [],
   "metadata": {}
  },
  {
   "cell_type": "code",
   "execution_count": null,
   "source": [
    "# Have a first look at the dataset\n",
    "df_statistics.head()"
   ],
   "outputs": [],
   "metadata": {}
  },
  {
   "cell_type": "code",
   "execution_count": null,
   "source": [
    "# First look at the info\n",
    "df_statistics.info()"
   ],
   "outputs": [],
   "metadata": {}
  },
  {
   "cell_type": "markdown",
   "source": [
    "In this dataset are no categorical features."
   ],
   "metadata": {}
  },
  {
   "cell_type": "code",
   "execution_count": null,
   "source": [
    "# First description of the numerical features\n",
    "df_statistics.describe()"
   ],
   "outputs": [],
   "metadata": {}
  },
  {
   "cell_type": "code",
   "execution_count": null,
   "source": [
    "# Convert column yearmonth to datetime\n",
    "df_statistics['yearmonth'] = pd.to_datetime(df_statistics['yearmonth'])"
   ],
   "outputs": [],
   "metadata": {}
  },
  {
   "cell_type": "markdown",
   "source": [
    "## 2. Looking for correlations"
   ],
   "metadata": {}
  },
  {
   "cell_type": "code",
   "execution_count": null,
   "source": [
    "# Generate the heatmap\n",
    "corr = df_statistics.corr()\n",
    "ax = sns.heatmap(\n",
    "    corr,\n",
    "    vmin=-1, vmax=1, center=0,\n",
    "    cmap=sns.diverging_palette(20, 220, n=200),\n",
    "    square=True\n",
    ")\n",
    "ax.set_xticklabels(\n",
    "    ax.get_xticklabels(),\n",
    "    rotation=45,\n",
    "    horizontalalignment='right'\n",
    ");"
   ],
   "outputs": [],
   "metadata": {}
  },
  {
   "cell_type": "code",
   "execution_count": null,
   "source": [
    "# Table with correlations\n",
    "corr.style.background_gradient(cmap='coolwarm')"
   ],
   "outputs": [],
   "metadata": {}
  },
  {
   "cell_type": "markdown",
   "source": [
    "## 3. Diffenrent groupings of the statistics"
   ],
   "metadata": {}
  },
  {
   "cell_type": "markdown",
   "source": [
    "### 1. Grouping by `yearmonth`"
   ],
   "metadata": {}
  },
  {
   "cell_type": "code",
   "execution_count": null,
   "source": [
    "# Using groupby to summarize the statistics per yearmonth\n",
    "statistic_per_month = df_statistics.groupby('yearmonth').sum().reset_index()\n",
    "statistic_per_month"
   ],
   "outputs": [],
   "metadata": {}
  },
  {
   "cell_type": "markdown",
   "source": [
    "### 2. Grouping by `listing ID`"
   ],
   "metadata": {}
  },
  {
   "cell_type": "code",
   "execution_count": null,
   "source": [
    "# Using groupby to summarize the statistics per accommodation\n",
    "statistic_per_id = df_statistics.groupby('listing_id').sum().reset_index()\n",
    "statistic_per_id"
   ],
   "outputs": [],
   "metadata": {}
  },
  {
   "cell_type": "markdown",
   "source": [
    "### 3. Grouping by `isting ID` and `month`"
   ],
   "metadata": {}
  },
  {
   "cell_type": "code",
   "execution_count": null,
   "source": [
    "# Using groupby to summarize the statistics per accommodation\n",
    "statistic_id_month = df_statistics.groupby(['listing_id', 'yearmonth']).sum().reset_index()\n",
    "statistic_id_month"
   ],
   "outputs": [],
   "metadata": {}
  },
  {
   "cell_type": "markdown",
   "source": [
    "## 4. Create new dataframe for merging with other datasets for the model"
   ],
   "metadata": {}
  },
  {
   "cell_type": "code",
   "execution_count": null,
   "source": [
    "# Create a new dataframe for merging with model dataset\n",
    "statistic_id_month = statistic_id_month.drop(['inquiry_count', 'inquiry_volume', 'binding_inquiry_count', 'binding_inquiry_volume', 'direct_booking_count', 'direct_booking_volume', 'phone_clicks'], axis=1)"
   ],
   "outputs": [],
   "metadata": {}
  },
  {
   "cell_type": "code",
   "execution_count": null,
   "source": [
    "# create two columns year and month\n",
    "statistic_id_month['year'] = pd.DatetimeIndex(statistic_id_month['yearmonth']).year\n",
    "statistic_id_month['month'] = pd.DatetimeIndex(statistic_id_month['yearmonth']).month"
   ],
   "outputs": [],
   "metadata": {}
  },
  {
   "cell_type": "code",
   "execution_count": null,
   "source": [
    "# Export csv\n",
    "#statistic_id_month.to_csv('../data/statistic_id_month_20210721.csv')"
   ],
   "outputs": [],
   "metadata": {}
  },
  {
   "cell_type": "markdown",
   "source": [
    "## 5. Plotting distribution of the features by month"
   ],
   "metadata": {}
  },
  {
   "cell_type": "markdown",
   "source": [
    "#### First, plotting the distribution of `count_inquiries` per month."
   ],
   "metadata": {}
  },
  {
   "cell_type": "code",
   "execution_count": null,
   "source": [
    "# Plotting a lineplot\n",
    "fig, ax = plt.subplots(figsize=(15,5))\n",
    "sns.lineplot(data=statistic_per_month, x=\"yearmonth\", y=\"inquiry_count\")\n",
    "ax.set(xlabel='Year - Month', ylabel='Inquiry count')\n",
    "plt.title('Overall Inquiries per Month (2019-2020)')"
   ],
   "outputs": [],
   "metadata": {}
  },
  {
   "cell_type": "markdown",
   "source": [
    "It seems to be, that the corona pandemic influenced the inquiries. In 2019 the inquiries stay nearly at the same level and vary around 60000. From January 2020 to April 2020 (Lockdown) the inquiries decrease up to around 20000 and starts with April 2020 to increase more steeply to 130000. In September 2020 and October 2020 the inquiries decrease again back to 20000. During the corona pandemic many people didn't go on a journey or if they do, tried to stay in Germany."
   ],
   "metadata": {}
  },
  {
   "cell_type": "markdown",
   "source": [
    "#### Second, plotting the distribution of `direct_booking_count` per month"
   ],
   "metadata": {}
  },
  {
   "cell_type": "code",
   "execution_count": null,
   "source": [
    "# Sum of direct bookings\n",
    "print('Sum of direct bookings:', df_statistics.direct_booking_count.sum())"
   ],
   "outputs": [],
   "metadata": {}
  },
  {
   "cell_type": "code",
   "execution_count": null,
   "source": [
    "# Plotting a lineplot\n",
    "fig, ax = plt.subplots(figsize=(15,5))\n",
    "sns.lineplot(data=statistic_per_month, x=\"yearmonth\", y=\"direct_booking_count\")"
   ],
   "outputs": [],
   "metadata": {}
  },
  {
   "cell_type": "markdown",
   "source": [
    "#### Third, plotting the distribution of `result_view`, `expose_view`, and `phone_clicks` per month"
   ],
   "metadata": {}
  },
  {
   "cell_type": "code",
   "execution_count": null,
   "source": [
    "# Line plot result views\n",
    "fig, ax = plt.subplots(figsize=(15,5))\n",
    "sns.lineplot(data=statistic_per_month, x=\"yearmonth\", y=\"result_views\")\n",
    "sns.lineplot(data=statistic_per_month, x=\"yearmonth\", y=\"expose_views\")\n",
    "sns.lineplot(data=statistic_per_month, x=\"yearmonth\", y=\"phone_clicks\")\n",
    "ax.set(xlabel='Year - Month', ylabel='Views count')\n",
    "plt.ticklabel_format(style='plain', axis='y')\n",
    "plt.legend(labels=[\"Result views\",\"Expose views\", \"Phone clicks\"])\n",
    "plt.title('Count of result views, expose views and phone clicks per month for all properties', fontsize=14);"
   ],
   "outputs": [],
   "metadata": {}
  },
  {
   "cell_type": "markdown",
   "source": [
    "## 6. Plotting distribution of the features by listing ID"
   ],
   "metadata": {}
  },
  {
   "cell_type": "markdown",
   "source": [
    "#### First, plot the `inquiry_count` per property "
   ],
   "metadata": {}
  },
  {
   "cell_type": "code",
   "execution_count": null,
   "source": [
    "# Plotting a histogram\n",
    "fig, ax = plt.subplots(figsize=(15,5))\n",
    "statistic_per_id.inquiry_count.hist(bins=500)"
   ],
   "outputs": [],
   "metadata": {}
  },
  {
   "cell_type": "code",
   "execution_count": null,
   "source": [
    "# Plotting a boxplot\n",
    "statistic_per_id.boxplot(column=['inquiry_count'])"
   ],
   "outputs": [],
   "metadata": {}
  },
  {
   "cell_type": "code",
   "execution_count": null,
   "source": [
    "# Description of the feature inquiry_count\n",
    "statistic_per_id.inquiry_count.describe()"
   ],
   "outputs": [],
   "metadata": {}
  },
  {
   "cell_type": "markdown",
   "source": [
    "#### Second, plot the `result_views`, `expose_views`, and `phone_clicks` per accommodation"
   ],
   "metadata": {}
  },
  {
   "cell_type": "code",
   "execution_count": null,
   "source": [
    "# Boxplot views and phone clicks\n",
    "statistic_per_id.boxplot(column=['result_views', 'expose_views', 'phone_clicks']);"
   ],
   "outputs": [],
   "metadata": {}
  },
  {
   "cell_type": "markdown",
   "source": [
    "## 7. Split the dataset into the years 2019 and 2020"
   ],
   "metadata": {}
  },
  {
   "cell_type": "code",
   "execution_count": null,
   "source": [
    "# Split dataset: 2019\n",
    "start_date = \"2019-01-01\"\n",
    "end_date = \"2019-12-1\"\n",
    "\n",
    "after_start_date = df_statistics[\"yearmonth\"] >= start_date\n",
    "before_end_date = df_statistics[\"yearmonth\"] <= end_date\n",
    "between_two_dates = after_start_date & before_end_date\n",
    "filtered_dates_2019 = df_statistics.loc[between_two_dates]"
   ],
   "outputs": [],
   "metadata": {}
  },
  {
   "cell_type": "code",
   "execution_count": null,
   "source": [
    "# Split dataset: 2020\n",
    "start_date = \"2020-01-01\"\n",
    "end_date = \"2020-12-31\"\n",
    "\n",
    "after_start_date = df_statistics[\"yearmonth\"] >= start_date\n",
    "before_end_date = df_statistics[\"yearmonth\"] <= end_date\n",
    "between_two_dates = after_start_date & before_end_date\n",
    "filtered_dates_2020 = df_statistics.loc[between_two_dates]"
   ],
   "outputs": [],
   "metadata": {}
  },
  {
   "cell_type": "code",
   "execution_count": null,
   "source": [
    "# Using groupby to summarize the statistics per year and accommodation\n",
    "statistic_per_id_2019 = filtered_dates_2019.groupby('listing_id').sum().reset_index()\n",
    "statistic_per_id_2020 = filtered_dates_2020.groupby('listing_id').sum().reset_index()"
   ],
   "outputs": [],
   "metadata": {}
  },
  {
   "cell_type": "code",
   "execution_count": null,
   "source": [
    "# Plotting a histogram\n",
    "fig, ax = plt.subplots(figsize=(15,5))\n",
    "statistic_per_id_2019.inquiry_count.hist(bins=500, alpha=0.5)\n",
    "statistic_per_id_2020.inquiry_count.hist(bins=500, alpha=0.5)\n",
    "ax.legend(['2019', '2020'])"
   ],
   "outputs": [],
   "metadata": {}
  },
  {
   "cell_type": "code",
   "execution_count": null,
   "source": [
    "# Description of inquiry_count per year\n",
    "print(statistic_per_id_2019.inquiry_count.describe())\n",
    "print('--------------------------------------------')\n",
    "print(statistic_per_id_2020.inquiry_count.describe())"
   ],
   "outputs": [],
   "metadata": {}
  }
 ]
}