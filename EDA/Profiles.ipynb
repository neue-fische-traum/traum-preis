{
 "cells": [
  {
   "cell_type": "code",
   "execution_count": 2,
   "metadata": {},
   "outputs": [],
   "source": [
    "import numpy as np\n",
    "import pandas as pd\n",
    "from pandas_profiling import ProfileReport"
   ]
  },
  {
   "cell_type": "code",
   "execution_count": 3,
   "metadata": {},
   "outputs": [
    {
     "name": "stderr",
     "output_type": "stream",
     "text": [
      "/Users/lukeblecha/neuefische-traum/.venv/lib/python3.8/site-packages/IPython/core/interactiveshell.py:3441: DtypeWarning: Columns (2) have mixed types.Specify dtype option on import or set low_memory=False.\n",
      "  exec(code_obj, self.user_global_ns, self.user_ns)\n"
     ]
    }
   ],
   "source": [
    "# Load datasets\n",
    "inquiries = pd.read_csv(\n",
    "    '/Users/lukeblecha/neuefische-traum/datasets/inquiries_20210707.csv')\n",
    "pictures = pd.read_csv(\n",
    "    '/Users/lukeblecha/neuefische-traum/datasets/listing_pictures_0210707.csv')\n",
    "listings = pd.read_csv(\n",
    "    '/Users/lukeblecha/neuefische-traum/datasets/listings_20210707.csv')\n",
    "prices = pd.read_csv(\n",
    "    '/Users/lukeblecha/neuefische-traum/datasets/prices_20210707.csv')\n",
    "rating = pd.read_csv(\n",
    "    '/Users/lukeblecha/neuefische-traum/datasets/rating_20210707.csv')\n",
    "room_features = pd.read_csv(\n",
    "    '/Users/lukeblecha/neuefische-traum/datasets/rooms_features_20210707.csv')\n",
    "statistics = pd.read_csv(\n",
    "    '/Users/lukeblecha/neuefische-traum/datasets/statistics_20210707.csv')"
   ]
  },
  {
   "cell_type": "code",
   "execution_count": 6,
   "metadata": {},
   "outputs": [],
   "source": [
    "# Then run Pandas Profiling\n",
    "profile_inquery = ProfileReport(inquiries, title=\"Pandas Profiling Report: inquiries\", explorative=True)\n",
    "profile_pictures = ProfileReport(pictures, title=\"Pandas Profiling Report: pictures\", explorative=True)\n",
    "profile_listings = ProfileReport(listings, title=\"Pandas Profiling Report: listings\", explorative=True)\n",
    "profile_prices = ProfileReport(prices, title=\"Pandas Profiling Report: prices\", explorative=True)\n",
    "profile_rating = ProfileReport(rating, title=\"Pandas Profiling Report: rating\", explorative=True)\n",
    "profile_room_features = ProfileReport(room_features, title=\"Pandas Profiling Report: room_features\", explorative=True)\n",
    "profile_statistics = ProfileReport(statistics, title=\"Pandas Profiling Report: statistics\", explorative=True)"
   ]
  },
  {
   "cell_type": "code",
   "execution_count": 9,
   "metadata": {},
   "outputs": [
    {
     "name": "stdout",
     "output_type": "stream",
     "text": [
      "\n",
      "\n",
      "\n",
      "\n",
      "\n",
      "\n",
      "\n"
     ]
    }
   ],
   "source": [
    "print(profile_inquery)\n",
    "print(profile_pictures)\n",
    "print(profile_listings)\n",
    "print(profile_prices)\n",
    "print(profile_rating)\n",
    "print(profile_room_features)\n",
    "print(profile_statistics)\n"
   ]
  },
  {
   "cell_type": "code",
   "execution_count": null,
   "metadata": {},
   "outputs": [],
   "source": []
  }
 ],
 "metadata": {
  "interpreter": {
   "hash": "d010501e40abb3b7db4096fc0aa4e129057eacaad7f742892b4cda0c942bb7f2"
  },
  "kernelspec": {
   "display_name": "Python 3.8.5 64-bit ('.venv': venv)",
   "name": "python3"
  },
  "language_info": {
   "codemirror_mode": {
    "name": "ipython",
    "version": 3
   },
   "file_extension": ".py",
   "mimetype": "text/x-python",
   "name": "python",
   "nbconvert_exporter": "python",
   "pygments_lexer": "ipython3",
   "version": "3.8.5"
  },
  "orig_nbformat": 4
 },
 "nbformat": 4,
 "nbformat_minor": 2
}