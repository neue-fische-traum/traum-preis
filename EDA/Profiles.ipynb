{
 "cells": [
  {
   "cell_type": "markdown",
   "source": [
    "# This notebook will serve the Pandas Profiling Reports for all datasets"
   ],
   "metadata": {}
  },
  {
   "cell_type": "code",
   "execution_count": null,
   "source": [
    "# Import necessary libraries\n",
    "import numpy as np\n",
    "import pandas as pd\n",
    "from pandas_profiling import ProfileReport"
   ],
   "outputs": [],
   "metadata": {}
  },
  {
   "cell_type": "code",
   "execution_count": null,
   "source": [
    "# Load datasets\n",
    "inquiries = pd.read_csv('../data/inquiries_20210713.csv')\n",
    "pictures = pd.read_csv('../data/pictures_20210716.csv')\n",
    "listings = pd.read_csv('../data/listings_20210707.csv')\n",
    "prices = pd.read_csv('../data/prices_20210713.csv')\n",
    "rating = pd.read_csv('../data/rating_20210713.csv')\n",
    "room_features = pd.read_csv('../data/rooms_features_20210713.csv')\n",
    "statistics = pd.read_csv('../data/statistics_20210707.csv')\n",
    "top_listings = pd.read_csv('../data/TOP_listings_20210712.csv')"
   ],
   "outputs": [],
   "metadata": {}
  },
  {
   "cell_type": "code",
   "execution_count": null,
   "source": [
    "# Then run Pandas Profiling\n",
    "profile_inquery = ProfileReport(inquiries, title=\"Pandas Profiling Report: inquiries\", explorative=True)\n",
    "profile_pictures = ProfileReport(pictures, title=\"Pandas Profiling Report: pictures\", explorative=True)\n",
    "profile_listings = ProfileReport(listings, title=\"Pandas Profiling Report: listings\", explorative=True)\n",
    "profile_prices = ProfileReport(prices, title=\"Pandas Profiling Report: prices\", explorative=True)\n",
    "profile_rating = ProfileReport(rating, title=\"Pandas Profiling Report: rating\", explorative=True)\n",
    "profile_room_features = ProfileReport(room_features, title=\"Pandas Profiling Report: room_features\", explorative=True)\n",
    "profile_statistics = ProfileReport(statistics, title=\"Pandas Profiling Report: statistics\", explorative=True)\n",
    "profile_top_listings = ProfileReport(top_listings, title=\"Pandas Profiling Report: top listings\", explorative=True)"
   ],
   "outputs": [],
   "metadata": {}
  },
  {
   "cell_type": "code",
   "execution_count": null,
   "source": [
    "print(profile_inquery)\n",
    "print(profile_pictures)\n",
    "print(profile_listings)\n",
    "print(profile_prices)\n",
    "print(profile_rating)\n",
    "print(profile_room_features)\n",
    "print(profile_statistics)\n",
    "print(profile_top_listings)"
   ],
   "outputs": [],
   "metadata": {}
  },
  {
   "cell_type": "code",
   "execution_count": null,
   "source": [],
   "outputs": [],
   "metadata": {}
  }
 ],
 "metadata": {
  "interpreter": {
   "hash": "d010501e40abb3b7db4096fc0aa4e129057eacaad7f742892b4cda0c942bb7f2"
  },
  "kernelspec": {
   "display_name": "Python 3.8.5 64-bit ('.venv': venv)",
   "name": "python3"
  },
  "language_info": {
   "name": "python",
   "version": ""
  },
  "orig_nbformat": 4
 },
 "nbformat": 4,
 "nbformat_minor": 2
}