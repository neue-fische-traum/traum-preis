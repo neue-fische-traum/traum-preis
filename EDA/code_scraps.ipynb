{
 "cells": [
  {
   "cell_type": "markdown",
   "source": [
    "# Scrap code notebook\n"
   ],
   "metadata": {}
  },
  {
   "cell_type": "markdown",
   "source": [
    "## Import necassary libraries"
   ],
   "metadata": {}
  },
  {
   "cell_type": "code",
   "execution_count": null,
   "source": [
    "# Import necassary libraries\n",
    "import pandas as pd\n",
    "import numpy as np\n",
    "import matplotlib.pyplot as plt\n",
    "import seaborn as sns\n",
    "import statsmodels.formula.api as smf\n",
    "from scipy import stats\n",
    "from modeling.config import EXPERIMENT_NAME"
   ],
   "outputs": [],
   "metadata": {}
  },
  {
   "cell_type": "code",
   "execution_count": null,
   "source": [
    "#Load datasets\n",
    "new_tiny_master = pd.read_csv('../data/new_tiny_master.csv')\n",
    "\n",
    "df_TOP = pd.read_csv('../data/TOP_listings_20210712.csv')"
   ],
   "outputs": [],
   "metadata": {}
  },
  {
   "cell_type": "code",
   "execution_count": null,
   "source": [
    "new_tiny_master.head()"
   ],
   "outputs": [],
   "metadata": {}
  },
  {
   "cell_type": "code",
   "execution_count": null,
   "source": [
    "df_TOP.head"
   ],
   "outputs": [],
   "metadata": {}
  },
  {
   "cell_type": "markdown",
   "source": [
    "## Correcting date and time formatting."
   ],
   "metadata": {}
  },
  {
   "cell_type": "code",
   "execution_count": null,
   "source": [
    "df_TOP['date_from'] = pd.to_datetime(df_TOP['date_from'], errors = 'coerce')\n",
    "df_TOP['date_to'] = pd.to_datetime(df_TOP['date_to'], errors = 'coerce')\n",
    "new_tiny_master['date'] = pd.to_datetime(new_tiny_master['date'], errors = 'coerce')"
   ],
   "outputs": [],
   "metadata": {}
  },
  {
   "cell_type": "markdown",
   "source": [
    "## Merging datasets"
   ],
   "metadata": {}
  },
  {
   "cell_type": "code",
   "execution_count": null,
   "source": [
    "df_super_master = pd.merge(tiny_master, df_TOP, on='listing_id', how='outer', suffixes=('','_key'))\n",
    "df_super_master = df_super_master[(df_super_master.date >= df_super_master.date_from) & (\n",
    "    df_super_master.date <= df_master.date_to)]\n",
    "df_super_master = pd.merge(tiny_master, df_super_master, on=[\n",
    "    'listing_id', 'date'], how='left')\n",
    "df_super_master"
   ],
   "outputs": [],
   "metadata": {}
  },
  {
   "cell_type": "code",
   "execution_count": null,
   "source": [
    "tiny_master.columns"
   ],
   "outputs": [],
   "metadata": {}
  },
  {
   "cell_type": "code",
   "execution_count": null,
   "source": [
    "df_super_master = df_super_master.drop(['title_y', 'time_y', 'adult_count_y', 'children_count_y',\n",
    "       'pets_count_y', 'arrival_date_y', 'departure_date_y', 'inquiry_price_y',\n",
    "       'length_stay_y'], axis=1)"
   ],
   "outputs": [],
   "metadata": {}
  },
  {
   "cell_type": "markdown",
   "source": [
    "## Deleting empty columns"
   ],
   "metadata": {}
  },
  {
   "cell_type": "code",
   "execution_count": null,
   "source": [
    "del df_inquiries['Unnamed: 0']"
   ],
   "outputs": [],
   "metadata": {}
  }
 ],
 "metadata": {
  "orig_nbformat": 4,
  "language_info": {
   "name": "python",
   "version": "3.8.5",
   "mimetype": "text/x-python",
   "codemirror_mode": {
    "name": "ipython",
    "version": 3
   },
   "pygments_lexer": "ipython3",
   "nbconvert_exporter": "python",
   "file_extension": ".py"
  },
  "kernelspec": {
   "name": "python3",
   "display_name": "Python 3.8.5 64-bit ('.venv': venv)"
  },
  "interpreter": {
   "hash": "3fd22edfe25832d446c332425401e3196937690f846d01f80d16cc13753e72c7"
  }
 },
 "nbformat": 4,
 "nbformat_minor": 2
}