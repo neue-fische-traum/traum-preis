{
 "cells": [
  {
   "cell_type": "markdown",
   "source": [
    "# Master dummies drop notebook\n"
   ],
   "metadata": {}
  },
  {
   "cell_type": "markdown",
   "source": [
    "## Import necassary libraries"
   ],
   "metadata": {}
  },
  {
   "cell_type": "code",
   "execution_count": null,
   "source": [
    "# Import necassary libraries\n",
    "import pandas as pd\n",
    "import numpy as np\n",
    "import matplotlib.pyplot as plt\n",
    "import seaborn as sns\n",
    "import statsmodels.formula.api as smf"
   ],
   "outputs": [],
   "metadata": {}
  },
  {
   "cell_type": "markdown",
   "source": [
    "## Importing data"
   ],
   "metadata": {}
  },
  {
   "cell_type": "code",
   "execution_count": null,
   "source": [
    "#Load datasets\n",
    "df_drop_it = pd.read_csv('../data/master_with_dummies.csv')"
   ],
   "outputs": [],
   "metadata": {}
  },
  {
   "cell_type": "markdown",
   "source": [
    "## Looking at catagories info"
   ],
   "metadata": {}
  },
  {
   "cell_type": "code",
   "execution_count": null,
   "source": [
    "df_drop_it.head()"
   ],
   "outputs": [],
   "metadata": {}
  },
  {
   "cell_type": "code",
   "execution_count": null,
   "source": [
    "list(df_drop_it.columns.values)\n"
   ],
   "outputs": [],
   "metadata": {}
  },
  {
   "cell_type": "markdown",
   "source": [
    "## Deleting  columns"
   ],
   "metadata": {}
  },
  {
   "cell_type": "code",
   "execution_count": null,
   "source": [
    "df_drop_it = df_drop_it.drop(['Unnamed: 0',\n",
    " 'Unnamed: 0.1',\n",
    " 'corridor',\n",
    " 'storage_room',\n",
    " 'wellness',\n",
    " 'Blu-ray_player',\n",
    " 'CDs_DVDs',\n",
    " 'DVD-player',\n",
    " 'armchair',\n",
    " 'awning_',\n",
    " 'bath_towels',\n",
    " 'beach_chair',\n",
    " 'bed_linen',\n",
    " 'bicycles',\n",
    " 'books',\n",
    " 'bread_service',\n",
    " 'bunk_bed',\n",
    " 'central_heating',\n",
    " 'chest_of_drawers',\n",
    " \"child's_bed\",\n",
    " 'children_toilet_seat',\n",
    " 'cleaning_supplies',\n",
    " 'coffee_machine',\n",
    " 'colouring_book_pencils',\n",
    " 'crockery',\n",
    " 'desk',\n",
    " 'dining_table',\n",
    " 'double_wash_basin',\n",
    " 'drying_rack',\n",
    " 'egg_cooker',\n",
    " 'fire_alarm',\n",
    " 'first-aid_kit',\n",
    " 'flat_iron',\n",
    " 'fly_screen',\n",
    " 'food_processor',\n",
    " 'freezer',\n",
    " 'games',\n",
    " 'garden_furniture',\n",
    " 'garden_shed',\n",
    " 'hair_dryer',\n",
    " 'high_chair',\n",
    " 'ironing_board',\n",
    " 'kettle',\n",
    " 'laundry_service',\n",
    " 'lawn',\n",
    " 'make-up_mirror',\n",
    " 'microwave',\n",
    " 'mirror',\n",
    " 'mixer',\n",
    " 'phone',\n",
    " 'pond',\n",
    " 'radio',\n",
    " 'refrigerator',\n",
    " 'safe',\n",
    " 'sandpit',\n",
    " 'sandwich_toaster',\n",
    " 'slide',\n",
    " 'socket_covers',\n",
    " 'sofa',\n",
    " 'spices',\n",
    " 'stair_gate',\n",
    " 'stereo_system',\n",
    " 'sun_loungers',\n",
    " 'sun_umbrella_',\n",
    " 'sunshade',\n",
    " 'swing',\n",
    " 'table_tennis',\n",
    " 'tea_towels',\n",
    " 'toaster',\n",
    " 'toilet',\n",
    " 'towels',\n",
    " 'toys',\n",
    " 'trampoline',\n",
    " 'vacuum_cleaner',\n",
    " 'walk-in_shower',\n",
    " 'wardrobe',\n",
    " 'wash_basin',\n",
    " 'windbreak',\n",
    " 'cooking',\n",
    " 'babybed',\n",
    " 'prop_bin',\n",
    " 'title_Anfrage',\n",
    " 'title_Direktbuchen',\n",
    " 'title_Externe Buchung',\n",
    " 'title_Verbindliche Anfrage',\n",
    " 'option_allergic_0.0',\n",
    " 'option_allergic_1.0',\n",
    " 'option_allergic_2.0',\n",
    " 'option_allergic_3.0',\n",
    " 'option_non_smoking_only_0.0',\n",
    " 'option_non_smoking_only_1.0',\n",
    " 'option_non_smoking_only_3.0',\n",
    " 'option_holiday_with_your_pet_0.0',\n",
    " 'option_holiday_with_your_pet_1.0',\n",
    " 'option_holiday_with_your_pet_2.0',\n",
    " 'option_holiday_with_your_pet_3.0',\n",
    " 'option_close_to_the_beach_0.0',\n",
    " 'option_close_to_the_beach_1.0',\n",
    " 'option_close_to_the_beach_3.0',\n",
    " 'double_bed',\n",
    " 'children`s_room',\n",
    " 'dining_room',\n",
    " 'kitchen',\n",
    " 'kitchen_living',\n",
    " 'single_bed',\n",
    " 'sofa_bed',\n",
    " 'living_/_dining_room',\n",
    " 'living_room', \n",
    " 'washroom',\n",
    " 'additional_bed',\n",
    " 'underfloor_heating',\n",
    " 'living_area', \n",
    " 'hot_water',\n",
    " 'garage']\n",
    " , axis = 1)"
   ],
   "outputs": [],
   "metadata": {}
  },
  {
   "cell_type": "code",
   "execution_count": null,
   "source": [
    "list(df_drop_it.columns.values)"
   ],
   "outputs": [],
   "metadata": {}
  },
  {
   "cell_type": "markdown",
   "source": [
    "## Saving CSV"
   ],
   "metadata": {}
  },
  {
   "cell_type": "code",
   "execution_count": null,
   "source": [
    "df_drop_it.to_csv('../data/Master_dropped_dummies_on_head.csv')"
   ],
   "outputs": [],
   "metadata": {}
  },
  {
   "cell_type": "code",
   "execution_count": null,
   "source": [],
   "outputs": [],
   "metadata": {}
  }
 ],
 "metadata": {
  "orig_nbformat": 4,
  "language_info": {
   "name": "python",
   "version": "3.8.5",
   "mimetype": "text/x-python",
   "codemirror_mode": {
    "name": "ipython",
    "version": 3
   },
   "pygments_lexer": "ipython3",
   "nbconvert_exporter": "python",
   "file_extension": ".py"
  },
  "kernelspec": {
   "name": "python3",
   "display_name": "Python 3.8.5 64-bit ('.venv': venv)"
  },
  "interpreter": {
   "hash": "3fd22edfe25832d446c332425401e3196937690f846d01f80d16cc13753e72c7"
  }
 },
 "nbformat": 4,
 "nbformat_minor": 2
}