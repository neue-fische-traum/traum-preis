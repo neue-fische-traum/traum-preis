{
 "cells": [
  {
   "cell_type": "code",
   "execution_count": null,
   "source": [
    "# Import necassary libraries\n",
    "import pandas as pd\n",
    "import geopandas as gpd\n",
    "import numpy as np\n",
    "import os\n",
    "import seaborn as sns\n",
    "import matplotlib.pyplot as plt"
   ],
   "outputs": [],
   "metadata": {}
  },
  {
   "cell_type": "code",
   "execution_count": null,
   "source": [
    "# Load datasets\n",
    "zip_shape_df = gpd.read_file('../data/plz-3stellig.shp', dtype={'plz': str})\n",
    "df_listings = pd.read_csv('../data/master_listings_20210723.csv')\n",
    "df_inquiries = pd.read_csv('../data/master_inquiries_20210715.csv')\n",
    "df_price = pd.read_csv('../data/prices_20210719.csv')"
   ],
   "outputs": [],
   "metadata": {}
  },
  {
   "cell_type": "markdown",
   "source": [
    "## First map - Germany with properties first-digit postal code area"
   ],
   "metadata": {}
  },
  {
   "cell_type": "code",
   "execution_count": null,
   "source": [
    "zip_shape_df.head()"
   ],
   "outputs": [],
   "metadata": {}
  },
  {
   "cell_type": "code",
   "execution_count": null,
   "source": [
    "zip_shape_df.to_file('../data/zip.geojson', driver='GeoJSON')"
   ],
   "outputs": [],
   "metadata": {}
  },
  {
   "cell_type": "code",
   "execution_count": null,
   "source": [
    "# Create feature.\n",
    "zip_shape_df = zip_shape_df \\\n",
    "    .assign(first_dig_plz = lambda x: x['plz'].str.slice(start=0, stop=1))"
   ],
   "outputs": [],
   "metadata": {}
  },
  {
   "cell_type": "code",
   "execution_count": null,
   "source": [
    "fig, ax = plt.subplots(figsize=(5, 6.5))\n",
    "\n",
    "zip_shape_df.plot(\n",
    "    ax=ax, \n",
    "    column='first_dig_plz', \n",
    "    categorical=True, \n",
    "    legend=True, \n",
    "    legend_kwds={'title':'First Digit', 'loc':'lower right', 'bbox_to_anchor':(1.3, 0.0)},\n",
    "    cmap='tab20',\n",
    "    alpha=0.9\n",
    ")\n",
    "\n",
    "lat, lon = df_listings['lat'], df_listings['lng']\n",
    "\n",
    "# Scatter the points\n",
    "plt.scatter(lon, lat, c='black')\n",
    "\n",
    "right_side = ax.spines[\"right\"]\n",
    "right_side.set_visible(False)\n",
    "\n",
    "top_side = ax.spines[\"top\"]\n",
    "top_side.set_visible(False)\n",
    "\n",
    "ax.set(\n",
    "    title='Location Properties in First-Digit-Postal Codes Areas', \n",
    "    aspect=1.3,\n",
    "    facecolor='white'\n",
    ");"
   ],
   "outputs": [],
   "metadata": {}
  },
  {
   "cell_type": "markdown",
   "source": [
    "## Preparation for second map"
   ],
   "metadata": {}
  },
  {
   "cell_type": "code",
   "execution_count": null,
   "source": [
    "df_listings.head()"
   ],
   "outputs": [],
   "metadata": {}
  },
  {
   "cell_type": "code",
   "execution_count": null,
   "source": [
    "listings = df_listings[['listing_id', 'zip']]"
   ],
   "outputs": [],
   "metadata": {}
  },
  {
   "cell_type": "code",
   "execution_count": null,
   "source": [
    "inquiry_per_zip = pd.merge(df_inquiries, listings, on='listing_id', how='left')"
   ],
   "outputs": [],
   "metadata": {}
  },
  {
   "cell_type": "code",
   "execution_count": null,
   "source": [
    "inquiry_per_zip = inquiry_per_zip.groupby('zip').agg(['count'])['listing_id'].reset_index()"
   ],
   "outputs": [],
   "metadata": {}
  },
  {
   "cell_type": "code",
   "execution_count": null,
   "source": [
    "inquiry_per_zip['zip'] = inquiry_per_zip.zip.astype(int)"
   ],
   "outputs": [],
   "metadata": {}
  },
  {
   "cell_type": "code",
   "execution_count": null,
   "source": [
    "inquiry_per_zip.rename(columns={'count':'inquiry_count'}, inplace=True)"
   ],
   "outputs": [],
   "metadata": {}
  },
  {
   "cell_type": "code",
   "execution_count": null,
   "source": [
    "df_listings = pd.merge(df_listings, inquiry_per_zip, on='zip', how='left')"
   ],
   "outputs": [],
   "metadata": {}
  },
  {
   "cell_type": "markdown",
   "source": [
    "## Second map - interactive map with Folium"
   ],
   "metadata": {}
  },
  {
   "cell_type": "code",
   "execution_count": null,
   "source": [
    "# Import necassary libraries\n",
    "import folium\n",
    "from folium.plugins import MarkerCluster"
   ],
   "outputs": [],
   "metadata": {}
  },
  {
   "cell_type": "code",
   "execution_count": null,
   "source": [
    "# Create interactive map with folium\n",
    "map = folium.Map(location=[51.1657, 10.4515])\n",
    "\n",
    "# add a marker for every record in the filtered data, use a clustered view\n",
    "marker_cluster = MarkerCluster().add_to(map) # create marker clusters\n",
    "\n",
    "for i in range(df_listings.shape[0]):\n",
    "    location = [df_listings['lat'][i],df_listings['lng'][i]]\n",
    "    tooltip = \"Zipcode:{}<br>\".format(df_listings[\"zip\"][i])\n",
    "\n",
    "    folium.Marker(location, \n",
    "                  tooltip=tooltip).add_to(marker_cluster)\n",
    "\n",
    "map    "
   ],
   "outputs": [],
   "metadata": {}
  },
  {
   "cell_type": "code",
   "execution_count": null,
   "source": [
    "# Save map as HTML\n",
    "map.save('properties_in_germany.html')"
   ],
   "outputs": [],
   "metadata": {}
  },
  {
   "cell_type": "markdown",
   "source": [
    "## Second interactive map with color"
   ],
   "metadata": {}
  }
 ],
 "metadata": {
  "orig_nbformat": 4,
  "language_info": {
   "name": "python",
   "version": "3.8.5",
   "mimetype": "text/x-python",
   "codemirror_mode": {
    "name": "ipython",
    "version": 3
   },
   "pygments_lexer": "ipython3",
   "nbconvert_exporter": "python",
   "file_extension": ".py"
  },
  "kernelspec": {
   "name": "python3",
   "display_name": "Python 3.8.5 64-bit ('.venv')"
  },
  "interpreter": {
   "hash": "7033859b39016b1cbb0cfa821a6f288e7fd907fe4b33f32f92dbeb273ada45c0"
  }
 },
 "nbformat": 4,
 "nbformat_minor": 2
}