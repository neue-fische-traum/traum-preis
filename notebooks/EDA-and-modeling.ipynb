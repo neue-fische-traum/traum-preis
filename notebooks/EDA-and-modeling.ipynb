{
 "cells": [
  {
   "cell_type": "code",
   "execution_count": 16,
   "source": [
    "import sys\n",
    "# adding to the path variables the one folder higher (locally, not changing system variables)\n",
    "sys.path.append(\"..\")\n",
    "import pandas as pd\n",
    "from pandas_profiling import ProfileReport\n",
    "import numpy as np\n",
    "import warnings\n",
    "import mlflow\n",
    "from modeling.config import EXPERIMENT_NAME\n",
    "TRACKING_URI = open(\"../.mlflow_uri\").read().strip()\n",
    "\n",
    "ROOT = os.environ.get('PWD')\n",
    "\n",
    "warnings.filterwarnings('ignore')\n",
    "\n",
    "\n",
    "\n",
    "\n",
    "\n"
   ],
   "outputs": [],
   "metadata": {
    "slideshow": {
     "slide_type": "skip"
    }
   }
  },
  {
   "cell_type": "code",
   "execution_count": null,
   "source": [
    "# our data, read into dataframe df_master_tfw\n",
    "df_master_tfw = pd.read_csv('../data/master_no_missing_20210719.csv')"
   ],
   "outputs": [],
   "metadata": {}
  },
  {
   "cell_type": "code",
   "execution_count": null,
   "source": [
    "list(df_master_tfw.columns.values)"
   ],
   "outputs": [],
   "metadata": {
    "slideshow": {
     "slide_type": "skip"
    }
   }
  },
  {
   "cell_type": "code",
   "execution_count": null,
   "source": [],
   "outputs": [],
   "metadata": {}
  },
  {
   "cell_type": "markdown",
   "source": [
    "# Data cleaning and feature engineering"
   ],
   "metadata": {}
  },
  {
   "cell_type": "code",
   "execution_count": null,
   "source": [
    "del df_master_tfw['Unnamed: 0']"
   ],
   "outputs": [],
   "metadata": {}
  },
  {
   "cell_type": "code",
   "execution_count": null,
   "source": [
    "list(df_master_tfw.columns.values)"
   ],
   "outputs": [],
   "metadata": {}
  },
  {
   "cell_type": "code",
   "execution_count": 15,
   "source": [
    "# set display default so that we can see all the columns we have in play\n",
    "\n",
    "pd.set_option('display.max_rows', 10)"
   ],
   "outputs": [],
   "metadata": {
    "slideshow": {
     "slide_type": "skip"
    }
   }
  },
  {
   "cell_type": "code",
   "execution_count": null,
   "source": [
    "# convert to datetime, this list can be varied depending on what stays in for a particular model\n",
    "\n",
    "dates = ['arrival_date', 'departure_date', 'date']\n",
    "\n",
    "for i in dates:\n",
    "    df_master_tfw[i] = pd.to_datetime(df_master_tfw[i])"
   ],
   "outputs": [],
   "metadata": {}
  },
  {
   "cell_type": "code",
   "execution_count": null,
   "source": [
    "# for our first model, let#s drop most of the columns we tried to keep\n",
    "\n",
    "drop_list = ['binding_inquiry',\n",
    "'phone_clicks',\n",
    "'library',\n",
    "\"children`s_room\",\n",
    "'corridor',\n",
    "'gallery',\n",
    "'heating_room',\n",
    "'lounge',\n",
    "'storage_room',\n",
    "'washroom',\n",
    "'wellness',\n",
    "'winter_garden',\n",
    "'Blu-ray_player',\n",
    "'CDs_DVDs',                               \n",
    "'DVD-player',                             \n",
    "'VCR',\n",
    "'alarm_system',                            \n",
    "'armchair',                             \n",
    "'awning_',                                \n",
    "'baby_monitor',                           \n",
    "'bath_towels',                            \n",
    "'bathrobe',\n",
    "'beach_chair',\n",
    "'bidet',                                    \n",
    "'boat',                                    \n",
    "'boat_dock',                                \n",
    "'books',                                   \n",
    "'bottle_warmer',                           \n",
    "'bread_service',                            \n",
    "'bunk_bed',                               \n",
    "'carport',                                  \n",
    "'central_heating',                       \n",
    "'changing_mat',                            \n",
    "'chest_of_drawers',\n",
    "\"child's_bed\",                              \n",
    "'children_toilet_seat',                    \n",
    "'cleaning_supplies',\n",
    "'colouring_book_pencils',\n",
    "'crockery',                                \n",
    "'darts',                                   \n",
    "'desk',                                    \n",
    "'dining_table',\n",
    "'double_wash_basin',                        \n",
    "'drying_rack',                             \n",
    "'egg_cooker',\n",
    "'exercise_room',\n",
    "'fax',                                     \n",
    "'fire_alarm',\n",
    "'first-aid_kit',                            \n",
    "'flat_iron',                               \n",
    "'fly_screen',                              \n",
    "'folding_bed',\n",
    "'food_processor',\n",
    "'game_console',\n",
    "'garden_shed',                             \n",
    "'guest_toilet', \n",
    "'high_chair',\n",
    "'hot_water',\n",
    "'ironing_board',                           \n",
    "'kettle',\n",
    "'laundry_service',                         \n",
    "'lawn',                                    \n",
    "'loft_bed',                                \n",
    "'make-up_mirror',\n",
    "'mirror',                                  \n",
    "'mixer',                                   \n",
    "'outdoor_shower',                          \n",
    "'phone',                                   \n",
    "'piano',                                   \n",
    "'pier',                                    \n",
    "'playground',                              \n",
    "'pond',\n",
    "'relaxation_room',                         \n",
    "'room_service',                            \n",
    "'safe',                                     \n",
    "'sandpit',                                 \n",
    "'sandwich_toaster',\n",
    "'shoe_cabinet', \n",
    "'ski_boot_heaters',                        \n",
    "'slide',                                   \n",
    "'socket_covers',                           \n",
    "'sofa',\n",
    "'spices',                                  \n",
    "'stair_gate',\n",
    "'stereo_system',                          \n",
    "'sun_loungers',                            \n",
    "'sun_umbrella_',                           \n",
    "'sunshade',\n",
    "'shared_swimming_pool',\n",
    "'swimming_pool',                           \n",
    "'swing',                                   \n",
    "'table_football',\n",
    "'table_tennis',\n",
    "'tea_towels',                              \n",
    "'toaster',                                 \n",
    "'toilet',                                  \n",
    "'towels',                                  \n",
    "'toys',\n",
    "'trampoline',                              \n",
    "'underfloor_heating',                      \n",
    "'vacuum_cleaner',                          \n",
    "'walk-in_shower',                           \n",
    "'wall_bed',\n",
    "'wardrobe',                                 \n",
    "'wash_basin',                              \n",
    "'water_bed',                               \n",
    "'windbreak',\n",
    "'title',\n",
    "'contract_end',\n",
    "'region',\n",
    "'holiday_region',\n",
    "'zip']\n"
   ],
   "outputs": [],
   "metadata": {}
  },
  {
   "cell_type": "code",
   "execution_count": null,
   "source": [
    "tiny_master = df_master_tfw.drop(drop_list,axis=1)"
   ],
   "outputs": [],
   "metadata": {}
  },
  {
   "cell_type": "code",
   "execution_count": null,
   "source": [
    "# saving to csv\n",
    "\n",
    "tiny_master.to_csv('../data/tiny_master.csv')"
   ],
   "outputs": [],
   "metadata": {}
  },
  {
   "cell_type": "code",
   "execution_count": 17,
   "source": [
    "# read from csv\n",
    "\n",
    "tiny_master = pd.read_csv('../data/tiny_master.csv')"
   ],
   "outputs": [],
   "metadata": {}
  },
  {
   "cell_type": "code",
   "execution_count": 18,
   "source": [
    "# convert to datetime, this list can be varied depending on what stays in for a particular model\n",
    "\n",
    "dates = ['arrival_date', 'departure_date', 'date']\n",
    "\n",
    "for i in dates:\n",
    "    tiny_master[i] = pd.to_datetime(tiny_master[i])"
   ],
   "outputs": [],
   "metadata": {}
  },
  {
   "cell_type": "code",
   "execution_count": null,
   "source": [
    "tiny_master['month_year'] = tiny_master['arrival_date'].dt.to_period('M')"
   ],
   "outputs": [],
   "metadata": {}
  },
  {
   "cell_type": "code",
   "execution_count": 19,
   "source": [
    "tiny_master['year'] = pd.DatetimeIndex(tiny_master['arrival_date']).year\n",
    "tiny_master['month'] = pd.DatetimeIndex(tiny_master['arrival_date']).month"
   ],
   "outputs": [],
   "metadata": {}
  },
  {
   "cell_type": "code",
   "execution_count": 20,
   "source": [
    "# extract the data for arrival date in 2019 and 2020 only\n",
    "\n",
    "tiny_master_19 = tiny_master.query(\"year == 2019\")"
   ],
   "outputs": [],
   "metadata": {}
  },
  {
   "cell_type": "code",
   "execution_count": 21,
   "source": [
    "import math \n",
    "\n",
    "# We normalize x values to match with the 0-2π cycle\n",
    "tiny_master_19[\"month_norm\"] = 2 * math.pi * tiny_master_19[\"month\"] / tiny_master_19[\"month\"].max()\n",
    "\n",
    "tiny_master_19[\"cos_month\"] = np.cos(tiny_master_19[\"month_norm\"])\n",
    "tiny_master_19[\"sin_month\"] = np.sin(tiny_master_19[\"month_norm\"])"
   ],
   "outputs": [],
   "metadata": {}
  },
  {
   "cell_type": "code",
   "execution_count": 23,
   "source": [
    "# we calculate price per day from the inquiry price and length of day\n",
    "\n",
    "tiny_master_19['price_per_day'] = (tiny_master_19['inquiry_price']/tiny_master_19['length_stay'])"
   ],
   "outputs": [],
   "metadata": {}
  },
  {
   "cell_type": "code",
   "execution_count": 32,
   "source": [
    "tiny_master_19.head()"
   ],
   "outputs": [
    {
     "output_type": "execute_result",
     "data": {
      "text/plain": [
       "   Unnamed: 0                            listing_id  result_views  \\\n",
       "0           0  97232bc1-cee6-54cc-9965-be13177051d3         56214   \n",
       "1           1  97232bc1-cee6-54cc-9965-be13177051d3         56214   \n",
       "2           2  97232bc1-cee6-54cc-9965-be13177051d3         56214   \n",
       "3           3  97232bc1-cee6-54cc-9965-be13177051d3         56214   \n",
       "4           4  97232bc1-cee6-54cc-9965-be13177051d3         56214   \n",
       "\n",
       "   expose_views  1_room_apartment  dining_room  en_suite_bathroom  kitchen  \\\n",
       "0         12533               0.0          0.0                0.0      1.0   \n",
       "1         12533               0.0          0.0                0.0      1.0   \n",
       "2         12533               0.0          0.0                0.0      1.0   \n",
       "3         12533               0.0          0.0                0.0      1.0   \n",
       "4         12533               0.0          0.0                0.0      1.0   \n",
       "\n",
       "   kitchen_living  living_bedroom  ...  bathrooms  bedrooms  max_guests  \\\n",
       "0             0.0             1.0  ...        1.0       2.0         4.0   \n",
       "1             0.0             1.0  ...        1.0       2.0         4.0   \n",
       "2             0.0             1.0  ...        1.0       2.0         4.0   \n",
       "3             0.0             1.0  ...        1.0       2.0         4.0   \n",
       "4             0.0             1.0  ...        1.0       2.0         4.0   \n",
       "\n",
       "   living_area  year  month  month_norm  cos_month     sin_month  \\\n",
       "0         60.0  2019      1    0.523599   0.866025  5.000000e-01   \n",
       "1         60.0  2019      2    1.047198   0.500000  8.660254e-01   \n",
       "2         60.0  2019     12    6.283185   1.000000 -2.449294e-16   \n",
       "3         60.0  2019     12    6.283185   1.000000 -2.449294e-16   \n",
       "4         60.0  2019      1    0.523599   0.866025  5.000000e-01   \n",
       "\n",
       "   price_per_day  \n",
       "0           59.0  \n",
       "1           79.0  \n",
       "2          139.0  \n",
       "3          139.0  \n",
       "4           59.0  \n",
       "\n",
       "[5 rows x 89 columns]"
      ],
      "text/html": [
       "<div>\n",
       "<style scoped>\n",
       "    .dataframe tbody tr th:only-of-type {\n",
       "        vertical-align: middle;\n",
       "    }\n",
       "\n",
       "    .dataframe tbody tr th {\n",
       "        vertical-align: top;\n",
       "    }\n",
       "\n",
       "    .dataframe thead th {\n",
       "        text-align: right;\n",
       "    }\n",
       "</style>\n",
       "<table border=\"1\" class=\"dataframe\">\n",
       "  <thead>\n",
       "    <tr style=\"text-align: right;\">\n",
       "      <th></th>\n",
       "      <th>Unnamed: 0</th>\n",
       "      <th>listing_id</th>\n",
       "      <th>result_views</th>\n",
       "      <th>expose_views</th>\n",
       "      <th>1_room_apartment</th>\n",
       "      <th>dining_room</th>\n",
       "      <th>en_suite_bathroom</th>\n",
       "      <th>kitchen</th>\n",
       "      <th>kitchen_living</th>\n",
       "      <th>living_bedroom</th>\n",
       "      <th>...</th>\n",
       "      <th>bathrooms</th>\n",
       "      <th>bedrooms</th>\n",
       "      <th>max_guests</th>\n",
       "      <th>living_area</th>\n",
       "      <th>year</th>\n",
       "      <th>month</th>\n",
       "      <th>month_norm</th>\n",
       "      <th>cos_month</th>\n",
       "      <th>sin_month</th>\n",
       "      <th>price_per_day</th>\n",
       "    </tr>\n",
       "  </thead>\n",
       "  <tbody>\n",
       "    <tr>\n",
       "      <th>0</th>\n",
       "      <td>0</td>\n",
       "      <td>97232bc1-cee6-54cc-9965-be13177051d3</td>\n",
       "      <td>56214</td>\n",
       "      <td>12533</td>\n",
       "      <td>0.0</td>\n",
       "      <td>0.0</td>\n",
       "      <td>0.0</td>\n",
       "      <td>1.0</td>\n",
       "      <td>0.0</td>\n",
       "      <td>1.0</td>\n",
       "      <td>...</td>\n",
       "      <td>1.0</td>\n",
       "      <td>2.0</td>\n",
       "      <td>4.0</td>\n",
       "      <td>60.0</td>\n",
       "      <td>2019</td>\n",
       "      <td>1</td>\n",
       "      <td>0.523599</td>\n",
       "      <td>0.866025</td>\n",
       "      <td>5.000000e-01</td>\n",
       "      <td>59.0</td>\n",
       "    </tr>\n",
       "    <tr>\n",
       "      <th>1</th>\n",
       "      <td>1</td>\n",
       "      <td>97232bc1-cee6-54cc-9965-be13177051d3</td>\n",
       "      <td>56214</td>\n",
       "      <td>12533</td>\n",
       "      <td>0.0</td>\n",
       "      <td>0.0</td>\n",
       "      <td>0.0</td>\n",
       "      <td>1.0</td>\n",
       "      <td>0.0</td>\n",
       "      <td>1.0</td>\n",
       "      <td>...</td>\n",
       "      <td>1.0</td>\n",
       "      <td>2.0</td>\n",
       "      <td>4.0</td>\n",
       "      <td>60.0</td>\n",
       "      <td>2019</td>\n",
       "      <td>2</td>\n",
       "      <td>1.047198</td>\n",
       "      <td>0.500000</td>\n",
       "      <td>8.660254e-01</td>\n",
       "      <td>79.0</td>\n",
       "    </tr>\n",
       "    <tr>\n",
       "      <th>2</th>\n",
       "      <td>2</td>\n",
       "      <td>97232bc1-cee6-54cc-9965-be13177051d3</td>\n",
       "      <td>56214</td>\n",
       "      <td>12533</td>\n",
       "      <td>0.0</td>\n",
       "      <td>0.0</td>\n",
       "      <td>0.0</td>\n",
       "      <td>1.0</td>\n",
       "      <td>0.0</td>\n",
       "      <td>1.0</td>\n",
       "      <td>...</td>\n",
       "      <td>1.0</td>\n",
       "      <td>2.0</td>\n",
       "      <td>4.0</td>\n",
       "      <td>60.0</td>\n",
       "      <td>2019</td>\n",
       "      <td>12</td>\n",
       "      <td>6.283185</td>\n",
       "      <td>1.000000</td>\n",
       "      <td>-2.449294e-16</td>\n",
       "      <td>139.0</td>\n",
       "    </tr>\n",
       "    <tr>\n",
       "      <th>3</th>\n",
       "      <td>3</td>\n",
       "      <td>97232bc1-cee6-54cc-9965-be13177051d3</td>\n",
       "      <td>56214</td>\n",
       "      <td>12533</td>\n",
       "      <td>0.0</td>\n",
       "      <td>0.0</td>\n",
       "      <td>0.0</td>\n",
       "      <td>1.0</td>\n",
       "      <td>0.0</td>\n",
       "      <td>1.0</td>\n",
       "      <td>...</td>\n",
       "      <td>1.0</td>\n",
       "      <td>2.0</td>\n",
       "      <td>4.0</td>\n",
       "      <td>60.0</td>\n",
       "      <td>2019</td>\n",
       "      <td>12</td>\n",
       "      <td>6.283185</td>\n",
       "      <td>1.000000</td>\n",
       "      <td>-2.449294e-16</td>\n",
       "      <td>139.0</td>\n",
       "    </tr>\n",
       "    <tr>\n",
       "      <th>4</th>\n",
       "      <td>4</td>\n",
       "      <td>97232bc1-cee6-54cc-9965-be13177051d3</td>\n",
       "      <td>56214</td>\n",
       "      <td>12533</td>\n",
       "      <td>0.0</td>\n",
       "      <td>0.0</td>\n",
       "      <td>0.0</td>\n",
       "      <td>1.0</td>\n",
       "      <td>0.0</td>\n",
       "      <td>1.0</td>\n",
       "      <td>...</td>\n",
       "      <td>1.0</td>\n",
       "      <td>2.0</td>\n",
       "      <td>4.0</td>\n",
       "      <td>60.0</td>\n",
       "      <td>2019</td>\n",
       "      <td>1</td>\n",
       "      <td>0.523599</td>\n",
       "      <td>0.866025</td>\n",
       "      <td>5.000000e-01</td>\n",
       "      <td>59.0</td>\n",
       "    </tr>\n",
       "  </tbody>\n",
       "</table>\n",
       "<p>5 rows × 89 columns</p>\n",
       "</div>"
      ]
     },
     "metadata": {},
     "execution_count": 32
    }
   ],
   "metadata": {}
  },
  {
   "cell_type": "code",
   "execution_count": 25,
   "source": [
    "# create dataframe from the aggregate data\n",
    "\n",
    "tiny_master_agg_price = tiny_master_19.groupby(['listing_id','month']).agg(['mean','max','min'])['price_per_day'].reset_index()"
   ],
   "outputs": [],
   "metadata": {}
  },
  {
   "cell_type": "code",
   "execution_count": 26,
   "source": [
    "# check\n",
    "\n",
    "tiny_master_agg_price.head()"
   ],
   "outputs": [
    {
     "output_type": "execute_result",
     "data": {
      "text/plain": [
       "                             listing_id  month        mean    max         min\n",
       "0  00005de7-6ed8-541b-be83-2573a46cd307     12  125.000000  125.0  125.000000\n",
       "1  0003f153-450a-5837-8a46-bd5db5b536b1      1   45.000000   45.0   45.000000\n",
       "2  0003f153-450a-5837-8a46-bd5db5b536b1      2   52.833333   57.5   44.666667\n",
       "3  0003f153-450a-5837-8a46-bd5db5b536b1      3   68.611111   85.0   46.666667\n",
       "4  0003f153-450a-5837-8a46-bd5db5b536b1      4   60.612745   67.5   47.750000"
      ],
      "text/html": [
       "<div>\n",
       "<style scoped>\n",
       "    .dataframe tbody tr th:only-of-type {\n",
       "        vertical-align: middle;\n",
       "    }\n",
       "\n",
       "    .dataframe tbody tr th {\n",
       "        vertical-align: top;\n",
       "    }\n",
       "\n",
       "    .dataframe thead th {\n",
       "        text-align: right;\n",
       "    }\n",
       "</style>\n",
       "<table border=\"1\" class=\"dataframe\">\n",
       "  <thead>\n",
       "    <tr style=\"text-align: right;\">\n",
       "      <th></th>\n",
       "      <th>listing_id</th>\n",
       "      <th>month</th>\n",
       "      <th>mean</th>\n",
       "      <th>max</th>\n",
       "      <th>min</th>\n",
       "    </tr>\n",
       "  </thead>\n",
       "  <tbody>\n",
       "    <tr>\n",
       "      <th>0</th>\n",
       "      <td>00005de7-6ed8-541b-be83-2573a46cd307</td>\n",
       "      <td>12</td>\n",
       "      <td>125.000000</td>\n",
       "      <td>125.0</td>\n",
       "      <td>125.000000</td>\n",
       "    </tr>\n",
       "    <tr>\n",
       "      <th>1</th>\n",
       "      <td>0003f153-450a-5837-8a46-bd5db5b536b1</td>\n",
       "      <td>1</td>\n",
       "      <td>45.000000</td>\n",
       "      <td>45.0</td>\n",
       "      <td>45.000000</td>\n",
       "    </tr>\n",
       "    <tr>\n",
       "      <th>2</th>\n",
       "      <td>0003f153-450a-5837-8a46-bd5db5b536b1</td>\n",
       "      <td>2</td>\n",
       "      <td>52.833333</td>\n",
       "      <td>57.5</td>\n",
       "      <td>44.666667</td>\n",
       "    </tr>\n",
       "    <tr>\n",
       "      <th>3</th>\n",
       "      <td>0003f153-450a-5837-8a46-bd5db5b536b1</td>\n",
       "      <td>3</td>\n",
       "      <td>68.611111</td>\n",
       "      <td>85.0</td>\n",
       "      <td>46.666667</td>\n",
       "    </tr>\n",
       "    <tr>\n",
       "      <th>4</th>\n",
       "      <td>0003f153-450a-5837-8a46-bd5db5b536b1</td>\n",
       "      <td>4</td>\n",
       "      <td>60.612745</td>\n",
       "      <td>67.5</td>\n",
       "      <td>47.750000</td>\n",
       "    </tr>\n",
       "  </tbody>\n",
       "</table>\n",
       "</div>"
      ]
     },
     "metadata": {},
     "execution_count": 26
    }
   ],
   "metadata": {}
  },
  {
   "cell_type": "code",
   "execution_count": 33,
   "source": [
    "medium_master = pd.merge(tiny_master_agg_price, tiny_master_19, left_on=['listing_id','month'], right_on=['listing_id','month'], how='right')"
   ],
   "outputs": [],
   "metadata": {}
  },
  {
   "cell_type": "code",
   "execution_count": 35,
   "source": [
    "medium_master.head(3)"
   ],
   "outputs": [
    {
     "output_type": "execute_result",
     "data": {
      "text/plain": [
       "                             listing_id  month        mean    max   min  \\\n",
       "0  97232bc1-cee6-54cc-9965-be13177051d3      1   58.500000   59.0  57.0   \n",
       "1  97232bc1-cee6-54cc-9965-be13177051d3      2   76.714286   81.0  74.0   \n",
       "2  97232bc1-cee6-54cc-9965-be13177051d3     12  114.153846  139.0  55.0   \n",
       "\n",
       "   Unnamed: 0  result_views  expose_views  1_room_apartment  dining_room  ...  \\\n",
       "0           0         56214         12533               0.0          0.0  ...   \n",
       "1           1         56214         12533               0.0          0.0  ...   \n",
       "2           2         56214         12533               0.0          0.0  ...   \n",
       "\n",
       "   balcony  bathrooms  bedrooms  max_guests  living_area  year  month_norm  \\\n",
       "0        1        1.0       2.0         4.0         60.0  2019    0.523599   \n",
       "1        1        1.0       2.0         4.0         60.0  2019    1.047198   \n",
       "2        1        1.0       2.0         4.0         60.0  2019    6.283185   \n",
       "\n",
       "   cos_month     sin_month  price_per_day  \n",
       "0   0.866025  5.000000e-01           59.0  \n",
       "1   0.500000  8.660254e-01           79.0  \n",
       "2   1.000000 -2.449294e-16          139.0  \n",
       "\n",
       "[3 rows x 92 columns]"
      ],
      "text/html": [
       "<div>\n",
       "<style scoped>\n",
       "    .dataframe tbody tr th:only-of-type {\n",
       "        vertical-align: middle;\n",
       "    }\n",
       "\n",
       "    .dataframe tbody tr th {\n",
       "        vertical-align: top;\n",
       "    }\n",
       "\n",
       "    .dataframe thead th {\n",
       "        text-align: right;\n",
       "    }\n",
       "</style>\n",
       "<table border=\"1\" class=\"dataframe\">\n",
       "  <thead>\n",
       "    <tr style=\"text-align: right;\">\n",
       "      <th></th>\n",
       "      <th>listing_id</th>\n",
       "      <th>month</th>\n",
       "      <th>mean</th>\n",
       "      <th>max</th>\n",
       "      <th>min</th>\n",
       "      <th>Unnamed: 0</th>\n",
       "      <th>result_views</th>\n",
       "      <th>expose_views</th>\n",
       "      <th>1_room_apartment</th>\n",
       "      <th>dining_room</th>\n",
       "      <th>...</th>\n",
       "      <th>balcony</th>\n",
       "      <th>bathrooms</th>\n",
       "      <th>bedrooms</th>\n",
       "      <th>max_guests</th>\n",
       "      <th>living_area</th>\n",
       "      <th>year</th>\n",
       "      <th>month_norm</th>\n",
       "      <th>cos_month</th>\n",
       "      <th>sin_month</th>\n",
       "      <th>price_per_day</th>\n",
       "    </tr>\n",
       "  </thead>\n",
       "  <tbody>\n",
       "    <tr>\n",
       "      <th>0</th>\n",
       "      <td>97232bc1-cee6-54cc-9965-be13177051d3</td>\n",
       "      <td>1</td>\n",
       "      <td>58.500000</td>\n",
       "      <td>59.0</td>\n",
       "      <td>57.0</td>\n",
       "      <td>0</td>\n",
       "      <td>56214</td>\n",
       "      <td>12533</td>\n",
       "      <td>0.0</td>\n",
       "      <td>0.0</td>\n",
       "      <td>...</td>\n",
       "      <td>1</td>\n",
       "      <td>1.0</td>\n",
       "      <td>2.0</td>\n",
       "      <td>4.0</td>\n",
       "      <td>60.0</td>\n",
       "      <td>2019</td>\n",
       "      <td>0.523599</td>\n",
       "      <td>0.866025</td>\n",
       "      <td>5.000000e-01</td>\n",
       "      <td>59.0</td>\n",
       "    </tr>\n",
       "    <tr>\n",
       "      <th>1</th>\n",
       "      <td>97232bc1-cee6-54cc-9965-be13177051d3</td>\n",
       "      <td>2</td>\n",
       "      <td>76.714286</td>\n",
       "      <td>81.0</td>\n",
       "      <td>74.0</td>\n",
       "      <td>1</td>\n",
       "      <td>56214</td>\n",
       "      <td>12533</td>\n",
       "      <td>0.0</td>\n",
       "      <td>0.0</td>\n",
       "      <td>...</td>\n",
       "      <td>1</td>\n",
       "      <td>1.0</td>\n",
       "      <td>2.0</td>\n",
       "      <td>4.0</td>\n",
       "      <td>60.0</td>\n",
       "      <td>2019</td>\n",
       "      <td>1.047198</td>\n",
       "      <td>0.500000</td>\n",
       "      <td>8.660254e-01</td>\n",
       "      <td>79.0</td>\n",
       "    </tr>\n",
       "    <tr>\n",
       "      <th>2</th>\n",
       "      <td>97232bc1-cee6-54cc-9965-be13177051d3</td>\n",
       "      <td>12</td>\n",
       "      <td>114.153846</td>\n",
       "      <td>139.0</td>\n",
       "      <td>55.0</td>\n",
       "      <td>2</td>\n",
       "      <td>56214</td>\n",
       "      <td>12533</td>\n",
       "      <td>0.0</td>\n",
       "      <td>0.0</td>\n",
       "      <td>...</td>\n",
       "      <td>1</td>\n",
       "      <td>1.0</td>\n",
       "      <td>2.0</td>\n",
       "      <td>4.0</td>\n",
       "      <td>60.0</td>\n",
       "      <td>2019</td>\n",
       "      <td>6.283185</td>\n",
       "      <td>1.000000</td>\n",
       "      <td>-2.449294e-16</td>\n",
       "      <td>139.0</td>\n",
       "    </tr>\n",
       "  </tbody>\n",
       "</table>\n",
       "<p>3 rows × 92 columns</p>\n",
       "</div>"
      ]
     },
     "metadata": {},
     "execution_count": 35
    }
   ],
   "metadata": {}
  },
  {
   "cell_type": "code",
   "execution_count": 42,
   "source": [
    "# fold in monthly inquiry counts\n",
    "\n",
    "ju_hu = medium_master.groupby(['listing_id','month']).agg(['count'])['price_per_day'].reset_index()"
   ],
   "outputs": [],
   "metadata": {}
  },
  {
   "cell_type": "code",
   "execution_count": 43,
   "source": [
    "# merging the new master dataset\n",
    "\n",
    "master = pd.merge(ju_hu, medium_master, left_on=['listing_id','month'], right_on=['listing_id','month'], how='right')"
   ],
   "outputs": [],
   "metadata": {}
  },
  {
   "cell_type": "code",
   "execution_count": 50,
   "source": [
    "master.drop(['month','Unnamed: 0','month_norm'],axis=1,inplace=True)"
   ],
   "outputs": [],
   "metadata": {}
  },
  {
   "cell_type": "code",
   "execution_count": 48,
   "source": [
    "master.rename(columns={'count':'inquiry_count','mean':'mean_price_per_day','max':'max_price_per_day','min':'min_price_per_day'},inplace=True)"
   ],
   "outputs": [],
   "metadata": {}
  },
  {
   "cell_type": "code",
   "execution_count": 53,
   "source": [
    "master.head()"
   ],
   "outputs": [
    {
     "output_type": "execute_result",
     "data": {
      "text/plain": [
       "                             listing_id  inquiry_count  mean_price_per_day  \\\n",
       "0  97232bc1-cee6-54cc-9965-be13177051d3              4           58.500000   \n",
       "1  97232bc1-cee6-54cc-9965-be13177051d3              7           76.714286   \n",
       "2  97232bc1-cee6-54cc-9965-be13177051d3             13          114.153846   \n",
       "3  97232bc1-cee6-54cc-9965-be13177051d3             13          114.153846   \n",
       "4  97232bc1-cee6-54cc-9965-be13177051d3              4           58.500000   \n",
       "\n",
       "   max_price_per_day  min_price_per_day  result_views  expose_views  \\\n",
       "0               59.0               57.0         56214         12533   \n",
       "1               81.0               74.0         56214         12533   \n",
       "2              139.0               55.0         56214         12533   \n",
       "3              139.0               55.0         56214         12533   \n",
       "4               59.0               57.0         56214         12533   \n",
       "\n",
       "   1_room_apartment  dining_room  en_suite_bathroom  ...  terrace  balcony  \\\n",
       "0               0.0          0.0                0.0  ...        0        1   \n",
       "1               0.0          0.0                0.0  ...        0        1   \n",
       "2               0.0          0.0                0.0  ...        0        1   \n",
       "3               0.0          0.0                0.0  ...        0        1   \n",
       "4               0.0          0.0                0.0  ...        0        1   \n",
       "\n",
       "   bathrooms  bedrooms  max_guests  living_area  year  cos_month  \\\n",
       "0        1.0       2.0         4.0         60.0  2019   0.866025   \n",
       "1        1.0       2.0         4.0         60.0  2019   0.500000   \n",
       "2        1.0       2.0         4.0         60.0  2019   1.000000   \n",
       "3        1.0       2.0         4.0         60.0  2019   1.000000   \n",
       "4        1.0       2.0         4.0         60.0  2019   0.866025   \n",
       "\n",
       "      sin_month  price_per_day  \n",
       "0  5.000000e-01           59.0  \n",
       "1  8.660254e-01           79.0  \n",
       "2 -2.449294e-16          139.0  \n",
       "3 -2.449294e-16          139.0  \n",
       "4  5.000000e-01           59.0  \n",
       "\n",
       "[5 rows x 90 columns]"
      ],
      "text/html": [
       "<div>\n",
       "<style scoped>\n",
       "    .dataframe tbody tr th:only-of-type {\n",
       "        vertical-align: middle;\n",
       "    }\n",
       "\n",
       "    .dataframe tbody tr th {\n",
       "        vertical-align: top;\n",
       "    }\n",
       "\n",
       "    .dataframe thead th {\n",
       "        text-align: right;\n",
       "    }\n",
       "</style>\n",
       "<table border=\"1\" class=\"dataframe\">\n",
       "  <thead>\n",
       "    <tr style=\"text-align: right;\">\n",
       "      <th></th>\n",
       "      <th>listing_id</th>\n",
       "      <th>inquiry_count</th>\n",
       "      <th>mean_price_per_day</th>\n",
       "      <th>max_price_per_day</th>\n",
       "      <th>min_price_per_day</th>\n",
       "      <th>result_views</th>\n",
       "      <th>expose_views</th>\n",
       "      <th>1_room_apartment</th>\n",
       "      <th>dining_room</th>\n",
       "      <th>en_suite_bathroom</th>\n",
       "      <th>...</th>\n",
       "      <th>terrace</th>\n",
       "      <th>balcony</th>\n",
       "      <th>bathrooms</th>\n",
       "      <th>bedrooms</th>\n",
       "      <th>max_guests</th>\n",
       "      <th>living_area</th>\n",
       "      <th>year</th>\n",
       "      <th>cos_month</th>\n",
       "      <th>sin_month</th>\n",
       "      <th>price_per_day</th>\n",
       "    </tr>\n",
       "  </thead>\n",
       "  <tbody>\n",
       "    <tr>\n",
       "      <th>0</th>\n",
       "      <td>97232bc1-cee6-54cc-9965-be13177051d3</td>\n",
       "      <td>4</td>\n",
       "      <td>58.500000</td>\n",
       "      <td>59.0</td>\n",
       "      <td>57.0</td>\n",
       "      <td>56214</td>\n",
       "      <td>12533</td>\n",
       "      <td>0.0</td>\n",
       "      <td>0.0</td>\n",
       "      <td>0.0</td>\n",
       "      <td>...</td>\n",
       "      <td>0</td>\n",
       "      <td>1</td>\n",
       "      <td>1.0</td>\n",
       "      <td>2.0</td>\n",
       "      <td>4.0</td>\n",
       "      <td>60.0</td>\n",
       "      <td>2019</td>\n",
       "      <td>0.866025</td>\n",
       "      <td>5.000000e-01</td>\n",
       "      <td>59.0</td>\n",
       "    </tr>\n",
       "    <tr>\n",
       "      <th>1</th>\n",
       "      <td>97232bc1-cee6-54cc-9965-be13177051d3</td>\n",
       "      <td>7</td>\n",
       "      <td>76.714286</td>\n",
       "      <td>81.0</td>\n",
       "      <td>74.0</td>\n",
       "      <td>56214</td>\n",
       "      <td>12533</td>\n",
       "      <td>0.0</td>\n",
       "      <td>0.0</td>\n",
       "      <td>0.0</td>\n",
       "      <td>...</td>\n",
       "      <td>0</td>\n",
       "      <td>1</td>\n",
       "      <td>1.0</td>\n",
       "      <td>2.0</td>\n",
       "      <td>4.0</td>\n",
       "      <td>60.0</td>\n",
       "      <td>2019</td>\n",
       "      <td>0.500000</td>\n",
       "      <td>8.660254e-01</td>\n",
       "      <td>79.0</td>\n",
       "    </tr>\n",
       "    <tr>\n",
       "      <th>2</th>\n",
       "      <td>97232bc1-cee6-54cc-9965-be13177051d3</td>\n",
       "      <td>13</td>\n",
       "      <td>114.153846</td>\n",
       "      <td>139.0</td>\n",
       "      <td>55.0</td>\n",
       "      <td>56214</td>\n",
       "      <td>12533</td>\n",
       "      <td>0.0</td>\n",
       "      <td>0.0</td>\n",
       "      <td>0.0</td>\n",
       "      <td>...</td>\n",
       "      <td>0</td>\n",
       "      <td>1</td>\n",
       "      <td>1.0</td>\n",
       "      <td>2.0</td>\n",
       "      <td>4.0</td>\n",
       "      <td>60.0</td>\n",
       "      <td>2019</td>\n",
       "      <td>1.000000</td>\n",
       "      <td>-2.449294e-16</td>\n",
       "      <td>139.0</td>\n",
       "    </tr>\n",
       "    <tr>\n",
       "      <th>3</th>\n",
       "      <td>97232bc1-cee6-54cc-9965-be13177051d3</td>\n",
       "      <td>13</td>\n",
       "      <td>114.153846</td>\n",
       "      <td>139.0</td>\n",
       "      <td>55.0</td>\n",
       "      <td>56214</td>\n",
       "      <td>12533</td>\n",
       "      <td>0.0</td>\n",
       "      <td>0.0</td>\n",
       "      <td>0.0</td>\n",
       "      <td>...</td>\n",
       "      <td>0</td>\n",
       "      <td>1</td>\n",
       "      <td>1.0</td>\n",
       "      <td>2.0</td>\n",
       "      <td>4.0</td>\n",
       "      <td>60.0</td>\n",
       "      <td>2019</td>\n",
       "      <td>1.000000</td>\n",
       "      <td>-2.449294e-16</td>\n",
       "      <td>139.0</td>\n",
       "    </tr>\n",
       "    <tr>\n",
       "      <th>4</th>\n",
       "      <td>97232bc1-cee6-54cc-9965-be13177051d3</td>\n",
       "      <td>4</td>\n",
       "      <td>58.500000</td>\n",
       "      <td>59.0</td>\n",
       "      <td>57.0</td>\n",
       "      <td>56214</td>\n",
       "      <td>12533</td>\n",
       "      <td>0.0</td>\n",
       "      <td>0.0</td>\n",
       "      <td>0.0</td>\n",
       "      <td>...</td>\n",
       "      <td>0</td>\n",
       "      <td>1</td>\n",
       "      <td>1.0</td>\n",
       "      <td>2.0</td>\n",
       "      <td>4.0</td>\n",
       "      <td>60.0</td>\n",
       "      <td>2019</td>\n",
       "      <td>0.866025</td>\n",
       "      <td>5.000000e-01</td>\n",
       "      <td>59.0</td>\n",
       "    </tr>\n",
       "  </tbody>\n",
       "</table>\n",
       "<p>5 rows × 90 columns</p>\n",
       "</div>"
      ]
     },
     "metadata": {},
     "execution_count": 53
    }
   ],
   "metadata": {}
  },
  {
   "cell_type": "code",
   "execution_count": 56,
   "source": [
    "# drop these columns for the purpose of the model\n",
    "\n",
    "master.drop(['result_views','expose_views'],axis=1,inplace=True)"
   ],
   "outputs": [],
   "metadata": {}
  },
  {
   "cell_type": "code",
   "execution_count": 57,
   "source": [
    "# drop these columns for the purpose of the model\n",
    "\n",
    "master.drop(['date','arrival_date','departure_date'],axis=1,inplace=True)"
   ],
   "outputs": [],
   "metadata": {}
  },
  {
   "cell_type": "code",
   "execution_count": 59,
   "source": [
    "# drop these columns for the purpose of the model\n",
    "\n",
    "master.drop(['inquiry_price','price_per_day'],axis=1,inplace=True)"
   ],
   "outputs": [],
   "metadata": {}
  },
  {
   "cell_type": "code",
   "execution_count": 61,
   "source": [
    "'year'\n",
    "master.drop(['year'],axis=1,inplace=True)"
   ],
   "outputs": [],
   "metadata": {}
  },
  {
   "cell_type": "code",
   "execution_count": 60,
   "source": [
    "list(master.columns.values)"
   ],
   "outputs": [
    {
     "output_type": "execute_result",
     "data": {
      "text/plain": [
       "['listing_id',\n",
       " 'inquiry_count',\n",
       " 'mean_price_per_day',\n",
       " 'max_price_per_day',\n",
       " 'min_price_per_day',\n",
       " '1_room_apartment',\n",
       " 'dining_room',\n",
       " 'en_suite_bathroom',\n",
       " 'kitchen',\n",
       " 'kitchen_living',\n",
       " 'living_bedroom',\n",
       " 'living_/_dining_room',\n",
       " 'living_room',\n",
       " 'roof-deck',\n",
       " 'separate_WC',\n",
       " 'veranda',\n",
       " 'additional_bed',\n",
       " 'bathtub',\n",
       " 'bed_linen',\n",
       " 'bicycles',\n",
       " 'coffee_machine',\n",
       " 'computer',\n",
       " 'double_bed',\n",
       " 'fan',\n",
       " 'fireplace',\n",
       " 'freezer',\n",
       " 'games',\n",
       " 'garage',\n",
       " 'garden_furniture',\n",
       " 'hair_dryer',\n",
       " 'hot_tub',\n",
       " 'infrared_cabin',\n",
       " 'kingsize_bed',\n",
       " 'microwave',\n",
       " 'pool_table',\n",
       " 'private_parking',\n",
       " 'radio',\n",
       " 'refrigerator',\n",
       " 'shower',\n",
       " 'single_bed',\n",
       " 'sofa_bed',\n",
       " 'steam_bath',\n",
       " 'tanning_bed',\n",
       " 'cooking',\n",
       " 'adult_count',\n",
       " 'children_count',\n",
       " 'pets_count',\n",
       " 'length_stay',\n",
       " 'subregion',\n",
       " 'property_type',\n",
       " 'option_allergic',\n",
       " 'option_non_smoking_only',\n",
       " 'option_holiday_with_your_pet',\n",
       " 'option_holiday_with_your_horse',\n",
       " 'option_holiday_with_your_dog',\n",
       " 'option_close_to_the_beach',\n",
       " 'option_wheelchair_accessible',\n",
       " 'option_family_travel',\n",
       " 'option_close_to_the_water',\n",
       " 'option_holiday_with_your_baby',\n",
       " 'option_long_term_holiday',\n",
       " 'option_fully_accessible',\n",
       " 'option_technicians',\n",
       " 'option_close_to_the_ski_lift',\n",
       " 'babybed',\n",
       " 'internet',\n",
       " 'dishwasher',\n",
       " 'washingmachine',\n",
       " 'dryer',\n",
       " 'tv',\n",
       " 'pool',\n",
       " 'sauna',\n",
       " 'grill',\n",
       " 'garden',\n",
       " 'terrace',\n",
       " 'balcony',\n",
       " 'bathrooms',\n",
       " 'bedrooms',\n",
       " 'max_guests',\n",
       " 'living_area',\n",
       " 'year',\n",
       " 'cos_month',\n",
       " 'sin_month']"
      ]
     },
     "metadata": {},
     "execution_count": 60
    }
   ],
   "metadata": {}
  },
  {
   "cell_type": "code",
   "execution_count": 62,
   "source": [
    "# trying not to be a dummy by getting dummies\n",
    "\n",
    "master_dummies = pd.get_dummies(master, columns=['subregion','property_type'])"
   ],
   "outputs": [],
   "metadata": {}
  },
  {
   "cell_type": "code",
   "execution_count": 63,
   "source": [
    "master_dummies.to_csv('../data/master_with_dummies.csv')"
   ],
   "outputs": [],
   "metadata": {}
  },
  {
   "cell_type": "code",
   "execution_count": 64,
   "source": [
    "master_dummies.shape"
   ],
   "outputs": [
    {
     "output_type": "execute_result",
     "data": {
      "text/plain": [
       "(418124, 274)"
      ]
     },
     "metadata": {},
     "execution_count": 64
    }
   ],
   "metadata": {}
  },
  {
   "cell_type": "code",
   "execution_count": 79,
   "source": [
    "X = master_dummies.drop(['listing_id','inquiry_count'],axis=1)\n",
    "Y = master_dummies['inquiry_count']"
   ],
   "outputs": [],
   "metadata": {}
  },
  {
   "cell_type": "code",
   "execution_count": 80,
   "source": [
    "from sklearn.model_selection import train_test_split\n",
    "\n",
    "X_train, X_test, y_train, y_test = train_test_split(X, Y, test_size=0.30, random_state=42)"
   ],
   "outputs": [],
   "metadata": {
    "slideshow": {
     "slide_type": "skip"
    }
   }
  },
  {
   "cell_type": "code",
   "execution_count": 85,
   "source": [
    "# we love to normalize our data!!\n",
    "\n",
    "from sklearn.preprocessing import MinMaxScaler\n"
   ],
   "outputs": [],
   "metadata": {}
  },
  {
   "cell_type": "code",
   "execution_count": 82,
   "source": [
    "the_list = ['adult_count','children_count','pets_count','length_stay','bathrooms','bedrooms','max_guests','living_area','mean_price_per_day','max_price_per_day','min_price_per_day']"
   ],
   "outputs": [],
   "metadata": {
    "slideshow": {
     "slide_type": "skip"
    }
   }
  },
  {
   "cell_type": "code",
   "execution_count": 83,
   "source": [
    "# Scaling with MinMaxScaler\n",
    "scaler_norm = MinMaxScaler()\n",
    "X_train_scaled_norm = scaler_norm.fit_transform(X_train[the_list])\n",
    "X_test_scaled_norm = scaler_norm.transform(X_test[the_list])"
   ],
   "outputs": [],
   "metadata": {}
  },
  {
   "cell_type": "code",
   "execution_count": 84,
   "source": [
    "# Concatenating normalized columns \n",
    "X_train_preprocessed_norm = np.concatenate([X_train_scaled_norm, X_train.drop(the_list, axis=1)], axis=1)\n",
    "X_test_preprocessed_norm = np.concatenate([X_test_scaled_norm, X_test.drop(the_list, axis=1)], axis=1)"
   ],
   "outputs": [],
   "metadata": {}
  },
  {
   "cell_type": "code",
   "execution_count": 86,
   "source": [
    "X_train_preprocessed_norm.shape"
   ],
   "outputs": [
    {
     "output_type": "execute_result",
     "data": {
      "text/plain": [
       "(292686, 272)"
      ]
     },
     "metadata": {},
     "execution_count": 86
    }
   ],
   "metadata": {}
  },
  {
   "cell_type": "code",
   "execution_count": 87,
   "source": [
    "X_test_preprocessed_norm.shape"
   ],
   "outputs": [
    {
     "output_type": "execute_result",
     "data": {
      "text/plain": [
       "(125438, 272)"
      ]
     },
     "metadata": {},
     "execution_count": 87
    }
   ],
   "metadata": {}
  },
  {
   "cell_type": "markdown",
   "source": [
    "## Trainining the model and tracking with MLFlow"
   ],
   "metadata": {}
  },
  {
   "cell_type": "code",
   "execution_count": 75,
   "source": [
    "# setting the MLFlow connection and experiment\n",
    "mlflow.set_tracking_uri(TRACKING_URI)\n",
    "mlflow.set_experiment(EXPERIMENT_NAME)\n",
    "mlflow.start_run()\n",
    "run = mlflow.active_run()"
   ],
   "outputs": [],
   "metadata": {
    "slideshow": {
     "slide_type": "slide"
    }
   }
  },
  {
   "cell_type": "code",
   "execution_count": 76,
   "source": [
    "print(\"Active run_id: {}\".format(run.info.run_id))"
   ],
   "outputs": [
    {
     "output_type": "stream",
     "name": "stdout",
     "text": [
      "Active run_id: c00b4d522d9c411c8ee972898f839110\n"
     ]
    }
   ],
   "metadata": {
    "slideshow": {
     "slide_type": "subslide"
    }
   }
  },
  {
   "cell_type": "code",
   "execution_count": 77,
   "source": [
    "master_dummies.isna().sum()"
   ],
   "outputs": [
    {
     "output_type": "execute_result",
     "data": {
      "text/plain": [
       "listing_id                         0\n",
       "inquiry_count                      0\n",
       "mean_price_per_day                 0\n",
       "max_price_per_day                  0\n",
       "min_price_per_day                  0\n",
       "                                  ..\n",
       "subregion_Überlinger See           0\n",
       "property_type_apartment            0\n",
       "property_type_bungalow             0\n",
       "property_type_holiday_apartment    0\n",
       "property_type_holiday_houses       0\n",
       "Length: 274, dtype: int64"
      ]
     },
     "metadata": {},
     "execution_count": 77
    }
   ],
   "metadata": {}
  },
  {
   "cell_type": "code",
   "execution_count": 88,
   "source": [
    "#training the model\n",
    "from sklearn.linear_model import LinearRegression\n",
    "reg = LinearRegression().fit(X_train, y_train)"
   ],
   "outputs": [],
   "metadata": {
    "slideshow": {
     "slide_type": "subslide"
    }
   }
  },
  {
   "cell_type": "code",
   "execution_count": 89,
   "source": [
    "# we will use root mean square error as metric\n",
    "\n",
    "from sklearn.metrics import mean_squared_error\n",
    "y_train_pred = reg.predict(X_train)\n",
    "rmse_train = mean_squared_error(y_train, y_train_pred,squared=False)\n",
    "print(rmse_train)"
   ],
   "outputs": [
    {
     "output_type": "stream",
     "name": "stdout",
     "text": [
      "24.06275338056806\n"
     ]
    }
   ],
   "metadata": {
    "slideshow": {
     "slide_type": "subslide"
    }
   }
  },
  {
   "cell_type": "code",
   "execution_count": 91,
   "source": [
    "# let's see what the test set does (boom!)\n",
    "\n",
    "y_test_pred = reg.predict(X_test)\n",
    "rmse_test = mean_squared_error(y_test, y_test_pred,squared=False)\n",
    "print(rmse_test)"
   ],
   "outputs": [
    {
     "output_type": "stream",
     "name": "stdout",
     "text": [
      "24.417879789542205\n"
     ]
    }
   ],
   "metadata": {
    "slideshow": {
     "slide_type": "subslide"
    }
   }
  },
  {
   "cell_type": "code",
   "execution_count": 97,
   "source": [
    "import shap"
   ],
   "outputs": [],
   "metadata": {}
  },
  {
   "cell_type": "code",
   "execution_count": 98,
   "source": [
    "X100 = shap.utils.sample(X, 100) # 100 instances for use as the background distribution"
   ],
   "outputs": [],
   "metadata": {}
  },
  {
   "cell_type": "code",
   "execution_count": 100,
   "source": [
    "print(\"Model coefficients:\\n\")\n",
    "for i in range(X.shape[1]):\n",
    "    print(X.columns[i], \"=\", reg.coef_[i].round(4))"
   ],
   "outputs": [
    {
     "output_type": "stream",
     "name": "stdout",
     "text": [
      "Model coefficients:\n",
      "\n",
      "mean_price_per_day = 0.1009\n",
      "max_price_per_day = 0.0635\n",
      "min_price_per_day = -0.1791\n",
      "1_room_apartment = -2.4048\n",
      "dining_room = 1.3317\n",
      "en_suite_bathroom = -2.8281\n",
      "kitchen = 2.3668\n",
      "kitchen_living = 0.0659\n",
      "living_bedroom = -1.0583\n",
      "living_/_dining_room = -3.0165\n",
      "living_room = -0.2164\n",
      "roof-deck = 13.141\n",
      "separate_WC = 0.4454\n",
      "veranda = 0.0912\n",
      "additional_bed = -3.8931\n",
      "bathtub = 0.4443\n",
      "bed_linen = 3.56\n",
      "bicycles = -2.3069\n",
      "coffee_machine = -2.8144\n",
      "computer = -1.4213\n",
      "double_bed = -0.0021\n",
      "fan = 1.2294\n",
      "fireplace = -0.9119\n",
      "freezer = 0.9864\n",
      "games = -3.48\n",
      "garage = -1.2237\n",
      "garden_furniture = 12.7094\n",
      "hair_dryer = -0.5595\n",
      "hot_tub = 1.2964\n",
      "infrared_cabin = 2.7038\n",
      "kingsize_bed = -2.9557\n",
      "microwave = -0.2782\n",
      "pool_table = -5.1934\n",
      "private_parking = -1.24\n",
      "radio = 1.2672\n",
      "refrigerator = 3.9081\n",
      "shower = 1.0706\n",
      "single_bed = -0.9266\n",
      "sofa_bed = 1.199\n",
      "steam_bath = 4.9359\n",
      "tanning_bed = 11.0514\n",
      "cooking = -2.6865\n",
      "adult_count = 0.5825\n",
      "children_count = 2.2796\n",
      "pets_count = -3.0969\n",
      "length_stay = 0.1785\n",
      "option_allergic = 0.027\n",
      "option_non_smoking_only = 7.6013\n",
      "option_holiday_with_your_pet = -0.2845\n",
      "option_holiday_with_your_horse = 0.8239\n",
      "option_holiday_with_your_dog = 3.1453\n",
      "option_close_to_the_beach = -0.4471\n",
      "option_wheelchair_accessible = 1.3036\n",
      "option_family_travel = -1.1234\n",
      "option_close_to_the_water = 0.0499\n",
      "option_holiday_with_your_baby = 0.6851\n",
      "option_long_term_holiday = -1.094\n",
      "option_fully_accessible = -0.9444\n",
      "option_technicians = 1.1862\n",
      "option_close_to_the_ski_lift = -0.3328\n",
      "babybed = 1.3034\n",
      "internet = -2.6874\n",
      "dishwasher = -0.7791\n",
      "washingmachine = 0.3705\n",
      "dryer = 1.3161\n",
      "tv = 0.5627\n",
      "pool = -2.1822\n",
      "sauna = -1.8445\n",
      "grill = 3.6246\n",
      "garden = -13.1161\n",
      "terrace = 0.7909\n",
      "balcony = -0.4182\n",
      "bathrooms = -2.4293\n",
      "bedrooms = -0.3584\n",
      "max_guests = 0.4264\n",
      "living_area = -0.0763\n",
      "cos_month = -3.173\n",
      "sin_month = -2.7199\n",
      "subregion_Alt Zauche = -9.1267\n",
      "subregion_Ammersee = -0.6813\n",
      "subregion_Arnsberger Wald = -5.0259\n",
      "subregion_Bad Arolsen = -10.9524\n",
      "subregion_Bad Gottleuba / Berggießhübel = -0.9141\n",
      "subregion_Bad Schandau & Umgebung = 3.3059\n",
      "subregion_Bad Wildungen = 7.6697\n",
      "subregion_Bamberg & Umgebung = 0.5784\n",
      "subregion_Battenberg (Eder) = -4.0077\n",
      "subregion_Bayerischer Wald = -1.6933\n",
      "subregion_Bayreuth & Umgebung = 4.5107\n",
      "subregion_Beckingen = 4.1801\n",
      "subregion_Berchtesgadener Land = 1.5321\n",
      "subregion_Blieskastel = 0.3625\n",
      "subregion_Brockengebiet = 12.5297\n",
      "subregion_Bromskirchen = -10.9768\n",
      "subregion_Burg im Spreewald = 3.0664\n",
      "subregion_Butjadingen = 5.5139\n",
      "subregion_Byhleguhre = -11.576\n",
      "subregion_Calau = -11.8384\n",
      "subregion_Chemnitz und Umgebung = 0.8832\n",
      "subregion_Chiemgau = 1.1074\n",
      "subregion_Coburger Land = 4.0611\n",
      "subregion_Cuxhaven & Umgebung = 4.6724\n",
      "subregion_Deutsche Weinstraße = -1.3127\n",
      "subregion_Diemelsee = -7.3764\n",
      "subregion_Diemelstadt = 1.3116\n",
      "subregion_Dithmarschen = 1.874\n",
      "subregion_Eckernförder Bucht = 0.0023\n",
      "subregion_Edersee = 0.5141\n",
      "subregion_Eppelborn = 2.1682\n",
      "subregion_Fehmarn = 10.4972\n",
      "subregion_Feldberger Seenlandschaft = 8.4818\n",
      "subregion_Ferienland Bernkastel-Kues = -2.5062\n",
      "subregion_Ferienland Cochem = 1.837\n",
      "subregion_Ferienregion Traben-Trarbach = 3.3691\n",
      "subregion_Fichtelgebirge = 1.3343\n",
      "subregion_Fischland-Darß-Zingst = 8.1707\n",
      "subregion_Fleesensee = -1.1207\n",
      "subregion_Flensburger Förde = 7.8651\n",
      "subregion_Frankenau = 0.8821\n",
      "subregion_Frankenwald = -2.6327\n",
      "subregion_Friedrichsthal = -12.2417\n",
      "subregion_Fränkische Schweiz = -4.3569\n",
      "subregion_Geltinger Bucht = -0.0859\n",
      "subregion_Gersheim = 2.4689\n",
      "subregion_Groß Wasserburg = -3.5589\n",
      "subregion_Guhrow = -7.3815\n",
      "subregion_Halbinsel Eiderstedt = 6.4107\n",
      "subregion_Hallertau = -24.4141\n",
      "subregion_Hatzfeld Eder = -3.7293\n",
      "subregion_Hegau = -6.686\n",
      "subregion_Heidekreis = -2.286\n",
      "subregion_Helgoland = -7.0596\n",
      "subregion_Hessische Rhön = 0.7352\n",
      "subregion_Hiddensee = -7.8375\n",
      "subregion_Hocheifel = -10.4721\n",
      "subregion_Hochharz = 4.8168\n",
      "subregion_Hochsauerland = 7.5745\n",
      "subregion_Illingen = 0.9822\n",
      "subregion_Inntal = 0.5684\n",
      "subregion_Jadebusen = 1.9411\n",
      "subregion_Kaiserstuhl = 1.2265\n",
      "subregion_Kasel-Golzig = -8.686\n",
      "subregion_Kieler Bucht = 2.2106\n",
      "subregion_Kieler Förde = 2.6325\n",
      "subregion_Kleinblittersdorf = 3.5\n",
      "subregion_Kolkwitz = 5.2668\n",
      "subregion_Konstanz = 2.2977\n",
      "subregion_Korbach = 54.8808\n",
      "subregion_Königstein & Umgebung = 3.3395\n",
      "subregion_Landkreis Waldeck-Frankenberg (Sauerland) = -3.9716\n",
      "subregion_Lichtenfels in Hessen = -6.8187\n",
      "subregion_Lindau - Bodensee = 7.9088\n",
      "subregion_Losheim am See = -0.0354\n",
      "subregion_Lübben = 0.8715\n",
      "subregion_Lübbenau = 2.2552\n",
      "subregion_Lübecker Bucht = 4.6437\n",
      "subregion_Lüneburg = -2.6419\n",
      "subregion_Mandelbachtal = -6.2258\n",
      "subregion_Marpingen = -0.0\n",
      "subregion_Mecklenburg-Strelitz = -0.1235\n",
      "subregion_Mecklenburgische Ostseeküste = 7.3389\n",
      "subregion_Merzig = 2.1299\n",
      "subregion_Mettlach = -6.8225\n",
      "subregion_Mittelmosel = -1.7291\n",
      "subregion_Mittlerer Schwarzwald = -0.8683\n",
      "subregion_Mittleres Erzgebirge = -3.2661\n",
      "subregion_Moseleifel = -2.7709\n",
      "subregion_Märkische Heide = -2.2805\n",
      "subregion_Märkisches Sauerland = -4.5222\n",
      "subregion_Münchehofe = -2.3224\n",
      "subregion_Münchener Umland = -9.8127\n",
      "subregion_Müritz = 4.8743\n",
      "subregion_Namborn = 1.8605\n",
      "subregion_Neu Zauche = -1.4116\n",
      "subregion_Neunkirchen/Nahe = 2.5292\n",
      "subregion_Neunkirchen/Saar = -2.3045\n",
      "subregion_Neustadt (Sächsische Schweiz) = -2.2752\n",
      "subregion_Nohfelden = -2.9793\n",
      "subregion_Nonnweiler = -6.8037\n",
      "subregion_Nordfriesische Inseln = 3.3934\n",
      "subregion_Nordfriesland = 1.2619\n",
      "subregion_Nordharz = 1.6945\n",
      "subregion_Nordheide = -0.7662\n",
      "subregion_Nordschwarzwald = -2.876\n",
      "subregion_Nossentiner / Schwinzer Heide = -1.5477\n",
      "subregion_Nördliches Sauerland = 2.7714\n",
      "subregion_Oberallgäu = 3.5229\n",
      "subregion_Oberes Erzgebirge = 30.5665\n",
      "subregion_Oberes Maintal = -2.8734\n",
      "subregion_Oberharz = 2.2076\n",
      "subregion_Obersee = 8.3557\n",
      "subregion_Ostallgäu = 4.3869\n",
      "subregion_Osteifel = -0.4022\n",
      "subregion_Osterzgebirge = -7.3992\n",
      "subregion_Ostfriesische Inseln = 8.3644\n",
      "subregion_Ostfriesland = 8.028\n",
      "subregion_Ostharz = -1.3642\n",
      "subregion_Parchim & Umgebung = 0.4709\n",
      "subregion_Perl = -13.0806\n",
      "subregion_Pfaffenwinkel = 0.7271\n",
      "subregion_Pfullendorf & Umgebung = -3.6806\n",
      "subregion_Pfälzer Bergland = -4.1671\n",
      "subregion_Pfälzer Rheinebene = -4.5662\n",
      "subregion_Pfälzerwald = -2.0974\n",
      "subregion_Pirna & Umgebung = -1.5755\n",
      "subregion_Plauer See = -1.9088\n",
      "subregion_Poel = 0.8128\n",
      "subregion_Püttlingen = -2.6811\n",
      "subregion_Quierschied = -0.5549\n",
      "subregion_Rehlingen-Siersburg = 2.9982\n",
      "subregion_Rennsteig = -4.0212\n",
      "subregion_Rheinsberg - Fürstenberg = 9.5139\n",
      "subregion_Rhön = -3.36\n",
      "subregion_Römische Weinstraße = 0.4028\n",
      "subregion_Rügen = 5.6082\n",
      "subregion_Saar-Obermosel = -1.7572\n",
      "subregion_Saarbrücken = -2.5644\n",
      "subregion_Schiffweiler = -8.4145\n",
      "subregion_Schlei = 5.6914\n",
      "subregion_Schlepzig = -4.6137\n",
      "subregion_Schnee-Eifel - Prümer Land = -2.9624\n",
      "subregion_Schwalbach = -1.3586\n",
      "subregion_Schwarzatal = -8.562\n",
      "subregion_Schwielochsee = -4.4903\n",
      "subregion_Sebnitz & Umgebung = -6.1055\n",
      "subregion_Silbernes Erzgebirge = -7.3522\n",
      "subregion_Sonneberger Land = -2.8103\n",
      "subregion_Sorpesee = 12.3856\n",
      "subregion_Spiesen-Elversberg = -6.8833\n",
      "subregion_St. Ingbert = -3.4285\n",
      "subregion_St. Wendel = -12.9625\n",
      "subregion_Starnberger Fünf-Seen-Land = -2.7052\n",
      "subregion_Sternberger Seenland = -2.2874\n",
      "subregion_Stolpen & Umgebung = 4.4349\n",
      "subregion_Straupitz = -6.366\n",
      "subregion_Südeifel = -0.3746\n",
      "subregion_Südharz = -0.6217\n",
      "subregion_Südheide = -0.4218\n",
      "subregion_Südsauerland = -8.534\n",
      "subregion_Südschwarzwald = 0.3915\n",
      "subregion_Tegernsee-Schliersee = -0.5332\n",
      "subregion_Tholey = -3.872\n",
      "subregion_Thüringer Rhön = -3.2619\n",
      "subregion_Trier & Umgebung = -0.785\n",
      "subregion_Tölzer Land = -0.2764\n",
      "subregion_Uelzen & Umgebung = -1.0248\n",
      "subregion_Unterallgäu = -5.5816\n",
      "subregion_Untermosel = 1.1768\n",
      "subregion_Untersee = -0.239\n",
      "subregion_Unterspreewald = -0.108\n",
      "subregion_Usedom = 22.9505\n",
      "subregion_Vetschau = -2.9412\n",
      "subregion_Volkmarsen = -5.217\n",
      "subregion_Vordere Sächsische Schweiz = 17.3667\n",
      "subregion_Vorpommern = -2.5379\n",
      "subregion_Vulkaneifel = 2.7826\n",
      "subregion_Wadern = -4.4951\n",
      "subregion_Wangerland = 4.7648\n",
      "subregion_Weiskirchen = -7.5883\n",
      "subregion_Werder/Spree = 29.848\n",
      "subregion_Werratal = 5.9517\n",
      "subregion_Westallgäu = -0.7599\n",
      "subregion_Westerzgebirge = -3.5631\n",
      "subregion_Westheide = -0.7877\n",
      "subregion_Willingen = -3.6371\n",
      "subregion_Zeller Land = 1.1778\n",
      "subregion_Zugspitz-Region = 2.9617\n",
      "subregion_Überlinger See = 7.7131\n",
      "property_type_apartment = 1.8376\n",
      "property_type_bungalow = -1.4718\n",
      "property_type_holiday_apartment = -0.3057\n",
      "property_type_holiday_houses = -0.0602\n"
     ]
    }
   ],
   "metadata": {}
  },
  {
   "cell_type": "code",
   "execution_count": 101,
   "source": [
    "\n",
    "explainer = shap.Explainer(reg.predict, X100)\n",
    "shap_values = explainer(X)"
   ],
   "outputs": [
    {
     "output_type": "error",
     "ename": "ValueError",
     "evalue": "Could not find feature named: RM",
     "traceback": [
      "\u001b[0;31m---------------------------------------------------------------------------\u001b[0m",
      "\u001b[0;31mValueError\u001b[0m                                Traceback (most recent call last)",
      "\u001b[0;32m/var/folders/3p/pj5rwtf930q9x4z3nxgxbmgr0000gn/T/ipykernel_1152/2686722178.py\u001b[0m in \u001b[0;36m<module>\u001b[0;34m\u001b[0m\n\u001b[0;32m----> 1\u001b[0;31m shap.plots.partial_dependence(\n\u001b[0m\u001b[1;32m      2\u001b[0m     \u001b[0;34m\"RM\"\u001b[0m\u001b[0;34m,\u001b[0m \u001b[0mreg\u001b[0m\u001b[0;34m.\u001b[0m\u001b[0mpredict\u001b[0m\u001b[0;34m,\u001b[0m \u001b[0mX100\u001b[0m\u001b[0;34m,\u001b[0m \u001b[0mice\u001b[0m\u001b[0;34m=\u001b[0m\u001b[0;32mFalse\u001b[0m\u001b[0;34m,\u001b[0m\u001b[0;34m\u001b[0m\u001b[0;34m\u001b[0m\u001b[0m\n\u001b[1;32m      3\u001b[0m     \u001b[0mmodel_expected_value\u001b[0m\u001b[0;34m=\u001b[0m\u001b[0;32mTrue\u001b[0m\u001b[0;34m,\u001b[0m \u001b[0mfeature_expected_value\u001b[0m\u001b[0;34m=\u001b[0m\u001b[0;32mTrue\u001b[0m\u001b[0;34m\u001b[0m\u001b[0;34m\u001b[0m\u001b[0m\n\u001b[1;32m      4\u001b[0m )\n",
      "\u001b[0;32m~/neue-fische-traum/traum-preis/.venv/lib/python3.8/site-packages/shap/plots/_partial_dependence.py\u001b[0m in \u001b[0;36mpartial_dependence\u001b[0;34m(ind, model, data, xmin, xmax, npoints, feature_names, hist, model_expected_value, feature_expected_value, shap_values, ylabel, ice, ace_opacity, pd_opacity, pd_linewidth, ace_linewidth, ax, show)\u001b[0m\n\u001b[1;32m     58\u001b[0m     \u001b[0;31m# this is for a 1D partial dependence plot\u001b[0m\u001b[0;34m\u001b[0m\u001b[0;34m\u001b[0m\u001b[0;34m\u001b[0m\u001b[0m\n\u001b[1;32m     59\u001b[0m     \u001b[0;32mif\u001b[0m \u001b[0mtype\u001b[0m\u001b[0;34m(\u001b[0m\u001b[0mind\u001b[0m\u001b[0;34m)\u001b[0m \u001b[0;32mis\u001b[0m \u001b[0;32mnot\u001b[0m \u001b[0mtuple\u001b[0m\u001b[0;34m:\u001b[0m\u001b[0;34m\u001b[0m\u001b[0;34m\u001b[0m\u001b[0m\n\u001b[0;32m---> 60\u001b[0;31m         \u001b[0mind\u001b[0m \u001b[0;34m=\u001b[0m \u001b[0mconvert_name\u001b[0m\u001b[0;34m(\u001b[0m\u001b[0mind\u001b[0m\u001b[0;34m,\u001b[0m \u001b[0;32mNone\u001b[0m\u001b[0;34m,\u001b[0m \u001b[0mfeature_names\u001b[0m\u001b[0;34m)\u001b[0m\u001b[0;34m\u001b[0m\u001b[0;34m\u001b[0m\u001b[0m\n\u001b[0m\u001b[1;32m     61\u001b[0m         \u001b[0mxv\u001b[0m \u001b[0;34m=\u001b[0m \u001b[0mfeatures\u001b[0m\u001b[0;34m[\u001b[0m\u001b[0;34m:\u001b[0m\u001b[0;34m,\u001b[0m\u001b[0mind\u001b[0m\u001b[0;34m]\u001b[0m\u001b[0;34m\u001b[0m\u001b[0;34m\u001b[0m\u001b[0m\n\u001b[1;32m     62\u001b[0m         \u001b[0mxmin\u001b[0m\u001b[0;34m,\u001b[0m \u001b[0mxmax\u001b[0m \u001b[0;34m=\u001b[0m \u001b[0mcompute_bounds\u001b[0m\u001b[0;34m(\u001b[0m\u001b[0mxmin\u001b[0m\u001b[0;34m,\u001b[0m \u001b[0mxmax\u001b[0m\u001b[0;34m,\u001b[0m \u001b[0mxv\u001b[0m\u001b[0;34m)\u001b[0m\u001b[0;34m\u001b[0m\u001b[0;34m\u001b[0m\u001b[0m\n",
      "\u001b[0;32m~/neue-fische-traum/traum-preis/.venv/lib/python3.8/site-packages/shap/utils/_general.py\u001b[0m in \u001b[0;36mconvert_name\u001b[0;34m(ind, shap_values, input_names)\u001b[0m\n\u001b[1;32m     48\u001b[0m                 \u001b[0;32mreturn\u001b[0m \u001b[0;34m\"sum()\"\u001b[0m\u001b[0;34m\u001b[0m\u001b[0;34m\u001b[0m\u001b[0m\n\u001b[1;32m     49\u001b[0m             \u001b[0;32melse\u001b[0m\u001b[0;34m:\u001b[0m\u001b[0;34m\u001b[0m\u001b[0;34m\u001b[0m\u001b[0m\n\u001b[0;32m---> 50\u001b[0;31m                 \u001b[0;32mraise\u001b[0m \u001b[0mValueError\u001b[0m\u001b[0;34m(\u001b[0m\u001b[0;34m\"Could not find feature named: \"\u001b[0m \u001b[0;34m+\u001b[0m \u001b[0mind\u001b[0m\u001b[0;34m)\u001b[0m\u001b[0;34m\u001b[0m\u001b[0;34m\u001b[0m\u001b[0m\n\u001b[0m\u001b[1;32m     51\u001b[0m         \u001b[0;32melse\u001b[0m\u001b[0;34m:\u001b[0m\u001b[0;34m\u001b[0m\u001b[0;34m\u001b[0m\u001b[0m\n\u001b[1;32m     52\u001b[0m             \u001b[0;32mreturn\u001b[0m \u001b[0mnzinds\u001b[0m\u001b[0;34m[\u001b[0m\u001b[0;36m0\u001b[0m\u001b[0;34m]\u001b[0m\u001b[0;34m\u001b[0m\u001b[0;34m\u001b[0m\u001b[0m\n",
      "\u001b[0;31mValueError\u001b[0m: Could not find feature named: RM"
     ]
    }
   ],
   "metadata": {}
  },
  {
   "cell_type": "code",
   "execution_count": 93,
   "source": [
    "params = {\n",
    "      \"target\": master['inquiry_count'],\n",
    "      \"fit_intercept\": True,\n",
    "  }"
   ],
   "outputs": [],
   "metadata": {
    "slideshow": {
     "slide_type": "slide"
    }
   }
  },
  {
   "cell_type": "code",
   "execution_count": 94,
   "source": [
    "mlflow.log_params(params)\n",
    "mlflow.set_tag(\"running_from_visual_studio_code\", \"our baseline model\")\n",
    "mlflow.log_metric(\"train -\" + \"RMSE\", rmse_train)\n",
    "mlflow.log_metric(\"test -\" + \"RMSE\", rmse_test)\n",
    "# mlflow.log_artifact(\"../models\")\n",
    "# mlflow.sklearn.log_model(reg, \"model\")\n",
    "mlflow.end_run()"
   ],
   "outputs": [],
   "metadata": {
    "slideshow": {
     "slide_type": "slide"
    }
   }
  },
  {
   "cell_type": "code",
   "execution_count": 95,
   "source": [
    "mlflow.get_run(run_id=run.info.run_id)"
   ],
   "outputs": [
    {
     "output_type": "execute_result",
     "data": {
      "text/plain": [
       "<Run: data=<RunData: metrics={'test -RMSE': 24.417879789542205, 'train -RMSE': 24.06275338056806}, params={'fit_intercept': 'True',\n",
       " 'target': '0          4\\n'\n",
       "           '1          7\\n'\n",
       "           '2         13\\n'\n",
       "           '3         13\\n'\n",
       "           '4          4\\n'\n",
       "           '          ..\\n'\n",
       "           '418119    11\\n'\n",
       "           '418120    11\\n'\n",
       "           '418121     1\\n'\n",
       "           '418122     1\\n'\n",
       "           '418123     1\\n'\n",
       "           'Name: inquiry_count, Length: 418124, dtype: int64'}, tags={'mlflow.source.name': 'ipykernel_launcher',\n",
       " 'mlflow.source.type': 'LOCAL',\n",
       " 'mlflow.user': 'petermcisaac',\n",
       " 'running_from_visual_studio_code': 'our baseline model'}>, info=<RunInfo: artifact_uri='s3://neuefische-mlflow/mlflow-artifacts/25/c00b4d522d9c411c8ee972898f839110/artifacts', end_time=1626789340971, experiment_id='25', lifecycle_stage='active', run_id='c00b4d522d9c411c8ee972898f839110', run_uuid='c00b4d522d9c411c8ee972898f839110', start_time=1626788362298, status='FINISHED', user_id='petermcisaac'>>"
      ]
     },
     "metadata": {},
     "execution_count": 95
    }
   ],
   "metadata": {
    "slideshow": {
     "slide_type": "subslide"
    }
   }
  },
  {
   "cell_type": "markdown",
   "source": [
    "## Checking the experiments\n",
    "\n",
    "while the next cell is running you will not be able to run other cells in the notebook"
   ],
   "metadata": {}
  },
  {
   "cell_type": "code",
   "execution_count": null,
   "source": [
    "!mlflow ui"
   ],
   "outputs": [],
   "metadata": {
    "slideshow": {
     "slide_type": "slide"
    }
   }
  }
 ],
 "metadata": {
  "kernelspec": {
   "name": "python3",
   "display_name": "Python 3.8.5 64-bit ('.venv')"
  },
  "language_info": {
   "codemirror_mode": {
    "name": "ipython",
    "version": 3
   },
   "file_extension": ".py",
   "mimetype": "text/x-python",
   "name": "python",
   "nbconvert_exporter": "python",
   "pygments_lexer": "ipython3",
   "version": "3.8.5"
  },
  "metadata": {
   "interpreter": {
    "hash": "aee8b7b246df8f9039afb4144a1f6fd8d2ca17a180786b69acc140d282b71a49"
   }
  },
  "interpreter": {
   "hash": "50124f71d8f3ce399cc8f90e232172b7703f7c279ffa8eaec14b162019ba404a"
  }
 },
 "nbformat": 4,
 "nbformat_minor": 4
}