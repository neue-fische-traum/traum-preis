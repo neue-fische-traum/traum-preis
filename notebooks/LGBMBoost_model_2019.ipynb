{
 "cells": [
  {
   "cell_type": "code",
   "execution_count": 1,
   "source": [
    "import sys\n",
    "# adding to the path variables the one folder higher (locally, not changing system variables)\n",
    "sys.path.append(\"..\")\n",
    "import pandas as pd\n",
    "# from pandas_profiling import ProfileReport\n",
    "import numpy as np\n",
    "import warnings\n",
    "import mlflow\n",
    "from modeling.config import EXPERIMENT_NAME\n",
    "TRACKING_URI = open(\"../.mlflow_uri\").read().strip()\n",
    "\n",
    "ROOT = os.environ.get('PWD')\n",
    "\n",
    "warnings.filterwarnings('ignore')\n",
    "\n",
    "\n",
    "\n",
    "\n"
   ],
   "outputs": [],
   "metadata": {
    "slideshow": {
     "slide_type": "skip"
    }
   }
  },
  {
   "cell_type": "markdown",
   "source": [
    "# Data cleaning and feature engineering"
   ],
   "metadata": {}
  },
  {
   "cell_type": "code",
   "execution_count": null,
   "source": [
    "# set global default to be able to see all columns\n",
    "\n",
    "pd.set_option('display.max_rows', None)"
   ],
   "outputs": [],
   "metadata": {}
  },
  {
   "cell_type": "code",
   "execution_count": 13,
   "source": [
    "# read from csv\n",
    "\n",
    "master = pd.read_csv('../data/excellent_master.csv')"
   ],
   "outputs": [],
   "metadata": {}
  },
  {
   "cell_type": "code",
   "execution_count": 15,
   "source": [
    "master.duplicated()"
   ],
   "outputs": [
    {
     "output_type": "execute_result",
     "data": {
      "text/plain": [
       "0          False\n",
       "1          False\n",
       "2          False\n",
       "3          False\n",
       "4          False\n",
       "           ...  \n",
       "1521127    False\n",
       "1521128    False\n",
       "1521129    False\n",
       "1521130    False\n",
       "1521131    False\n",
       "Length: 1521132, dtype: bool"
      ]
     },
     "metadata": {},
     "execution_count": 15
    }
   ],
   "metadata": {}
  },
  {
   "cell_type": "code",
   "execution_count": 4,
   "source": [
    "len(master)"
   ],
   "outputs": [
    {
     "output_type": "execute_result",
     "data": {
      "text/plain": [
       "1521132"
      ]
     },
     "metadata": {},
     "execution_count": 4
    }
   ],
   "metadata": {}
  },
  {
   "cell_type": "code",
   "execution_count": 42,
   "source": [
    "list(master.columns.values)"
   ],
   "outputs": [
    {
     "output_type": "execute_result",
     "data": {
      "text/plain": [
       "['listing_id',\n",
       " 'top',\n",
       " 'year',\n",
       " 'month',\n",
       " 'inquiry_count',\n",
       " 'children`s_room',\n",
       " 'corridor',\n",
       " 'dining_room',\n",
       " 'kitchen',\n",
       " 'kitchen_living',\n",
       " 'living_bedroom',\n",
       " 'living_/_dining_room',\n",
       " 'living_room',\n",
       " 'separate_WC',\n",
       " 'storage_room',\n",
       " 'washroom',\n",
       " 'wellness',\n",
       " 'Blu-ray_player',\n",
       " 'CDs_DVDs',\n",
       " 'DVD-player',\n",
       " 'additional_bed',\n",
       " 'armchair',\n",
       " 'awning_',\n",
       " 'bath_towels',\n",
       " 'bathtub',\n",
       " 'beach_chair',\n",
       " 'bed_linen',\n",
       " 'bicycles',\n",
       " 'books',\n",
       " 'bread_service',\n",
       " 'bunk_bed',\n",
       " 'carport',\n",
       " 'central_heating',\n",
       " 'chest_of_drawers',\n",
       " \"child's_bed\",\n",
       " 'children_toilet_seat',\n",
       " 'cleaning_supplies',\n",
       " 'coffee_machine',\n",
       " 'colouring_book_pencils',\n",
       " 'crockery',\n",
       " 'desk',\n",
       " 'dining_table',\n",
       " 'double_bed',\n",
       " 'double_wash_basin',\n",
       " 'drying_rack',\n",
       " 'egg_cooker',\n",
       " 'fire_alarm',\n",
       " 'fireplace',\n",
       " 'first-aid_kit',\n",
       " 'flat_iron',\n",
       " 'fly_screen',\n",
       " 'food_processor',\n",
       " 'freezer',\n",
       " 'games',\n",
       " 'garage',\n",
       " 'garden_furniture',\n",
       " 'garden_shed',\n",
       " 'hair_dryer',\n",
       " 'high_chair',\n",
       " 'hot_water',\n",
       " 'ironing_board',\n",
       " 'kettle',\n",
       " 'laundry_service',\n",
       " 'lawn',\n",
       " 'make-up_mirror',\n",
       " 'microwave',\n",
       " 'mirror',\n",
       " 'mixer',\n",
       " 'phone',\n",
       " 'playground',\n",
       " 'pond',\n",
       " 'private_parking',\n",
       " 'radio',\n",
       " 'refrigerator',\n",
       " 'safe',\n",
       " 'sandpit',\n",
       " 'sandwich_toaster',\n",
       " 'shower',\n",
       " 'single_bed',\n",
       " 'slide',\n",
       " 'socket_covers',\n",
       " 'sofa',\n",
       " 'sofa_bed',\n",
       " 'spices',\n",
       " 'stair_gate',\n",
       " 'stereo_system',\n",
       " 'sun_loungers',\n",
       " 'sun_umbrella_',\n",
       " 'sunshade',\n",
       " 'swing',\n",
       " 'table_tennis',\n",
       " 'tea_towels',\n",
       " 'toaster',\n",
       " 'toilet',\n",
       " 'towels',\n",
       " 'toys',\n",
       " 'trampoline',\n",
       " 'underfloor_heating',\n",
       " 'vacuum_cleaner',\n",
       " 'walk-in_shower',\n",
       " 'wardrobe',\n",
       " 'wash_basin',\n",
       " 'windbreak',\n",
       " 'cooking',\n",
       " 'title',\n",
       " 'adult_count',\n",
       " 'children_count',\n",
       " 'pets_count',\n",
       " 'length_stay',\n",
       " 'holiday_region',\n",
       " 'property_type',\n",
       " 'option_allergic',\n",
       " 'option_non_smoking_only',\n",
       " 'option_holiday_with_your_pet',\n",
       " 'option_holiday_with_your_horse',\n",
       " 'option_holiday_with_your_dog',\n",
       " 'option_close_to_the_beach',\n",
       " 'option_wheelchair_accessible',\n",
       " 'option_family_travel',\n",
       " 'option_close_to_the_water',\n",
       " 'option_holiday_with_your_baby',\n",
       " 'option_long_term_holiday',\n",
       " 'option_fully_accessible',\n",
       " 'option_technicians',\n",
       " 'option_close_to_the_ski_lift',\n",
       " 'wheelchairaccess',\n",
       " 'babybed',\n",
       " 'internet',\n",
       " 'dishwasher',\n",
       " 'washingmachine',\n",
       " 'dryer',\n",
       " 'tv',\n",
       " 'pool',\n",
       " 'sauna',\n",
       " 'grill',\n",
       " 'garden',\n",
       " 'balcony',\n",
       " 'bathrooms',\n",
       " 'bedrooms',\n",
       " 'max_guests',\n",
       " 'living_area',\n",
       " 'lat',\n",
       " 'lng',\n",
       " 'filled_in_price_per_day',\n",
       " 'inquiry_rate']"
      ]
     },
     "metadata": {},
     "execution_count": 42
    }
   ],
   "metadata": {}
  },
  {
   "cell_type": "code",
   "execution_count": 60,
   "source": [
    "# drop necessary columns\n",
    "drop_list = ['Unnamed: 0','Unnamed: 0.1','Unnamed: 0_x','Unnamed: 0_y','arrival_date']\n",
    "\n",
    "for i in drop_list:\n",
    "    master.drop([i],axis=1,inplace=True)"
   ],
   "outputs": [
    {
     "output_type": "error",
     "ename": "KeyError",
     "evalue": "\"['Unnamed: 0'] not found in axis\"",
     "traceback": [
      "\u001b[0;31m---------------------------------------------------------------------------\u001b[0m",
      "\u001b[0;31mKeyError\u001b[0m                                  Traceback (most recent call last)",
      "\u001b[0;32m/var/folders/3p/pj5rwtf930q9x4z3nxgxbmgr0000gn/T/ipykernel_8966/1931683087.py\u001b[0m in \u001b[0;36m<module>\u001b[0;34m\u001b[0m\n\u001b[1;32m      3\u001b[0m \u001b[0;34m\u001b[0m\u001b[0m\n\u001b[1;32m      4\u001b[0m \u001b[0;32mfor\u001b[0m \u001b[0mi\u001b[0m \u001b[0;32min\u001b[0m \u001b[0mdrop_list\u001b[0m\u001b[0;34m:\u001b[0m\u001b[0;34m\u001b[0m\u001b[0;34m\u001b[0m\u001b[0m\n\u001b[0;32m----> 5\u001b[0;31m     \u001b[0mmaster\u001b[0m\u001b[0;34m.\u001b[0m\u001b[0mdrop\u001b[0m\u001b[0;34m(\u001b[0m\u001b[0;34m[\u001b[0m\u001b[0mi\u001b[0m\u001b[0;34m]\u001b[0m\u001b[0;34m,\u001b[0m\u001b[0maxis\u001b[0m\u001b[0;34m=\u001b[0m\u001b[0;36m1\u001b[0m\u001b[0;34m,\u001b[0m\u001b[0minplace\u001b[0m\u001b[0;34m=\u001b[0m\u001b[0;32mTrue\u001b[0m\u001b[0;34m)\u001b[0m\u001b[0;34m\u001b[0m\u001b[0;34m\u001b[0m\u001b[0m\n\u001b[0m",
      "\u001b[0;32m~/neue-fische-traum/traum-preis/.venv/lib/python3.8/site-packages/pandas/core/frame.py\u001b[0m in \u001b[0;36mdrop\u001b[0;34m(self, labels, axis, index, columns, level, inplace, errors)\u001b[0m\n\u001b[1;32m   4303\u001b[0m                 \u001b[0mweight\u001b[0m  \u001b[0;36m1.0\u001b[0m     \u001b[0;36m0.8\u001b[0m\u001b[0;34m\u001b[0m\u001b[0;34m\u001b[0m\u001b[0m\n\u001b[1;32m   4304\u001b[0m         \"\"\"\n\u001b[0;32m-> 4305\u001b[0;31m         return super().drop(\n\u001b[0m\u001b[1;32m   4306\u001b[0m             \u001b[0mlabels\u001b[0m\u001b[0;34m=\u001b[0m\u001b[0mlabels\u001b[0m\u001b[0;34m,\u001b[0m\u001b[0;34m\u001b[0m\u001b[0;34m\u001b[0m\u001b[0m\n\u001b[1;32m   4307\u001b[0m             \u001b[0maxis\u001b[0m\u001b[0;34m=\u001b[0m\u001b[0maxis\u001b[0m\u001b[0;34m,\u001b[0m\u001b[0;34m\u001b[0m\u001b[0;34m\u001b[0m\u001b[0m\n",
      "\u001b[0;32m~/neue-fische-traum/traum-preis/.venv/lib/python3.8/site-packages/pandas/core/generic.py\u001b[0m in \u001b[0;36mdrop\u001b[0;34m(self, labels, axis, index, columns, level, inplace, errors)\u001b[0m\n\u001b[1;32m   4150\u001b[0m         \u001b[0;32mfor\u001b[0m \u001b[0maxis\u001b[0m\u001b[0;34m,\u001b[0m \u001b[0mlabels\u001b[0m \u001b[0;32min\u001b[0m \u001b[0maxes\u001b[0m\u001b[0;34m.\u001b[0m\u001b[0mitems\u001b[0m\u001b[0;34m(\u001b[0m\u001b[0;34m)\u001b[0m\u001b[0;34m:\u001b[0m\u001b[0;34m\u001b[0m\u001b[0;34m\u001b[0m\u001b[0m\n\u001b[1;32m   4151\u001b[0m             \u001b[0;32mif\u001b[0m \u001b[0mlabels\u001b[0m \u001b[0;32mis\u001b[0m \u001b[0;32mnot\u001b[0m \u001b[0;32mNone\u001b[0m\u001b[0;34m:\u001b[0m\u001b[0;34m\u001b[0m\u001b[0;34m\u001b[0m\u001b[0m\n\u001b[0;32m-> 4152\u001b[0;31m                 \u001b[0mobj\u001b[0m \u001b[0;34m=\u001b[0m \u001b[0mobj\u001b[0m\u001b[0;34m.\u001b[0m\u001b[0m_drop_axis\u001b[0m\u001b[0;34m(\u001b[0m\u001b[0mlabels\u001b[0m\u001b[0;34m,\u001b[0m \u001b[0maxis\u001b[0m\u001b[0;34m,\u001b[0m \u001b[0mlevel\u001b[0m\u001b[0;34m=\u001b[0m\u001b[0mlevel\u001b[0m\u001b[0;34m,\u001b[0m \u001b[0merrors\u001b[0m\u001b[0;34m=\u001b[0m\u001b[0merrors\u001b[0m\u001b[0;34m)\u001b[0m\u001b[0;34m\u001b[0m\u001b[0;34m\u001b[0m\u001b[0m\n\u001b[0m\u001b[1;32m   4153\u001b[0m \u001b[0;34m\u001b[0m\u001b[0m\n\u001b[1;32m   4154\u001b[0m         \u001b[0;32mif\u001b[0m \u001b[0minplace\u001b[0m\u001b[0;34m:\u001b[0m\u001b[0;34m\u001b[0m\u001b[0;34m\u001b[0m\u001b[0m\n",
      "\u001b[0;32m~/neue-fische-traum/traum-preis/.venv/lib/python3.8/site-packages/pandas/core/generic.py\u001b[0m in \u001b[0;36m_drop_axis\u001b[0;34m(self, labels, axis, level, errors)\u001b[0m\n\u001b[1;32m   4185\u001b[0m                 \u001b[0mnew_axis\u001b[0m \u001b[0;34m=\u001b[0m \u001b[0maxis\u001b[0m\u001b[0;34m.\u001b[0m\u001b[0mdrop\u001b[0m\u001b[0;34m(\u001b[0m\u001b[0mlabels\u001b[0m\u001b[0;34m,\u001b[0m \u001b[0mlevel\u001b[0m\u001b[0;34m=\u001b[0m\u001b[0mlevel\u001b[0m\u001b[0;34m,\u001b[0m \u001b[0merrors\u001b[0m\u001b[0;34m=\u001b[0m\u001b[0merrors\u001b[0m\u001b[0;34m)\u001b[0m\u001b[0;34m\u001b[0m\u001b[0;34m\u001b[0m\u001b[0m\n\u001b[1;32m   4186\u001b[0m             \u001b[0;32melse\u001b[0m\u001b[0;34m:\u001b[0m\u001b[0;34m\u001b[0m\u001b[0;34m\u001b[0m\u001b[0m\n\u001b[0;32m-> 4187\u001b[0;31m                 \u001b[0mnew_axis\u001b[0m \u001b[0;34m=\u001b[0m \u001b[0maxis\u001b[0m\u001b[0;34m.\u001b[0m\u001b[0mdrop\u001b[0m\u001b[0;34m(\u001b[0m\u001b[0mlabels\u001b[0m\u001b[0;34m,\u001b[0m \u001b[0merrors\u001b[0m\u001b[0;34m=\u001b[0m\u001b[0merrors\u001b[0m\u001b[0;34m)\u001b[0m\u001b[0;34m\u001b[0m\u001b[0;34m\u001b[0m\u001b[0m\n\u001b[0m\u001b[1;32m   4188\u001b[0m             \u001b[0mresult\u001b[0m \u001b[0;34m=\u001b[0m \u001b[0mself\u001b[0m\u001b[0;34m.\u001b[0m\u001b[0mreindex\u001b[0m\u001b[0;34m(\u001b[0m\u001b[0;34m**\u001b[0m\u001b[0;34m{\u001b[0m\u001b[0maxis_name\u001b[0m\u001b[0;34m:\u001b[0m \u001b[0mnew_axis\u001b[0m\u001b[0;34m}\u001b[0m\u001b[0;34m)\u001b[0m\u001b[0;34m\u001b[0m\u001b[0;34m\u001b[0m\u001b[0m\n\u001b[1;32m   4189\u001b[0m \u001b[0;34m\u001b[0m\u001b[0m\n",
      "\u001b[0;32m~/neue-fische-traum/traum-preis/.venv/lib/python3.8/site-packages/pandas/core/indexes/base.py\u001b[0m in \u001b[0;36mdrop\u001b[0;34m(self, labels, errors)\u001b[0m\n\u001b[1;32m   5589\u001b[0m         \u001b[0;32mif\u001b[0m \u001b[0mmask\u001b[0m\u001b[0;34m.\u001b[0m\u001b[0many\u001b[0m\u001b[0;34m(\u001b[0m\u001b[0;34m)\u001b[0m\u001b[0;34m:\u001b[0m\u001b[0;34m\u001b[0m\u001b[0;34m\u001b[0m\u001b[0m\n\u001b[1;32m   5590\u001b[0m             \u001b[0;32mif\u001b[0m \u001b[0merrors\u001b[0m \u001b[0;34m!=\u001b[0m \u001b[0;34m\"ignore\"\u001b[0m\u001b[0;34m:\u001b[0m\u001b[0;34m\u001b[0m\u001b[0;34m\u001b[0m\u001b[0m\n\u001b[0;32m-> 5591\u001b[0;31m                 \u001b[0;32mraise\u001b[0m \u001b[0mKeyError\u001b[0m\u001b[0;34m(\u001b[0m\u001b[0;34mf\"{labels[mask]} not found in axis\"\u001b[0m\u001b[0;34m)\u001b[0m\u001b[0;34m\u001b[0m\u001b[0;34m\u001b[0m\u001b[0m\n\u001b[0m\u001b[1;32m   5592\u001b[0m             \u001b[0mindexer\u001b[0m \u001b[0;34m=\u001b[0m \u001b[0mindexer\u001b[0m\u001b[0;34m[\u001b[0m\u001b[0;34m~\u001b[0m\u001b[0mmask\u001b[0m\u001b[0;34m]\u001b[0m\u001b[0;34m\u001b[0m\u001b[0;34m\u001b[0m\u001b[0m\n\u001b[1;32m   5593\u001b[0m         \u001b[0;32mreturn\u001b[0m \u001b[0mself\u001b[0m\u001b[0;34m.\u001b[0m\u001b[0mdelete\u001b[0m\u001b[0;34m(\u001b[0m\u001b[0mindexer\u001b[0m\u001b[0;34m)\u001b[0m\u001b[0;34m\u001b[0m\u001b[0;34m\u001b[0m\u001b[0m\n",
      "\u001b[0;31mKeyError\u001b[0m: \"['Unnamed: 0'] not found in axis\""
     ]
    }
   ],
   "metadata": {}
  },
  {
   "cell_type": "code",
   "execution_count": null,
   "source": [
    "master.nunique()"
   ],
   "outputs": [],
   "metadata": {}
  },
  {
   "cell_type": "code",
   "execution_count": 26,
   "source": [
    "# select the filter that is appropriate for the data range. \n",
    "# NOTE: the range is not automatically reflected in the name of the dataframe--\n",
    "# but it should be put into the parameters for ML Flow\n",
    "\n",
    "# by default, the master set has both years, 2019 and 2020, so it needs no filter\n",
    "\n",
    "# master_filter = master\n",
    "\n",
    "# to filter only 2019 data\n",
    "master_filter = master.query('year == 2019').reset_index()\n",
    "\n",
    "# to filter only 2020 data\n",
    "# master_filter = master.query('year == 2020')"
   ],
   "outputs": [],
   "metadata": {}
  },
  {
   "cell_type": "code",
   "execution_count": 27,
   "source": [
    "len(master_filter)"
   ],
   "outputs": [
    {
     "output_type": "execute_result",
     "data": {
      "text/plain": [
       "476790"
      ]
     },
     "metadata": {},
     "execution_count": 27
    }
   ],
   "metadata": {}
  },
  {
   "cell_type": "code",
   "execution_count": null,
   "source": [
    "master_filter.isna().sum()"
   ],
   "outputs": [],
   "metadata": {}
  },
  {
   "cell_type": "markdown",
   "source": [
    "## the data set has no missing values"
   ],
   "metadata": {}
  },
  {
   "cell_type": "code",
   "execution_count": 33,
   "source": [
    "# generate the feature mean_price_per_day \n",
    "\n",
    "master_filter_price_agg = master_filter.groupby(['listing_id','month']).agg(['mean'])['filled_in_price_per_day'].reset_index()"
   ],
   "outputs": [],
   "metadata": {}
  },
  {
   "cell_type": "code",
   "execution_count": null,
   "source": [
    "master_filter_price_agg.head(2)"
   ],
   "outputs": [],
   "metadata": {}
  },
  {
   "cell_type": "code",
   "execution_count": 61,
   "source": [
    "\n",
    "master_filter_1 = pd.merge(master_filter_price_agg, master_filter, left_on=['listing_id','month'], right_on=['listing_id','month'], how='right')"
   ],
   "outputs": [],
   "metadata": {}
  },
  {
   "cell_type": "code",
   "execution_count": 62,
   "source": [
    "master_filter_1.rename(columns={'mean':'mean_price_per_day'},inplace=True)"
   ],
   "outputs": [],
   "metadata": {}
  },
  {
   "cell_type": "code",
   "execution_count": 36,
   "source": [
    "master_filter_1.nunique()"
   ],
   "outputs": [
    {
     "output_type": "execute_result",
     "data": {
      "text/plain": [
       "listing_id                   8388\n",
       "month                          12\n",
       "mean_price_per_day           1265\n",
       "index                      476790\n",
       "top                             2\n",
       "                            ...  \n",
       "living_area                   125\n",
       "lat                           217\n",
       "lng                           217\n",
       "filled_in_price_per_day       503\n",
       "inquiry_rate                  101\n",
       "Length: 147, dtype: int64"
      ]
     },
     "metadata": {},
     "execution_count": 36
    }
   ],
   "metadata": {}
  },
  {
   "cell_type": "code",
   "execution_count": 37,
   "source": [
    "len(master_filter_1)"
   ],
   "outputs": [
    {
     "output_type": "execute_result",
     "data": {
      "text/plain": [
       "476790"
      ]
     },
     "metadata": {},
     "execution_count": 37
    }
   ],
   "metadata": {}
  },
  {
   "cell_type": "code",
   "execution_count": 63,
   "source": [
    "list(master_filter_1.columns.values)"
   ],
   "outputs": [
    {
     "output_type": "execute_result",
     "data": {
      "text/plain": [
       "['listing_id',\n",
       " 'month',\n",
       " 'mean_price_per_day',\n",
       " 'index',\n",
       " 'top',\n",
       " 'year',\n",
       " 'inquiry_count',\n",
       " 'children`s_room',\n",
       " 'corridor',\n",
       " 'dining_room',\n",
       " 'kitchen',\n",
       " 'kitchen_living',\n",
       " 'living_bedroom',\n",
       " 'living_/_dining_room',\n",
       " 'living_room',\n",
       " 'separate_WC',\n",
       " 'storage_room',\n",
       " 'washroom',\n",
       " 'wellness',\n",
       " 'Blu-ray_player',\n",
       " 'CDs_DVDs',\n",
       " 'DVD-player',\n",
       " 'additional_bed',\n",
       " 'armchair',\n",
       " 'awning_',\n",
       " 'bath_towels',\n",
       " 'bathtub',\n",
       " 'beach_chair',\n",
       " 'bed_linen',\n",
       " 'bicycles',\n",
       " 'books',\n",
       " 'bread_service',\n",
       " 'bunk_bed',\n",
       " 'carport',\n",
       " 'central_heating',\n",
       " 'chest_of_drawers',\n",
       " \"child's_bed\",\n",
       " 'children_toilet_seat',\n",
       " 'cleaning_supplies',\n",
       " 'coffee_machine',\n",
       " 'colouring_book_pencils',\n",
       " 'crockery',\n",
       " 'desk',\n",
       " 'dining_table',\n",
       " 'double_bed',\n",
       " 'double_wash_basin',\n",
       " 'drying_rack',\n",
       " 'egg_cooker',\n",
       " 'fire_alarm',\n",
       " 'fireplace',\n",
       " 'first-aid_kit',\n",
       " 'flat_iron',\n",
       " 'fly_screen',\n",
       " 'food_processor',\n",
       " 'freezer',\n",
       " 'games',\n",
       " 'garage',\n",
       " 'garden_furniture',\n",
       " 'garden_shed',\n",
       " 'hair_dryer',\n",
       " 'high_chair',\n",
       " 'hot_water',\n",
       " 'ironing_board',\n",
       " 'kettle',\n",
       " 'laundry_service',\n",
       " 'lawn',\n",
       " 'make-up_mirror',\n",
       " 'microwave',\n",
       " 'mirror',\n",
       " 'mixer',\n",
       " 'phone',\n",
       " 'playground',\n",
       " 'pond',\n",
       " 'private_parking',\n",
       " 'radio',\n",
       " 'refrigerator',\n",
       " 'safe',\n",
       " 'sandpit',\n",
       " 'sandwich_toaster',\n",
       " 'shower',\n",
       " 'single_bed',\n",
       " 'slide',\n",
       " 'socket_covers',\n",
       " 'sofa',\n",
       " 'sofa_bed',\n",
       " 'spices',\n",
       " 'stair_gate',\n",
       " 'stereo_system',\n",
       " 'sun_loungers',\n",
       " 'sun_umbrella_',\n",
       " 'sunshade',\n",
       " 'swing',\n",
       " 'table_tennis',\n",
       " 'tea_towels',\n",
       " 'toaster',\n",
       " 'toilet',\n",
       " 'towels',\n",
       " 'toys',\n",
       " 'trampoline',\n",
       " 'underfloor_heating',\n",
       " 'vacuum_cleaner',\n",
       " 'walk-in_shower',\n",
       " 'wardrobe',\n",
       " 'wash_basin',\n",
       " 'windbreak',\n",
       " 'cooking',\n",
       " 'title',\n",
       " 'adult_count',\n",
       " 'children_count',\n",
       " 'pets_count',\n",
       " 'length_stay',\n",
       " 'holiday_region',\n",
       " 'property_type',\n",
       " 'option_allergic',\n",
       " 'option_non_smoking_only',\n",
       " 'option_holiday_with_your_pet',\n",
       " 'option_holiday_with_your_horse',\n",
       " 'option_holiday_with_your_dog',\n",
       " 'option_close_to_the_beach',\n",
       " 'option_wheelchair_accessible',\n",
       " 'option_family_travel',\n",
       " 'option_close_to_the_water',\n",
       " 'option_holiday_with_your_baby',\n",
       " 'option_long_term_holiday',\n",
       " 'option_fully_accessible',\n",
       " 'option_technicians',\n",
       " 'option_close_to_the_ski_lift',\n",
       " 'wheelchairaccess',\n",
       " 'babybed',\n",
       " 'internet',\n",
       " 'dishwasher',\n",
       " 'washingmachine',\n",
       " 'dryer',\n",
       " 'tv',\n",
       " 'pool',\n",
       " 'sauna',\n",
       " 'grill',\n",
       " 'garden',\n",
       " 'balcony',\n",
       " 'bathrooms',\n",
       " 'bedrooms',\n",
       " 'max_guests',\n",
       " 'living_area',\n",
       " 'lat',\n",
       " 'lng',\n",
       " 'filled_in_price_per_day',\n",
       " 'inquiry_rate']"
      ]
     },
     "metadata": {},
     "execution_count": 63
    }
   ],
   "metadata": {}
  },
  {
   "cell_type": "code",
   "execution_count": 64,
   "source": [
    "# drop more things that need not be in the data set\n",
    "\n",
    "drop_list = ['year',\n",
    " 'option_holiday_with_your_pet','option_holiday_with_your_horse']\n",
    "\n",
    "for i in drop_list:\n",
    "    master_filter_1.drop([i],axis=1,inplace=True)"
   ],
   "outputs": [],
   "metadata": {}
  },
  {
   "cell_type": "code",
   "execution_count": 65,
   "source": [
    "master_filter_1.drop(['index'],axis=1,inplace=True)"
   ],
   "outputs": [],
   "metadata": {}
  },
  {
   "cell_type": "code",
   "execution_count": null,
   "source": [],
   "outputs": [],
   "metadata": {}
  },
  {
   "cell_type": "code",
   "execution_count": null,
   "source": [
    "# save to csv if desired: this is the normed, filtered set with agg price data for the years in question\n",
    "\n",
    "master_filter_1.to_csv('../data/master_filter_price_agg.csv')"
   ],
   "outputs": [],
   "metadata": {}
  },
  {
   "cell_type": "code",
   "execution_count": null,
   "source": [
    "master_filter_1 = pd.read_csv('../data/master_filter_price_agg.csv')"
   ],
   "outputs": [],
   "metadata": {}
  },
  {
   "cell_type": "code",
   "execution_count": 66,
   "source": [
    "master_filter_1['property_type'].unique()"
   ],
   "outputs": [
    {
     "output_type": "execute_result",
     "data": {
      "text/plain": [
       "array(['holiday_apartment', 'holiday_houses'], dtype=object)"
      ]
     },
     "metadata": {},
     "execution_count": 66
    }
   ],
   "metadata": {}
  },
  {
   "cell_type": "code",
   "execution_count": 67,
   "source": [
    "# convert property types into binary: holiday apartment = 0, and holiday_houses = 1\n",
    "master_filter_1['prop_bin'] = 1\n"
   ],
   "outputs": [],
   "metadata": {}
  },
  {
   "cell_type": "code",
   "execution_count": 68,
   "source": [
    "master_filter_1.loc[master_filter_1['property_type'] == 'holiday_apartment', 'prop_bin'] = 0"
   ],
   "outputs": [],
   "metadata": {}
  },
  {
   "cell_type": "code",
   "execution_count": 41,
   "source": [
    "master_filter_1.head()"
   ],
   "outputs": [
    {
     "output_type": "execute_result",
     "data": {
      "text/plain": [
       "                             listing_id  month  mean_price_per_day  index  \\\n",
       "0  c5c0fcff-faf3-5a07-a0d9-fe2857025cd8      1                65.0   2496   \n",
       "1  6ec2303b-5083-50ef-bead-9e3d839f3caa      1                55.0   2497   \n",
       "2  bfeddf97-945f-5cd4-96e4-dcbe170e8410      1                54.0   2498   \n",
       "3  1c883ca8-3a96-56b0-b8e9-1d9f7f4a9180      2                60.0   2499   \n",
       "4  e8224b68-1c9b-5464-8c28-565798996ea5      2                50.0   2500   \n",
       "\n",
       "   top  year  inquiry_count  children`s_room  corridor  dining_room  ...  \\\n",
       "0  0.0  2019              1              0.0       1.0          0.0  ...   \n",
       "1  0.0  2019              1              0.0       0.0          0.0  ...   \n",
       "2  0.0  2019              1              0.0       0.0          0.0  ...   \n",
       "3  0.0  2019              1              0.0       0.0          0.0  ...   \n",
       "4  0.0  2019              1              0.0       0.0          0.0  ...   \n",
       "\n",
       "   balcony  bathrooms  bedrooms  max_guests  living_area        lat  \\\n",
       "0      0.0        1.0       1.0         2.0         60.0  53.626845   \n",
       "1      0.0        1.0       2.0         4.0         65.0  53.207069   \n",
       "2      1.0        1.0       0.0         3.0         40.0  53.938466   \n",
       "3      0.0        1.0       1.0         2.0         81.0  51.271444   \n",
       "4      0.0        1.0       1.0         3.0         45.0  49.343352   \n",
       "\n",
       "         lng  filled_in_price_per_day  inquiry_rate  prop_bin  \n",
       "0   7.293929                     65.0          0.04         0  \n",
       "1   7.986032                     55.0          0.02         1  \n",
       "2  10.678566                     54.0          0.01         0  \n",
       "3   8.546197                     60.0          0.02         0  \n",
       "4   8.109466                     50.0          0.02         0  \n",
       "\n",
       "[5 rows x 148 columns]"
      ],
      "text/html": [
       "<div>\n",
       "<style scoped>\n",
       "    .dataframe tbody tr th:only-of-type {\n",
       "        vertical-align: middle;\n",
       "    }\n",
       "\n",
       "    .dataframe tbody tr th {\n",
       "        vertical-align: top;\n",
       "    }\n",
       "\n",
       "    .dataframe thead th {\n",
       "        text-align: right;\n",
       "    }\n",
       "</style>\n",
       "<table border=\"1\" class=\"dataframe\">\n",
       "  <thead>\n",
       "    <tr style=\"text-align: right;\">\n",
       "      <th></th>\n",
       "      <th>listing_id</th>\n",
       "      <th>month</th>\n",
       "      <th>mean_price_per_day</th>\n",
       "      <th>index</th>\n",
       "      <th>top</th>\n",
       "      <th>year</th>\n",
       "      <th>inquiry_count</th>\n",
       "      <th>children`s_room</th>\n",
       "      <th>corridor</th>\n",
       "      <th>dining_room</th>\n",
       "      <th>...</th>\n",
       "      <th>balcony</th>\n",
       "      <th>bathrooms</th>\n",
       "      <th>bedrooms</th>\n",
       "      <th>max_guests</th>\n",
       "      <th>living_area</th>\n",
       "      <th>lat</th>\n",
       "      <th>lng</th>\n",
       "      <th>filled_in_price_per_day</th>\n",
       "      <th>inquiry_rate</th>\n",
       "      <th>prop_bin</th>\n",
       "    </tr>\n",
       "  </thead>\n",
       "  <tbody>\n",
       "    <tr>\n",
       "      <th>0</th>\n",
       "      <td>c5c0fcff-faf3-5a07-a0d9-fe2857025cd8</td>\n",
       "      <td>1</td>\n",
       "      <td>65.0</td>\n",
       "      <td>2496</td>\n",
       "      <td>0.0</td>\n",
       "      <td>2019</td>\n",
       "      <td>1</td>\n",
       "      <td>0.0</td>\n",
       "      <td>1.0</td>\n",
       "      <td>0.0</td>\n",
       "      <td>...</td>\n",
       "      <td>0.0</td>\n",
       "      <td>1.0</td>\n",
       "      <td>1.0</td>\n",
       "      <td>2.0</td>\n",
       "      <td>60.0</td>\n",
       "      <td>53.626845</td>\n",
       "      <td>7.293929</td>\n",
       "      <td>65.0</td>\n",
       "      <td>0.04</td>\n",
       "      <td>0</td>\n",
       "    </tr>\n",
       "    <tr>\n",
       "      <th>1</th>\n",
       "      <td>6ec2303b-5083-50ef-bead-9e3d839f3caa</td>\n",
       "      <td>1</td>\n",
       "      <td>55.0</td>\n",
       "      <td>2497</td>\n",
       "      <td>0.0</td>\n",
       "      <td>2019</td>\n",
       "      <td>1</td>\n",
       "      <td>0.0</td>\n",
       "      <td>0.0</td>\n",
       "      <td>0.0</td>\n",
       "      <td>...</td>\n",
       "      <td>0.0</td>\n",
       "      <td>1.0</td>\n",
       "      <td>2.0</td>\n",
       "      <td>4.0</td>\n",
       "      <td>65.0</td>\n",
       "      <td>53.207069</td>\n",
       "      <td>7.986032</td>\n",
       "      <td>55.0</td>\n",
       "      <td>0.02</td>\n",
       "      <td>1</td>\n",
       "    </tr>\n",
       "    <tr>\n",
       "      <th>2</th>\n",
       "      <td>bfeddf97-945f-5cd4-96e4-dcbe170e8410</td>\n",
       "      <td>1</td>\n",
       "      <td>54.0</td>\n",
       "      <td>2498</td>\n",
       "      <td>0.0</td>\n",
       "      <td>2019</td>\n",
       "      <td>1</td>\n",
       "      <td>0.0</td>\n",
       "      <td>0.0</td>\n",
       "      <td>0.0</td>\n",
       "      <td>...</td>\n",
       "      <td>1.0</td>\n",
       "      <td>1.0</td>\n",
       "      <td>0.0</td>\n",
       "      <td>3.0</td>\n",
       "      <td>40.0</td>\n",
       "      <td>53.938466</td>\n",
       "      <td>10.678566</td>\n",
       "      <td>54.0</td>\n",
       "      <td>0.01</td>\n",
       "      <td>0</td>\n",
       "    </tr>\n",
       "    <tr>\n",
       "      <th>3</th>\n",
       "      <td>1c883ca8-3a96-56b0-b8e9-1d9f7f4a9180</td>\n",
       "      <td>2</td>\n",
       "      <td>60.0</td>\n",
       "      <td>2499</td>\n",
       "      <td>0.0</td>\n",
       "      <td>2019</td>\n",
       "      <td>1</td>\n",
       "      <td>0.0</td>\n",
       "      <td>0.0</td>\n",
       "      <td>0.0</td>\n",
       "      <td>...</td>\n",
       "      <td>0.0</td>\n",
       "      <td>1.0</td>\n",
       "      <td>1.0</td>\n",
       "      <td>2.0</td>\n",
       "      <td>81.0</td>\n",
       "      <td>51.271444</td>\n",
       "      <td>8.546197</td>\n",
       "      <td>60.0</td>\n",
       "      <td>0.02</td>\n",
       "      <td>0</td>\n",
       "    </tr>\n",
       "    <tr>\n",
       "      <th>4</th>\n",
       "      <td>e8224b68-1c9b-5464-8c28-565798996ea5</td>\n",
       "      <td>2</td>\n",
       "      <td>50.0</td>\n",
       "      <td>2500</td>\n",
       "      <td>0.0</td>\n",
       "      <td>2019</td>\n",
       "      <td>1</td>\n",
       "      <td>0.0</td>\n",
       "      <td>0.0</td>\n",
       "      <td>0.0</td>\n",
       "      <td>...</td>\n",
       "      <td>0.0</td>\n",
       "      <td>1.0</td>\n",
       "      <td>1.0</td>\n",
       "      <td>3.0</td>\n",
       "      <td>45.0</td>\n",
       "      <td>49.343352</td>\n",
       "      <td>8.109466</td>\n",
       "      <td>50.0</td>\n",
       "      <td>0.02</td>\n",
       "      <td>0</td>\n",
       "    </tr>\n",
       "  </tbody>\n",
       "</table>\n",
       "<p>5 rows × 148 columns</p>\n",
       "</div>"
      ]
     },
     "metadata": {},
     "execution_count": 41
    }
   ],
   "metadata": {}
  },
  {
   "cell_type": "code",
   "execution_count": 71,
   "source": [
    "master_filter_1.drop(['filled_in_price_per_day'],axis=1,inplace=True)"
   ],
   "outputs": [
    {
     "output_type": "error",
     "ename": "KeyError",
     "evalue": "\"['filled_in_price_per_day'] not found in axis\"",
     "traceback": [
      "\u001b[0;31m---------------------------------------------------------------------------\u001b[0m",
      "\u001b[0;31mKeyError\u001b[0m                                  Traceback (most recent call last)",
      "\u001b[0;32m/var/folders/3p/pj5rwtf930q9x4z3nxgxbmgr0000gn/T/ipykernel_8966/3480816809.py\u001b[0m in \u001b[0;36m<module>\u001b[0;34m\u001b[0m\n\u001b[0;32m----> 1\u001b[0;31m \u001b[0mmaster_filter_1\u001b[0m\u001b[0;34m.\u001b[0m\u001b[0mdrop\u001b[0m\u001b[0;34m(\u001b[0m\u001b[0;34m[\u001b[0m\u001b[0;34m'filled_in_price_per_day'\u001b[0m\u001b[0;34m]\u001b[0m\u001b[0;34m,\u001b[0m\u001b[0maxis\u001b[0m\u001b[0;34m=\u001b[0m\u001b[0;36m1\u001b[0m\u001b[0;34m,\u001b[0m\u001b[0minplace\u001b[0m\u001b[0;34m=\u001b[0m\u001b[0;32mTrue\u001b[0m\u001b[0;34m)\u001b[0m\u001b[0;34m\u001b[0m\u001b[0;34m\u001b[0m\u001b[0m\n\u001b[0m",
      "\u001b[0;32m~/neue-fische-traum/traum-preis/.venv/lib/python3.8/site-packages/pandas/core/frame.py\u001b[0m in \u001b[0;36mdrop\u001b[0;34m(self, labels, axis, index, columns, level, inplace, errors)\u001b[0m\n\u001b[1;32m   4303\u001b[0m                 \u001b[0mweight\u001b[0m  \u001b[0;36m1.0\u001b[0m     \u001b[0;36m0.8\u001b[0m\u001b[0;34m\u001b[0m\u001b[0;34m\u001b[0m\u001b[0m\n\u001b[1;32m   4304\u001b[0m         \"\"\"\n\u001b[0;32m-> 4305\u001b[0;31m         return super().drop(\n\u001b[0m\u001b[1;32m   4306\u001b[0m             \u001b[0mlabels\u001b[0m\u001b[0;34m=\u001b[0m\u001b[0mlabels\u001b[0m\u001b[0;34m,\u001b[0m\u001b[0;34m\u001b[0m\u001b[0;34m\u001b[0m\u001b[0m\n\u001b[1;32m   4307\u001b[0m             \u001b[0maxis\u001b[0m\u001b[0;34m=\u001b[0m\u001b[0maxis\u001b[0m\u001b[0;34m,\u001b[0m\u001b[0;34m\u001b[0m\u001b[0;34m\u001b[0m\u001b[0m\n",
      "\u001b[0;32m~/neue-fische-traum/traum-preis/.venv/lib/python3.8/site-packages/pandas/core/generic.py\u001b[0m in \u001b[0;36mdrop\u001b[0;34m(self, labels, axis, index, columns, level, inplace, errors)\u001b[0m\n\u001b[1;32m   4150\u001b[0m         \u001b[0;32mfor\u001b[0m \u001b[0maxis\u001b[0m\u001b[0;34m,\u001b[0m \u001b[0mlabels\u001b[0m \u001b[0;32min\u001b[0m \u001b[0maxes\u001b[0m\u001b[0;34m.\u001b[0m\u001b[0mitems\u001b[0m\u001b[0;34m(\u001b[0m\u001b[0;34m)\u001b[0m\u001b[0;34m:\u001b[0m\u001b[0;34m\u001b[0m\u001b[0;34m\u001b[0m\u001b[0m\n\u001b[1;32m   4151\u001b[0m             \u001b[0;32mif\u001b[0m \u001b[0mlabels\u001b[0m \u001b[0;32mis\u001b[0m \u001b[0;32mnot\u001b[0m \u001b[0;32mNone\u001b[0m\u001b[0;34m:\u001b[0m\u001b[0;34m\u001b[0m\u001b[0;34m\u001b[0m\u001b[0m\n\u001b[0;32m-> 4152\u001b[0;31m                 \u001b[0mobj\u001b[0m \u001b[0;34m=\u001b[0m \u001b[0mobj\u001b[0m\u001b[0;34m.\u001b[0m\u001b[0m_drop_axis\u001b[0m\u001b[0;34m(\u001b[0m\u001b[0mlabels\u001b[0m\u001b[0;34m,\u001b[0m \u001b[0maxis\u001b[0m\u001b[0;34m,\u001b[0m \u001b[0mlevel\u001b[0m\u001b[0;34m=\u001b[0m\u001b[0mlevel\u001b[0m\u001b[0;34m,\u001b[0m \u001b[0merrors\u001b[0m\u001b[0;34m=\u001b[0m\u001b[0merrors\u001b[0m\u001b[0;34m)\u001b[0m\u001b[0;34m\u001b[0m\u001b[0;34m\u001b[0m\u001b[0m\n\u001b[0m\u001b[1;32m   4153\u001b[0m \u001b[0;34m\u001b[0m\u001b[0m\n\u001b[1;32m   4154\u001b[0m         \u001b[0;32mif\u001b[0m \u001b[0minplace\u001b[0m\u001b[0;34m:\u001b[0m\u001b[0;34m\u001b[0m\u001b[0;34m\u001b[0m\u001b[0m\n",
      "\u001b[0;32m~/neue-fische-traum/traum-preis/.venv/lib/python3.8/site-packages/pandas/core/generic.py\u001b[0m in \u001b[0;36m_drop_axis\u001b[0;34m(self, labels, axis, level, errors)\u001b[0m\n\u001b[1;32m   4185\u001b[0m                 \u001b[0mnew_axis\u001b[0m \u001b[0;34m=\u001b[0m \u001b[0maxis\u001b[0m\u001b[0;34m.\u001b[0m\u001b[0mdrop\u001b[0m\u001b[0;34m(\u001b[0m\u001b[0mlabels\u001b[0m\u001b[0;34m,\u001b[0m \u001b[0mlevel\u001b[0m\u001b[0;34m=\u001b[0m\u001b[0mlevel\u001b[0m\u001b[0;34m,\u001b[0m \u001b[0merrors\u001b[0m\u001b[0;34m=\u001b[0m\u001b[0merrors\u001b[0m\u001b[0;34m)\u001b[0m\u001b[0;34m\u001b[0m\u001b[0;34m\u001b[0m\u001b[0m\n\u001b[1;32m   4186\u001b[0m             \u001b[0;32melse\u001b[0m\u001b[0;34m:\u001b[0m\u001b[0;34m\u001b[0m\u001b[0;34m\u001b[0m\u001b[0m\n\u001b[0;32m-> 4187\u001b[0;31m                 \u001b[0mnew_axis\u001b[0m \u001b[0;34m=\u001b[0m \u001b[0maxis\u001b[0m\u001b[0;34m.\u001b[0m\u001b[0mdrop\u001b[0m\u001b[0;34m(\u001b[0m\u001b[0mlabels\u001b[0m\u001b[0;34m,\u001b[0m \u001b[0merrors\u001b[0m\u001b[0;34m=\u001b[0m\u001b[0merrors\u001b[0m\u001b[0;34m)\u001b[0m\u001b[0;34m\u001b[0m\u001b[0;34m\u001b[0m\u001b[0m\n\u001b[0m\u001b[1;32m   4188\u001b[0m             \u001b[0mresult\u001b[0m \u001b[0;34m=\u001b[0m \u001b[0mself\u001b[0m\u001b[0;34m.\u001b[0m\u001b[0mreindex\u001b[0m\u001b[0;34m(\u001b[0m\u001b[0;34m**\u001b[0m\u001b[0;34m{\u001b[0m\u001b[0maxis_name\u001b[0m\u001b[0;34m:\u001b[0m \u001b[0mnew_axis\u001b[0m\u001b[0;34m}\u001b[0m\u001b[0;34m)\u001b[0m\u001b[0;34m\u001b[0m\u001b[0;34m\u001b[0m\u001b[0m\n\u001b[1;32m   4189\u001b[0m \u001b[0;34m\u001b[0m\u001b[0m\n",
      "\u001b[0;32m~/neue-fische-traum/traum-preis/.venv/lib/python3.8/site-packages/pandas/core/indexes/base.py\u001b[0m in \u001b[0;36mdrop\u001b[0;34m(self, labels, errors)\u001b[0m\n\u001b[1;32m   5589\u001b[0m         \u001b[0;32mif\u001b[0m \u001b[0mmask\u001b[0m\u001b[0;34m.\u001b[0m\u001b[0many\u001b[0m\u001b[0;34m(\u001b[0m\u001b[0;34m)\u001b[0m\u001b[0;34m:\u001b[0m\u001b[0;34m\u001b[0m\u001b[0;34m\u001b[0m\u001b[0m\n\u001b[1;32m   5590\u001b[0m             \u001b[0;32mif\u001b[0m \u001b[0merrors\u001b[0m \u001b[0;34m!=\u001b[0m \u001b[0;34m\"ignore\"\u001b[0m\u001b[0;34m:\u001b[0m\u001b[0;34m\u001b[0m\u001b[0;34m\u001b[0m\u001b[0m\n\u001b[0;32m-> 5591\u001b[0;31m                 \u001b[0;32mraise\u001b[0m \u001b[0mKeyError\u001b[0m\u001b[0;34m(\u001b[0m\u001b[0;34mf\"{labels[mask]} not found in axis\"\u001b[0m\u001b[0;34m)\u001b[0m\u001b[0;34m\u001b[0m\u001b[0;34m\u001b[0m\u001b[0m\n\u001b[0m\u001b[1;32m   5592\u001b[0m             \u001b[0mindexer\u001b[0m \u001b[0;34m=\u001b[0m \u001b[0mindexer\u001b[0m\u001b[0;34m[\u001b[0m\u001b[0;34m~\u001b[0m\u001b[0mmask\u001b[0m\u001b[0;34m]\u001b[0m\u001b[0;34m\u001b[0m\u001b[0;34m\u001b[0m\u001b[0m\n\u001b[1;32m   5593\u001b[0m         \u001b[0;32mreturn\u001b[0m \u001b[0mself\u001b[0m\u001b[0;34m.\u001b[0m\u001b[0mdelete\u001b[0m\u001b[0;34m(\u001b[0m\u001b[0mindexer\u001b[0m\u001b[0;34m)\u001b[0m\u001b[0;34m\u001b[0m\u001b[0;34m\u001b[0m\u001b[0m\n",
      "\u001b[0;31mKeyError\u001b[0m: \"['filled_in_price_per_day'] not found in axis\""
     ]
    }
   ],
   "metadata": {}
  },
  {
   "cell_type": "code",
   "execution_count": 72,
   "source": [
    "master_filter_1.drop(['property_type'],axis=1,inplace=True)"
   ],
   "outputs": [
    {
     "output_type": "error",
     "ename": "KeyError",
     "evalue": "\"['property_type'] not found in axis\"",
     "traceback": [
      "\u001b[0;31m---------------------------------------------------------------------------\u001b[0m",
      "\u001b[0;31mKeyError\u001b[0m                                  Traceback (most recent call last)",
      "\u001b[0;32m/var/folders/3p/pj5rwtf930q9x4z3nxgxbmgr0000gn/T/ipykernel_8966/888847231.py\u001b[0m in \u001b[0;36m<module>\u001b[0;34m\u001b[0m\n\u001b[0;32m----> 1\u001b[0;31m \u001b[0mmaster_filter_1\u001b[0m\u001b[0;34m.\u001b[0m\u001b[0mdrop\u001b[0m\u001b[0;34m(\u001b[0m\u001b[0;34m[\u001b[0m\u001b[0;34m'property_type'\u001b[0m\u001b[0;34m]\u001b[0m\u001b[0;34m,\u001b[0m\u001b[0maxis\u001b[0m\u001b[0;34m=\u001b[0m\u001b[0;36m1\u001b[0m\u001b[0;34m,\u001b[0m\u001b[0minplace\u001b[0m\u001b[0;34m=\u001b[0m\u001b[0;32mTrue\u001b[0m\u001b[0;34m)\u001b[0m\u001b[0;34m\u001b[0m\u001b[0;34m\u001b[0m\u001b[0m\n\u001b[0m",
      "\u001b[0;32m~/neue-fische-traum/traum-preis/.venv/lib/python3.8/site-packages/pandas/core/frame.py\u001b[0m in \u001b[0;36mdrop\u001b[0;34m(self, labels, axis, index, columns, level, inplace, errors)\u001b[0m\n\u001b[1;32m   4303\u001b[0m                 \u001b[0mweight\u001b[0m  \u001b[0;36m1.0\u001b[0m     \u001b[0;36m0.8\u001b[0m\u001b[0;34m\u001b[0m\u001b[0;34m\u001b[0m\u001b[0m\n\u001b[1;32m   4304\u001b[0m         \"\"\"\n\u001b[0;32m-> 4305\u001b[0;31m         return super().drop(\n\u001b[0m\u001b[1;32m   4306\u001b[0m             \u001b[0mlabels\u001b[0m\u001b[0;34m=\u001b[0m\u001b[0mlabels\u001b[0m\u001b[0;34m,\u001b[0m\u001b[0;34m\u001b[0m\u001b[0;34m\u001b[0m\u001b[0m\n\u001b[1;32m   4307\u001b[0m             \u001b[0maxis\u001b[0m\u001b[0;34m=\u001b[0m\u001b[0maxis\u001b[0m\u001b[0;34m,\u001b[0m\u001b[0;34m\u001b[0m\u001b[0;34m\u001b[0m\u001b[0m\n",
      "\u001b[0;32m~/neue-fische-traum/traum-preis/.venv/lib/python3.8/site-packages/pandas/core/generic.py\u001b[0m in \u001b[0;36mdrop\u001b[0;34m(self, labels, axis, index, columns, level, inplace, errors)\u001b[0m\n\u001b[1;32m   4150\u001b[0m         \u001b[0;32mfor\u001b[0m \u001b[0maxis\u001b[0m\u001b[0;34m,\u001b[0m \u001b[0mlabels\u001b[0m \u001b[0;32min\u001b[0m \u001b[0maxes\u001b[0m\u001b[0;34m.\u001b[0m\u001b[0mitems\u001b[0m\u001b[0;34m(\u001b[0m\u001b[0;34m)\u001b[0m\u001b[0;34m:\u001b[0m\u001b[0;34m\u001b[0m\u001b[0;34m\u001b[0m\u001b[0m\n\u001b[1;32m   4151\u001b[0m             \u001b[0;32mif\u001b[0m \u001b[0mlabels\u001b[0m \u001b[0;32mis\u001b[0m \u001b[0;32mnot\u001b[0m \u001b[0;32mNone\u001b[0m\u001b[0;34m:\u001b[0m\u001b[0;34m\u001b[0m\u001b[0;34m\u001b[0m\u001b[0m\n\u001b[0;32m-> 4152\u001b[0;31m                 \u001b[0mobj\u001b[0m \u001b[0;34m=\u001b[0m \u001b[0mobj\u001b[0m\u001b[0;34m.\u001b[0m\u001b[0m_drop_axis\u001b[0m\u001b[0;34m(\u001b[0m\u001b[0mlabels\u001b[0m\u001b[0;34m,\u001b[0m \u001b[0maxis\u001b[0m\u001b[0;34m,\u001b[0m \u001b[0mlevel\u001b[0m\u001b[0;34m=\u001b[0m\u001b[0mlevel\u001b[0m\u001b[0;34m,\u001b[0m \u001b[0merrors\u001b[0m\u001b[0;34m=\u001b[0m\u001b[0merrors\u001b[0m\u001b[0;34m)\u001b[0m\u001b[0;34m\u001b[0m\u001b[0;34m\u001b[0m\u001b[0m\n\u001b[0m\u001b[1;32m   4153\u001b[0m \u001b[0;34m\u001b[0m\u001b[0m\n\u001b[1;32m   4154\u001b[0m         \u001b[0;32mif\u001b[0m \u001b[0minplace\u001b[0m\u001b[0;34m:\u001b[0m\u001b[0;34m\u001b[0m\u001b[0;34m\u001b[0m\u001b[0m\n",
      "\u001b[0;32m~/neue-fische-traum/traum-preis/.venv/lib/python3.8/site-packages/pandas/core/generic.py\u001b[0m in \u001b[0;36m_drop_axis\u001b[0;34m(self, labels, axis, level, errors)\u001b[0m\n\u001b[1;32m   4185\u001b[0m                 \u001b[0mnew_axis\u001b[0m \u001b[0;34m=\u001b[0m \u001b[0maxis\u001b[0m\u001b[0;34m.\u001b[0m\u001b[0mdrop\u001b[0m\u001b[0;34m(\u001b[0m\u001b[0mlabels\u001b[0m\u001b[0;34m,\u001b[0m \u001b[0mlevel\u001b[0m\u001b[0;34m=\u001b[0m\u001b[0mlevel\u001b[0m\u001b[0;34m,\u001b[0m \u001b[0merrors\u001b[0m\u001b[0;34m=\u001b[0m\u001b[0merrors\u001b[0m\u001b[0;34m)\u001b[0m\u001b[0;34m\u001b[0m\u001b[0;34m\u001b[0m\u001b[0m\n\u001b[1;32m   4186\u001b[0m             \u001b[0;32melse\u001b[0m\u001b[0;34m:\u001b[0m\u001b[0;34m\u001b[0m\u001b[0;34m\u001b[0m\u001b[0m\n\u001b[0;32m-> 4187\u001b[0;31m                 \u001b[0mnew_axis\u001b[0m \u001b[0;34m=\u001b[0m \u001b[0maxis\u001b[0m\u001b[0;34m.\u001b[0m\u001b[0mdrop\u001b[0m\u001b[0;34m(\u001b[0m\u001b[0mlabels\u001b[0m\u001b[0;34m,\u001b[0m \u001b[0merrors\u001b[0m\u001b[0;34m=\u001b[0m\u001b[0merrors\u001b[0m\u001b[0;34m)\u001b[0m\u001b[0;34m\u001b[0m\u001b[0;34m\u001b[0m\u001b[0m\n\u001b[0m\u001b[1;32m   4188\u001b[0m             \u001b[0mresult\u001b[0m \u001b[0;34m=\u001b[0m \u001b[0mself\u001b[0m\u001b[0;34m.\u001b[0m\u001b[0mreindex\u001b[0m\u001b[0;34m(\u001b[0m\u001b[0;34m**\u001b[0m\u001b[0;34m{\u001b[0m\u001b[0maxis_name\u001b[0m\u001b[0;34m:\u001b[0m \u001b[0mnew_axis\u001b[0m\u001b[0;34m}\u001b[0m\u001b[0;34m)\u001b[0m\u001b[0;34m\u001b[0m\u001b[0;34m\u001b[0m\u001b[0m\n\u001b[1;32m   4189\u001b[0m \u001b[0;34m\u001b[0m\u001b[0m\n",
      "\u001b[0;32m~/neue-fische-traum/traum-preis/.venv/lib/python3.8/site-packages/pandas/core/indexes/base.py\u001b[0m in \u001b[0;36mdrop\u001b[0;34m(self, labels, errors)\u001b[0m\n\u001b[1;32m   5589\u001b[0m         \u001b[0;32mif\u001b[0m \u001b[0mmask\u001b[0m\u001b[0;34m.\u001b[0m\u001b[0many\u001b[0m\u001b[0;34m(\u001b[0m\u001b[0;34m)\u001b[0m\u001b[0;34m:\u001b[0m\u001b[0;34m\u001b[0m\u001b[0;34m\u001b[0m\u001b[0m\n\u001b[1;32m   5590\u001b[0m             \u001b[0;32mif\u001b[0m \u001b[0merrors\u001b[0m \u001b[0;34m!=\u001b[0m \u001b[0;34m\"ignore\"\u001b[0m\u001b[0;34m:\u001b[0m\u001b[0;34m\u001b[0m\u001b[0;34m\u001b[0m\u001b[0m\n\u001b[0;32m-> 5591\u001b[0;31m                 \u001b[0;32mraise\u001b[0m \u001b[0mKeyError\u001b[0m\u001b[0;34m(\u001b[0m\u001b[0;34mf\"{labels[mask]} not found in axis\"\u001b[0m\u001b[0;34m)\u001b[0m\u001b[0;34m\u001b[0m\u001b[0;34m\u001b[0m\u001b[0m\n\u001b[0m\u001b[1;32m   5592\u001b[0m             \u001b[0mindexer\u001b[0m \u001b[0;34m=\u001b[0m \u001b[0mindexer\u001b[0m\u001b[0;34m[\u001b[0m\u001b[0;34m~\u001b[0m\u001b[0mmask\u001b[0m\u001b[0;34m]\u001b[0m\u001b[0;34m\u001b[0m\u001b[0;34m\u001b[0m\u001b[0m\n\u001b[1;32m   5593\u001b[0m         \u001b[0;32mreturn\u001b[0m \u001b[0mself\u001b[0m\u001b[0;34m.\u001b[0m\u001b[0mdelete\u001b[0m\u001b[0;34m(\u001b[0m\u001b[0mindexer\u001b[0m\u001b[0;34m)\u001b[0m\u001b[0;34m\u001b[0m\u001b[0;34m\u001b[0m\u001b[0m\n",
      "\u001b[0;31mKeyError\u001b[0m: \"['property_type'] not found in axis\""
     ]
    }
   ],
   "metadata": {}
  },
  {
   "cell_type": "code",
   "execution_count": 87,
   "source": [
    "master_filter_1.drop(['option_technicians'],axis=1,inplace=True)"
   ],
   "outputs": [],
   "metadata": {}
  },
  {
   "cell_type": "code",
   "execution_count": 80,
   "source": [
    "list(master_filter_1.columns.values)"
   ],
   "outputs": [
    {
     "output_type": "execute_result",
     "data": {
      "text/plain": [
       "['listing_id',\n",
       " 'month',\n",
       " 'mean_price_per_day',\n",
       " 'top',\n",
       " 'inquiry_count',\n",
       " 'children`s_room',\n",
       " 'corridor',\n",
       " 'dining_room',\n",
       " 'kitchen',\n",
       " 'kitchen_living',\n",
       " 'living_bedroom',\n",
       " 'living_/_dining_room',\n",
       " 'living_room',\n",
       " 'separate_WC',\n",
       " 'storage_room',\n",
       " 'washroom',\n",
       " 'wellness',\n",
       " 'Blu-ray_player',\n",
       " 'CDs_DVDs',\n",
       " 'DVD-player',\n",
       " 'additional_bed',\n",
       " 'armchair',\n",
       " 'awning_',\n",
       " 'bath_towels',\n",
       " 'bathtub',\n",
       " 'beach_chair',\n",
       " 'bed_linen',\n",
       " 'bicycles',\n",
       " 'books',\n",
       " 'bread_service',\n",
       " 'bunk_bed',\n",
       " 'carport',\n",
       " 'central_heating',\n",
       " 'chest_of_drawers',\n",
       " \"child's_bed\",\n",
       " 'children_toilet_seat',\n",
       " 'cleaning_supplies',\n",
       " 'coffee_machine',\n",
       " 'colouring_book_pencils',\n",
       " 'crockery',\n",
       " 'desk',\n",
       " 'dining_table',\n",
       " 'double_bed',\n",
       " 'double_wash_basin',\n",
       " 'drying_rack',\n",
       " 'egg_cooker',\n",
       " 'fire_alarm',\n",
       " 'fireplace',\n",
       " 'first-aid_kit',\n",
       " 'flat_iron',\n",
       " 'fly_screen',\n",
       " 'food_processor',\n",
       " 'freezer',\n",
       " 'games',\n",
       " 'garage',\n",
       " 'garden_furniture',\n",
       " 'garden_shed',\n",
       " 'hair_dryer',\n",
       " 'high_chair',\n",
       " 'hot_water',\n",
       " 'ironing_board',\n",
       " 'kettle',\n",
       " 'laundry_service',\n",
       " 'lawn',\n",
       " 'make-up_mirror',\n",
       " 'microwave',\n",
       " 'mirror',\n",
       " 'mixer',\n",
       " 'phone',\n",
       " 'playground',\n",
       " 'pond',\n",
       " 'private_parking',\n",
       " 'radio',\n",
       " 'refrigerator',\n",
       " 'safe',\n",
       " 'sandpit',\n",
       " 'sandwich_toaster',\n",
       " 'shower',\n",
       " 'single_bed',\n",
       " 'slide',\n",
       " 'socket_covers',\n",
       " 'sofa',\n",
       " 'sofa_bed',\n",
       " 'spices',\n",
       " 'stair_gate',\n",
       " 'stereo_system',\n",
       " 'sun_loungers',\n",
       " 'sun_umbrella_',\n",
       " 'sunshade',\n",
       " 'swing',\n",
       " 'table_tennis',\n",
       " 'tea_towels',\n",
       " 'toaster',\n",
       " 'toilet',\n",
       " 'towels',\n",
       " 'toys',\n",
       " 'trampoline',\n",
       " 'underfloor_heating',\n",
       " 'vacuum_cleaner',\n",
       " 'walk-in_shower',\n",
       " 'wardrobe',\n",
       " 'wash_basin',\n",
       " 'windbreak',\n",
       " 'cooking',\n",
       " 'title',\n",
       " 'adult_count',\n",
       " 'children_count',\n",
       " 'pets_count',\n",
       " 'length_stay',\n",
       " 'holiday_region',\n",
       " 'option_allergic',\n",
       " 'option_non_smoking_only',\n",
       " 'option_holiday_with_your_dog',\n",
       " 'option_close_to_the_beach',\n",
       " 'option_wheelchair_accessible',\n",
       " 'option_family_travel',\n",
       " 'option_close_to_the_water',\n",
       " 'option_holiday_with_your_baby',\n",
       " 'option_long_term_holiday',\n",
       " 'option_fully_accessible',\n",
       " 'option_technicians',\n",
       " 'option_close_to_the_ski_lift',\n",
       " 'wheelchairaccess',\n",
       " 'babybed',\n",
       " 'internet',\n",
       " 'dishwasher',\n",
       " 'washingmachine',\n",
       " 'dryer',\n",
       " 'tv',\n",
       " 'pool',\n",
       " 'sauna',\n",
       " 'grill',\n",
       " 'garden',\n",
       " 'balcony',\n",
       " 'bathrooms',\n",
       " 'bedrooms',\n",
       " 'max_guests',\n",
       " 'living_area',\n",
       " 'lat',\n",
       " 'lng',\n",
       " 'inquiry_rate',\n",
       " 'prop_bin']"
      ]
     },
     "metadata": {},
     "execution_count": 80
    }
   ],
   "metadata": {}
  },
  {
   "cell_type": "code",
   "execution_count": 88,
   "source": [
    "# trying not to be a dummy by getting dummies\n",
    "master_dummies = pd.get_dummies(master_filter_1, columns=['holiday_region','title','option_allergic',\n",
    " 'option_non_smoking_only',\n",
    " 'option_holiday_with_your_dog',\n",
    " 'option_close_to_the_beach',\n",
    " 'option_wheelchair_accessible',\n",
    " 'option_family_travel',\n",
    " 'option_close_to_the_water',\n",
    " 'option_holiday_with_your_baby',\n",
    " 'option_long_term_holiday',\n",
    " 'option_fully_accessible',\n",
    " 'option_close_to_the_ski_lift'])"
   ],
   "outputs": [],
   "metadata": {}
  },
  {
   "cell_type": "code",
   "execution_count": null,
   "source": [
    "list(master_dummies.columns_values)"
   ],
   "outputs": [],
   "metadata": {}
  },
  {
   "cell_type": "code",
   "execution_count": 44,
   "source": [],
   "outputs": [],
   "metadata": {}
  },
  {
   "cell_type": "code",
   "execution_count": 89,
   "source": [
    "master_dummies.columns = master_dummies.columns.str.replace(\"[_]\", \"\")"
   ],
   "outputs": [],
   "metadata": {}
  },
  {
   "cell_type": "code",
   "execution_count": 18,
   "source": [
    "master_dummies.head(2)"
   ],
   "outputs": [
    {
     "output_type": "execute_result",
     "data": {
      "text/plain": [
       "                              listingid  month  meanpriceperday  top  \\\n",
       "0  c5c0fcff-faf3-5a07-a0d9-fe2857025cd8      1             65.0  0.0   \n",
       "1  6ec2303b-5083-50ef-bead-9e3d839f3caa      1             55.0  0.0   \n",
       "\n",
       "   inquirycount  childrensroom  corridor  diningroom  kitchen  kitchenliving  \\\n",
       "0             1            0.0       1.0         0.0      1.0            0.0   \n",
       "1             1            0.0       0.0         0.0      0.0            0.0   \n",
       "\n",
       "   ...  holidayregionSauerland  holidayregionSchwarzwald  \\\n",
       "0  ...                       0                         0   \n",
       "1  ...                       0                         0   \n",
       "\n",
       "   holidayregionSpreewald  holidayregionSylt  holidayregionSchsischeSchweiz  \\\n",
       "0                       0                  0                              0   \n",
       "1                       0                  0                              0   \n",
       "\n",
       "   holidayregionThringerWald  titleAnfrage  titleDirektbuchen  \\\n",
       "0                          0             1                  0   \n",
       "1                          0             1                  0   \n",
       "\n",
       "   titleExterneBuchung  titleVerbindlicheAnfrage  \n",
       "0                    0                         0  \n",
       "1                    0                         0  \n",
       "\n",
       "[2 rows x 173 columns]"
      ],
      "text/html": [
       "<div>\n",
       "<style scoped>\n",
       "    .dataframe tbody tr th:only-of-type {\n",
       "        vertical-align: middle;\n",
       "    }\n",
       "\n",
       "    .dataframe tbody tr th {\n",
       "        vertical-align: top;\n",
       "    }\n",
       "\n",
       "    .dataframe thead th {\n",
       "        text-align: right;\n",
       "    }\n",
       "</style>\n",
       "<table border=\"1\" class=\"dataframe\">\n",
       "  <thead>\n",
       "    <tr style=\"text-align: right;\">\n",
       "      <th></th>\n",
       "      <th>listingid</th>\n",
       "      <th>month</th>\n",
       "      <th>meanpriceperday</th>\n",
       "      <th>top</th>\n",
       "      <th>inquirycount</th>\n",
       "      <th>childrensroom</th>\n",
       "      <th>corridor</th>\n",
       "      <th>diningroom</th>\n",
       "      <th>kitchen</th>\n",
       "      <th>kitchenliving</th>\n",
       "      <th>...</th>\n",
       "      <th>holidayregionSauerland</th>\n",
       "      <th>holidayregionSchwarzwald</th>\n",
       "      <th>holidayregionSpreewald</th>\n",
       "      <th>holidayregionSylt</th>\n",
       "      <th>holidayregionSchsischeSchweiz</th>\n",
       "      <th>holidayregionThringerWald</th>\n",
       "      <th>titleAnfrage</th>\n",
       "      <th>titleDirektbuchen</th>\n",
       "      <th>titleExterneBuchung</th>\n",
       "      <th>titleVerbindlicheAnfrage</th>\n",
       "    </tr>\n",
       "  </thead>\n",
       "  <tbody>\n",
       "    <tr>\n",
       "      <th>0</th>\n",
       "      <td>c5c0fcff-faf3-5a07-a0d9-fe2857025cd8</td>\n",
       "      <td>1</td>\n",
       "      <td>65.0</td>\n",
       "      <td>0.0</td>\n",
       "      <td>1</td>\n",
       "      <td>0.0</td>\n",
       "      <td>1.0</td>\n",
       "      <td>0.0</td>\n",
       "      <td>1.0</td>\n",
       "      <td>0.0</td>\n",
       "      <td>...</td>\n",
       "      <td>0</td>\n",
       "      <td>0</td>\n",
       "      <td>0</td>\n",
       "      <td>0</td>\n",
       "      <td>0</td>\n",
       "      <td>0</td>\n",
       "      <td>1</td>\n",
       "      <td>0</td>\n",
       "      <td>0</td>\n",
       "      <td>0</td>\n",
       "    </tr>\n",
       "    <tr>\n",
       "      <th>1</th>\n",
       "      <td>6ec2303b-5083-50ef-bead-9e3d839f3caa</td>\n",
       "      <td>1</td>\n",
       "      <td>55.0</td>\n",
       "      <td>0.0</td>\n",
       "      <td>1</td>\n",
       "      <td>0.0</td>\n",
       "      <td>0.0</td>\n",
       "      <td>0.0</td>\n",
       "      <td>0.0</td>\n",
       "      <td>0.0</td>\n",
       "      <td>...</td>\n",
       "      <td>0</td>\n",
       "      <td>0</td>\n",
       "      <td>0</td>\n",
       "      <td>0</td>\n",
       "      <td>0</td>\n",
       "      <td>0</td>\n",
       "      <td>1</td>\n",
       "      <td>0</td>\n",
       "      <td>0</td>\n",
       "      <td>0</td>\n",
       "    </tr>\n",
       "  </tbody>\n",
       "</table>\n",
       "<p>2 rows × 173 columns</p>\n",
       "</div>"
      ]
     },
     "metadata": {},
     "execution_count": 18
    }
   ],
   "metadata": {}
  },
  {
   "cell_type": "markdown",
   "source": [
    "# move now to do the train test split and then the model"
   ],
   "metadata": {}
  },
  {
   "cell_type": "code",
   "execution_count": 90,
   "source": [
    "# create X and Y sets for train test split\n",
    "\n",
    "X = master_dummies.drop(['listingid','inquirycount'],axis=1)\n",
    "Y = master_dummies['inquirycount']"
   ],
   "outputs": [],
   "metadata": {}
  },
  {
   "cell_type": "code",
   "execution_count": 91,
   "source": [
    "# train test split\n",
    "\n",
    "from sklearn.model_selection import train_test_split\n",
    "\n",
    "X_train, X_test, y_train, y_test = train_test_split(X, Y, test_size=0.30, random_state=42)"
   ],
   "outputs": [],
   "metadata": {
    "slideshow": {
     "slide_type": "skip"
    }
   }
  },
  {
   "cell_type": "markdown",
   "source": [
    "## Trainining the model and tracking with MLFlow"
   ],
   "metadata": {}
  },
  {
   "cell_type": "code",
   "execution_count": 21,
   "source": [
    "# setting the MLFlow connection and experiment\n",
    "mlflow.set_tracking_uri(TRACKING_URI)\n",
    "mlflow.set_experiment(EXPERIMENT_NAME)\n",
    "mlflow.start_run()\n",
    "run = mlflow.active_run()"
   ],
   "outputs": [],
   "metadata": {
    "slideshow": {
     "slide_type": "slide"
    }
   }
  },
  {
   "cell_type": "code",
   "execution_count": 22,
   "source": [
    "print(\"Active run_id: {}\".format(run.info.run_id))"
   ],
   "outputs": [
    {
     "output_type": "stream",
     "name": "stdout",
     "text": [
      "Active run_id: 59a3c60ee78b4cea81003298dbc46ea8\n"
     ]
    }
   ],
   "metadata": {
    "slideshow": {
     "slide_type": "subslide"
    }
   }
  },
  {
   "cell_type": "code",
   "execution_count": 77,
   "source": [
    "#training the model\n",
    "# !pip install --upgrade pip\n",
    "# !pip install lightgbm\n",
    "\n",
    "from lightgbm import LGBMRegressor\n"
   ],
   "outputs": [],
   "metadata": {
    "slideshow": {
     "slide_type": "subslide"
    }
   }
  },
  {
   "cell_type": "code",
   "execution_count": 92,
   "source": [
    "# set LGBM parameters\n",
    "\n",
    "clf = LGBMRegressor(\n",
    "    n_estimators=400,\n",
    "    learning_rate=0.01,\n",
    "    colsample_bytree=.8,\n",
    "    max_depth=10,\n",
    "    reg_alpha=.1,\n",
    "    reg_lambda=.1,\n",
    "    min_split_gain=.01,\n",
    "    min_child_weight=2,\n",
    "    silent=-1,\n",
    "    verbose=-1,\n",
    ")\n",
    "\n",
    "clf.fit(\n",
    "    X_train, y_train, \n",
    "    eval_set= [(X_train, y_train), (X_test, y_test)], \n",
    "    eval_metric='rmse', verbose=100, early_stopping_rounds=100  #100\n",
    ")"
   ],
   "outputs": [
    {
     "output_type": "stream",
     "name": "stdout",
     "text": [
      "Training until validation scores don't improve for 100 rounds\n",
      "[100]\ttraining's rmse: 14.1822\ttraining's l2: 201.134\tvalid_1's rmse: 14.2445\tvalid_1's l2: 202.906\n",
      "[200]\ttraining's rmse: 7.84745\ttraining's l2: 61.5824\tvalid_1's rmse: 7.84809\tvalid_1's l2: 61.5926\n",
      "[300]\ttraining's rmse: 5.83941\ttraining's l2: 34.0987\tvalid_1's rmse: 5.82052\tvalid_1's l2: 33.8784\n",
      "[400]\ttraining's rmse: 5.11975\ttraining's l2: 26.2119\tvalid_1's rmse: 5.11093\tvalid_1's l2: 26.1216\n",
      "Did not meet early stopping. Best iteration is:\n",
      "[400]\ttraining's rmse: 5.11975\ttraining's l2: 26.2119\tvalid_1's rmse: 5.11093\tvalid_1's l2: 26.1216\n"
     ]
    },
    {
     "output_type": "execute_result",
     "data": {
      "text/plain": [
       "LGBMRegressor(colsample_bytree=0.8, learning_rate=0.01, max_depth=10,\n",
       "              min_child_weight=2, min_split_gain=0.01, n_estimators=400,\n",
       "              reg_alpha=0.1, reg_lambda=0.1, silent=-1, verbose=-1)"
      ]
     },
     "metadata": {},
     "execution_count": 92
    }
   ],
   "metadata": {}
  },
  {
   "cell_type": "code",
   "execution_count": 93,
   "source": [
    "# %%\n",
    "\n",
    "# !pip install shap\n",
    "\n",
    "import shap\n",
    "import matplotlib.pyplot as pl \n",
    "shap_values = shap.TreeExplainer(clf.booster_).shap_values(X_train.iloc[:10000,:])\n",
    "shap_values.shape\n",
    "\n",
    "\n",
    "# %%\n",
    "global_importances = np.abs(shap_values).mean(0)[:-1]\n",
    "\n",
    "\n",
    "# %%\n",
    "# make a bar chart that shows the global importance of the top 10 features\n",
    "inds = np.argsort(-global_importances)\n",
    "f = pl.figure(figsize=(5,10))\n",
    "y_pos = np.arange(10)\n",
    "inds2 = np.flip(inds[:10], 0)\n",
    "pl.barh(y_pos, global_importances[inds2], align='center', color=\"#1E88E5\")\n",
    "pl.yticks(y_pos, fontsize=13)\n",
    "pl.gca().set_yticklabels(X_train.columns[inds2])\n",
    "pl.xlabel('mean abs. SHAP value (impact on model output)', fontsize=13)\n",
    "pl.gca().xaxis.set_ticks_position('bottom')\n",
    "pl.gca().yaxis.set_ticks_position('none')\n",
    "pl.gca().spines['right'].set_visible(False)\n",
    "pl.gca().spines['top'].set_visible(False)"
   ],
   "outputs": [
    {
     "output_type": "display_data",
     "data": {
      "text/plain": [
       "<Figure size 360x720 with 1 Axes>"
      ],
      "image/png": "[encoded data removed]"
     },
     "metadata": {
      "needs_background": "light"
     }
    }
   ],
   "metadata": {}
  },
  {
   "cell_type": "code",
   "execution_count": null,
   "source": [
    "params = {\n",
    "      \"model\":\"LightGBMBoost\",\n",
    "      \"year\":'2019',\n",
    "      \"train_test_split\": 30,\n",
    "      \"normalized data\": 'yes',\n",
    "      \"metric\": 'rmse'\n",
    "  }"
   ],
   "outputs": [],
   "metadata": {
    "slideshow": {
     "slide_type": "slide"
    }
   }
  },
  {
   "cell_type": "code",
   "execution_count": null,
   "source": [
    "mlflow.log_params(params)\n",
    "mlflow.set_tag(\"running_from_jupyter\", \"baseline model 2019\")\n",
    "mlflow.log_metric(\"train -\" + \"RMSE\", rmse_train)\n",
    "mlflow.log_metric(\"test -\" + \"RMSE\", rmse_test)\n",
    "# mlflow.log_artifact(\"../models\")\n",
    "# mlflow.sklearn.log_model(reg, \"model\")\n",
    "mlflow.end_run()"
   ],
   "outputs": [],
   "metadata": {
    "slideshow": {
     "slide_type": "slide"
    }
   }
  },
  {
   "cell_type": "code",
   "execution_count": null,
   "source": [
    "mlflow.get_run(run_id=run.info.run_id)"
   ],
   "outputs": [],
   "metadata": {
    "slideshow": {
     "slide_type": "subslide"
    }
   }
  },
  {
   "cell_type": "markdown",
   "source": [
    "## Checking the experiments\n",
    "\n",
    "while the next cell is running you will not be able to run other cells in the notebook"
   ],
   "metadata": {}
  },
  {
   "cell_type": "code",
   "execution_count": null,
   "source": [
    "!mlflow ui"
   ],
   "outputs": [],
   "metadata": {
    "slideshow": {
     "slide_type": "slide"
    }
   }
  }
 ],
 "metadata": {
  "kernelspec": {
   "name": "python3",
   "display_name": "Python 3.8.5 64-bit ('.venv')"
  },
  "language_info": {
   "codemirror_mode": {
    "name": "ipython",
    "version": 3
   },
   "file_extension": ".py",
   "mimetype": "text/x-python",
   "name": "python",
   "nbconvert_exporter": "python",
   "pygments_lexer": "ipython3",
   "version": "3.8.5"
  },
  "metadata": {
   "interpreter": {
    "hash": "aee8b7b246df8f9039afb4144a1f6fd8d2ca17a180786b69acc140d282b71a49"
   }
  },
  "interpreter": {
   "hash": "50124f71d8f3ce399cc8f90e232172b7703f7c279ffa8eaec14b162019ba404a"
  }
 },
 "nbformat": 4,
 "nbformat_minor": 4
}