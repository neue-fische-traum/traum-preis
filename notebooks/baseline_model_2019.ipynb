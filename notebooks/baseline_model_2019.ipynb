{
 "cells": [
  {
   "cell_type": "code",
   "execution_count": 1,
   "source": [
    "import sys\n",
    "# adding to the path variables the one folder higher (locally, not changing system variables)\n",
    "sys.path.append(\"..\")\n",
    "import pandas as pd\n",
    "# from pandas_profiling import ProfileReport\n",
    "import numpy as np\n",
    "import warnings\n",
    "import mlflow\n",
    "from modeling.config import EXPERIMENT_NAME\n",
    "TRACKING_URI = open(\"../.mlflow_uri\").read().strip()\n",
    "\n",
    "ROOT = os.environ.get('PWD')\n",
    "\n",
    "warnings.filterwarnings('ignore')\n",
    "\n",
    "\n",
    "\n",
    "\n"
   ],
   "outputs": [],
   "metadata": {
    "slideshow": {
     "slide_type": "skip"
    }
   }
  },
  {
   "cell_type": "markdown",
   "source": [
    "# Data cleaning and feature engineering"
   ],
   "metadata": {}
  },
  {
   "cell_type": "code",
   "execution_count": null,
   "source": [
    "# set global default to be able to see all columns\n",
    "\n",
    "pd.set_option('display.max_rows', None)"
   ],
   "outputs": [],
   "metadata": {}
  },
  {
   "cell_type": "code",
   "execution_count": 2,
   "source": [
    "# read from csv\n",
    "\n",
    "master = pd.read_csv('../data/super_master.csv')"
   ],
   "outputs": [],
   "metadata": {}
  },
  {
   "cell_type": "code",
   "execution_count": null,
   "source": [
    "list(master.columns.values)"
   ],
   "outputs": [],
   "metadata": {}
  },
  {
   "cell_type": "code",
   "execution_count": 3,
   "source": [
    "# drop necessary columns\n",
    "drop_list = ['Unnamed: 0','Unnamed: 0.1','Unnamed: 0_x','Unnamed: 0_y','arrival_date']\n",
    "\n",
    "for i in drop_list:\n",
    "    master.drop([i],axis=1,inplace=True)"
   ],
   "outputs": [],
   "metadata": {}
  },
  {
   "cell_type": "code",
   "execution_count": null,
   "source": [
    "master.nunique()"
   ],
   "outputs": [],
   "metadata": {}
  },
  {
   "cell_type": "code",
   "execution_count": 6,
   "source": [
    "# select the filter that is appropriate for the data range. \n",
    "# NOTE: the range is not automatically reflected in the name of the dataframe--\n",
    "# but it should be put into the parameters for ML Flow\n",
    "\n",
    "# by default, the master set has both years, 2019 and 2020, so it needs no filter\n",
    "\n",
    "# master_filter = master\n",
    "\n",
    "# to filter only 2019 data\n",
    "master_filter = master.query('year == 2019')\n",
    "\n",
    "# to filter only 2020 data\n",
    "# master_filter = master.query('year == 2020')"
   ],
   "outputs": [],
   "metadata": {}
  },
  {
   "cell_type": "code",
   "execution_count": 7,
   "source": [
    "master_filter.tail()"
   ],
   "outputs": [
    {
     "output_type": "execute_result",
     "data": {
      "text/plain": [
       "                                   listing_id  top  year  month  \\\n",
       "6080430  55851128-00df-55ff-ad59-b3d7ea6fef39  1.0  2019     12   \n",
       "6080431  55851128-00df-55ff-ad59-b3d7ea6fef39  1.0  2019     12   \n",
       "6080432  55851128-00df-55ff-ad59-b3d7ea6fef39  1.0  2019     12   \n",
       "6080433  55851128-00df-55ff-ad59-b3d7ea6fef39  1.0  2019     12   \n",
       "6080434  55851128-00df-55ff-ad59-b3d7ea6fef39  1.0  2019     12   \n",
       "\n",
       "         inquiry_count  children`s_room  corridor  dining_room  kitchen  \\\n",
       "6080430              1              0.0       1.0          0.0      1.0   \n",
       "6080431              1              0.0       1.0          0.0      1.0   \n",
       "6080432              1              0.0       1.0          0.0      1.0   \n",
       "6080433              1              0.0       1.0          0.0      1.0   \n",
       "6080434              1              0.0       1.0          0.0      1.0   \n",
       "\n",
       "         kitchen_living  ...  garden  balcony  bathrooms  bedrooms  \\\n",
       "6080430             0.0  ...     1.0      0.0        1.0       1.0   \n",
       "6080431             0.0  ...     1.0      0.0        1.0       1.0   \n",
       "6080432             0.0  ...     1.0      0.0        1.0       1.0   \n",
       "6080433             0.0  ...     1.0      0.0        1.0       1.0   \n",
       "6080434             0.0  ...     1.0      0.0        1.0       1.0   \n",
       "\n",
       "         max_guests  living_area        lat       lng  \\\n",
       "6080430         4.0        112.0  54.409413  9.034851   \n",
       "6080431         4.0        112.0  54.409413  9.034851   \n",
       "6080432         4.0        112.0  54.409413  9.034851   \n",
       "6080433         4.0        112.0  54.409413  9.034851   \n",
       "6080434         4.0        112.0  54.409413  9.034851   \n",
       "\n",
       "         filled_in_price_per_day  inquiry_rate  \n",
       "6080430                     95.0          0.01  \n",
       "6080431                     95.0          0.01  \n",
       "6080432                     95.0          0.01  \n",
       "6080433                     95.0          0.01  \n",
       "6080434                     95.0          0.01  \n",
       "\n",
       "[5 rows x 145 columns]"
      ],
      "text/html": [
       "<div>\n",
       "<style scoped>\n",
       "    .dataframe tbody tr th:only-of-type {\n",
       "        vertical-align: middle;\n",
       "    }\n",
       "\n",
       "    .dataframe tbody tr th {\n",
       "        vertical-align: top;\n",
       "    }\n",
       "\n",
       "    .dataframe thead th {\n",
       "        text-align: right;\n",
       "    }\n",
       "</style>\n",
       "<table border=\"1\" class=\"dataframe\">\n",
       "  <thead>\n",
       "    <tr style=\"text-align: right;\">\n",
       "      <th></th>\n",
       "      <th>listing_id</th>\n",
       "      <th>top</th>\n",
       "      <th>year</th>\n",
       "      <th>month</th>\n",
       "      <th>inquiry_count</th>\n",
       "      <th>children`s_room</th>\n",
       "      <th>corridor</th>\n",
       "      <th>dining_room</th>\n",
       "      <th>kitchen</th>\n",
       "      <th>kitchen_living</th>\n",
       "      <th>...</th>\n",
       "      <th>garden</th>\n",
       "      <th>balcony</th>\n",
       "      <th>bathrooms</th>\n",
       "      <th>bedrooms</th>\n",
       "      <th>max_guests</th>\n",
       "      <th>living_area</th>\n",
       "      <th>lat</th>\n",
       "      <th>lng</th>\n",
       "      <th>filled_in_price_per_day</th>\n",
       "      <th>inquiry_rate</th>\n",
       "    </tr>\n",
       "  </thead>\n",
       "  <tbody>\n",
       "    <tr>\n",
       "      <th>6080430</th>\n",
       "      <td>55851128-00df-55ff-ad59-b3d7ea6fef39</td>\n",
       "      <td>1.0</td>\n",
       "      <td>2019</td>\n",
       "      <td>12</td>\n",
       "      <td>1</td>\n",
       "      <td>0.0</td>\n",
       "      <td>1.0</td>\n",
       "      <td>0.0</td>\n",
       "      <td>1.0</td>\n",
       "      <td>0.0</td>\n",
       "      <td>...</td>\n",
       "      <td>1.0</td>\n",
       "      <td>0.0</td>\n",
       "      <td>1.0</td>\n",
       "      <td>1.0</td>\n",
       "      <td>4.0</td>\n",
       "      <td>112.0</td>\n",
       "      <td>54.409413</td>\n",
       "      <td>9.034851</td>\n",
       "      <td>95.0</td>\n",
       "      <td>0.01</td>\n",
       "    </tr>\n",
       "    <tr>\n",
       "      <th>6080431</th>\n",
       "      <td>55851128-00df-55ff-ad59-b3d7ea6fef39</td>\n",
       "      <td>1.0</td>\n",
       "      <td>2019</td>\n",
       "      <td>12</td>\n",
       "      <td>1</td>\n",
       "      <td>0.0</td>\n",
       "      <td>1.0</td>\n",
       "      <td>0.0</td>\n",
       "      <td>1.0</td>\n",
       "      <td>0.0</td>\n",
       "      <td>...</td>\n",
       "      <td>1.0</td>\n",
       "      <td>0.0</td>\n",
       "      <td>1.0</td>\n",
       "      <td>1.0</td>\n",
       "      <td>4.0</td>\n",
       "      <td>112.0</td>\n",
       "      <td>54.409413</td>\n",
       "      <td>9.034851</td>\n",
       "      <td>95.0</td>\n",
       "      <td>0.01</td>\n",
       "    </tr>\n",
       "    <tr>\n",
       "      <th>6080432</th>\n",
       "      <td>55851128-00df-55ff-ad59-b3d7ea6fef39</td>\n",
       "      <td>1.0</td>\n",
       "      <td>2019</td>\n",
       "      <td>12</td>\n",
       "      <td>1</td>\n",
       "      <td>0.0</td>\n",
       "      <td>1.0</td>\n",
       "      <td>0.0</td>\n",
       "      <td>1.0</td>\n",
       "      <td>0.0</td>\n",
       "      <td>...</td>\n",
       "      <td>1.0</td>\n",
       "      <td>0.0</td>\n",
       "      <td>1.0</td>\n",
       "      <td>1.0</td>\n",
       "      <td>4.0</td>\n",
       "      <td>112.0</td>\n",
       "      <td>54.409413</td>\n",
       "      <td>9.034851</td>\n",
       "      <td>95.0</td>\n",
       "      <td>0.01</td>\n",
       "    </tr>\n",
       "    <tr>\n",
       "      <th>6080433</th>\n",
       "      <td>55851128-00df-55ff-ad59-b3d7ea6fef39</td>\n",
       "      <td>1.0</td>\n",
       "      <td>2019</td>\n",
       "      <td>12</td>\n",
       "      <td>1</td>\n",
       "      <td>0.0</td>\n",
       "      <td>1.0</td>\n",
       "      <td>0.0</td>\n",
       "      <td>1.0</td>\n",
       "      <td>0.0</td>\n",
       "      <td>...</td>\n",
       "      <td>1.0</td>\n",
       "      <td>0.0</td>\n",
       "      <td>1.0</td>\n",
       "      <td>1.0</td>\n",
       "      <td>4.0</td>\n",
       "      <td>112.0</td>\n",
       "      <td>54.409413</td>\n",
       "      <td>9.034851</td>\n",
       "      <td>95.0</td>\n",
       "      <td>0.01</td>\n",
       "    </tr>\n",
       "    <tr>\n",
       "      <th>6080434</th>\n",
       "      <td>55851128-00df-55ff-ad59-b3d7ea6fef39</td>\n",
       "      <td>1.0</td>\n",
       "      <td>2019</td>\n",
       "      <td>12</td>\n",
       "      <td>1</td>\n",
       "      <td>0.0</td>\n",
       "      <td>1.0</td>\n",
       "      <td>0.0</td>\n",
       "      <td>1.0</td>\n",
       "      <td>0.0</td>\n",
       "      <td>...</td>\n",
       "      <td>1.0</td>\n",
       "      <td>0.0</td>\n",
       "      <td>1.0</td>\n",
       "      <td>1.0</td>\n",
       "      <td>4.0</td>\n",
       "      <td>112.0</td>\n",
       "      <td>54.409413</td>\n",
       "      <td>9.034851</td>\n",
       "      <td>95.0</td>\n",
       "      <td>0.01</td>\n",
       "    </tr>\n",
       "  </tbody>\n",
       "</table>\n",
       "<p>5 rows × 145 columns</p>\n",
       "</div>"
      ]
     },
     "metadata": {},
     "execution_count": 7
    }
   ],
   "metadata": {}
  },
  {
   "cell_type": "code",
   "execution_count": null,
   "source": [
    "master_filter.isna().sum()"
   ],
   "outputs": [],
   "metadata": {}
  },
  {
   "cell_type": "markdown",
   "source": [
    "## the data set has no missing values"
   ],
   "metadata": {}
  },
  {
   "cell_type": "markdown",
   "source": [
    "# we now need to normalize on time to remove seasonality \n",
    "\n"
   ],
   "metadata": {}
  },
  {
   "cell_type": "code",
   "execution_count": 8,
   "source": [
    "import math \n",
    "\n",
    "# We normalize x values to match with the 0-2π cycle\n",
    "master_filter[\"month_norm\"] = 2 * math.pi * master_filter[\"month\"] / master_filter[\"month\"].max()\n",
    "\n",
    "master_filter[\"cos_month\"] = np.cos(master_filter[\"month_norm\"])\n",
    "master_filter[\"sin_month\"] = np.sin(master_filter[\"month_norm\"])"
   ],
   "outputs": [],
   "metadata": {}
  },
  {
   "cell_type": "code",
   "execution_count": null,
   "source": [
    "master_filter[\"month_norm\"]"
   ],
   "outputs": [],
   "metadata": {}
  },
  {
   "cell_type": "code",
   "execution_count": 9,
   "source": [
    "# save filtered, normed to csv\n",
    "\n",
    "master_filter.to_csv('../data/master_filter.csv')"
   ],
   "outputs": [],
   "metadata": {}
  },
  {
   "cell_type": "code",
   "execution_count": 2,
   "source": [
    "# read filtered, normed time data\n",
    "#  \n",
    "master_filter = pd.read_csv('../data/master_filter.csv')"
   ],
   "outputs": [],
   "metadata": {}
  },
  {
   "cell_type": "code",
   "execution_count": 3,
   "source": [
    "# generate the feature mean_price_per_day \n",
    "\n",
    "master_filter_price_agg = master_filter.groupby(['listing_id','month']).agg(['mean'])['filled_in_price_per_day'].reset_index()"
   ],
   "outputs": [],
   "metadata": {}
  },
  {
   "cell_type": "code",
   "execution_count": null,
   "source": [
    "master_filter_price_agg.head(2)"
   ],
   "outputs": [],
   "metadata": {}
  },
  {
   "cell_type": "code",
   "execution_count": 4,
   "source": [
    "\n",
    "master_filter_1 = pd.merge(master_filter_price_agg, master_filter, left_on=['listing_id','month'], right_on=['listing_id','month'], how='right')"
   ],
   "outputs": [],
   "metadata": {}
  },
  {
   "cell_type": "code",
   "execution_count": 5,
   "source": [
    "master_filter_1.rename(columns={'mean':'mean_price_per_day'},inplace=True)"
   ],
   "outputs": [],
   "metadata": {}
  },
  {
   "cell_type": "code",
   "execution_count": null,
   "source": [
    "list(master_filter_1.columns.values)"
   ],
   "outputs": [],
   "metadata": {}
  },
  {
   "cell_type": "code",
   "execution_count": 15,
   "source": [
    "# check boxplots for mean max min\n",
    "import seaborn as sns\n",
    "import matplotlib as plt\n",
    "\n",
    "sns.boxplot( y=master_filter_1['mean_price_per_day'] );\n"
   ],
   "outputs": [
    {
     "output_type": "display_data",
     "data": {
      "text/plain": [
       "<Figure size 432x288 with 1 Axes>"
      ],
      "image/png": "[encoded data removed]"
     },
     "metadata": {
      "needs_background": "light"
     }
    }
   ],
   "metadata": {}
  },
  {
   "cell_type": "code",
   "execution_count": 16,
   "source": [
    "sns.boxplot( y=master_filter_1['max_price_per_day'] );"
   ],
   "outputs": [
    {
     "output_type": "display_data",
     "data": {
      "text/plain": [
       "<Figure size 432x288 with 1 Axes>"
      ],
      "image/png": "[encoded data removed]"
     },
     "metadata": {
      "needs_background": "light"
     }
    }
   ],
   "metadata": {}
  },
  {
   "cell_type": "code",
   "execution_count": 17,
   "source": [
    "sns.boxplot( y=master_filter_1['min_price_per_day'] );"
   ],
   "outputs": [
    {
     "output_type": "display_data",
     "data": {
      "text/plain": [
       "<Figure size 432x288 with 1 Axes>"
      ],
      "image/png": "[encoded data removed]"
     },
     "metadata": {
      "needs_background": "light"
     }
    }
   ],
   "metadata": {}
  },
  {
   "cell_type": "code",
   "execution_count": 8,
   "source": [
    "list(master_filter_1.columns.values)"
   ],
   "outputs": [
    {
     "output_type": "execute_result",
     "data": {
      "text/plain": [
       "['listing_id',\n",
       " 'mean_price_per_day',\n",
       " 'Unnamed: 0',\n",
       " 'top',\n",
       " 'inquiry_count',\n",
       " 'children`s_room',\n",
       " 'corridor',\n",
       " 'dining_room',\n",
       " 'kitchen',\n",
       " 'kitchen_living',\n",
       " 'living_bedroom',\n",
       " 'living_/_dining_room',\n",
       " 'living_room',\n",
       " 'separate_WC',\n",
       " 'storage_room',\n",
       " 'washroom',\n",
       " 'wellness',\n",
       " 'Blu-ray_player',\n",
       " 'CDs_DVDs',\n",
       " 'DVD-player',\n",
       " 'additional_bed',\n",
       " 'armchair',\n",
       " 'awning_',\n",
       " 'bath_towels',\n",
       " 'bathtub',\n",
       " 'beach_chair',\n",
       " 'bed_linen',\n",
       " 'bicycles',\n",
       " 'books',\n",
       " 'bread_service',\n",
       " 'bunk_bed',\n",
       " 'carport',\n",
       " 'central_heating',\n",
       " 'chest_of_drawers',\n",
       " \"child's_bed\",\n",
       " 'children_toilet_seat',\n",
       " 'cleaning_supplies',\n",
       " 'coffee_machine',\n",
       " 'colouring_book_pencils',\n",
       " 'crockery',\n",
       " 'desk',\n",
       " 'dining_table',\n",
       " 'double_bed',\n",
       " 'double_wash_basin',\n",
       " 'drying_rack',\n",
       " 'egg_cooker',\n",
       " 'fire_alarm',\n",
       " 'fireplace',\n",
       " 'first-aid_kit',\n",
       " 'flat_iron',\n",
       " 'fly_screen',\n",
       " 'food_processor',\n",
       " 'freezer',\n",
       " 'games',\n",
       " 'garage',\n",
       " 'garden_furniture',\n",
       " 'garden_shed',\n",
       " 'hair_dryer',\n",
       " 'high_chair',\n",
       " 'hot_water',\n",
       " 'ironing_board',\n",
       " 'kettle',\n",
       " 'laundry_service',\n",
       " 'lawn',\n",
       " 'make-up_mirror',\n",
       " 'microwave',\n",
       " 'mirror',\n",
       " 'mixer',\n",
       " 'phone',\n",
       " 'playground',\n",
       " 'pond',\n",
       " 'private_parking',\n",
       " 'radio',\n",
       " 'refrigerator',\n",
       " 'safe',\n",
       " 'sandpit',\n",
       " 'sandwich_toaster',\n",
       " 'shower',\n",
       " 'single_bed',\n",
       " 'slide',\n",
       " 'socket_covers',\n",
       " 'sofa',\n",
       " 'sofa_bed',\n",
       " 'spices',\n",
       " 'stair_gate',\n",
       " 'stereo_system',\n",
       " 'sun_loungers',\n",
       " 'sun_umbrella_',\n",
       " 'sunshade',\n",
       " 'swing',\n",
       " 'table_tennis',\n",
       " 'tea_towels',\n",
       " 'toaster',\n",
       " 'toilet',\n",
       " 'towels',\n",
       " 'toys',\n",
       " 'trampoline',\n",
       " 'underfloor_heating',\n",
       " 'vacuum_cleaner',\n",
       " 'walk-in_shower',\n",
       " 'wardrobe',\n",
       " 'wash_basin',\n",
       " 'windbreak',\n",
       " 'cooking',\n",
       " 'title',\n",
       " 'adult_count',\n",
       " 'children_count',\n",
       " 'pets_count',\n",
       " 'length_stay',\n",
       " 'holiday_region',\n",
       " 'property_type',\n",
       " 'option_allergic',\n",
       " 'option_non_smoking_only',\n",
       " 'option_holiday_with_your_pet',\n",
       " 'option_close_to_the_beach',\n",
       " 'wheelchairaccess',\n",
       " 'babybed',\n",
       " 'internet',\n",
       " 'dishwasher',\n",
       " 'washingmachine',\n",
       " 'dryer',\n",
       " 'tv',\n",
       " 'pool',\n",
       " 'sauna',\n",
       " 'grill',\n",
       " 'garden',\n",
       " 'balcony',\n",
       " 'bathrooms',\n",
       " 'bedrooms',\n",
       " 'max_guests',\n",
       " 'living_area',\n",
       " 'lat',\n",
       " 'lng',\n",
       " 'inquiry_rate',\n",
       " 'cos_month',\n",
       " 'sin_month']"
      ]
     },
     "metadata": {},
     "execution_count": 8
    }
   ],
   "metadata": {}
  },
  {
   "cell_type": "code",
   "execution_count": 7,
   "source": [
    "# drop more things that need not be in the data set\n",
    "\n",
    "drop_list = ['filled_in_price_per_day','option_wheelchair_accessible','option_family_travel',\n",
    "'option_close_to_the_water','option_holiday_with_your_baby',\n",
    " 'option_long_term_holiday',\n",
    " 'option_fully_accessible',\n",
    " 'option_technicians',\n",
    " 'option_close_to_the_ski_lift','max_price_per_day',\n",
    " 'min_price_per_day','month_norm','year','month',\n",
    " 'option_holiday_with_your_dog','option_holiday_with_your_horse']\n",
    "\n",
    "for i in drop_list:\n",
    "    master_filter_1.drop([i],axis=1,inplace=True)"
   ],
   "outputs": [],
   "metadata": {}
  },
  {
   "cell_type": "code",
   "execution_count": 26,
   "source": [
    "# save to csv if desired: this is the normed, filtered set with agg price data for the years in question\n",
    "\n",
    "master_filter_1.to_csv('../data/master_filter_price_agg.csv')"
   ],
   "outputs": [],
   "metadata": {}
  },
  {
   "cell_type": "code",
   "execution_count": 3,
   "source": [
    "master_filter_1 = pd.read_csv('../data/master_filter_price_agg.csv')"
   ],
   "outputs": [],
   "metadata": {}
  },
  {
   "cell_type": "code",
   "execution_count": 9,
   "source": [
    "master_filter_1['property_type'].unique()"
   ],
   "outputs": [
    {
     "output_type": "execute_result",
     "data": {
      "text/plain": [
       "array(['holiday_apartment', 'holiday_houses'], dtype=object)"
      ]
     },
     "metadata": {},
     "execution_count": 9
    }
   ],
   "metadata": {}
  },
  {
   "cell_type": "code",
   "execution_count": 10,
   "source": [
    "# convert property types into binary: holiday apartment = 0, and holiday_houses = 1\n",
    "master_filter_1['prop_bin'] = 1\n"
   ],
   "outputs": [],
   "metadata": {}
  },
  {
   "cell_type": "code",
   "execution_count": 11,
   "source": [
    "master_filter_1.loc[master_filter_1['property_type'] == 'holiday_apartment', 'prop_bin'] = 0"
   ],
   "outputs": [],
   "metadata": {}
  },
  {
   "cell_type": "code",
   "execution_count": 30,
   "source": [
    "master_filter_1.head()"
   ],
   "outputs": [
    {
     "output_type": "execute_result",
     "data": {
      "text/plain": [
       "                             listing_id  mean_price_per_day  top  \\\n",
       "0  c5c0fcff-faf3-5a07-a0d9-fe2857025cd8                65.0  0.0   \n",
       "1  6ec2303b-5083-50ef-bead-9e3d839f3caa                55.0  0.0   \n",
       "2  bfeddf97-945f-5cd4-96e4-dcbe170e8410                54.0  0.0   \n",
       "3  1c883ca8-3a96-56b0-b8e9-1d9f7f4a9180                60.0  0.0   \n",
       "4  e8224b68-1c9b-5464-8c28-565798996ea5                50.0  0.0   \n",
       "\n",
       "   inquiry_count  children`s_room  corridor  dining_room  kitchen  \\\n",
       "0              1              0.0       1.0          0.0      1.0   \n",
       "1              1              0.0       0.0          0.0      0.0   \n",
       "2              1              0.0       0.0          0.0      1.0   \n",
       "3              1              0.0       0.0          0.0      0.0   \n",
       "4              1              0.0       0.0          0.0      1.0   \n",
       "\n",
       "   kitchen_living  living_bedroom  ...  bedrooms  max_guests  living_area  \\\n",
       "0             0.0             0.0  ...       1.0         2.0         60.0   \n",
       "1             0.0             0.0  ...       2.0         4.0         65.0   \n",
       "2             0.0             1.0  ...       0.0         3.0         40.0   \n",
       "3             0.0             0.0  ...       1.0         2.0         81.0   \n",
       "4             0.0             0.0  ...       1.0         3.0         45.0   \n",
       "\n",
       "         lat        lng  filled_in_price_per_day  inquiry_rate  cos_month  \\\n",
       "0  53.626845   7.293929                     65.0          0.04   0.866025   \n",
       "1  53.207069   7.986032                     55.0          0.02   0.866025   \n",
       "2  53.938466  10.678566                     54.0          0.01   0.866025   \n",
       "3  51.271444   8.546197                     60.0          0.02   0.500000   \n",
       "4  49.343352   8.109466                     50.0          0.01   0.500000   \n",
       "\n",
       "   sin_month  prop_bin  \n",
       "0   0.500000         0  \n",
       "1   0.500000         1  \n",
       "2   0.500000         0  \n",
       "3   0.866025         0  \n",
       "4   0.866025         0  \n",
       "\n",
       "[5 rows x 137 columns]"
      ],
      "text/html": [
       "<div>\n",
       "<style scoped>\n",
       "    .dataframe tbody tr th:only-of-type {\n",
       "        vertical-align: middle;\n",
       "    }\n",
       "\n",
       "    .dataframe tbody tr th {\n",
       "        vertical-align: top;\n",
       "    }\n",
       "\n",
       "    .dataframe thead th {\n",
       "        text-align: right;\n",
       "    }\n",
       "</style>\n",
       "<table border=\"1\" class=\"dataframe\">\n",
       "  <thead>\n",
       "    <tr style=\"text-align: right;\">\n",
       "      <th></th>\n",
       "      <th>listing_id</th>\n",
       "      <th>mean_price_per_day</th>\n",
       "      <th>top</th>\n",
       "      <th>inquiry_count</th>\n",
       "      <th>children`s_room</th>\n",
       "      <th>corridor</th>\n",
       "      <th>dining_room</th>\n",
       "      <th>kitchen</th>\n",
       "      <th>kitchen_living</th>\n",
       "      <th>living_bedroom</th>\n",
       "      <th>...</th>\n",
       "      <th>bedrooms</th>\n",
       "      <th>max_guests</th>\n",
       "      <th>living_area</th>\n",
       "      <th>lat</th>\n",
       "      <th>lng</th>\n",
       "      <th>filled_in_price_per_day</th>\n",
       "      <th>inquiry_rate</th>\n",
       "      <th>cos_month</th>\n",
       "      <th>sin_month</th>\n",
       "      <th>prop_bin</th>\n",
       "    </tr>\n",
       "  </thead>\n",
       "  <tbody>\n",
       "    <tr>\n",
       "      <th>0</th>\n",
       "      <td>c5c0fcff-faf3-5a07-a0d9-fe2857025cd8</td>\n",
       "      <td>65.0</td>\n",
       "      <td>0.0</td>\n",
       "      <td>1</td>\n",
       "      <td>0.0</td>\n",
       "      <td>1.0</td>\n",
       "      <td>0.0</td>\n",
       "      <td>1.0</td>\n",
       "      <td>0.0</td>\n",
       "      <td>0.0</td>\n",
       "      <td>...</td>\n",
       "      <td>1.0</td>\n",
       "      <td>2.0</td>\n",
       "      <td>60.0</td>\n",
       "      <td>53.626845</td>\n",
       "      <td>7.293929</td>\n",
       "      <td>65.0</td>\n",
       "      <td>0.04</td>\n",
       "      <td>0.866025</td>\n",
       "      <td>0.500000</td>\n",
       "      <td>0</td>\n",
       "    </tr>\n",
       "    <tr>\n",
       "      <th>1</th>\n",
       "      <td>6ec2303b-5083-50ef-bead-9e3d839f3caa</td>\n",
       "      <td>55.0</td>\n",
       "      <td>0.0</td>\n",
       "      <td>1</td>\n",
       "      <td>0.0</td>\n",
       "      <td>0.0</td>\n",
       "      <td>0.0</td>\n",
       "      <td>0.0</td>\n",
       "      <td>0.0</td>\n",
       "      <td>0.0</td>\n",
       "      <td>...</td>\n",
       "      <td>2.0</td>\n",
       "      <td>4.0</td>\n",
       "      <td>65.0</td>\n",
       "      <td>53.207069</td>\n",
       "      <td>7.986032</td>\n",
       "      <td>55.0</td>\n",
       "      <td>0.02</td>\n",
       "      <td>0.866025</td>\n",
       "      <td>0.500000</td>\n",
       "      <td>1</td>\n",
       "    </tr>\n",
       "    <tr>\n",
       "      <th>2</th>\n",
       "      <td>bfeddf97-945f-5cd4-96e4-dcbe170e8410</td>\n",
       "      <td>54.0</td>\n",
       "      <td>0.0</td>\n",
       "      <td>1</td>\n",
       "      <td>0.0</td>\n",
       "      <td>0.0</td>\n",
       "      <td>0.0</td>\n",
       "      <td>1.0</td>\n",
       "      <td>0.0</td>\n",
       "      <td>1.0</td>\n",
       "      <td>...</td>\n",
       "      <td>0.0</td>\n",
       "      <td>3.0</td>\n",
       "      <td>40.0</td>\n",
       "      <td>53.938466</td>\n",
       "      <td>10.678566</td>\n",
       "      <td>54.0</td>\n",
       "      <td>0.01</td>\n",
       "      <td>0.866025</td>\n",
       "      <td>0.500000</td>\n",
       "      <td>0</td>\n",
       "    </tr>\n",
       "    <tr>\n",
       "      <th>3</th>\n",
       "      <td>1c883ca8-3a96-56b0-b8e9-1d9f7f4a9180</td>\n",
       "      <td>60.0</td>\n",
       "      <td>0.0</td>\n",
       "      <td>1</td>\n",
       "      <td>0.0</td>\n",
       "      <td>0.0</td>\n",
       "      <td>0.0</td>\n",
       "      <td>0.0</td>\n",
       "      <td>0.0</td>\n",
       "      <td>0.0</td>\n",
       "      <td>...</td>\n",
       "      <td>1.0</td>\n",
       "      <td>2.0</td>\n",
       "      <td>81.0</td>\n",
       "      <td>51.271444</td>\n",
       "      <td>8.546197</td>\n",
       "      <td>60.0</td>\n",
       "      <td>0.02</td>\n",
       "      <td>0.500000</td>\n",
       "      <td>0.866025</td>\n",
       "      <td>0</td>\n",
       "    </tr>\n",
       "    <tr>\n",
       "      <th>4</th>\n",
       "      <td>e8224b68-1c9b-5464-8c28-565798996ea5</td>\n",
       "      <td>50.0</td>\n",
       "      <td>0.0</td>\n",
       "      <td>1</td>\n",
       "      <td>0.0</td>\n",
       "      <td>0.0</td>\n",
       "      <td>0.0</td>\n",
       "      <td>1.0</td>\n",
       "      <td>0.0</td>\n",
       "      <td>0.0</td>\n",
       "      <td>...</td>\n",
       "      <td>1.0</td>\n",
       "      <td>3.0</td>\n",
       "      <td>45.0</td>\n",
       "      <td>49.343352</td>\n",
       "      <td>8.109466</td>\n",
       "      <td>50.0</td>\n",
       "      <td>0.01</td>\n",
       "      <td>0.500000</td>\n",
       "      <td>0.866025</td>\n",
       "      <td>0</td>\n",
       "    </tr>\n",
       "  </tbody>\n",
       "</table>\n",
       "<p>5 rows × 137 columns</p>\n",
       "</div>"
      ]
     },
     "metadata": {},
     "execution_count": 30
    }
   ],
   "metadata": {}
  },
  {
   "cell_type": "code",
   "execution_count": 13,
   "source": [
    "# more drops\n",
    "drop_list =['property_type','Unnamed: 0']\n",
    "\n",
    "for i in drop_list:\n",
    "    master_filter_1.drop([i],axis=1,inplace=True)"
   ],
   "outputs": [],
   "metadata": {}
  },
  {
   "cell_type": "code",
   "execution_count": 14,
   "source": [
    "master_filter_1['title'].unique()"
   ],
   "outputs": [
    {
     "output_type": "execute_result",
     "data": {
      "text/plain": [
       "array(['Anfrage', 'Verbindliche Anfrage', 'Externe Buchung',\n",
       "       'Direktbuchen'], dtype=object)"
      ]
     },
     "metadata": {},
     "execution_count": 14
    }
   ],
   "metadata": {}
  },
  {
   "cell_type": "code",
   "execution_count": 15,
   "source": [
    "# trying not to be a dummy by getting dummies\n",
    "\n",
    "master_dummies = pd.get_dummies(master_filter_1, columns=['holiday_region','title'])"
   ],
   "outputs": [],
   "metadata": {}
  },
  {
   "cell_type": "code",
   "execution_count": 16,
   "source": [
    "# save to csv if desired: this is the normed, filtered set with agg price data for the years in question\n",
    "\n",
    "master_dummies.to_csv('../data/master_with_dummies.csv')"
   ],
   "outputs": [],
   "metadata": {}
  },
  {
   "cell_type": "code",
   "execution_count": 17,
   "source": [
    "# free up memory\n",
    "\n",
    "import gc\n",
    "del master_filter_1\n",
    "gc.collect()"
   ],
   "outputs": [
    {
     "output_type": "execute_result",
     "data": {
      "text/plain": [
       "6570"
      ]
     },
     "metadata": {},
     "execution_count": 17
    }
   ],
   "metadata": {}
  },
  {
   "cell_type": "code",
   "execution_count": 18,
   "source": [
    "# create X and Y sets for train test split\n",
    "\n",
    "X = master_dummies.drop(['listing_id','inquiry_count'],axis=1)\n",
    "Y = master_dummies['inquiry_count']"
   ],
   "outputs": [],
   "metadata": {}
  },
  {
   "cell_type": "code",
   "execution_count": 19,
   "source": [
    "# train test split\n",
    "\n",
    "from sklearn.model_selection import train_test_split\n",
    "\n",
    "X_train, X_test, y_train, y_test = train_test_split(X, Y, test_size=0.30, random_state=42)"
   ],
   "outputs": [],
   "metadata": {
    "slideshow": {
     "slide_type": "skip"
    }
   }
  },
  {
   "cell_type": "code",
   "execution_count": 20,
   "source": [
    "# we love to normalize our data!!\n",
    "\n",
    "from sklearn.preprocessing import MinMaxScaler\n"
   ],
   "outputs": [],
   "metadata": {}
  },
  {
   "cell_type": "code",
   "execution_count": 21,
   "source": [
    "the_list = ['mean_price_per_day','adult_count','children_count','pets_count','length_stay','bathrooms','bedrooms','max_guests','living_area']"
   ],
   "outputs": [],
   "metadata": {
    "slideshow": {
     "slide_type": "skip"
    }
   }
  },
  {
   "cell_type": "code",
   "execution_count": 22,
   "source": [
    "# Scaling with MinMaxScaler\n",
    "scaler_norm = MinMaxScaler()\n",
    "X_train_scaled_norm = scaler_norm.fit_transform(X_train[the_list])\n",
    "X_test_scaled_norm = scaler_norm.transform(X_test[the_list])"
   ],
   "outputs": [],
   "metadata": {}
  },
  {
   "cell_type": "code",
   "execution_count": 23,
   "source": [
    "# Concatenating normalized columns \n",
    "X_train_preprocessed_norm = np.concatenate([X_train_scaled_norm, X_train.drop(the_list, axis=1)], axis=1)\n",
    "X_test_preprocessed_norm = np.concatenate([X_test_scaled_norm, X_test.drop(the_list, axis=1)], axis=1)"
   ],
   "outputs": [],
   "metadata": {}
  },
  {
   "cell_type": "code",
   "execution_count": 24,
   "source": [
    "X_train_preprocessed_norm.shape"
   ],
   "outputs": [
    {
     "output_type": "execute_result",
     "data": {
      "text/plain": [
       "(1316826, 164)"
      ]
     },
     "metadata": {},
     "execution_count": 24
    }
   ],
   "metadata": {}
  },
  {
   "cell_type": "code",
   "execution_count": 25,
   "source": [
    "X_test_preprocessed_norm.shape"
   ],
   "outputs": [
    {
     "output_type": "execute_result",
     "data": {
      "text/plain": [
       "(564354, 164)"
      ]
     },
     "metadata": {},
     "execution_count": 25
    }
   ],
   "metadata": {}
  },
  {
   "cell_type": "markdown",
   "source": [
    "## Trainining the model and tracking with MLFlow"
   ],
   "metadata": {}
  },
  {
   "cell_type": "code",
   "execution_count": 26,
   "source": [
    "# setting the MLFlow connection and experiment\n",
    "mlflow.set_tracking_uri(TRACKING_URI)\n",
    "mlflow.set_experiment(EXPERIMENT_NAME)\n",
    "mlflow.start_run()\n",
    "run = mlflow.active_run()"
   ],
   "outputs": [],
   "metadata": {
    "slideshow": {
     "slide_type": "slide"
    }
   }
  },
  {
   "cell_type": "code",
   "execution_count": 27,
   "source": [
    "print(\"Active run_id: {}\".format(run.info.run_id))"
   ],
   "outputs": [
    {
     "output_type": "stream",
     "name": "stdout",
     "text": [
      "Active run_id: 846018c597f94904a0fb62a9381aa119\n"
     ]
    }
   ],
   "metadata": {
    "slideshow": {
     "slide_type": "subslide"
    }
   }
  },
  {
   "cell_type": "code",
   "execution_count": 28,
   "source": [
    "#training the model\n",
    "from sklearn.linear_model import LinearRegression\n",
    "reg = LinearRegression().fit(X_train_preprocessed_norm, y_train)"
   ],
   "outputs": [],
   "metadata": {
    "slideshow": {
     "slide_type": "subslide"
    }
   }
  },
  {
   "cell_type": "code",
   "execution_count": 29,
   "source": [
    "from sklearn.metrics import mean_squared_error\n",
    "y_train_pred = reg.predict(X_train_preprocessed_norm)\n",
    "rmse_train = mean_squared_error(y_train, y_train_pred,squared=False)\n",
    "print(rmse_train)"
   ],
   "outputs": [
    {
     "output_type": "stream",
     "name": "stdout",
     "text": [
      "36.27805630229738\n"
     ]
    }
   ],
   "metadata": {
    "slideshow": {
     "slide_type": "subslide"
    }
   }
  },
  {
   "cell_type": "code",
   "execution_count": 30,
   "source": [
    "y_test_pred = reg.predict(X_test_preprocessed_norm)\n",
    "rmse_test = mean_squared_error(y_test, y_test_pred,squared=False)\n",
    "print(rmse_test)"
   ],
   "outputs": [
    {
     "output_type": "stream",
     "name": "stdout",
     "text": [
      "36.234546132696565\n"
     ]
    }
   ],
   "metadata": {
    "slideshow": {
     "slide_type": "subslide"
    }
   }
  },
  {
   "cell_type": "code",
   "execution_count": 31,
   "source": [
    "params = {\n",
    "      \"year\":'2019',\n",
    "      \"train_test_split\": 30,\n",
    "      \"normalized data\": 'yes',\n",
    "      \"metric\": 'rmse'\n",
    "  }"
   ],
   "outputs": [
    {
     "output_type": "error",
     "ename": "SyntaxError",
     "evalue": "invalid syntax (2516774727.py, line 3)",
     "traceback": [
      "\u001b[0;36m  File \u001b[0;32m\"/var/folders/3p/pj5rwtf930q9x4z3nxgxbmgr0000gn/T/ipykernel_31073/2516774727.py\"\u001b[0;36m, line \u001b[0;32m3\u001b[0m\n\u001b[0;31m    \"train_test_split\": 30,\u001b[0m\n\u001b[0m                      ^\u001b[0m\n\u001b[0;31mSyntaxError\u001b[0m\u001b[0;31m:\u001b[0m invalid syntax\n"
     ]
    }
   ],
   "metadata": {
    "slideshow": {
     "slide_type": "slide"
    }
   }
  },
  {
   "cell_type": "code",
   "execution_count": null,
   "source": [
    "mlflow.log_params(params)\n",
    "mlflow.set_tag(\"running_from_jupyter\", \"baseline model 2019\")\n",
    "mlflow.log_metric(\"train -\" + \"RMSE\", rmse_train)\n",
    "mlflow.log_metric(\"test -\" + \"RMSE\", rmse_test)\n",
    "# mlflow.log_artifact(\"../models\")\n",
    "# mlflow.sklearn.log_model(reg, \"model\")\n",
    "mlflow.end_run()"
   ],
   "outputs": [],
   "metadata": {
    "slideshow": {
     "slide_type": "slide"
    }
   }
  },
  {
   "cell_type": "code",
   "execution_count": null,
   "source": [
    "mlflow.get_run(run_id=run.info.run_id)"
   ],
   "outputs": [],
   "metadata": {
    "slideshow": {
     "slide_type": "subslide"
    }
   }
  },
  {
   "cell_type": "markdown",
   "source": [
    "## Checking the experiments\n",
    "\n",
    "while the next cell is running you will not be able to run other cells in the notebook"
   ],
   "metadata": {}
  },
  {
   "cell_type": "code",
   "execution_count": null,
   "source": [
    "!mlflow ui"
   ],
   "outputs": [],
   "metadata": {
    "slideshow": {
     "slide_type": "slide"
    }
   }
  }
 ],
 "metadata": {
  "kernelspec": {
   "name": "python3",
   "display_name": "Python 3.8.5 64-bit ('.venv')"
  },
  "language_info": {
   "codemirror_mode": {
    "name": "ipython",
    "version": 3
   },
   "file_extension": ".py",
   "mimetype": "text/x-python",
   "name": "python",
   "nbconvert_exporter": "python",
   "pygments_lexer": "ipython3",
   "version": "3.8.5"
  },
  "metadata": {
   "interpreter": {
    "hash": "aee8b7b246df8f9039afb4144a1f6fd8d2ca17a180786b69acc140d282b71a49"
   }
  },
  "interpreter": {
   "hash": "50124f71d8f3ce399cc8f90e232172b7703f7c279ffa8eaec14b162019ba404a"
  }
 },
 "nbformat": 4,
 "nbformat_minor": 4
}
