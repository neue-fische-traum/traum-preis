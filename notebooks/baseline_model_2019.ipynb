{
 "cells": [
  {
   "cell_type": "markdown",
   "source": [
<<<<<<< HEAD
    "# this notebook implements the feature engineering and basic code features to develop the baseline model and implement MLFlow"
=======
    "## Importing necessary libraries"
>>>>>>> c28b902f2954d51747b65ee757e1ab620af5b8d4
   ],
   "metadata": {}
  },
  {
<<<<<<< HEAD
   "cell_type": "code",
   "execution_count": null,
=======
   "cell_type": "code",
   "execution_count": null,
   "source": [],
   "outputs": [],
   "metadata": {}
  },
  {
   "cell_type": "code",
   "execution_count": 3,
>>>>>>> c28b902f2954d51747b65ee757e1ab620af5b8d4
   "source": [
    "import sys\n",
    "# adding to the path variables the one folder higher (locally, not changing system variables)\n",
    "sys.path.append(\"..\")\n",
    "import pandas as pd\n",
    "# from pandas_profiling import ProfileReport\n",
    "import numpy as np\n",
    "import warnings\n",
    "import mlflow\n",
    "from modeling.config import EXPERIMENT_NAME\n",
    "TRACKING_URI = open(\"../.mlflow_uri\").read().strip()\n",
    "\n",
    "ROOT = os.environ.get('PWD')\n",
    "\n",
    "warnings.filterwarnings('ignore')\n",
    "\n",
    "\n",
    "\n",
    "\n"
   ],
   "outputs": [],
   "metadata": {
    "slideshow": {
     "slide_type": "skip"
    }
   }
  },
  {
   "cell_type": "markdown",
   "source": [],
   "metadata": {}
  },
  {
   "cell_type": "markdown",
   "source": [
    "## Data cleaning and feature engineering"
   ],
   "metadata": {}
  },
  {
   "cell_type": "code",
   "execution_count": 4,
   "source": [
    "# set global default to be able to see all columns\n",
    "\n",
    "pd.set_option('display.max_rows', None)"
   ],
   "outputs": [],
   "metadata": {}
  },
  {
   "cell_type": "code",
<<<<<<< HEAD
   "execution_count": null,
=======
   "execution_count": 5,
>>>>>>> c28b902f2954d51747b65ee757e1ab620af5b8d4
   "source": [
    "# read from csv\n",
    "\n",
    "master = pd.read_csv('../data/super_masterK.csv')"
   ],
   "outputs": [],
   "metadata": {}
  },
  {
   "cell_type": "code",
   "execution_count": 6,
   "source": [
    "list(master.columns.values)"
   ],
   "outputs": [
    {
     "output_type": "execute_result",
     "data": {
      "text/plain": [
       "['Unnamed: 0',\n",
       " 'listing_id',\n",
       " 'top',\n",
       " 'Unnamed: 0_x',\n",
       " 'year',\n",
       " 'month',\n",
       " 'inquiry_count',\n",
       " 'Unnamed: 0_y',\n",
       " '1_room_apartment',\n",
       " 'library',\n",
       " 'children`s_room',\n",
       " 'corridor',\n",
       " 'dining_room',\n",
       " 'en_suite_bathroom',\n",
       " 'gallery',\n",
       " 'heating_room',\n",
       " 'kitchen',\n",
       " 'kitchen_living',\n",
       " 'living_bedroom',\n",
       " 'living_/_dining_room',\n",
       " 'living_room',\n",
       " 'lounge',\n",
       " 'roof-deck',\n",
       " 'separate_WC',\n",
       " 'storage_room',\n",
       " 'veranda',\n",
       " 'washroom',\n",
       " 'wellness',\n",
       " 'winter_garden',\n",
       " 'Blu-ray_player',\n",
       " 'CDs_DVDs',\n",
       " 'DVD-player',\n",
       " 'VCR',\n",
       " 'additional_bed',\n",
       " 'alarm_system',\n",
       " 'armchair',\n",
       " 'awning_',\n",
       " 'baby_monitor',\n",
       " 'bath_towels',\n",
       " 'bathrobe',\n",
       " 'bathtub',\n",
       " 'beach_chair',\n",
       " 'bed_linen',\n",
       " 'bicycles',\n",
       " 'bidet',\n",
       " 'boat',\n",
       " 'boat_dock',\n",
       " 'books',\n",
       " 'bottle_warmer',\n",
       " 'bread_service',\n",
       " 'bunk_bed',\n",
       " 'carport',\n",
       " 'central_heating',\n",
       " 'changing_mat',\n",
       " 'chest_of_drawers',\n",
       " \"child's_bed\",\n",
       " 'children_toilet_seat',\n",
       " 'cleaning_supplies',\n",
       " 'coffee_machine',\n",
       " 'colouring_book_pencils',\n",
       " 'computer',\n",
       " 'crockery',\n",
       " 'darts',\n",
       " 'desk',\n",
       " 'dining_table',\n",
       " 'double_bed',\n",
       " 'double_wash_basin',\n",
       " 'drying_rack',\n",
       " 'egg_cooker',\n",
       " 'exercise_room',\n",
       " 'fan',\n",
       " 'fax',\n",
       " 'fire_alarm',\n",
       " 'fireplace',\n",
       " 'first-aid_kit',\n",
       " 'flat_iron',\n",
       " 'fly_screen',\n",
       " 'folding_bed',\n",
       " 'food_processor',\n",
       " 'freezer',\n",
       " 'game_console',\n",
       " 'games',\n",
       " 'garage',\n",
       " 'garden_furniture',\n",
       " 'garden_shed',\n",
       " 'guest_toilet',\n",
       " 'hair_dryer',\n",
       " 'high_chair',\n",
       " 'hot_tub',\n",
       " 'hot_water',\n",
       " 'infrared_cabin',\n",
       " 'ironing_board',\n",
       " 'kettle',\n",
       " 'kingsize_bed',\n",
       " 'laundry_service',\n",
       " 'lawn',\n",
       " 'loft_bed',\n",
       " 'make-up_mirror',\n",
       " 'microwave',\n",
       " 'mirror',\n",
       " 'mixer',\n",
       " 'outdoor_shower',\n",
       " 'phone',\n",
       " 'piano',\n",
       " 'pier',\n",
       " 'playground',\n",
       " 'pond',\n",
       " 'pool_table',\n",
       " 'private_parking',\n",
       " 'radio',\n",
       " 'refrigerator',\n",
       " 'relaxation_room',\n",
       " 'room_service',\n",
       " 'safe',\n",
       " 'sandpit',\n",
       " 'sandwich_toaster',\n",
       " 'shared_swimming_pool',\n",
       " 'shoe_cabinet',\n",
       " 'shower',\n",
       " 'single_bed',\n",
       " 'slide',\n",
       " 'socket_covers',\n",
       " 'sofa',\n",
       " 'sofa_bed',\n",
       " 'spices',\n",
       " 'stair_gate',\n",
       " 'steam_bath',\n",
       " 'stereo_system',\n",
       " 'sun_loungers',\n",
       " 'sun_umbrella_',\n",
       " 'sunshade',\n",
       " 'swimming_pool',\n",
       " 'swing',\n",
       " 'table_football',\n",
       " 'table_tennis',\n",
       " 'tanning_bed',\n",
       " 'tea_towels',\n",
       " 'toaster',\n",
       " 'toilet',\n",
       " 'towels',\n",
       " 'toys',\n",
       " 'trampoline',\n",
       " 'underfloor_heating',\n",
       " 'vacuum_cleaner',\n",
       " 'walk-in_shower',\n",
       " 'wall_bed',\n",
       " 'wardrobe',\n",
       " 'wash_basin',\n",
       " 'water_bed',\n",
       " 'windbreak',\n",
       " 'cooking',\n",
       " 'title',\n",
       " 'adult_count',\n",
       " 'children_count',\n",
       " 'pets_count',\n",
       " 'departure_date',\n",
       " 'length_stay',\n",
       " 'holiday_region',\n",
       " 'property_type',\n",
       " 'option_allergic',\n",
       " 'option_non_smoking_only',\n",
       " 'option_holiday_with_your_pet',\n",
       " 'option_holiday_with_your_horse',\n",
       " 'option_holiday_with_your_dog',\n",
       " 'option_close_to_the_beach',\n",
       " 'option_wheelchair_accessible',\n",
       " 'option_family_travel',\n",
       " 'option_close_to_the_water',\n",
       " 'option_holiday_with_your_baby',\n",
       " 'option_long_term_holiday',\n",
       " 'option_fully_accessible',\n",
       " 'option_technicians',\n",
       " 'option_close_to_the_ski_lift',\n",
       " 'wheelchairaccess',\n",
       " 'babybed',\n",
       " 'internet',\n",
       " 'dishwasher',\n",
       " 'washingmachine',\n",
       " 'dryer',\n",
       " 'tv',\n",
       " 'pool',\n",
       " 'sauna',\n",
       " 'grill',\n",
       " 'garden',\n",
       " 'terrace',\n",
       " 'balcony',\n",
       " 'bathrooms',\n",
       " 'bedrooms',\n",
       " 'max_guests',\n",
       " 'living_area',\n",
       " 'lat',\n",
       " 'lng',\n",
       " 'filled_in_price_per_day',\n",
       " 'inquiry_rate']"
      ]
     },
     "metadata": {},
     "execution_count": 6
    }
   ],
   "metadata": {}
  },
  {
   "cell_type": "code",
<<<<<<< HEAD
   "execution_count": null,
=======
   "execution_count": 7,
>>>>>>> c28b902f2954d51747b65ee757e1ab620af5b8d4
   "source": [
    "# drop necessary columns\n",
    "drop_list = ['Unnamed: 0',\n",
    "'Unnamed: 0_x','Unnamed: 0_y']\n",
    "\n",
    "for i in drop_list:\n",
    "    master.drop([i],axis=1,inplace=True)"
   ],
   "outputs": [
    {
     "output_type": "error",
     "ename": "KeyboardInterrupt",
     "evalue": "",
     "traceback": [
      "\u001b[0;31m---------------------------------------------------------------------------\u001b[0m",
      "\u001b[0;31mKeyboardInterrupt\u001b[0m                         Traceback (most recent call last)",
      "\u001b[0;32m/var/folders/f3/z2tpzycd57bfz6359zgkz9f00000gn/T/ipykernel_21129/2010597995.py\u001b[0m in \u001b[0;36m<module>\u001b[0;34m\u001b[0m\n\u001b[1;32m      4\u001b[0m \u001b[0;34m\u001b[0m\u001b[0m\n\u001b[1;32m      5\u001b[0m \u001b[0;32mfor\u001b[0m \u001b[0mi\u001b[0m \u001b[0;32min\u001b[0m \u001b[0mdrop_list\u001b[0m\u001b[0;34m:\u001b[0m\u001b[0;34m\u001b[0m\u001b[0;34m\u001b[0m\u001b[0m\n\u001b[0;32m----> 6\u001b[0;31m     \u001b[0mmaster\u001b[0m\u001b[0;34m.\u001b[0m\u001b[0mdrop\u001b[0m\u001b[0;34m(\u001b[0m\u001b[0;34m[\u001b[0m\u001b[0mi\u001b[0m\u001b[0;34m]\u001b[0m\u001b[0;34m,\u001b[0m\u001b[0maxis\u001b[0m\u001b[0;34m=\u001b[0m\u001b[0;36m1\u001b[0m\u001b[0;34m,\u001b[0m\u001b[0minplace\u001b[0m\u001b[0;34m=\u001b[0m\u001b[0;32mTrue\u001b[0m\u001b[0;34m)\u001b[0m\u001b[0;34m\u001b[0m\u001b[0;34m\u001b[0m\u001b[0m\n\u001b[0m",
      "\u001b[0;32m~/neuefische-traum/traum-preis/.venv/lib/python3.8/site-packages/pandas/core/frame.py\u001b[0m in \u001b[0;36mdrop\u001b[0;34m(self, labels, axis, index, columns, level, inplace, errors)\u001b[0m\n\u001b[1;32m   4303\u001b[0m                 \u001b[0mweight\u001b[0m  \u001b[0;36m1.0\u001b[0m     \u001b[0;36m0.8\u001b[0m\u001b[0;34m\u001b[0m\u001b[0;34m\u001b[0m\u001b[0m\n\u001b[1;32m   4304\u001b[0m         \"\"\"\n\u001b[0;32m-> 4305\u001b[0;31m         return super().drop(\n\u001b[0m\u001b[1;32m   4306\u001b[0m             \u001b[0mlabels\u001b[0m\u001b[0;34m=\u001b[0m\u001b[0mlabels\u001b[0m\u001b[0;34m,\u001b[0m\u001b[0;34m\u001b[0m\u001b[0;34m\u001b[0m\u001b[0m\n\u001b[1;32m   4307\u001b[0m             \u001b[0maxis\u001b[0m\u001b[0;34m=\u001b[0m\u001b[0maxis\u001b[0m\u001b[0;34m,\u001b[0m\u001b[0;34m\u001b[0m\u001b[0;34m\u001b[0m\u001b[0m\n",
      "\u001b[0;32m~/neuefische-traum/traum-preis/.venv/lib/python3.8/site-packages/pandas/core/generic.py\u001b[0m in \u001b[0;36mdrop\u001b[0;34m(self, labels, axis, index, columns, level, inplace, errors)\u001b[0m\n\u001b[1;32m   4150\u001b[0m         \u001b[0;32mfor\u001b[0m \u001b[0maxis\u001b[0m\u001b[0;34m,\u001b[0m \u001b[0mlabels\u001b[0m \u001b[0;32min\u001b[0m \u001b[0maxes\u001b[0m\u001b[0;34m.\u001b[0m\u001b[0mitems\u001b[0m\u001b[0;34m(\u001b[0m\u001b[0;34m)\u001b[0m\u001b[0;34m:\u001b[0m\u001b[0;34m\u001b[0m\u001b[0;34m\u001b[0m\u001b[0m\n\u001b[1;32m   4151\u001b[0m             \u001b[0;32mif\u001b[0m \u001b[0mlabels\u001b[0m \u001b[0;32mis\u001b[0m \u001b[0;32mnot\u001b[0m \u001b[0;32mNone\u001b[0m\u001b[0;34m:\u001b[0m\u001b[0;34m\u001b[0m\u001b[0;34m\u001b[0m\u001b[0m\n\u001b[0;32m-> 4152\u001b[0;31m                 \u001b[0mobj\u001b[0m \u001b[0;34m=\u001b[0m \u001b[0mobj\u001b[0m\u001b[0;34m.\u001b[0m\u001b[0m_drop_axis\u001b[0m\u001b[0;34m(\u001b[0m\u001b[0mlabels\u001b[0m\u001b[0;34m,\u001b[0m \u001b[0maxis\u001b[0m\u001b[0;34m,\u001b[0m \u001b[0mlevel\u001b[0m\u001b[0;34m=\u001b[0m\u001b[0mlevel\u001b[0m\u001b[0;34m,\u001b[0m \u001b[0merrors\u001b[0m\u001b[0;34m=\u001b[0m\u001b[0merrors\u001b[0m\u001b[0;34m)\u001b[0m\u001b[0;34m\u001b[0m\u001b[0;34m\u001b[0m\u001b[0m\n\u001b[0m\u001b[1;32m   4153\u001b[0m \u001b[0;34m\u001b[0m\u001b[0m\n\u001b[1;32m   4154\u001b[0m         \u001b[0;32mif\u001b[0m \u001b[0minplace\u001b[0m\u001b[0;34m:\u001b[0m\u001b[0;34m\u001b[0m\u001b[0;34m\u001b[0m\u001b[0m\n",
      "\u001b[0;32m~/neuefische-traum/traum-preis/.venv/lib/python3.8/site-packages/pandas/core/generic.py\u001b[0m in \u001b[0;36m_drop_axis\u001b[0;34m(self, labels, axis, level, errors)\u001b[0m\n\u001b[1;32m   4186\u001b[0m             \u001b[0;32melse\u001b[0m\u001b[0;34m:\u001b[0m\u001b[0;34m\u001b[0m\u001b[0;34m\u001b[0m\u001b[0m\n\u001b[1;32m   4187\u001b[0m                 \u001b[0mnew_axis\u001b[0m \u001b[0;34m=\u001b[0m \u001b[0maxis\u001b[0m\u001b[0;34m.\u001b[0m\u001b[0mdrop\u001b[0m\u001b[0;34m(\u001b[0m\u001b[0mlabels\u001b[0m\u001b[0;34m,\u001b[0m \u001b[0merrors\u001b[0m\u001b[0;34m=\u001b[0m\u001b[0merrors\u001b[0m\u001b[0;34m)\u001b[0m\u001b[0;34m\u001b[0m\u001b[0;34m\u001b[0m\u001b[0m\n\u001b[0;32m-> 4188\u001b[0;31m             \u001b[0mresult\u001b[0m \u001b[0;34m=\u001b[0m \u001b[0mself\u001b[0m\u001b[0;34m.\u001b[0m\u001b[0mreindex\u001b[0m\u001b[0;34m(\u001b[0m\u001b[0;34m**\u001b[0m\u001b[0;34m{\u001b[0m\u001b[0maxis_name\u001b[0m\u001b[0;34m:\u001b[0m \u001b[0mnew_axis\u001b[0m\u001b[0;34m}\u001b[0m\u001b[0;34m)\u001b[0m\u001b[0;34m\u001b[0m\u001b[0;34m\u001b[0m\u001b[0m\n\u001b[0m\u001b[1;32m   4189\u001b[0m \u001b[0;34m\u001b[0m\u001b[0m\n\u001b[1;32m   4190\u001b[0m         \u001b[0;31m# Case for non-unique axis\u001b[0m\u001b[0;34m\u001b[0m\u001b[0;34m\u001b[0m\u001b[0;34m\u001b[0m\u001b[0m\n",
      "\u001b[0;32m~/neuefische-traum/traum-preis/.venv/lib/python3.8/site-packages/pandas/util/_decorators.py\u001b[0m in \u001b[0;36mwrapper\u001b[0;34m(*args, **kwargs)\u001b[0m\n\u001b[1;32m    310\u001b[0m         \u001b[0;34m@\u001b[0m\u001b[0mwraps\u001b[0m\u001b[0;34m(\u001b[0m\u001b[0mfunc\u001b[0m\u001b[0;34m)\u001b[0m\u001b[0;34m\u001b[0m\u001b[0;34m\u001b[0m\u001b[0m\n\u001b[1;32m    311\u001b[0m         \u001b[0;32mdef\u001b[0m \u001b[0mwrapper\u001b[0m\u001b[0;34m(\u001b[0m\u001b[0;34m*\u001b[0m\u001b[0margs\u001b[0m\u001b[0;34m,\u001b[0m \u001b[0;34m**\u001b[0m\u001b[0mkwargs\u001b[0m\u001b[0;34m)\u001b[0m \u001b[0;34m->\u001b[0m \u001b[0mCallable\u001b[0m\u001b[0;34m[\u001b[0m\u001b[0;34m...\u001b[0m\u001b[0;34m,\u001b[0m \u001b[0mAny\u001b[0m\u001b[0;34m]\u001b[0m\u001b[0;34m:\u001b[0m\u001b[0;34m\u001b[0m\u001b[0;34m\u001b[0m\u001b[0m\n\u001b[0;32m--> 312\u001b[0;31m             \u001b[0;32mreturn\u001b[0m \u001b[0mfunc\u001b[0m\u001b[0;34m(\u001b[0m\u001b[0;34m*\u001b[0m\u001b[0margs\u001b[0m\u001b[0;34m,\u001b[0m \u001b[0;34m**\u001b[0m\u001b[0mkwargs\u001b[0m\u001b[0;34m)\u001b[0m\u001b[0;34m\u001b[0m\u001b[0;34m\u001b[0m\u001b[0m\n\u001b[0m\u001b[1;32m    313\u001b[0m \u001b[0;34m\u001b[0m\u001b[0m\n\u001b[1;32m    314\u001b[0m         \u001b[0mkind\u001b[0m \u001b[0;34m=\u001b[0m \u001b[0minspect\u001b[0m\u001b[0;34m.\u001b[0m\u001b[0mParameter\u001b[0m\u001b[0;34m.\u001b[0m\u001b[0mPOSITIONAL_OR_KEYWORD\u001b[0m\u001b[0;34m\u001b[0m\u001b[0;34m\u001b[0m\u001b[0m\n",
      "\u001b[0;32m~/neuefische-traum/traum-preis/.venv/lib/python3.8/site-packages/pandas/core/frame.py\u001b[0m in \u001b[0;36mreindex\u001b[0;34m(self, *args, **kwargs)\u001b[0m\n\u001b[1;32m   4171\u001b[0m         \u001b[0mkwargs\u001b[0m\u001b[0;34m.\u001b[0m\u001b[0mpop\u001b[0m\u001b[0;34m(\u001b[0m\u001b[0;34m\"axis\"\u001b[0m\u001b[0;34m,\u001b[0m \u001b[0;32mNone\u001b[0m\u001b[0;34m)\u001b[0m\u001b[0;34m\u001b[0m\u001b[0;34m\u001b[0m\u001b[0m\n\u001b[1;32m   4172\u001b[0m         \u001b[0mkwargs\u001b[0m\u001b[0;34m.\u001b[0m\u001b[0mpop\u001b[0m\u001b[0;34m(\u001b[0m\u001b[0;34m\"labels\"\u001b[0m\u001b[0;34m,\u001b[0m \u001b[0;32mNone\u001b[0m\u001b[0;34m)\u001b[0m\u001b[0;34m\u001b[0m\u001b[0;34m\u001b[0m\u001b[0m\n\u001b[0;32m-> 4173\u001b[0;31m         \u001b[0;32mreturn\u001b[0m \u001b[0msuper\u001b[0m\u001b[0;34m(\u001b[0m\u001b[0;34m)\u001b[0m\u001b[0;34m.\u001b[0m\u001b[0mreindex\u001b[0m\u001b[0;34m(\u001b[0m\u001b[0;34m**\u001b[0m\u001b[0mkwargs\u001b[0m\u001b[0;34m)\u001b[0m\u001b[0;34m\u001b[0m\u001b[0;34m\u001b[0m\u001b[0m\n\u001b[0m\u001b[1;32m   4174\u001b[0m \u001b[0;34m\u001b[0m\u001b[0m\n\u001b[1;32m   4175\u001b[0m     def drop(\n",
      "\u001b[0;32m~/neuefische-traum/traum-preis/.venv/lib/python3.8/site-packages/pandas/core/generic.py\u001b[0m in \u001b[0;36mreindex\u001b[0;34m(self, *args, **kwargs)\u001b[0m\n\u001b[1;32m   4806\u001b[0m \u001b[0;34m\u001b[0m\u001b[0m\n\u001b[1;32m   4807\u001b[0m         \u001b[0;31m# perform the reindex on the axes\u001b[0m\u001b[0;34m\u001b[0m\u001b[0;34m\u001b[0m\u001b[0;34m\u001b[0m\u001b[0m\n\u001b[0;32m-> 4808\u001b[0;31m         return self._reindex_axes(\n\u001b[0m\u001b[1;32m   4809\u001b[0m             \u001b[0maxes\u001b[0m\u001b[0;34m,\u001b[0m \u001b[0mlevel\u001b[0m\u001b[0;34m,\u001b[0m \u001b[0mlimit\u001b[0m\u001b[0;34m,\u001b[0m \u001b[0mtolerance\u001b[0m\u001b[0;34m,\u001b[0m \u001b[0mmethod\u001b[0m\u001b[0;34m,\u001b[0m \u001b[0mfill_value\u001b[0m\u001b[0;34m,\u001b[0m \u001b[0mcopy\u001b[0m\u001b[0;34m\u001b[0m\u001b[0;34m\u001b[0m\u001b[0m\n\u001b[1;32m   4810\u001b[0m         ).__finalize__(self, method=\"reindex\")\n",
      "\u001b[0;32m~/neuefische-traum/traum-preis/.venv/lib/python3.8/site-packages/pandas/core/frame.py\u001b[0m in \u001b[0;36m_reindex_axes\u001b[0;34m(self, axes, level, limit, tolerance, method, fill_value, copy)\u001b[0m\n\u001b[1;32m   4011\u001b[0m         \u001b[0mcolumns\u001b[0m \u001b[0;34m=\u001b[0m \u001b[0maxes\u001b[0m\u001b[0;34m[\u001b[0m\u001b[0;34m\"columns\"\u001b[0m\u001b[0;34m]\u001b[0m\u001b[0;34m\u001b[0m\u001b[0;34m\u001b[0m\u001b[0m\n\u001b[1;32m   4012\u001b[0m         \u001b[0;32mif\u001b[0m \u001b[0mcolumns\u001b[0m \u001b[0;32mis\u001b[0m \u001b[0;32mnot\u001b[0m \u001b[0;32mNone\u001b[0m\u001b[0;34m:\u001b[0m\u001b[0;34m\u001b[0m\u001b[0;34m\u001b[0m\u001b[0m\n\u001b[0;32m-> 4013\u001b[0;31m             frame = frame._reindex_columns(\n\u001b[0m\u001b[1;32m   4014\u001b[0m                 \u001b[0mcolumns\u001b[0m\u001b[0;34m,\u001b[0m \u001b[0mmethod\u001b[0m\u001b[0;34m,\u001b[0m \u001b[0mcopy\u001b[0m\u001b[0;34m,\u001b[0m \u001b[0mlevel\u001b[0m\u001b[0;34m,\u001b[0m \u001b[0mfill_value\u001b[0m\u001b[0;34m,\u001b[0m \u001b[0mlimit\u001b[0m\u001b[0;34m,\u001b[0m \u001b[0mtolerance\u001b[0m\u001b[0;34m\u001b[0m\u001b[0;34m\u001b[0m\u001b[0m\n\u001b[1;32m   4015\u001b[0m             )\n",
      "\u001b[0;32m~/neuefische-traum/traum-preis/.venv/lib/python3.8/site-packages/pandas/core/frame.py\u001b[0m in \u001b[0;36m_reindex_columns\u001b[0;34m(self, new_columns, method, copy, level, fill_value, limit, tolerance)\u001b[0m\n\u001b[1;32m   4056\u001b[0m             \u001b[0mnew_columns\u001b[0m\u001b[0;34m,\u001b[0m \u001b[0mmethod\u001b[0m\u001b[0;34m=\u001b[0m\u001b[0mmethod\u001b[0m\u001b[0;34m,\u001b[0m \u001b[0mlevel\u001b[0m\u001b[0;34m=\u001b[0m\u001b[0mlevel\u001b[0m\u001b[0;34m,\u001b[0m \u001b[0mlimit\u001b[0m\u001b[0;34m=\u001b[0m\u001b[0mlimit\u001b[0m\u001b[0;34m,\u001b[0m \u001b[0mtolerance\u001b[0m\u001b[0;34m=\u001b[0m\u001b[0mtolerance\u001b[0m\u001b[0;34m\u001b[0m\u001b[0;34m\u001b[0m\u001b[0m\n\u001b[1;32m   4057\u001b[0m         )\n\u001b[0;32m-> 4058\u001b[0;31m         return self._reindex_with_indexers(\n\u001b[0m\u001b[1;32m   4059\u001b[0m             \u001b[0;34m{\u001b[0m\u001b[0;36m1\u001b[0m\u001b[0;34m:\u001b[0m \u001b[0;34m[\u001b[0m\u001b[0mnew_columns\u001b[0m\u001b[0;34m,\u001b[0m \u001b[0mindexer\u001b[0m\u001b[0;34m]\u001b[0m\u001b[0;34m}\u001b[0m\u001b[0;34m,\u001b[0m\u001b[0;34m\u001b[0m\u001b[0;34m\u001b[0m\u001b[0m\n\u001b[1;32m   4060\u001b[0m             \u001b[0mcopy\u001b[0m\u001b[0;34m=\u001b[0m\u001b[0mcopy\u001b[0m\u001b[0;34m,\u001b[0m\u001b[0;34m\u001b[0m\u001b[0;34m\u001b[0m\u001b[0m\n",
      "\u001b[0;32m~/neuefische-traum/traum-preis/.venv/lib/python3.8/site-packages/pandas/core/generic.py\u001b[0m in \u001b[0;36m_reindex_with_indexers\u001b[0;34m(self, reindexers, fill_value, copy, allow_dups)\u001b[0m\n\u001b[1;32m   4872\u001b[0m \u001b[0;34m\u001b[0m\u001b[0m\n\u001b[1;32m   4873\u001b[0m             \u001b[0;31m# TODO: speed up on homogeneous DataFrame objects\u001b[0m\u001b[0;34m\u001b[0m\u001b[0;34m\u001b[0m\u001b[0;34m\u001b[0m\u001b[0m\n\u001b[0;32m-> 4874\u001b[0;31m             new_data = new_data.reindex_indexer(\n\u001b[0m\u001b[1;32m   4875\u001b[0m                 \u001b[0mindex\u001b[0m\u001b[0;34m,\u001b[0m\u001b[0;34m\u001b[0m\u001b[0;34m\u001b[0m\u001b[0m\n\u001b[1;32m   4876\u001b[0m                 \u001b[0mindexer\u001b[0m\u001b[0;34m,\u001b[0m\u001b[0;34m\u001b[0m\u001b[0;34m\u001b[0m\u001b[0m\n",
      "\u001b[0;32m~/neuefische-traum/traum-preis/.venv/lib/python3.8/site-packages/pandas/core/internals/managers.py\u001b[0m in \u001b[0;36mreindex_indexer\u001b[0;34m(self, new_axis, indexer, axis, fill_value, allow_dups, copy, consolidate, only_slice)\u001b[0m\n\u001b[1;32m   1305\u001b[0m \u001b[0;34m\u001b[0m\u001b[0m\n\u001b[1;32m   1306\u001b[0m         \u001b[0;32mif\u001b[0m \u001b[0maxis\u001b[0m \u001b[0;34m==\u001b[0m \u001b[0;36m0\u001b[0m\u001b[0;34m:\u001b[0m\u001b[0;34m\u001b[0m\u001b[0;34m\u001b[0m\u001b[0m\n\u001b[0;32m-> 1307\u001b[0;31m             new_blocks = self._slice_take_blocks_ax0(\n\u001b[0m\u001b[1;32m   1308\u001b[0m                 \u001b[0mindexer\u001b[0m\u001b[0;34m,\u001b[0m \u001b[0mfill_value\u001b[0m\u001b[0;34m=\u001b[0m\u001b[0mfill_value\u001b[0m\u001b[0;34m,\u001b[0m \u001b[0monly_slice\u001b[0m\u001b[0;34m=\u001b[0m\u001b[0monly_slice\u001b[0m\u001b[0;34m\u001b[0m\u001b[0;34m\u001b[0m\u001b[0m\n\u001b[1;32m   1309\u001b[0m             )\n",
      "\u001b[0;32m~/neuefische-traum/traum-preis/.venv/lib/python3.8/site-packages/pandas/core/internals/managers.py\u001b[0m in \u001b[0;36m_slice_take_blocks_ax0\u001b[0;34m(self, slice_or_indexer, fill_value, only_slice)\u001b[0m\n\u001b[1;32m   1435\u001b[0m                             \u001b[0mblocks\u001b[0m\u001b[0;34m.\u001b[0m\u001b[0mappend\u001b[0m\u001b[0;34m(\u001b[0m\u001b[0mnb\u001b[0m\u001b[0;34m)\u001b[0m\u001b[0;34m\u001b[0m\u001b[0;34m\u001b[0m\u001b[0m\n\u001b[1;32m   1436\u001b[0m                     \u001b[0;32melse\u001b[0m\u001b[0;34m:\u001b[0m\u001b[0;34m\u001b[0m\u001b[0;34m\u001b[0m\u001b[0m\n\u001b[0;32m-> 1437\u001b[0;31m                         \u001b[0mnb\u001b[0m \u001b[0;34m=\u001b[0m \u001b[0mblk\u001b[0m\u001b[0;34m.\u001b[0m\u001b[0mtake_nd\u001b[0m\u001b[0;34m(\u001b[0m\u001b[0mtaker\u001b[0m\u001b[0;34m,\u001b[0m \u001b[0maxis\u001b[0m\u001b[0;34m=\u001b[0m\u001b[0;36m0\u001b[0m\u001b[0;34m,\u001b[0m \u001b[0mnew_mgr_locs\u001b[0m\u001b[0;34m=\u001b[0m\u001b[0mmgr_locs\u001b[0m\u001b[0;34m)\u001b[0m\u001b[0;34m\u001b[0m\u001b[0;34m\u001b[0m\u001b[0m\n\u001b[0m\u001b[1;32m   1438\u001b[0m                         \u001b[0mblocks\u001b[0m\u001b[0;34m.\u001b[0m\u001b[0mappend\u001b[0m\u001b[0;34m(\u001b[0m\u001b[0mnb\u001b[0m\u001b[0;34m)\u001b[0m\u001b[0;34m\u001b[0m\u001b[0;34m\u001b[0m\u001b[0m\n\u001b[1;32m   1439\u001b[0m \u001b[0;34m\u001b[0m\u001b[0m\n",
      "\u001b[0;32m~/neuefische-traum/traum-preis/.venv/lib/python3.8/site-packages/pandas/core/internals/blocks.py\u001b[0m in \u001b[0;36mtake_nd\u001b[0;34m(self, indexer, axis, new_mgr_locs, fill_value)\u001b[0m\n\u001b[1;32m   1383\u001b[0m             \u001b[0mallow_fill\u001b[0m \u001b[0;34m=\u001b[0m \u001b[0;32mTrue\u001b[0m\u001b[0;34m\u001b[0m\u001b[0;34m\u001b[0m\u001b[0m\n\u001b[1;32m   1384\u001b[0m \u001b[0;34m\u001b[0m\u001b[0m\n\u001b[0;32m-> 1385\u001b[0;31m         new_values = algos.take_nd(\n\u001b[0m\u001b[1;32m   1386\u001b[0m             \u001b[0mvalues\u001b[0m\u001b[0;34m,\u001b[0m \u001b[0mindexer\u001b[0m\u001b[0;34m,\u001b[0m \u001b[0maxis\u001b[0m\u001b[0;34m=\u001b[0m\u001b[0maxis\u001b[0m\u001b[0;34m,\u001b[0m \u001b[0mallow_fill\u001b[0m\u001b[0;34m=\u001b[0m\u001b[0mallow_fill\u001b[0m\u001b[0;34m,\u001b[0m \u001b[0mfill_value\u001b[0m\u001b[0;34m=\u001b[0m\u001b[0mfill_value\u001b[0m\u001b[0;34m\u001b[0m\u001b[0;34m\u001b[0m\u001b[0m\n\u001b[1;32m   1387\u001b[0m         )\n",
      "\u001b[0;32m~/neuefische-traum/traum-preis/.venv/lib/python3.8/site-packages/pandas/core/algorithms.py\u001b[0m in \u001b[0;36mtake_nd\u001b[0;34m(arr, indexer, axis, out, fill_value, allow_fill)\u001b[0m\n\u001b[1;32m   1757\u001b[0m         \u001b[0marr\u001b[0m\u001b[0;34m.\u001b[0m\u001b[0mndim\u001b[0m\u001b[0;34m,\u001b[0m \u001b[0marr\u001b[0m\u001b[0;34m.\u001b[0m\u001b[0mdtype\u001b[0m\u001b[0;34m,\u001b[0m \u001b[0mout\u001b[0m\u001b[0;34m.\u001b[0m\u001b[0mdtype\u001b[0m\u001b[0;34m,\u001b[0m \u001b[0maxis\u001b[0m\u001b[0;34m=\u001b[0m\u001b[0maxis\u001b[0m\u001b[0;34m,\u001b[0m \u001b[0mmask_info\u001b[0m\u001b[0;34m=\u001b[0m\u001b[0mmask_info\u001b[0m\u001b[0;34m\u001b[0m\u001b[0;34m\u001b[0m\u001b[0m\n\u001b[1;32m   1758\u001b[0m     )\n\u001b[0;32m-> 1759\u001b[0;31m     \u001b[0mfunc\u001b[0m\u001b[0;34m(\u001b[0m\u001b[0marr\u001b[0m\u001b[0;34m,\u001b[0m \u001b[0mindexer\u001b[0m\u001b[0;34m,\u001b[0m \u001b[0mout\u001b[0m\u001b[0;34m,\u001b[0m \u001b[0mfill_value\u001b[0m\u001b[0;34m)\u001b[0m\u001b[0;34m\u001b[0m\u001b[0;34m\u001b[0m\u001b[0m\n\u001b[0m\u001b[1;32m   1760\u001b[0m \u001b[0;34m\u001b[0m\u001b[0m\n\u001b[1;32m   1761\u001b[0m     \u001b[0;32mif\u001b[0m \u001b[0mflip_order\u001b[0m\u001b[0;34m:\u001b[0m\u001b[0;34m\u001b[0m\u001b[0;34m\u001b[0m\u001b[0m\n",
      "\u001b[0;31mKeyboardInterrupt\u001b[0m: "
     ]
    }
   ],
   "metadata": {}
  },
  {
   "cell_type": "code",
   "execution_count": null,
   "source": [
    "# check to confirm that the data looks as it should\n",
    "\n",
    "master.nunique()"
   ],
   "outputs": [],
   "metadata": {}
  },
  {
   "cell_type": "code",
<<<<<<< HEAD
   "execution_count": null,
=======
   "execution_count": 9,
>>>>>>> c28b902f2954d51747b65ee757e1ab620af5b8d4
   "source": [
    "# select the filter that is appropriate for the data range. \n",
    "# NOTE: the range is not automatically reflected in the name of the dataframe--\n",
    "# but it should be put into the parameters for ML Flow\n",
    "\n",
    "# by default, the master set has both years, 2019 and 2020, so it needs no filter\n",
    "\n",
    "# master_filter = master\n",
    "\n",
    "# to filter only 2019 data\n",
    "master_filter = master.query('year == 2019')\n",
    "\n",
    "# to filter only 2020 data\n",
    "# master_filter = master.query('year == 2020')"
   ],
   "outputs": [],
   "metadata": {}
  },
  {
   "cell_type": "code",
   "execution_count": null,
   "source": [
    "master_filter.tail()"
   ],
   "outputs": [],
   "metadata": {}
  },
  {
   "cell_type": "code",
   "execution_count": null,
   "source": [
    "master_filter.isna().sum()"
   ],
   "outputs": [],
   "metadata": {}
  },
  {
   "cell_type": "markdown",
   "source": [
    "## the data set has no missing values"
   ],
   "metadata": {}
  },
  {
   "cell_type": "markdown",
   "source": [
    "## we now need to normalize on time to remove seasonality \n",
    "\n"
   ],
   "metadata": {}
  },
  {
   "cell_type": "code",
<<<<<<< HEAD
   "execution_count": null,
=======
   "execution_count": 10,
>>>>>>> c28b902f2954d51747b65ee757e1ab620af5b8d4
   "source": [
    "import math \n",
    "\n",
    "# We normalize x values to match with the 0-2π cycle\n",
    "master_filter[\"month_norm\"] = 2 * math.pi * master_filter[\"month\"] / master_filter[\"month\"].max()\n",
    "\n",
    "master_filter[\"cos_month\"] = np.cos(master_filter[\"month_norm\"])\n",
    "master_filter[\"sin_month\"] = np.sin(master_filter[\"month_norm\"])"
   ],
   "outputs": [],
   "metadata": {}
  },
  {
   "cell_type": "code",
<<<<<<< HEAD
   "execution_count": null,
   "source": [
    "master_filter[\"month_norm\"]"
   ],
   "outputs": [],
   "metadata": {}
  },
  {
   "cell_type": "code",
   "execution_count": null,
   "source": [
    "# save filtered, normed to csv\n",
    "\n",
    "master_filter.to_csv('../data/master_filter.csv')"
   ],
   "outputs": [],
   "metadata": {}
  },
  {
   "cell_type": "code",
   "execution_count": null,
   "source": [
    "# read filtered, normed time data\n",
    "#  \n",
    "master_filter = pd.read_csv('../data/master_filter.csv')"
   ],
   "outputs": [],
   "metadata": {}
  },
  {
   "cell_type": "code",
   "execution_count": null,
   "source": [
    "# generate the feature mean_price_per_day \n",
    "\n",
    "master_filter_price_agg = master_filter.groupby(['listing_id','month']).agg(['mean'])['filled_in_price_per_day'].reset_index()"
   ],
   "outputs": [],
   "metadata": {}
  },
  {
   "cell_type": "code",
   "execution_count": null,
   "source": [
    "# merge aggregate data back into master set\n",
=======
   "execution_count": 13,
   "source": [
    "# save filtered, normed to csv\n",
>>>>>>> c28b902f2954d51747b65ee757e1ab620af5b8d4
    "\n",
    "master_filter.to_csv('../data/master_filter.csv')\"\"\""
   ],
   "outputs": [
    {
     "output_type": "error",
     "ename": "SyntaxError",
     "evalue": "EOF while scanning triple-quoted string literal (2133675601.py, line 3)",
     "traceback": [
      "\u001b[0;36m  File \u001b[0;32m\"/var/folders/f3/z2tpzycd57bfz6359zgkz9f00000gn/T/ipykernel_21129/2133675601.py\"\u001b[0;36m, line \u001b[0;32m3\u001b[0m\n\u001b[0;31m    master_filter.to_csv('../data/master_filter.csv')\"\"\"\u001b[0m\n\u001b[0m                                                        ^\u001b[0m\n\u001b[0;31mSyntaxError\u001b[0m\u001b[0;31m:\u001b[0m EOF while scanning triple-quoted string literal\n"
     ]
    }
   ],
   "metadata": {}
  },
  {
   "cell_type": "code",
<<<<<<< HEAD
   "execution_count": null,
   "source": [
    "# rename column so it is more easily recognizer\n",
    "\n",
    "master_filter_1.rename(columns={'mean':'mean_price_per_day'},inplace=True)"
=======
   "execution_count": 14,
   "source": [
    "# read filtered, normed time data\n",
    "#  \n",
    "master_filter = pd.read_csv('../data/master_filter.csv')"
>>>>>>> c28b902f2954d51747b65ee757e1ab620af5b8d4
   ],
   "outputs": [],
   "metadata": {}
  },
  {
   "cell_type": "code",
   "execution_count": 15,
   "source": [
<<<<<<< HEAD
    "# confirm rename\n",
    "\n",
    "list(master_filter_1.columns.values)"
   ],
   "outputs": [],
=======
    "# generate the feature mean_price_per_day \n",
    "\n",
    "master_filter_price_agg = master_filter.groupby(['listing_id','month']).agg(['mean'])['filled_in_price_per_day'].reset_index()"
   ],
   "outputs": [],
   "metadata": {}
  },
  {
   "cell_type": "code",
   "execution_count": 16,
   "source": [
    "master_filter_price_agg.head(2)"
   ],
   "outputs": [
    {
     "output_type": "execute_result",
     "data": {
      "text/plain": [
       "                             listing_id  month  mean\n",
       "0  001dfbae-4824-5d34-8f52-62bf2a1b7d65      6  44.0\n",
       "1  001dfbae-4824-5d34-8f52-62bf2a1b7d65      7  44.0"
      ],
      "text/html": [
       "<div>\n",
       "<style scoped>\n",
       "    .dataframe tbody tr th:only-of-type {\n",
       "        vertical-align: middle;\n",
       "    }\n",
       "\n",
       "    .dataframe tbody tr th {\n",
       "        vertical-align: top;\n",
       "    }\n",
       "\n",
       "    .dataframe thead th {\n",
       "        text-align: right;\n",
       "    }\n",
       "</style>\n",
       "<table border=\"1\" class=\"dataframe\">\n",
       "  <thead>\n",
       "    <tr style=\"text-align: right;\">\n",
       "      <th></th>\n",
       "      <th>listing_id</th>\n",
       "      <th>month</th>\n",
       "      <th>mean</th>\n",
       "    </tr>\n",
       "  </thead>\n",
       "  <tbody>\n",
       "    <tr>\n",
       "      <th>0</th>\n",
       "      <td>001dfbae-4824-5d34-8f52-62bf2a1b7d65</td>\n",
       "      <td>6</td>\n",
       "      <td>44.0</td>\n",
       "    </tr>\n",
       "    <tr>\n",
       "      <th>1</th>\n",
       "      <td>001dfbae-4824-5d34-8f52-62bf2a1b7d65</td>\n",
       "      <td>7</td>\n",
       "      <td>44.0</td>\n",
       "    </tr>\n",
       "  </tbody>\n",
       "</table>\n",
       "</div>"
      ]
     },
     "metadata": {},
     "execution_count": 16
    }
   ],
   "metadata": {}
  },
  {
   "cell_type": "code",
   "execution_count": 17,
   "source": [
    "\n",
    "master_filter_1 = pd.merge(master_filter_price_agg, master_filter, left_on=['listing_id','month'], right_on=['listing_id','month'], how='right')"
   ],
   "outputs": [],
   "metadata": {}
  },
  {
   "cell_type": "code",
   "execution_count": 18,
   "source": [
    "master_filter_1.rename(columns={'mean':'mean_price_per_day'},inplace=True)"
   ],
   "outputs": [],
   "metadata": {}
  },
  {
   "cell_type": "code",
   "execution_count": 19,
   "source": [
    "list(master_filter_1.columns.values)"
   ],
   "outputs": [
    {
     "output_type": "execute_result",
     "data": {
      "text/plain": [
       "['listing_id',\n",
       " 'month',\n",
       " 'mean_price_per_day',\n",
       " 'Unnamed: 0',\n",
       " 'Unnamed: 0.1',\n",
       " 'top',\n",
       " 'Unnamed: 0_x',\n",
       " 'year',\n",
       " 'inquiry_count',\n",
       " 'Unnamed: 0_y',\n",
       " '1_room_apartment',\n",
       " 'library',\n",
       " 'children`s_room',\n",
       " 'corridor',\n",
       " 'dining_room',\n",
       " 'en_suite_bathroom',\n",
       " 'gallery',\n",
       " 'heating_room',\n",
       " 'kitchen',\n",
       " 'kitchen_living',\n",
       " 'living_bedroom',\n",
       " 'living_/_dining_room',\n",
       " 'living_room',\n",
       " 'lounge',\n",
       " 'roof-deck',\n",
       " 'separate_WC',\n",
       " 'storage_room',\n",
       " 'veranda',\n",
       " 'washroom',\n",
       " 'wellness',\n",
       " 'winter_garden',\n",
       " 'Blu-ray_player',\n",
       " 'CDs_DVDs',\n",
       " 'DVD-player',\n",
       " 'VCR',\n",
       " 'additional_bed',\n",
       " 'alarm_system',\n",
       " 'armchair',\n",
       " 'awning_',\n",
       " 'baby_monitor',\n",
       " 'bath_towels',\n",
       " 'bathrobe',\n",
       " 'bathtub',\n",
       " 'beach_chair',\n",
       " 'bed_linen',\n",
       " 'bicycles',\n",
       " 'bidet',\n",
       " 'boat',\n",
       " 'boat_dock',\n",
       " 'books',\n",
       " 'bottle_warmer',\n",
       " 'bread_service',\n",
       " 'bunk_bed',\n",
       " 'carport',\n",
       " 'central_heating',\n",
       " 'changing_mat',\n",
       " 'chest_of_drawers',\n",
       " \"child's_bed\",\n",
       " 'children_toilet_seat',\n",
       " 'cleaning_supplies',\n",
       " 'coffee_machine',\n",
       " 'colouring_book_pencils',\n",
       " 'computer',\n",
       " 'crockery',\n",
       " 'darts',\n",
       " 'desk',\n",
       " 'dining_table',\n",
       " 'double_bed',\n",
       " 'double_wash_basin',\n",
       " 'drying_rack',\n",
       " 'egg_cooker',\n",
       " 'exercise_room',\n",
       " 'fan',\n",
       " 'fax',\n",
       " 'fire_alarm',\n",
       " 'fireplace',\n",
       " 'first-aid_kit',\n",
       " 'flat_iron',\n",
       " 'fly_screen',\n",
       " 'folding_bed',\n",
       " 'food_processor',\n",
       " 'freezer',\n",
       " 'game_console',\n",
       " 'games',\n",
       " 'garage',\n",
       " 'garden_furniture',\n",
       " 'garden_shed',\n",
       " 'guest_toilet',\n",
       " 'hair_dryer',\n",
       " 'high_chair',\n",
       " 'hot_tub',\n",
       " 'hot_water',\n",
       " 'infrared_cabin',\n",
       " 'ironing_board',\n",
       " 'kettle',\n",
       " 'kingsize_bed',\n",
       " 'laundry_service',\n",
       " 'lawn',\n",
       " 'loft_bed',\n",
       " 'make-up_mirror',\n",
       " 'microwave',\n",
       " 'mirror',\n",
       " 'mixer',\n",
       " 'outdoor_shower',\n",
       " 'phone',\n",
       " 'piano',\n",
       " 'pier',\n",
       " 'playground',\n",
       " 'pond',\n",
       " 'pool_table',\n",
       " 'private_parking',\n",
       " 'radio',\n",
       " 'refrigerator',\n",
       " 'relaxation_room',\n",
       " 'room_service',\n",
       " 'safe',\n",
       " 'sandpit',\n",
       " 'sandwich_toaster',\n",
       " 'shared_swimming_pool',\n",
       " 'shoe_cabinet',\n",
       " 'shower',\n",
       " 'single_bed',\n",
       " 'slide',\n",
       " 'socket_covers',\n",
       " 'sofa',\n",
       " 'sofa_bed',\n",
       " 'spices',\n",
       " 'stair_gate',\n",
       " 'steam_bath',\n",
       " 'stereo_system',\n",
       " 'sun_loungers',\n",
       " 'sun_umbrella_',\n",
       " 'sunshade',\n",
       " 'swimming_pool',\n",
       " 'swing',\n",
       " 'table_football',\n",
       " 'table_tennis',\n",
       " 'tanning_bed',\n",
       " 'tea_towels',\n",
       " 'toaster',\n",
       " 'toilet',\n",
       " 'towels',\n",
       " 'toys',\n",
       " 'trampoline',\n",
       " 'underfloor_heating',\n",
       " 'vacuum_cleaner',\n",
       " 'walk-in_shower',\n",
       " 'wall_bed',\n",
       " 'wardrobe',\n",
       " 'wash_basin',\n",
       " 'water_bed',\n",
       " 'windbreak',\n",
       " 'cooking',\n",
       " 'title',\n",
       " 'adult_count',\n",
       " 'children_count',\n",
       " 'pets_count',\n",
       " 'departure_date',\n",
       " 'length_stay',\n",
       " 'holiday_region',\n",
       " 'property_type',\n",
       " 'option_allergic',\n",
       " 'option_non_smoking_only',\n",
       " 'option_holiday_with_your_pet',\n",
       " 'option_holiday_with_your_horse',\n",
       " 'option_holiday_with_your_dog',\n",
       " 'option_close_to_the_beach',\n",
       " 'option_wheelchair_accessible',\n",
       " 'option_family_travel',\n",
       " 'option_close_to_the_water',\n",
       " 'option_holiday_with_your_baby',\n",
       " 'option_long_term_holiday',\n",
       " 'option_fully_accessible',\n",
       " 'option_technicians',\n",
       " 'option_close_to_the_ski_lift',\n",
       " 'wheelchairaccess',\n",
       " 'babybed',\n",
       " 'internet',\n",
       " 'dishwasher',\n",
       " 'washingmachine',\n",
       " 'dryer',\n",
       " 'tv',\n",
       " 'pool',\n",
       " 'sauna',\n",
       " 'grill',\n",
       " 'garden',\n",
       " 'terrace',\n",
       " 'balcony',\n",
       " 'bathrooms',\n",
       " 'bedrooms',\n",
       " 'max_guests',\n",
       " 'living_area',\n",
       " 'lat',\n",
       " 'lng',\n",
       " 'filled_in_price_per_day',\n",
       " 'inquiry_rate',\n",
       " 'month_norm',\n",
       " 'cos_month',\n",
       " 'sin_month']"
      ]
     },
     "metadata": {},
     "execution_count": 19
    }
   ],
>>>>>>> c28b902f2954d51747b65ee757e1ab620af5b8d4
   "metadata": {}
  },
  {
   "cell_type": "code",
<<<<<<< HEAD
=======
   "execution_count": 20,
   "source": [
    "# check boxplots for mean max min\n",
    "import seaborn as sns\n",
    "import matplotlib as plt\n",
    "\n",
    "sns.boxplot( y=master_filter_1['mean_price_per_day'] );\n"
   ],
   "outputs": [
    {
     "output_type": "display_data",
     "data": {
      "text/plain": [
       "<Figure size 432x288 with 1 Axes>"
      ],
      "image/png": "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"
     },
     "metadata": {
      "needs_background": "light"
     }
    }
   ],
   "metadata": {}
  },
  {
   "cell_type": "code",
   "execution_count": null,
   "source": [
    "sns.boxplot( y=master_filter_1['max_price_per_day'] );"
   ],
   "outputs": [],
   "metadata": {}
  },
  {
   "cell_type": "code",
   "execution_count": null,
   "source": [
    "sns.boxplot( y=master_filter_1['min_price_per_day'] );"
   ],
   "outputs": [],
   "metadata": {}
  },
  {
   "cell_type": "code",
   "execution_count": null,
   "source": [
    "list(master_filter_1.columns.values)"
   ],
   "outputs": [],
   "metadata": {}
  },
  {
   "cell_type": "code",
>>>>>>> c28b902f2954d51747b65ee757e1ab620af5b8d4
   "execution_count": null,
   "source": [
    "# drop more things that need not be in the data set for the baseline model\n",
    "\n",
    "drop_list = ['filled_in_price_per_day','option_wheelchair_accessible','option_family_travel',\n",
    "'option_close_to_the_water','option_holiday_with_your_baby',\n",
    " 'option_long_term_holiday',\n",
    " 'option_fully_accessible',\n",
    " 'option_technicians',\n",
    " 'option_close_to_the_ski_lift','max_price_per_day',\n",
    " 'min_price_per_day','month_norm','year','month',\n",
    " 'option_holiday_with_your_dog','option_holiday_with_your_horse']\n",
    "\n",
    "for i in drop_list:\n",
    "    master_filter_1.drop([i],axis=1,inplace=True)"
   ],
   "outputs": [],
   "metadata": {}
  },
  {
   "cell_type": "code",
   "execution_count": null,
   "source": [
    "# save to csv if desired: this is the normed, filtered set with agg price data for the years in question\n",
    "\n",
    "master_filter_1.to_csv('../data/master_filter_price_agg.csv')"
   ],
   "outputs": [],
   "metadata": {}
  },
  {
   "cell_type": "code",
   "execution_count": null,
   "source": [
    "# read in from csv in case memory proved to be an issue\n",
    "\n",
    "master_filter_1 = pd.read_csv('../data/master_filter_price_agg.csv')"
   ],
   "outputs": [],
   "metadata": {}
  },
  {
   "cell_type": "code",
<<<<<<< HEAD
   "execution_count": null,
=======
   "execution_count": 22,
   "source": [
    "master_filter_1['property_type'].unique()"
   ],
   "outputs": [
    {
     "output_type": "execute_result",
     "data": {
      "text/plain": [
       "array(['holiday_apartment', 'holiday_houses'], dtype=object)"
      ]
     },
     "metadata": {},
     "execution_count": 22
    }
   ],
   "metadata": {}
  },
  {
   "cell_type": "code",
   "execution_count": 23,
>>>>>>> c28b902f2954d51747b65ee757e1ab620af5b8d4
   "source": [
    "# convert property types into binary: holiday apartment = 0, and holiday_houses = 1\n",
    "\n",
    "master_filter_1['property_type'].unique()\n",
    "master_filter_1['prop_bin'] = 1"
   ],
   "outputs": [],
   "metadata": {}
  },
  {
   "cell_type": "code",
<<<<<<< HEAD
   "execution_count": null,
=======
   "execution_count": 24,
>>>>>>> c28b902f2954d51747b65ee757e1ab620af5b8d4
   "source": [
    "master_filter_1.loc[master_filter_1['property_type'] == 'holiday_apartment', 'prop_bin'] = 0"
   ],
   "outputs": [],
   "metadata": {}
  },
  {
   "cell_type": "code",
<<<<<<< HEAD
   "execution_count": null,
   "source": [
    "master_filter_1.head()"
   ],
   "outputs": [],
=======
   "execution_count": 25,
   "source": [
    "master_filter_1.head()"
   ],
   "outputs": [
    {
     "output_type": "execute_result",
     "data": {
      "text/plain": [
       "                             listing_id  month  mean_price_per_day  \\\n",
       "0  c5c0fcff-faf3-5a07-a0d9-fe2857025cd8      1                65.0   \n",
       "1  6ec2303b-5083-50ef-bead-9e3d839f3caa      1                55.0   \n",
       "2  bfeddf97-945f-5cd4-96e4-dcbe170e8410      1                54.0   \n",
       "3  1c883ca8-3a96-56b0-b8e9-1d9f7f4a9180      2                60.0   \n",
       "4  e8224b68-1c9b-5464-8c28-565798996ea5      2                50.0   \n",
       "\n",
       "   Unnamed: 0  Unnamed: 0.1  top  Unnamed: 0_x  year  inquiry_count  \\\n",
       "0        4800          4800  NaN      520907.0  2019              1   \n",
       "1        4801          4801  NaN      290184.0  2019              1   \n",
       "2        4802          4802  NaN      505695.0  2019              1   \n",
       "3        4803          4803  NaN       75935.0  2019              1   \n",
       "4        4804          4804  NaN      612550.0  2019              1   \n",
       "\n",
       "   Unnamed: 0_y  ...  max_guests  living_area        lat        lng  \\\n",
       "0          6837  ...         2.0         60.0  53.626845   7.293929   \n",
       "1          6909  ...         4.0         65.0  53.207069   7.986032   \n",
       "2          7930  ...         3.0         40.0  53.938466  10.678566   \n",
       "3          8022  ...         2.0         81.0  51.271444   8.546197   \n",
       "4          8383  ...         3.0         45.0  49.343352   8.109466   \n",
       "\n",
       "   filled_in_price_per_day  inquiry_rate  month_norm  cos_month  sin_month  \\\n",
       "0                     65.0          0.04    0.523599   0.866025   0.500000   \n",
       "1                     55.0          0.02    0.523599   0.866025   0.500000   \n",
       "2                     54.0          0.01    0.523599   0.866025   0.500000   \n",
       "3                     60.0          0.02    1.047198   0.500000   0.866025   \n",
       "4                     50.0          0.01    1.047198   0.500000   0.866025   \n",
       "\n",
       "   prop_bin  \n",
       "0         0  \n",
       "1         1  \n",
       "2         0  \n",
       "3         0  \n",
       "4         0  \n",
       "\n",
       "[5 rows x 200 columns]"
      ],
      "text/html": [
       "<div>\n",
       "<style scoped>\n",
       "    .dataframe tbody tr th:only-of-type {\n",
       "        vertical-align: middle;\n",
       "    }\n",
       "\n",
       "    .dataframe tbody tr th {\n",
       "        vertical-align: top;\n",
       "    }\n",
       "\n",
       "    .dataframe thead th {\n",
       "        text-align: right;\n",
       "    }\n",
       "</style>\n",
       "<table border=\"1\" class=\"dataframe\">\n",
       "  <thead>\n",
       "    <tr style=\"text-align: right;\">\n",
       "      <th></th>\n",
       "      <th>listing_id</th>\n",
       "      <th>month</th>\n",
       "      <th>mean_price_per_day</th>\n",
       "      <th>Unnamed: 0</th>\n",
       "      <th>Unnamed: 0.1</th>\n",
       "      <th>top</th>\n",
       "      <th>Unnamed: 0_x</th>\n",
       "      <th>year</th>\n",
       "      <th>inquiry_count</th>\n",
       "      <th>Unnamed: 0_y</th>\n",
       "      <th>...</th>\n",
       "      <th>max_guests</th>\n",
       "      <th>living_area</th>\n",
       "      <th>lat</th>\n",
       "      <th>lng</th>\n",
       "      <th>filled_in_price_per_day</th>\n",
       "      <th>inquiry_rate</th>\n",
       "      <th>month_norm</th>\n",
       "      <th>cos_month</th>\n",
       "      <th>sin_month</th>\n",
       "      <th>prop_bin</th>\n",
       "    </tr>\n",
       "  </thead>\n",
       "  <tbody>\n",
       "    <tr>\n",
       "      <th>0</th>\n",
       "      <td>c5c0fcff-faf3-5a07-a0d9-fe2857025cd8</td>\n",
       "      <td>1</td>\n",
       "      <td>65.0</td>\n",
       "      <td>4800</td>\n",
       "      <td>4800</td>\n",
       "      <td>NaN</td>\n",
       "      <td>520907.0</td>\n",
       "      <td>2019</td>\n",
       "      <td>1</td>\n",
       "      <td>6837</td>\n",
       "      <td>...</td>\n",
       "      <td>2.0</td>\n",
       "      <td>60.0</td>\n",
       "      <td>53.626845</td>\n",
       "      <td>7.293929</td>\n",
       "      <td>65.0</td>\n",
       "      <td>0.04</td>\n",
       "      <td>0.523599</td>\n",
       "      <td>0.866025</td>\n",
       "      <td>0.500000</td>\n",
       "      <td>0</td>\n",
       "    </tr>\n",
       "    <tr>\n",
       "      <th>1</th>\n",
       "      <td>6ec2303b-5083-50ef-bead-9e3d839f3caa</td>\n",
       "      <td>1</td>\n",
       "      <td>55.0</td>\n",
       "      <td>4801</td>\n",
       "      <td>4801</td>\n",
       "      <td>NaN</td>\n",
       "      <td>290184.0</td>\n",
       "      <td>2019</td>\n",
       "      <td>1</td>\n",
       "      <td>6909</td>\n",
       "      <td>...</td>\n",
       "      <td>4.0</td>\n",
       "      <td>65.0</td>\n",
       "      <td>53.207069</td>\n",
       "      <td>7.986032</td>\n",
       "      <td>55.0</td>\n",
       "      <td>0.02</td>\n",
       "      <td>0.523599</td>\n",
       "      <td>0.866025</td>\n",
       "      <td>0.500000</td>\n",
       "      <td>1</td>\n",
       "    </tr>\n",
       "    <tr>\n",
       "      <th>2</th>\n",
       "      <td>bfeddf97-945f-5cd4-96e4-dcbe170e8410</td>\n",
       "      <td>1</td>\n",
       "      <td>54.0</td>\n",
       "      <td>4802</td>\n",
       "      <td>4802</td>\n",
       "      <td>NaN</td>\n",
       "      <td>505695.0</td>\n",
       "      <td>2019</td>\n",
       "      <td>1</td>\n",
       "      <td>7930</td>\n",
       "      <td>...</td>\n",
       "      <td>3.0</td>\n",
       "      <td>40.0</td>\n",
       "      <td>53.938466</td>\n",
       "      <td>10.678566</td>\n",
       "      <td>54.0</td>\n",
       "      <td>0.01</td>\n",
       "      <td>0.523599</td>\n",
       "      <td>0.866025</td>\n",
       "      <td>0.500000</td>\n",
       "      <td>0</td>\n",
       "    </tr>\n",
       "    <tr>\n",
       "      <th>3</th>\n",
       "      <td>1c883ca8-3a96-56b0-b8e9-1d9f7f4a9180</td>\n",
       "      <td>2</td>\n",
       "      <td>60.0</td>\n",
       "      <td>4803</td>\n",
       "      <td>4803</td>\n",
       "      <td>NaN</td>\n",
       "      <td>75935.0</td>\n",
       "      <td>2019</td>\n",
       "      <td>1</td>\n",
       "      <td>8022</td>\n",
       "      <td>...</td>\n",
       "      <td>2.0</td>\n",
       "      <td>81.0</td>\n",
       "      <td>51.271444</td>\n",
       "      <td>8.546197</td>\n",
       "      <td>60.0</td>\n",
       "      <td>0.02</td>\n",
       "      <td>1.047198</td>\n",
       "      <td>0.500000</td>\n",
       "      <td>0.866025</td>\n",
       "      <td>0</td>\n",
       "    </tr>\n",
       "    <tr>\n",
       "      <th>4</th>\n",
       "      <td>e8224b68-1c9b-5464-8c28-565798996ea5</td>\n",
       "      <td>2</td>\n",
       "      <td>50.0</td>\n",
       "      <td>4804</td>\n",
       "      <td>4804</td>\n",
       "      <td>NaN</td>\n",
       "      <td>612550.0</td>\n",
       "      <td>2019</td>\n",
       "      <td>1</td>\n",
       "      <td>8383</td>\n",
       "      <td>...</td>\n",
       "      <td>3.0</td>\n",
       "      <td>45.0</td>\n",
       "      <td>49.343352</td>\n",
       "      <td>8.109466</td>\n",
       "      <td>50.0</td>\n",
       "      <td>0.01</td>\n",
       "      <td>1.047198</td>\n",
       "      <td>0.500000</td>\n",
       "      <td>0.866025</td>\n",
       "      <td>0</td>\n",
       "    </tr>\n",
       "  </tbody>\n",
       "</table>\n",
       "<p>5 rows × 200 columns</p>\n",
       "</div>"
      ]
     },
     "metadata": {},
     "execution_count": 25
    }
   ],
>>>>>>> c28b902f2954d51747b65ee757e1ab620af5b8d4
   "metadata": {}
  },
  {
   "cell_type": "code",
<<<<<<< HEAD
   "execution_count": null,
=======
   "execution_count": 26,
>>>>>>> c28b902f2954d51747b65ee757e1ab620af5b8d4
   "source": [
    "# more drops\n",
    "drop_list =['property_type','Unnamed: 0']\n",
    "\n",
    "for i in drop_list:\n",
    "    master_filter_1.drop([i],axis=1,inplace=True)"
   ],
   "outputs": [],
   "metadata": {}
  },
  {
   "cell_type": "code",
<<<<<<< HEAD
   "execution_count": null,
=======
   "execution_count": 27,
>>>>>>> c28b902f2954d51747b65ee757e1ab620af5b8d4
   "source": [
    "# confirm variable title requires getting dummies\n",
    "\n",
    "master_filter_1['title'].unique()"
   ],
<<<<<<< HEAD
   "outputs": [],
=======
   "outputs": [
    {
     "output_type": "execute_result",
     "data": {
      "text/plain": [
       "array(['Anfrage', 'Verbindliche Anfrage'], dtype=object)"
      ]
     },
     "metadata": {},
     "execution_count": 27
    }
   ],
>>>>>>> c28b902f2954d51747b65ee757e1ab620af5b8d4
   "metadata": {}
  },
  {
   "cell_type": "code",
<<<<<<< HEAD
   "execution_count": null,
=======
   "execution_count": 28,
>>>>>>> c28b902f2954d51747b65ee757e1ab620af5b8d4
   "source": [
    "# trying not to be a dummy by getting dummies\n",
    "\n",
    "master_dummies = pd.get_dummies(master_filter_1, columns=['holiday_region','title','option_allergic','option_non_smoking_only','option_holiday_with_your_pet','option_close_to_the_beach'])"
   ],
   "outputs": [],
   "metadata": {}
  },
  {
   "cell_type": "code",
<<<<<<< HEAD
   "execution_count": null,
=======
   "execution_count": 29,
>>>>>>> c28b902f2954d51747b65ee757e1ab620af5b8d4
   "source": [
    "# save to csv if desired: this is the normed, filtered set with agg price data for the years in question\n",
    "\n",
    "master_dummies.to_csv('../data/master_with_dummies.csv')"
   ],
   "outputs": [],
   "metadata": {}
  },
  {
   "cell_type": "code",
<<<<<<< HEAD
   "execution_count": null,
   "source": [
    "# read from csv\n",
    "\n",
    "master_dummies_1 = pd.read_csv('../data/master_with_dummies_1.csv')\n"
   ],
   "outputs": [],
   "metadata": {}
  },
  {
   "cell_type": "code",
   "execution_count": null,
   "source": [
    "master_dummies = master_dummies_1"
   ],
   "outputs": [],
   "metadata": {}
  },
  {
   "cell_type": "code",
   "execution_count": null,
=======
   "execution_count": 30,
>>>>>>> c28b902f2954d51747b65ee757e1ab620af5b8d4
   "source": [
    "# free up memory\n",
    "\n",
    "import gc\n",
    "del master_filter_1\n",
    "gc.collect()"
   ],
<<<<<<< HEAD
   "outputs": [],
   "metadata": {}
  },
  {
   "cell_type": "markdown",
   "source": [
    "# move now to do the train test split and then the model"
=======
   "outputs": [
    {
     "output_type": "execute_result",
     "data": {
      "text/plain": [
       "3072"
      ]
     },
     "metadata": {},
     "execution_count": 30
    }
>>>>>>> c28b902f2954d51747b65ee757e1ab620af5b8d4
   ],
   "metadata": {}
  },
  {
   "cell_type": "code",
<<<<<<< HEAD
   "execution_count": null,
=======
   "execution_count": 31,
>>>>>>> c28b902f2954d51747b65ee757e1ab620af5b8d4
   "source": [
    "# create X and Y sets for train test split\n",
    "\n",
    "X = master_dummies.drop(['listing_id','inquiry_count'],axis=1)\n",
    "Y = master_dummies['inquiry_count']"
   ],
   "outputs": [],
   "metadata": {}
  },
  {
   "cell_type": "code",
<<<<<<< HEAD
   "execution_count": null,
=======
   "execution_count": 32,
>>>>>>> c28b902f2954d51747b65ee757e1ab620af5b8d4
   "source": [
    "# train test split\n",
    "\n",
    "from sklearn.model_selection import train_test_split\n",
    "\n",
    "X_train, X_test, y_train, y_test = train_test_split(X, Y, test_size=0.30, random_state=42)"
   ],
   "outputs": [],
   "metadata": {
    "slideshow": {
     "slide_type": "skip"
    }
   }
  },
  {
   "cell_type": "code",
<<<<<<< HEAD
   "execution_count": null,
=======
   "execution_count": 33,
>>>>>>> c28b902f2954d51747b65ee757e1ab620af5b8d4
   "source": [
    "# we love to normalize our data!!\n",
    "\n",
    "from sklearn.preprocessing import MinMaxScaler\n",
    "\n",
    "the_list = ['mean_price_per_day','adult_count','children_count','pets_count','length_stay','bathrooms','bedrooms','max_guests','living_area']\n"
   ],
   "outputs": [],
   "metadata": {}
  },
  {
   "cell_type": "code",
<<<<<<< HEAD
   "execution_count": null,
=======
   "execution_count": 34,
   "source": [
    "the_list = ['mean_price_per_day','adult_count','children_count','pets_count','length_stay','bathrooms','bedrooms','max_guests','living_area']"
   ],
   "outputs": [],
   "metadata": {
    "slideshow": {
     "slide_type": "skip"
    }
   }
  },
  {
   "cell_type": "code",
   "execution_count": 35,
>>>>>>> c28b902f2954d51747b65ee757e1ab620af5b8d4
   "source": [
    "# Scaling with MinMaxScaler, do at this stage to prevent data leakage\n",
    "scaler_norm = MinMaxScaler()\n",
    "X_train_scaled_norm = scaler_norm.fit_transform(X_train[the_list])\n",
    "X_test_scaled_norm = scaler_norm.transform(X_test[the_list])"
   ],
   "outputs": [],
   "metadata": {}
  },
  {
   "cell_type": "code",
<<<<<<< HEAD
   "execution_count": null,
=======
   "execution_count": 36,
>>>>>>> c28b902f2954d51747b65ee757e1ab620af5b8d4
   "source": [
    "# Concatenating normalized columns \n",
    "X_train_preprocessed_norm = np.concatenate([X_train_scaled_norm, X_train.drop(the_list, axis=1)], axis=1)\n",
    "X_test_preprocessed_norm = np.concatenate([X_test_scaled_norm, X_test.drop(the_list, axis=1)], axis=1)"
   ],
   "outputs": [],
   "metadata": {}
  },
  {
   "cell_type": "code",
<<<<<<< HEAD
   "execution_count": null,
=======
   "execution_count": 37,
   "source": [
    "X_train_preprocessed_norm.shape"
   ],
   "outputs": [
    {
     "output_type": "execute_result",
     "data": {
      "text/plain": [
       "(13131, 225)"
      ]
     },
     "metadata": {},
     "execution_count": 37
    }
   ],
   "metadata": {}
  },
  {
   "cell_type": "code",
   "execution_count": 38,
>>>>>>> c28b902f2954d51747b65ee757e1ab620af5b8d4
   "source": [
    "# confirm things look as they should\n",
    "\n",
    "X_train_preprocessed_norm.shape\n",
    "X_test_preprocessed_norm.shape"
   ],
<<<<<<< HEAD
   "outputs": [],
=======
   "outputs": [
    {
     "output_type": "execute_result",
     "data": {
      "text/plain": [
       "(5628, 225)"
      ]
     },
     "metadata": {},
     "execution_count": 38
    }
   ],
>>>>>>> c28b902f2954d51747b65ee757e1ab620af5b8d4
   "metadata": {}
  },
  {
   "cell_type": "markdown",
   "source": [
    "## Trainining the model and tracking with MLFlow"
   ],
   "metadata": {}
  },
  {
   "cell_type": "code",
<<<<<<< HEAD
   "execution_count": null,
=======
   "execution_count": 39,
>>>>>>> c28b902f2954d51747b65ee757e1ab620af5b8d4
   "source": [
    "# setting the MLFlow connection and experiment\n",
    "mlflow.set_tracking_uri(TRACKING_URI)\n",
    "mlflow.set_experiment(EXPERIMENT_NAME)\n",
    "mlflow.start_run()\n",
    "run = mlflow.active_run()"
   ],
   "outputs": [],
   "metadata": {
    "slideshow": {
     "slide_type": "slide"
    }
   }
  },
  {
   "cell_type": "code",
<<<<<<< HEAD
   "execution_count": null,
   "source": [
    "print(\"Active run_id: {}\".format(run.info.run_id))"
   ],
   "outputs": [],
=======
   "execution_count": 40,
   "source": [
    "print(\"Active run_id: {}\".format(run.info.run_id))"
   ],
   "outputs": [
    {
     "output_type": "stream",
     "name": "stdout",
     "text": [
      "Active run_id: 40177455514b40c987185a0bbd445526\n"
     ]
    }
   ],
>>>>>>> c28b902f2954d51747b65ee757e1ab620af5b8d4
   "metadata": {
    "slideshow": {
     "slide_type": "subslide"
    }
   }
  },
  {
   "cell_type": "code",
<<<<<<< HEAD
   "execution_count": null,
=======
   "execution_count": 41,
>>>>>>> c28b902f2954d51747b65ee757e1ab620af5b8d4
   "source": [
    "#training the model\n",
    "from sklearn.linear_model import LinearRegression\n",
    "reg = LinearRegression().fit(X_train_preprocessed_norm, y_train)"
   ],
   "outputs": [
    {
     "output_type": "error",
     "ename": "ValueError",
     "evalue": "could not convert string to float: '2019-09-01'",
     "traceback": [
      "\u001b[0;31m---------------------------------------------------------------------------\u001b[0m",
      "\u001b[0;31mValueError\u001b[0m                                Traceback (most recent call last)",
      "\u001b[0;32m/var/folders/f3/z2tpzycd57bfz6359zgkz9f00000gn/T/ipykernel_21129/2371470124.py\u001b[0m in \u001b[0;36m<module>\u001b[0;34m\u001b[0m\n\u001b[1;32m      1\u001b[0m \u001b[0;31m#training the model\u001b[0m\u001b[0;34m\u001b[0m\u001b[0;34m\u001b[0m\u001b[0;34m\u001b[0m\u001b[0m\n\u001b[1;32m      2\u001b[0m \u001b[0;32mfrom\u001b[0m \u001b[0msklearn\u001b[0m\u001b[0;34m.\u001b[0m\u001b[0mlinear_model\u001b[0m \u001b[0;32mimport\u001b[0m \u001b[0mLinearRegression\u001b[0m\u001b[0;34m\u001b[0m\u001b[0;34m\u001b[0m\u001b[0m\n\u001b[0;32m----> 3\u001b[0;31m \u001b[0mreg\u001b[0m \u001b[0;34m=\u001b[0m \u001b[0mLinearRegression\u001b[0m\u001b[0;34m(\u001b[0m\u001b[0;34m)\u001b[0m\u001b[0;34m.\u001b[0m\u001b[0mfit\u001b[0m\u001b[0;34m(\u001b[0m\u001b[0mX_train_preprocessed_norm\u001b[0m\u001b[0;34m,\u001b[0m \u001b[0my_train\u001b[0m\u001b[0;34m)\u001b[0m\u001b[0;34m\u001b[0m\u001b[0;34m\u001b[0m\u001b[0m\n\u001b[0m",
      "\u001b[0;32m~/neuefische-traum/traum-preis/.venv/lib/python3.8/site-packages/sklearn/linear_model/_base.py\u001b[0m in \u001b[0;36mfit\u001b[0;34m(self, X, y, sample_weight)\u001b[0m\n\u001b[1;32m    516\u001b[0m         \u001b[0maccept_sparse\u001b[0m \u001b[0;34m=\u001b[0m \u001b[0;32mFalse\u001b[0m \u001b[0;32mif\u001b[0m \u001b[0mself\u001b[0m\u001b[0;34m.\u001b[0m\u001b[0mpositive\u001b[0m \u001b[0;32melse\u001b[0m \u001b[0;34m[\u001b[0m\u001b[0;34m'csr'\u001b[0m\u001b[0;34m,\u001b[0m \u001b[0;34m'csc'\u001b[0m\u001b[0;34m,\u001b[0m \u001b[0;34m'coo'\u001b[0m\u001b[0;34m]\u001b[0m\u001b[0;34m\u001b[0m\u001b[0;34m\u001b[0m\u001b[0m\n\u001b[1;32m    517\u001b[0m \u001b[0;34m\u001b[0m\u001b[0m\n\u001b[0;32m--> 518\u001b[0;31m         X, y = self._validate_data(X, y, accept_sparse=accept_sparse,\n\u001b[0m\u001b[1;32m    519\u001b[0m                                    y_numeric=True, multi_output=True)\n\u001b[1;32m    520\u001b[0m \u001b[0;34m\u001b[0m\u001b[0m\n",
      "\u001b[0;32m~/neuefische-traum/traum-preis/.venv/lib/python3.8/site-packages/sklearn/base.py\u001b[0m in \u001b[0;36m_validate_data\u001b[0;34m(self, X, y, reset, validate_separately, **check_params)\u001b[0m\n\u001b[1;32m    431\u001b[0m                 \u001b[0my\u001b[0m \u001b[0;34m=\u001b[0m \u001b[0mcheck_array\u001b[0m\u001b[0;34m(\u001b[0m\u001b[0my\u001b[0m\u001b[0;34m,\u001b[0m \u001b[0;34m**\u001b[0m\u001b[0mcheck_y_params\u001b[0m\u001b[0;34m)\u001b[0m\u001b[0;34m\u001b[0m\u001b[0;34m\u001b[0m\u001b[0m\n\u001b[1;32m    432\u001b[0m             \u001b[0;32melse\u001b[0m\u001b[0;34m:\u001b[0m\u001b[0;34m\u001b[0m\u001b[0;34m\u001b[0m\u001b[0m\n\u001b[0;32m--> 433\u001b[0;31m                 \u001b[0mX\u001b[0m\u001b[0;34m,\u001b[0m \u001b[0my\u001b[0m \u001b[0;34m=\u001b[0m \u001b[0mcheck_X_y\u001b[0m\u001b[0;34m(\u001b[0m\u001b[0mX\u001b[0m\u001b[0;34m,\u001b[0m \u001b[0my\u001b[0m\u001b[0;34m,\u001b[0m \u001b[0;34m**\u001b[0m\u001b[0mcheck_params\u001b[0m\u001b[0;34m)\u001b[0m\u001b[0;34m\u001b[0m\u001b[0;34m\u001b[0m\u001b[0m\n\u001b[0m\u001b[1;32m    434\u001b[0m             \u001b[0mout\u001b[0m \u001b[0;34m=\u001b[0m \u001b[0mX\u001b[0m\u001b[0;34m,\u001b[0m \u001b[0my\u001b[0m\u001b[0;34m\u001b[0m\u001b[0;34m\u001b[0m\u001b[0m\n\u001b[1;32m    435\u001b[0m \u001b[0;34m\u001b[0m\u001b[0m\n",
      "\u001b[0;32m~/neuefische-traum/traum-preis/.venv/lib/python3.8/site-packages/sklearn/utils/validation.py\u001b[0m in \u001b[0;36minner_f\u001b[0;34m(*args, **kwargs)\u001b[0m\n\u001b[1;32m     61\u001b[0m             \u001b[0mextra_args\u001b[0m \u001b[0;34m=\u001b[0m \u001b[0mlen\u001b[0m\u001b[0;34m(\u001b[0m\u001b[0margs\u001b[0m\u001b[0;34m)\u001b[0m \u001b[0;34m-\u001b[0m \u001b[0mlen\u001b[0m\u001b[0;34m(\u001b[0m\u001b[0mall_args\u001b[0m\u001b[0;34m)\u001b[0m\u001b[0;34m\u001b[0m\u001b[0;34m\u001b[0m\u001b[0m\n\u001b[1;32m     62\u001b[0m             \u001b[0;32mif\u001b[0m \u001b[0mextra_args\u001b[0m \u001b[0;34m<=\u001b[0m \u001b[0;36m0\u001b[0m\u001b[0;34m:\u001b[0m\u001b[0;34m\u001b[0m\u001b[0;34m\u001b[0m\u001b[0m\n\u001b[0;32m---> 63\u001b[0;31m                 \u001b[0;32mreturn\u001b[0m \u001b[0mf\u001b[0m\u001b[0;34m(\u001b[0m\u001b[0;34m*\u001b[0m\u001b[0margs\u001b[0m\u001b[0;34m,\u001b[0m \u001b[0;34m**\u001b[0m\u001b[0mkwargs\u001b[0m\u001b[0;34m)\u001b[0m\u001b[0;34m\u001b[0m\u001b[0;34m\u001b[0m\u001b[0m\n\u001b[0m\u001b[1;32m     64\u001b[0m \u001b[0;34m\u001b[0m\u001b[0m\n\u001b[1;32m     65\u001b[0m             \u001b[0;31m# extra_args > 0\u001b[0m\u001b[0;34m\u001b[0m\u001b[0;34m\u001b[0m\u001b[0;34m\u001b[0m\u001b[0m\n",
      "\u001b[0;32m~/neuefische-traum/traum-preis/.venv/lib/python3.8/site-packages/sklearn/utils/validation.py\u001b[0m in \u001b[0;36mcheck_X_y\u001b[0;34m(X, y, accept_sparse, accept_large_sparse, dtype, order, copy, force_all_finite, ensure_2d, allow_nd, multi_output, ensure_min_samples, ensure_min_features, y_numeric, estimator)\u001b[0m\n\u001b[1;32m    869\u001b[0m         \u001b[0;32mraise\u001b[0m \u001b[0mValueError\u001b[0m\u001b[0;34m(\u001b[0m\u001b[0;34m\"y cannot be None\"\u001b[0m\u001b[0;34m)\u001b[0m\u001b[0;34m\u001b[0m\u001b[0;34m\u001b[0m\u001b[0m\n\u001b[1;32m    870\u001b[0m \u001b[0;34m\u001b[0m\u001b[0m\n\u001b[0;32m--> 871\u001b[0;31m     X = check_array(X, accept_sparse=accept_sparse,\n\u001b[0m\u001b[1;32m    872\u001b[0m                     \u001b[0maccept_large_sparse\u001b[0m\u001b[0;34m=\u001b[0m\u001b[0maccept_large_sparse\u001b[0m\u001b[0;34m,\u001b[0m\u001b[0;34m\u001b[0m\u001b[0;34m\u001b[0m\u001b[0m\n\u001b[1;32m    873\u001b[0m                     \u001b[0mdtype\u001b[0m\u001b[0;34m=\u001b[0m\u001b[0mdtype\u001b[0m\u001b[0;34m,\u001b[0m \u001b[0morder\u001b[0m\u001b[0;34m=\u001b[0m\u001b[0morder\u001b[0m\u001b[0;34m,\u001b[0m \u001b[0mcopy\u001b[0m\u001b[0;34m=\u001b[0m\u001b[0mcopy\u001b[0m\u001b[0;34m,\u001b[0m\u001b[0;34m\u001b[0m\u001b[0;34m\u001b[0m\u001b[0m\n",
      "\u001b[0;32m~/neuefische-traum/traum-preis/.venv/lib/python3.8/site-packages/sklearn/utils/validation.py\u001b[0m in \u001b[0;36minner_f\u001b[0;34m(*args, **kwargs)\u001b[0m\n\u001b[1;32m     61\u001b[0m             \u001b[0mextra_args\u001b[0m \u001b[0;34m=\u001b[0m \u001b[0mlen\u001b[0m\u001b[0;34m(\u001b[0m\u001b[0margs\u001b[0m\u001b[0;34m)\u001b[0m \u001b[0;34m-\u001b[0m \u001b[0mlen\u001b[0m\u001b[0;34m(\u001b[0m\u001b[0mall_args\u001b[0m\u001b[0;34m)\u001b[0m\u001b[0;34m\u001b[0m\u001b[0;34m\u001b[0m\u001b[0m\n\u001b[1;32m     62\u001b[0m             \u001b[0;32mif\u001b[0m \u001b[0mextra_args\u001b[0m \u001b[0;34m<=\u001b[0m \u001b[0;36m0\u001b[0m\u001b[0;34m:\u001b[0m\u001b[0;34m\u001b[0m\u001b[0;34m\u001b[0m\u001b[0m\n\u001b[0;32m---> 63\u001b[0;31m                 \u001b[0;32mreturn\u001b[0m \u001b[0mf\u001b[0m\u001b[0;34m(\u001b[0m\u001b[0;34m*\u001b[0m\u001b[0margs\u001b[0m\u001b[0;34m,\u001b[0m \u001b[0;34m**\u001b[0m\u001b[0mkwargs\u001b[0m\u001b[0;34m)\u001b[0m\u001b[0;34m\u001b[0m\u001b[0;34m\u001b[0m\u001b[0m\n\u001b[0m\u001b[1;32m     64\u001b[0m \u001b[0;34m\u001b[0m\u001b[0m\n\u001b[1;32m     65\u001b[0m             \u001b[0;31m# extra_args > 0\u001b[0m\u001b[0;34m\u001b[0m\u001b[0;34m\u001b[0m\u001b[0;34m\u001b[0m\u001b[0m\n",
      "\u001b[0;32m~/neuefische-traum/traum-preis/.venv/lib/python3.8/site-packages/sklearn/utils/validation.py\u001b[0m in \u001b[0;36mcheck_array\u001b[0;34m(array, accept_sparse, accept_large_sparse, dtype, order, copy, force_all_finite, ensure_2d, allow_nd, ensure_min_samples, ensure_min_features, estimator)\u001b[0m\n\u001b[1;32m    671\u001b[0m                     \u001b[0marray\u001b[0m \u001b[0;34m=\u001b[0m \u001b[0marray\u001b[0m\u001b[0;34m.\u001b[0m\u001b[0mastype\u001b[0m\u001b[0;34m(\u001b[0m\u001b[0mdtype\u001b[0m\u001b[0;34m,\u001b[0m \u001b[0mcasting\u001b[0m\u001b[0;34m=\u001b[0m\u001b[0;34m\"unsafe\"\u001b[0m\u001b[0;34m,\u001b[0m \u001b[0mcopy\u001b[0m\u001b[0;34m=\u001b[0m\u001b[0;32mFalse\u001b[0m\u001b[0;34m)\u001b[0m\u001b[0;34m\u001b[0m\u001b[0;34m\u001b[0m\u001b[0m\n\u001b[1;32m    672\u001b[0m                 \u001b[0;32melse\u001b[0m\u001b[0;34m:\u001b[0m\u001b[0;34m\u001b[0m\u001b[0;34m\u001b[0m\u001b[0m\n\u001b[0;32m--> 673\u001b[0;31m                     \u001b[0marray\u001b[0m \u001b[0;34m=\u001b[0m \u001b[0mnp\u001b[0m\u001b[0;34m.\u001b[0m\u001b[0masarray\u001b[0m\u001b[0;34m(\u001b[0m\u001b[0marray\u001b[0m\u001b[0;34m,\u001b[0m \u001b[0morder\u001b[0m\u001b[0;34m=\u001b[0m\u001b[0morder\u001b[0m\u001b[0;34m,\u001b[0m \u001b[0mdtype\u001b[0m\u001b[0;34m=\u001b[0m\u001b[0mdtype\u001b[0m\u001b[0;34m)\u001b[0m\u001b[0;34m\u001b[0m\u001b[0;34m\u001b[0m\u001b[0m\n\u001b[0m\u001b[1;32m    674\u001b[0m             \u001b[0;32mexcept\u001b[0m \u001b[0mComplexWarning\u001b[0m \u001b[0;32mas\u001b[0m \u001b[0mcomplex_warning\u001b[0m\u001b[0;34m:\u001b[0m\u001b[0;34m\u001b[0m\u001b[0;34m\u001b[0m\u001b[0m\n\u001b[1;32m    675\u001b[0m                 raise ValueError(\"Complex data not supported\\n\"\n",
      "\u001b[0;32m~/neuefische-traum/traum-preis/.venv/lib/python3.8/site-packages/numpy/core/_asarray.py\u001b[0m in \u001b[0;36masarray\u001b[0;34m(a, dtype, order, like)\u001b[0m\n\u001b[1;32m    100\u001b[0m         \u001b[0;32mreturn\u001b[0m \u001b[0m_asarray_with_like\u001b[0m\u001b[0;34m(\u001b[0m\u001b[0ma\u001b[0m\u001b[0;34m,\u001b[0m \u001b[0mdtype\u001b[0m\u001b[0;34m=\u001b[0m\u001b[0mdtype\u001b[0m\u001b[0;34m,\u001b[0m \u001b[0morder\u001b[0m\u001b[0;34m=\u001b[0m\u001b[0morder\u001b[0m\u001b[0;34m,\u001b[0m \u001b[0mlike\u001b[0m\u001b[0;34m=\u001b[0m\u001b[0mlike\u001b[0m\u001b[0;34m)\u001b[0m\u001b[0;34m\u001b[0m\u001b[0;34m\u001b[0m\u001b[0m\n\u001b[1;32m    101\u001b[0m \u001b[0;34m\u001b[0m\u001b[0m\n\u001b[0;32m--> 102\u001b[0;31m     \u001b[0;32mreturn\u001b[0m \u001b[0marray\u001b[0m\u001b[0;34m(\u001b[0m\u001b[0ma\u001b[0m\u001b[0;34m,\u001b[0m \u001b[0mdtype\u001b[0m\u001b[0;34m,\u001b[0m \u001b[0mcopy\u001b[0m\u001b[0;34m=\u001b[0m\u001b[0;32mFalse\u001b[0m\u001b[0;34m,\u001b[0m \u001b[0morder\u001b[0m\u001b[0;34m=\u001b[0m\u001b[0morder\u001b[0m\u001b[0;34m)\u001b[0m\u001b[0;34m\u001b[0m\u001b[0;34m\u001b[0m\u001b[0m\n\u001b[0m\u001b[1;32m    103\u001b[0m \u001b[0;34m\u001b[0m\u001b[0m\n\u001b[1;32m    104\u001b[0m \u001b[0;34m\u001b[0m\u001b[0m\n",
      "\u001b[0;31mValueError\u001b[0m: could not convert string to float: '2019-09-01'"
     ]
    }
   ],
   "metadata": {
    "slideshow": {
     "slide_type": "subslide"
    }
   }
  },
  {
   "cell_type": "code",
   "execution_count": null,
   "source": [
    "from sklearn.metrics import mean_squared_error\n",
    "y_train_pred = reg.predict(X_train_preprocessed_norm)\n",
    "rmse_train = mean_squared_error(y_train, y_train_pred,squared=False)\n",
    "print(rmse_train)"
   ],
   "outputs": [],
   "metadata": {
    "slideshow": {
     "slide_type": "subslide"
    }
   }
  },
  {
   "cell_type": "code",
   "execution_count": null,
   "source": [
    "y_test_pred = reg.predict(X_test_preprocessed_norm)\n",
    "rmse_test = mean_squared_error(y_test, y_test_pred,squared=False)\n",
    "print(rmse_test)"
   ],
   "outputs": [],
   "metadata": {
    "slideshow": {
     "slide_type": "subslide"
    }
   }
  },
  {
   "cell_type": "code",
   "execution_count": null,
   "source": [
    "# MLFlow parameters\n",
    "\n",
    "params = {\n",
    "      \"model\":\"linear regression\",\n",
    "      \"year\":'2019',\n",
    "      \"train_test_split\": 30,\n",
    "      \"normalized data\": 'yes',\n",
    "      \"metric\": 'rmse'\n",
    "  }"
   ],
   "outputs": [],
   "metadata": {
    "slideshow": {
     "slide_type": "slide"
    }
   }
  },
  {
   "cell_type": "code",
   "execution_count": null,
   "source": [
    "mlflow.log_params(params)\n",
    "mlflow.set_tag(\"running_from_jupyter\", \"baseline model 2019\")\n",
    "mlflow.log_metric(\"train -\" + \"RMSE\", rmse_train)\n",
    "mlflow.log_metric(\"test -\" + \"RMSE\", rmse_test)\n",
    "# mlflow.log_artifact(\"../models\")\n",
    "# mlflow.sklearn.log_model(reg, \"model\")\n",
    "mlflow.end_run()"
   ],
   "outputs": [],
   "metadata": {
    "slideshow": {
     "slide_type": "slide"
    }
   }
  },
  {
   "cell_type": "code",
   "execution_count": null,
   "source": [
    "mlflow.get_run(run_id=run.info.run_id)"
   ],
   "outputs": [],
   "metadata": {
    "slideshow": {
     "slide_type": "subslide"
    }
   }
  },
  {
   "cell_type": "markdown",
   "source": [
    "## Checking the experiments\n",
    "\n",
    "while the next cell is running you will not be able to run other cells in the notebook"
   ],
   "metadata": {}
  },
  {
   "cell_type": "code",
   "execution_count": null,
   "source": [
    "# !mlflow ui"
   ],
   "outputs": [],
   "metadata": {
    "slideshow": {
     "slide_type": "slide"
    }
   }
  }
 ],
 "metadata": {
  "kernelspec": {
   "name": "python3",
   "display_name": "Python 3.8.5 64-bit ('.venv': venv)"
  },
  "language_info": {
   "codemirror_mode": {
    "name": "ipython",
    "version": 3
   },
   "file_extension": ".py",
   "mimetype": "text/x-python",
   "name": "python",
   "nbconvert_exporter": "python",
   "pygments_lexer": "ipython3",
   "version": "3.8.5"
  },
  "metadata": {
   "interpreter": {
    "hash": "aee8b7b246df8f9039afb4144a1f6fd8d2ca17a180786b69acc140d282b71a49"
   }
  },
  "interpreter": {
   "hash": "3fd22edfe25832d446c332425401e3196937690f846d01f80d16cc13753e72c7"
  }
 },
 "nbformat": 4,
 "nbformat_minor": 4
}