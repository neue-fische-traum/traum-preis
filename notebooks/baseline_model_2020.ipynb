{
 "cells": [
  {
   "cell_type": "code",
   "execution_count": 86,
   "source": [
    "import sys\n",
    "# adding to the path variables the one folder higher (locally, not changing system variables)\n",
    "sys.path.append(\"..\")\n",
    "import pandas as pd\n",
    "# from pandas_profiling import ProfileReport\n",
    "import numpy as np\n",
    "import warnings\n",
    "import mlflow\n",
    "from modeling.config import EXPERIMENT_NAME\n",
    "TRACKING_URI = open(\"../.mlflow_uri\").read().strip()\n",
    "\n",
    "ROOT = os.environ.get('PWD')\n",
    "\n",
    "warnings.filterwarnings('ignore')\n",
    "\n",
    "\n",
    "\n",
    "\n"
   ],
   "outputs": [],
   "metadata": {
    "slideshow": {
     "slide_type": "skip"
    }
   }
  },
  {
   "cell_type": "markdown",
   "source": [
    "# Data cleaning and feature engineering"
   ],
   "metadata": {}
  },
  {
   "cell_type": "code",
   "execution_count": 87,
   "source": [
    "# read in new tiny master\n",
    "\n",
    "new_tiny_master = pd.read_csv('../data//new_tiny_master.csv')"
   ],
   "outputs": [],
   "metadata": {}
  },
  {
   "cell_type": "code",
   "execution_count": 88,
   "source": [
    "# extract the data for arrival date in 2019 only\n",
    "\n",
    "tiny_master_20 = new_tiny_master.query(\"year == 2020\")"
   ],
   "outputs": [],
   "metadata": {}
  },
  {
   "cell_type": "code",
   "execution_count": 89,
   "source": [
    "tiny_master_20.info()"
   ],
   "outputs": [
    {
     "output_type": "stream",
     "name": "stdout",
     "text": [
      "<class 'pandas.core.frame.DataFrame'>\n",
      "Int64Index: 699077 entries, 12 to 1117200\n",
      "Data columns (total 86 columns):\n",
      " #   Column                          Non-Null Count   Dtype  \n",
      "---  ------                          --------------   -----  \n",
      " 0   Unnamed: 0                      699077 non-null  int64  \n",
      " 1   listing_id                      699077 non-null  object \n",
      " 2   yearmonth                       699077 non-null  object \n",
      " 3   result_views                    699077 non-null  float64\n",
      " 4   expose_views                    699077 non-null  float64\n",
      " 5   year                            699077 non-null  int64  \n",
      " 6   month                           699077 non-null  int64  \n",
      " 7   1_room_apartment                699077 non-null  float64\n",
      " 8   dining_room                     699077 non-null  float64\n",
      " 9   en_suite_bathroom               699077 non-null  float64\n",
      " 10  kitchen                         699077 non-null  float64\n",
      " 11  kitchen_living                  699077 non-null  float64\n",
      " 12  living_bedroom                  699077 non-null  float64\n",
      " 13  living_/_dining_room            699077 non-null  float64\n",
      " 14  living_room                     699077 non-null  float64\n",
      " 15  roof-deck                       699077 non-null  float64\n",
      " 16  separate_WC                     699077 non-null  float64\n",
      " 17  veranda                         699077 non-null  float64\n",
      " 18  additional_bed                  699077 non-null  float64\n",
      " 19  bathtub                         699077 non-null  float64\n",
      " 20  bed_linen                       699077 non-null  float64\n",
      " 21  bicycles                        699077 non-null  float64\n",
      " 22  coffee_machine                  699077 non-null  float64\n",
      " 23  computer                        699077 non-null  float64\n",
      " 24  double_bed                      699077 non-null  float64\n",
      " 25  fan                             699077 non-null  float64\n",
      " 26  fireplace                       699077 non-null  float64\n",
      " 27  freezer                         699077 non-null  float64\n",
      " 28  games                           699077 non-null  float64\n",
      " 29  garage                          699077 non-null  float64\n",
      " 30  garden_furniture                699077 non-null  float64\n",
      " 31  hair_dryer                      699077 non-null  float64\n",
      " 32  hot_tub                         699077 non-null  float64\n",
      " 33  infrared_cabin                  699077 non-null  float64\n",
      " 34  kingsize_bed                    699077 non-null  float64\n",
      " 35  microwave                       699077 non-null  float64\n",
      " 36  pool_table                      699077 non-null  float64\n",
      " 37  private_parking                 699077 non-null  float64\n",
      " 38  radio                           699077 non-null  float64\n",
      " 39  refrigerator                    699077 non-null  float64\n",
      " 40  shower                          699077 non-null  float64\n",
      " 41  single_bed                      699077 non-null  float64\n",
      " 42  sofa_bed                        699077 non-null  float64\n",
      " 43  steam_bath                      699077 non-null  float64\n",
      " 44  tanning_bed                     699077 non-null  float64\n",
      " 45  cooking                         699077 non-null  float64\n",
      " 46  date                            699077 non-null  object \n",
      " 47  adult_count                     699077 non-null  float64\n",
      " 48  children_count                  699077 non-null  float64\n",
      " 49  pets_count                      699077 non-null  float64\n",
      " 50  arrival_date                    699077 non-null  object \n",
      " 51  departure_date                  699077 non-null  object \n",
      " 52  inquiry_price                   699077 non-null  float64\n",
      " 53  length_stay                     699077 non-null  float64\n",
      " 54  subregion                       699077 non-null  object \n",
      " 55  property_type                   699077 non-null  object \n",
      " 56  option_allergic                 699077 non-null  int64  \n",
      " 57  option_non_smoking_only         699077 non-null  int64  \n",
      " 58  option_holiday_with_your_pet    699077 non-null  int64  \n",
      " 59  option_holiday_with_your_horse  699077 non-null  int64  \n",
      " 60  option_holiday_with_your_dog    699077 non-null  int64  \n",
      " 61  option_close_to_the_beach       699077 non-null  int64  \n",
      " 62  option_wheelchair_accessible    699077 non-null  int64  \n",
      " 63  option_family_travel            699077 non-null  int64  \n",
      " 64  option_close_to_the_water       699077 non-null  int64  \n",
      " 65  option_holiday_with_your_baby   699077 non-null  int64  \n",
      " 66  option_long_term_holiday        699077 non-null  int64  \n",
      " 67  option_fully_accessible         699077 non-null  int64  \n",
      " 68  option_technicians              699077 non-null  int64  \n",
      " 69  option_close_to_the_ski_lift    699077 non-null  int64  \n",
      " 70  babybed                         699077 non-null  int64  \n",
      " 71  internet                        699077 non-null  int64  \n",
      " 72  dishwasher                      699077 non-null  int64  \n",
      " 73  washingmachine                  699077 non-null  int64  \n",
      " 74  dryer                           699077 non-null  int64  \n",
      " 75  tv                              699077 non-null  int64  \n",
      " 76  pool                            699077 non-null  int64  \n",
      " 77  sauna                           699077 non-null  int64  \n",
      " 78  grill                           699077 non-null  int64  \n",
      " 79  garden                          699077 non-null  int64  \n",
      " 80  terrace                         699077 non-null  int64  \n",
      " 81  balcony                         699077 non-null  int64  \n",
      " 82  bathrooms                       699077 non-null  float64\n",
      " 83  bedrooms                        699077 non-null  float64\n",
      " 84  max_guests                      699077 non-null  float64\n",
      " 85  living_area                     699077 non-null  float64\n",
      "dtypes: float64(50), int64(29), object(7)\n",
      "memory usage: 464.0+ MB\n"
     ]
    }
   ],
   "metadata": {}
  },
  {
   "cell_type": "code",
   "execution_count": 90,
   "source": [
    "import math \n",
    "\n",
    "# We normalize x values to match with the 0-2π cycle\n",
    "tiny_master_20[\"month_norm\"] = 2 * math.pi * tiny_master_20[\"month\"] / tiny_master_20[\"month\"].max()\n",
    "\n",
    "tiny_master_20[\"cos_month\"] = np.cos(tiny_master_20[\"month_norm\"])\n",
    "tiny_master_20[\"sin_month\"] = np.sin(tiny_master_20[\"month_norm\"])"
   ],
   "outputs": [],
   "metadata": {}
  },
  {
   "cell_type": "code",
   "execution_count": 91,
   "source": [
    "tiny_master_20[\"month_norm\"]"
   ],
   "outputs": [
    {
     "output_type": "execute_result",
     "data": {
      "text/plain": [
       "12         4.188790\n",
       "28         3.665191\n",
       "32         1.570796\n",
       "34         3.665191\n",
       "44         3.141593\n",
       "             ...   \n",
       "1117196    6.283185\n",
       "1117197    6.283185\n",
       "1117198    5.235988\n",
       "1117199    6.283185\n",
       "1117200    6.283185\n",
       "Name: month_norm, Length: 699077, dtype: float64"
      ]
     },
     "metadata": {},
     "execution_count": 91
    }
   ],
   "metadata": {}
  },
  {
   "cell_type": "code",
   "execution_count": 92,
   "source": [
    "tiny_master_20['price_per_day'] = tiny_master_20['inquiry_price']/tiny_master_20['length_stay']"
   ],
   "outputs": [],
   "metadata": {}
  },
  {
   "cell_type": "code",
   "execution_count": 93,
   "source": [
    "# generate the feature inquiry_price_per_day, max_price_per_day, min_price_per_day\n",
    "\n",
    "medium_master_price_agg = tiny_master_20.groupby(['listing_id','month']).agg(['mean','max','min'])['price_per_day'].reset_index()"
   ],
   "outputs": [],
   "metadata": {}
  },
  {
   "cell_type": "code",
   "execution_count": 94,
   "source": [
    "medium_master_price_agg"
   ],
   "outputs": [
    {
     "output_type": "execute_result",
     "data": {
      "text/plain": [
       "                                  listing_id  month        mean         max  \\\n",
       "0       00005de7-6ed8-541b-be83-2573a46cd307      5   96.041667   98.333333   \n",
       "1       00005de7-6ed8-541b-be83-2573a46cd307      6   89.727891   98.333333   \n",
       "2       00005de7-6ed8-541b-be83-2573a46cd307      7  103.958333  104.583333   \n",
       "3       00005de7-6ed8-541b-be83-2573a46cd307      8  103.668367  107.857143   \n",
       "4       00005de7-6ed8-541b-be83-2573a46cd307     10   87.857143   87.857143   \n",
       "...                                      ...    ...         ...         ...   \n",
       "158850  ffffa8d1-d94a-5475-8e0d-2057495f4734      6   70.292208   78.571429   \n",
       "158851  ffffa8d1-d94a-5475-8e0d-2057495f4734      7   80.408163   88.571429   \n",
       "158852  ffffa8d1-d94a-5475-8e0d-2057495f4734      8   81.200000   88.571429   \n",
       "158853  ffffa8d1-d94a-5475-8e0d-2057495f4734      9   64.047619   65.000000   \n",
       "158854  ffffa8d1-d94a-5475-8e0d-2057495f4734     10   67.023810   68.571429   \n",
       "\n",
       "               min  \n",
       "0        93.750000  \n",
       "1        87.857143  \n",
       "2       103.333333  \n",
       "3        92.857143  \n",
       "4        87.857143  \n",
       "...            ...  \n",
       "158850   60.454545  \n",
       "158851   35.714286  \n",
       "158852   71.428571  \n",
       "158853   63.571429  \n",
       "158854   64.285714  \n",
       "\n",
       "[158855 rows x 5 columns]"
      ],
      "text/html": [
       "<div>\n",
       "<style scoped>\n",
       "    .dataframe tbody tr th:only-of-type {\n",
       "        vertical-align: middle;\n",
       "    }\n",
       "\n",
       "    .dataframe tbody tr th {\n",
       "        vertical-align: top;\n",
       "    }\n",
       "\n",
       "    .dataframe thead th {\n",
       "        text-align: right;\n",
       "    }\n",
       "</style>\n",
       "<table border=\"1\" class=\"dataframe\">\n",
       "  <thead>\n",
       "    <tr style=\"text-align: right;\">\n",
       "      <th></th>\n",
       "      <th>listing_id</th>\n",
       "      <th>month</th>\n",
       "      <th>mean</th>\n",
       "      <th>max</th>\n",
       "      <th>min</th>\n",
       "    </tr>\n",
       "  </thead>\n",
       "  <tbody>\n",
       "    <tr>\n",
       "      <th>0</th>\n",
       "      <td>00005de7-6ed8-541b-be83-2573a46cd307</td>\n",
       "      <td>5</td>\n",
       "      <td>96.041667</td>\n",
       "      <td>98.333333</td>\n",
       "      <td>93.750000</td>\n",
       "    </tr>\n",
       "    <tr>\n",
       "      <th>1</th>\n",
       "      <td>00005de7-6ed8-541b-be83-2573a46cd307</td>\n",
       "      <td>6</td>\n",
       "      <td>89.727891</td>\n",
       "      <td>98.333333</td>\n",
       "      <td>87.857143</td>\n",
       "    </tr>\n",
       "    <tr>\n",
       "      <th>2</th>\n",
       "      <td>00005de7-6ed8-541b-be83-2573a46cd307</td>\n",
       "      <td>7</td>\n",
       "      <td>103.958333</td>\n",
       "      <td>104.583333</td>\n",
       "      <td>103.333333</td>\n",
       "    </tr>\n",
       "    <tr>\n",
       "      <th>3</th>\n",
       "      <td>00005de7-6ed8-541b-be83-2573a46cd307</td>\n",
       "      <td>8</td>\n",
       "      <td>103.668367</td>\n",
       "      <td>107.857143</td>\n",
       "      <td>92.857143</td>\n",
       "    </tr>\n",
       "    <tr>\n",
       "      <th>4</th>\n",
       "      <td>00005de7-6ed8-541b-be83-2573a46cd307</td>\n",
       "      <td>10</td>\n",
       "      <td>87.857143</td>\n",
       "      <td>87.857143</td>\n",
       "      <td>87.857143</td>\n",
       "    </tr>\n",
       "    <tr>\n",
       "      <th>...</th>\n",
       "      <td>...</td>\n",
       "      <td>...</td>\n",
       "      <td>...</td>\n",
       "      <td>...</td>\n",
       "      <td>...</td>\n",
       "    </tr>\n",
       "    <tr>\n",
       "      <th>158850</th>\n",
       "      <td>ffffa8d1-d94a-5475-8e0d-2057495f4734</td>\n",
       "      <td>6</td>\n",
       "      <td>70.292208</td>\n",
       "      <td>78.571429</td>\n",
       "      <td>60.454545</td>\n",
       "    </tr>\n",
       "    <tr>\n",
       "      <th>158851</th>\n",
       "      <td>ffffa8d1-d94a-5475-8e0d-2057495f4734</td>\n",
       "      <td>7</td>\n",
       "      <td>80.408163</td>\n",
       "      <td>88.571429</td>\n",
       "      <td>35.714286</td>\n",
       "    </tr>\n",
       "    <tr>\n",
       "      <th>158852</th>\n",
       "      <td>ffffa8d1-d94a-5475-8e0d-2057495f4734</td>\n",
       "      <td>8</td>\n",
       "      <td>81.200000</td>\n",
       "      <td>88.571429</td>\n",
       "      <td>71.428571</td>\n",
       "    </tr>\n",
       "    <tr>\n",
       "      <th>158853</th>\n",
       "      <td>ffffa8d1-d94a-5475-8e0d-2057495f4734</td>\n",
       "      <td>9</td>\n",
       "      <td>64.047619</td>\n",
       "      <td>65.000000</td>\n",
       "      <td>63.571429</td>\n",
       "    </tr>\n",
       "    <tr>\n",
       "      <th>158854</th>\n",
       "      <td>ffffa8d1-d94a-5475-8e0d-2057495f4734</td>\n",
       "      <td>10</td>\n",
       "      <td>67.023810</td>\n",
       "      <td>68.571429</td>\n",
       "      <td>64.285714</td>\n",
       "    </tr>\n",
       "  </tbody>\n",
       "</table>\n",
       "<p>158855 rows × 5 columns</p>\n",
       "</div>"
      ]
     },
     "metadata": {},
     "execution_count": 94
    }
   ],
   "metadata": {}
  },
  {
   "cell_type": "code",
   "execution_count": 95,
   "source": [
    "medium_master_inquiry_count = tiny_master_20.groupby(['listing_id','month']).agg(['count'])['price_per_day'].reset_index()"
   ],
   "outputs": [],
   "metadata": {}
  },
  {
   "cell_type": "code",
   "execution_count": 96,
   "source": [
    "medium_master_inquiry_count"
   ],
   "outputs": [
    {
     "output_type": "execute_result",
     "data": {
      "text/plain": [
       "                                  listing_id  month  count\n",
       "0       00005de7-6ed8-541b-be83-2573a46cd307      5      2\n",
       "1       00005de7-6ed8-541b-be83-2573a46cd307      6      7\n",
       "2       00005de7-6ed8-541b-be83-2573a46cd307      7      2\n",
       "3       00005de7-6ed8-541b-be83-2573a46cd307      8      7\n",
       "4       00005de7-6ed8-541b-be83-2573a46cd307     10      1\n",
       "...                                      ...    ...    ...\n",
       "158850  ffffa8d1-d94a-5475-8e0d-2057495f4734      6      4\n",
       "158851  ffffa8d1-d94a-5475-8e0d-2057495f4734      7      7\n",
       "158852  ffffa8d1-d94a-5475-8e0d-2057495f4734      8      5\n",
       "158853  ffffa8d1-d94a-5475-8e0d-2057495f4734      9      3\n",
       "158854  ffffa8d1-d94a-5475-8e0d-2057495f4734     10      7\n",
       "\n",
       "[158855 rows x 3 columns]"
      ],
      "text/html": [
       "<div>\n",
       "<style scoped>\n",
       "    .dataframe tbody tr th:only-of-type {\n",
       "        vertical-align: middle;\n",
       "    }\n",
       "\n",
       "    .dataframe tbody tr th {\n",
       "        vertical-align: top;\n",
       "    }\n",
       "\n",
       "    .dataframe thead th {\n",
       "        text-align: right;\n",
       "    }\n",
       "</style>\n",
       "<table border=\"1\" class=\"dataframe\">\n",
       "  <thead>\n",
       "    <tr style=\"text-align: right;\">\n",
       "      <th></th>\n",
       "      <th>listing_id</th>\n",
       "      <th>month</th>\n",
       "      <th>count</th>\n",
       "    </tr>\n",
       "  </thead>\n",
       "  <tbody>\n",
       "    <tr>\n",
       "      <th>0</th>\n",
       "      <td>00005de7-6ed8-541b-be83-2573a46cd307</td>\n",
       "      <td>5</td>\n",
       "      <td>2</td>\n",
       "    </tr>\n",
       "    <tr>\n",
       "      <th>1</th>\n",
       "      <td>00005de7-6ed8-541b-be83-2573a46cd307</td>\n",
       "      <td>6</td>\n",
       "      <td>7</td>\n",
       "    </tr>\n",
       "    <tr>\n",
       "      <th>2</th>\n",
       "      <td>00005de7-6ed8-541b-be83-2573a46cd307</td>\n",
       "      <td>7</td>\n",
       "      <td>2</td>\n",
       "    </tr>\n",
       "    <tr>\n",
       "      <th>3</th>\n",
       "      <td>00005de7-6ed8-541b-be83-2573a46cd307</td>\n",
       "      <td>8</td>\n",
       "      <td>7</td>\n",
       "    </tr>\n",
       "    <tr>\n",
       "      <th>4</th>\n",
       "      <td>00005de7-6ed8-541b-be83-2573a46cd307</td>\n",
       "      <td>10</td>\n",
       "      <td>1</td>\n",
       "    </tr>\n",
       "    <tr>\n",
       "      <th>...</th>\n",
       "      <td>...</td>\n",
       "      <td>...</td>\n",
       "      <td>...</td>\n",
       "    </tr>\n",
       "    <tr>\n",
       "      <th>158850</th>\n",
       "      <td>ffffa8d1-d94a-5475-8e0d-2057495f4734</td>\n",
       "      <td>6</td>\n",
       "      <td>4</td>\n",
       "    </tr>\n",
       "    <tr>\n",
       "      <th>158851</th>\n",
       "      <td>ffffa8d1-d94a-5475-8e0d-2057495f4734</td>\n",
       "      <td>7</td>\n",
       "      <td>7</td>\n",
       "    </tr>\n",
       "    <tr>\n",
       "      <th>158852</th>\n",
       "      <td>ffffa8d1-d94a-5475-8e0d-2057495f4734</td>\n",
       "      <td>8</td>\n",
       "      <td>5</td>\n",
       "    </tr>\n",
       "    <tr>\n",
       "      <th>158853</th>\n",
       "      <td>ffffa8d1-d94a-5475-8e0d-2057495f4734</td>\n",
       "      <td>9</td>\n",
       "      <td>3</td>\n",
       "    </tr>\n",
       "    <tr>\n",
       "      <th>158854</th>\n",
       "      <td>ffffa8d1-d94a-5475-8e0d-2057495f4734</td>\n",
       "      <td>10</td>\n",
       "      <td>7</td>\n",
       "    </tr>\n",
       "  </tbody>\n",
       "</table>\n",
       "<p>158855 rows × 3 columns</p>\n",
       "</div>"
      ]
     },
     "metadata": {},
     "execution_count": 96
    }
   ],
   "metadata": {}
  },
  {
   "cell_type": "code",
   "execution_count": 97,
   "source": [
    "medium_master_1 = pd.merge(medium_master_price_agg, tiny_master_20, left_on=['listing_id','month'], right_on=['listing_id','month'], how='right')"
   ],
   "outputs": [],
   "metadata": {}
  },
  {
   "cell_type": "code",
   "execution_count": 98,
   "source": [
    "medium_master_1.drop('Unnamed: 0',axis=1,inplace=True)"
   ],
   "outputs": [],
   "metadata": {}
  },
  {
   "cell_type": "code",
   "execution_count": 99,
   "source": [
    "medium_master_2 = pd.merge(medium_master_inquiry_count, medium_master_1, left_on=[\n",
    "    'listing_id','month'], right_on=['listing_id','month'], how='right')"
   ],
   "outputs": [],
   "metadata": {}
  },
  {
   "cell_type": "code",
   "execution_count": 100,
   "source": [
    "medium_master_2.drop(['inquiry_price','month','month_norm','year','yearmonth'],axis=1,inplace=True)"
   ],
   "outputs": [],
   "metadata": {}
  },
  {
   "cell_type": "code",
   "execution_count": 101,
   "source": [
    "medium_master_2.drop(['price_per_day'],axis=1,inplace=True)"
   ],
   "outputs": [],
   "metadata": {}
  },
  {
   "cell_type": "code",
   "execution_count": 102,
   "source": [
    "medium_master_2.rename(columns={\n",
    "    'count':'inquiry_count','mean':'mean_price_per_day','max':'max_price_per_day',\n",
    "    'min':'min_price_per_day'},inplace=True)"
   ],
   "outputs": [],
   "metadata": {}
  },
  {
   "cell_type": "code",
   "execution_count": 103,
   "source": [
    "list(medium_master_2.columns.values)"
   ],
   "outputs": [
    {
     "output_type": "execute_result",
     "data": {
      "text/plain": [
       "['listing_id',\n",
       " 'inquiry_count',\n",
       " 'mean_price_per_day',\n",
       " 'max_price_per_day',\n",
       " 'min_price_per_day',\n",
       " 'result_views',\n",
       " 'expose_views',\n",
       " '1_room_apartment',\n",
       " 'dining_room',\n",
       " 'en_suite_bathroom',\n",
       " 'kitchen',\n",
       " 'kitchen_living',\n",
       " 'living_bedroom',\n",
       " 'living_/_dining_room',\n",
       " 'living_room',\n",
       " 'roof-deck',\n",
       " 'separate_WC',\n",
       " 'veranda',\n",
       " 'additional_bed',\n",
       " 'bathtub',\n",
       " 'bed_linen',\n",
       " 'bicycles',\n",
       " 'coffee_machine',\n",
       " 'computer',\n",
       " 'double_bed',\n",
       " 'fan',\n",
       " 'fireplace',\n",
       " 'freezer',\n",
       " 'games',\n",
       " 'garage',\n",
       " 'garden_furniture',\n",
       " 'hair_dryer',\n",
       " 'hot_tub',\n",
       " 'infrared_cabin',\n",
       " 'kingsize_bed',\n",
       " 'microwave',\n",
       " 'pool_table',\n",
       " 'private_parking',\n",
       " 'radio',\n",
       " 'refrigerator',\n",
       " 'shower',\n",
       " 'single_bed',\n",
       " 'sofa_bed',\n",
       " 'steam_bath',\n",
       " 'tanning_bed',\n",
       " 'cooking',\n",
       " 'date',\n",
       " 'adult_count',\n",
       " 'children_count',\n",
       " 'pets_count',\n",
       " 'arrival_date',\n",
       " 'departure_date',\n",
       " 'length_stay',\n",
       " 'subregion',\n",
       " 'property_type',\n",
       " 'option_allergic',\n",
       " 'option_non_smoking_only',\n",
       " 'option_holiday_with_your_pet',\n",
       " 'option_holiday_with_your_horse',\n",
       " 'option_holiday_with_your_dog',\n",
       " 'option_close_to_the_beach',\n",
       " 'option_wheelchair_accessible',\n",
       " 'option_family_travel',\n",
       " 'option_close_to_the_water',\n",
       " 'option_holiday_with_your_baby',\n",
       " 'option_long_term_holiday',\n",
       " 'option_fully_accessible',\n",
       " 'option_technicians',\n",
       " 'option_close_to_the_ski_lift',\n",
       " 'babybed',\n",
       " 'internet',\n",
       " 'dishwasher',\n",
       " 'washingmachine',\n",
       " 'dryer',\n",
       " 'tv',\n",
       " 'pool',\n",
       " 'sauna',\n",
       " 'grill',\n",
       " 'garden',\n",
       " 'terrace',\n",
       " 'balcony',\n",
       " 'bathrooms',\n",
       " 'bedrooms',\n",
       " 'max_guests',\n",
       " 'living_area',\n",
       " 'cos_month',\n",
       " 'sin_month']"
      ]
     },
     "metadata": {},
     "execution_count": 103
    }
   ],
   "metadata": {}
  },
  {
   "cell_type": "code",
   "execution_count": 104,
   "source": [
    "medium_master_2.drop([\n",
    "    'date','arrival_date','departure_date','option_holiday_with_your_dog',\n",
    "    'option_holiday_with_your_horse'],axis=1,inplace=True)"
   ],
   "outputs": [],
   "metadata": {}
  },
  {
   "cell_type": "code",
   "execution_count": 105,
   "source": [
    "# trying not to be a dummy by getting dummies\n",
    "\n",
    "master_dummies = pd.get_dummies(medium_master_2, columns=['subregion','property_type'])"
   ],
   "outputs": [],
   "metadata": {}
  },
  {
   "cell_type": "code",
   "execution_count": 106,
   "source": [
    "# save csv for this data set\n",
    "\n",
    "master_dummies.to_csv('../data/master_with_dummies_2020.csv')"
   ],
   "outputs": [],
   "metadata": {}
  },
  {
   "cell_type": "code",
   "execution_count": 107,
   "source": [
    "master_dummies"
   ],
   "outputs": [
    {
     "output_type": "execute_result",
     "data": {
      "text/plain": [
       "                                  listing_id  inquiry_count  \\\n",
       "0       97232bc1-cee6-54cc-9965-be13177051d3              4   \n",
       "1       97232bc1-cee6-54cc-9965-be13177051d3              9   \n",
       "2       97232bc1-cee6-54cc-9965-be13177051d3             10   \n",
       "3       97232bc1-cee6-54cc-9965-be13177051d3              9   \n",
       "4       97232bc1-cee6-54cc-9965-be13177051d3              7   \n",
       "...                                      ...            ...   \n",
       "699072  bd2737ac-54e2-5045-8706-bf0aef99456e              4   \n",
       "699073  bd2737ac-54e2-5045-8706-bf0aef99456e              4   \n",
       "699074  00779d9d-7264-5704-a71d-e6d1849cb4b7              1   \n",
       "699075  00779d9d-7264-5704-a71d-e6d1849cb4b7              1   \n",
       "699076  048f8764-c789-5003-9a67-a63d3d3f5062              1   \n",
       "\n",
       "        mean_price_per_day  max_price_per_day  min_price_per_day  \\\n",
       "0               133.607143         179.000000           0.000000   \n",
       "1               143.579365         182.000000           0.000000   \n",
       "2                73.507143          88.500000           0.000000   \n",
       "3               143.579365         182.000000           0.000000   \n",
       "4               164.119048         179.000000         130.833333   \n",
       "...                    ...                ...                ...   \n",
       "699072           85.250000          94.000000          79.000000   \n",
       "699073           85.250000          94.000000          79.000000   \n",
       "699074          133.333333         133.333333         133.333333   \n",
       "699075          140.000000         140.000000         140.000000   \n",
       "699076           65.000000          65.000000          65.000000   \n",
       "\n",
       "        result_views  expose_views  1_room_apartment  dining_room  \\\n",
       "0             2985.0         630.0               0.0          0.0   \n",
       "1             1862.0         257.0               0.0          0.0   \n",
       "2              560.0         102.0               0.0          0.0   \n",
       "3             1862.0         257.0               0.0          0.0   \n",
       "4             2549.0         395.0               0.0          0.0   \n",
       "...              ...           ...               ...          ...   \n",
       "699072         344.0          83.0               0.0          0.0   \n",
       "699073         344.0          83.0               0.0          0.0   \n",
       "699074        1239.0         180.0               0.0          0.0   \n",
       "699075         363.0          11.0               0.0          0.0   \n",
       "699076         134.0          41.0               0.0          0.0   \n",
       "\n",
       "        en_suite_bathroom  ...  subregion_Westerzgebirge  subregion_Westheide  \\\n",
       "0                     0.0  ...                         0                    0   \n",
       "1                     0.0  ...                         0                    0   \n",
       "2                     0.0  ...                         0                    0   \n",
       "3                     0.0  ...                         0                    0   \n",
       "4                     0.0  ...                         0                    0   \n",
       "...                   ...  ...                       ...                  ...   \n",
       "699072                0.0  ...                         0                    0   \n",
       "699073                0.0  ...                         0                    0   \n",
       "699074                0.0  ...                         0                    0   \n",
       "699075                0.0  ...                         0                    0   \n",
       "699076                0.0  ...                         0                    0   \n",
       "\n",
       "        subregion_Willingen  subregion_Zeller Land  subregion_Zugspitz-Region  \\\n",
       "0                         0                      0                          0   \n",
       "1                         0                      0                          0   \n",
       "2                         0                      0                          0   \n",
       "3                         0                      0                          0   \n",
       "4                         0                      0                          0   \n",
       "...                     ...                    ...                        ...   \n",
       "699072                    0                      0                          0   \n",
       "699073                    0                      0                          0   \n",
       "699074                    0                      0                          0   \n",
       "699075                    0                      0                          0   \n",
       "699076                    0                      0                          0   \n",
       "\n",
       "        subregion_Überlinger See  property_type_apartment  \\\n",
       "0                              0                        0   \n",
       "1                              0                        0   \n",
       "2                              0                        0   \n",
       "3                              0                        0   \n",
       "4                              0                        0   \n",
       "...                          ...                      ...   \n",
       "699072                         0                        0   \n",
       "699073                         0                        0   \n",
       "699074                         0                        0   \n",
       "699075                         0                        0   \n",
       "699076                         0                        0   \n",
       "\n",
       "        property_type_bungalow  property_type_holiday_apartment  \\\n",
       "0                            0                                1   \n",
       "1                            0                                1   \n",
       "2                            0                                1   \n",
       "3                            0                                1   \n",
       "4                            0                                1   \n",
       "...                        ...                              ...   \n",
       "699072                       0                                0   \n",
       "699073                       0                                0   \n",
       "699074                       0                                1   \n",
       "699075                       0                                1   \n",
       "699076                       0                                1   \n",
       "\n",
       "        property_type_holiday_houses  \n",
       "0                                  0  \n",
       "1                                  0  \n",
       "2                                  0  \n",
       "3                                  0  \n",
       "4                                  0  \n",
       "...                              ...  \n",
       "699072                             1  \n",
       "699073                             1  \n",
       "699074                             0  \n",
       "699075                             0  \n",
       "699076                             0  \n",
       "\n",
       "[699077 rows x 272 columns]"
      ],
      "text/html": [
       "<div>\n",
       "<style scoped>\n",
       "    .dataframe tbody tr th:only-of-type {\n",
       "        vertical-align: middle;\n",
       "    }\n",
       "\n",
       "    .dataframe tbody tr th {\n",
       "        vertical-align: top;\n",
       "    }\n",
       "\n",
       "    .dataframe thead th {\n",
       "        text-align: right;\n",
       "    }\n",
       "</style>\n",
       "<table border=\"1\" class=\"dataframe\">\n",
       "  <thead>\n",
       "    <tr style=\"text-align: right;\">\n",
       "      <th></th>\n",
       "      <th>listing_id</th>\n",
       "      <th>inquiry_count</th>\n",
       "      <th>mean_price_per_day</th>\n",
       "      <th>max_price_per_day</th>\n",
       "      <th>min_price_per_day</th>\n",
       "      <th>result_views</th>\n",
       "      <th>expose_views</th>\n",
       "      <th>1_room_apartment</th>\n",
       "      <th>dining_room</th>\n",
       "      <th>en_suite_bathroom</th>\n",
       "      <th>...</th>\n",
       "      <th>subregion_Westerzgebirge</th>\n",
       "      <th>subregion_Westheide</th>\n",
       "      <th>subregion_Willingen</th>\n",
       "      <th>subregion_Zeller Land</th>\n",
       "      <th>subregion_Zugspitz-Region</th>\n",
       "      <th>subregion_Überlinger See</th>\n",
       "      <th>property_type_apartment</th>\n",
       "      <th>property_type_bungalow</th>\n",
       "      <th>property_type_holiday_apartment</th>\n",
       "      <th>property_type_holiday_houses</th>\n",
       "    </tr>\n",
       "  </thead>\n",
       "  <tbody>\n",
       "    <tr>\n",
       "      <th>0</th>\n",
       "      <td>97232bc1-cee6-54cc-9965-be13177051d3</td>\n",
       "      <td>4</td>\n",
       "      <td>133.607143</td>\n",
       "      <td>179.000000</td>\n",
       "      <td>0.000000</td>\n",
       "      <td>2985.0</td>\n",
       "      <td>630.0</td>\n",
       "      <td>0.0</td>\n",
       "      <td>0.0</td>\n",
       "      <td>0.0</td>\n",
       "      <td>...</td>\n",
       "      <td>0</td>\n",
       "      <td>0</td>\n",
       "      <td>0</td>\n",
       "      <td>0</td>\n",
       "      <td>0</td>\n",
       "      <td>0</td>\n",
       "      <td>0</td>\n",
       "      <td>0</td>\n",
       "      <td>1</td>\n",
       "      <td>0</td>\n",
       "    </tr>\n",
       "    <tr>\n",
       "      <th>1</th>\n",
       "      <td>97232bc1-cee6-54cc-9965-be13177051d3</td>\n",
       "      <td>9</td>\n",
       "      <td>143.579365</td>\n",
       "      <td>182.000000</td>\n",
       "      <td>0.000000</td>\n",
       "      <td>1862.0</td>\n",
       "      <td>257.0</td>\n",
       "      <td>0.0</td>\n",
       "      <td>0.0</td>\n",
       "      <td>0.0</td>\n",
       "      <td>...</td>\n",
       "      <td>0</td>\n",
       "      <td>0</td>\n",
       "      <td>0</td>\n",
       "      <td>0</td>\n",
       "      <td>0</td>\n",
       "      <td>0</td>\n",
       "      <td>0</td>\n",
       "      <td>0</td>\n",
       "      <td>1</td>\n",
       "      <td>0</td>\n",
       "    </tr>\n",
       "    <tr>\n",
       "      <th>2</th>\n",
       "      <td>97232bc1-cee6-54cc-9965-be13177051d3</td>\n",
       "      <td>10</td>\n",
       "      <td>73.507143</td>\n",
       "      <td>88.500000</td>\n",
       "      <td>0.000000</td>\n",
       "      <td>560.0</td>\n",
       "      <td>102.0</td>\n",
       "      <td>0.0</td>\n",
       "      <td>0.0</td>\n",
       "      <td>0.0</td>\n",
       "      <td>...</td>\n",
       "      <td>0</td>\n",
       "      <td>0</td>\n",
       "      <td>0</td>\n",
       "      <td>0</td>\n",
       "      <td>0</td>\n",
       "      <td>0</td>\n",
       "      <td>0</td>\n",
       "      <td>0</td>\n",
       "      <td>1</td>\n",
       "      <td>0</td>\n",
       "    </tr>\n",
       "    <tr>\n",
       "      <th>3</th>\n",
       "      <td>97232bc1-cee6-54cc-9965-be13177051d3</td>\n",
       "      <td>9</td>\n",
       "      <td>143.579365</td>\n",
       "      <td>182.000000</td>\n",
       "      <td>0.000000</td>\n",
       "      <td>1862.0</td>\n",
       "      <td>257.0</td>\n",
       "      <td>0.0</td>\n",
       "      <td>0.0</td>\n",
       "      <td>0.0</td>\n",
       "      <td>...</td>\n",
       "      <td>0</td>\n",
       "      <td>0</td>\n",
       "      <td>0</td>\n",
       "      <td>0</td>\n",
       "      <td>0</td>\n",
       "      <td>0</td>\n",
       "      <td>0</td>\n",
       "      <td>0</td>\n",
       "      <td>1</td>\n",
       "      <td>0</td>\n",
       "    </tr>\n",
       "    <tr>\n",
       "      <th>4</th>\n",
       "      <td>97232bc1-cee6-54cc-9965-be13177051d3</td>\n",
       "      <td>7</td>\n",
       "      <td>164.119048</td>\n",
       "      <td>179.000000</td>\n",
       "      <td>130.833333</td>\n",
       "      <td>2549.0</td>\n",
       "      <td>395.0</td>\n",
       "      <td>0.0</td>\n",
       "      <td>0.0</td>\n",
       "      <td>0.0</td>\n",
       "      <td>...</td>\n",
       "      <td>0</td>\n",
       "      <td>0</td>\n",
       "      <td>0</td>\n",
       "      <td>0</td>\n",
       "      <td>0</td>\n",
       "      <td>0</td>\n",
       "      <td>0</td>\n",
       "      <td>0</td>\n",
       "      <td>1</td>\n",
       "      <td>0</td>\n",
       "    </tr>\n",
       "    <tr>\n",
       "      <th>...</th>\n",
       "      <td>...</td>\n",
       "      <td>...</td>\n",
       "      <td>...</td>\n",
       "      <td>...</td>\n",
       "      <td>...</td>\n",
       "      <td>...</td>\n",
       "      <td>...</td>\n",
       "      <td>...</td>\n",
       "      <td>...</td>\n",
       "      <td>...</td>\n",
       "      <td>...</td>\n",
       "      <td>...</td>\n",
       "      <td>...</td>\n",
       "      <td>...</td>\n",
       "      <td>...</td>\n",
       "      <td>...</td>\n",
       "      <td>...</td>\n",
       "      <td>...</td>\n",
       "      <td>...</td>\n",
       "      <td>...</td>\n",
       "      <td>...</td>\n",
       "    </tr>\n",
       "    <tr>\n",
       "      <th>699072</th>\n",
       "      <td>bd2737ac-54e2-5045-8706-bf0aef99456e</td>\n",
       "      <td>4</td>\n",
       "      <td>85.250000</td>\n",
       "      <td>94.000000</td>\n",
       "      <td>79.000000</td>\n",
       "      <td>344.0</td>\n",
       "      <td>83.0</td>\n",
       "      <td>0.0</td>\n",
       "      <td>0.0</td>\n",
       "      <td>0.0</td>\n",
       "      <td>...</td>\n",
       "      <td>0</td>\n",
       "      <td>0</td>\n",
       "      <td>0</td>\n",
       "      <td>0</td>\n",
       "      <td>0</td>\n",
       "      <td>0</td>\n",
       "      <td>0</td>\n",
       "      <td>0</td>\n",
       "      <td>0</td>\n",
       "      <td>1</td>\n",
       "    </tr>\n",
       "    <tr>\n",
       "      <th>699073</th>\n",
       "      <td>bd2737ac-54e2-5045-8706-bf0aef99456e</td>\n",
       "      <td>4</td>\n",
       "      <td>85.250000</td>\n",
       "      <td>94.000000</td>\n",
       "      <td>79.000000</td>\n",
       "      <td>344.0</td>\n",
       "      <td>83.0</td>\n",
       "      <td>0.0</td>\n",
       "      <td>0.0</td>\n",
       "      <td>0.0</td>\n",
       "      <td>...</td>\n",
       "      <td>0</td>\n",
       "      <td>0</td>\n",
       "      <td>0</td>\n",
       "      <td>0</td>\n",
       "      <td>0</td>\n",
       "      <td>0</td>\n",
       "      <td>0</td>\n",
       "      <td>0</td>\n",
       "      <td>0</td>\n",
       "      <td>1</td>\n",
       "    </tr>\n",
       "    <tr>\n",
       "      <th>699074</th>\n",
       "      <td>00779d9d-7264-5704-a71d-e6d1849cb4b7</td>\n",
       "      <td>1</td>\n",
       "      <td>133.333333</td>\n",
       "      <td>133.333333</td>\n",
       "      <td>133.333333</td>\n",
       "      <td>1239.0</td>\n",
       "      <td>180.0</td>\n",
       "      <td>0.0</td>\n",
       "      <td>0.0</td>\n",
       "      <td>0.0</td>\n",
       "      <td>...</td>\n",
       "      <td>0</td>\n",
       "      <td>0</td>\n",
       "      <td>0</td>\n",
       "      <td>0</td>\n",
       "      <td>0</td>\n",
       "      <td>0</td>\n",
       "      <td>0</td>\n",
       "      <td>0</td>\n",
       "      <td>1</td>\n",
       "      <td>0</td>\n",
       "    </tr>\n",
       "    <tr>\n",
       "      <th>699075</th>\n",
       "      <td>00779d9d-7264-5704-a71d-e6d1849cb4b7</td>\n",
       "      <td>1</td>\n",
       "      <td>140.000000</td>\n",
       "      <td>140.000000</td>\n",
       "      <td>140.000000</td>\n",
       "      <td>363.0</td>\n",
       "      <td>11.0</td>\n",
       "      <td>0.0</td>\n",
       "      <td>0.0</td>\n",
       "      <td>0.0</td>\n",
       "      <td>...</td>\n",
       "      <td>0</td>\n",
       "      <td>0</td>\n",
       "      <td>0</td>\n",
       "      <td>0</td>\n",
       "      <td>0</td>\n",
       "      <td>0</td>\n",
       "      <td>0</td>\n",
       "      <td>0</td>\n",
       "      <td>1</td>\n",
       "      <td>0</td>\n",
       "    </tr>\n",
       "    <tr>\n",
       "      <th>699076</th>\n",
       "      <td>048f8764-c789-5003-9a67-a63d3d3f5062</td>\n",
       "      <td>1</td>\n",
       "      <td>65.000000</td>\n",
       "      <td>65.000000</td>\n",
       "      <td>65.000000</td>\n",
       "      <td>134.0</td>\n",
       "      <td>41.0</td>\n",
       "      <td>0.0</td>\n",
       "      <td>0.0</td>\n",
       "      <td>0.0</td>\n",
       "      <td>...</td>\n",
       "      <td>0</td>\n",
       "      <td>0</td>\n",
       "      <td>0</td>\n",
       "      <td>0</td>\n",
       "      <td>0</td>\n",
       "      <td>0</td>\n",
       "      <td>0</td>\n",
       "      <td>0</td>\n",
       "      <td>1</td>\n",
       "      <td>0</td>\n",
       "    </tr>\n",
       "  </tbody>\n",
       "</table>\n",
       "<p>699077 rows × 272 columns</p>\n",
       "</div>"
      ]
     },
     "metadata": {},
     "execution_count": 107
    }
   ],
   "metadata": {}
  },
  {
   "cell_type": "code",
   "execution_count": 108,
   "source": [
    "X = master_dummies.drop(['listing_id','inquiry_count'],axis=1)\n",
    "Y = master_dummies['inquiry_count']"
   ],
   "outputs": [],
   "metadata": {}
  },
  {
   "cell_type": "code",
   "execution_count": null,
   "source": [
    "\n"
   ],
   "outputs": [],
   "metadata": {}
  },
  {
   "cell_type": "code",
   "execution_count": 109,
   "source": [
    "from sklearn.model_selection import train_test_split\n",
    "\n",
    "X_train, X_test, y_train, y_test = train_test_split(X, Y, test_size=0.30, random_state=42)"
   ],
   "outputs": [],
   "metadata": {
    "slideshow": {
     "slide_type": "skip"
    }
   }
  },
  {
   "cell_type": "code",
   "execution_count": 110,
   "source": [
    "# we love to normalize our data!!\n",
    "\n",
    "from sklearn.preprocessing import MinMaxScaler\n"
   ],
   "outputs": [],
   "metadata": {}
  },
  {
   "cell_type": "code",
   "execution_count": 111,
   "source": [
    "the_list = [\n",
    "    'result_views','expose_views','adult_count','children_count',\n",
    "    'pets_count','length_stay','bathrooms','bedrooms','max_guests','living_area']"
   ],
   "outputs": [],
   "metadata": {
    "slideshow": {
     "slide_type": "skip"
    }
   }
  },
  {
   "cell_type": "code",
   "execution_count": 112,
   "source": [
    "# Scaling with MinMaxScaler\n",
    "scaler_norm = MinMaxScaler()\n",
    "X_train_scaled_norm = scaler_norm.fit_transform(X_train[the_list])\n",
    "X_test_scaled_norm = scaler_norm.transform(X_test[the_list])"
   ],
   "outputs": [],
   "metadata": {}
  },
  {
   "cell_type": "code",
   "execution_count": 113,
   "source": [
    "# Concatenating normalized columns \n",
    "X_train_preprocessed_norm = np.concatenate([X_train_scaled_norm, X_train.drop(the_list, axis=1)], axis=1)\n",
    "X_test_preprocessed_norm = np.concatenate([X_test_scaled_norm, X_test.drop(the_list, axis=1)], axis=1)"
   ],
   "outputs": [],
   "metadata": {}
  },
  {
   "cell_type": "code",
   "execution_count": 114,
   "source": [
    "X_train_preprocessed_norm.shape"
   ],
   "outputs": [
    {
     "output_type": "execute_result",
     "data": {
      "text/plain": [
       "(489353, 270)"
      ]
     },
     "metadata": {},
     "execution_count": 114
    }
   ],
   "metadata": {}
  },
  {
   "cell_type": "code",
   "execution_count": 115,
   "source": [
    "X_test_preprocessed_norm.shape"
   ],
   "outputs": [
    {
     "output_type": "execute_result",
     "data": {
      "text/plain": [
       "(209724, 270)"
      ]
     },
     "metadata": {},
     "execution_count": 115
    }
   ],
   "metadata": {}
  },
  {
   "cell_type": "markdown",
   "source": [
    "## Trainining the model and tracking with MLFlow"
   ],
   "metadata": {}
  },
  {
   "cell_type": "code",
   "execution_count": 116,
   "source": [
    "# setting the MLFlow connection and experiment\n",
    "mlflow.set_tracking_uri(TRACKING_URI)\n",
    "mlflow.set_experiment(EXPERIMENT_NAME)\n",
    "mlflow.start_run()\n",
    "run = mlflow.active_run()"
   ],
   "outputs": [],
   "metadata": {
    "slideshow": {
     "slide_type": "slide"
    }
   }
  },
  {
   "cell_type": "code",
   "execution_count": 117,
   "source": [
    "print(\"Active run_id: {}\".format(run.info.run_id))"
   ],
   "outputs": [
    {
     "output_type": "stream",
     "name": "stdout",
     "text": [
      "Active run_id: 3b2ed4087f834c89b4aeaa4ded80e311\n"
     ]
    }
   ],
   "metadata": {
    "slideshow": {
     "slide_type": "subslide"
    }
   }
  },
  {
   "cell_type": "code",
   "execution_count": 118,
   "source": [
    "master_dummies.isna().sum()"
   ],
   "outputs": [
    {
     "output_type": "execute_result",
     "data": {
      "text/plain": [
       "listing_id                         0\n",
       "inquiry_count                      0\n",
       "mean_price_per_day                 0\n",
       "max_price_per_day                  0\n",
       "min_price_per_day                  0\n",
       "                                  ..\n",
       "subregion_Überlinger See           0\n",
       "property_type_apartment            0\n",
       "property_type_bungalow             0\n",
       "property_type_holiday_apartment    0\n",
       "property_type_holiday_houses       0\n",
       "Length: 272, dtype: int64"
      ]
     },
     "metadata": {},
     "execution_count": 118
    }
   ],
   "metadata": {}
  },
  {
   "cell_type": "code",
   "execution_count": 119,
   "source": [
    "#training the model\n",
    "from sklearn.linear_model import LinearRegression\n",
    "reg = LinearRegression().fit(X_train_preprocessed_norm, y_train)"
   ],
   "outputs": [],
   "metadata": {
    "slideshow": {
     "slide_type": "subslide"
    }
   }
  },
  {
   "cell_type": "code",
   "execution_count": 120,
   "source": [
    "from sklearn.metrics import mean_squared_error\n",
    "y_train_pred = reg.predict(X_train_preprocessed_norm)\n",
    "rmse_train = mean_squared_error(y_train, y_train_pred,squared=False)\n",
    "print(rmse_train)"
   ],
   "outputs": [
    {
     "output_type": "stream",
     "name": "stdout",
     "text": [
      "52.595382382323926\n"
     ]
    }
   ],
   "metadata": {
    "slideshow": {
     "slide_type": "subslide"
    }
   }
  },
  {
   "cell_type": "code",
   "execution_count": 121,
   "source": [
    "y_test_pred = reg.predict(X_test_preprocessed_norm)\n",
    "rmse_test = mean_squared_error(y_test, y_test_pred,squared=False)\n",
    "print(rmse_test)"
   ],
   "outputs": [
    {
     "output_type": "stream",
     "name": "stdout",
     "text": [
      "51.48302569286572\n"
     ]
    }
   ],
   "metadata": {
    "slideshow": {
     "slide_type": "subslide"
    }
   }
  },
  {
   "cell_type": "code",
   "execution_count": 122,
   "source": [
    "params = {\n",
    "      \"train_test_split\": 30,\n",
    "      \"normalized data\": 'yes',\n",
    "      \"2019 and 2020 data\": \"2019 and 2020 data\", \n",
    "      \"metric\": 'rmse'\n",
    "  }"
   ],
   "outputs": [],
   "metadata": {
    "slideshow": {
     "slide_type": "slide"
    }
   }
  },
  {
   "cell_type": "code",
   "execution_count": 123,
   "source": [
    "mlflow.log_params(params)\n",
    "mlflow.set_tag(\"running_from_jupyter\", \"baseline model 2020\")\n",
    "mlflow.log_metric(\"train -\" + \"RMSE\", rmse_train)\n",
    "mlflow.log_metric(\"test -\" + \"RMSE\", rmse_test)\n",
    "# mlflow.log_artifact(\"../models\")\n",
    "# mlflow.sklearn.log_model(reg, \"model\")\n",
    "mlflow.end_run()"
   ],
   "outputs": [],
   "metadata": {
    "slideshow": {
     "slide_type": "slide"
    }
   }
  },
  {
   "cell_type": "code",
   "execution_count": 124,
   "source": [
    "mlflow.get_run(run_id=run.info.run_id)"
   ],
   "outputs": [
    {
     "output_type": "execute_result",
     "data": {
      "text/plain": [
       "<Run: data=<RunData: metrics={'test -RMSE': 51.48302569286572, 'train -RMSE': 52.595382382323926}, params={'2019 and 2020 data': '2019 and 2020 data',\n",
       " 'metric': 'rmse',\n",
       " 'normalized data': 'yes',\n",
       " 'train_test_split': '30'}, tags={'mlflow.source.git.commit': '9effae1b300b9decf3137cf7b3b71fae759dd20a',\n",
       " 'mlflow.source.name': '/Users/lukeblecha/neuefische-traum/traum-preis/.venv/lib/python3.8/site-packages/ipykernel_launcher.py',\n",
       " 'mlflow.source.type': 'LOCAL',\n",
       " 'mlflow.user': 'lukeblecha',\n",
       " 'running_from_jupyter': 'baseline model 2020'}>, info=<RunInfo: artifact_uri='s3://neuefische-mlflow/mlflow-artifacts/25/3b2ed4087f834c89b4aeaa4ded80e311/artifacts', end_time=1626870966899, experiment_id='25', lifecycle_stage='active', run_id='3b2ed4087f834c89b4aeaa4ded80e311', run_uuid='3b2ed4087f834c89b4aeaa4ded80e311', start_time=1626870947664, status='FINISHED', user_id='lukeblecha'>>"
      ]
     },
     "metadata": {},
     "execution_count": 124
    }
   ],
   "metadata": {
    "slideshow": {
     "slide_type": "subslide"
    }
   }
  },
  {
   "cell_type": "markdown",
   "source": [
    "## Checking the experiments\n",
    "\n",
    "while the next cell is running you will not be able to run other cells in the notebook"
   ],
   "metadata": {}
  },
  {
   "cell_type": "code",
   "execution_count": 125,
   "source": [
    "#!mlflow ui"
   ],
   "outputs": [],
   "metadata": {
    "slideshow": {
     "slide_type": "slide"
    }
   }
  }
 ],
 "metadata": {
  "kernelspec": {
   "name": "python3",
   "display_name": "Python 3.8.5 64-bit ('.venv': venv)"
  },
  "language_info": {
   "codemirror_mode": {
    "name": "ipython",
    "version": 3
   },
   "file_extension": ".py",
   "mimetype": "text/x-python",
   "name": "python",
   "nbconvert_exporter": "python",
   "pygments_lexer": "ipython3",
   "version": "3.8.5"
  },
  "metadata": {
   "interpreter": {
    "hash": "aee8b7b246df8f9039afb4144a1f6fd8d2ca17a180786b69acc140d282b71a49"
   }
  },
  "interpreter": {
   "hash": "3fd22edfe25832d446c332425401e3196937690f846d01f80d16cc13753e72c7"
  }
 },
 "nbformat": 4,
 "nbformat_minor": 4
}