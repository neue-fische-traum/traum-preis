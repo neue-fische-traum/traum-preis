{
 "cells": [
  {
   "cell_type": "markdown",
   "source": [
    "# Property comparison using cluster modeling"
   ],
   "metadata": {}
  },
  {
   "cell_type": "markdown",
   "source": [
    "## 1. Load the datsets"
   ],
   "metadata": {}
  },
  {
   "cell_type": "code",
   "execution_count": null,
   "source": [
    "# Import necessary libraries\n",
    "import pandas as pd\n",
    "import numpy as np\n",
    "import seaborn as sns\n",
    "import matplotlib.pyplot as plt\n",
    "\n",
    "# Clustering\n",
    "import gower\n",
    "from numpy import savetxt\n",
    "from sklearn.cluster import DBSCAN\n",
    "\n",
    "# # Specifing figure layout\n",
    "sns.set_context(\"talk\", font_scale=1.5)"
   ],
   "outputs": [],
   "metadata": {}
  },
  {
   "cell_type": "code",
   "execution_count": null,
   "source": [
    "# load datasets\n",
    "df_listings = pd.read_csv('../data/all_listings_cleaned_20210723.csv')\n",
    "df_room_features = pd.read_csv('../data/room_features20210716.csv')"
   ],
   "outputs": [],
   "metadata": {}
  },
  {
   "cell_type": "code",
   "execution_count": null,
   "source": [
    "# Shape of both datasets\n",
    "print(df_listings.shape)\n",
    "print(df_room_features.shape)"
   ],
   "outputs": [],
   "metadata": {}
  },
  {
   "cell_type": "markdown",
   "source": [
    "## 2. Try with merging listings and room features"
   ],
   "metadata": {}
  },
  {
   "cell_type": "code",
   "execution_count": null,
   "source": [
    "# Merge both datasets\n",
    "df_cluster = pd.merge(df_listings, df_room_features, on='listing_id', how='inner')\n",
    "print(df_cluster.shape)\n",
    "del df_cluster['Unnamed: 0']\n",
    "df_cluster.head()"
   ],
   "outputs": [],
   "metadata": {}
  },
  {
   "cell_type": "code",
   "execution_count": null,
   "source": [
    "# Looking for all features\n",
    "list(df_cluster.columns)"
   ],
   "outputs": [],
   "metadata": {}
  },
  {
   "cell_type": "code",
   "execution_count": null,
   "source": [
    "# Combine duplicated columns\n",
    "df_cluster['dishwasher_x'] = np.where(df_cluster['dishwasher_x'] == 0, df_cluster['dishwasher_y'], df_cluster['dishwasher_x'])\n",
    "df_cluster['dryer_x'] = np.where(df_cluster['dryer_x'] == 0, df_cluster['dryer_y'], df_cluster['dryer_x'])\n",
    "df_cluster['terrace_x'] = np.where(df_cluster['terrace_x'] == 0, df_cluster['terrace_y'], df_cluster['terrace_x'])\n",
    "\n",
    "# Delete duplicated columns\n",
    "df_cluster.drop(['dishwasher_y', 'dryer_y', 'terrace_y'], axis=1, inplace=True)\n",
    "\n",
    "# Rename columns\n",
    "df_cluster.rename(columns={'dishwasher_x': 'dishwasher', \n",
    "                    'dryer_x': 'dryer', 'terrace_x': 'terrace',\n",
    "                    'sun_umbrella_': 'sun_umbrella',\n",
    "                    'colouring_book_/_pencils': 'colouring_book_pencils',\n",
    "                    \"child's_bed\": 'childs_bed', 'awning_': 'awning',\n",
    "                    'air_conditioning_': 'air_conditioning',\n",
    "                    'CDs/_DVDs': 'CDs_DVDs', 'living_/_dining_room': 'living_dining_room',\n",
    "                    'living_/_bedroom': 'living_bedroom', 'children`s_room': 'childrens_room',\n",
    "                    'Library': 'library'}, inplace=True)"
   ],
   "outputs": [],
   "metadata": {}
  },
  {
   "cell_type": "code",
   "execution_count": null,
   "source": [
    "# Check if categorical features have a sum less than 10 for true values\n",
    "np.any(df_cluster.loc[:,'option_allergic':].sum(axis=0) <= 10)"
   ],
   "outputs": [],
   "metadata": {}
  },
  {
   "cell_type": "code",
   "execution_count": null,
   "source": [
    "# Drop unneccassary features for clustering (comparison properties)\n",
    "df_cluster.drop(['state', 'contract_end', 'subscription', 'binding_inquiry'],axis=1, inplace=True)"
   ],
   "outputs": [],
   "metadata": {}
  },
  {
   "cell_type": "markdown",
   "source": [
    "### Distance measures for mixed data: Gower’s dissimilarity\n",
    "\n",
    "Clustering algorithms are based on distance measures to define if objects are considered similar or not. Distances need to be defined between two objects in order to use clustering algorithms. A problem with defining distances can occur when a data set consists of mixed data, for instance, numeric, binary, nominal and ordinal data. A solution is to use Gower’s dissimilarity measure (GD) that can calculate the distance between two entities whose attributes have a mix of categorical and numerical values."
   ],
   "metadata": {}
  },
  {
   "cell_type": "code",
   "execution_count": null,
   "source": [
    "# Calculate distance matrix\n",
    "distance_matrix = gower.gower_matrix(df_cluster)"
   ],
   "outputs": [],
   "metadata": {}
  },
  {
   "cell_type": "code",
   "execution_count": null,
   "source": [
    "# Shape of distance matrix\n",
    "distance_matrix.shape"
   ],
   "outputs": [],
   "metadata": {}
  },
  {
   "cell_type": "code",
   "execution_count": null,
   "source": [
    "# Save distance matrix in CSV file\n",
    "#savetxt('../data/distance_matrix.csv', distance_matrix, delimiter=',')\n",
    "\n",
    "# load numpy array from csv file\n",
    "#from numpy import loadtxt\n",
    "# load array\n",
    "#df_cluster = loadtxt('distance_matrix.csv', delimiter=',')"
   ],
   "outputs": [],
   "metadata": {}
  },
  {
   "cell_type": "markdown",
   "source": [
    "### DBSCAN\n",
    "\n",
    "The main concept of DBSCAN algorithm is to locate regions of high density that are separated from one another by regions of low density. \n",
    "\n",
    "Density at a point P: Number of points within a circle of Radius Eps (ϵ, eps) from point P.\n",
    "Dense Region: For each point in the cluster, the circle with radius ϵ contains at least minimum number of points (MinPts, min_samples)."
   ],
   "metadata": {}
  },
  {
   "cell_type": "code",
   "execution_count": null,
   "source": [
    "# Configuring the parameters of the clustering algorithm\n",
    "dbscan_cluster = DBSCAN(eps=0.1, \n",
    "                        min_samples=5, \n",
    "                        metric=\"precomputed\")\n",
    "\n",
    "# Fitting the clustering algorithm\n",
    "dbscan_cluster.fit(distance_matrix)\n",
    "\n",
    "# Adding the results to a new column in the dataframe\n",
    "## first try: column cluster --> eps=0.3; min_sample=5\n",
    "df_cluster[\"cluster_01_5\"] = dbscan_cluster.labels_\n",
    "\n",
    "# Show head of new dataset\n",
    "df_cluster.head()\n",
    "\n",
    "# Export new CSV\n",
    "df_cluster.to_csv('../data/clustering_20210723.csv')"
   ],
   "outputs": [],
   "metadata": {}
  },
  {
   "cell_type": "code",
   "execution_count": null,
   "source": [
    "print(df_cluster.cluster_01_5.nunique())\n",
    "print(df_cluster.cluster_01_5.unique())"
   ],
   "outputs": [],
   "metadata": {}
  },
  {
   "cell_type": "code",
   "execution_count": null,
   "source": [
    "df_cluster.cluster_01_5.value_counts()"
   ],
   "outputs": [],
   "metadata": {}
  },
  {
   "cell_type": "markdown",
   "source": [
    "## 3. Try with only the listing dataset"
   ],
   "metadata": {}
  },
  {
   "cell_type": "code",
   "execution_count": null,
   "source": [
    "# Drop unneccassary features for clustering (comparison properties)\n",
    "df_listings.drop(['Unnamed: 0','state', 'contract_end', 'subscription', 'binding_inquiry'],axis=1, inplace=True)"
   ],
   "outputs": [],
   "metadata": {}
  },
  {
   "cell_type": "code",
   "execution_count": null,
   "source": [
    "# Calculate distance matrix\n",
    "distance_matrix_listings = gower.gower_matrix(df_listings)"
   ],
   "outputs": [],
   "metadata": {}
  },
  {
   "cell_type": "code",
   "execution_count": null,
   "source": [
    "# Save distance matrix in CSV file\n",
    "#savetxt('../data/distance_matrix_listings.csv', distance_matrix_listings, delimiter=',')"
   ],
   "outputs": [],
   "metadata": {}
  },
  {
   "cell_type": "code",
   "execution_count": null,
   "source": [
    "# Configuring the parameters of the clustering algorithm\n",
    "dbscan_cluster = DBSCAN(eps=0.1, \n",
    "                        min_samples=5, \n",
    "                        metric=\"precomputed\")\n",
    "\n",
    "# Fitting the clustering algorithm\n",
    "dbscan_cluster.fit(distance_matrix_listings)\n",
    "\n",
    "# Adding the results to a new column in the dataframe\n",
    "## first try: column cluster --> eps=0.3; min_sample=5\n",
    "df_listings[\"cluster_01_5\"] = dbscan_cluster.labels_\n",
    "\n",
    "# Show head of new dataset\n",
    "df_listings.head()\n",
    "\n",
    "# Export new CSV\n",
    "#df_cluster.to_csv('../data/clustering_20210723.csv')"
   ],
   "outputs": [],
   "metadata": {}
  },
  {
   "cell_type": "code",
   "execution_count": null,
   "source": [
    "print(df_listings.cluster_01_5.nunique())\n",
    "print(df_listings.cluster_01_5.unique())"
   ],
   "outputs": [],
   "metadata": {}
  },
  {
   "cell_type": "code",
   "execution_count": null,
   "source": [
    "df_listings.cluster_01_5.value_counts()"
   ],
   "outputs": [],
   "metadata": {}
  },
  {
   "cell_type": "markdown",
   "source": [
    "## Both tries show clusters but unfortunately the clusters are not clear and evenly. With this method it's hard to comprehend how the clusters are created and what represent a cluster."
   ],
   "metadata": {}
  }
 ],
 "metadata": {
  "orig_nbformat": 4,
  "language_info": {
   "name": "python",
   "version": "3.8.5",
   "mimetype": "text/x-python",
   "codemirror_mode": {
    "name": "ipython",
    "version": 3
   },
   "pygments_lexer": "ipython3",
   "nbconvert_exporter": "python",
   "file_extension": ".py"
  },
  "kernelspec": {
   "name": "python3",
   "display_name": "Python 3.8.5 64-bit ('.venv')"
  },
  "interpreter": {
   "hash": "7033859b39016b1cbb0cfa821a6f288e7fd907fe4b33f32f92dbeb273ada45c0"
  }
 },
 "nbformat": 4,
 "nbformat_minor": 2
}