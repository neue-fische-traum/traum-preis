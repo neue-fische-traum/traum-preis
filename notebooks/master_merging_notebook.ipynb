{
 "cells": [
  {
   "cell_type": "code",
   "execution_count": null,
   "source": [],
   "outputs": [],
   "metadata": {}
  },
  {
   "cell_type": "markdown",
   "source": [
    "# This notebook will serve for the merging of datasets for the TFW project"
   ],
   "metadata": {}
  },
  {
   "cell_type": "code",
   "execution_count": 2,
   "source": [
    "# Import necassary libraries\n",
    "import pandas as pd\n",
    "import numpy as np\n",
    "import os\n",
    "import seaborn as sns\n",
    "import matplotlib.pyplot as plt\n",
    "\n",
    "ROOT = os.environ.get('PWD')\n"
   ],
   "outputs": [],
   "metadata": {}
  },
  {
   "cell_type": "markdown",
   "source": [
    "# the outcome of the merging will be a dataset with the name, df_master_tfw7"
   ],
   "metadata": {}
  },
  {
   "cell_type": "markdown",
   "source": [
    "# we will start with the inquiries dataset as the source of the instances of inquiries we will use for our model. to this file we will add data related to each property that have collected from the listings and room features files"
   ],
   "metadata": {}
  },
  {
   "cell_type": "code",
   "execution_count": null,
   "source": [
    "\n",
    "# read in inquiries dataset\n",
    "\n",
    "df_inquiries = pd.read_csv('../data/master_inquiries_20210715.csv', low_memory=False)\n"
   ],
   "outputs": [],
   "metadata": {}
  },
  {
   "cell_type": "code",
   "execution_count": null,
   "source": [
    "\n",
    "df_inquiries.head(3)\n"
   ],
   "outputs": [],
   "metadata": {}
  },
  {
   "cell_type": "code",
   "execution_count": null,
   "source": [
    "df_inquiries.info()"
   ],
   "outputs": [],
   "metadata": {}
  },
  {
   "cell_type": "code",
   "execution_count": null,
   "source": [
    "# df_inquiries.drop(['inquiry_price','length_stay'],axis=1,inplace=True)"
   ],
   "outputs": [],
   "metadata": {}
  },
  {
   "cell_type": "code",
   "execution_count": null,
   "source": [
    "df_inquiries.nunique()"
   ],
   "outputs": [],
   "metadata": {}
  },
  {
   "cell_type": "code",
   "execution_count": null,
   "source": [
    "del df_inquiries['Unnamed: 0']"
   ],
   "outputs": [],
   "metadata": {}
  },
  {
   "cell_type": "markdown",
   "source": [
    "# read in listings dataset. note that listings has the master list of properties, which will reduce the number of observations in inquiries and room features. we need to merge appropriately\n",
    "\n"
   ],
   "metadata": {}
  },
  {
   "cell_type": "code",
   "execution_count": null,
   "source": [
    "# read in listings dataset\n",
    "\n",
    "df_listings = pd.read_csv('../data/master_listings_20210723.csv', low_memory=False)\n"
   ],
   "outputs": [],
   "metadata": {}
  },
  {
   "cell_type": "code",
   "execution_count": null,
   "source": [
    "del df_listings['Unnamed: 0']"
   ],
   "outputs": [],
   "metadata": {}
  },
  {
   "cell_type": "code",
   "execution_count": null,
   "source": [
    "df_listings.drop(['customer_id','state','subscription'],axis=1,inplace=True)"
   ],
   "outputs": [],
   "metadata": {}
  },
  {
   "cell_type": "code",
   "execution_count": null,
   "source": [
    "df_listings.nunique()"
   ],
   "outputs": [],
   "metadata": {}
  },
  {
   "cell_type": "code",
   "execution_count": null,
   "source": [
    "# do the first actual merge\n",
    "\n",
    "df_master_tfw1 = pd.merge(df_inquiries, df_listings, left_on='listing_id', right_on='listing_id', how='right')"
   ],
   "outputs": [],
   "metadata": {}
  },
  {
   "cell_type": "code",
   "execution_count": null,
   "source": [
    "# check to see what the outcome looks like in df_master_tfw \n",
    "\n",
    "df_master_tfw1.nunique()"
   ],
   "outputs": [],
   "metadata": {}
  },
  {
   "cell_type": "code",
   "execution_count": null,
   "source": [
    "df_master_tfw1.info()"
   ],
   "outputs": [],
   "metadata": {}
  },
  {
   "cell_type": "markdown",
   "source": [
    "# merge all of room features dataset into master"
   ],
   "metadata": {}
  },
  {
   "cell_type": "code",
   "execution_count": null,
   "source": [
    "# load room features dataset\n",
    "df_room_features = pd.read_csv('../data/room_features20210719.csv')"
   ],
   "outputs": [],
   "metadata": {}
  },
  {
   "cell_type": "code",
   "execution_count": null,
   "source": [
    "df_room_features.head()"
   ],
   "outputs": [],
   "metadata": {}
  },
  {
   "cell_type": "code",
   "execution_count": null,
   "source": [
    "df_master_tfw2 = pd.merge(df_room_features, df_master_tfw1, left_on='listing_id', right_on='listing_id', how='right')"
   ],
   "outputs": [],
   "metadata": {}
  },
  {
   "cell_type": "code",
   "execution_count": null,
   "source": [
    "df_master_tfw2.info()"
   ],
   "outputs": [],
   "metadata": {}
  },
  {
   "cell_type": "code",
   "execution_count": null,
   "source": [
    "df_master_tfw2.nunique()"
   ],
   "outputs": [],
   "metadata": {}
  },
  {
   "cell_type": "code",
   "execution_count": null,
   "source": [
    "# del df_master_tfw2['time']"
   ],
   "outputs": [],
   "metadata": {}
  },
  {
   "cell_type": "code",
   "execution_count": 4,
   "source": [
    "# set global default to be able to see all columns\n",
    "\n",
    "pd.set_option('display.max_rows', None)"
   ],
   "outputs": [],
   "metadata": {}
  },
  {
   "cell_type": "code",
   "execution_count": null,
   "source": [
    "df_master_tfw2.isna().sum()"
   ],
   "outputs": [],
   "metadata": {}
  },
  {
   "cell_type": "code",
   "execution_count": null,
   "source": [
    "x = list(df_master_tfw2.columns.values)"
   ],
   "outputs": [],
   "metadata": {}
  },
  {
   "cell_type": "code",
   "execution_count": null,
   "source": [
    "y = x[1:145]"
   ],
   "outputs": [],
   "metadata": {}
  },
  {
   "cell_type": "code",
   "execution_count": null,
   "source": [
    "y"
   ],
   "outputs": [],
   "metadata": {}
  },
  {
   "cell_type": "code",
   "execution_count": null,
   "source": [
    "# filling in missing values for all the columns in the list \n",
    "for i in y:\n",
    "    df_master_tfw2[i].fillna(0,inplace=True)"
   ],
   "outputs": [],
   "metadata": {}
  },
  {
   "cell_type": "code",
   "execution_count": null,
   "source": [
    "df_master_tfw2.isna().sum()"
   ],
   "outputs": [],
   "metadata": {}
  },
  {
   "cell_type": "code",
   "execution_count": null,
   "source": [
    "# imputing missing values for adult count, using median\n",
    "\n",
    "df_master_tfw2['adult_count'] = df_master_tfw2['adult_count'].fillna(df_master_tfw2['adult_count'].median())"
   ],
   "outputs": [],
   "metadata": {}
  },
  {
   "cell_type": "code",
   "execution_count": null,
   "source": [
    "# imputing missing values for children count, using median\n",
    "\n",
    "df_master_tfw2['children_count'] = df_master_tfw2['children_count'].fillna(df_master_tfw2['children_count'].median())"
   ],
   "outputs": [],
   "metadata": {}
  },
  {
   "cell_type": "code",
   "execution_count": null,
   "source": [
    "# imputing missing values for pets, using median\n",
    "\n",
    "df_master_tfw2['pets_count'] = df_master_tfw2['pets_count'].fillna(df_master_tfw2['pets_count'].median())"
   ],
   "outputs": [],
   "metadata": {}
  },
  {
   "cell_type": "code",
   "execution_count": null,
   "source": [
    "# delete the 655 rows that just shouldn't be there\n",
    "\n",
    "df_master_tfw2.dropna(inplace=True)"
   ],
   "outputs": [],
   "metadata": {}
  },
  {
   "cell_type": "code",
   "execution_count": null,
   "source": [
    "df_master_tfw2.isna().sum()"
   ],
   "outputs": [],
   "metadata": {}
  },
  {
   "cell_type": "code",
   "execution_count": null,
   "source": [
    "df_master_tfw2.nunique()"
   ],
   "outputs": [],
   "metadata": {}
  },
  {
   "cell_type": "code",
   "execution_count": null,
   "source": [
    "# for the time being, we will get rid of room features that are not common--with less than 1000 properties showing them, as they are resource intensive and are not likley to conbribute to the model\n",
    "\n",
    "a_list = ['1_room_apartment', 'library', 'en_suite_bathroom', 'gallery', 'heating_room', 'lounge', 'roof-deck', 'veranda', 'winter_garden', 'VCR', 'alarm_system', 'baby_monitor', 'bathrobe', 'bidet', 'boat', 'boat_dock', 'bottle_warmer', 'changing_mat', 'computer', 'darts', 'exercise_room', 'fan', 'fax', 'folding_bed', 'game_console', 'guest_toilet', 'hot_tub', 'infrared_cabin', 'kingsize_bed', 'loft_bed', 'outdoor_shower', 'piano', 'pier', 'pool_table', 'relaxation_room', 'room_service', 'shared_swimming_pool', 'shoe_cabinet', 'steam_bath', 'swimming_pool', 'table_football', 'tanning_bed', 'terrace', 'wall_bed', 'water_bed']\n",
    "\n",
    "for i in a_list:\n",
    "    df_master_tfw2.drop([i],axis=1,inplace=True)"
   ],
   "outputs": [],
   "metadata": {}
  },
  {
   "cell_type": "code",
   "execution_count": null,
   "source": [
    "# temp save for memory reasons\n",
    "\n",
    "df_master_tfw2.to_csv('../data/master_2.csv')"
   ],
   "outputs": [],
   "metadata": {}
  },
  {
   "cell_type": "code",
   "execution_count": null,
   "source": [
    "df_master_tfw2.nunique()"
   ],
   "outputs": [],
   "metadata": {}
  },
  {
   "cell_type": "markdown",
   "source": [
    "# replace inquiry price with relevant price data"
   ],
   "metadata": {}
  },
  {
   "cell_type": "code",
   "execution_count": null,
   "source": [
    "# read in relevant prices\n",
    "\n",
    "df_new_price = pd.read_csv('../data/prices_for_master.csv')"
   ],
   "outputs": [],
   "metadata": {}
  },
  {
   "cell_type": "code",
   "execution_count": null,
   "source": [
    "df_new_price = "
   ],
   "outputs": [],
   "metadata": {}
  },
  {
   "cell_type": "code",
   "execution_count": null,
   "source": [
    "df_new_price.head(10)"
   ],
   "outputs": [],
   "metadata": {}
  },
  {
   "cell_type": "code",
   "execution_count": null,
   "source": [
    "del df_new_price['Unnamed: 0']"
   ],
   "outputs": [],
   "metadata": {}
  },
  {
   "cell_type": "code",
   "execution_count": null,
   "source": [
    "# we need to filter out price data that is not in our data range. create year column to do the filter\n",
    "\n",
    "df_new_price['year'] = pd.to_datetime(df_new_price['date_from']).dt.year"
   ],
   "outputs": [],
   "metadata": {}
  },
  {
   "cell_type": "code",
   "execution_count": null,
   "source": [
    "# drop prices that are outside of our data range\n",
    "\n",
    "filter_price = df_new_price.query('year > 2018 & year < 2021')"
   ],
   "outputs": [],
   "metadata": {}
  },
  {
   "cell_type": "code",
   "execution_count": null,
   "source": [
    "filter_price.head(100)"
   ],
   "outputs": [],
   "metadata": {}
  },
  {
   "cell_type": "code",
   "execution_count": null,
   "source": [
    "filter_price.nunique()"
   ],
   "outputs": [],
   "metadata": {}
  },
  {
   "cell_type": "markdown",
   "source": [
    "# check shows only 2019 and 2020 are in the price data to be merged\n"
   ],
   "metadata": {}
  },
  {
   "cell_type": "code",
   "execution_count": null,
   "source": [
    "df_master_tfw2.head(2)"
   ],
   "outputs": [],
   "metadata": {}
  },
  {
   "cell_type": "code",
   "execution_count": null,
   "source": [
    "df_master_tfw2.columns.values"
   ],
   "outputs": [],
   "metadata": {}
  },
  {
   "cell_type": "code",
   "execution_count": null,
   "source": [
    "df_master_tfw4 = pd.merge(df_master_tfw2, filter_price, on='listing_id', how='outer')"
   ],
   "outputs": [],
   "metadata": {}
  },
  {
   "cell_type": "code",
   "execution_count": null,
   "source": [
    "# save to csv\n",
    "\n",
    "df_master_tfw4.to_csv('../data/master_4_temp.csv')\n",
    "\n"
   ],
   "outputs": [],
   "metadata": {}
  },
  {
   "cell_type": "code",
   "execution_count": null,
   "source": [
    "\n",
    "# checking\n",
    " \n",
    "df_master_tfw4.head()"
   ],
   "outputs": [],
   "metadata": {}
  },
  {
   "cell_type": "code",
   "execution_count": null,
   "source": [
    "df_master_tfw4.shape"
   ],
   "outputs": [],
   "metadata": {}
  },
  {
   "cell_type": "code",
   "execution_count": null,
   "source": [
    "# get rid of rows with missing price data\n",
    "\n",
    "df_master_tfw4.dropna(inplace=True)"
   ],
   "outputs": [],
   "metadata": {}
  },
  {
   "cell_type": "code",
   "execution_count": null,
   "source": [
    "df_master_tfw4.shape"
   ],
   "outputs": [],
   "metadata": {}
  },
  {
   "cell_type": "code",
   "execution_count": null,
   "source": [
    "# extract price only on matches for arrival date in appropriate range\n",
    "\n",
    "df_master_tfw5 = df_master_tfw4[(df_master_tfw4.arrival_date >= df_master_tfw4.date_from) & (df_master_tfw4.arrival_date < df_master_tfw4.date_to)]\n"
   ],
   "outputs": [],
   "metadata": {}
  },
  {
   "cell_type": "code",
   "execution_count": null,
   "source": [
    "# checking\n",
    "\n",
    "df_master_tfw5.shape"
   ],
   "outputs": [],
   "metadata": {}
  },
  {
   "cell_type": "code",
   "execution_count": null,
   "source": [
    "# save intermediate data\n",
    "\n",
    "df_master_tfw5.to_csv('../data/master_5.csv')"
   ],
   "outputs": [],
   "metadata": {}
  },
  {
   "cell_type": "code",
   "execution_count": null,
   "source": [
    "# read master 5 from csv\n",
    "\n",
    "df_master_tfw5 = pd.read_csv('../data/master_5.csv')"
   ],
   "outputs": [],
   "metadata": {}
  },
  {
   "cell_type": "code",
   "execution_count": null,
   "source": [
    "# check for missing values\n",
    "\n",
    "df_master_tfw5.isna().sum()"
   ],
   "outputs": [],
   "metadata": {}
  },
  {
   "cell_type": "markdown",
   "source": [
    "# data set has no missing values"
   ],
   "metadata": {}
  },
  {
   "cell_type": "code",
   "execution_count": null,
   "source": [
    "# checking merged set, columns look ok\n",
    "\n",
    "df_master_tfw5.nunique()"
   ],
   "outputs": [],
   "metadata": {}
  },
  {
   "cell_type": "code",
   "execution_count": null,
   "source": [
    "# get rid of year, because this is derived from a date other than that that we need\n",
    "\n",
    "del df_master_tfw5['year']"
   ],
   "outputs": [],
   "metadata": {}
  },
  {
   "cell_type": "code",
   "execution_count": null,
   "source": [
    "# generate year and month from arrival date for later uses\n",
    "\n",
    "df_master_tfw5['year'] = pd.to_datetime(df_master_tfw5['arrival_date']).dt.year\n",
    "df_master_tfw5['month'] = pd.to_datetime(df_master_tfw5['arrival_date']).dt.month"
   ],
   "outputs": [],
   "metadata": {}
  },
  {
   "cell_type": "code",
   "execution_count": null,
   "source": [
    "# generate inquiry count for our data\n",
    "\n",
    "df_master_inquiry_count = df_master_tfw5.groupby(['listing_id','year','month']).agg(['count'])['filled_in_price_per_day'].reset_index()"
   ],
   "outputs": [],
   "metadata": {}
  },
  {
   "cell_type": "code",
   "execution_count": null,
   "source": [
    "df_master_inquiry_count.head()"
   ],
   "outputs": [],
   "metadata": {}
  },
  {
   "cell_type": "code",
   "execution_count": null,
   "source": [
    "# rename count to inquiry_count\n",
    "\n",
    "df_master_inquiry_count.rename(columns={'count':'inquiry_count'},inplace=True)"
   ],
   "outputs": [],
   "metadata": {}
  },
  {
   "cell_type": "code",
   "execution_count": null,
   "source": [
    "# merge these counts back into master set \n",
    "\n",
    "df_master_tfw6 = pd.merge(df_master_inquiry_count, df_master_tfw5, left_on=['listing_id','year','month'], right_on=['listing_id','year','month'], how='right')"
   ],
   "outputs": [],
   "metadata": {}
  },
  {
   "cell_type": "code",
   "execution_count": null,
   "source": [
    "# read in the appropriate stats data\n",
    "\n",
    "df_stats_extract = pd.read_csv('../data/statistic_id_month_20210721.csv')\n"
   ],
   "outputs": [],
   "metadata": {}
  },
  {
   "cell_type": "code",
   "execution_count": null,
   "source": [
    "\n",
    "df_master_tfw6 = pd.merge(df_stats_extract, df_master_tfw6, left_on=['listing_id','year','month'], right_on=['listing_id','year','month'], how='right')"
   ],
   "outputs": [],
   "metadata": {}
  },
  {
   "cell_type": "code",
   "execution_count": null,
   "source": [
    "df_master_tfw6.nunique()"
   ],
   "outputs": [],
   "metadata": {}
  },
  {
   "cell_type": "code",
   "execution_count": null,
   "source": [
    "df_master_tfw6.drop(['yearmonth'],axis=1,inplace=True)"
   ],
   "outputs": [],
   "metadata": {}
  },
  {
   "cell_type": "code",
   "execution_count": null,
   "source": [
    "df_master_tfw6.nunique()"
   ],
   "outputs": [],
   "metadata": {}
  },
  {
   "cell_type": "code",
   "execution_count": null,
   "source": [
    "df_master_tfw6.info()"
   ],
   "outputs": [],
   "metadata": {}
  },
  {
   "cell_type": "code",
   "execution_count": null,
   "source": [
    "df_master_tfw6.nunique()"
   ],
   "outputs": [],
   "metadata": {}
  },
  {
   "cell_type": "code",
   "execution_count": null,
   "source": [
    "# save merged set\n",
    "\n",
    "df_master_tfw6.to_csv('../data/master_6.csv')"
   ],
   "outputs": [],
   "metadata": {}
  },
  {
   "cell_type": "code",
   "execution_count": null,
   "source": [],
   "outputs": [],
   "metadata": {}
  },
  {
   "cell_type": "markdown",
   "source": [
    "# now it is time to merge in the top listing status"
   ],
   "metadata": {}
  },
  {
   "cell_type": "code",
   "execution_count": null,
   "source": [
    "# read in master 6\n",
    "\n",
    "df_master_tfw6 = pd.read_csv('../data/master_6.csv')"
   ],
   "outputs": [],
   "metadata": {}
  },
  {
   "cell_type": "code",
   "execution_count": null,
   "source": [
    "# integrate top listing information into dataset\n",
    "\n",
    "df_top_listings = pd.read_csv('../data/TOP_listings_20210712.csv')"
   ],
   "outputs": [],
   "metadata": {}
  },
  {
   "cell_type": "code",
   "execution_count": null,
   "source": [
    "df_top_listings.head()"
   ],
   "outputs": [],
   "metadata": {}
  },
  {
   "cell_type": "code",
   "execution_count": null,
   "source": [
    "# add a flag to mark top listings\n",
    "\n",
    "df_top_listings['top'] = 1"
   ],
   "outputs": [],
   "metadata": {}
  },
  {
   "cell_type": "code",
   "execution_count": null,
   "source": [
    "# drop date_from and date_to form the master, since they are not needed anymore and will conflict with the top listings dates\n",
    "\n",
    "df_master_tfw6.drop(['date_from'],axis=1,inplace=True)"
   ],
   "outputs": [],
   "metadata": {}
  },
  {
   "cell_type": "code",
   "execution_count": null,
   "source": [
    "df_master_tfw6.drop(['date_to'],axis=1,inplace=True)"
   ],
   "outputs": [],
   "metadata": {}
  },
  {
   "cell_type": "code",
   "execution_count": null,
   "source": [
    "# put into datetime format\n",
    "\n",
    "df_top_listings['date_from'] = pd.to_datetime(df_top_listings['date_from'], errors = 'coerce')\n",
    "df_top_listings['date_to'] = pd.to_datetime(df_top_listings['date_to'], errors = 'coerce')\n",
    "df_master_tfw6['date'] = pd.to_datetime(df_master_tfw6['date'], errors = 'coerce')"
   ],
   "outputs": [],
   "metadata": {}
  },
  {
   "cell_type": "code",
   "execution_count": null,
   "source": [
    "# merge into one big set so we can filter\n",
    "\n",
    "df_topping = pd.merge(df_master_tfw6, df_top_listings, left_on='listing_id', right_on='listing_id', how='outer')"
   ],
   "outputs": [],
   "metadata": {}
  },
  {
   "cell_type": "code",
   "execution_count": null,
   "source": [
    "df_topping.shape"
   ],
   "outputs": [],
   "metadata": {}
  },
  {
   "cell_type": "code",
   "execution_count": null,
   "source": [
    "df_topping.to_csv('../data/temp_top.csv')"
   ],
   "outputs": [],
   "metadata": {}
  },
  {
   "cell_type": "code",
   "execution_count": null,
   "source": [
    "df_topping.nunique()"
   ],
   "outputs": [],
   "metadata": {}
  },
  {
   "cell_type": "code",
   "execution_count": null,
   "source": [
    "# filter to get those rows with top listings active\n",
    "\n",
    "df_top_filter = df_topping[(df_topping.date >= df_topping.date_from) & (df_topping.date <= df_topping.date_to)]\n"
   ],
   "outputs": [],
   "metadata": {}
  },
  {
   "cell_type": "code",
   "execution_count": null,
   "source": [
    "a_list = ['1_room_apartment', 'library', 'en_suite_bathroom', 'gallery', 'heating_room', 'lounge', 'roof-deck', 'veranda', 'winter_garden', 'VCR', 'alarm_system', 'baby_monitor', 'bathrobe', 'bidet', 'boat', 'boat_dock', 'bottle_warmer', 'changing_mat', 'computer', 'darts', 'exercise_room', 'fan', 'fax', 'folding_bed', 'game_console', 'guest_toilet', 'hot_tub', 'infrared_cabin', 'kingsize_bed', 'loft_bed', 'outdoor_shower', 'piano', 'pier', 'pool_table', 'relaxation_room', 'room_service', 'shared_swimming_pool', 'shoe_cabinet', 'steam_bath', 'swimming_pool', 'table_football', 'tanning_bed', 'terrace', 'wall_bed', 'water_bed']"
   ],
   "outputs": [],
   "metadata": {}
  },
  {
   "cell_type": "code",
   "execution_count": null,
   "source": [
    "df_top_filter.nunique()"
   ],
   "outputs": [],
   "metadata": {}
  },
  {
   "cell_type": "code",
   "execution_count": null,
   "source": [
    "df_top_filter['top'].unique()"
   ],
   "outputs": [],
   "metadata": {}
  },
  {
   "cell_type": "code",
   "execution_count": null,
   "source": [
    "df_top_filter_small = df_top_filter[['listing_id','top']]"
   ],
   "outputs": [],
   "metadata": {}
  },
  {
   "cell_type": "code",
   "execution_count": null,
   "source": [
    "# merge filtered stuff back into the master\n",
    "\n",
    "df_master_tfw7 = pd.merge(df_top_filter_small, df_master_tfw6, left_on=['listing_id'], right_on=['listing_id'], how='right')"
   ],
   "outputs": [],
   "metadata": {}
  },
  {
   "cell_type": "code",
   "execution_count": null,
   "source": [
    "# save to be safe\n",
    "\n",
    "df_master_tfw7.to_csv('../data/master_7.csv')"
   ],
   "outputs": [],
   "metadata": {}
  },
  {
   "cell_type": "code",
   "execution_count": 3,
   "source": [
    "# read in from master 7\n",
    "\n",
    "df_master_tfw7 = pd.read_csv('../data/master_7.csv')"
   ],
   "outputs": [],
   "metadata": {}
  },
  {
   "cell_type": "code",
   "execution_count": 5,
   "source": [
    "df_master_tfw7.nunique()"
   ],
   "outputs": [
    {
     "output_type": "execute_result",
     "data": {
      "text/plain": [
       "Unnamed: 0                        5120010\n",
       "listing_id                          13765\n",
       "top                                     1\n",
       "Unnamed: 0_x                       103866\n",
       "result_views                         5791\n",
       "expose_views                         1495\n",
       "year                                    2\n",
       "month                                  12\n",
       "inquiry_count                         156\n",
       "Unnamed: 0_y                       369506\n",
       "1_room_apartment                        2\n",
       "library                                 2\n",
       "children`s_room                         2\n",
       "corridor                                2\n",
       "dining_room                             2\n",
       "en_suite_bathroom                       2\n",
       "gallery                                 2\n",
       "heating_room                            2\n",
       "kitchen                                 2\n",
       "kitchen_living                          2\n",
       "living_bedroom                          2\n",
       "living_/_dining_room                    2\n",
       "living_room                             2\n",
       "lounge                                  2\n",
       "roof-deck                               2\n",
       "separate_WC                             2\n",
       "storage_room                            2\n",
       "veranda                                 2\n",
       "washroom                                2\n",
       "wellness                                2\n",
       "winter_garden                           2\n",
       "Blu-ray_player                          2\n",
       "CDs_DVDs                                2\n",
       "DVD-player                              2\n",
       "VCR                                     2\n",
       "additional_bed                          2\n",
       "alarm_system                            2\n",
       "armchair                                2\n",
       "awning_                                 2\n",
       "baby_monitor                            2\n",
       "bath_towels                             2\n",
       "bathrobe                                2\n",
       "bathtub                                 2\n",
       "beach_chair                             2\n",
       "bed_linen                               2\n",
       "bicycles                                2\n",
       "bidet                                   2\n",
       "boat                                    2\n",
       "boat_dock                               2\n",
       "books                                   2\n",
       "bottle_warmer                           2\n",
       "bread_service                           2\n",
       "bunk_bed                                2\n",
       "carport                                 2\n",
       "central_heating                         2\n",
       "changing_mat                            2\n",
       "chest_of_drawers                        2\n",
       "child's_bed                             2\n",
       "children_toilet_seat                    2\n",
       "cleaning_supplies                       2\n",
       "coffee_machine                          2\n",
       "colouring_book_pencils                  2\n",
       "computer                                2\n",
       "crockery                                2\n",
       "darts                                   2\n",
       "desk                                    2\n",
       "dining_table                            2\n",
       "double_bed                              2\n",
       "double_wash_basin                       2\n",
       "drying_rack                             2\n",
       "egg_cooker                              2\n",
       "exercise_room                           2\n",
       "fan                                     2\n",
       "fax                                     2\n",
       "fire_alarm                              2\n",
       "fireplace                               2\n",
       "first-aid_kit                           2\n",
       "flat_iron                               2\n",
       "fly_screen                              2\n",
       "folding_bed                             2\n",
       "food_processor                          2\n",
       "freezer                                 2\n",
       "game_console                            2\n",
       "games                                   2\n",
       "garage                                  2\n",
       "garden_furniture                        2\n",
       "garden_shed                             2\n",
       "guest_toilet                            2\n",
       "hair_dryer                              2\n",
       "high_chair                              2\n",
       "hot_tub                                 2\n",
       "hot_water                               2\n",
       "infrared_cabin                          2\n",
       "ironing_board                           2\n",
       "kettle                                  2\n",
       "kingsize_bed                            2\n",
       "laundry_service                         2\n",
       "lawn                                    2\n",
       "loft_bed                                2\n",
       "make-up_mirror                          2\n",
       "microwave                               2\n",
       "mirror                                  2\n",
       "mixer                                   2\n",
       "outdoor_shower                          2\n",
       "phone                                   2\n",
       "piano                                   2\n",
       "pier                                    2\n",
       "playground                              2\n",
       "pond                                    2\n",
       "pool_table                              2\n",
       "private_parking                         2\n",
       "radio                                   2\n",
       "refrigerator                            2\n",
       "relaxation_room                         2\n",
       "room_service                            2\n",
       "safe                                    2\n",
       "sandpit                                 2\n",
       "sandwich_toaster                        2\n",
       "shared_swimming_pool                    2\n",
       "shoe_cabinet                            2\n",
       "shower                                  2\n",
       "single_bed                              2\n",
       "ski_boot_heaters                        2\n",
       "slide                                   2\n",
       "socket_covers                           2\n",
       "sofa                                    2\n",
       "sofa_bed                                2\n",
       "spices                                  2\n",
       "stair_gate                              2\n",
       "steam_bath                              2\n",
       "stereo_system                           2\n",
       "sun_loungers                            2\n",
       "sun_umbrella_                           2\n",
       "sunshade                                2\n",
       "swimming_pool                           2\n",
       "swing                                   2\n",
       "table_football                          2\n",
       "table_tennis                            2\n",
       "tanning_bed                             2\n",
       "tea_towels                              2\n",
       "toaster                                 2\n",
       "toilet                                  2\n",
       "towels                                  2\n",
       "toys                                    2\n",
       "trampoline                              2\n",
       "underfloor_heating                      2\n",
       "vacuum_cleaner                          2\n",
       "walk-in_shower                          2\n",
       "wall_bed                                2\n",
       "wardrobe                                2\n",
       "wash_basin                              2\n",
       "water_bed                               2\n",
       "windbreak                               2\n",
       "cooking                                 2\n",
       "title                                   4\n",
       "date                                  729\n",
       "adult_count                             7\n",
       "children_count                          3\n",
       "pets_count                              2\n",
       "arrival_date                          730\n",
       "departure_date                        736\n",
       "inquiry_price                        5647\n",
       "length_stay                            14\n",
       "contract_end                           65\n",
       "zip                                   241\n",
       "region                                 29\n",
       "subregion                             177\n",
       "holiday_region                         29\n",
       "property_type                           2\n",
       "binding_inquiry                         2\n",
       "option_allergic                         4\n",
       "option_non_smoking_only                 3\n",
       "option_holiday_with_your_pet            4\n",
       "option_holiday_with_your_horse          4\n",
       "option_holiday_with_your_dog            4\n",
       "option_close_to_the_beach               3\n",
       "option_wheelchair_accessible            3\n",
       "option_family_travel                    4\n",
       "option_close_to_the_water               3\n",
       "option_holiday_with_your_baby           4\n",
       "option_long_term_holiday                4\n",
       "option_fully_accessible                 3\n",
       "option_technicians                      4\n",
       "option_close_to_the_ski_lift            3\n",
       "wheelchairaccess                        3\n",
       "babybed                                 2\n",
       "internet                                2\n",
       "dishwasher                              2\n",
       "washingmachine                          2\n",
       "dryer                                   2\n",
       "tv                                      2\n",
       "pool                                    2\n",
       "sauna                                   2\n",
       "grill                                   2\n",
       "garden                                  2\n",
       "terrace                                 2\n",
       "balcony                                 2\n",
       "bathrooms                               3\n",
       "bedrooms                                4\n",
       "max_guests                              8\n",
       "living_area                           133\n",
       "lat                                   241\n",
       "lng                                   241\n",
       "filled_in_price_per_day               742\n",
       "inquiry_rate                           81\n",
       "dtype: int64"
      ]
     },
     "metadata": {},
     "execution_count": 5
    }
   ],
   "metadata": {}
  },
  {
   "cell_type": "code",
   "execution_count": 4,
   "source": [
    "df_master_tfw7.drop(['inquiry_rate'],axis=1,inplace=True)"
   ],
   "outputs": [],
   "metadata": {}
  },
  {
   "cell_type": "code",
   "execution_count": 5,
   "source": [
    "# change inquiry date to datetime\n",
    "\n",
    "df_master_tfw7['date'] = pd.to_datetime(df_master_tfw7['date'], errors = 'coerce')"
   ],
   "outputs": [],
   "metadata": {}
  },
  {
   "cell_type": "code",
   "execution_count": 6,
   "source": [
    "# derive proper year and onth for inquiry date\n",
    "\n",
    "df_master_tfw7['inq_year'] = pd.to_datetime(df_master_tfw7['date']).dt.year\n",
    "df_master_tfw7['inq_month'] = pd.to_datetime(df_master_tfw7['date']).dt.month"
   ],
   "outputs": [],
   "metadata": {}
  },
  {
   "cell_type": "code",
   "execution_count": 7,
   "source": [
    "df_master_inquiry_count = df_master_tfw7.groupby(['listing_id','inq_year','inq_month']).agg(['count'])['filled_in_price_per_day'].reset_index()"
   ],
   "outputs": [],
   "metadata": {}
  },
  {
   "cell_type": "code",
   "execution_count": 8,
   "source": [
    "# rename count to count_by_inquiry_date'\n",
    "\n",
    "df_master_inquiry_count.rename(columns={'count':'count_by_inquiry_date'},inplace=True)"
   ],
   "outputs": [],
   "metadata": {}
  },
  {
   "cell_type": "code",
   "execution_count": 9,
   "source": [
    "# merge these counts back into master set \n",
    "\n",
    "df_master_tfw7 = pd.merge(df_master_inquiry_count, df_master_tfw7, left_on=['listing_id','inq_year','inq_month'], right_on=['listing_id','inq_year','inq_month'], how='right')"
   ],
   "outputs": [],
   "metadata": {}
  },
  {
   "cell_type": "code",
   "execution_count": 10,
   "source": [
    "# calculate inquiry rate from inquiry count and expose views\n",
    "\n",
    "df_master_tfw7['inquiry_rate'] = round(df_master_tfw7.count_by_inquiry_date / df_master_tfw7.expose_views, 2)\n",
    "df_master_tfw7 = df_master_tfw7.query('inquiry_rate <= 1.00 and inquiry_rate != inf')"
   ],
   "outputs": [],
   "metadata": {}
  },
  {
   "cell_type": "code",
   "execution_count": 11,
   "source": [
    "# after inspection, these are columns we can drop\n",
    "\n",
    "drop_list = ['date','inq_year','inq_month','count_by_inquiry_date','1_room_apartment', 'library', 'en_suite_bathroom', 'gallery', 'heating_room', 'lounge', 'roof-deck', 'veranda', 'winter_garden', 'VCR', 'alarm_system', 'baby_monitor', 'bathrobe', 'bidet', 'boat', 'boat_dock', 'bottle_warmer', 'changing_mat', 'computer', 'darts', 'exercise_room', 'fan', 'fax', 'folding_bed', 'game_console', 'guest_toilet', 'hot_tub', 'infrared_cabin', 'kingsize_bed', 'loft_bed', 'outdoor_shower', 'piano', 'pier', 'pool_table', 'relaxation_room', 'room_service', 'shared_swimming_pool', 'shoe_cabinet', 'steam_bath', 'swimming_pool', 'table_football', 'tanning_bed', 'terrace', 'wall_bed', 'water_bed','contract_end','zip','binding_inquiry','result_views','expose_views','ski_boot_heaters','inquiry_price','departure_date','region','subregion']\n",
    "\n",
    "for i in drop_list:\n",
    "    df_master_tfw7.drop([i],axis=1,inplace=True)"
   ],
   "outputs": [],
   "metadata": {}
  },
  {
   "cell_type": "code",
   "execution_count": 12,
   "source": [
    "df_master_tfw7['top'].fillna(0,inplace=True)"
   ],
   "outputs": [],
   "metadata": {}
  },
  {
   "cell_type": "code",
   "execution_count": null,
   "source": [
    "# save as merged master\n",
    "\n",
    "df_master_tfw7.to_csv('../data/excellent_master.csv')"
   ],
   "outputs": [],
   "metadata": {}
  },
  {
   "cell_type": "code",
   "execution_count": null,
   "source": [
    "df_master_tfw7.nunique()"
   ],
   "outputs": [],
   "metadata": {}
  },
  {
   "cell_type": "code",
   "execution_count": null,
   "source": [],
   "outputs": [],
   "metadata": {}
  }
 ],
 "metadata": {
  "interpreter": {
   "hash": "50124f71d8f3ce399cc8f90e232172b7703f7c279ffa8eaec14b162019ba404a"
  },
  "kernelspec": {
   "name": "python3",
   "display_name": "Python 3.8.5 64-bit ('.venv': venv)"
  },
  "language_info": {
   "codemirror_mode": {
    "name": "ipython",
    "version": 3
   },
   "file_extension": ".py",
   "mimetype": "text/x-python",
   "name": "python",
   "nbconvert_exporter": "python",
   "pygments_lexer": "ipython3",
   "version": "3.8.5"
  },
  "orig_nbformat": 4
 },
 "nbformat": 4,
 "nbformat_minor": 2
}