{
 "cells": [
  {
   "cell_type": "code",
   "execution_count": 90,
   "source": [
    "import sys\n",
    "# adding to the path variables the one folder higher (locally, not changing system variables)\n",
    "sys.path.append(\"..\")\n",
    "import pandas as pd\n",
    "# from pandas_profiling import ProfileReport\n",
    "import numpy as np\n",
    "import warnings\n",
    "import mlflow\n",
    "import math \n",
    "import seaborn as sns\n",
    "import matplotlib.pyplot as plt \n",
    "from matplotlib import rc_params\n",
    "from scipy.stats import pearsonr\n",
    "import statsmodels.api as sm\n",
    "from statsmodels.formula.api import ols\n",
    "from sklearn.linear_model import LinearRegression\n",
    "from sklearn.preprocessing import MinMaxScaler\n",
    "from sklearn.model_selection import train_test_split\n",
    "from sklearn.linear_model import LinearRegression\n",
    "from sklearn.metrics import mean_absolute_error \n",
    "from sklearn.model_selection import cross_val_score \n",
    "from sklearn.metrics import mean_squared_error\n",
    "from sklearn.metrics import r2_score\n",
    "from modeling.config import EXPERIMENT_NAME\n",
    "TRACKING_URI = open(\"../.mlflow_uri\").read().strip()\n",
    "\n",
    "ROOT = os.environ.get('PWD')\n",
    "\n",
    "warnings.filterwarnings('ignore')\n",
    "\n",
    "\n",
    "\n",
    "\n"
   ],
   "outputs": [],
   "metadata": {
    "slideshow": {
     "slide_type": "skip"
    }
   }
  },
  {
   "cell_type": "markdown",
   "source": [
    "# Data cleaning and feature engineering"
   ],
   "metadata": {}
  },
  {
   "cell_type": "code",
   "execution_count": 5,
   "source": [
    "# read in new tiny master\n",
    "new_tiny_master = pd.read_csv('../data//new_tiny_master.csv')"
   ],
   "outputs": [],
   "metadata": {}
  },
  {
   "cell_type": "code",
   "execution_count": 6,
   "source": [
    "# extract the data for arrival date in 2019 only\n",
    "tiny_master_19_20 = new_tiny_master.query(\"year == 2019 or year == 2020\")"
   ],
   "outputs": [],
   "metadata": {}
  },
  {
   "cell_type": "code",
   "execution_count": 7,
   "source": [
    "tiny_master_19_20.info()"
   ],
   "outputs": [
    {
     "output_type": "stream",
     "name": "stdout",
     "text": [
      "<class 'pandas.core.frame.DataFrame'>\n",
      "Int64Index: 1117201 entries, 0 to 1117200\n",
      "Data columns (total 86 columns):\n",
      " #   Column                          Non-Null Count    Dtype  \n",
      "---  ------                          --------------    -----  \n",
      " 0   Unnamed: 0                      1117201 non-null  int64  \n",
      " 1   listing_id                      1117201 non-null  object \n",
      " 2   yearmonth                       1117201 non-null  object \n",
      " 3   result_views                    1117201 non-null  float64\n",
      " 4   expose_views                    1117201 non-null  float64\n",
      " 5   year                            1117201 non-null  int64  \n",
      " 6   month                           1117201 non-null  int64  \n",
      " 7   1_room_apartment                1117201 non-null  float64\n",
      " 8   dining_room                     1117201 non-null  float64\n",
      " 9   en_suite_bathroom               1117201 non-null  float64\n",
      " 10  kitchen                         1117201 non-null  float64\n",
      " 11  kitchen_living                  1117201 non-null  float64\n",
      " 12  living_bedroom                  1117201 non-null  float64\n",
      " 13  living_/_dining_room            1117201 non-null  float64\n",
      " 14  living_room                     1117201 non-null  float64\n",
      " 15  roof-deck                       1117201 non-null  float64\n",
      " 16  separate_WC                     1117201 non-null  float64\n",
      " 17  veranda                         1117201 non-null  float64\n",
      " 18  additional_bed                  1117201 non-null  float64\n",
      " 19  bathtub                         1117201 non-null  float64\n",
      " 20  bed_linen                       1117201 non-null  float64\n",
      " 21  bicycles                        1117201 non-null  float64\n",
      " 22  coffee_machine                  1117201 non-null  float64\n",
      " 23  computer                        1117201 non-null  float64\n",
      " 24  double_bed                      1117201 non-null  float64\n",
      " 25  fan                             1117201 non-null  float64\n",
      " 26  fireplace                       1117201 non-null  float64\n",
      " 27  freezer                         1117201 non-null  float64\n",
      " 28  games                           1117201 non-null  float64\n",
      " 29  garage                          1117201 non-null  float64\n",
      " 30  garden_furniture                1117201 non-null  float64\n",
      " 31  hair_dryer                      1117201 non-null  float64\n",
      " 32  hot_tub                         1117201 non-null  float64\n",
      " 33  infrared_cabin                  1117201 non-null  float64\n",
      " 34  kingsize_bed                    1117201 non-null  float64\n",
      " 35  microwave                       1117201 non-null  float64\n",
      " 36  pool_table                      1117201 non-null  float64\n",
      " 37  private_parking                 1117201 non-null  float64\n",
      " 38  radio                           1117201 non-null  float64\n",
      " 39  refrigerator                    1117201 non-null  float64\n",
      " 40  shower                          1117201 non-null  float64\n",
      " 41  single_bed                      1117201 non-null  float64\n",
      " 42  sofa_bed                        1117201 non-null  float64\n",
      " 43  steam_bath                      1117201 non-null  float64\n",
      " 44  tanning_bed                     1117201 non-null  float64\n",
      " 45  cooking                         1117201 non-null  float64\n",
      " 46  date                            1117201 non-null  object \n",
      " 47  adult_count                     1117201 non-null  float64\n",
      " 48  children_count                  1117201 non-null  float64\n",
      " 49  pets_count                      1117201 non-null  float64\n",
      " 50  arrival_date                    1117201 non-null  object \n",
      " 51  departure_date                  1117201 non-null  object \n",
      " 52  inquiry_price                   1117201 non-null  float64\n",
      " 53  length_stay                     1117201 non-null  float64\n",
      " 54  subregion                       1117201 non-null  object \n",
      " 55  property_type                   1117201 non-null  object \n",
      " 56  option_allergic                 1117201 non-null  int64  \n",
      " 57  option_non_smoking_only         1117201 non-null  int64  \n",
      " 58  option_holiday_with_your_pet    1117201 non-null  int64  \n",
      " 59  option_holiday_with_your_horse  1117201 non-null  int64  \n",
      " 60  option_holiday_with_your_dog    1117201 non-null  int64  \n",
      " 61  option_close_to_the_beach       1117201 non-null  int64  \n",
      " 62  option_wheelchair_accessible    1117201 non-null  int64  \n",
      " 63  option_family_travel            1117201 non-null  int64  \n",
      " 64  option_close_to_the_water       1117201 non-null  int64  \n",
      " 65  option_holiday_with_your_baby   1117201 non-null  int64  \n",
      " 66  option_long_term_holiday        1117201 non-null  int64  \n",
      " 67  option_fully_accessible         1117201 non-null  int64  \n",
      " 68  option_technicians              1117201 non-null  int64  \n",
      " 69  option_close_to_the_ski_lift    1117201 non-null  int64  \n",
      " 70  babybed                         1117201 non-null  int64  \n",
      " 71  internet                        1117201 non-null  int64  \n",
      " 72  dishwasher                      1117201 non-null  int64  \n",
      " 73  washingmachine                  1117201 non-null  int64  \n",
      " 74  dryer                           1117201 non-null  int64  \n",
      " 75  tv                              1117201 non-null  int64  \n",
      " 76  pool                            1117201 non-null  int64  \n",
      " 77  sauna                           1117201 non-null  int64  \n",
      " 78  grill                           1117201 non-null  int64  \n",
      " 79  garden                          1117201 non-null  int64  \n",
      " 80  terrace                         1117201 non-null  int64  \n",
      " 81  balcony                         1117201 non-null  int64  \n",
      " 82  bathrooms                       1117201 non-null  float64\n",
      " 83  bedrooms                        1117201 non-null  float64\n",
      " 84  max_guests                      1117201 non-null  float64\n",
      " 85  living_area                     1117201 non-null  float64\n",
      "dtypes: float64(50), int64(29), object(7)\n",
      "memory usage: 741.6+ MB\n"
     ]
    }
   ],
   "metadata": {}
  },
  {
   "cell_type": "code",
   "execution_count": 8,
   "source": [
    "# We normalize x values to match with the 0-2π cycle\n",
    "tiny_master_19_20[\"month_norm\"] = 2 * math.pi * tiny_master_19_20[\"month\"] / tiny_master_19_20[\"month\"].max()\n",
    "\n",
    "tiny_master_19_20[\"cos_month\"] = np.cos(tiny_master_19_20[\"month_norm\"])\n",
    "tiny_master_19_20[\"sin_month\"] = np.sin(tiny_master_19_20[\"month_norm\"])"
   ],
   "outputs": [],
   "metadata": {}
  },
  {
   "cell_type": "code",
   "execution_count": 9,
   "source": [
    "tiny_master_19_20[\"month_norm\"]"
   ],
   "outputs": [
    {
     "output_type": "execute_result",
     "data": {
      "text/plain": [
       "0          0.523599\n",
       "1          1.047198\n",
       "2          6.283185\n",
       "3          6.283185\n",
       "4          0.523599\n",
       "             ...   \n",
       "1117196    6.283185\n",
       "1117197    6.283185\n",
       "1117198    5.235988\n",
       "1117199    6.283185\n",
       "1117200    6.283185\n",
       "Name: month_norm, Length: 1117201, dtype: float64"
      ]
     },
     "metadata": {},
     "execution_count": 9
    }
   ],
   "metadata": {}
  },
  {
   "cell_type": "code",
   "execution_count": 10,
   "source": [
    "tiny_master_19_20['price_per_day'] = tiny_master_19_20['inquiry_price']/tiny_master_19_20['length_stay']"
   ],
   "outputs": [],
   "metadata": {}
  },
  {
   "cell_type": "code",
   "execution_count": 11,
   "source": [
    "# generate the feature inquiry_price_per_day, max_price_per_day, min_price_per_day\n",
    "\n",
    "medium_master_price_agg = tiny_master_19_20.groupby(['listing_id','month']).agg(['mean','max','min'])['price_per_day'].reset_index()"
   ],
   "outputs": [],
   "metadata": {}
  },
  {
   "cell_type": "code",
   "execution_count": 12,
   "source": [
    "medium_master_price_agg"
   ],
   "outputs": [
    {
     "output_type": "execute_result",
     "data": {
      "text/plain": [
       "                                  listing_id  month        mean         max  \\\n",
       "0       00005de7-6ed8-541b-be83-2573a46cd307      5   96.041667   98.333333   \n",
       "1       00005de7-6ed8-541b-be83-2573a46cd307      6   89.727891   98.333333   \n",
       "2       00005de7-6ed8-541b-be83-2573a46cd307      7  103.958333  104.583333   \n",
       "3       00005de7-6ed8-541b-be83-2573a46cd307      8  103.668367  107.857143   \n",
       "4       00005de7-6ed8-541b-be83-2573a46cd307     10   87.857143   87.857143   \n",
       "...                                      ...    ...         ...         ...   \n",
       "198908  ffffa8d1-d94a-5475-8e0d-2057495f4734      7   80.669643   88.571429   \n",
       "198909  ffffa8d1-d94a-5475-8e0d-2057495f4734      8   81.166667   88.571429   \n",
       "198910  ffffa8d1-d94a-5475-8e0d-2057495f4734      9   63.345238   68.571429   \n",
       "198911  ffffa8d1-d94a-5475-8e0d-2057495f4734     10   65.910293   68.571429   \n",
       "198912  ffffafae-e827-5f6a-9691-97b4e788d498     12  221.857143  221.857143   \n",
       "\n",
       "               min  \n",
       "0        93.750000  \n",
       "1        87.857143  \n",
       "2       103.333333  \n",
       "3        92.857143  \n",
       "4        87.857143  \n",
       "...            ...  \n",
       "198908   35.714286  \n",
       "198909   71.428571  \n",
       "198910   59.000000  \n",
       "198911   60.454545  \n",
       "198912  221.857143  \n",
       "\n",
       "[198913 rows x 5 columns]"
      ],
      "text/html": [
       "<div>\n",
       "<style scoped>\n",
       "    .dataframe tbody tr th:only-of-type {\n",
       "        vertical-align: middle;\n",
       "    }\n",
       "\n",
       "    .dataframe tbody tr th {\n",
       "        vertical-align: top;\n",
       "    }\n",
       "\n",
       "    .dataframe thead th {\n",
       "        text-align: right;\n",
       "    }\n",
       "</style>\n",
       "<table border=\"1\" class=\"dataframe\">\n",
       "  <thead>\n",
       "    <tr style=\"text-align: right;\">\n",
       "      <th></th>\n",
       "      <th>listing_id</th>\n",
       "      <th>month</th>\n",
       "      <th>mean</th>\n",
       "      <th>max</th>\n",
       "      <th>min</th>\n",
       "    </tr>\n",
       "  </thead>\n",
       "  <tbody>\n",
       "    <tr>\n",
       "      <th>0</th>\n",
       "      <td>00005de7-6ed8-541b-be83-2573a46cd307</td>\n",
       "      <td>5</td>\n",
       "      <td>96.041667</td>\n",
       "      <td>98.333333</td>\n",
       "      <td>93.750000</td>\n",
       "    </tr>\n",
       "    <tr>\n",
       "      <th>1</th>\n",
       "      <td>00005de7-6ed8-541b-be83-2573a46cd307</td>\n",
       "      <td>6</td>\n",
       "      <td>89.727891</td>\n",
       "      <td>98.333333</td>\n",
       "      <td>87.857143</td>\n",
       "    </tr>\n",
       "    <tr>\n",
       "      <th>2</th>\n",
       "      <td>00005de7-6ed8-541b-be83-2573a46cd307</td>\n",
       "      <td>7</td>\n",
       "      <td>103.958333</td>\n",
       "      <td>104.583333</td>\n",
       "      <td>103.333333</td>\n",
       "    </tr>\n",
       "    <tr>\n",
       "      <th>3</th>\n",
       "      <td>00005de7-6ed8-541b-be83-2573a46cd307</td>\n",
       "      <td>8</td>\n",
       "      <td>103.668367</td>\n",
       "      <td>107.857143</td>\n",
       "      <td>92.857143</td>\n",
       "    </tr>\n",
       "    <tr>\n",
       "      <th>4</th>\n",
       "      <td>00005de7-6ed8-541b-be83-2573a46cd307</td>\n",
       "      <td>10</td>\n",
       "      <td>87.857143</td>\n",
       "      <td>87.857143</td>\n",
       "      <td>87.857143</td>\n",
       "    </tr>\n",
       "    <tr>\n",
       "      <th>...</th>\n",
       "      <td>...</td>\n",
       "      <td>...</td>\n",
       "      <td>...</td>\n",
       "      <td>...</td>\n",
       "      <td>...</td>\n",
       "    </tr>\n",
       "    <tr>\n",
       "      <th>198908</th>\n",
       "      <td>ffffa8d1-d94a-5475-8e0d-2057495f4734</td>\n",
       "      <td>7</td>\n",
       "      <td>80.669643</td>\n",
       "      <td>88.571429</td>\n",
       "      <td>35.714286</td>\n",
       "    </tr>\n",
       "    <tr>\n",
       "      <th>198909</th>\n",
       "      <td>ffffa8d1-d94a-5475-8e0d-2057495f4734</td>\n",
       "      <td>8</td>\n",
       "      <td>81.166667</td>\n",
       "      <td>88.571429</td>\n",
       "      <td>71.428571</td>\n",
       "    </tr>\n",
       "    <tr>\n",
       "      <th>198910</th>\n",
       "      <td>ffffa8d1-d94a-5475-8e0d-2057495f4734</td>\n",
       "      <td>9</td>\n",
       "      <td>63.345238</td>\n",
       "      <td>68.571429</td>\n",
       "      <td>59.000000</td>\n",
       "    </tr>\n",
       "    <tr>\n",
       "      <th>198911</th>\n",
       "      <td>ffffa8d1-d94a-5475-8e0d-2057495f4734</td>\n",
       "      <td>10</td>\n",
       "      <td>65.910293</td>\n",
       "      <td>68.571429</td>\n",
       "      <td>60.454545</td>\n",
       "    </tr>\n",
       "    <tr>\n",
       "      <th>198912</th>\n",
       "      <td>ffffafae-e827-5f6a-9691-97b4e788d498</td>\n",
       "      <td>12</td>\n",
       "      <td>221.857143</td>\n",
       "      <td>221.857143</td>\n",
       "      <td>221.857143</td>\n",
       "    </tr>\n",
       "  </tbody>\n",
       "</table>\n",
       "<p>198913 rows × 5 columns</p>\n",
       "</div>"
      ]
     },
     "metadata": {},
     "execution_count": 12
    }
   ],
   "metadata": {}
  },
  {
   "cell_type": "code",
   "execution_count": 13,
   "source": [
    "medium_master_inquiry_count = tiny_master_19_20.groupby(['listing_id','month']).agg(['count'])['price_per_day'].reset_index()"
   ],
   "outputs": [],
   "metadata": {}
  },
  {
   "cell_type": "code",
   "execution_count": 14,
   "source": [
    "medium_master_inquiry_count"
   ],
   "outputs": [
    {
     "output_type": "execute_result",
     "data": {
      "text/plain": [
       "                                  listing_id  month  count\n",
       "0       00005de7-6ed8-541b-be83-2573a46cd307      5      2\n",
       "1       00005de7-6ed8-541b-be83-2573a46cd307      6      7\n",
       "2       00005de7-6ed8-541b-be83-2573a46cd307      7      2\n",
       "3       00005de7-6ed8-541b-be83-2573a46cd307      8      7\n",
       "4       00005de7-6ed8-541b-be83-2573a46cd307     10      1\n",
       "...                                      ...    ...    ...\n",
       "198908  ffffa8d1-d94a-5475-8e0d-2057495f4734      7      8\n",
       "198909  ffffa8d1-d94a-5475-8e0d-2057495f4734      8      6\n",
       "198910  ffffa8d1-d94a-5475-8e0d-2057495f4734      9      6\n",
       "198911  ffffa8d1-d94a-5475-8e0d-2057495f4734     10      9\n",
       "198912  ffffafae-e827-5f6a-9691-97b4e788d498     12      1\n",
       "\n",
       "[198913 rows x 3 columns]"
      ],
      "text/html": [
       "<div>\n",
       "<style scoped>\n",
       "    .dataframe tbody tr th:only-of-type {\n",
       "        vertical-align: middle;\n",
       "    }\n",
       "\n",
       "    .dataframe tbody tr th {\n",
       "        vertical-align: top;\n",
       "    }\n",
       "\n",
       "    .dataframe thead th {\n",
       "        text-align: right;\n",
       "    }\n",
       "</style>\n",
       "<table border=\"1\" class=\"dataframe\">\n",
       "  <thead>\n",
       "    <tr style=\"text-align: right;\">\n",
       "      <th></th>\n",
       "      <th>listing_id</th>\n",
       "      <th>month</th>\n",
       "      <th>count</th>\n",
       "    </tr>\n",
       "  </thead>\n",
       "  <tbody>\n",
       "    <tr>\n",
       "      <th>0</th>\n",
       "      <td>00005de7-6ed8-541b-be83-2573a46cd307</td>\n",
       "      <td>5</td>\n",
       "      <td>2</td>\n",
       "    </tr>\n",
       "    <tr>\n",
       "      <th>1</th>\n",
       "      <td>00005de7-6ed8-541b-be83-2573a46cd307</td>\n",
       "      <td>6</td>\n",
       "      <td>7</td>\n",
       "    </tr>\n",
       "    <tr>\n",
       "      <th>2</th>\n",
       "      <td>00005de7-6ed8-541b-be83-2573a46cd307</td>\n",
       "      <td>7</td>\n",
       "      <td>2</td>\n",
       "    </tr>\n",
       "    <tr>\n",
       "      <th>3</th>\n",
       "      <td>00005de7-6ed8-541b-be83-2573a46cd307</td>\n",
       "      <td>8</td>\n",
       "      <td>7</td>\n",
       "    </tr>\n",
       "    <tr>\n",
       "      <th>4</th>\n",
       "      <td>00005de7-6ed8-541b-be83-2573a46cd307</td>\n",
       "      <td>10</td>\n",
       "      <td>1</td>\n",
       "    </tr>\n",
       "    <tr>\n",
       "      <th>...</th>\n",
       "      <td>...</td>\n",
       "      <td>...</td>\n",
       "      <td>...</td>\n",
       "    </tr>\n",
       "    <tr>\n",
       "      <th>198908</th>\n",
       "      <td>ffffa8d1-d94a-5475-8e0d-2057495f4734</td>\n",
       "      <td>7</td>\n",
       "      <td>8</td>\n",
       "    </tr>\n",
       "    <tr>\n",
       "      <th>198909</th>\n",
       "      <td>ffffa8d1-d94a-5475-8e0d-2057495f4734</td>\n",
       "      <td>8</td>\n",
       "      <td>6</td>\n",
       "    </tr>\n",
       "    <tr>\n",
       "      <th>198910</th>\n",
       "      <td>ffffa8d1-d94a-5475-8e0d-2057495f4734</td>\n",
       "      <td>9</td>\n",
       "      <td>6</td>\n",
       "    </tr>\n",
       "    <tr>\n",
       "      <th>198911</th>\n",
       "      <td>ffffa8d1-d94a-5475-8e0d-2057495f4734</td>\n",
       "      <td>10</td>\n",
       "      <td>9</td>\n",
       "    </tr>\n",
       "    <tr>\n",
       "      <th>198912</th>\n",
       "      <td>ffffafae-e827-5f6a-9691-97b4e788d498</td>\n",
       "      <td>12</td>\n",
       "      <td>1</td>\n",
       "    </tr>\n",
       "  </tbody>\n",
       "</table>\n",
       "<p>198913 rows × 3 columns</p>\n",
       "</div>"
      ]
     },
     "metadata": {},
     "execution_count": 14
    }
   ],
   "metadata": {}
  },
  {
   "cell_type": "code",
   "execution_count": 15,
   "source": [
    "medium_master_1 = pd.merge(medium_master_price_agg, tiny_master_19_20, left_on=['listing_id','month'], right_on=['listing_id','month'], how='right')"
   ],
   "outputs": [],
   "metadata": {}
  },
  {
   "cell_type": "code",
   "execution_count": 16,
   "source": [
    "medium_master_1.drop('Unnamed: 0',axis=1,inplace=True)"
   ],
   "outputs": [],
   "metadata": {}
  },
  {
   "cell_type": "code",
   "execution_count": 17,
   "source": [
    "medium_master_2 = pd.merge(medium_master_inquiry_count, medium_master_1, left_on=['listing_id','month'], right_on=['listing_id','month'], how='right')"
   ],
   "outputs": [],
   "metadata": {}
  },
  {
   "cell_type": "code",
   "execution_count": 18,
   "source": [
    "medium_master_2.drop(['inquiry_price','month','month_norm','year','yearmonth'],axis=1,inplace=True)"
   ],
   "outputs": [],
   "metadata": {}
  },
  {
   "cell_type": "code",
   "execution_count": 19,
   "source": [
    "medium_master_2.drop(['price_per_day'],axis=1,inplace=True)"
   ],
   "outputs": [],
   "metadata": {}
  },
  {
   "cell_type": "code",
   "execution_count": 20,
   "source": [
    "medium_master_2.rename(columns={'count':'inquiry_count','mean':'mean_price_per_day','max':'max_price_per_day','min':'min_price_per_day'},inplace=True)"
   ],
   "outputs": [],
   "metadata": {}
  },
  {
   "cell_type": "code",
   "execution_count": 21,
   "source": [
    "list(medium_master_2.columns.values)"
   ],
   "outputs": [
    {
     "output_type": "execute_result",
     "data": {
      "text/plain": [
       "['listing_id',\n",
       " 'inquiry_count',\n",
       " 'mean_price_per_day',\n",
       " 'max_price_per_day',\n",
       " 'min_price_per_day',\n",
       " 'result_views',\n",
       " 'expose_views',\n",
       " '1_room_apartment',\n",
       " 'dining_room',\n",
       " 'en_suite_bathroom',\n",
       " 'kitchen',\n",
       " 'kitchen_living',\n",
       " 'living_bedroom',\n",
       " 'living_/_dining_room',\n",
       " 'living_room',\n",
       " 'roof-deck',\n",
       " 'separate_WC',\n",
       " 'veranda',\n",
       " 'additional_bed',\n",
       " 'bathtub',\n",
       " 'bed_linen',\n",
       " 'bicycles',\n",
       " 'coffee_machine',\n",
       " 'computer',\n",
       " 'double_bed',\n",
       " 'fan',\n",
       " 'fireplace',\n",
       " 'freezer',\n",
       " 'games',\n",
       " 'garage',\n",
       " 'garden_furniture',\n",
       " 'hair_dryer',\n",
       " 'hot_tub',\n",
       " 'infrared_cabin',\n",
       " 'kingsize_bed',\n",
       " 'microwave',\n",
       " 'pool_table',\n",
       " 'private_parking',\n",
       " 'radio',\n",
       " 'refrigerator',\n",
       " 'shower',\n",
       " 'single_bed',\n",
       " 'sofa_bed',\n",
       " 'steam_bath',\n",
       " 'tanning_bed',\n",
       " 'cooking',\n",
       " 'date',\n",
       " 'adult_count',\n",
       " 'children_count',\n",
       " 'pets_count',\n",
       " 'arrival_date',\n",
       " 'departure_date',\n",
       " 'length_stay',\n",
       " 'subregion',\n",
       " 'property_type',\n",
       " 'option_allergic',\n",
       " 'option_non_smoking_only',\n",
       " 'option_holiday_with_your_pet',\n",
       " 'option_holiday_with_your_horse',\n",
       " 'option_holiday_with_your_dog',\n",
       " 'option_close_to_the_beach',\n",
       " 'option_wheelchair_accessible',\n",
       " 'option_family_travel',\n",
       " 'option_close_to_the_water',\n",
       " 'option_holiday_with_your_baby',\n",
       " 'option_long_term_holiday',\n",
       " 'option_fully_accessible',\n",
       " 'option_technicians',\n",
       " 'option_close_to_the_ski_lift',\n",
       " 'babybed',\n",
       " 'internet',\n",
       " 'dishwasher',\n",
       " 'washingmachine',\n",
       " 'dryer',\n",
       " 'tv',\n",
       " 'pool',\n",
       " 'sauna',\n",
       " 'grill',\n",
       " 'garden',\n",
       " 'terrace',\n",
       " 'balcony',\n",
       " 'bathrooms',\n",
       " 'bedrooms',\n",
       " 'max_guests',\n",
       " 'living_area',\n",
       " 'cos_month',\n",
       " 'sin_month']"
      ]
     },
     "metadata": {},
     "execution_count": 21
    }
   ],
   "metadata": {}
  },
  {
   "cell_type": "code",
   "execution_count": 22,
   "source": [
    "medium_master_2.drop(['date','arrival_date','departure_date','option_holiday_with_your_dog','option_holiday_with_your_horse'],axis=1,inplace=True)"
   ],
   "outputs": [],
   "metadata": {}
  },
  {
   "cell_type": "code",
   "execution_count": 23,
   "source": [
    "# trying not to be a dummy by getting dummies\n",
    "master_dummies = pd.get_dummies(medium_master_2, columns=['subregion','property_type'])"
   ],
   "outputs": [],
   "metadata": {}
  },
  {
   "cell_type": "code",
   "execution_count": 24,
   "source": [
    "# save csv for this data set\n",
    "\"\"\"master_dummies.to_csv('../data/master_with_dummies_19_20.csv')\"\"\""
   ],
   "outputs": [
    {
     "output_type": "execute_result",
     "data": {
      "text/plain": [
       "\"master_dummies.to_csv('../data/master_with_dummies_19_20.csv')\""
      ]
     },
     "metadata": {},
     "execution_count": 24
    }
   ],
   "metadata": {}
  },
  {
   "cell_type": "code",
   "execution_count": 25,
   "source": [
    "master_dummies"
   ],
   "outputs": [
    {
     "output_type": "execute_result",
     "data": {
      "text/plain": [
       "                                   listing_id  inquiry_count  \\\n",
       "0        97232bc1-cee6-54cc-9965-be13177051d3             10   \n",
       "1        97232bc1-cee6-54cc-9965-be13177051d3             18   \n",
       "2        97232bc1-cee6-54cc-9965-be13177051d3             31   \n",
       "3        97232bc1-cee6-54cc-9965-be13177051d3             31   \n",
       "4        97232bc1-cee6-54cc-9965-be13177051d3             10   \n",
       "...                                       ...            ...   \n",
       "1117196  bd2737ac-54e2-5045-8706-bf0aef99456e              4   \n",
       "1117197  bd2737ac-54e2-5045-8706-bf0aef99456e              4   \n",
       "1117198  00779d9d-7264-5704-a71d-e6d1849cb4b7              1   \n",
       "1117199  00779d9d-7264-5704-a71d-e6d1849cb4b7              1   \n",
       "1117200  048f8764-c789-5003-9a67-a63d3d3f5062              1   \n",
       "\n",
       "         mean_price_per_day  max_price_per_day  min_price_per_day  \\\n",
       "0                 76.580000         115.000000          57.000000   \n",
       "1                 76.761905          81.000000          74.000000   \n",
       "2                121.182258         142.000000          55.000000   \n",
       "3                121.182258         142.000000          55.000000   \n",
       "4                 76.580000         115.000000          57.000000   \n",
       "...                     ...                ...                ...   \n",
       "1117196           85.250000          94.000000          79.000000   \n",
       "1117197           85.250000          94.000000          79.000000   \n",
       "1117198          133.333333         133.333333         133.333333   \n",
       "1117199          140.000000         140.000000         140.000000   \n",
       "1117200           65.000000          65.000000          65.000000   \n",
       "\n",
       "         result_views  expose_views  1_room_apartment  dining_room  \\\n",
       "0              2468.0         977.0               0.0          0.0   \n",
       "1              2930.0        1051.0               0.0          0.0   \n",
       "2              2183.0         512.0               0.0          0.0   \n",
       "3              2183.0         512.0               0.0          0.0   \n",
       "4              2468.0         977.0               0.0          0.0   \n",
       "...               ...           ...               ...          ...   \n",
       "1117196         344.0          83.0               0.0          0.0   \n",
       "1117197         344.0          83.0               0.0          0.0   \n",
       "1117198        1239.0         180.0               0.0          0.0   \n",
       "1117199         363.0          11.0               0.0          0.0   \n",
       "1117200         134.0          41.0               0.0          0.0   \n",
       "\n",
       "         en_suite_bathroom  ...  subregion_Westerzgebirge  \\\n",
       "0                      0.0  ...                         0   \n",
       "1                      0.0  ...                         0   \n",
       "2                      0.0  ...                         0   \n",
       "3                      0.0  ...                         0   \n",
       "4                      0.0  ...                         0   \n",
       "...                    ...  ...                       ...   \n",
       "1117196                0.0  ...                         0   \n",
       "1117197                0.0  ...                         0   \n",
       "1117198                0.0  ...                         0   \n",
       "1117199                0.0  ...                         0   \n",
       "1117200                0.0  ...                         0   \n",
       "\n",
       "         subregion_Westheide  subregion_Willingen  subregion_Zeller Land  \\\n",
       "0                          0                    0                      0   \n",
       "1                          0                    0                      0   \n",
       "2                          0                    0                      0   \n",
       "3                          0                    0                      0   \n",
       "4                          0                    0                      0   \n",
       "...                      ...                  ...                    ...   \n",
       "1117196                    0                    0                      0   \n",
       "1117197                    0                    0                      0   \n",
       "1117198                    0                    0                      0   \n",
       "1117199                    0                    0                      0   \n",
       "1117200                    0                    0                      0   \n",
       "\n",
       "         subregion_Zugspitz-Region  subregion_Überlinger See  \\\n",
       "0                                0                         0   \n",
       "1                                0                         0   \n",
       "2                                0                         0   \n",
       "3                                0                         0   \n",
       "4                                0                         0   \n",
       "...                            ...                       ...   \n",
       "1117196                          0                         0   \n",
       "1117197                          0                         0   \n",
       "1117198                          0                         0   \n",
       "1117199                          0                         0   \n",
       "1117200                          0                         0   \n",
       "\n",
       "         property_type_apartment  property_type_bungalow  \\\n",
       "0                              0                       0   \n",
       "1                              0                       0   \n",
       "2                              0                       0   \n",
       "3                              0                       0   \n",
       "4                              0                       0   \n",
       "...                          ...                     ...   \n",
       "1117196                        0                       0   \n",
       "1117197                        0                       0   \n",
       "1117198                        0                       0   \n",
       "1117199                        0                       0   \n",
       "1117200                        0                       0   \n",
       "\n",
       "         property_type_holiday_apartment  property_type_holiday_houses  \n",
       "0                                      1                             0  \n",
       "1                                      1                             0  \n",
       "2                                      1                             0  \n",
       "3                                      1                             0  \n",
       "4                                      1                             0  \n",
       "...                                  ...                           ...  \n",
       "1117196                                0                             1  \n",
       "1117197                                0                             1  \n",
       "1117198                                1                             0  \n",
       "1117199                                1                             0  \n",
       "1117200                                1                             0  \n",
       "\n",
       "[1117201 rows x 276 columns]"
      ],
      "text/html": [
       "<div>\n",
       "<style scoped>\n",
       "    .dataframe tbody tr th:only-of-type {\n",
       "        vertical-align: middle;\n",
       "    }\n",
       "\n",
       "    .dataframe tbody tr th {\n",
       "        vertical-align: top;\n",
       "    }\n",
       "\n",
       "    .dataframe thead th {\n",
       "        text-align: right;\n",
       "    }\n",
       "</style>\n",
       "<table border=\"1\" class=\"dataframe\">\n",
       "  <thead>\n",
       "    <tr style=\"text-align: right;\">\n",
       "      <th></th>\n",
       "      <th>listing_id</th>\n",
       "      <th>inquiry_count</th>\n",
       "      <th>mean_price_per_day</th>\n",
       "      <th>max_price_per_day</th>\n",
       "      <th>min_price_per_day</th>\n",
       "      <th>result_views</th>\n",
       "      <th>expose_views</th>\n",
       "      <th>1_room_apartment</th>\n",
       "      <th>dining_room</th>\n",
       "      <th>en_suite_bathroom</th>\n",
       "      <th>...</th>\n",
       "      <th>subregion_Westerzgebirge</th>\n",
       "      <th>subregion_Westheide</th>\n",
       "      <th>subregion_Willingen</th>\n",
       "      <th>subregion_Zeller Land</th>\n",
       "      <th>subregion_Zugspitz-Region</th>\n",
       "      <th>subregion_Überlinger See</th>\n",
       "      <th>property_type_apartment</th>\n",
       "      <th>property_type_bungalow</th>\n",
       "      <th>property_type_holiday_apartment</th>\n",
       "      <th>property_type_holiday_houses</th>\n",
       "    </tr>\n",
       "  </thead>\n",
       "  <tbody>\n",
       "    <tr>\n",
       "      <th>0</th>\n",
       "      <td>97232bc1-cee6-54cc-9965-be13177051d3</td>\n",
       "      <td>10</td>\n",
       "      <td>76.580000</td>\n",
       "      <td>115.000000</td>\n",
       "      <td>57.000000</td>\n",
       "      <td>2468.0</td>\n",
       "      <td>977.0</td>\n",
       "      <td>0.0</td>\n",
       "      <td>0.0</td>\n",
       "      <td>0.0</td>\n",
       "      <td>...</td>\n",
       "      <td>0</td>\n",
       "      <td>0</td>\n",
       "      <td>0</td>\n",
       "      <td>0</td>\n",
       "      <td>0</td>\n",
       "      <td>0</td>\n",
       "      <td>0</td>\n",
       "      <td>0</td>\n",
       "      <td>1</td>\n",
       "      <td>0</td>\n",
       "    </tr>\n",
       "    <tr>\n",
       "      <th>1</th>\n",
       "      <td>97232bc1-cee6-54cc-9965-be13177051d3</td>\n",
       "      <td>18</td>\n",
       "      <td>76.761905</td>\n",
       "      <td>81.000000</td>\n",
       "      <td>74.000000</td>\n",
       "      <td>2930.0</td>\n",
       "      <td>1051.0</td>\n",
       "      <td>0.0</td>\n",
       "      <td>0.0</td>\n",
       "      <td>0.0</td>\n",
       "      <td>...</td>\n",
       "      <td>0</td>\n",
       "      <td>0</td>\n",
       "      <td>0</td>\n",
       "      <td>0</td>\n",
       "      <td>0</td>\n",
       "      <td>0</td>\n",
       "      <td>0</td>\n",
       "      <td>0</td>\n",
       "      <td>1</td>\n",
       "      <td>0</td>\n",
       "    </tr>\n",
       "    <tr>\n",
       "      <th>2</th>\n",
       "      <td>97232bc1-cee6-54cc-9965-be13177051d3</td>\n",
       "      <td>31</td>\n",
       "      <td>121.182258</td>\n",
       "      <td>142.000000</td>\n",
       "      <td>55.000000</td>\n",
       "      <td>2183.0</td>\n",
       "      <td>512.0</td>\n",
       "      <td>0.0</td>\n",
       "      <td>0.0</td>\n",
       "      <td>0.0</td>\n",
       "      <td>...</td>\n",
       "      <td>0</td>\n",
       "      <td>0</td>\n",
       "      <td>0</td>\n",
       "      <td>0</td>\n",
       "      <td>0</td>\n",
       "      <td>0</td>\n",
       "      <td>0</td>\n",
       "      <td>0</td>\n",
       "      <td>1</td>\n",
       "      <td>0</td>\n",
       "    </tr>\n",
       "    <tr>\n",
       "      <th>3</th>\n",
       "      <td>97232bc1-cee6-54cc-9965-be13177051d3</td>\n",
       "      <td>31</td>\n",
       "      <td>121.182258</td>\n",
       "      <td>142.000000</td>\n",
       "      <td>55.000000</td>\n",
       "      <td>2183.0</td>\n",
       "      <td>512.0</td>\n",
       "      <td>0.0</td>\n",
       "      <td>0.0</td>\n",
       "      <td>0.0</td>\n",
       "      <td>...</td>\n",
       "      <td>0</td>\n",
       "      <td>0</td>\n",
       "      <td>0</td>\n",
       "      <td>0</td>\n",
       "      <td>0</td>\n",
       "      <td>0</td>\n",
       "      <td>0</td>\n",
       "      <td>0</td>\n",
       "      <td>1</td>\n",
       "      <td>0</td>\n",
       "    </tr>\n",
       "    <tr>\n",
       "      <th>4</th>\n",
       "      <td>97232bc1-cee6-54cc-9965-be13177051d3</td>\n",
       "      <td>10</td>\n",
       "      <td>76.580000</td>\n",
       "      <td>115.000000</td>\n",
       "      <td>57.000000</td>\n",
       "      <td>2468.0</td>\n",
       "      <td>977.0</td>\n",
       "      <td>0.0</td>\n",
       "      <td>0.0</td>\n",
       "      <td>0.0</td>\n",
       "      <td>...</td>\n",
       "      <td>0</td>\n",
       "      <td>0</td>\n",
       "      <td>0</td>\n",
       "      <td>0</td>\n",
       "      <td>0</td>\n",
       "      <td>0</td>\n",
       "      <td>0</td>\n",
       "      <td>0</td>\n",
       "      <td>1</td>\n",
       "      <td>0</td>\n",
       "    </tr>\n",
       "    <tr>\n",
       "      <th>...</th>\n",
       "      <td>...</td>\n",
       "      <td>...</td>\n",
       "      <td>...</td>\n",
       "      <td>...</td>\n",
       "      <td>...</td>\n",
       "      <td>...</td>\n",
       "      <td>...</td>\n",
       "      <td>...</td>\n",
       "      <td>...</td>\n",
       "      <td>...</td>\n",
       "      <td>...</td>\n",
       "      <td>...</td>\n",
       "      <td>...</td>\n",
       "      <td>...</td>\n",
       "      <td>...</td>\n",
       "      <td>...</td>\n",
       "      <td>...</td>\n",
       "      <td>...</td>\n",
       "      <td>...</td>\n",
       "      <td>...</td>\n",
       "      <td>...</td>\n",
       "    </tr>\n",
       "    <tr>\n",
       "      <th>1117196</th>\n",
       "      <td>bd2737ac-54e2-5045-8706-bf0aef99456e</td>\n",
       "      <td>4</td>\n",
       "      <td>85.250000</td>\n",
       "      <td>94.000000</td>\n",
       "      <td>79.000000</td>\n",
       "      <td>344.0</td>\n",
       "      <td>83.0</td>\n",
       "      <td>0.0</td>\n",
       "      <td>0.0</td>\n",
       "      <td>0.0</td>\n",
       "      <td>...</td>\n",
       "      <td>0</td>\n",
       "      <td>0</td>\n",
       "      <td>0</td>\n",
       "      <td>0</td>\n",
       "      <td>0</td>\n",
       "      <td>0</td>\n",
       "      <td>0</td>\n",
       "      <td>0</td>\n",
       "      <td>0</td>\n",
       "      <td>1</td>\n",
       "    </tr>\n",
       "    <tr>\n",
       "      <th>1117197</th>\n",
       "      <td>bd2737ac-54e2-5045-8706-bf0aef99456e</td>\n",
       "      <td>4</td>\n",
       "      <td>85.250000</td>\n",
       "      <td>94.000000</td>\n",
       "      <td>79.000000</td>\n",
       "      <td>344.0</td>\n",
       "      <td>83.0</td>\n",
       "      <td>0.0</td>\n",
       "      <td>0.0</td>\n",
       "      <td>0.0</td>\n",
       "      <td>...</td>\n",
       "      <td>0</td>\n",
       "      <td>0</td>\n",
       "      <td>0</td>\n",
       "      <td>0</td>\n",
       "      <td>0</td>\n",
       "      <td>0</td>\n",
       "      <td>0</td>\n",
       "      <td>0</td>\n",
       "      <td>0</td>\n",
       "      <td>1</td>\n",
       "    </tr>\n",
       "    <tr>\n",
       "      <th>1117198</th>\n",
       "      <td>00779d9d-7264-5704-a71d-e6d1849cb4b7</td>\n",
       "      <td>1</td>\n",
       "      <td>133.333333</td>\n",
       "      <td>133.333333</td>\n",
       "      <td>133.333333</td>\n",
       "      <td>1239.0</td>\n",
       "      <td>180.0</td>\n",
       "      <td>0.0</td>\n",
       "      <td>0.0</td>\n",
       "      <td>0.0</td>\n",
       "      <td>...</td>\n",
       "      <td>0</td>\n",
       "      <td>0</td>\n",
       "      <td>0</td>\n",
       "      <td>0</td>\n",
       "      <td>0</td>\n",
       "      <td>0</td>\n",
       "      <td>0</td>\n",
       "      <td>0</td>\n",
       "      <td>1</td>\n",
       "      <td>0</td>\n",
       "    </tr>\n",
       "    <tr>\n",
       "      <th>1117199</th>\n",
       "      <td>00779d9d-7264-5704-a71d-e6d1849cb4b7</td>\n",
       "      <td>1</td>\n",
       "      <td>140.000000</td>\n",
       "      <td>140.000000</td>\n",
       "      <td>140.000000</td>\n",
       "      <td>363.0</td>\n",
       "      <td>11.0</td>\n",
       "      <td>0.0</td>\n",
       "      <td>0.0</td>\n",
       "      <td>0.0</td>\n",
       "      <td>...</td>\n",
       "      <td>0</td>\n",
       "      <td>0</td>\n",
       "      <td>0</td>\n",
       "      <td>0</td>\n",
       "      <td>0</td>\n",
       "      <td>0</td>\n",
       "      <td>0</td>\n",
       "      <td>0</td>\n",
       "      <td>1</td>\n",
       "      <td>0</td>\n",
       "    </tr>\n",
       "    <tr>\n",
       "      <th>1117200</th>\n",
       "      <td>048f8764-c789-5003-9a67-a63d3d3f5062</td>\n",
       "      <td>1</td>\n",
       "      <td>65.000000</td>\n",
       "      <td>65.000000</td>\n",
       "      <td>65.000000</td>\n",
       "      <td>134.0</td>\n",
       "      <td>41.0</td>\n",
       "      <td>0.0</td>\n",
       "      <td>0.0</td>\n",
       "      <td>0.0</td>\n",
       "      <td>...</td>\n",
       "      <td>0</td>\n",
       "      <td>0</td>\n",
       "      <td>0</td>\n",
       "      <td>0</td>\n",
       "      <td>0</td>\n",
       "      <td>0</td>\n",
       "      <td>0</td>\n",
       "      <td>0</td>\n",
       "      <td>1</td>\n",
       "      <td>0</td>\n",
       "    </tr>\n",
       "  </tbody>\n",
       "</table>\n",
       "<p>1117201 rows × 276 columns</p>\n",
       "</div>"
      ]
     },
     "metadata": {},
     "execution_count": 25
    }
   ],
   "metadata": {}
  },
  {
   "cell_type": "code",
   "execution_count": 26,
   "source": [
    "X = master_dummies.drop(['listing_id','inquiry_count'],axis=1)\n",
    "Y = master_dummies['inquiry_count']"
   ],
   "outputs": [],
   "metadata": {}
  },
  {
   "cell_type": "code",
   "execution_count": 27,
   "source": [
    "X_train, X_test, y_train, y_test = train_test_split(X, Y, test_size=0.30, random_state=42)"
   ],
   "outputs": [],
   "metadata": {
    "slideshow": {
     "slide_type": "skip"
    }
   }
  },
  {
   "cell_type": "code",
   "execution_count": 28,
   "source": [
    "the_list = ['result_views','expose_views','adult_count','children_count','pets_count','length_stay','bathrooms','bedrooms','max_guests','living_area']"
   ],
   "outputs": [],
   "metadata": {
    "slideshow": {
     "slide_type": "skip"
    }
   }
  },
  {
   "cell_type": "code",
   "execution_count": 29,
   "source": [
    "# Scaling with MinMaxScaler\n",
    "scaler_norm = MinMaxScaler()\n",
    "X_train_scaled_norm = scaler_norm.fit_transform(X_train[the_list])\n",
    "X_test_scaled_norm = scaler_norm.transform(X_test[the_list])"
   ],
   "outputs": [],
   "metadata": {}
  },
  {
   "cell_type": "code",
   "execution_count": 30,
   "source": [
    "# Concatenating normalized columns \n",
    "X_train_preprocessed_norm = np.concatenate([X_train_scaled_norm, X_train.drop(the_list, axis=1)], axis=1)\n",
    "X_test_preprocessed_norm = np.concatenate([X_test_scaled_norm, X_test.drop(the_list, axis=1)], axis=1)"
   ],
   "outputs": [],
   "metadata": {}
  },
  {
   "cell_type": "code",
   "execution_count": 31,
   "source": [
    "X_train_preprocessed_norm.shape"
   ],
   "outputs": [
    {
     "output_type": "execute_result",
     "data": {
      "text/plain": [
       "(782040, 274)"
      ]
     },
     "metadata": {},
     "execution_count": 31
    }
   ],
   "metadata": {}
  },
  {
   "cell_type": "code",
   "execution_count": 32,
   "source": [
    "X_test_preprocessed_norm.shape"
   ],
   "outputs": [
    {
     "output_type": "execute_result",
     "data": {
      "text/plain": [
       "(335161, 274)"
      ]
     },
     "metadata": {},
     "execution_count": 32
    }
   ],
   "metadata": {}
  },
  {
   "cell_type": "markdown",
   "source": [
    "## Trainining the model and tracking with MLFlow"
   ],
   "metadata": {}
  },
  {
   "cell_type": "code",
   "execution_count": 33,
   "source": [
    "# setting the MLFlow connection and experiment\n",
    "\"\"\"mlflow.set_tracking_uri(TRACKING_URI)\n",
    "mlflow.set_experiment(EXPERIMENT_NAME)\n",
    "mlflow.start_run()\n",
    "run = mlflow.active_run()\"\"\""
   ],
   "outputs": [
    {
     "output_type": "execute_result",
     "data": {
      "text/plain": [
       "'mlflow.set_tracking_uri(TRACKING_URI)\\nmlflow.set_experiment(EXPERIMENT_NAME)\\nmlflow.start_run()\\nrun = mlflow.active_run()'"
      ]
     },
     "metadata": {},
     "execution_count": 33
    }
   ],
   "metadata": {
    "slideshow": {
     "slide_type": "slide"
    }
   }
  },
  {
   "cell_type": "code",
   "execution_count": null,
   "source": [
    "print(\"Active run_id: {}\".format(run.info.run_id))"
   ],
   "outputs": [],
   "metadata": {
    "slideshow": {
     "slide_type": "subslide"
    }
   }
  },
  {
   "cell_type": "code",
   "execution_count": 35,
   "source": [
    "master_dummies.isna().sum()"
   ],
   "outputs": [
    {
     "output_type": "execute_result",
     "data": {
      "text/plain": [
       "listing_id                         0\n",
       "inquiry_count                      0\n",
       "mean_price_per_day                 0\n",
       "max_price_per_day                  0\n",
       "min_price_per_day                  0\n",
       "                                  ..\n",
       "subregion_Überlinger See           0\n",
       "property_type_apartment            0\n",
       "property_type_bungalow             0\n",
       "property_type_holiday_apartment    0\n",
       "property_type_holiday_houses       0\n",
       "Length: 276, dtype: int64"
      ]
     },
     "metadata": {},
     "execution_count": 35
    }
   ],
   "metadata": {}
  },
  {
   "cell_type": "code",
   "execution_count": 36,
   "source": [
    "#training the model\n",
    "reg1 = LinearRegression().fit(X_train_preprocessed_norm, y_train)"
   ],
   "outputs": [],
   "metadata": {
    "slideshow": {
     "slide_type": "subslide"
    }
   }
  },
  {
   "cell_type": "code",
   "execution_count": 76,
   "source": [
    "y_train_pred = reg1.predict(X_train_preprocessed_norm)\n",
    "rmse_train = mean_squared_error(y_train, y_train_pred,squared=False)\n",
    "r2_train = r2_score(y_train, y_train_pred)\n",
    "print(rmse_train)\n",
    "print(r2_train)\n"
   ],
   "outputs": [
    {
     "output_type": "stream",
     "name": "stdout",
     "text": [
      "54.13583910847331\n",
      "0.6136130052970447\n"
     ]
    }
   ],
   "metadata": {
    "slideshow": {
     "slide_type": "subslide"
    }
   }
  },
  {
   "cell_type": "code",
   "execution_count": 38,
   "source": [
    "y_test_pred = reg1.predict(X_test_preprocessed_norm)\n",
    "rmse_test = mean_squared_error(y_test, y_test_pred,squared=False)\n",
    "r2_test = r2_score(y_test, y_test_pred)\n",
    "print(rmse_test)\n",
    "print(r2_test)"
   ],
   "outputs": [
    {
     "output_type": "stream",
     "name": "stdout",
     "text": [
      "53.77252341484805\n",
      "0.6101562352787913\n"
     ]
    }
   ],
   "metadata": {
    "slideshow": {
     "slide_type": "subslide"
    }
   }
  },
  {
   "cell_type": "code",
   "execution_count": 39,
   "source": [
    "mean_absolute_error(y_test, y_test_pred)"
   ],
   "outputs": [
    {
     "output_type": "execute_result",
     "data": {
      "text/plain": [
       "27.340102412747644"
      ]
     },
     "metadata": {},
     "execution_count": 39
    }
   ],
   "metadata": {}
  },
  {
   "cell_type": "code",
   "execution_count": 68,
   "source": [
    "print(cross_val_score(reg1, X, Y, cv=10, scoring='r2').mean())"
   ],
   "outputs": [
    {
     "output_type": "stream",
     "name": "stdout",
     "text": [
      "0.4570549862038587\n"
     ]
    }
   ],
   "metadata": {}
  },
  {
   "cell_type": "code",
   "execution_count": 94,
   "source": [
    "y_residual = y_test - y_test_pred"
   ],
   "outputs": [],
   "metadata": {}
  },
  {
   "cell_type": "code",
   "execution_count": null,
   "source": [
    "\"\"\"#Plot Our Actual and Predicted Values\n",
    "plt.plot(y_test, label=\"Residual\")\n",
    "plt.plot(y_test_pred)\n",
    "plt.xlabel('Predicted')\n",
    "plt.ylabel(\"Residual\")\n",
    "plt.grid(True)\n",
    "plt.show\"\"\"\n",
    "\n",
    "sns.scatterplot(x=X_train, y=y_rep, )"
   ],
   "outputs": [],
   "metadata": {}
  },
  {
   "cell_type": "code",
   "execution_count": 53,
   "source": [
    "plt.rcParams['agg.path.chunksize'] = 10000"
   ],
   "outputs": [],
   "metadata": {}
  },
  {
   "cell_type": "code",
   "execution_count": 107,
   "source": [],
   "outputs": [
    {
     "output_type": "error",
     "ename": "SyntaxError",
     "evalue": "invalid syntax (4276875615.py, line 1)",
     "traceback": [
      "\u001b[0;36m  File \u001b[0;32m\"/var/folders/f3/z2tpzycd57bfz6359zgkz9f00000gn/T/ipykernel_5700/4276875615.py\"\u001b[0;36m, line \u001b[0;32m1\u001b[0m\n\u001b[0;31m    sns.pairplot(xvars=y_test y=y_test_pred)\u001b[0m\n\u001b[0m                              ^\u001b[0m\n\u001b[0;31mSyntaxError\u001b[0m\u001b[0;31m:\u001b[0m invalid syntax\n"
     ]
    }
   ],
   "metadata": {}
  },
  {
   "cell_type": "code",
   "execution_count": 111,
   "source": [
    "sns.residplot(x=y_test, y=y_test_pred)"
   ],
   "outputs": [
    {
     "output_type": "execute_result",
     "data": {
      "text/plain": [
       "<AxesSubplot:xlabel='inquiry_count'>"
      ]
     },
     "metadata": {},
     "execution_count": 111
    },
    {
     "output_type": "display_data",
     "data": {
      "text/plain": [
       "<Figure size 432x288 with 1 Axes>"
      ],
      "image/png": "[encoded data removed]"
     },
     "metadata": {
      "needs_background": "light"
     }
    }
   ],
   "metadata": {}
  },
  {
   "cell_type": "code",
   "execution_count": 117,
   "source": [
    "\n",
    "plt.scatter(y=y_test, x=y_test_pred)\n",
    "plt.plot(y_test_pred, y_test_pred, color='orange')\n",
    "plt.xlabel('Actual')\n",
    "plt.ylabel('predicted')\n",
    "plt.title(f'Actual VS Predicted Inquiries')\n",
    "plt.show()\n"
   ],
   "outputs": [
    {
     "output_type": "display_data",
     "data": {
      "text/plain": [
       "<Figure size 432x288 with 1 Axes>"
      ],
      "image/png": "[encoded data removed]"
     },
     "metadata": {
      "needs_background": "light"
     }
    }
   ],
   "metadata": {}
  },
  {
   "cell_type": "code",
   "execution_count": 119,
   "source": [
    "plt.axhline(0, c=(.5, .5, .5), ls='--')\n",
    "plt.axvline(0, c=(.5, .5, .5), ls='--')\n",
    "plt.scatter(x=y_test_pred, y=y_residual)"
   ],
   "outputs": [
    {
     "output_type": "execute_result",
     "data": {
      "text/plain": [
       "<matplotlib.collections.PathCollection at 0x131aa2f70>"
      ]
     },
     "metadata": {},
     "execution_count": 119
    },
    {
     "output_type": "display_data",
     "data": {
      "text/plain": [
       "<Figure size 432x288 with 1 Axes>"
      ],
      "image/png": "[encoded data removed]"
     },
     "metadata": {
      "needs_background": "light"
     }
    }
   ],
   "metadata": {}
  },
  {
   "cell_type": "code",
   "execution_count": 82,
   "source": [
    "sns.displot(y_residual)"
   ],
   "outputs": [
    {
     "output_type": "execute_result",
     "data": {
      "text/plain": [
       "<seaborn.axisgrid.FacetGrid at 0x1347f7a60>"
      ]
     },
     "metadata": {},
     "execution_count": 82
    },
    {
     "output_type": "display_data",
     "data": {
      "text/plain": [
       "<Figure size 360x360 with 1 Axes>"
      ],
      "image/png": "[encoded data removed]"
     },
     "metadata": {
      "needs_background": "light"
     }
    }
   ],
   "metadata": {}
  },
  {
   "cell_type": "code",
   "execution_count": null,
   "source": [
    "params = {\n",
    "      \"train_test_split\": 30,\n",
    "      \"normalized data\": 'yes',\n",
    "      \"2019 and 2020 data\": \"2019 and 2020 data\", \n",
    "      \"metric\": 'rmse', 'r2'\n",
    "      \"cross_val_score\": \"yes\", \"no\"\n",
    "  }"
   ],
   "outputs": [],
   "metadata": {
    "slideshow": {
     "slide_type": "slide"
    }
   }
  },
  {
   "cell_type": "code",
   "execution_count": null,
   "source": [
    "\"\"\"mlflow.log_params(params)\n",
    "mlflow.set_tag(\"running_from_jupyter\", \"baseline model 2019\")\n",
    "mlflow.log_metric(\"train -\" + \"RMSE\", rmse_train)\n",
    "mlflow.log_metric(\"test -\" + \"RMSE\", rmse_test)\n",
    "# mlflow.log_artifact(\"../models\")\n",
    "# mlflow.sklearn.log_model(reg, \"model\")\n",
    "mlflow.end_run()\"\"\""
   ],
   "outputs": [],
   "metadata": {
    "slideshow": {
     "slide_type": "slide"
    }
   }
  },
  {
   "cell_type": "code",
   "execution_count": null,
   "source": [
    "\"\"\"mlflow.get_run(run_id=run.info.run_id)\"\"\""
   ],
   "outputs": [],
   "metadata": {
    "slideshow": {
     "slide_type": "subslide"
    }
   }
  },
  {
   "cell_type": "markdown",
   "source": [
    "## Checking the experiments\n",
    "\n",
    "while the next cell is running you will not be able to run other cells in the notebook"
   ],
   "metadata": {}
  },
  {
   "cell_type": "code",
   "execution_count": null,
   "source": [
    "#!mlflow ui"
   ],
   "outputs": [],
   "metadata": {
    "slideshow": {
     "slide_type": "slide"
    }
   }
  }
 ],
 "metadata": {
  "kernelspec": {
   "name": "python3",
   "display_name": "Python 3.8.5 64-bit ('.venv': venv)"
  },
  "language_info": {
   "codemirror_mode": {
    "name": "ipython",
    "version": 3
   },
   "file_extension": ".py",
   "mimetype": "text/x-python",
   "name": "python",
   "nbconvert_exporter": "python",
   "pygments_lexer": "ipython3",
   "version": "3.8.5"
  },
  "metadata": {
   "interpreter": {
    "hash": "aee8b7b246df8f9039afb4144a1f6fd8d2ca17a180786b69acc140d282b71a49"
   }
  },
  "interpreter": {
   "hash": "3fd22edfe25832d446c332425401e3196937690f846d01f80d16cc13753e72c7"
  }
 },
 "nbformat": 4,
 "nbformat_minor": 4
}